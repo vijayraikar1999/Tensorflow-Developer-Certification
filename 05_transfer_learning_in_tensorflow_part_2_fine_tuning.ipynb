{
  "nbformat": 4,
  "nbformat_minor": 0,
  "metadata": {
    "colab": {
      "name": "05_transfer_learning_in_tensorflow_part-2_fine_tuning.ipynb",
      "provenance": [],
      "collapsed_sections": []
    },
    "kernelspec": {
      "name": "python3",
      "display_name": "Python 3"
    },
    "language_info": {
      "name": "python"
    },
    "accelerator": "GPU"
  },
  "cells": [
    {
      "cell_type": "markdown",
      "metadata": {
        "id": "dlD9QmQywzTD"
      },
      "source": [
        "# Transfer Learning with TensorFlow Part 2: Fine-tuning\n",
        "\n",
        "In previous notebook, we covered transfer learning feature extraction, now it's time to learn about a new kind of a Transfer Learning : Fine-tuning"
      ]
    },
    {
      "cell_type": "code",
      "metadata": {
        "colab": {
          "base_uri": "https://localhost:8080/"
        },
        "id": "u-ghqcb80me0",
        "outputId": "f682f149-1829-4416-f967-e76e47719438"
      },
      "source": [
        "!nvidia-smi"
      ],
      "execution_count": null,
      "outputs": [
        {
          "output_type": "stream",
          "name": "stdout",
          "text": [
            "Fri Oct 15 22:40:52 2021       \n",
            "+-----------------------------------------------------------------------------+\n",
            "| NVIDIA-SMI 470.74       Driver Version: 460.32.03    CUDA Version: 11.2     |\n",
            "|-------------------------------+----------------------+----------------------+\n",
            "| GPU  Name        Persistence-M| Bus-Id        Disp.A | Volatile Uncorr. ECC |\n",
            "| Fan  Temp  Perf  Pwr:Usage/Cap|         Memory-Usage | GPU-Util  Compute M. |\n",
            "|                               |                      |               MIG M. |\n",
            "|===============================+======================+======================|\n",
            "|   0  Tesla K80           Off  | 00000000:00:04.0 Off |                    0 |\n",
            "| N/A   47C    P8    31W / 149W |      0MiB / 11441MiB |      0%      Default |\n",
            "|                               |                      |                  N/A |\n",
            "+-------------------------------+----------------------+----------------------+\n",
            "                                                                               \n",
            "+-----------------------------------------------------------------------------+\n",
            "| Processes:                                                                  |\n",
            "|  GPU   GI   CI        PID   Type   Process name                  GPU Memory |\n",
            "|        ID   ID                                                   Usage      |\n",
            "|=============================================================================|\n",
            "|  No running processes found                                                 |\n",
            "+-----------------------------------------------------------------------------+\n"
          ]
        }
      ]
    },
    {
      "cell_type": "markdown",
      "metadata": {
        "id": "rI4qehFF0rs4"
      },
      "source": [
        "## Creating Helper functions\n",
        "\n",
        "In previous notebooks, we have covered a bunch of helper functions, now we could rewrite them all, however this is tidious.\n",
        "\n",
        "So it's a good idea to put functions you will want to use again in a script you can download and import into your notebooks.\n",
        "\n",
        "We have done this for some of our functions we have used previously here: https://raw.githubusercontent.com/mrdbourke/tensorflow-deep-learning/main/extras/helper_functions.py"
      ]
    },
    {
      "cell_type": "code",
      "metadata": {
        "colab": {
          "base_uri": "https://localhost:8080/"
        },
        "id": "L62Kn7gL1X7c",
        "outputId": "75f85c1e-9ea2-4d02-e15b-041318c58eb3"
      },
      "source": [
        "!wget https://raw.githubusercontent.com/mrdbourke/tensorflow-deep-learning/main/extras/helper_functions.py"
      ],
      "execution_count": null,
      "outputs": [
        {
          "output_type": "stream",
          "name": "stdout",
          "text": [
            "--2021-10-15 22:40:52--  https://raw.githubusercontent.com/mrdbourke/tensorflow-deep-learning/main/extras/helper_functions.py\n",
            "Resolving raw.githubusercontent.com (raw.githubusercontent.com)... 185.199.108.133, 185.199.109.133, 185.199.110.133, ...\n",
            "Connecting to raw.githubusercontent.com (raw.githubusercontent.com)|185.199.108.133|:443... connected.\n",
            "HTTP request sent, awaiting response... 200 OK\n",
            "Length: 10246 (10K) [text/plain]\n",
            "Saving to: ‘helper_functions.py’\n",
            "\n",
            "helper_functions.py 100%[===================>]  10.01K  --.-KB/s    in 0s      \n",
            "\n",
            "2021-10-15 22:40:52 (69.8 MB/s) - ‘helper_functions.py’ saved [10246/10246]\n",
            "\n"
          ]
        }
      ]
    },
    {
      "cell_type": "code",
      "metadata": {
        "id": "B6CYjX9f1Z06"
      },
      "source": [
        "# Import helper functions we are going to use in this notebook\n",
        "from helper_functions import create_tensorboard_callback, plot_loss_curves, unzip_data, walk_through_dir"
      ],
      "execution_count": null,
      "outputs": []
    },
    {
      "cell_type": "markdown",
      "metadata": {
        "id": "H9NYmYk_2N40"
      },
      "source": [
        "**Note:** If you are running this notebook in Google colab, when it times out colab will delete all the donwloaded fies.\n",
        "\n"
      ]
    },
    {
      "cell_type": "markdown",
      "metadata": {
        "id": "eBjqWfjO2f5R"
      },
      "source": [
        "## Let's get some data\n",
        "\n",
        "This time we are going to se how we can use the pretrained models within `tf.kreas.applications` and apply them to our own problem (recognizing images of foods.)"
      ]
    },
    {
      "cell_type": "code",
      "metadata": {
        "colab": {
          "base_uri": "https://localhost:8080/"
        },
        "id": "Rw-3XRjK9v6G",
        "outputId": "af00d657-3c92-4bb0-9d97-6a11f6e7802e"
      },
      "source": [
        "!wget https://storage.googleapis.com/ztm_tf_course/food_vision/10_food_classes_10_percent.zip\n",
        "\n",
        "unzip_data('10_food_classes_10_percent.zip')"
      ],
      "execution_count": null,
      "outputs": [
        {
          "output_type": "stream",
          "name": "stdout",
          "text": [
            "--2021-10-15 22:40:55--  https://storage.googleapis.com/ztm_tf_course/food_vision/10_food_classes_10_percent.zip\n",
            "Resolving storage.googleapis.com (storage.googleapis.com)... 66.102.1.128, 142.251.5.128, 74.125.206.128, ...\n",
            "Connecting to storage.googleapis.com (storage.googleapis.com)|66.102.1.128|:443... connected.\n",
            "HTTP request sent, awaiting response... 200 OK\n",
            "Length: 168546183 (161M) [application/zip]\n",
            "Saving to: ‘10_food_classes_10_percent.zip’\n",
            "\n",
            "10_food_classes_10_ 100%[===================>] 160.74M  52.1MB/s    in 3.1s    \n",
            "\n",
            "2021-10-15 22:40:59 (52.1 MB/s) - ‘10_food_classes_10_percent.zip’ saved [168546183/168546183]\n",
            "\n"
          ]
        }
      ]
    },
    {
      "cell_type": "code",
      "metadata": {
        "colab": {
          "base_uri": "https://localhost:8080/"
        },
        "id": "ccXpexXo-aPd",
        "outputId": "f2f51812-c87a-46df-c20b-1e747ab9dbe5"
      },
      "source": [
        "# Check out how many images and subdirectories are in our dataset\n",
        "walk_through_dir('10_food_classes_10_percent')"
      ],
      "execution_count": null,
      "outputs": [
        {
          "output_type": "stream",
          "name": "stdout",
          "text": [
            "There are 2 directories and 0 images in '10_food_classes_10_percent'.\n",
            "There are 10 directories and 0 images in '10_food_classes_10_percent/train'.\n",
            "There are 0 directories and 75 images in '10_food_classes_10_percent/train/grilled_salmon'.\n",
            "There are 0 directories and 75 images in '10_food_classes_10_percent/train/sushi'.\n",
            "There are 0 directories and 75 images in '10_food_classes_10_percent/train/hamburger'.\n",
            "There are 0 directories and 75 images in '10_food_classes_10_percent/train/chicken_curry'.\n",
            "There are 0 directories and 75 images in '10_food_classes_10_percent/train/pizza'.\n",
            "There are 0 directories and 75 images in '10_food_classes_10_percent/train/chicken_wings'.\n",
            "There are 0 directories and 75 images in '10_food_classes_10_percent/train/steak'.\n",
            "There are 0 directories and 75 images in '10_food_classes_10_percent/train/ramen'.\n",
            "There are 0 directories and 75 images in '10_food_classes_10_percent/train/ice_cream'.\n",
            "There are 0 directories and 75 images in '10_food_classes_10_percent/train/fried_rice'.\n",
            "There are 10 directories and 0 images in '10_food_classes_10_percent/test'.\n",
            "There are 0 directories and 250 images in '10_food_classes_10_percent/test/grilled_salmon'.\n",
            "There are 0 directories and 250 images in '10_food_classes_10_percent/test/sushi'.\n",
            "There are 0 directories and 250 images in '10_food_classes_10_percent/test/hamburger'.\n",
            "There are 0 directories and 250 images in '10_food_classes_10_percent/test/chicken_curry'.\n",
            "There are 0 directories and 250 images in '10_food_classes_10_percent/test/pizza'.\n",
            "There are 0 directories and 250 images in '10_food_classes_10_percent/test/chicken_wings'.\n",
            "There are 0 directories and 250 images in '10_food_classes_10_percent/test/steak'.\n",
            "There are 0 directories and 250 images in '10_food_classes_10_percent/test/ramen'.\n",
            "There are 0 directories and 250 images in '10_food_classes_10_percent/test/ice_cream'.\n",
            "There are 0 directories and 250 images in '10_food_classes_10_percent/test/fried_rice'.\n"
          ]
        }
      ]
    },
    {
      "cell_type": "code",
      "metadata": {
        "id": "1Qcurq66-nLI"
      },
      "source": [
        "# Create training and test directories paths\n",
        "train_dir = '10_food_classes_10_percent/train'\n",
        "test_dir = '10_food_classes_10_percent/test'\n"
      ],
      "execution_count": null,
      "outputs": []
    },
    {
      "cell_type": "code",
      "metadata": {
        "colab": {
          "base_uri": "https://localhost:8080/"
        },
        "id": "6TEe6N50-83g",
        "outputId": "a43ff508-298f-4be6-c936-172489a9d90e"
      },
      "source": [
        "import tensorflow as tf\n",
        "\n",
        "IMG_SIZE = (224, 224)\n",
        "BATCH_SIZE = 32\n",
        "train_data_10_percent = tf.keras.preprocessing.image_dataset_from_directory(directory=train_dir,\n",
        "                                                                            image_size=IMG_SIZE,\n",
        "                                                                            label_mode='categorical',\n",
        "                                                                            batch_size=BATCH_SIZE)\n",
        "\n",
        "test_data = tf.keras.preprocessing.image_dataset_from_directory(directory=test_dir,\n",
        "                                                                image_size=IMG_SIZE,\n",
        "                                                                label_mode='categorical',\n",
        "                                                                batch_size=BATCH_SIZE)"
      ],
      "execution_count": null,
      "outputs": [
        {
          "output_type": "stream",
          "name": "stdout",
          "text": [
            "Found 750 files belonging to 10 classes.\n",
            "Found 2500 files belonging to 10 classes.\n"
          ]
        }
      ]
    },
    {
      "cell_type": "code",
      "metadata": {
        "colab": {
          "base_uri": "https://localhost:8080/"
        },
        "id": "K6c7U8XOAHUI",
        "outputId": "36f7e436-3a05-422e-895d-e82df58cd406"
      },
      "source": [
        "train_data_10_percent"
      ],
      "execution_count": null,
      "outputs": [
        {
          "output_type": "execute_result",
          "data": {
            "text/plain": [
              "<BatchDataset shapes: ((None, 224, 224, 3), (None, 10)), types: (tf.float32, tf.float32)>"
            ]
          },
          "metadata": {},
          "execution_count": 8
        }
      ]
    },
    {
      "cell_type": "code",
      "metadata": {
        "colab": {
          "base_uri": "https://localhost:8080/"
        },
        "id": "a9tpXv2tAXso",
        "outputId": "0807ad77-d4a7-4758-9448-e092c766385c"
      },
      "source": [
        "# Check out the class names of our dataset\n",
        "train_data_10_percent.class_names"
      ],
      "execution_count": null,
      "outputs": [
        {
          "output_type": "execute_result",
          "data": {
            "text/plain": [
              "['chicken_curry',\n",
              " 'chicken_wings',\n",
              " 'fried_rice',\n",
              " 'grilled_salmon',\n",
              " 'hamburger',\n",
              " 'ice_cream',\n",
              " 'pizza',\n",
              " 'ramen',\n",
              " 'steak',\n",
              " 'sushi']"
            ]
          },
          "metadata": {},
          "execution_count": 9
        }
      ]
    },
    {
      "cell_type": "code",
      "metadata": {
        "colab": {
          "base_uri": "https://localhost:8080/"
        },
        "id": "uddyRQJeAs-d",
        "outputId": "b3cddfba-5bd3-4c65-d9cf-d8768bd78b8a"
      },
      "source": [
        "# See an example of batches of data\n",
        "for images, labels in train_data_10_percent.take(1):\n",
        "  print(images, labels)"
      ],
      "execution_count": null,
      "outputs": [
        {
          "output_type": "stream",
          "name": "stdout",
          "text": [
            "tf.Tensor(\n",
            "[[[[3.16887760e+01 7.68877554e+00 6.40306091e+00]\n",
            "   [2.86122456e+01 7.47448969e+00 3.23469329e+00]\n",
            "   [3.21836739e+01 1.11836739e+01 6.74489784e+00]\n",
            "   ...\n",
            "   [8.79590321e+00 5.79590273e+00 7.95902848e-01]\n",
            "   [7.00000000e+00 6.00000000e+00 2.00000000e+00]\n",
            "   [5.51525879e+00 4.51525879e+00 6.42822266e-01]]\n",
            "\n",
            "  [[3.06632652e+01 6.59183598e+00 3.31631392e-01]\n",
            "   [3.13622437e+01 7.42346764e+00 5.66324413e-01]\n",
            "   [3.15510197e+01 9.47959328e+00 1.98979780e-01]\n",
            "   ...\n",
            "   [8.80104065e+00 5.80104065e+00 8.01040590e-01]\n",
            "   [5.00508976e+00 4.00508976e+00 7.14282990e-02]\n",
            "   [6.35717773e+00 5.35717773e+00 1.35717773e+00]]\n",
            "\n",
            "  [[3.04948978e+01 9.56632805e+00 7.65306503e-02]\n",
            "   [3.62449036e+01 1.76734753e+01 4.25510550e+00]\n",
            "   [5.20561295e+01 3.41734810e+01 1.87908287e+01]\n",
            "   ...\n",
            "   [9.04593563e+00 5.42857170e+00 1.57147217e+00]\n",
            "   [5.64285755e+00 4.64285755e+00 4.28571701e-01]\n",
            "   [6.13774776e+00 5.13774776e+00 9.23461854e-01]]\n",
            "\n",
            "  ...\n",
            "\n",
            "  [[2.41183746e+02 2.35540955e+02 1.97892960e+02]\n",
            "   [2.14593765e+02 2.05649887e+02 1.72879440e+02]\n",
            "   [7.46644440e+01 6.48786926e+01 4.13632965e+01]\n",
            "   ...\n",
            "   [2.48540848e+02 2.42566254e+02 2.25545761e+02]\n",
            "   [2.44101929e+02 2.36316193e+02 2.15943680e+02]\n",
            "   [2.35367111e+02 2.25009903e+02 2.03652695e+02]]\n",
            "\n",
            "  [[2.46045929e+02 2.42045929e+02 2.05852066e+02]\n",
            "   [2.41428726e+02 2.35428726e+02 1.99428726e+02]\n",
            "   [2.30229630e+02 2.21301071e+02 1.88484711e+02]\n",
            "   ...\n",
            "   [2.36112091e+02 2.25652817e+02 2.03739502e+02]\n",
            "   [2.25015121e+02 2.10867126e+02 1.84790588e+02]\n",
            "   [2.06453156e+02 1.90381714e+02 1.64187790e+02]]\n",
            "\n",
            "  [[2.47336777e+02 2.44336777e+02 2.10051056e+02]\n",
            "   [2.42796036e+02 2.38796036e+02 2.01515396e+02]\n",
            "   [2.48295792e+02 2.42729477e+02 2.02714142e+02]\n",
            "   ...\n",
            "   [2.01723022e+02 1.87590256e+02 1.62574890e+02]\n",
            "   [1.49951477e+02 1.31813614e+02 1.04002396e+02]\n",
            "   [8.72167892e+01 6.75024338e+01 3.78342323e+01]]]\n",
            "\n",
            "\n",
            " [[[1.55642853e+02 1.55642853e+02 1.31642853e+02]\n",
            "   [1.59168365e+02 1.59168365e+02 1.35168365e+02]\n",
            "   [1.59714294e+02 1.59714294e+02 1.35714294e+02]\n",
            "   ...\n",
            "   [1.00000000e+00 0.00000000e+00 3.10000000e+01]\n",
            "   [1.00000000e+00 0.00000000e+00 3.10000000e+01]\n",
            "   [1.00000000e+00 0.00000000e+00 3.10000000e+01]]\n",
            "\n",
            "  [[1.55520416e+02 1.52525513e+02 1.31857132e+02]\n",
            "   [1.56346939e+02 1.54147964e+02 1.33214294e+02]\n",
            "   [1.57683670e+02 1.55086746e+02 1.34255096e+02]\n",
            "   ...\n",
            "   [1.00000000e+00 0.00000000e+00 3.10000000e+01]\n",
            "   [1.00000000e+00 0.00000000e+00 3.10000000e+01]\n",
            "   [1.00000000e+00 0.00000000e+00 3.10000000e+01]]\n",
            "\n",
            "  [[1.42000000e+02 1.34571426e+02 1.17214287e+02]\n",
            "   [1.46943878e+02 1.39515305e+02 1.22158165e+02]\n",
            "   [1.53617340e+02 1.46188782e+02 1.28831635e+02]\n",
            "   ...\n",
            "   [1.00000000e+00 0.00000000e+00 3.10000000e+01]\n",
            "   [1.00000000e+00 0.00000000e+00 3.10000000e+01]\n",
            "   [1.00000000e+00 0.00000000e+00 3.10000000e+01]]\n",
            "\n",
            "  ...\n",
            "\n",
            "  [[6.10000000e+01 1.00000000e+00 2.70000000e+01]\n",
            "   [6.36990051e+01 7.44916797e-01 2.77296124e+01]\n",
            "   [6.76428604e+01 1.00000000e+00 2.82142868e+01]\n",
            "   ...\n",
            "   [8.76173782e+01 8.19745865e+01 1.04188850e+02]\n",
            "   [7.78315964e+01 7.48315964e+01 9.58315964e+01]\n",
            "   [7.90051193e+01 7.60051193e+01 9.70051193e+01]]\n",
            "\n",
            "  [[6.40000000e+01 1.00000000e+00 2.80000000e+01]\n",
            "   [6.50663376e+01 9.33661282e-01 2.80000000e+01]\n",
            "   [7.07296143e+01 7.85714149e-01 2.90153084e+01]\n",
            "   ...\n",
            "   [8.66172714e+01 8.09744797e+01 1.03188744e+02]\n",
            "   [8.18622208e+01 7.88622208e+01 9.98622208e+01]\n",
            "   [7.54030075e+01 7.24030075e+01 9.34030075e+01]]\n",
            "\n",
            "  [[6.50000000e+01 1.00000000e+00 2.80000000e+01]\n",
            "   [6.69285736e+01 9.28571701e-01 2.89285717e+01]\n",
            "   [7.24184265e+01 5.05074561e-01 2.92142868e+01]\n",
            "   ...\n",
            "   [9.03571167e+01 8.47143250e+01 1.06928589e+02]\n",
            "   [8.05458603e+01 7.75458603e+01 9.85458603e+01]\n",
            "   [7.90255508e+01 7.60255508e+01 9.70255508e+01]]]\n",
            "\n",
            "\n",
            " [[[1.10326530e+02 1.11785721e+02 1.16785721e+02]\n",
            "   [1.08882652e+02 1.13739799e+02 1.17479591e+02]\n",
            "   [1.13209183e+02 1.23209183e+02 1.24209183e+02]\n",
            "   ...\n",
            "   [8.44898529e+01 8.99183807e+01 9.59183807e+01]\n",
            "   [8.24030151e+01 8.54030151e+01 9.24030151e+01]\n",
            "   [7.51836319e+01 7.81836319e+01 8.51836319e+01]]\n",
            "\n",
            "  [[1.17642860e+02 1.21642860e+02 1.24551025e+02]\n",
            "   [1.16209183e+02 1.21209183e+02 1.24010201e+02]\n",
            "   [1.16785713e+02 1.26785713e+02 1.25785713e+02]\n",
            "   ...\n",
            "   [8.58011246e+01 9.12296524e+01 9.72296524e+01]\n",
            "   [7.97142181e+01 8.27142181e+01 8.97142181e+01]\n",
            "   [7.29489746e+01 7.59489746e+01 8.29489746e+01]]\n",
            "\n",
            "  [[1.18428574e+02 1.22428574e+02 1.22571426e+02]\n",
            "   [1.17857140e+02 1.23841835e+02 1.22428574e+02]\n",
            "   [1.15663261e+02 1.26448975e+02 1.23091835e+02]\n",
            "   ...\n",
            "   [8.40306320e+01 9.08622360e+01 9.63571854e+01]\n",
            "   [8.46836319e+01 8.92550583e+01 9.54693451e+01]\n",
            "   [7.61580124e+01 7.91580124e+01 8.61580124e+01]]\n",
            "\n",
            "  ...\n",
            "\n",
            "  [[1.22234718e+02 1.19806129e+02 1.08020424e+02]\n",
            "   [8.54287643e+01 8.14287643e+01 7.04287643e+01]\n",
            "   [8.83419113e+01 8.05306625e+01 7.08674088e+01]\n",
            "   ...\n",
            "   [9.10409927e+01 9.36837845e+01 9.00409317e+01]\n",
            "   [9.15357285e+01 9.17500229e+01 8.91071396e+01]\n",
            "   [9.71073990e+01 9.61073990e+01 9.36788101e+01]]\n",
            "\n",
            "  [[1.28852127e+02 1.24852127e+02 1.13852127e+02]\n",
            "   [1.29699478e+02 1.23112694e+02 1.12974953e+02]\n",
            "   [9.74898529e+01 8.82755661e+01 7.90612793e+01]\n",
            "   ...\n",
            "   [1.03627640e+02 1.06270432e+02 1.01056168e+02]\n",
            "   [9.62092819e+01 9.72092819e+01 9.22092819e+01]\n",
            "   [1.01341644e+02 1.00341644e+02 9.63416443e+01]]\n",
            "\n",
            "  [[1.30974472e+02 1.26974472e+02 1.15974472e+02]\n",
            "   [1.28255096e+02 1.21255096e+02 1.11255096e+02]\n",
            "   [9.67448730e+01 8.75305862e+01 7.83162994e+01]\n",
            "   ...\n",
            "   [1.04097038e+02 1.07097038e+02 1.00097038e+02]\n",
            "   [1.04607010e+02 1.05607010e+02 9.96070099e+01]\n",
            "   [9.66633224e+01 9.56633224e+01 9.06633224e+01]]]\n",
            "\n",
            "\n",
            " ...\n",
            "\n",
            "\n",
            " [[[1.20783485e+02 1.05252235e+02 8.65178604e+01]\n",
            "   [1.21426346e+02 1.07895096e+02 9.03638458e+01]\n",
            "   [1.22799103e+02 1.09907364e+02 9.37366028e+01]\n",
            "   ...\n",
            "   [2.10000000e+02 1.80785736e+02 1.22357208e+02]\n",
            "   [2.13806976e+02 1.86735535e+02 1.33561493e+02]\n",
            "   [2.22914154e+02 1.96651855e+02 1.47834961e+02]]\n",
            "\n",
            "  [[1.28901779e+02 1.08714287e+02 8.99174118e+01]\n",
            "   [1.25390625e+02 1.08000000e+02 8.82031250e+01]\n",
            "   [1.30143967e+02 1.13022324e+02 9.31919632e+01]\n",
            "   ...\n",
            "   [2.10341476e+02 1.80159607e+02 1.20649551e+02]\n",
            "   [2.09781281e+02 1.82766769e+02 1.27953186e+02]\n",
            "   [2.15729980e+02 1.88136230e+02 1.38078217e+02]]\n",
            "\n",
            "  [[1.34283478e+02 1.08955360e+02 8.79709854e+01]\n",
            "   [1.37154022e+02 1.13841522e+02 9.08415222e+01]\n",
            "   [1.38895096e+02 1.16453125e+02 9.10256653e+01]\n",
            "   ...\n",
            "   [2.10686340e+02 1.79214264e+02 1.21785736e+02]\n",
            "   [2.09447571e+02 1.79743317e+02 1.23511192e+02]\n",
            "   [2.12269028e+02 1.82597153e+02 1.29284653e+02]]\n",
            "\n",
            "  ...\n",
            "\n",
            "  [[1.97117188e+02 1.45188614e+02 7.55457611e+01]\n",
            "   [1.96062500e+02 1.35309143e+02 5.81953125e+01]\n",
            "   [2.00129471e+02 1.30856033e+02 4.47555809e+01]\n",
            "   ...\n",
            "   [7.76985855e+01 7.27108612e+01 6.35556412e+01]\n",
            "   [6.52690887e+01 6.16128426e+01 5.36932144e+01]\n",
            "   [7.01930389e+01 7.05367889e+01 6.40011139e+01]]\n",
            "\n",
            "  [[1.99478790e+02 1.48014511e+02 7.86473236e+01]\n",
            "   [2.00217636e+02 1.39098206e+02 6.21093750e+01]\n",
            "   [2.03861603e+02 1.34180801e+02 4.79118309e+01]\n",
            "   ...\n",
            "   [6.74361115e+01 6.04583931e+01 5.13880043e+01]\n",
            "   [6.27344322e+01 5.95458183e+01 5.07177238e+01]\n",
            "   [6.83786163e+01 6.91174774e+01 6.22961006e+01]]\n",
            "\n",
            "  [[2.02353790e+02 1.53445312e+02 8.63660736e+01]\n",
            "   [2.01753342e+02 1.44436371e+02 6.74899521e+01]\n",
            "   [2.05734375e+02 1.38931931e+02 5.28694191e+01]\n",
            "   ...\n",
            "   [6.08838387e+01 5.14206429e+01 4.24775543e+01]\n",
            "   [7.34697952e+01 6.73905716e+01 5.94107132e+01]\n",
            "   [6.81262360e+01 6.58997650e+01 6.26308174e+01]]]\n",
            "\n",
            "\n",
            " [[[2.02459183e+02 1.87459183e+02 1.56459183e+02]\n",
            "   [2.05214279e+02 1.90811218e+02 1.56617340e+02]\n",
            "   [2.05071426e+02 1.92071426e+02 1.57994888e+02]\n",
            "   ...\n",
            "   [6.77755661e+01 4.94847183e+01 5.42859316e+00]\n",
            "   [7.14489288e+01 4.88520012e+01 3.71423340e+00]\n",
            "   [7.50155411e+01 5.10155373e+01 3.84202361e+00]]\n",
            "\n",
            "  [[2.02877548e+02 1.87877548e+02 1.55683670e+02]\n",
            "   [2.01137756e+02 1.87132645e+02 1.50418365e+02]\n",
            "   [2.07841843e+02 1.94056122e+02 1.57841843e+02]\n",
            "   ...\n",
            "   [6.97857361e+01 5.12142639e+01 8.92857170e+00]\n",
            "   [7.18520126e+01 4.88571167e+01 6.56627369e+00]\n",
            "   [7.78829346e+01 5.38829346e+01 9.07674789e+00]]\n",
            "\n",
            "  [[2.00704086e+02 1.84704086e+02 1.50984695e+02]\n",
            "   [1.98729584e+02 1.84515305e+02 1.45229584e+02]\n",
            "   [2.04000000e+02 1.90494904e+02 1.48739792e+02]\n",
            "   ...\n",
            "   [6.96889038e+01 5.09031639e+01 1.09031649e+01]\n",
            "   [7.45713654e+01 5.25305405e+01 1.14437885e+01]\n",
            "   [7.37144623e+01 4.94236717e+01 7.36746597e+00]]\n",
            "\n",
            "  ...\n",
            "\n",
            "  [[2.11994965e+02 1.93637756e+02 1.60637756e+02]\n",
            "   [2.07913284e+02 1.89556076e+02 1.56556076e+02]\n",
            "   [2.09596924e+02 1.90596924e+02 1.57596924e+02]\n",
            "   ...\n",
            "   [2.37382614e+02 2.20382614e+02 2.01954086e+02]\n",
            "   [2.35413223e+02 2.18413223e+02 2.02413223e+02]\n",
            "   [2.36852097e+02 2.19066360e+02 2.04637833e+02]]\n",
            "\n",
            "  [[2.09974487e+02 1.90974487e+02 1.57974487e+02]\n",
            "   [2.09137787e+02 1.90137787e+02 1.57137787e+02]\n",
            "   [2.06127579e+02 1.86913300e+02 1.53913300e+02]\n",
            "   ...\n",
            "   [2.34214264e+02 2.17214264e+02 1.98785736e+02]\n",
            "   [2.33214325e+02 2.16214325e+02 2.00214325e+02]\n",
            "   [2.36000000e+02 2.18000000e+02 2.04000000e+02]]\n",
            "\n",
            "  [[2.02856934e+02 1.83856934e+02 1.50856934e+02]\n",
            "   [2.04453842e+02 1.85453842e+02 1.52453842e+02]\n",
            "   [2.05938644e+02 1.86724365e+02 1.53724365e+02]\n",
            "   ...\n",
            "   [2.32004990e+02 2.15004990e+02 1.96576462e+02]\n",
            "   [2.34688751e+02 2.17688751e+02 2.01688751e+02]\n",
            "   [2.33800888e+02 2.15800888e+02 2.01800888e+02]]]\n",
            "\n",
            "\n",
            " [[[1.51229584e+02 1.22285713e+02 7.49030609e+01]\n",
            "   [1.44239792e+02 1.17454086e+02 7.90051041e+01]\n",
            "   [1.32433670e+02 1.11362244e+02 8.41581650e+01]\n",
            "   ...\n",
            "   [1.95714073e+01 7.57140684e+00 7.57140684e+00]\n",
            "   [2.04285851e+01 6.42858458e+00 6.42858458e+00]\n",
            "   [2.20714626e+01 8.07146358e+00 8.07146358e+00]]\n",
            "\n",
            "  [[1.35663269e+02 1.15306122e+02 7.98775482e+01]\n",
            "   [1.27168365e+02 1.09602036e+02 8.08877563e+01]\n",
            "   [1.27903061e+02 1.13102043e+02 9.44336777e+01]\n",
            "   ...\n",
            "   [2.05867767e+01 7.01530457e+00 7.01530457e+00]\n",
            "   [2.19285717e+01 5.92857170e+00 6.92857170e+00]\n",
            "   [2.29285717e+01 6.92857170e+00 7.92857170e+00]]\n",
            "\n",
            "  [[1.23964287e+02 1.16821426e+02 9.87602005e+01]\n",
            "   [1.38469391e+02 1.32198990e+02 1.17612251e+02]\n",
            "   [1.49801025e+02 1.44086731e+02 1.35877563e+02]\n",
            "   ...\n",
            "   [2.16887932e+01 5.26022148e+00 5.26022148e+00]\n",
            "   [2.44285717e+01 6.00000000e+00 6.21428585e+00]\n",
            "   [2.52142868e+01 6.78571415e+00 7.00000000e+00]]\n",
            "\n",
            "  ...\n",
            "\n",
            "  [[2.03418388e+01 9.34183788e+00 5.34183836e+00]\n",
            "   [2.32041416e+01 1.22041416e+01 8.20414162e+00]\n",
            "   [2.10458698e+01 1.00458698e+01 8.04586983e+00]\n",
            "   ...\n",
            "   [5.25662537e+01 2.23519917e+01 2.01377277e+01]\n",
            "   [5.12142029e+01 2.17856750e+01 1.78570557e+01]\n",
            "   [5.70562057e+01 2.61327362e+01 2.09031448e+01]]\n",
            "\n",
            "  [[2.15204258e+01 1.05204248e+01 6.52042484e+00]\n",
            "   [2.18622589e+01 1.08622599e+01 6.86225986e+00]\n",
            "   [1.82143250e+01 7.21432495e+00 5.21432495e+00]\n",
            "   ...\n",
            "   [5.51734962e+01 2.71734982e+01 2.41734982e+01]\n",
            "   [5.07907791e+01 2.17907791e+01 1.77907791e+01]\n",
            "   [5.15204391e+01 2.05204372e+01 1.75204372e+01]]\n",
            "\n",
            "  [[2.00611401e+01 9.06114006e+00 5.18870354e+00]\n",
            "   [2.30714283e+01 1.20714283e+01 8.07142830e+00]\n",
            "   [2.42704544e+01 1.32704554e+01 1.12704554e+01]\n",
            "   ...\n",
            "   [4.66529694e+01 1.92957611e+01 1.60814972e+01]\n",
            "   [4.95051727e+01 1.95051708e+01 1.75051708e+01]\n",
            "   [5.20154915e+01 2.10154896e+01 1.80154896e+01]]]], shape=(32, 224, 224, 3), dtype=float32) tf.Tensor(\n",
            "[[1. 0. 0. 0. 0. 0. 0. 0. 0. 0.]\n",
            " [0. 1. 0. 0. 0. 0. 0. 0. 0. 0.]\n",
            " [0. 0. 1. 0. 0. 0. 0. 0. 0. 0.]\n",
            " [0. 0. 1. 0. 0. 0. 0. 0. 0. 0.]\n",
            " [0. 0. 0. 0. 1. 0. 0. 0. 0. 0.]\n",
            " [0. 0. 0. 0. 0. 0. 0. 0. 0. 1.]\n",
            " [0. 0. 0. 0. 1. 0. 0. 0. 0. 0.]\n",
            " [0. 0. 0. 0. 0. 0. 0. 0. 1. 0.]\n",
            " [0. 0. 0. 1. 0. 0. 0. 0. 0. 0.]\n",
            " [0. 0. 0. 0. 0. 0. 0. 0. 1. 0.]\n",
            " [0. 0. 0. 0. 0. 0. 0. 0. 0. 1.]\n",
            " [0. 0. 0. 0. 0. 0. 0. 0. 1. 0.]\n",
            " [0. 0. 0. 0. 0. 1. 0. 0. 0. 0.]\n",
            " [0. 0. 0. 0. 0. 1. 0. 0. 0. 0.]\n",
            " [0. 0. 0. 0. 0. 1. 0. 0. 0. 0.]\n",
            " [0. 0. 0. 1. 0. 0. 0. 0. 0. 0.]\n",
            " [0. 0. 0. 0. 0. 0. 0. 0. 1. 0.]\n",
            " [0. 0. 0. 0. 0. 0. 0. 1. 0. 0.]\n",
            " [0. 0. 0. 0. 0. 0. 0. 0. 1. 0.]\n",
            " [0. 0. 0. 0. 0. 0. 0. 1. 0. 0.]\n",
            " [0. 0. 0. 0. 0. 0. 1. 0. 0. 0.]\n",
            " [0. 1. 0. 0. 0. 0. 0. 0. 0. 0.]\n",
            " [0. 0. 0. 0. 0. 0. 0. 1. 0. 0.]\n",
            " [1. 0. 0. 0. 0. 0. 0. 0. 0. 0.]\n",
            " [0. 0. 0. 0. 0. 1. 0. 0. 0. 0.]\n",
            " [0. 0. 0. 0. 0. 0. 0. 0. 0. 1.]\n",
            " [0. 0. 0. 0. 0. 0. 0. 0. 0. 1.]\n",
            " [0. 0. 0. 0. 0. 0. 0. 0. 1. 0.]\n",
            " [0. 1. 0. 0. 0. 0. 0. 0. 0. 0.]\n",
            " [0. 0. 0. 0. 0. 0. 0. 0. 1. 0.]\n",
            " [0. 0. 0. 0. 0. 0. 0. 0. 1. 0.]\n",
            " [1. 0. 0. 0. 0. 0. 0. 0. 0. 0.]], shape=(32, 10), dtype=float32)\n"
          ]
        }
      ]
    },
    {
      "cell_type": "markdown",
      "metadata": {
        "id": "x7Z_W1YoBD9V"
      },
      "source": [
        "## Model 0: Building a transfer learning model using the Kreas Functional API\n",
        "\n",
        "The Sequential API is straight-forwardd"
      ]
    },
    {
      "cell_type": "code",
      "metadata": {
        "colab": {
          "base_uri": "https://localhost:8080/"
        },
        "id": "QgQhl--VDCCB",
        "outputId": "0cfb2463-b852-418c-f964-0aed205d8561"
      },
      "source": [
        "# 1. Create the base model with tf.keras.applications\n",
        "base_model = tf.keras.applications.EfficientNetB0(include_top=False)\n",
        "\n",
        "# 2. Freeze the base model (so the underlying pretrained patterns aren't updated for training)\n",
        "base_model.trainable = False\n",
        "\n",
        "# 3. Create inputs into our model\n",
        "inputs = tf.keras.layers.Input(shape=(224, 224, 3), name='input_layer')\n",
        "\n",
        "# 4. If using ResNet50V2 you will need to normalize inputs\n",
        "# x = tf.keras.layers.experimental.preprocessing.Rescaling(1./255)(inputs)\n",
        "\n",
        "# 5. Pass the inputs to the base_model\n",
        "x = base_model(inputs)\n",
        "print(f'Shape after passing inputs through base model: {x.shape}')\n",
        "\n",
        "# 6. Average pool the outputs of the base model (aggregate all the most important )\n",
        "x = tf.keras.layers.GlobalAveragePooling2D(name='global_average_pooling_layer')(x)\n",
        "print(f'Shape after GlobalAveragePooling2D: {x.shape}')\n",
        "\n",
        "# 7. Create the output activation layer\n",
        "outputs = tf.keras.layers.Dense(10, activation='softmax', name='output_layer')(x)\n",
        "\n",
        "# 8. Combine the inputs with the outputs into a model\n",
        "model_0 = tf.keras.Model(inputs, outputs)\n",
        "\n",
        "# 9. Compile the mode\n",
        "model_0.compile(loss='categorical_crossentropy',\n",
        "                optimizer=tf.keras.optimizers.Adam(),\n",
        "                metrics=['accuracy'])\n",
        "\n",
        "# 10. Fit the model and save it's history\n",
        "history_10_percent = model_0.fit(train_data_10_percent,\n",
        "                                 epochs=5,\n",
        "                                 steps_per_epoch=len(train_data_10_percent),\n",
        "                                 validation_data=test_data,\n",
        "                                 validation_steps=int(0.25 * len(test_data)),\n",
        "                                 callbacks=[create_tensorboard_callback(dir_name='fine-tuning',\n",
        "                                                                        experiment_name='10_percent_feature_extraction')])"
      ],
      "execution_count": null,
      "outputs": [
        {
          "output_type": "stream",
          "name": "stdout",
          "text": [
            "Downloading data from https://storage.googleapis.com/keras-applications/efficientnetb0_notop.h5\n",
            "16711680/16705208 [==============================] - 0s 0us/step\n",
            "16719872/16705208 [==============================] - 0s 0us/step\n",
            "Shape after passing inputs through base model: (None, 7, 7, 1280)\n",
            "Shape after GlobalAveragePooling2D: (None, 1280)\n",
            "Saving TensorBoard log files to: fine-tuning/10_percent_feature_extraction/20211015-224112\n",
            "Epoch 1/5\n"
          ]
        },
        {
          "output_type": "stream",
          "name": "stderr",
          "text": [
            "/usr/local/lib/python3.7/dist-packages/keras/utils/generic_utils.py:497: CustomMaskWarning: Custom mask layers require a config and must override get_config. When loading, the custom mask layer must be passed to the custom_objects argument.\n",
            "  category=CustomMaskWarning)\n"
          ]
        },
        {
          "output_type": "stream",
          "name": "stdout",
          "text": [
            "24/24 [==============================] - 46s 467ms/step - loss: 2.0032 - accuracy: 0.3267 - val_loss: 1.4143 - val_accuracy: 0.6875\n",
            "Epoch 2/5\n",
            "24/24 [==============================] - 7s 270ms/step - loss: 1.1872 - accuracy: 0.7360 - val_loss: 0.9271 - val_accuracy: 0.8026\n",
            "Epoch 3/5\n",
            "24/24 [==============================] - 7s 263ms/step - loss: 0.8623 - accuracy: 0.8040 - val_loss: 0.7504 - val_accuracy: 0.8273\n",
            "Epoch 4/5\n",
            "24/24 [==============================] - 9s 358ms/step - loss: 0.7025 - accuracy: 0.8400 - val_loss: 0.6385 - val_accuracy: 0.8520\n",
            "Epoch 5/5\n",
            "24/24 [==============================] - 7s 266ms/step - loss: 0.6116 - accuracy: 0.8600 - val_loss: 0.5696 - val_accuracy: 0.8470\n"
          ]
        }
      ]
    },
    {
      "cell_type": "code",
      "metadata": {
        "colab": {
          "base_uri": "https://localhost:8080/"
        },
        "id": "pf9aQudNGHI7",
        "outputId": "f4856f6c-2942-48e3-d3ec-402c8c7d815e"
      },
      "source": [
        "# Evaluate on the full test dataset\n",
        "model_0.evaluate(test_data)"
      ],
      "execution_count": null,
      "outputs": [
        {
          "output_type": "stream",
          "name": "stdout",
          "text": [
            "79/79 [==============================] - 11s 136ms/step - loss: 0.6137 - accuracy: 0.8384\n"
          ]
        },
        {
          "output_type": "execute_result",
          "data": {
            "text/plain": [
              "[0.6136655807495117, 0.8384000062942505]"
            ]
          },
          "metadata": {},
          "execution_count": 12
        }
      ]
    },
    {
      "cell_type": "code",
      "metadata": {
        "colab": {
          "base_uri": "https://localhost:8080/"
        },
        "id": "9YdYQeiOGiOf",
        "outputId": "1c530396-604e-49ce-e3b3-c2125f51d4a9"
      },
      "source": [
        "# Check the layers in our base model\n",
        "for layer_number, layer in enumerate(base_model.layers):\n",
        "  print(layer_number, layer.name)"
      ],
      "execution_count": null,
      "outputs": [
        {
          "output_type": "stream",
          "name": "stdout",
          "text": [
            "0 input_1\n",
            "1 rescaling\n",
            "2 normalization\n",
            "3 stem_conv_pad\n",
            "4 stem_conv\n",
            "5 stem_bn\n",
            "6 stem_activation\n",
            "7 block1a_dwconv\n",
            "8 block1a_bn\n",
            "9 block1a_activation\n",
            "10 block1a_se_squeeze\n",
            "11 block1a_se_reshape\n",
            "12 block1a_se_reduce\n",
            "13 block1a_se_expand\n",
            "14 block1a_se_excite\n",
            "15 block1a_project_conv\n",
            "16 block1a_project_bn\n",
            "17 block2a_expand_conv\n",
            "18 block2a_expand_bn\n",
            "19 block2a_expand_activation\n",
            "20 block2a_dwconv_pad\n",
            "21 block2a_dwconv\n",
            "22 block2a_bn\n",
            "23 block2a_activation\n",
            "24 block2a_se_squeeze\n",
            "25 block2a_se_reshape\n",
            "26 block2a_se_reduce\n",
            "27 block2a_se_expand\n",
            "28 block2a_se_excite\n",
            "29 block2a_project_conv\n",
            "30 block2a_project_bn\n",
            "31 block2b_expand_conv\n",
            "32 block2b_expand_bn\n",
            "33 block2b_expand_activation\n",
            "34 block2b_dwconv\n",
            "35 block2b_bn\n",
            "36 block2b_activation\n",
            "37 block2b_se_squeeze\n",
            "38 block2b_se_reshape\n",
            "39 block2b_se_reduce\n",
            "40 block2b_se_expand\n",
            "41 block2b_se_excite\n",
            "42 block2b_project_conv\n",
            "43 block2b_project_bn\n",
            "44 block2b_drop\n",
            "45 block2b_add\n",
            "46 block3a_expand_conv\n",
            "47 block3a_expand_bn\n",
            "48 block3a_expand_activation\n",
            "49 block3a_dwconv_pad\n",
            "50 block3a_dwconv\n",
            "51 block3a_bn\n",
            "52 block3a_activation\n",
            "53 block3a_se_squeeze\n",
            "54 block3a_se_reshape\n",
            "55 block3a_se_reduce\n",
            "56 block3a_se_expand\n",
            "57 block3a_se_excite\n",
            "58 block3a_project_conv\n",
            "59 block3a_project_bn\n",
            "60 block3b_expand_conv\n",
            "61 block3b_expand_bn\n",
            "62 block3b_expand_activation\n",
            "63 block3b_dwconv\n",
            "64 block3b_bn\n",
            "65 block3b_activation\n",
            "66 block3b_se_squeeze\n",
            "67 block3b_se_reshape\n",
            "68 block3b_se_reduce\n",
            "69 block3b_se_expand\n",
            "70 block3b_se_excite\n",
            "71 block3b_project_conv\n",
            "72 block3b_project_bn\n",
            "73 block3b_drop\n",
            "74 block3b_add\n",
            "75 block4a_expand_conv\n",
            "76 block4a_expand_bn\n",
            "77 block4a_expand_activation\n",
            "78 block4a_dwconv_pad\n",
            "79 block4a_dwconv\n",
            "80 block4a_bn\n",
            "81 block4a_activation\n",
            "82 block4a_se_squeeze\n",
            "83 block4a_se_reshape\n",
            "84 block4a_se_reduce\n",
            "85 block4a_se_expand\n",
            "86 block4a_se_excite\n",
            "87 block4a_project_conv\n",
            "88 block4a_project_bn\n",
            "89 block4b_expand_conv\n",
            "90 block4b_expand_bn\n",
            "91 block4b_expand_activation\n",
            "92 block4b_dwconv\n",
            "93 block4b_bn\n",
            "94 block4b_activation\n",
            "95 block4b_se_squeeze\n",
            "96 block4b_se_reshape\n",
            "97 block4b_se_reduce\n",
            "98 block4b_se_expand\n",
            "99 block4b_se_excite\n",
            "100 block4b_project_conv\n",
            "101 block4b_project_bn\n",
            "102 block4b_drop\n",
            "103 block4b_add\n",
            "104 block4c_expand_conv\n",
            "105 block4c_expand_bn\n",
            "106 block4c_expand_activation\n",
            "107 block4c_dwconv\n",
            "108 block4c_bn\n",
            "109 block4c_activation\n",
            "110 block4c_se_squeeze\n",
            "111 block4c_se_reshape\n",
            "112 block4c_se_reduce\n",
            "113 block4c_se_expand\n",
            "114 block4c_se_excite\n",
            "115 block4c_project_conv\n",
            "116 block4c_project_bn\n",
            "117 block4c_drop\n",
            "118 block4c_add\n",
            "119 block5a_expand_conv\n",
            "120 block5a_expand_bn\n",
            "121 block5a_expand_activation\n",
            "122 block5a_dwconv\n",
            "123 block5a_bn\n",
            "124 block5a_activation\n",
            "125 block5a_se_squeeze\n",
            "126 block5a_se_reshape\n",
            "127 block5a_se_reduce\n",
            "128 block5a_se_expand\n",
            "129 block5a_se_excite\n",
            "130 block5a_project_conv\n",
            "131 block5a_project_bn\n",
            "132 block5b_expand_conv\n",
            "133 block5b_expand_bn\n",
            "134 block5b_expand_activation\n",
            "135 block5b_dwconv\n",
            "136 block5b_bn\n",
            "137 block5b_activation\n",
            "138 block5b_se_squeeze\n",
            "139 block5b_se_reshape\n",
            "140 block5b_se_reduce\n",
            "141 block5b_se_expand\n",
            "142 block5b_se_excite\n",
            "143 block5b_project_conv\n",
            "144 block5b_project_bn\n",
            "145 block5b_drop\n",
            "146 block5b_add\n",
            "147 block5c_expand_conv\n",
            "148 block5c_expand_bn\n",
            "149 block5c_expand_activation\n",
            "150 block5c_dwconv\n",
            "151 block5c_bn\n",
            "152 block5c_activation\n",
            "153 block5c_se_squeeze\n",
            "154 block5c_se_reshape\n",
            "155 block5c_se_reduce\n",
            "156 block5c_se_expand\n",
            "157 block5c_se_excite\n",
            "158 block5c_project_conv\n",
            "159 block5c_project_bn\n",
            "160 block5c_drop\n",
            "161 block5c_add\n",
            "162 block6a_expand_conv\n",
            "163 block6a_expand_bn\n",
            "164 block6a_expand_activation\n",
            "165 block6a_dwconv_pad\n",
            "166 block6a_dwconv\n",
            "167 block6a_bn\n",
            "168 block6a_activation\n",
            "169 block6a_se_squeeze\n",
            "170 block6a_se_reshape\n",
            "171 block6a_se_reduce\n",
            "172 block6a_se_expand\n",
            "173 block6a_se_excite\n",
            "174 block6a_project_conv\n",
            "175 block6a_project_bn\n",
            "176 block6b_expand_conv\n",
            "177 block6b_expand_bn\n",
            "178 block6b_expand_activation\n",
            "179 block6b_dwconv\n",
            "180 block6b_bn\n",
            "181 block6b_activation\n",
            "182 block6b_se_squeeze\n",
            "183 block6b_se_reshape\n",
            "184 block6b_se_reduce\n",
            "185 block6b_se_expand\n",
            "186 block6b_se_excite\n",
            "187 block6b_project_conv\n",
            "188 block6b_project_bn\n",
            "189 block6b_drop\n",
            "190 block6b_add\n",
            "191 block6c_expand_conv\n",
            "192 block6c_expand_bn\n",
            "193 block6c_expand_activation\n",
            "194 block6c_dwconv\n",
            "195 block6c_bn\n",
            "196 block6c_activation\n",
            "197 block6c_se_squeeze\n",
            "198 block6c_se_reshape\n",
            "199 block6c_se_reduce\n",
            "200 block6c_se_expand\n",
            "201 block6c_se_excite\n",
            "202 block6c_project_conv\n",
            "203 block6c_project_bn\n",
            "204 block6c_drop\n",
            "205 block6c_add\n",
            "206 block6d_expand_conv\n",
            "207 block6d_expand_bn\n",
            "208 block6d_expand_activation\n",
            "209 block6d_dwconv\n",
            "210 block6d_bn\n",
            "211 block6d_activation\n",
            "212 block6d_se_squeeze\n",
            "213 block6d_se_reshape\n",
            "214 block6d_se_reduce\n",
            "215 block6d_se_expand\n",
            "216 block6d_se_excite\n",
            "217 block6d_project_conv\n",
            "218 block6d_project_bn\n",
            "219 block6d_drop\n",
            "220 block6d_add\n",
            "221 block7a_expand_conv\n",
            "222 block7a_expand_bn\n",
            "223 block7a_expand_activation\n",
            "224 block7a_dwconv\n",
            "225 block7a_bn\n",
            "226 block7a_activation\n",
            "227 block7a_se_squeeze\n",
            "228 block7a_se_reshape\n",
            "229 block7a_se_reduce\n",
            "230 block7a_se_expand\n",
            "231 block7a_se_excite\n",
            "232 block7a_project_conv\n",
            "233 block7a_project_bn\n",
            "234 top_conv\n",
            "235 top_bn\n",
            "236 top_activation\n"
          ]
        }
      ]
    },
    {
      "cell_type": "code",
      "metadata": {
        "colab": {
          "base_uri": "https://localhost:8080/"
        },
        "id": "08Y2xNeDGvMO",
        "outputId": "f53ed291-ba6a-4907-b58b-f852f45aa843"
      },
      "source": [
        "# How about we get a summary of the base model\n",
        "base_model.summary()"
      ],
      "execution_count": null,
      "outputs": [
        {
          "output_type": "stream",
          "name": "stdout",
          "text": [
            "Model: \"efficientnetb0\"\n",
            "__________________________________________________________________________________________________\n",
            "Layer (type)                    Output Shape         Param #     Connected to                     \n",
            "==================================================================================================\n",
            "input_1 (InputLayer)            [(None, None, None,  0                                            \n",
            "__________________________________________________________________________________________________\n",
            "rescaling (Rescaling)           (None, None, None, 3 0           input_1[0][0]                    \n",
            "__________________________________________________________________________________________________\n",
            "normalization (Normalization)   (None, None, None, 3 7           rescaling[0][0]                  \n",
            "__________________________________________________________________________________________________\n",
            "stem_conv_pad (ZeroPadding2D)   (None, None, None, 3 0           normalization[0][0]              \n",
            "__________________________________________________________________________________________________\n",
            "stem_conv (Conv2D)              (None, None, None, 3 864         stem_conv_pad[0][0]              \n",
            "__________________________________________________________________________________________________\n",
            "stem_bn (BatchNormalization)    (None, None, None, 3 128         stem_conv[0][0]                  \n",
            "__________________________________________________________________________________________________\n",
            "stem_activation (Activation)    (None, None, None, 3 0           stem_bn[0][0]                    \n",
            "__________________________________________________________________________________________________\n",
            "block1a_dwconv (DepthwiseConv2D (None, None, None, 3 288         stem_activation[0][0]            \n",
            "__________________________________________________________________________________________________\n",
            "block1a_bn (BatchNormalization) (None, None, None, 3 128         block1a_dwconv[0][0]             \n",
            "__________________________________________________________________________________________________\n",
            "block1a_activation (Activation) (None, None, None, 3 0           block1a_bn[0][0]                 \n",
            "__________________________________________________________________________________________________\n",
            "block1a_se_squeeze (GlobalAvera (None, 32)           0           block1a_activation[0][0]         \n",
            "__________________________________________________________________________________________________\n",
            "block1a_se_reshape (Reshape)    (None, 1, 1, 32)     0           block1a_se_squeeze[0][0]         \n",
            "__________________________________________________________________________________________________\n",
            "block1a_se_reduce (Conv2D)      (None, 1, 1, 8)      264         block1a_se_reshape[0][0]         \n",
            "__________________________________________________________________________________________________\n",
            "block1a_se_expand (Conv2D)      (None, 1, 1, 32)     288         block1a_se_reduce[0][0]          \n",
            "__________________________________________________________________________________________________\n",
            "block1a_se_excite (Multiply)    (None, None, None, 3 0           block1a_activation[0][0]         \n",
            "                                                                 block1a_se_expand[0][0]          \n",
            "__________________________________________________________________________________________________\n",
            "block1a_project_conv (Conv2D)   (None, None, None, 1 512         block1a_se_excite[0][0]          \n",
            "__________________________________________________________________________________________________\n",
            "block1a_project_bn (BatchNormal (None, None, None, 1 64          block1a_project_conv[0][0]       \n",
            "__________________________________________________________________________________________________\n",
            "block2a_expand_conv (Conv2D)    (None, None, None, 9 1536        block1a_project_bn[0][0]         \n",
            "__________________________________________________________________________________________________\n",
            "block2a_expand_bn (BatchNormali (None, None, None, 9 384         block2a_expand_conv[0][0]        \n",
            "__________________________________________________________________________________________________\n",
            "block2a_expand_activation (Acti (None, None, None, 9 0           block2a_expand_bn[0][0]          \n",
            "__________________________________________________________________________________________________\n",
            "block2a_dwconv_pad (ZeroPadding (None, None, None, 9 0           block2a_expand_activation[0][0]  \n",
            "__________________________________________________________________________________________________\n",
            "block2a_dwconv (DepthwiseConv2D (None, None, None, 9 864         block2a_dwconv_pad[0][0]         \n",
            "__________________________________________________________________________________________________\n",
            "block2a_bn (BatchNormalization) (None, None, None, 9 384         block2a_dwconv[0][0]             \n",
            "__________________________________________________________________________________________________\n",
            "block2a_activation (Activation) (None, None, None, 9 0           block2a_bn[0][0]                 \n",
            "__________________________________________________________________________________________________\n",
            "block2a_se_squeeze (GlobalAvera (None, 96)           0           block2a_activation[0][0]         \n",
            "__________________________________________________________________________________________________\n",
            "block2a_se_reshape (Reshape)    (None, 1, 1, 96)     0           block2a_se_squeeze[0][0]         \n",
            "__________________________________________________________________________________________________\n",
            "block2a_se_reduce (Conv2D)      (None, 1, 1, 4)      388         block2a_se_reshape[0][0]         \n",
            "__________________________________________________________________________________________________\n",
            "block2a_se_expand (Conv2D)      (None, 1, 1, 96)     480         block2a_se_reduce[0][0]          \n",
            "__________________________________________________________________________________________________\n",
            "block2a_se_excite (Multiply)    (None, None, None, 9 0           block2a_activation[0][0]         \n",
            "                                                                 block2a_se_expand[0][0]          \n",
            "__________________________________________________________________________________________________\n",
            "block2a_project_conv (Conv2D)   (None, None, None, 2 2304        block2a_se_excite[0][0]          \n",
            "__________________________________________________________________________________________________\n",
            "block2a_project_bn (BatchNormal (None, None, None, 2 96          block2a_project_conv[0][0]       \n",
            "__________________________________________________________________________________________________\n",
            "block2b_expand_conv (Conv2D)    (None, None, None, 1 3456        block2a_project_bn[0][0]         \n",
            "__________________________________________________________________________________________________\n",
            "block2b_expand_bn (BatchNormali (None, None, None, 1 576         block2b_expand_conv[0][0]        \n",
            "__________________________________________________________________________________________________\n",
            "block2b_expand_activation (Acti (None, None, None, 1 0           block2b_expand_bn[0][0]          \n",
            "__________________________________________________________________________________________________\n",
            "block2b_dwconv (DepthwiseConv2D (None, None, None, 1 1296        block2b_expand_activation[0][0]  \n",
            "__________________________________________________________________________________________________\n",
            "block2b_bn (BatchNormalization) (None, None, None, 1 576         block2b_dwconv[0][0]             \n",
            "__________________________________________________________________________________________________\n",
            "block2b_activation (Activation) (None, None, None, 1 0           block2b_bn[0][0]                 \n",
            "__________________________________________________________________________________________________\n",
            "block2b_se_squeeze (GlobalAvera (None, 144)          0           block2b_activation[0][0]         \n",
            "__________________________________________________________________________________________________\n",
            "block2b_se_reshape (Reshape)    (None, 1, 1, 144)    0           block2b_se_squeeze[0][0]         \n",
            "__________________________________________________________________________________________________\n",
            "block2b_se_reduce (Conv2D)      (None, 1, 1, 6)      870         block2b_se_reshape[0][0]         \n",
            "__________________________________________________________________________________________________\n",
            "block2b_se_expand (Conv2D)      (None, 1, 1, 144)    1008        block2b_se_reduce[0][0]          \n",
            "__________________________________________________________________________________________________\n",
            "block2b_se_excite (Multiply)    (None, None, None, 1 0           block2b_activation[0][0]         \n",
            "                                                                 block2b_se_expand[0][0]          \n",
            "__________________________________________________________________________________________________\n",
            "block2b_project_conv (Conv2D)   (None, None, None, 2 3456        block2b_se_excite[0][0]          \n",
            "__________________________________________________________________________________________________\n",
            "block2b_project_bn (BatchNormal (None, None, None, 2 96          block2b_project_conv[0][0]       \n",
            "__________________________________________________________________________________________________\n",
            "block2b_drop (Dropout)          (None, None, None, 2 0           block2b_project_bn[0][0]         \n",
            "__________________________________________________________________________________________________\n",
            "block2b_add (Add)               (None, None, None, 2 0           block2b_drop[0][0]               \n",
            "                                                                 block2a_project_bn[0][0]         \n",
            "__________________________________________________________________________________________________\n",
            "block3a_expand_conv (Conv2D)    (None, None, None, 1 3456        block2b_add[0][0]                \n",
            "__________________________________________________________________________________________________\n",
            "block3a_expand_bn (BatchNormali (None, None, None, 1 576         block3a_expand_conv[0][0]        \n",
            "__________________________________________________________________________________________________\n",
            "block3a_expand_activation (Acti (None, None, None, 1 0           block3a_expand_bn[0][0]          \n",
            "__________________________________________________________________________________________________\n",
            "block3a_dwconv_pad (ZeroPadding (None, None, None, 1 0           block3a_expand_activation[0][0]  \n",
            "__________________________________________________________________________________________________\n",
            "block3a_dwconv (DepthwiseConv2D (None, None, None, 1 3600        block3a_dwconv_pad[0][0]         \n",
            "__________________________________________________________________________________________________\n",
            "block3a_bn (BatchNormalization) (None, None, None, 1 576         block3a_dwconv[0][0]             \n",
            "__________________________________________________________________________________________________\n",
            "block3a_activation (Activation) (None, None, None, 1 0           block3a_bn[0][0]                 \n",
            "__________________________________________________________________________________________________\n",
            "block3a_se_squeeze (GlobalAvera (None, 144)          0           block3a_activation[0][0]         \n",
            "__________________________________________________________________________________________________\n",
            "block3a_se_reshape (Reshape)    (None, 1, 1, 144)    0           block3a_se_squeeze[0][0]         \n",
            "__________________________________________________________________________________________________\n",
            "block3a_se_reduce (Conv2D)      (None, 1, 1, 6)      870         block3a_se_reshape[0][0]         \n",
            "__________________________________________________________________________________________________\n",
            "block3a_se_expand (Conv2D)      (None, 1, 1, 144)    1008        block3a_se_reduce[0][0]          \n",
            "__________________________________________________________________________________________________\n",
            "block3a_se_excite (Multiply)    (None, None, None, 1 0           block3a_activation[0][0]         \n",
            "                                                                 block3a_se_expand[0][0]          \n",
            "__________________________________________________________________________________________________\n",
            "block3a_project_conv (Conv2D)   (None, None, None, 4 5760        block3a_se_excite[0][0]          \n",
            "__________________________________________________________________________________________________\n",
            "block3a_project_bn (BatchNormal (None, None, None, 4 160         block3a_project_conv[0][0]       \n",
            "__________________________________________________________________________________________________\n",
            "block3b_expand_conv (Conv2D)    (None, None, None, 2 9600        block3a_project_bn[0][0]         \n",
            "__________________________________________________________________________________________________\n",
            "block3b_expand_bn (BatchNormali (None, None, None, 2 960         block3b_expand_conv[0][0]        \n",
            "__________________________________________________________________________________________________\n",
            "block3b_expand_activation (Acti (None, None, None, 2 0           block3b_expand_bn[0][0]          \n",
            "__________________________________________________________________________________________________\n",
            "block3b_dwconv (DepthwiseConv2D (None, None, None, 2 6000        block3b_expand_activation[0][0]  \n",
            "__________________________________________________________________________________________________\n",
            "block3b_bn (BatchNormalization) (None, None, None, 2 960         block3b_dwconv[0][0]             \n",
            "__________________________________________________________________________________________________\n",
            "block3b_activation (Activation) (None, None, None, 2 0           block3b_bn[0][0]                 \n",
            "__________________________________________________________________________________________________\n",
            "block3b_se_squeeze (GlobalAvera (None, 240)          0           block3b_activation[0][0]         \n",
            "__________________________________________________________________________________________________\n",
            "block3b_se_reshape (Reshape)    (None, 1, 1, 240)    0           block3b_se_squeeze[0][0]         \n",
            "__________________________________________________________________________________________________\n",
            "block3b_se_reduce (Conv2D)      (None, 1, 1, 10)     2410        block3b_se_reshape[0][0]         \n",
            "__________________________________________________________________________________________________\n",
            "block3b_se_expand (Conv2D)      (None, 1, 1, 240)    2640        block3b_se_reduce[0][0]          \n",
            "__________________________________________________________________________________________________\n",
            "block3b_se_excite (Multiply)    (None, None, None, 2 0           block3b_activation[0][0]         \n",
            "                                                                 block3b_se_expand[0][0]          \n",
            "__________________________________________________________________________________________________\n",
            "block3b_project_conv (Conv2D)   (None, None, None, 4 9600        block3b_se_excite[0][0]          \n",
            "__________________________________________________________________________________________________\n",
            "block3b_project_bn (BatchNormal (None, None, None, 4 160         block3b_project_conv[0][0]       \n",
            "__________________________________________________________________________________________________\n",
            "block3b_drop (Dropout)          (None, None, None, 4 0           block3b_project_bn[0][0]         \n",
            "__________________________________________________________________________________________________\n",
            "block3b_add (Add)               (None, None, None, 4 0           block3b_drop[0][0]               \n",
            "                                                                 block3a_project_bn[0][0]         \n",
            "__________________________________________________________________________________________________\n",
            "block4a_expand_conv (Conv2D)    (None, None, None, 2 9600        block3b_add[0][0]                \n",
            "__________________________________________________________________________________________________\n",
            "block4a_expand_bn (BatchNormali (None, None, None, 2 960         block4a_expand_conv[0][0]        \n",
            "__________________________________________________________________________________________________\n",
            "block4a_expand_activation (Acti (None, None, None, 2 0           block4a_expand_bn[0][0]          \n",
            "__________________________________________________________________________________________________\n",
            "block4a_dwconv_pad (ZeroPadding (None, None, None, 2 0           block4a_expand_activation[0][0]  \n",
            "__________________________________________________________________________________________________\n",
            "block4a_dwconv (DepthwiseConv2D (None, None, None, 2 2160        block4a_dwconv_pad[0][0]         \n",
            "__________________________________________________________________________________________________\n",
            "block4a_bn (BatchNormalization) (None, None, None, 2 960         block4a_dwconv[0][0]             \n",
            "__________________________________________________________________________________________________\n",
            "block4a_activation (Activation) (None, None, None, 2 0           block4a_bn[0][0]                 \n",
            "__________________________________________________________________________________________________\n",
            "block4a_se_squeeze (GlobalAvera (None, 240)          0           block4a_activation[0][0]         \n",
            "__________________________________________________________________________________________________\n",
            "block4a_se_reshape (Reshape)    (None, 1, 1, 240)    0           block4a_se_squeeze[0][0]         \n",
            "__________________________________________________________________________________________________\n",
            "block4a_se_reduce (Conv2D)      (None, 1, 1, 10)     2410        block4a_se_reshape[0][0]         \n",
            "__________________________________________________________________________________________________\n",
            "block4a_se_expand (Conv2D)      (None, 1, 1, 240)    2640        block4a_se_reduce[0][0]          \n",
            "__________________________________________________________________________________________________\n",
            "block4a_se_excite (Multiply)    (None, None, None, 2 0           block4a_activation[0][0]         \n",
            "                                                                 block4a_se_expand[0][0]          \n",
            "__________________________________________________________________________________________________\n",
            "block4a_project_conv (Conv2D)   (None, None, None, 8 19200       block4a_se_excite[0][0]          \n",
            "__________________________________________________________________________________________________\n",
            "block4a_project_bn (BatchNormal (None, None, None, 8 320         block4a_project_conv[0][0]       \n",
            "__________________________________________________________________________________________________\n",
            "block4b_expand_conv (Conv2D)    (None, None, None, 4 38400       block4a_project_bn[0][0]         \n",
            "__________________________________________________________________________________________________\n",
            "block4b_expand_bn (BatchNormali (None, None, None, 4 1920        block4b_expand_conv[0][0]        \n",
            "__________________________________________________________________________________________________\n",
            "block4b_expand_activation (Acti (None, None, None, 4 0           block4b_expand_bn[0][0]          \n",
            "__________________________________________________________________________________________________\n",
            "block4b_dwconv (DepthwiseConv2D (None, None, None, 4 4320        block4b_expand_activation[0][0]  \n",
            "__________________________________________________________________________________________________\n",
            "block4b_bn (BatchNormalization) (None, None, None, 4 1920        block4b_dwconv[0][0]             \n",
            "__________________________________________________________________________________________________\n",
            "block4b_activation (Activation) (None, None, None, 4 0           block4b_bn[0][0]                 \n",
            "__________________________________________________________________________________________________\n",
            "block4b_se_squeeze (GlobalAvera (None, 480)          0           block4b_activation[0][0]         \n",
            "__________________________________________________________________________________________________\n",
            "block4b_se_reshape (Reshape)    (None, 1, 1, 480)    0           block4b_se_squeeze[0][0]         \n",
            "__________________________________________________________________________________________________\n",
            "block4b_se_reduce (Conv2D)      (None, 1, 1, 20)     9620        block4b_se_reshape[0][0]         \n",
            "__________________________________________________________________________________________________\n",
            "block4b_se_expand (Conv2D)      (None, 1, 1, 480)    10080       block4b_se_reduce[0][0]          \n",
            "__________________________________________________________________________________________________\n",
            "block4b_se_excite (Multiply)    (None, None, None, 4 0           block4b_activation[0][0]         \n",
            "                                                                 block4b_se_expand[0][0]          \n",
            "__________________________________________________________________________________________________\n",
            "block4b_project_conv (Conv2D)   (None, None, None, 8 38400       block4b_se_excite[0][0]          \n",
            "__________________________________________________________________________________________________\n",
            "block4b_project_bn (BatchNormal (None, None, None, 8 320         block4b_project_conv[0][0]       \n",
            "__________________________________________________________________________________________________\n",
            "block4b_drop (Dropout)          (None, None, None, 8 0           block4b_project_bn[0][0]         \n",
            "__________________________________________________________________________________________________\n",
            "block4b_add (Add)               (None, None, None, 8 0           block4b_drop[0][0]               \n",
            "                                                                 block4a_project_bn[0][0]         \n",
            "__________________________________________________________________________________________________\n",
            "block4c_expand_conv (Conv2D)    (None, None, None, 4 38400       block4b_add[0][0]                \n",
            "__________________________________________________________________________________________________\n",
            "block4c_expand_bn (BatchNormali (None, None, None, 4 1920        block4c_expand_conv[0][0]        \n",
            "__________________________________________________________________________________________________\n",
            "block4c_expand_activation (Acti (None, None, None, 4 0           block4c_expand_bn[0][0]          \n",
            "__________________________________________________________________________________________________\n",
            "block4c_dwconv (DepthwiseConv2D (None, None, None, 4 4320        block4c_expand_activation[0][0]  \n",
            "__________________________________________________________________________________________________\n",
            "block4c_bn (BatchNormalization) (None, None, None, 4 1920        block4c_dwconv[0][0]             \n",
            "__________________________________________________________________________________________________\n",
            "block4c_activation (Activation) (None, None, None, 4 0           block4c_bn[0][0]                 \n",
            "__________________________________________________________________________________________________\n",
            "block4c_se_squeeze (GlobalAvera (None, 480)          0           block4c_activation[0][0]         \n",
            "__________________________________________________________________________________________________\n",
            "block4c_se_reshape (Reshape)    (None, 1, 1, 480)    0           block4c_se_squeeze[0][0]         \n",
            "__________________________________________________________________________________________________\n",
            "block4c_se_reduce (Conv2D)      (None, 1, 1, 20)     9620        block4c_se_reshape[0][0]         \n",
            "__________________________________________________________________________________________________\n",
            "block4c_se_expand (Conv2D)      (None, 1, 1, 480)    10080       block4c_se_reduce[0][0]          \n",
            "__________________________________________________________________________________________________\n",
            "block4c_se_excite (Multiply)    (None, None, None, 4 0           block4c_activation[0][0]         \n",
            "                                                                 block4c_se_expand[0][0]          \n",
            "__________________________________________________________________________________________________\n",
            "block4c_project_conv (Conv2D)   (None, None, None, 8 38400       block4c_se_excite[0][0]          \n",
            "__________________________________________________________________________________________________\n",
            "block4c_project_bn (BatchNormal (None, None, None, 8 320         block4c_project_conv[0][0]       \n",
            "__________________________________________________________________________________________________\n",
            "block4c_drop (Dropout)          (None, None, None, 8 0           block4c_project_bn[0][0]         \n",
            "__________________________________________________________________________________________________\n",
            "block4c_add (Add)               (None, None, None, 8 0           block4c_drop[0][0]               \n",
            "                                                                 block4b_add[0][0]                \n",
            "__________________________________________________________________________________________________\n",
            "block5a_expand_conv (Conv2D)    (None, None, None, 4 38400       block4c_add[0][0]                \n",
            "__________________________________________________________________________________________________\n",
            "block5a_expand_bn (BatchNormali (None, None, None, 4 1920        block5a_expand_conv[0][0]        \n",
            "__________________________________________________________________________________________________\n",
            "block5a_expand_activation (Acti (None, None, None, 4 0           block5a_expand_bn[0][0]          \n",
            "__________________________________________________________________________________________________\n",
            "block5a_dwconv (DepthwiseConv2D (None, None, None, 4 12000       block5a_expand_activation[0][0]  \n",
            "__________________________________________________________________________________________________\n",
            "block5a_bn (BatchNormalization) (None, None, None, 4 1920        block5a_dwconv[0][0]             \n",
            "__________________________________________________________________________________________________\n",
            "block5a_activation (Activation) (None, None, None, 4 0           block5a_bn[0][0]                 \n",
            "__________________________________________________________________________________________________\n",
            "block5a_se_squeeze (GlobalAvera (None, 480)          0           block5a_activation[0][0]         \n",
            "__________________________________________________________________________________________________\n",
            "block5a_se_reshape (Reshape)    (None, 1, 1, 480)    0           block5a_se_squeeze[0][0]         \n",
            "__________________________________________________________________________________________________\n",
            "block5a_se_reduce (Conv2D)      (None, 1, 1, 20)     9620        block5a_se_reshape[0][0]         \n",
            "__________________________________________________________________________________________________\n",
            "block5a_se_expand (Conv2D)      (None, 1, 1, 480)    10080       block5a_se_reduce[0][0]          \n",
            "__________________________________________________________________________________________________\n",
            "block5a_se_excite (Multiply)    (None, None, None, 4 0           block5a_activation[0][0]         \n",
            "                                                                 block5a_se_expand[0][0]          \n",
            "__________________________________________________________________________________________________\n",
            "block5a_project_conv (Conv2D)   (None, None, None, 1 53760       block5a_se_excite[0][0]          \n",
            "__________________________________________________________________________________________________\n",
            "block5a_project_bn (BatchNormal (None, None, None, 1 448         block5a_project_conv[0][0]       \n",
            "__________________________________________________________________________________________________\n",
            "block5b_expand_conv (Conv2D)    (None, None, None, 6 75264       block5a_project_bn[0][0]         \n",
            "__________________________________________________________________________________________________\n",
            "block5b_expand_bn (BatchNormali (None, None, None, 6 2688        block5b_expand_conv[0][0]        \n",
            "__________________________________________________________________________________________________\n",
            "block5b_expand_activation (Acti (None, None, None, 6 0           block5b_expand_bn[0][0]          \n",
            "__________________________________________________________________________________________________\n",
            "block5b_dwconv (DepthwiseConv2D (None, None, None, 6 16800       block5b_expand_activation[0][0]  \n",
            "__________________________________________________________________________________________________\n",
            "block5b_bn (BatchNormalization) (None, None, None, 6 2688        block5b_dwconv[0][0]             \n",
            "__________________________________________________________________________________________________\n",
            "block5b_activation (Activation) (None, None, None, 6 0           block5b_bn[0][0]                 \n",
            "__________________________________________________________________________________________________\n",
            "block5b_se_squeeze (GlobalAvera (None, 672)          0           block5b_activation[0][0]         \n",
            "__________________________________________________________________________________________________\n",
            "block5b_se_reshape (Reshape)    (None, 1, 1, 672)    0           block5b_se_squeeze[0][0]         \n",
            "__________________________________________________________________________________________________\n",
            "block5b_se_reduce (Conv2D)      (None, 1, 1, 28)     18844       block5b_se_reshape[0][0]         \n",
            "__________________________________________________________________________________________________\n",
            "block5b_se_expand (Conv2D)      (None, 1, 1, 672)    19488       block5b_se_reduce[0][0]          \n",
            "__________________________________________________________________________________________________\n",
            "block5b_se_excite (Multiply)    (None, None, None, 6 0           block5b_activation[0][0]         \n",
            "                                                                 block5b_se_expand[0][0]          \n",
            "__________________________________________________________________________________________________\n",
            "block5b_project_conv (Conv2D)   (None, None, None, 1 75264       block5b_se_excite[0][0]          \n",
            "__________________________________________________________________________________________________\n",
            "block5b_project_bn (BatchNormal (None, None, None, 1 448         block5b_project_conv[0][0]       \n",
            "__________________________________________________________________________________________________\n",
            "block5b_drop (Dropout)          (None, None, None, 1 0           block5b_project_bn[0][0]         \n",
            "__________________________________________________________________________________________________\n",
            "block5b_add (Add)               (None, None, None, 1 0           block5b_drop[0][0]               \n",
            "                                                                 block5a_project_bn[0][0]         \n",
            "__________________________________________________________________________________________________\n",
            "block5c_expand_conv (Conv2D)    (None, None, None, 6 75264       block5b_add[0][0]                \n",
            "__________________________________________________________________________________________________\n",
            "block5c_expand_bn (BatchNormali (None, None, None, 6 2688        block5c_expand_conv[0][0]        \n",
            "__________________________________________________________________________________________________\n",
            "block5c_expand_activation (Acti (None, None, None, 6 0           block5c_expand_bn[0][0]          \n",
            "__________________________________________________________________________________________________\n",
            "block5c_dwconv (DepthwiseConv2D (None, None, None, 6 16800       block5c_expand_activation[0][0]  \n",
            "__________________________________________________________________________________________________\n",
            "block5c_bn (BatchNormalization) (None, None, None, 6 2688        block5c_dwconv[0][0]             \n",
            "__________________________________________________________________________________________________\n",
            "block5c_activation (Activation) (None, None, None, 6 0           block5c_bn[0][0]                 \n",
            "__________________________________________________________________________________________________\n",
            "block5c_se_squeeze (GlobalAvera (None, 672)          0           block5c_activation[0][0]         \n",
            "__________________________________________________________________________________________________\n",
            "block5c_se_reshape (Reshape)    (None, 1, 1, 672)    0           block5c_se_squeeze[0][0]         \n",
            "__________________________________________________________________________________________________\n",
            "block5c_se_reduce (Conv2D)      (None, 1, 1, 28)     18844       block5c_se_reshape[0][0]         \n",
            "__________________________________________________________________________________________________\n",
            "block5c_se_expand (Conv2D)      (None, 1, 1, 672)    19488       block5c_se_reduce[0][0]          \n",
            "__________________________________________________________________________________________________\n",
            "block5c_se_excite (Multiply)    (None, None, None, 6 0           block5c_activation[0][0]         \n",
            "                                                                 block5c_se_expand[0][0]          \n",
            "__________________________________________________________________________________________________\n",
            "block5c_project_conv (Conv2D)   (None, None, None, 1 75264       block5c_se_excite[0][0]          \n",
            "__________________________________________________________________________________________________\n",
            "block5c_project_bn (BatchNormal (None, None, None, 1 448         block5c_project_conv[0][0]       \n",
            "__________________________________________________________________________________________________\n",
            "block5c_drop (Dropout)          (None, None, None, 1 0           block5c_project_bn[0][0]         \n",
            "__________________________________________________________________________________________________\n",
            "block5c_add (Add)               (None, None, None, 1 0           block5c_drop[0][0]               \n",
            "                                                                 block5b_add[0][0]                \n",
            "__________________________________________________________________________________________________\n",
            "block6a_expand_conv (Conv2D)    (None, None, None, 6 75264       block5c_add[0][0]                \n",
            "__________________________________________________________________________________________________\n",
            "block6a_expand_bn (BatchNormali (None, None, None, 6 2688        block6a_expand_conv[0][0]        \n",
            "__________________________________________________________________________________________________\n",
            "block6a_expand_activation (Acti (None, None, None, 6 0           block6a_expand_bn[0][0]          \n",
            "__________________________________________________________________________________________________\n",
            "block6a_dwconv_pad (ZeroPadding (None, None, None, 6 0           block6a_expand_activation[0][0]  \n",
            "__________________________________________________________________________________________________\n",
            "block6a_dwconv (DepthwiseConv2D (None, None, None, 6 16800       block6a_dwconv_pad[0][0]         \n",
            "__________________________________________________________________________________________________\n",
            "block6a_bn (BatchNormalization) (None, None, None, 6 2688        block6a_dwconv[0][0]             \n",
            "__________________________________________________________________________________________________\n",
            "block6a_activation (Activation) (None, None, None, 6 0           block6a_bn[0][0]                 \n",
            "__________________________________________________________________________________________________\n",
            "block6a_se_squeeze (GlobalAvera (None, 672)          0           block6a_activation[0][0]         \n",
            "__________________________________________________________________________________________________\n",
            "block6a_se_reshape (Reshape)    (None, 1, 1, 672)    0           block6a_se_squeeze[0][0]         \n",
            "__________________________________________________________________________________________________\n",
            "block6a_se_reduce (Conv2D)      (None, 1, 1, 28)     18844       block6a_se_reshape[0][0]         \n",
            "__________________________________________________________________________________________________\n",
            "block6a_se_expand (Conv2D)      (None, 1, 1, 672)    19488       block6a_se_reduce[0][0]          \n",
            "__________________________________________________________________________________________________\n",
            "block6a_se_excite (Multiply)    (None, None, None, 6 0           block6a_activation[0][0]         \n",
            "                                                                 block6a_se_expand[0][0]          \n",
            "__________________________________________________________________________________________________\n",
            "block6a_project_conv (Conv2D)   (None, None, None, 1 129024      block6a_se_excite[0][0]          \n",
            "__________________________________________________________________________________________________\n",
            "block6a_project_bn (BatchNormal (None, None, None, 1 768         block6a_project_conv[0][0]       \n",
            "__________________________________________________________________________________________________\n",
            "block6b_expand_conv (Conv2D)    (None, None, None, 1 221184      block6a_project_bn[0][0]         \n",
            "__________________________________________________________________________________________________\n",
            "block6b_expand_bn (BatchNormali (None, None, None, 1 4608        block6b_expand_conv[0][0]        \n",
            "__________________________________________________________________________________________________\n",
            "block6b_expand_activation (Acti (None, None, None, 1 0           block6b_expand_bn[0][0]          \n",
            "__________________________________________________________________________________________________\n",
            "block6b_dwconv (DepthwiseConv2D (None, None, None, 1 28800       block6b_expand_activation[0][0]  \n",
            "__________________________________________________________________________________________________\n",
            "block6b_bn (BatchNormalization) (None, None, None, 1 4608        block6b_dwconv[0][0]             \n",
            "__________________________________________________________________________________________________\n",
            "block6b_activation (Activation) (None, None, None, 1 0           block6b_bn[0][0]                 \n",
            "__________________________________________________________________________________________________\n",
            "block6b_se_squeeze (GlobalAvera (None, 1152)         0           block6b_activation[0][0]         \n",
            "__________________________________________________________________________________________________\n",
            "block6b_se_reshape (Reshape)    (None, 1, 1, 1152)   0           block6b_se_squeeze[0][0]         \n",
            "__________________________________________________________________________________________________\n",
            "block6b_se_reduce (Conv2D)      (None, 1, 1, 48)     55344       block6b_se_reshape[0][0]         \n",
            "__________________________________________________________________________________________________\n",
            "block6b_se_expand (Conv2D)      (None, 1, 1, 1152)   56448       block6b_se_reduce[0][0]          \n",
            "__________________________________________________________________________________________________\n",
            "block6b_se_excite (Multiply)    (None, None, None, 1 0           block6b_activation[0][0]         \n",
            "                                                                 block6b_se_expand[0][0]          \n",
            "__________________________________________________________________________________________________\n",
            "block6b_project_conv (Conv2D)   (None, None, None, 1 221184      block6b_se_excite[0][0]          \n",
            "__________________________________________________________________________________________________\n",
            "block6b_project_bn (BatchNormal (None, None, None, 1 768         block6b_project_conv[0][0]       \n",
            "__________________________________________________________________________________________________\n",
            "block6b_drop (Dropout)          (None, None, None, 1 0           block6b_project_bn[0][0]         \n",
            "__________________________________________________________________________________________________\n",
            "block6b_add (Add)               (None, None, None, 1 0           block6b_drop[0][0]               \n",
            "                                                                 block6a_project_bn[0][0]         \n",
            "__________________________________________________________________________________________________\n",
            "block6c_expand_conv (Conv2D)    (None, None, None, 1 221184      block6b_add[0][0]                \n",
            "__________________________________________________________________________________________________\n",
            "block6c_expand_bn (BatchNormali (None, None, None, 1 4608        block6c_expand_conv[0][0]        \n",
            "__________________________________________________________________________________________________\n",
            "block6c_expand_activation (Acti (None, None, None, 1 0           block6c_expand_bn[0][0]          \n",
            "__________________________________________________________________________________________________\n",
            "block6c_dwconv (DepthwiseConv2D (None, None, None, 1 28800       block6c_expand_activation[0][0]  \n",
            "__________________________________________________________________________________________________\n",
            "block6c_bn (BatchNormalization) (None, None, None, 1 4608        block6c_dwconv[0][0]             \n",
            "__________________________________________________________________________________________________\n",
            "block6c_activation (Activation) (None, None, None, 1 0           block6c_bn[0][0]                 \n",
            "__________________________________________________________________________________________________\n",
            "block6c_se_squeeze (GlobalAvera (None, 1152)         0           block6c_activation[0][0]         \n",
            "__________________________________________________________________________________________________\n",
            "block6c_se_reshape (Reshape)    (None, 1, 1, 1152)   0           block6c_se_squeeze[0][0]         \n",
            "__________________________________________________________________________________________________\n",
            "block6c_se_reduce (Conv2D)      (None, 1, 1, 48)     55344       block6c_se_reshape[0][0]         \n",
            "__________________________________________________________________________________________________\n",
            "block6c_se_expand (Conv2D)      (None, 1, 1, 1152)   56448       block6c_se_reduce[0][0]          \n",
            "__________________________________________________________________________________________________\n",
            "block6c_se_excite (Multiply)    (None, None, None, 1 0           block6c_activation[0][0]         \n",
            "                                                                 block6c_se_expand[0][0]          \n",
            "__________________________________________________________________________________________________\n",
            "block6c_project_conv (Conv2D)   (None, None, None, 1 221184      block6c_se_excite[0][0]          \n",
            "__________________________________________________________________________________________________\n",
            "block6c_project_bn (BatchNormal (None, None, None, 1 768         block6c_project_conv[0][0]       \n",
            "__________________________________________________________________________________________________\n",
            "block6c_drop (Dropout)          (None, None, None, 1 0           block6c_project_bn[0][0]         \n",
            "__________________________________________________________________________________________________\n",
            "block6c_add (Add)               (None, None, None, 1 0           block6c_drop[0][0]               \n",
            "                                                                 block6b_add[0][0]                \n",
            "__________________________________________________________________________________________________\n",
            "block6d_expand_conv (Conv2D)    (None, None, None, 1 221184      block6c_add[0][0]                \n",
            "__________________________________________________________________________________________________\n",
            "block6d_expand_bn (BatchNormali (None, None, None, 1 4608        block6d_expand_conv[0][0]        \n",
            "__________________________________________________________________________________________________\n",
            "block6d_expand_activation (Acti (None, None, None, 1 0           block6d_expand_bn[0][0]          \n",
            "__________________________________________________________________________________________________\n",
            "block6d_dwconv (DepthwiseConv2D (None, None, None, 1 28800       block6d_expand_activation[0][0]  \n",
            "__________________________________________________________________________________________________\n",
            "block6d_bn (BatchNormalization) (None, None, None, 1 4608        block6d_dwconv[0][0]             \n",
            "__________________________________________________________________________________________________\n",
            "block6d_activation (Activation) (None, None, None, 1 0           block6d_bn[0][0]                 \n",
            "__________________________________________________________________________________________________\n",
            "block6d_se_squeeze (GlobalAvera (None, 1152)         0           block6d_activation[0][0]         \n",
            "__________________________________________________________________________________________________\n",
            "block6d_se_reshape (Reshape)    (None, 1, 1, 1152)   0           block6d_se_squeeze[0][0]         \n",
            "__________________________________________________________________________________________________\n",
            "block6d_se_reduce (Conv2D)      (None, 1, 1, 48)     55344       block6d_se_reshape[0][0]         \n",
            "__________________________________________________________________________________________________\n",
            "block6d_se_expand (Conv2D)      (None, 1, 1, 1152)   56448       block6d_se_reduce[0][0]          \n",
            "__________________________________________________________________________________________________\n",
            "block6d_se_excite (Multiply)    (None, None, None, 1 0           block6d_activation[0][0]         \n",
            "                                                                 block6d_se_expand[0][0]          \n",
            "__________________________________________________________________________________________________\n",
            "block6d_project_conv (Conv2D)   (None, None, None, 1 221184      block6d_se_excite[0][0]          \n",
            "__________________________________________________________________________________________________\n",
            "block6d_project_bn (BatchNormal (None, None, None, 1 768         block6d_project_conv[0][0]       \n",
            "__________________________________________________________________________________________________\n",
            "block6d_drop (Dropout)          (None, None, None, 1 0           block6d_project_bn[0][0]         \n",
            "__________________________________________________________________________________________________\n",
            "block6d_add (Add)               (None, None, None, 1 0           block6d_drop[0][0]               \n",
            "                                                                 block6c_add[0][0]                \n",
            "__________________________________________________________________________________________________\n",
            "block7a_expand_conv (Conv2D)    (None, None, None, 1 221184      block6d_add[0][0]                \n",
            "__________________________________________________________________________________________________\n",
            "block7a_expand_bn (BatchNormali (None, None, None, 1 4608        block7a_expand_conv[0][0]        \n",
            "__________________________________________________________________________________________________\n",
            "block7a_expand_activation (Acti (None, None, None, 1 0           block7a_expand_bn[0][0]          \n",
            "__________________________________________________________________________________________________\n",
            "block7a_dwconv (DepthwiseConv2D (None, None, None, 1 10368       block7a_expand_activation[0][0]  \n",
            "__________________________________________________________________________________________________\n",
            "block7a_bn (BatchNormalization) (None, None, None, 1 4608        block7a_dwconv[0][0]             \n",
            "__________________________________________________________________________________________________\n",
            "block7a_activation (Activation) (None, None, None, 1 0           block7a_bn[0][0]                 \n",
            "__________________________________________________________________________________________________\n",
            "block7a_se_squeeze (GlobalAvera (None, 1152)         0           block7a_activation[0][0]         \n",
            "__________________________________________________________________________________________________\n",
            "block7a_se_reshape (Reshape)    (None, 1, 1, 1152)   0           block7a_se_squeeze[0][0]         \n",
            "__________________________________________________________________________________________________\n",
            "block7a_se_reduce (Conv2D)      (None, 1, 1, 48)     55344       block7a_se_reshape[0][0]         \n",
            "__________________________________________________________________________________________________\n",
            "block7a_se_expand (Conv2D)      (None, 1, 1, 1152)   56448       block7a_se_reduce[0][0]          \n",
            "__________________________________________________________________________________________________\n",
            "block7a_se_excite (Multiply)    (None, None, None, 1 0           block7a_activation[0][0]         \n",
            "                                                                 block7a_se_expand[0][0]          \n",
            "__________________________________________________________________________________________________\n",
            "block7a_project_conv (Conv2D)   (None, None, None, 3 368640      block7a_se_excite[0][0]          \n",
            "__________________________________________________________________________________________________\n",
            "block7a_project_bn (BatchNormal (None, None, None, 3 1280        block7a_project_conv[0][0]       \n",
            "__________________________________________________________________________________________________\n",
            "top_conv (Conv2D)               (None, None, None, 1 409600      block7a_project_bn[0][0]         \n",
            "__________________________________________________________________________________________________\n",
            "top_bn (BatchNormalization)     (None, None, None, 1 5120        top_conv[0][0]                   \n",
            "__________________________________________________________________________________________________\n",
            "top_activation (Activation)     (None, None, None, 1 0           top_bn[0][0]                     \n",
            "==================================================================================================\n",
            "Total params: 4,049,571\n",
            "Trainable params: 0\n",
            "Non-trainable params: 4,049,571\n",
            "__________________________________________________________________________________________________\n"
          ]
        }
      ]
    },
    {
      "cell_type": "code",
      "metadata": {
        "colab": {
          "base_uri": "https://localhost:8080/"
        },
        "id": "se7NCFzXG-kJ",
        "outputId": "4ae52492-dc81-4516-85ce-00f984419d74"
      },
      "source": [
        "# How about a summaryof our whole model?\n",
        "model_0.summary()"
      ],
      "execution_count": null,
      "outputs": [
        {
          "output_type": "stream",
          "name": "stdout",
          "text": [
            "Model: \"model\"\n",
            "_________________________________________________________________\n",
            "Layer (type)                 Output Shape              Param #   \n",
            "=================================================================\n",
            "input_layer (InputLayer)     [(None, 224, 224, 3)]     0         \n",
            "_________________________________________________________________\n",
            "efficientnetb0 (Functional)  (None, None, None, 1280)  4049571   \n",
            "_________________________________________________________________\n",
            "global_average_pooling_layer (None, 1280)              0         \n",
            "_________________________________________________________________\n",
            "output_layer (Dense)         (None, 10)                12810     \n",
            "=================================================================\n",
            "Total params: 4,062,381\n",
            "Trainable params: 12,810\n",
            "Non-trainable params: 4,049,571\n",
            "_________________________________________________________________\n"
          ]
        }
      ]
    },
    {
      "cell_type": "code",
      "metadata": {
        "colab": {
          "base_uri": "https://localhost:8080/",
          "height": 573
        },
        "id": "047GHzlZHrJt",
        "outputId": "d8032bb2-15ae-432a-a367-9388983e2916"
      },
      "source": [
        "# Check out our model's training curves\n",
        "plot_loss_curves(history_10_percent)"
      ],
      "execution_count": null,
      "outputs": [
        {
          "output_type": "display_data",
          "data": {
            "image/png": "[encoded data removed]",
            "text/plain": [
              "<Figure size 432x288 with 1 Axes>"
            ]
          },
          "metadata": {
            "needs_background": "light"
          }
        },
        {
          "output_type": "display_data",
          "data": {
            "image/png": "[encoded data removed]",
            "text/plain": [
              "<Figure size 432x288 with 1 Axes>"
            ]
          },
          "metadata": {
            "needs_background": "light"
          }
        }
      ]
    },
    {
      "cell_type": "markdown",
      "metadata": {
        "id": "KSuSbzpWH_3U"
      },
      "source": [
        "## Getting a feature vector from a trained model\n",
        "\n",
        "Let's demonstrate the Global Average Pooling 2D layer...\n",
        "\n",
        "We have a tensor after our model goes through `base_model` of shape (NOne, 7, 7, 1280).\n",
        "\n",
        "But then when it passes through GlobalAveragePooling2D, it turns into (None, 1280)"
      ]
    },
    {
      "cell_type": "code",
      "metadata": {
        "id": "6JdBcyb-IU0u",
        "colab": {
          "base_uri": "https://localhost:8080/"
        },
        "outputId": "9c453ccf-c16f-48ab-e0c6-76dd89449147"
      },
      "source": [
        "# Define the input shape\n",
        "input_shape = (1, 4, 4, 3) \n",
        "\n",
        "# Create a rondom tensor\n",
        "tf.random.set_seed(42)\n",
        "input_tensor = tf.random.normal(input_shape)\n",
        "print(input_tensor)\n",
        "\n",
        "# Pass the random tensor through a glbal average pooling 2D layer\n",
        "global_average_pooled_tensor = tf.keras.layers.GlobalAveragePooling2D()(input_tensor)\n",
        "print(f'2D global average pooled random tensor: \\n {global_average_pooled_tensor}')\n",
        "\n",
        "# Check the shape of the different tensors\n",
        "print(f'Shape of input tensor: {input_tensor.shape}')\n",
        "print(f'Shape of Global Average pooled 2D tensor: {global_average_pooled_tensor.shape}')"
      ],
      "execution_count": null,
      "outputs": [
        {
          "output_type": "stream",
          "name": "stdout",
          "text": [
            "tf.Tensor(\n",
            "[[[[ 0.3274685  -0.8426258   0.3194337 ]\n",
            "   [-1.4075519  -2.3880599  -1.0392479 ]\n",
            "   [-0.5573232   0.539707    1.6994323 ]\n",
            "   [ 0.28893656 -1.5066116  -0.2645474 ]]\n",
            "\n",
            "  [[-0.59722406 -1.9171132  -0.62044144]\n",
            "   [ 0.8504023  -0.40604794 -3.0258412 ]\n",
            "   [ 0.9058464   0.29855987 -0.22561555]\n",
            "   [-0.7616443  -1.8917141  -0.93847126]]\n",
            "\n",
            "  [[ 0.77852213 -0.47338897  0.97772694]\n",
            "   [ 0.24694404  0.20573747 -0.5256233 ]\n",
            "   [ 0.32410017  0.02545409 -0.10638497]\n",
            "   [-0.6369475   1.1603122   0.2507359 ]]\n",
            "\n",
            "  [[-0.41728503  0.4012578  -1.4145443 ]\n",
            "   [-0.5931857  -1.6617213   0.33567193]\n",
            "   [ 0.10815629  0.23479682 -0.56668764]\n",
            "   [-0.35819843  0.88698614  0.52744764]]]], shape=(1, 4, 4, 3), dtype=float32)\n",
            "2D global average pooled random tensor: \n",
            " [[-0.09368646 -0.45840448 -0.2885598 ]]\n",
            "Shape of input tensor: (1, 4, 4, 3)\n",
            "Shape of Global Average pooled 2D tensor: (1, 3)\n"
          ]
        }
      ]
    },
    {
      "cell_type": "code",
      "metadata": {
        "colab": {
          "base_uri": "https://localhost:8080/"
        },
        "id": "Q1tnkW8dVUzZ",
        "outputId": "e6c17dd6-426d-4f05-d4d7-5fbcabb8b6ac"
      },
      "source": [
        "# Let's replicate the GlobalAveragePool2D layer\n",
        "tf.reduce_mean(input_tensor, axis=[1, 2])"
      ],
      "execution_count": null,
      "outputs": [
        {
          "output_type": "execute_result",
          "data": {
            "text/plain": [
              "<tf.Tensor: shape=(1, 3), dtype=float32, numpy=array([[-0.09368646, -0.45840448, -0.2885598 ]], dtype=float32)>"
            ]
          },
          "metadata": {},
          "execution_count": 18
        }
      ]
    },
    {
      "cell_type": "markdown",
      "metadata": {
        "id": "mFdMaMQhYLmw"
      },
      "source": [
        "**Practice:** Try to do the same with the above two cells but this time use `GlobalMaxPool2D`... and see what happens."
      ]
    },
    {
      "cell_type": "markdown",
      "metadata": {
        "id": "d93fpHQNYwli"
      },
      "source": [
        "# Running a series of Teansfer Learning experiments\n",
        "\n",
        "We have seen the incredible results transfer learning can get with only 10 % of the training data, but how does it go with 1% of training data... how about we set up a bunch of experiments to find out:\n",
        "\n",
        "1. `model_1` - use feature extraction transfer learning with 1% of the training data with data augmentation.\n",
        "2. `model_2` - use feature extraction transfer learning with 1-% of the training data with data augmentation.\n",
        "3. `model_3` - "
      ]
    },
    {
      "cell_type": "code",
      "metadata": {
        "colab": {
          "base_uri": "https://localhost:8080/"
        },
        "id": "TcARBvDFZvhr",
        "outputId": "47f133b1-45bf-434b-e635-d47a9e6a19ad"
      },
      "source": [
        "# Download and unzip data\n",
        "!wget https://storage.googleapis.com/ztm_tf_course/food_vision/10_food_classes_1_percent.zip\n",
        "unzip_data('10_food_classes_1_percent.zip')"
      ],
      "execution_count": null,
      "outputs": [
        {
          "output_type": "stream",
          "name": "stdout",
          "text": [
            "--2021-10-15 22:42:56--  https://storage.googleapis.com/ztm_tf_course/food_vision/10_food_classes_1_percent.zip\n",
            "Resolving storage.googleapis.com (storage.googleapis.com)... 66.102.1.128, 142.250.110.128, 142.251.5.128, ...\n",
            "Connecting to storage.googleapis.com (storage.googleapis.com)|66.102.1.128|:443... connected.\n",
            "HTTP request sent, awaiting response... 200 OK\n",
            "Length: 133612354 (127M) [application/zip]\n",
            "Saving to: ‘10_food_classes_1_percent.zip’\n",
            "\n",
            "10_food_classes_1_p 100%[===================>] 127.42M  61.2MB/s    in 2.1s    \n",
            "\n",
            "2021-10-15 22:42:58 (61.2 MB/s) - ‘10_food_classes_1_percent.zip’ saved [133612354/133612354]\n",
            "\n"
          ]
        }
      ]
    },
    {
      "cell_type": "code",
      "metadata": {
        "id": "97d1ka5Na7KZ"
      },
      "source": [
        "# Create training and test dirs\n",
        "train_dir_1_percent = '10_food_classes_1_percent/train'\n",
        "test_dir = '10_food_classes_1_percent/test'"
      ],
      "execution_count": null,
      "outputs": []
    },
    {
      "cell_type": "code",
      "metadata": {
        "colab": {
          "base_uri": "https://localhost:8080/"
        },
        "id": "i9mojrRQbIdi",
        "outputId": "fcb0cfbc-a3a5-43e1-c41d-f5bd23fd746e"
      },
      "source": [
        "# How many images we are working with\n",
        "walk_through_dir('10_food_classes_1_percent')"
      ],
      "execution_count": null,
      "outputs": [
        {
          "output_type": "stream",
          "name": "stdout",
          "text": [
            "There are 2 directories and 0 images in '10_food_classes_1_percent'.\n",
            "There are 10 directories and 0 images in '10_food_classes_1_percent/train'.\n",
            "There are 0 directories and 7 images in '10_food_classes_1_percent/train/grilled_salmon'.\n",
            "There are 0 directories and 7 images in '10_food_classes_1_percent/train/sushi'.\n",
            "There are 0 directories and 7 images in '10_food_classes_1_percent/train/hamburger'.\n",
            "There are 0 directories and 7 images in '10_food_classes_1_percent/train/chicken_curry'.\n",
            "There are 0 directories and 7 images in '10_food_classes_1_percent/train/pizza'.\n",
            "There are 0 directories and 7 images in '10_food_classes_1_percent/train/chicken_wings'.\n",
            "There are 0 directories and 7 images in '10_food_classes_1_percent/train/steak'.\n",
            "There are 0 directories and 7 images in '10_food_classes_1_percent/train/ramen'.\n",
            "There are 0 directories and 7 images in '10_food_classes_1_percent/train/ice_cream'.\n",
            "There are 0 directories and 7 images in '10_food_classes_1_percent/train/fried_rice'.\n",
            "There are 10 directories and 0 images in '10_food_classes_1_percent/test'.\n",
            "There are 0 directories and 250 images in '10_food_classes_1_percent/test/grilled_salmon'.\n",
            "There are 0 directories and 250 images in '10_food_classes_1_percent/test/sushi'.\n",
            "There are 0 directories and 250 images in '10_food_classes_1_percent/test/hamburger'.\n",
            "There are 0 directories and 250 images in '10_food_classes_1_percent/test/chicken_curry'.\n",
            "There are 0 directories and 250 images in '10_food_classes_1_percent/test/pizza'.\n",
            "There are 0 directories and 250 images in '10_food_classes_1_percent/test/chicken_wings'.\n",
            "There are 0 directories and 250 images in '10_food_classes_1_percent/test/steak'.\n",
            "There are 0 directories and 250 images in '10_food_classes_1_percent/test/ramen'.\n",
            "There are 0 directories and 250 images in '10_food_classes_1_percent/test/ice_cream'.\n",
            "There are 0 directories and 250 images in '10_food_classes_1_percent/test/fried_rice'.\n"
          ]
        }
      ]
    },
    {
      "cell_type": "code",
      "metadata": {
        "colab": {
          "base_uri": "https://localhost:8080/"
        },
        "id": "Wb3Vecq2bQAQ",
        "outputId": "f2c4a2c9-80c7-4c87-ff55-111cca6e4d57"
      },
      "source": [
        "# Setup data loaders\n",
        "IMG_SIZE = (224, 224)\n",
        "train_data_1_percent = tf.keras.preprocessing.image_dataset_from_directory(train_dir_1_percent,\n",
        "                                                                      label_mode='categorical',\n",
        "                                                                      image_size=IMG_SIZE,\n",
        "                                                                      batch_size=BATCH_SIZE)\n",
        "\n",
        "test_data = tf.keras.preprocessing.image_dataset_from_directory(test_dir,\n",
        "                                                                label_mode='categorical',\n",
        "                                                                image_size=IMG_SIZE,\n",
        "                                                                batch_size=BATCH_SIZE)"
      ],
      "execution_count": null,
      "outputs": [
        {
          "output_type": "stream",
          "name": "stdout",
          "text": [
            "Found 70 files belonging to 10 classes.\n",
            "Found 2500 files belonging to 10 classes.\n"
          ]
        }
      ]
    },
    {
      "cell_type": "markdown",
      "metadata": {
        "id": "nW6BHdr3b_Lu"
      },
      "source": [
        "## Adding data augmentation right into the model\n",
        "\n",
        "To add data augmentation right into our models, we can use the layers inside:\n",
        "\n",
        "* `tf.keras.experimental.preprocessing()`\n",
        "\n",
        "We can see the benifits of doing this within the TensorFlow Data augmentation documentation: https://www.tensorflow.org/tutorials/image/data_augmentation\n",
        "\n",
        "Off the top our heads, after reading the docs, the benefits of using data augmetation inside the model are:\n",
        "\n",
        "* Preprocessing of image (augmenting them) happnes on the GPU (much faster) rather than CPU.\n",
        "\n",
        "* Image data augmentation."
      ]
    },
    {
      "cell_type": "code",
      "metadata": {
        "id": "hnQWVI5actbw"
      },
      "source": [
        "import tensorflow as tf\n",
        "from tensorflow import keras\n",
        "from tensorflow.keras import layers\n",
        "from tensorflow.keras.layers.experimental import preprocessing\n",
        "\n",
        "# Create data augmetation stage with horizontal flipping, roatation, zooms, etc\n",
        "data_augmentation = keras.Sequential([\n",
        "  preprocessing.RandomFlip('horizontal'),\n",
        "  preprocessing.RandomRotation(0.2),\n",
        "  preprocessing.RandomZoom(0.2),\n",
        "  preprocessing.RandomHeight(0.2),\n",
        "  preprocessing.RandomWidth(0.2),                                      \n",
        "], name='data_augmentation')\n",
        "\n"
      ],
      "execution_count": null,
      "outputs": []
    },
    {
      "cell_type": "code",
      "metadata": {
        "colab": {
          "base_uri": "https://localhost:8080/",
          "height": 528
        },
        "id": "hK-FyqmHrX7D",
        "outputId": "0b031be4-ad99-449b-95db-ae6499c2906d"
      },
      "source": [
        "# View a random image and compare it to it's augmentaed version\n",
        "import matplotlib.pyplot as plt\n",
        "import matplotlib.image as mpimg\n",
        "import os\n",
        "import random\n",
        "target_class = random.choice(train_data_1_percent.class_names)\n",
        "target_dir = '10_food_classes_1_percent/train/' + target_class\n",
        "random_image = random.choice(os.listdir(target_dir))\n",
        "random_image_path = target_dir + '/' + random_image\n",
        "\n",
        "# Read in the random image\n",
        "img = mpimg.imread(random_image_path)\n",
        "plt.imshow(img)\n",
        "plt.title(f'Original random image from class {target_class}')\n",
        "plt.axis(False)\n",
        "\n",
        "# Now let's plot our augmented random image\n",
        "augmented_img = data_augmentation(tf.expand_dims(img, axis=0))\n",
        "plt.figure()\n",
        "plt.imshow(tf.squeeze(augmented_img)/255.)\n",
        "plt.title(f'Augmented random image from class: {target_class}')\n",
        "plt.axis(False)"
      ],
      "execution_count": null,
      "outputs": [
        {
          "output_type": "execute_result",
          "data": {
            "text/plain": [
              "(-0.5, 572.5, 511.5, -0.5)"
            ]
          },
          "metadata": {},
          "execution_count": 24
        },
        {
          "output_type": "display_data",
          "data": {
            "image/png": "[encoded data removed]",
            "text/plain": [
              "<Figure size 432x288 with 1 Axes>"
            ]
          },
          "metadata": {
            "needs_background": "light"
          }
        },
        {
          "output_type": "display_data",
          "data": {
            "image/png": "[encoded data removed]",
            "text/plain": [
              "<Figure size 432x288 with 1 Axes>"
            ]
          },
          "metadata": {
            "needs_background": "light"
          }
        }
      ]
    },
    {
      "cell_type": "markdown",
      "metadata": {
        "id": "aqcyTBZUrca4"
      },
      "source": [
        "## Model 1: Feature extraction transfer learning on 1% of the data with data augmentation"
      ]
    },
    {
      "cell_type": "code",
      "metadata": {
        "id": "njd8NJCpuB7K",
        "colab": {
          "base_uri": "https://localhost:8080/"
        },
        "outputId": "a05b105b-c405-4e2e-ea8d-9af6427e3d99"
      },
      "source": [
        "# Setup input shape and base model, freezing the base model layer\n",
        "input_shape = (224, 224, 3)\n",
        "base_model = tf.keras.applications.EfficientNetB0(include_top=False)\n",
        "base_model.trainable = False\n",
        "\n",
        "# Create input layer\n",
        "inputs = layers.Input(shape=input_shape, name='input_layer')\n",
        "\n",
        "# Add in data augmentation sequential model as a layer\n",
        "x = data_augmentation(inputs)\n",
        "\n",
        "# Give base_model the inputs (after augmentation) and don't train it\n",
        "x = base_model(x, training=False)\n",
        "\n",
        "# Pool output features of the base model\n",
        "x = layers.GlobalAveragePooling2D(name='global_average_pooling_layer')(x)\n",
        "\n",
        "# Put a dense layer on as the output\n",
        "outputs = layers.Dense(10, activation='softmax', name = 'output_layer')(x)\n",
        "\n",
        "# Make a model using the input and outputs\n",
        "model_1 = keras.Model(inputs, outputs)\n",
        "\n",
        "# Compile the model\n",
        "model_1.compile(loss='categorical_crossentropy',\n",
        "                optimizer=tf.keras.optimizers.Adam(),\n",
        "                metrics=['accuracy'])\n",
        "\n",
        "# Fit the model\n",
        "history_1_percent = model_1.fit(train_data_1_percent,\n",
        "                                epochs=5,\n",
        "                                steps_per_epoch=len(train_data_1_percent),\n",
        "                                validation_data=test_data,\n",
        "                                validation_steps=len(test_data),\n",
        "                                callbacks=[create_tensorboard_callback(dir_name='transfer_learning',\n",
        "                                                                        experiment_name='1_percent_data_aug')])"
      ],
      "execution_count": null,
      "outputs": [
        {
          "output_type": "stream",
          "name": "stdout",
          "text": [
            "Saving TensorBoard log files to: transfer_learning/1_percent_data_aug/20211015-224304\n",
            "Epoch 1/5\n"
          ]
        },
        {
          "output_type": "stream",
          "name": "stderr",
          "text": [
            "/usr/local/lib/python3.7/dist-packages/keras/utils/generic_utils.py:497: CustomMaskWarning: Custom mask layers require a config and must override get_config. When loading, the custom mask layer must be passed to the custom_objects argument.\n",
            "  category=CustomMaskWarning)\n"
          ]
        },
        {
          "output_type": "stream",
          "name": "stdout",
          "text": [
            "3/3 [==============================] - 32s 12s/step - loss: 2.3721 - accuracy: 0.1143 - val_loss: 2.2219 - val_accuracy: 0.1824\n",
            "Epoch 2/5\n",
            "3/3 [==============================] - 12s 6s/step - loss: 2.1191 - accuracy: 0.3000 - val_loss: 2.0998 - val_accuracy: 0.2696\n",
            "Epoch 3/5\n",
            "3/3 [==============================] - 12s 5s/step - loss: 1.9728 - accuracy: 0.4143 - val_loss: 1.9926 - val_accuracy: 0.3332\n",
            "Epoch 4/5\n",
            "3/3 [==============================] - 12s 6s/step - loss: 1.8125 - accuracy: 0.4571 - val_loss: 1.9011 - val_accuracy: 0.3924\n",
            "Epoch 5/5\n",
            "3/3 [==============================] - 12s 6s/step - loss: 1.6725 - accuracy: 0.6143 - val_loss: 1.8177 - val_accuracy: 0.4380\n"
          ]
        }
      ]
    },
    {
      "cell_type": "code",
      "metadata": {
        "colab": {
          "base_uri": "https://localhost:8080/"
        },
        "id": "hKigquonP8Kp",
        "outputId": "1c5b385f-928e-48a7-b1ad-f3bd90634162"
      },
      "source": [
        "# Check out the model summary\n",
        "model_1.summary()"
      ],
      "execution_count": null,
      "outputs": [
        {
          "output_type": "stream",
          "name": "stdout",
          "text": [
            "Model: \"model_1\"\n",
            "_________________________________________________________________\n",
            "Layer (type)                 Output Shape              Param #   \n",
            "=================================================================\n",
            "input_layer (InputLayer)     [(None, 224, 224, 3)]     0         \n",
            "_________________________________________________________________\n",
            "data_augmentation (Sequentia (None, None, None, 3)     0         \n",
            "_________________________________________________________________\n",
            "efficientnetb0 (Functional)  (None, None, None, 1280)  4049571   \n",
            "_________________________________________________________________\n",
            "global_average_pooling_layer (None, 1280)              0         \n",
            "_________________________________________________________________\n",
            "output_layer (Dense)         (None, 10)                12810     \n",
            "=================================================================\n",
            "Total params: 4,062,381\n",
            "Trainable params: 12,810\n",
            "Non-trainable params: 4,049,571\n",
            "_________________________________________________________________\n"
          ]
        }
      ]
    },
    {
      "cell_type": "code",
      "metadata": {
        "colab": {
          "base_uri": "https://localhost:8080/"
        },
        "id": "aDRPT6drP_TF",
        "outputId": "a850c129-4d2c-4a77-99dc-6d2ffe243114"
      },
      "source": [
        "# Evaluate on the full test_data set\n",
        "results_1_percent_data_aug = model_1.evaluate(test_data)"
      ],
      "execution_count": null,
      "outputs": [
        {
          "output_type": "stream",
          "name": "stdout",
          "text": [
            "79/79 [==============================] - 11s 130ms/step - loss: 1.8177 - accuracy: 0.4380\n"
          ]
        }
      ]
    },
    {
      "cell_type": "code",
      "metadata": {
        "colab": {
          "base_uri": "https://localhost:8080/",
          "height": 573
        },
        "id": "FJ7MkhOLTtC3",
        "outputId": "23182104-d752-4c10-b86c-355204c1fe83"
      },
      "source": [
        "# How do the model with 1% of data and data augmentation loss curves look?\n",
        "plot_loss_curves(history_1_percent)"
      ],
      "execution_count": null,
      "outputs": [
        {
          "output_type": "display_data",
          "data": {
            "image/png": "[encoded data removed]",
            "text/plain": [
              "<Figure size 432x288 with 1 Axes>"
            ]
          },
          "metadata": {
            "needs_background": "light"
          }
        },
        {
          "output_type": "display_data",
          "data": {
            "image/png": "[encoded data removed]",
            "text/plain": [
              "<Figure size 432x288 with 1 Axes>"
            ]
          },
          "metadata": {
            "needs_background": "light"
          }
        }
      ]
    },
    {
      "cell_type": "markdown",
      "metadata": {
        "id": "n7IvybyJT_ya"
      },
      "source": [
        "## Model 2: Feature extraction transfer learning with 10% of the full data with data augmentation"
      ]
    },
    {
      "cell_type": "code",
      "metadata": {
        "colab": {
          "base_uri": "https://localhost:8080/"
        },
        "id": "3pZDO5M3IgA-",
        "outputId": "3e330a1f-831c-4096-a5fe-e062ffea7fa6"
      },
      "source": [
        "# Get 10% of the data\n",
        "# unzip _data(10_food_classes_10_percent)\n",
        "\n",
        "train_dir_10_percent = '10_food_classes_10_percent/train'\n",
        "test_dir = '10_food_classes_10_percent/test'\n",
        "\n",
        "IMG_SHAPE = (224, 224)\n",
        "train_data_10_percent = tf.keras.preprocessing.image_dataset_from_directory(train_dir_10_percent,\n",
        "                                                                            label_mode='categorical',\n",
        "                                                                            image_size=IMG_SHAPE)\n",
        "\n",
        "test_data = tf.keras.preprocessing.image_dataset_from_directory(test_dir,\n",
        "                                                                label_mode='categorical',\n",
        "                                                                image_size=IMG_SHAPE)"
      ],
      "execution_count": null,
      "outputs": [
        {
          "output_type": "stream",
          "name": "stdout",
          "text": [
            "Found 750 files belonging to 10 classes.\n",
            "Found 2500 files belonging to 10 classes.\n"
          ]
        }
      ]
    },
    {
      "cell_type": "code",
      "metadata": {
        "id": "NYR6cc-TJpdQ"
      },
      "source": [
        "# Create model_2 with data augmentation built in\n",
        "from tensorflow.keras import layers\n",
        "from tensorflow.keras.layers.experimental import preprocessing\n",
        "from tensorflow.keras.models import Sequential\n",
        "\n",
        "# Build data augmentation layer\n",
        "data_augmentation = Sequential([\n",
        "  preprocessing.RandomFlip('horizontal'),\n",
        "  preprocessing.RandomHeight(0.2),\n",
        "  preprocessing.RandomWidth(0.2),\n",
        "  preprocessing.RandomZoom(0.2),\n",
        "  preprocessing.RandomRotation(0.2),\n",
        "  # preprocessing.Rescaling(1./225) # If you are using a model such as ResNet50V2, you will need to rescale your data, efficientnet has rescaling built-in\n",
        "\n",
        "], name='data_augmentation')\n",
        "\n",
        "# Setup the input shape to our model\n",
        "input_shape = (224, 224, 3)\n",
        "\n",
        "# Create a frozen base model (also called the backbone)\n",
        "base_model = tf.keras.applications.EfficientNetB0(include_top=False)\n",
        "base_model.trainable = False\n",
        "\n",
        "# Create the inputs and outputs (including teh layers in between)\n",
        "inputs = layers.Input(shape=input_shape, name='input_layer')\n",
        "x = data_augmentation(inputs)\n",
        "x = base_model(x, training=False) # Pass the augmented images to the base model but keep it in inference mode, this also insures batchnorm layers don't get updated\n",
        "x = layers.GlobalAveragePooling2D(name='global_average_pooling_2D')(x)\n",
        "outputs = layers.Dense(10, activation='softmax', name='output_layer')(x)\n",
        "model_2 = tf.keras.Model(inputs, outputs)\n",
        "\n",
        "# compile the mode\n",
        "model_2.compile(loss='categorical_crossentropy',\n",
        "                optimizer=tf.keras.optimizers.Adam(),\n",
        "                metrics=['accuracy'])\n"
      ],
      "execution_count": null,
      "outputs": []
    },
    {
      "cell_type": "code",
      "metadata": {
        "colab": {
          "base_uri": "https://localhost:8080/"
        },
        "id": "0TT3dJfkL17N",
        "outputId": "6756440c-742b-4d12-884a-7dd8606f8280"
      },
      "source": [
        "model_2.summary()"
      ],
      "execution_count": null,
      "outputs": [
        {
          "output_type": "stream",
          "name": "stdout",
          "text": [
            "Model: \"model_2\"\n",
            "_________________________________________________________________\n",
            "Layer (type)                 Output Shape              Param #   \n",
            "=================================================================\n",
            "input_layer (InputLayer)     [(None, 224, 224, 3)]     0         \n",
            "_________________________________________________________________\n",
            "data_augmentation (Sequentia (None, None, None, 3)     0         \n",
            "_________________________________________________________________\n",
            "efficientnetb0 (Functional)  (None, None, None, 1280)  4049571   \n",
            "_________________________________________________________________\n",
            "global_average_pooling_2D (G (None, 1280)              0         \n",
            "_________________________________________________________________\n",
            "output_layer (Dense)         (None, 10)                12810     \n",
            "=================================================================\n",
            "Total params: 4,062,381\n",
            "Trainable params: 12,810\n",
            "Non-trainable params: 4,049,571\n",
            "_________________________________________________________________\n"
          ]
        }
      ]
    },
    {
      "cell_type": "markdown",
      "metadata": {
        "id": "bZtD33yyM1nW"
      },
      "source": [
        "### Creating a ModelCheckpoint callback\n",
        "\n",
        "The ModelCheckpoint callback intermediately saves our model (the full model or just the weights) during training. This is useful so we can come and start where we left off."
      ]
    },
    {
      "cell_type": "code",
      "metadata": {
        "id": "iUvYU-KSN1_5"
      },
      "source": [
        "# Set checkpoint path\n",
        "checkpoint_path = 'ten_percent_model_checkpoint_weights/checkpoints.ckpt'\n",
        "\n",
        "# Create a ModelCheckpoint callback that saves the model's weights only\n",
        "checkpoint_callback = tf.keras.callbacks.ModelCheckpoint(filepath=checkpoint_path,\n",
        "                                                         save_weights_only=True,\n",
        "                                                         save_best_only=False,\n",
        "                                                         save_freq='epoch',\n",
        "                                                         verbose=1)"
      ],
      "execution_count": null,
      "outputs": []
    },
    {
      "cell_type": "markdown",
      "metadata": {
        "id": "btQoYG2VOfo5"
      },
      "source": [
        "### Fit model_2 passing in the model checkpoint callback"
      ]
    },
    {
      "cell_type": "code",
      "metadata": {
        "colab": {
          "base_uri": "https://localhost:8080/"
        },
        "id": "j-UptUQKOoOk",
        "outputId": "bfd27dda-e520-4543-eda5-7e437878c9d5"
      },
      "source": [
        "# Fit the model saving checkpoints every epoch\n",
        "initial_epochs = 5\n",
        "history_10_percent_data_aug = model_2.fit(train_data_10_percent,\n",
        "                                          epochs=initial_epochs,\n",
        "                                          validation_data=test_data,\n",
        "                                          validation_steps=int(0.25 * len(test_data)),\n",
        "                                          callbacks=[create_tensorboard_callback(dir_name='transfer_learning',\n",
        "\n",
        "                                                                                 experiment_name='10_percent_data_aug'), checkpoint_callback])"
      ],
      "execution_count": null,
      "outputs": [
        {
          "output_type": "stream",
          "name": "stdout",
          "text": [
            "Saving TensorBoard log files to: transfer_learning/10_percent_data_aug/20211015-231540\n",
            "Epoch 1/5\n"
          ]
        },
        {
          "output_type": "stream",
          "name": "stderr",
          "text": [
            "/usr/local/lib/python3.7/dist-packages/keras/utils/generic_utils.py:497: CustomMaskWarning: Custom mask layers require a config and must override get_config. When loading, the custom mask layer must be passed to the custom_objects argument.\n",
            "  category=CustomMaskWarning)\n"
          ]
        },
        {
          "output_type": "stream",
          "name": "stdout",
          "text": [
            "24/24 [==============================] - 25s 750ms/step - loss: 1.9970 - accuracy: 0.3280 - val_loss: 1.4841 - val_accuracy: 0.6234\n",
            "\n",
            "Epoch 00001: saving model to ten_percent_model_checkpoint_weights/checkpoints.ckpt\n",
            "Epoch 2/5\n",
            "24/24 [==============================] - 15s 611ms/step - loss: 1.3745 - accuracy: 0.6573 - val_loss: 1.0468 - val_accuracy: 0.7664\n",
            "\n",
            "Epoch 00002: saving model to ten_percent_model_checkpoint_weights/checkpoints.ckpt\n",
            "Epoch 3/5\n",
            "24/24 [==============================] - 17s 690ms/step - loss: 1.0850 - accuracy: 0.7173 - val_loss: 0.8654 - val_accuracy: 0.7829\n",
            "\n",
            "Epoch 00003: saving model to ten_percent_model_checkpoint_weights/checkpoints.ckpt\n",
            "Epoch 4/5\n",
            "24/24 [==============================] - 14s 563ms/step - loss: 0.9241 - accuracy: 0.7627 - val_loss: 0.7508 - val_accuracy: 0.8076\n",
            "\n",
            "Epoch 00004: saving model to ten_percent_model_checkpoint_weights/checkpoints.ckpt\n",
            "Epoch 5/5\n",
            "24/24 [==============================] - 13s 526ms/step - loss: 0.8172 - accuracy: 0.7787 - val_loss: 0.6928 - val_accuracy: 0.8109\n",
            "\n",
            "Epoch 00005: saving model to ten_percent_model_checkpoint_weights/checkpoints.ckpt\n"
          ]
        }
      ]
    },
    {
      "cell_type": "code",
      "metadata": {
        "colab": {
          "base_uri": "https://localhost:8080/"
        },
        "id": "nrewb7TrPTqM",
        "outputId": "1ac0a53a-693d-41a1-dfbc-fbadd89b4d0d"
      },
      "source": [
        "model_0.evaluate(test_data)"
      ],
      "execution_count": null,
      "outputs": [
        {
          "output_type": "stream",
          "name": "stdout",
          "text": [
            "79/79 [==============================] - 11s 131ms/step - loss: 0.6137 - accuracy: 0.8384\n"
          ]
        },
        {
          "output_type": "execute_result",
          "data": {
            "text/plain": [
              "[0.6136656999588013, 0.8384000062942505]"
            ]
          },
          "metadata": {},
          "execution_count": 43
        }
      ]
    },
    {
      "cell_type": "code",
      "metadata": {
        "colab": {
          "base_uri": "https://localhost:8080/"
        },
        "id": "-ie5G0_kPg0B",
        "outputId": "9c922e04-7a06-43e8-990f-7865c2525ced"
      },
      "source": [
        "# Check model_2 results on all test data\n",
        "results_10_percent_data_aug = model_2.evaluate(test_data)\n",
        "results_10_percent_data_aug"
      ],
      "execution_count": null,
      "outputs": [
        {
          "output_type": "stream",
          "name": "stdout",
          "text": [
            "79/79 [==============================] - 11s 133ms/step - loss: 0.6985 - accuracy: 0.8128\n"
          ]
        },
        {
          "output_type": "execute_result",
          "data": {
            "text/plain": [
              "[0.6985285878181458, 0.8127999901771545]"
            ]
          },
          "metadata": {},
          "execution_count": 45
        }
      ]
    },
    {
      "cell_type": "code",
      "metadata": {
        "colab": {
          "base_uri": "https://localhost:8080/",
          "height": 573
        },
        "id": "jkGVLsasPi5Y",
        "outputId": "593e8fab-0a1f-4f77-a2d7-4b059c96c367"
      },
      "source": [
        "plot_loss_curves(history_10_percent_data_aug)"
      ],
      "execution_count": null,
      "outputs": [
        {
          "output_type": "display_data",
          "data": {
            "image/png": "[encoded data removed]",
            "text/plain": [
              "<Figure size 432x288 with 1 Axes>"
            ]
          },
          "metadata": {
            "needs_background": "light"
          }
        },
        {
          "output_type": "display_data",
          "data": {
            "image/png": "[encoded data removed]",
            "text/plain": [
              "<Figure size 432x288 with 1 Axes>"
            ]
          },
          "metadata": {
            "needs_background": "light"
          }
        }
      ]
    },
    {
      "cell_type": "markdown",
      "metadata": {
        "id": "CObWwn2oQJqz"
      },
      "source": [
        "### Loading in checkpointed weights\n",
        "\n",
        "Loading in checkpointed weights returns a model to a specific checkpoint."
      ]
    },
    {
      "cell_type": "code",
      "metadata": {
        "colab": {
          "base_uri": "https://localhost:8080/"
        },
        "id": "QOSfrZzZQdO2",
        "outputId": "83c77f8a-2662-49d6-9334-8a74287d6466"
      },
      "source": [
        "# Load in saved model weights and evaluate model\n",
        "model_2.load_weights(checkpoint_path)"
      ],
      "execution_count": null,
      "outputs": [
        {
          "output_type": "execute_result",
          "data": {
            "text/plain": [
              "<tensorflow.python.training.tracking.util.CheckpointLoadStatus at 0x7fc816254e50>"
            ]
          },
          "metadata": {},
          "execution_count": 47
        }
      ]
    },
    {
      "cell_type": "code",
      "metadata": {
        "colab": {
          "base_uri": "https://localhost:8080/"
        },
        "id": "PGp2XXi3Qtbv",
        "outputId": "e2d5f872-410b-41dc-d0c8-0efb6188d7d6"
      },
      "source": [
        "# Evaluate mdoel_2 with loaded weights\n",
        "loaded_weights_model_results = model_2.evaluate(test_data)"
      ],
      "execution_count": null,
      "outputs": [
        {
          "output_type": "stream",
          "name": "stdout",
          "text": [
            "79/79 [==============================] - 11s 132ms/step - loss: 0.6985 - accuracy: 0.8128\n"
          ]
        }
      ]
    },
    {
      "cell_type": "code",
      "metadata": {
        "colab": {
          "base_uri": "https://localhost:8080/"
        },
        "id": "h_Sl6OYNQ5Zw",
        "outputId": "a9e3974b-bdb5-45ff-b118-3485d7664734"
      },
      "source": [
        "# If the results from our previously evaluate model_2 match the loaded weights, everything has worked!\n",
        "results_10_percent_data_aug"
      ],
      "execution_count": null,
      "outputs": [
        {
          "output_type": "execute_result",
          "data": {
            "text/plain": [
              "[0.6985285878181458, 0.8127999901771545]"
            ]
          },
          "metadata": {},
          "execution_count": 49
        }
      ]
    },
    {
      "cell_type": "code",
      "metadata": {
        "colab": {
          "base_uri": "https://localhost:8080/"
        },
        "id": "fVEhAjOdRGA6",
        "outputId": "1ba56ab1-c220-443c-d128-0dbb1e45a108"
      },
      "source": [
        "loaded_weights_model_results"
      ],
      "execution_count": null,
      "outputs": [
        {
          "output_type": "execute_result",
          "data": {
            "text/plain": [
              "[0.6985287070274353, 0.8127999901771545]"
            ]
          },
          "metadata": {},
          "execution_count": 50
        }
      ]
    },
    {
      "cell_type": "code",
      "metadata": {
        "colab": {
          "base_uri": "https://localhost:8080/"
        },
        "id": "1WfkWNkJRH7p",
        "outputId": "556b4bcf-3569-4ede-eb9b-bbed3ec62fc0"
      },
      "source": [
        "# Check to see if loaded model results are very close to our previous non-loaded model results\n",
        "import numpy as np\n",
        "np.isclose(np.array(results_10_percent_data_aug),np.array(loaded_weights_model_results))"
      ],
      "execution_count": null,
      "outputs": [
        {
          "output_type": "execute_result",
          "data": {
            "text/plain": [
              "array([ True,  True])"
            ]
          },
          "metadata": {},
          "execution_count": 51
        }
      ]
    },
    {
      "cell_type": "code",
      "metadata": {
        "colab": {
          "base_uri": "https://localhost:8080/"
        },
        "id": "PBbKckx_Rh7Q",
        "outputId": "ebf23151-aa78-4f2d-9fdc-b490891c25c5"
      },
      "source": [
        "# Check the difference between the two results\n",
        "print(np.array(results_10_percent_data_aug) - np.array(loaded_weights_model_results))"
      ],
      "execution_count": null,
      "outputs": [
        {
          "output_type": "stream",
          "name": "stdout",
          "text": [
            "[-1.1920929e-07  0.0000000e+00]\n"
          ]
        }
      ]
    },
    {
      "cell_type": "markdown",
      "metadata": {
        "id": "Ps8JR5CcRr40"
      },
      "source": [
        "## Model 3: Fine-tuning an existing model on 10% of the data\n",
        "\n",
        ">**Note:** Fine-tuning usually work best **after&& training a feature extraction model for a few epochs with large amounts of custom data.\n"
      ]
    },
    {
      "cell_type": "code",
      "metadata": {
        "colab": {
          "base_uri": "https://localhost:8080/"
        },
        "id": "hEJbPruLTa2E",
        "outputId": "3d6cf695-a4be-46f2-843a-9a68ab8e0b5e"
      },
      "source": [
        "# Layers in our loaded model\n",
        "model_2.layers"
      ],
      "execution_count": null,
      "outputs": [
        {
          "output_type": "execute_result",
          "data": {
            "text/plain": [
              "[<keras.engine.input_layer.InputLayer at 0x7fc816cda6d0>,\n",
              " <keras.engine.sequential.Sequential at 0x7fc816d68c50>,\n",
              " <keras.engine.functional.Functional at 0x7fc815f92990>,\n",
              " <keras.layers.pooling.GlobalAveragePooling2D at 0x7fc816a3b9d0>,\n",
              " <keras.layers.core.Dense at 0x7fc816a32690>]"
            ]
          },
          "metadata": {},
          "execution_count": 53
        }
      ]
    },
    {
      "cell_type": "code",
      "metadata": {
        "colab": {
          "base_uri": "https://localhost:8080/"
        },
        "id": "9wOi9jt7TtvM",
        "outputId": "1e57e4ae-f681-46ba-c338-81d8526f6c07"
      },
      "source": [
        "# Are these layers trainable?\n",
        "for layer in model_2.layers:\n",
        "  print(layer, layer.trainable)"
      ],
      "execution_count": null,
      "outputs": [
        {
          "output_type": "stream",
          "name": "stdout",
          "text": [
            "<keras.engine.input_layer.InputLayer object at 0x7fc816cda6d0> True\n",
            "<keras.engine.sequential.Sequential object at 0x7fc816d68c50> True\n",
            "<keras.engine.functional.Functional object at 0x7fc815f92990> False\n",
            "<keras.layers.pooling.GlobalAveragePooling2D object at 0x7fc816a3b9d0> True\n",
            "<keras.layers.core.Dense object at 0x7fc816a32690> True\n"
          ]
        }
      ]
    },
    {
      "cell_type": "code",
      "metadata": {
        "colab": {
          "base_uri": "https://localhost:8080/"
        },
        "id": "TyNISKujT4Cq",
        "outputId": "1892c866-77f7-4426-ee21-7394f6f8b278"
      },
      "source": [
        "# What layers are in our base model and are they trainable?\n",
        "for i, layer in enumerate(model_2.layers[2].layers):\n",
        "  print(i, layer, layer.trainable)"
      ],
      "execution_count": null,
      "outputs": [
        {
          "output_type": "stream",
          "name": "stdout",
          "text": [
            "0 <keras.engine.input_layer.InputLayer object at 0x7fc816d68ad0> False\n",
            "1 <keras.layers.preprocessing.image_preprocessing.Rescaling object at 0x7fc816d68d50> False\n",
            "2 <keras.layers.preprocessing.normalization.Normalization object at 0x7fc816c967d0> False\n",
            "3 <keras.layers.convolutional.ZeroPadding2D object at 0x7fc816c9bf10> False\n",
            "4 <keras.layers.convolutional.Conv2D object at 0x7fc816c90810> False\n",
            "5 <keras.layers.normalization.batch_normalization.BatchNormalization object at 0x7fc816c9b090> False\n",
            "6 <keras.layers.core.Activation object at 0x7fc816cf5a50> False\n",
            "7 <keras.layers.convolutional.DepthwiseConv2D object at 0x7fc816d26150> False\n",
            "8 <keras.layers.normalization.batch_normalization.BatchNormalization object at 0x7fc816d1a650> False\n",
            "9 <keras.layers.core.Activation object at 0x7fc816c96b50> False\n",
            "10 <keras.layers.pooling.GlobalAveragePooling2D object at 0x7fc816d2db10> False\n",
            "11 <keras.layers.core.Reshape object at 0x7fc816de7190> False\n",
            "12 <keras.layers.convolutional.Conv2D object at 0x7fc816e36650> False\n",
            "13 <keras.layers.convolutional.Conv2D object at 0x7fc816e3d290> False\n",
            "14 <keras.layers.merge.Multiply object at 0x7fc816d80350> False\n",
            "15 <keras.layers.convolutional.Conv2D object at 0x7fc816cfd9d0> False\n",
            "16 <keras.layers.normalization.batch_normalization.BatchNormalization object at 0x7fc816dc7210> False\n",
            "17 <keras.layers.convolutional.Conv2D object at 0x7fc816dd65d0> False\n",
            "18 <keras.layers.normalization.batch_normalization.BatchNormalization object at 0x7fc816d47110> False\n",
            "19 <keras.layers.core.Activation object at 0x7fc816d9ab10> False\n",
            "20 <keras.layers.convolutional.ZeroPadding2D object at 0x7fc816d88510> False\n",
            "21 <keras.layers.convolutional.DepthwiseConv2D object at 0x7fc816d8e190> False\n",
            "22 <keras.layers.normalization.batch_normalization.BatchNormalization object at 0x7fc816d2d9d0> False\n",
            "23 <keras.layers.core.Activation object at 0x7fc816b79110> False\n",
            "24 <keras.layers.pooling.GlobalAveragePooling2D object at 0x7fc816db5390> False\n",
            "25 <keras.layers.core.Reshape object at 0x7fc816d58250> False\n",
            "26 <keras.layers.convolutional.Conv2D object at 0x7fc816d50150> False\n",
            "27 <keras.layers.convolutional.Conv2D object at 0x7fc816e86a10> False\n",
            "28 <keras.layers.merge.Multiply object at 0x7fc816e61790> False\n",
            "29 <keras.layers.convolutional.Conv2D object at 0x7fc816efac90> False\n",
            "30 <keras.layers.normalization.batch_normalization.BatchNormalization object at 0x7fc816ef6190> False\n",
            "31 <keras.layers.convolutional.Conv2D object at 0x7fc816e53950> False\n",
            "32 <keras.layers.normalization.batch_normalization.BatchNormalization object at 0x7fc816eee190> False\n",
            "33 <keras.layers.core.Activation object at 0x7fc816df60d0> False\n",
            "34 <keras.layers.convolutional.DepthwiseConv2D object at 0x7fc816dd6190> False\n",
            "35 <keras.layers.normalization.batch_normalization.BatchNormalization object at 0x7fc816df9350> False\n",
            "36 <keras.layers.core.Activation object at 0x7fc816cc20d0> False\n",
            "37 <keras.layers.pooling.GlobalAveragePooling2D object at 0x7fc816e74d50> False\n",
            "38 <keras.layers.core.Reshape object at 0x7fc816e816d0> False\n",
            "39 <keras.layers.convolutional.Conv2D object at 0x7fc816e9a910> False\n",
            "40 <keras.layers.convolutional.Conv2D object at 0x7fc816e74250> False\n",
            "41 <keras.layers.merge.Multiply object at 0x7fc816e6a4d0> False\n",
            "42 <keras.layers.convolutional.Conv2D object at 0x7fc816eeb950> False\n",
            "43 <keras.layers.normalization.batch_normalization.BatchNormalization object at 0x7fc816ea6790> False\n",
            "44 <keras.layers.core.Dropout object at 0x7fc816ee2ed0> False\n",
            "45 <keras.layers.merge.Add object at 0x7fc816e1df50> False\n",
            "46 <keras.layers.convolutional.Conv2D object at 0x7fc816e1a550> False\n",
            "47 <keras.layers.normalization.batch_normalization.BatchNormalization object at 0x7fc816e087d0> False\n",
            "48 <keras.layers.core.Activation object at 0x7fc816eeb6d0> False\n",
            "49 <keras.layers.convolutional.ZeroPadding2D object at 0x7fc816e98950> False\n",
            "50 <keras.layers.convolutional.DepthwiseConv2D object at 0x7fc816f98210> False\n",
            "51 <keras.layers.normalization.batch_normalization.BatchNormalization object at 0x7fc816f99ad0> False\n",
            "52 <keras.layers.core.Activation object at 0x7fc816e266d0> False\n",
            "53 <keras.layers.pooling.GlobalAveragePooling2D object at 0x7fc816e2ed10> False\n",
            "54 <keras.layers.core.Reshape object at 0x7fc816fb1150> False\n",
            "55 <keras.layers.convolutional.Conv2D object at 0x7fc816e123d0> False\n",
            "56 <keras.layers.convolutional.Conv2D object at 0x7fc816e21750> False\n",
            "57 <keras.layers.merge.Multiply object at 0x7fc8902c1810> False\n",
            "58 <keras.layers.convolutional.Conv2D object at 0x7fc816ff0610> False\n",
            "59 <keras.layers.normalization.batch_normalization.BatchNormalization object at 0x7fc816ff02d0> False\n",
            "60 <keras.layers.convolutional.Conv2D object at 0x7fc816ec9790> False\n",
            "61 <keras.layers.normalization.batch_normalization.BatchNormalization object at 0x7fc816f32b90> False\n",
            "62 <keras.layers.core.Activation object at 0x7fc817068d10> False\n",
            "63 <keras.layers.convolutional.DepthwiseConv2D object at 0x7fc816a9dd10> False\n",
            "64 <keras.layers.normalization.batch_normalization.BatchNormalization object at 0x7fc816f9ce90> False\n",
            "65 <keras.layers.core.Activation object at 0x7fc817127590> False\n",
            "66 <keras.layers.pooling.GlobalAveragePooling2D object at 0x7fc816a91610> False\n",
            "67 <keras.layers.core.Reshape object at 0x7fc816a99690> False\n",
            "68 <keras.layers.convolutional.Conv2D object at 0x7fc816a58410> False\n",
            "69 <keras.layers.convolutional.Conv2D object at 0x7fc816a92050> False\n",
            "70 <keras.layers.merge.Multiply object at 0x7fc816a92810> False\n",
            "71 <keras.layers.convolutional.Conv2D object at 0x7fc81713e890> False\n",
            "72 <keras.layers.normalization.batch_normalization.BatchNormalization object at 0x7fc817069fd0> False\n",
            "73 <keras.layers.core.Dropout object at 0x7fc8170b1a90> False\n",
            "74 <keras.layers.merge.Add object at 0x7fc816eebfd0> False\n",
            "75 <keras.layers.convolutional.Conv2D object at 0x7fc816e29a50> False\n",
            "76 <keras.layers.normalization.batch_normalization.BatchNormalization object at 0x7fc816fb1450> False\n",
            "77 <keras.layers.core.Activation object at 0x7fc816b47590> False\n",
            "78 <keras.layers.convolutional.ZeroPadding2D object at 0x7fc816d4e1d0> False\n",
            "79 <keras.layers.convolutional.DepthwiseConv2D object at 0x7fc816ea62d0> False\n",
            "80 <keras.layers.normalization.batch_normalization.BatchNormalization object at 0x7fc816d05190> False\n",
            "81 <keras.layers.core.Activation object at 0x7fc816aa3450> False\n",
            "82 <keras.layers.pooling.GlobalAveragePooling2D object at 0x7fc816aaaed0> False\n",
            "83 <keras.layers.core.Reshape object at 0x7fc816db5510> False\n",
            "84 <keras.layers.convolutional.Conv2D object at 0x7fc81c1dcad0> False\n",
            "85 <keras.layers.convolutional.Conv2D object at 0x7fc88f790950> False\n",
            "86 <keras.layers.merge.Multiply object at 0x7fc81c1dc950> False\n",
            "87 <keras.layers.convolutional.Conv2D object at 0x7fc88faf1a50> False\n",
            "88 <keras.layers.normalization.batch_normalization.BatchNormalization object at 0x7fc88fa86e50> False\n",
            "89 <keras.layers.convolutional.Conv2D object at 0x7fc88fa7ff90> False\n",
            "90 <keras.layers.normalization.batch_normalization.BatchNormalization object at 0x7fc88faf1f50> False\n",
            "91 <keras.layers.core.Activation object at 0x7fc88e534950> False\n",
            "92 <keras.layers.convolutional.DepthwiseConv2D object at 0x7fc908b855d0> False\n",
            "93 <keras.layers.normalization.batch_normalization.BatchNormalization object at 0x7fc818902790> False\n",
            "94 <keras.layers.core.Activation object at 0x7fc818902b50> False\n",
            "95 <keras.layers.pooling.GlobalAveragePooling2D object at 0x7fc88faaef50> False\n",
            "96 <keras.layers.core.Reshape object at 0x7fc88fa9ac10> False\n",
            "97 <keras.layers.convolutional.Conv2D object at 0x7fc88fad4a90> False\n",
            "98 <keras.layers.convolutional.Conv2D object at 0x7fc88fa4a910> False\n",
            "99 <keras.layers.merge.Multiply object at 0x7fc88fadfc50> False\n",
            "100 <keras.layers.convolutional.Conv2D object at 0x7fc88fadb810> False\n",
            "101 <keras.layers.normalization.batch_normalization.BatchNormalization object at 0x7fc88fa4ec50> False\n",
            "102 <keras.layers.core.Dropout object at 0x7fc88fa4ea90> False\n",
            "103 <keras.layers.merge.Add object at 0x7fc88fc7bf50> False\n",
            "104 <keras.layers.convolutional.Conv2D object at 0x7fc88e42a950> False\n",
            "105 <keras.layers.normalization.batch_normalization.BatchNormalization object at 0x7fc88e565450> False\n",
            "106 <keras.layers.core.Activation object at 0x7fc88fc7b350> False\n",
            "107 <keras.layers.convolutional.DepthwiseConv2D object at 0x7fc88fb055d0> False\n",
            "108 <keras.layers.normalization.batch_normalization.BatchNormalization object at 0x7fc816b94f10> False\n",
            "109 <keras.layers.core.Activation object at 0x7fc816c5f850> False\n",
            "110 <keras.layers.pooling.GlobalAveragePooling2D object at 0x7fc816bc2550> False\n",
            "111 <keras.layers.core.Reshape object at 0x7fc816bb8110> False\n",
            "112 <keras.layers.convolutional.Conv2D object at 0x7fc816bea290> False\n",
            "113 <keras.layers.convolutional.Conv2D object at 0x7fc816c5f790> False\n",
            "114 <keras.layers.merge.Multiply object at 0x7fc88e567090> False\n",
            "115 <keras.layers.convolutional.Conv2D object at 0x7fc88fa38210> False\n",
            "116 <keras.layers.normalization.batch_normalization.BatchNormalization object at 0x7fc88fc699d0> False\n",
            "117 <keras.layers.core.Dropout object at 0x7fc816e33a90> False\n",
            "118 <keras.layers.merge.Add object at 0x7fc816be73d0> False\n",
            "119 <keras.layers.convolutional.Conv2D object at 0x7fc816bd41d0> False\n",
            "120 <keras.layers.normalization.batch_normalization.BatchNormalization object at 0x7fc816aa3e90> False\n",
            "121 <keras.layers.core.Activation object at 0x7fc816b30990> False\n",
            "122 <keras.layers.convolutional.DepthwiseConv2D object at 0x7fc816c8c790> False\n",
            "123 <keras.layers.normalization.batch_normalization.BatchNormalization object at 0x7fc816b30f50> False\n",
            "124 <keras.layers.core.Activation object at 0x7fc816c6d4d0> False\n",
            "125 <keras.layers.pooling.GlobalAveragePooling2D object at 0x7fc816d62f50> False\n",
            "126 <keras.layers.core.Reshape object at 0x7fc816dbd450> False\n",
            "127 <keras.layers.convolutional.Conv2D object at 0x7fc816d34c10> False\n",
            "128 <keras.layers.convolutional.Conv2D object at 0x7fc816d1b450> False\n",
            "129 <keras.layers.merge.Multiply object at 0x7fc816f34ed0> False\n",
            "130 <keras.layers.convolutional.Conv2D object at 0x7fc816c6a390> False\n",
            "131 <keras.layers.normalization.batch_normalization.BatchNormalization object at 0x7fc816d14c90> False\n",
            "132 <keras.layers.convolutional.Conv2D object at 0x7fc816e49fd0> False\n",
            "133 <keras.layers.normalization.batch_normalization.BatchNormalization object at 0x7fc816dd1cd0> False\n",
            "134 <keras.layers.core.Activation object at 0x7fc816e44310> False\n",
            "135 <keras.layers.convolutional.DepthwiseConv2D object at 0x7fc816deaf50> False\n",
            "136 <keras.layers.normalization.batch_normalization.BatchNormalization object at 0x7fc816e5b390> False\n",
            "137 <keras.layers.core.Activation object at 0x7fc816ed8990> False\n",
            "138 <keras.layers.pooling.GlobalAveragePooling2D object at 0x7fc816eacd50> False\n",
            "139 <keras.layers.core.Reshape object at 0x7fc816e7e0d0> False\n",
            "140 <keras.layers.convolutional.Conv2D object at 0x7fc816eb92d0> False\n",
            "141 <keras.layers.convolutional.Conv2D object at 0x7fc816ea0910> False\n",
            "142 <keras.layers.merge.Multiply object at 0x7fc816b4b410> False\n",
            "143 <keras.layers.convolutional.Conv2D object at 0x7fc816da4690> False\n",
            "144 <keras.layers.normalization.batch_normalization.BatchNormalization object at 0x7fc816da49d0> False\n",
            "145 <keras.layers.core.Dropout object at 0x7fc815ff2d90> False\n",
            "146 <keras.layers.merge.Add object at 0x7fc88fa8eb50> False\n",
            "147 <keras.layers.convolutional.Conv2D object at 0x7fc88fa63950> False\n",
            "148 <keras.layers.normalization.batch_normalization.BatchNormalization object at 0x7fc815ff5c90> False\n",
            "149 <keras.layers.core.Activation object at 0x7fc815ff8110> False\n",
            "150 <keras.layers.convolutional.DepthwiseConv2D object at 0x7fc815ff7050> False\n",
            "151 <keras.layers.normalization.batch_normalization.BatchNormalization object at 0x7fc815ffdbd0> False\n",
            "152 <keras.layers.core.Activation object at 0x7fc815ffdd10> False\n",
            "153 <keras.layers.pooling.GlobalAveragePooling2D object at 0x7fc816ac5ad0> False\n",
            "154 <keras.layers.core.Reshape object at 0x7fc815ff3e50> False\n",
            "155 <keras.layers.convolutional.Conv2D object at 0x7fc88fa8e0d0> False\n",
            "156 <keras.layers.convolutional.Conv2D object at 0x7fc816d14fd0> False\n",
            "157 <keras.layers.merge.Multiply object at 0x7fc816e44a10> False\n",
            "158 <keras.layers.convolutional.Conv2D object at 0x7fc816d61cd0> False\n",
            "159 <keras.layers.normalization.batch_normalization.BatchNormalization object at 0x7fc816d61550> False\n",
            "160 <keras.layers.core.Dropout object at 0x7fc816afc8d0> False\n",
            "161 <keras.layers.merge.Add object at 0x7fc816d34290> False\n",
            "162 <keras.layers.convolutional.Conv2D object at 0x7fc816afb990> False\n",
            "163 <keras.layers.normalization.batch_normalization.BatchNormalization object at 0x7fc816afa310> False\n",
            "164 <keras.layers.core.Activation object at 0x7fc816bfa890> False\n",
            "165 <keras.layers.convolutional.ZeroPadding2D object at 0x7fc816afbd90> False\n",
            "166 <keras.layers.convolutional.DepthwiseConv2D object at 0x7fc816ae7750> False\n",
            "167 <keras.layers.normalization.batch_normalization.BatchNormalization object at 0x7fc816d1b110> False\n",
            "168 <keras.layers.core.Activation object at 0x7fc816ae4c10> False\n",
            "169 <keras.layers.pooling.GlobalAveragePooling2D object at 0x7fc816ae7f90> False\n",
            "170 <keras.layers.core.Reshape object at 0x7fc816ae5710> False\n",
            "171 <keras.layers.convolutional.Conv2D object at 0x7fc816aab990> False\n",
            "172 <keras.layers.convolutional.Conv2D object at 0x7fc816a8b050> False\n",
            "173 <keras.layers.merge.Multiply object at 0x7fc816a86d50> False\n",
            "174 <keras.layers.convolutional.Conv2D object at 0x7fc816ab5d90> False\n",
            "175 <keras.layers.normalization.batch_normalization.BatchNormalization object at 0x7fc8169c0c10> False\n",
            "176 <keras.layers.convolutional.Conv2D object at 0x7fc8169cec10> False\n",
            "177 <keras.layers.normalization.batch_normalization.BatchNormalization object at 0x7fc8169ea810> False\n",
            "178 <keras.layers.core.Activation object at 0x7fc8169cd210> False\n",
            "179 <keras.layers.convolutional.DepthwiseConv2D object at 0x7fc8169d2690> False\n",
            "180 <keras.layers.normalization.batch_normalization.BatchNormalization object at 0x7fc8169cd5d0> False\n",
            "181 <keras.layers.core.Activation object at 0x7fc8169c5410> False\n",
            "182 <keras.layers.pooling.GlobalAveragePooling2D object at 0x7fc8169c5c90> False\n",
            "183 <keras.layers.core.Reshape object at 0x7fc8169cf810> False\n",
            "184 <keras.layers.convolutional.Conv2D object at 0x7fc8169ca690> False\n",
            "185 <keras.layers.convolutional.Conv2D object at 0x7fc816104090> False\n",
            "186 <keras.layers.merge.Multiply object at 0x7fc81610bb50> False\n",
            "187 <keras.layers.convolutional.Conv2D object at 0x7fc8169cd6d0> False\n",
            "188 <keras.layers.normalization.batch_normalization.BatchNormalization object at 0x7fc816125a50> False\n",
            "189 <keras.layers.core.Dropout object at 0x7fc8161106d0> False\n",
            "190 <keras.layers.merge.Add object at 0x7fc81611f6d0> False\n",
            "191 <keras.layers.convolutional.Conv2D object at 0x7fc816125d50> False\n",
            "192 <keras.layers.normalization.batch_normalization.BatchNormalization object at 0x7fc816a687d0> False\n",
            "193 <keras.layers.core.Activation object at 0x7fc816a6c290> False\n",
            "194 <keras.layers.convolutional.DepthwiseConv2D object at 0x7fc81611ff90> False\n",
            "195 <keras.layers.normalization.batch_normalization.BatchNormalization object at 0x7fc8169e4410> False\n",
            "196 <keras.layers.core.Activation object at 0x7fc8169e40d0> False\n",
            "197 <keras.layers.pooling.GlobalAveragePooling2D object at 0x7fc816aabe10> False\n",
            "198 <keras.layers.core.Reshape object at 0x7fc816af9b50> False\n",
            "199 <keras.layers.convolutional.Conv2D object at 0x7fc816af7490> False\n",
            "200 <keras.layers.convolutional.Conv2D object at 0x7fc816c6d550> False\n",
            "201 <keras.layers.merge.Multiply object at 0x7fc816ab5f10> False\n",
            "202 <keras.layers.convolutional.Conv2D object at 0x7fc816104950> False\n",
            "203 <keras.layers.normalization.batch_normalization.BatchNormalization object at 0x7fc8169cad50> False\n",
            "204 <keras.layers.core.Dropout object at 0x7fc816a59e10> False\n",
            "205 <keras.layers.merge.Add object at 0x7fc816a671d0> False\n",
            "206 <keras.layers.convolutional.Conv2D object at 0x7fc816a6f5d0> False\n",
            "207 <keras.layers.normalization.batch_normalization.BatchNormalization object at 0x7fc88faf2c50> False\n",
            "208 <keras.layers.core.Activation object at 0x7fc88faf22d0> False\n",
            "209 <keras.layers.convolutional.DepthwiseConv2D object at 0x7fc816a6ff50> False\n",
            "210 <keras.layers.normalization.batch_normalization.BatchNormalization object at 0x7fc88fb08110> False\n",
            "211 <keras.layers.core.Activation object at 0x7fc816a68b50> False\n",
            "212 <keras.layers.pooling.GlobalAveragePooling2D object at 0x7fc88fafcc10> False\n",
            "213 <keras.layers.core.Reshape object at 0x7fc88fafc190> False\n",
            "214 <keras.layers.convolutional.Conv2D object at 0x7fc88fb08d50> False\n",
            "215 <keras.layers.convolutional.Conv2D object at 0x7fc88fae1e90> False\n",
            "216 <keras.layers.merge.Multiply object at 0x7fc88fadd510> False\n",
            "217 <keras.layers.convolutional.Conv2D object at 0x7fc88fadd0d0> False\n",
            "218 <keras.layers.normalization.batch_normalization.BatchNormalization object at 0x7fc88faa92d0> False\n",
            "219 <keras.layers.core.Dropout object at 0x7fc88fab6e10> False\n",
            "220 <keras.layers.merge.Add object at 0x7fc816a67e50> False\n",
            "221 <keras.layers.convolutional.Conv2D object at 0x7fc88faa5810> False\n",
            "222 <keras.layers.normalization.batch_normalization.BatchNormalization object at 0x7fc8167ceb50> False\n",
            "223 <keras.layers.core.Activation object at 0x7fc88faa5550> False\n",
            "224 <keras.layers.convolutional.DepthwiseConv2D object at 0x7fc88fac6910> False\n",
            "225 <keras.layers.normalization.batch_normalization.BatchNormalization object at 0x7fc816a02d10> False\n",
            "226 <keras.layers.core.Activation object at 0x7fc816a67490> False\n",
            "227 <keras.layers.pooling.GlobalAveragePooling2D object at 0x7fc88fac6210> False\n",
            "228 <keras.layers.core.Reshape object at 0x7fc88fabd990> False\n",
            "229 <keras.layers.convolutional.Conv2D object at 0x7fc816a34610> False\n",
            "230 <keras.layers.convolutional.Conv2D object at 0x7fc816a3b290> False\n",
            "231 <keras.layers.merge.Multiply object at 0x7fc816a33d90> False\n",
            "232 <keras.layers.convolutional.Conv2D object at 0x7fc816a28d10> False\n",
            "233 <keras.layers.normalization.batch_normalization.BatchNormalization object at 0x7fc816a32c10> False\n",
            "234 <keras.layers.convolutional.Conv2D object at 0x7fc816cfd5d0> False\n",
            "235 <keras.layers.normalization.batch_normalization.BatchNormalization object at 0x7fc815f92590> False\n",
            "236 <keras.layers.core.Activation object at 0x7fc815f92850> False\n"
          ]
        }
      ]
    },
    {
      "cell_type": "code",
      "metadata": {
        "colab": {
          "base_uri": "https://localhost:8080/"
        },
        "id": "lMzKcVKGUQYb",
        "outputId": "a9892393-3400-4b13-b273-1857c8483640"
      },
      "source": [
        "# How many trainable varibales are in our base model\n",
        "print(len(model_2.layers[2].trainable_variables))"
      ],
      "execution_count": null,
      "outputs": [
        {
          "output_type": "stream",
          "name": "stdout",
          "text": [
            "0\n"
          ]
        }
      ]
    },
    {
      "cell_type": "code",
      "metadata": {
        "colab": {
          "base_uri": "https://localhost:8080/"
        },
        "id": "R1tcI51iUyjb",
        "outputId": "419694cc-2a17-420b-d589-a6540f6875a4"
      },
      "source": [
        "# To begin fine-tuning let's start by setting the last 10 layers of our base_model.trainable = True\n",
        "base_model.trainable = True\n",
        "\n",
        "# Freeze all layers except for the last 10\n",
        "for layer in base_model.layers[:-10]:\n",
        "  layer.trainable = False\n",
        "\n",
        "# Recompile (we have to recompile our models every time we maek a change)\n",
        "model_2.compile(loss='categorical_crossentropy',\n",
        "                optimizer=tf.keras.optimizers.Adam(lr=0.001), # when fine-tuning you typically want to lower the learning ratre by 10x* \n",
        "                metrics=['accuracy'])"
      ],
      "execution_count": null,
      "outputs": [
        {
          "output_type": "stream",
          "name": "stderr",
          "text": [
            "/usr/local/lib/python3.7/dist-packages/keras/optimizer_v2/optimizer_v2.py:356: UserWarning: The `lr` argument is deprecated, use `learning_rate` instead.\n",
            "  \"The `lr` argument is deprecated, use `learning_rate` instead.\")\n"
          ]
        }
      ]
    },
    {
      "cell_type": "code",
      "metadata": {
        "colab": {
          "base_uri": "https://localhost:8080/"
        },
        "id": "ZIeiMunMVt9n",
        "outputId": "85dcec21-fda7-4f20-91bb-18efd04511d7"
      },
      "source": [
        "# Check which layers are tunable (trainable)\n",
        "for layer_number, layer in enumerate(model_2.layers[2].layers):\n",
        "  print(layer_number, layer.name, layer.trainable)"
      ],
      "execution_count": null,
      "outputs": [
        {
          "output_type": "stream",
          "name": "stdout",
          "text": [
            "0 input_5 False\n",
            "1 rescaling_4 False\n",
            "2 normalization_4 False\n",
            "3 stem_conv_pad False\n",
            "4 stem_conv False\n",
            "5 stem_bn False\n",
            "6 stem_activation False\n",
            "7 block1a_dwconv False\n",
            "8 block1a_bn False\n",
            "9 block1a_activation False\n",
            "10 block1a_se_squeeze False\n",
            "11 block1a_se_reshape False\n",
            "12 block1a_se_reduce False\n",
            "13 block1a_se_expand False\n",
            "14 block1a_se_excite False\n",
            "15 block1a_project_conv False\n",
            "16 block1a_project_bn False\n",
            "17 block2a_expand_conv False\n",
            "18 block2a_expand_bn False\n",
            "19 block2a_expand_activation False\n",
            "20 block2a_dwconv_pad False\n",
            "21 block2a_dwconv False\n",
            "22 block2a_bn False\n",
            "23 block2a_activation False\n",
            "24 block2a_se_squeeze False\n",
            "25 block2a_se_reshape False\n",
            "26 block2a_se_reduce False\n",
            "27 block2a_se_expand False\n",
            "28 block2a_se_excite False\n",
            "29 block2a_project_conv False\n",
            "30 block2a_project_bn False\n",
            "31 block2b_expand_conv False\n",
            "32 block2b_expand_bn False\n",
            "33 block2b_expand_activation False\n",
            "34 block2b_dwconv False\n",
            "35 block2b_bn False\n",
            "36 block2b_activation False\n",
            "37 block2b_se_squeeze False\n",
            "38 block2b_se_reshape False\n",
            "39 block2b_se_reduce False\n",
            "40 block2b_se_expand False\n",
            "41 block2b_se_excite False\n",
            "42 block2b_project_conv False\n",
            "43 block2b_project_bn False\n",
            "44 block2b_drop False\n",
            "45 block2b_add False\n",
            "46 block3a_expand_conv False\n",
            "47 block3a_expand_bn False\n",
            "48 block3a_expand_activation False\n",
            "49 block3a_dwconv_pad False\n",
            "50 block3a_dwconv False\n",
            "51 block3a_bn False\n",
            "52 block3a_activation False\n",
            "53 block3a_se_squeeze False\n",
            "54 block3a_se_reshape False\n",
            "55 block3a_se_reduce False\n",
            "56 block3a_se_expand False\n",
            "57 block3a_se_excite False\n",
            "58 block3a_project_conv False\n",
            "59 block3a_project_bn False\n",
            "60 block3b_expand_conv False\n",
            "61 block3b_expand_bn False\n",
            "62 block3b_expand_activation False\n",
            "63 block3b_dwconv False\n",
            "64 block3b_bn False\n",
            "65 block3b_activation False\n",
            "66 block3b_se_squeeze False\n",
            "67 block3b_se_reshape False\n",
            "68 block3b_se_reduce False\n",
            "69 block3b_se_expand False\n",
            "70 block3b_se_excite False\n",
            "71 block3b_project_conv False\n",
            "72 block3b_project_bn False\n",
            "73 block3b_drop False\n",
            "74 block3b_add False\n",
            "75 block4a_expand_conv False\n",
            "76 block4a_expand_bn False\n",
            "77 block4a_expand_activation False\n",
            "78 block4a_dwconv_pad False\n",
            "79 block4a_dwconv False\n",
            "80 block4a_bn False\n",
            "81 block4a_activation False\n",
            "82 block4a_se_squeeze False\n",
            "83 block4a_se_reshape False\n",
            "84 block4a_se_reduce False\n",
            "85 block4a_se_expand False\n",
            "86 block4a_se_excite False\n",
            "87 block4a_project_conv False\n",
            "88 block4a_project_bn False\n",
            "89 block4b_expand_conv False\n",
            "90 block4b_expand_bn False\n",
            "91 block4b_expand_activation False\n",
            "92 block4b_dwconv False\n",
            "93 block4b_bn False\n",
            "94 block4b_activation False\n",
            "95 block4b_se_squeeze False\n",
            "96 block4b_se_reshape False\n",
            "97 block4b_se_reduce False\n",
            "98 block4b_se_expand False\n",
            "99 block4b_se_excite False\n",
            "100 block4b_project_conv False\n",
            "101 block4b_project_bn False\n",
            "102 block4b_drop False\n",
            "103 block4b_add False\n",
            "104 block4c_expand_conv False\n",
            "105 block4c_expand_bn False\n",
            "106 block4c_expand_activation False\n",
            "107 block4c_dwconv False\n",
            "108 block4c_bn False\n",
            "109 block4c_activation False\n",
            "110 block4c_se_squeeze False\n",
            "111 block4c_se_reshape False\n",
            "112 block4c_se_reduce False\n",
            "113 block4c_se_expand False\n",
            "114 block4c_se_excite False\n",
            "115 block4c_project_conv False\n",
            "116 block4c_project_bn False\n",
            "117 block4c_drop False\n",
            "118 block4c_add False\n",
            "119 block5a_expand_conv False\n",
            "120 block5a_expand_bn False\n",
            "121 block5a_expand_activation False\n",
            "122 block5a_dwconv False\n",
            "123 block5a_bn False\n",
            "124 block5a_activation False\n",
            "125 block5a_se_squeeze False\n",
            "126 block5a_se_reshape False\n",
            "127 block5a_se_reduce False\n",
            "128 block5a_se_expand False\n",
            "129 block5a_se_excite False\n",
            "130 block5a_project_conv False\n",
            "131 block5a_project_bn False\n",
            "132 block5b_expand_conv False\n",
            "133 block5b_expand_bn False\n",
            "134 block5b_expand_activation False\n",
            "135 block5b_dwconv False\n",
            "136 block5b_bn False\n",
            "137 block5b_activation False\n",
            "138 block5b_se_squeeze False\n",
            "139 block5b_se_reshape False\n",
            "140 block5b_se_reduce False\n",
            "141 block5b_se_expand False\n",
            "142 block5b_se_excite False\n",
            "143 block5b_project_conv False\n",
            "144 block5b_project_bn False\n",
            "145 block5b_drop False\n",
            "146 block5b_add False\n",
            "147 block5c_expand_conv False\n",
            "148 block5c_expand_bn False\n",
            "149 block5c_expand_activation False\n",
            "150 block5c_dwconv False\n",
            "151 block5c_bn False\n",
            "152 block5c_activation False\n",
            "153 block5c_se_squeeze False\n",
            "154 block5c_se_reshape False\n",
            "155 block5c_se_reduce False\n",
            "156 block5c_se_expand False\n",
            "157 block5c_se_excite False\n",
            "158 block5c_project_conv False\n",
            "159 block5c_project_bn False\n",
            "160 block5c_drop False\n",
            "161 block5c_add False\n",
            "162 block6a_expand_conv False\n",
            "163 block6a_expand_bn False\n",
            "164 block6a_expand_activation False\n",
            "165 block6a_dwconv_pad False\n",
            "166 block6a_dwconv False\n",
            "167 block6a_bn False\n",
            "168 block6a_activation False\n",
            "169 block6a_se_squeeze False\n",
            "170 block6a_se_reshape False\n",
            "171 block6a_se_reduce False\n",
            "172 block6a_se_expand False\n",
            "173 block6a_se_excite False\n",
            "174 block6a_project_conv False\n",
            "175 block6a_project_bn False\n",
            "176 block6b_expand_conv False\n",
            "177 block6b_expand_bn False\n",
            "178 block6b_expand_activation False\n",
            "179 block6b_dwconv False\n",
            "180 block6b_bn False\n",
            "181 block6b_activation False\n",
            "182 block6b_se_squeeze False\n",
            "183 block6b_se_reshape False\n",
            "184 block6b_se_reduce False\n",
            "185 block6b_se_expand False\n",
            "186 block6b_se_excite False\n",
            "187 block6b_project_conv False\n",
            "188 block6b_project_bn False\n",
            "189 block6b_drop False\n",
            "190 block6b_add False\n",
            "191 block6c_expand_conv False\n",
            "192 block6c_expand_bn False\n",
            "193 block6c_expand_activation False\n",
            "194 block6c_dwconv False\n",
            "195 block6c_bn False\n",
            "196 block6c_activation False\n",
            "197 block6c_se_squeeze False\n",
            "198 block6c_se_reshape False\n",
            "199 block6c_se_reduce False\n",
            "200 block6c_se_expand False\n",
            "201 block6c_se_excite False\n",
            "202 block6c_project_conv False\n",
            "203 block6c_project_bn False\n",
            "204 block6c_drop False\n",
            "205 block6c_add False\n",
            "206 block6d_expand_conv False\n",
            "207 block6d_expand_bn False\n",
            "208 block6d_expand_activation False\n",
            "209 block6d_dwconv False\n",
            "210 block6d_bn False\n",
            "211 block6d_activation False\n",
            "212 block6d_se_squeeze False\n",
            "213 block6d_se_reshape False\n",
            "214 block6d_se_reduce False\n",
            "215 block6d_se_expand False\n",
            "216 block6d_se_excite False\n",
            "217 block6d_project_conv False\n",
            "218 block6d_project_bn False\n",
            "219 block6d_drop False\n",
            "220 block6d_add False\n",
            "221 block7a_expand_conv False\n",
            "222 block7a_expand_bn False\n",
            "223 block7a_expand_activation False\n",
            "224 block7a_dwconv False\n",
            "225 block7a_bn False\n",
            "226 block7a_activation False\n",
            "227 block7a_se_squeeze True\n",
            "228 block7a_se_reshape True\n",
            "229 block7a_se_reduce True\n",
            "230 block7a_se_expand True\n",
            "231 block7a_se_excite True\n",
            "232 block7a_project_conv True\n",
            "233 block7a_project_bn True\n",
            "234 top_conv True\n",
            "235 top_bn True\n",
            "236 top_activation True\n"
          ]
        }
      ]
    },
    {
      "cell_type": "code",
      "metadata": {
        "colab": {
          "base_uri": "https://localhost:8080/"
        },
        "id": "NDDIwtVyWFFE",
        "outputId": "88d9c1cd-d935-4b38-a8b2-fc9c7ee4dc77"
      },
      "source": [
        "# Now we have unfrozen some of the layers closer to the top, how many trainable variables are there\n",
        "print(len(model_2.trainable_variables))"
      ],
      "execution_count": null,
      "outputs": [
        {
          "output_type": "stream",
          "name": "stdout",
          "text": [
            "12\n"
          ]
        }
      ]
    },
    {
      "cell_type": "code",
      "metadata": {
        "colab": {
          "base_uri": "https://localhost:8080/"
        },
        "id": "NI1nZfvhZKAq",
        "outputId": "33f89784-387c-47f3-daa4-78f3c77323ce"
      },
      "source": [
        "# Fine tune for another 5 epochs\n",
        "fine_tune_epochs = initial_epochs + 5\n",
        "\n",
        "# Refit the model (same as model_2 except with more trainable layers)\n",
        "history_fine_10_percent_data_aug = model_2.fit(train_data_10_percent,\n",
        "                                               epochs=fine_tune_epochs,\n",
        "                                               validation_data=test_data,\n",
        "                                               validation_steps=int(0.25 * len(test_data)),\n",
        "                                               initial_epoch=history_10_percent_data_aug.epoch[-1], # start training from previous last epoch)\n",
        "                                               callbacks=[create_tensorboard_callback(dir_name='transfer_learning',\n",
        "                                                                                      experiment_name='10_percent_fine_tune_last_10')])"
      ],
      "execution_count": null,
      "outputs": [
        {
          "output_type": "stream",
          "name": "stdout",
          "text": [
            "Saving TensorBoard log files to: transfer_learning/10_percent_fine_tune_last_10/20211016-000548\n",
            "Epoch 5/10\n"
          ]
        },
        {
          "output_type": "stream",
          "name": "stderr",
          "text": [
            "/usr/local/lib/python3.7/dist-packages/keras/utils/generic_utils.py:497: CustomMaskWarning: Custom mask layers require a config and must override get_config. When loading, the custom mask layer must be passed to the custom_objects argument.\n",
            "  category=CustomMaskWarning)\n"
          ]
        },
        {
          "output_type": "stream",
          "name": "stdout",
          "text": [
            "24/24 [==============================] - 28s 824ms/step - loss: 0.7778 - accuracy: 0.7480 - val_loss: 0.6090 - val_accuracy: 0.8191\n",
            "Epoch 6/10\n",
            "24/24 [==============================] - 12s 499ms/step - loss: 0.4045 - accuracy: 0.8760 - val_loss: 0.6383 - val_accuracy: 0.8076\n",
            "Epoch 7/10\n",
            "24/24 [==============================] - 12s 503ms/step - loss: 0.2916 - accuracy: 0.9107 - val_loss: 0.6273 - val_accuracy: 0.8043\n",
            "Epoch 8/10\n",
            "24/24 [==============================] - 14s 575ms/step - loss: 0.2098 - accuracy: 0.9373 - val_loss: 0.5757 - val_accuracy: 0.8224\n",
            "Epoch 9/10\n",
            "24/24 [==============================] - 14s 579ms/step - loss: 0.1457 - accuracy: 0.9520 - val_loss: 0.6025 - val_accuracy: 0.8273\n",
            "Epoch 10/10\n",
            "24/24 [==============================] - 13s 506ms/step - loss: 0.1170 - accuracy: 0.9747 - val_loss: 0.6421 - val_accuracy: 0.8421\n"
          ]
        }
      ]
    },
    {
      "cell_type": "code",
      "metadata": {
        "colab": {
          "base_uri": "https://localhost:8080/"
        },
        "id": "YvC6b2e3af-u",
        "outputId": "2a7479e9-43ce-483c-e6af-c8483e31473f"
      },
      "source": [
        "results_fine_tune_10_percent = model_2.evaluate(test_data)"
      ],
      "execution_count": null,
      "outputs": [
        {
          "output_type": "stream",
          "name": "stdout",
          "text": [
            "79/79 [==============================] - 11s 132ms/step - loss: 0.5444 - accuracy: 0.8416\n"
          ]
        }
      ]
    },
    {
      "cell_type": "code",
      "metadata": {
        "colab": {
          "base_uri": "https://localhost:8080/",
          "height": 573
        },
        "id": "V3jr_0VwbhjA",
        "outputId": "45990837-f8a0-4107-a3de-e740c5cc9fa4"
      },
      "source": [
        "# Check out the loss curves \n",
        "plot_loss_curves(history_fine_10_percent_data_aug)"
      ],
      "execution_count": null,
      "outputs": [
        {
          "output_type": "display_data",
          "data": {
            "image/png": "[encoded data removed]",
            "text/plain": [
              "<Figure size 432x288 with 1 Axes>"
            ]
          },
          "metadata": {
            "needs_background": "light"
          }
        },
        {
          "output_type": "display_data",
          "data": {
            "image/png": "[encoded data removed]",
            "text/plain": [
              "<Figure size 432x288 with 1 Axes>"
            ]
          },
          "metadata": {
            "needs_background": "light"
          }
        }
      ]
    },
    {
      "cell_type": "markdown",
      "metadata": {
        "id": "YPWnAifQb-qF"
      },
      "source": [
        "The `plot_loss curves` funciton works great with models which have only been fit once, however , we want"
      ]
    },
    {
      "cell_type": "code",
      "metadata": {
        "id": "Xs8p9_0cb3RZ"
      },
      "source": [
        "# Let's create a function \n",
        "def compare_histories(original_history, new_history, initial_epochs=5):\n",
        "  \"\"\"\n",
        "  Compares two TensorFlow History objects.\n",
        "  \"\"\"\n",
        "\n",
        "  # Get original history measurements\n",
        "  acc = original_history.history['accuracy']\n",
        "  loss = original_history.history['loss']\n",
        "\n",
        "  val_acc = original_history.history['val_accuracy']\n",
        "  val_loss = original_history.history['val_loss']\n",
        "\n",
        "  # Combine original history metrics with new_history metrics\n",
        "  total_acc = acc + new_history.history['accuracy']\n",
        "  total_loss = loss + new_history.history['loss']\n",
        "\n",
        "  total_val_acc = val_acc + new_history.history['val_accuracy']\n",
        "  total_val_loss = val_loss + new_history.history['val_loss']\n",
        "\n",
        "  # Make plot for accuacy\n",
        "  plt.figure(figsize=(8, 8))\n",
        "  plt.subplot(2, 1, 1)\n",
        "  plt.plot(total_acc, label='Training Accuracy')\n",
        "  plt.plot(total_val_acc, label='Val Accuracy')\n",
        "  plt.plot([initial_epochs-1, initial_epochs-1], plt.ylim(), label='Start Fine Tuning')\n",
        "  plt.legend(loc='lower right')\n",
        "  plt.title('Training and Validation Accuracy')\n",
        "\n",
        "  # Make plot for loss\n",
        "\n",
        "  plt.figure(figsize=(8, 8))\n",
        "  plt.subplot(2, 1, 1)\n",
        "  plt.plot(total_loss, label='Training Loss')\n",
        "  plt.plot(total_val_loss, label='Val Loss')\n",
        "  plt.plot([initial_epochs-1, initial_epochs-1], plt.ylim(), label='Start Fine Tuning')\n",
        "  plt.legend(loc='upper right')\n",
        "  plt.title('Training and Validation Loss')\n"
      ],
      "execution_count": null,
      "outputs": []
    },
    {
      "cell_type": "code",
      "metadata": {
        "colab": {
          "base_uri": "https://localhost:8080/",
          "height": 507
        },
        "id": "vkwcUpKXdwWz",
        "outputId": "3cc5cee9-1cc4-46da-e91c-655df9ffa268"
      },
      "source": [
        "compare_histories(history_10_percent_data_aug,\n",
        "                  history_fine_10_percent_data_aug,\n",
        "                  initial_epochs=5)"
      ],
      "execution_count": null,
      "outputs": [
        {
          "output_type": "display_data",
          "data": {
            "image/png": "[encoded data removed]",
            "text/plain": [
              "<Figure size 576x576 with 1 Axes>"
            ]
          },
          "metadata": {
            "needs_background": "light"
          }
        },
        {
          "output_type": "display_data",
          "data": {
            "image/png": "[encoded data removed]",
            "text/plain": [
              "<Figure size 576x576 with 1 Axes>"
            ]
          },
          "metadata": {
            "needs_background": "light"
          }
        }
      ]
    },
    {
      "cell_type": "markdown",
      "metadata": {
        "id": "QDKDawlhd2Ka"
      },
      "source": [
        "# Model 4: Fine-tuning and existing model on all of the data\n"
      ]
    },
    {
      "cell_type": "code",
      "metadata": {
        "colab": {
          "base_uri": "https://localhost:8080/"
        },
        "id": "5TkMyJ8Zfuwi",
        "outputId": "4dc15de2-a366-48d4-ecbf-d6f610b4c065"
      },
      "source": [
        "!wget https://storage.googleapis.com/ztm_tf_course/food_vision/10_food_classes_all_data.zip\n",
        "unzip_data('10_food_classes_all_data.zip')"
      ],
      "execution_count": null,
      "outputs": [
        {
          "output_type": "stream",
          "name": "stdout",
          "text": [
            "--2021-10-16 00:28:44--  https://storage.googleapis.com/ztm_tf_course/food_vision/10_food_classes_all_data.zip\n",
            "Resolving storage.googleapis.com (storage.googleapis.com)... 74.125.140.128, 108.177.15.128, 173.194.76.128, ...\n",
            "Connecting to storage.googleapis.com (storage.googleapis.com)|74.125.140.128|:443... connected.\n",
            "HTTP request sent, awaiting response... 200 OK\n",
            "Length: 519183241 (495M) [application/zip]\n",
            "Saving to: ‘10_food_classes_all_data.zip’\n",
            "\n",
            "10_food_classes_all 100%[===================>] 495.13M   113MB/s    in 4.7s    \n",
            "\n",
            "2021-10-16 00:28:49 (106 MB/s) - ‘10_food_classes_all_data.zip’ saved [519183241/519183241]\n",
            "\n"
          ]
        }
      ]
    },
    {
      "cell_type": "code",
      "metadata": {
        "id": "Dh6_Fp-SgD7Z"
      },
      "source": [
        "# Setup training and test dir\n",
        "train_dir_all_data = '10_food_classes_all_data/train'\n",
        "test_dir = '10_food_classes_all_data/test'\n"
      ],
      "execution_count": null,
      "outputs": []
    },
    {
      "cell_type": "code",
      "metadata": {
        "colab": {
          "base_uri": "https://localhost:8080/"
        },
        "id": "xSRgJ4K8gUCe",
        "outputId": "f55832a7-9f3d-4133-acd1-2c32d7c27416"
      },
      "source": [
        "walk_through_dir('10_food_classes_all_data')"
      ],
      "execution_count": null,
      "outputs": [
        {
          "output_type": "stream",
          "name": "stdout",
          "text": [
            "There are 2 directories and 0 images in '10_food_classes_all_data'.\n",
            "There are 10 directories and 0 images in '10_food_classes_all_data/train'.\n",
            "There are 0 directories and 750 images in '10_food_classes_all_data/train/grilled_salmon'.\n",
            "There are 0 directories and 750 images in '10_food_classes_all_data/train/sushi'.\n",
            "There are 0 directories and 750 images in '10_food_classes_all_data/train/hamburger'.\n",
            "There are 0 directories and 750 images in '10_food_classes_all_data/train/chicken_curry'.\n",
            "There are 0 directories and 750 images in '10_food_classes_all_data/train/pizza'.\n",
            "There are 0 directories and 750 images in '10_food_classes_all_data/train/chicken_wings'.\n",
            "There are 0 directories and 750 images in '10_food_classes_all_data/train/steak'.\n",
            "There are 0 directories and 750 images in '10_food_classes_all_data/train/ramen'.\n",
            "There are 0 directories and 750 images in '10_food_classes_all_data/train/ice_cream'.\n",
            "There are 0 directories and 750 images in '10_food_classes_all_data/train/fried_rice'.\n",
            "There are 10 directories and 0 images in '10_food_classes_all_data/test'.\n",
            "There are 0 directories and 250 images in '10_food_classes_all_data/test/grilled_salmon'.\n",
            "There are 0 directories and 250 images in '10_food_classes_all_data/test/sushi'.\n",
            "There are 0 directories and 250 images in '10_food_classes_all_data/test/hamburger'.\n",
            "There are 0 directories and 250 images in '10_food_classes_all_data/test/chicken_curry'.\n",
            "There are 0 directories and 250 images in '10_food_classes_all_data/test/pizza'.\n",
            "There are 0 directories and 250 images in '10_food_classes_all_data/test/chicken_wings'.\n",
            "There are 0 directories and 250 images in '10_food_classes_all_data/test/steak'.\n",
            "There are 0 directories and 250 images in '10_food_classes_all_data/test/ramen'.\n",
            "There are 0 directories and 250 images in '10_food_classes_all_data/test/ice_cream'.\n",
            "There are 0 directories and 250 images in '10_food_classes_all_data/test/fried_rice'.\n"
          ]
        }
      ]
    },
    {
      "cell_type": "code",
      "metadata": {
        "colab": {
          "base_uri": "https://localhost:8080/"
        },
        "id": "6HF9e3q-gZUE",
        "outputId": "bdb8637f-a539-4030-a152-fefcb5ea4be8"
      },
      "source": [
        "# Setup data inputs\n",
        "import tensorflow as tf\n",
        "IMG_SIZE = (224, 224)\n",
        "train_data_10_classes_full = tf.keras.preprocessing.image_dataset_from_directory(train_dir_all_data,\n",
        "                                                                                 label_mode='categorical',\n",
        "                                                                                 image_size=IMG_SIZE)\n",
        "\n",
        "test_data = tf.keras.preprocessing.image_dataset_from_directory(test_dir,\n",
        "                                                                label_mode='categorical',\n",
        "                                                                image_size=IMG_SIZE)"
      ],
      "execution_count": null,
      "outputs": [
        {
          "output_type": "stream",
          "name": "stdout",
          "text": [
            "Found 7500 files belonging to 10 classes.\n",
            "Found 2500 files belonging to 10 classes.\n"
          ]
        }
      ]
    },
    {
      "cell_type": "markdown",
      "metadata": {
        "id": "nOAlsrzShA1A"
      },
      "source": [
        "The test dataset we have loaded in is the same as what we have been using for previous experiments (all experiments have used the same test dataset).\n",
        "\n",
        "Let's verify this..."
      ]
    },
    {
      "cell_type": "code",
      "metadata": {
        "colab": {
          "base_uri": "https://localhost:8080/"
        },
        "id": "9m1KfRX8h6pl",
        "outputId": "5e3555bc-84b3-43b0-cf89-10598f133415"
      },
      "source": [
        "# Evaluate model 2 (this is the fine-tuned on 10 percent of data version)\n",
        "model_2.evaluate(test_data)"
      ],
      "execution_count": null,
      "outputs": [
        {
          "output_type": "stream",
          "name": "stdout",
          "text": [
            "79/79 [==============================] - 11s 132ms/step - loss: 0.5444 - accuracy: 0.8416\n"
          ]
        },
        {
          "output_type": "execute_result",
          "data": {
            "text/plain": [
              "[0.5443643927574158, 0.8416000008583069]"
            ]
          },
          "metadata": {},
          "execution_count": 91
        }
      ]
    },
    {
      "cell_type": "code",
      "metadata": {
        "colab": {
          "base_uri": "https://localhost:8080/"
        },
        "id": "rasyJx4SiFbe",
        "outputId": "13de7187-2538-456b-c1a1-ffe43d92cec2"
      },
      "source": [
        "results_fine_tune_10_percent"
      ],
      "execution_count": null,
      "outputs": [
        {
          "output_type": "execute_result",
          "data": {
            "text/plain": [
              "[0.544364333152771, 0.8416000008583069]"
            ]
          },
          "metadata": {},
          "execution_count": 93
        }
      ]
    },
    {
      "cell_type": "markdown",
      "metadata": {
        "id": "_2uF1t0niIR0"
      },
      "source": [
        "To train a fine-tuning model (model_4) we need to revert model_2 back to it's feature extraction weights."
      ]
    },
    {
      "cell_type": "code",
      "metadata": {
        "colab": {
          "base_uri": "https://localhost:8080/"
        },
        "id": "NTEtd82ZicT0",
        "outputId": "676e3407-ac33-4832-9fb3-f7352285a726"
      },
      "source": [
        "# Loads weights from checkpoints , that way we can fine-tune from the same state the 10 percent \n",
        "model_2.load_weights(checkpoint_path)"
      ],
      "execution_count": null,
      "outputs": [
        {
          "output_type": "execute_result",
          "data": {
            "text/plain": [
              "<tensorflow.python.training.tracking.util.CheckpointLoadStatus at 0x7fc81e217250>"
            ]
          },
          "metadata": {},
          "execution_count": 95
        }
      ]
    },
    {
      "cell_type": "code",
      "metadata": {
        "colab": {
          "base_uri": "https://localhost:8080/"
        },
        "id": "JOsbS-jHiwLU",
        "outputId": "bd2f443b-b9cd-40fc-ccbd-c6f2efa00eee"
      },
      "source": [
        "# Let's evaluate model_2 now\n",
        "model_2.evaluate(test_data)"
      ],
      "execution_count": null,
      "outputs": [
        {
          "output_type": "stream",
          "name": "stdout",
          "text": [
            "79/79 [==============================] - 11s 132ms/step - loss: 0.6985 - accuracy: 0.8128\n"
          ]
        },
        {
          "output_type": "execute_result",
          "data": {
            "text/plain": [
              "[0.6985285878181458, 0.8127999901771545]"
            ]
          },
          "metadata": {},
          "execution_count": 96
        }
      ]
    },
    {
      "cell_type": "code",
      "metadata": {
        "colab": {
          "base_uri": "https://localhost:8080/"
        },
        "id": "3dmfEahNi62M",
        "outputId": "a754eca0-ca2e-408b-c104-bad61ef667c7"
      },
      "source": [
        "# Check to see if our model_2 has been reverted back to feature extraction results\n",
        "results_10_percent_data_aug"
      ],
      "execution_count": null,
      "outputs": [
        {
          "output_type": "execute_result",
          "data": {
            "text/plain": [
              "[0.6985285878181458, 0.8127999901771545]"
            ]
          },
          "metadata": {},
          "execution_count": 97
        }
      ]
    },
    {
      "cell_type": "markdown",
      "metadata": {
        "id": "vUlwG5sMjDys"
      },
      "source": [
        "Aright, the previous steps might seem quite confusing but all we have done is:\n",
        "1. Trained a feature extraction transfer learning model for 5 epochs on 10% of the data with data augmentation (model_2) and we saved the model's weights using `ModelCheckpoint` callback.\n",
        "2. Fine-tuned the same model on the same 10% of the data for a further 5 epochs with the top 10 layers of the base model unfrozen (model_3).\n",
        "3. Saved the results and training logs each time.\n",
        "4. Reloaded the model from step 1 to do the same steps as step 2 except this time we are going to use all of the data (model_4)"
      ]
    },
    {
      "cell_type": "code",
      "metadata": {
        "colab": {
          "base_uri": "https://localhost:8080/"
        },
        "id": "oqbM9PzOj3Xq",
        "outputId": "9277595d-43af-4ac2-bf60-97c5cda39ecc"
      },
      "source": [
        "# Check which layers are tunable in the whole model\n",
        "for layer_number, layer in enumerate(model_2.layers):\n",
        "  print(layer_number, layer.name, layer.trainable)"
      ],
      "execution_count": null,
      "outputs": [
        {
          "output_type": "stream",
          "name": "stdout",
          "text": [
            "0 input_layer True\n",
            "1 data_augmentation True\n",
            "2 efficientnetb0 True\n",
            "3 global_average_pooling_2D True\n",
            "4 output_layer True\n"
          ]
        }
      ]
    },
    {
      "cell_type": "code",
      "metadata": {
        "colab": {
          "base_uri": "https://localhost:8080/"
        },
        "id": "1LKpIVyXkFsk",
        "outputId": "5bb291e3-420d-43d4-fe45-be02b2d7f621"
      },
      "source": [
        "# Let's drill into our base_model (efficientnetb0) and see what layers are trainable\n",
        "for layer_number, layer in enumerate(model_2.layers[2].layers):\n",
        "  print(layer_number, layer.name, layer.trainable)"
      ],
      "execution_count": null,
      "outputs": [
        {
          "output_type": "stream",
          "name": "stdout",
          "text": [
            "0 input_5 False\n",
            "1 rescaling_4 False\n",
            "2 normalization_4 False\n",
            "3 stem_conv_pad False\n",
            "4 stem_conv False\n",
            "5 stem_bn False\n",
            "6 stem_activation False\n",
            "7 block1a_dwconv False\n",
            "8 block1a_bn False\n",
            "9 block1a_activation False\n",
            "10 block1a_se_squeeze False\n",
            "11 block1a_se_reshape False\n",
            "12 block1a_se_reduce False\n",
            "13 block1a_se_expand False\n",
            "14 block1a_se_excite False\n",
            "15 block1a_project_conv False\n",
            "16 block1a_project_bn False\n",
            "17 block2a_expand_conv False\n",
            "18 block2a_expand_bn False\n",
            "19 block2a_expand_activation False\n",
            "20 block2a_dwconv_pad False\n",
            "21 block2a_dwconv False\n",
            "22 block2a_bn False\n",
            "23 block2a_activation False\n",
            "24 block2a_se_squeeze False\n",
            "25 block2a_se_reshape False\n",
            "26 block2a_se_reduce False\n",
            "27 block2a_se_expand False\n",
            "28 block2a_se_excite False\n",
            "29 block2a_project_conv False\n",
            "30 block2a_project_bn False\n",
            "31 block2b_expand_conv False\n",
            "32 block2b_expand_bn False\n",
            "33 block2b_expand_activation False\n",
            "34 block2b_dwconv False\n",
            "35 block2b_bn False\n",
            "36 block2b_activation False\n",
            "37 block2b_se_squeeze False\n",
            "38 block2b_se_reshape False\n",
            "39 block2b_se_reduce False\n",
            "40 block2b_se_expand False\n",
            "41 block2b_se_excite False\n",
            "42 block2b_project_conv False\n",
            "43 block2b_project_bn False\n",
            "44 block2b_drop False\n",
            "45 block2b_add False\n",
            "46 block3a_expand_conv False\n",
            "47 block3a_expand_bn False\n",
            "48 block3a_expand_activation False\n",
            "49 block3a_dwconv_pad False\n",
            "50 block3a_dwconv False\n",
            "51 block3a_bn False\n",
            "52 block3a_activation False\n",
            "53 block3a_se_squeeze False\n",
            "54 block3a_se_reshape False\n",
            "55 block3a_se_reduce False\n",
            "56 block3a_se_expand False\n",
            "57 block3a_se_excite False\n",
            "58 block3a_project_conv False\n",
            "59 block3a_project_bn False\n",
            "60 block3b_expand_conv False\n",
            "61 block3b_expand_bn False\n",
            "62 block3b_expand_activation False\n",
            "63 block3b_dwconv False\n",
            "64 block3b_bn False\n",
            "65 block3b_activation False\n",
            "66 block3b_se_squeeze False\n",
            "67 block3b_se_reshape False\n",
            "68 block3b_se_reduce False\n",
            "69 block3b_se_expand False\n",
            "70 block3b_se_excite False\n",
            "71 block3b_project_conv False\n",
            "72 block3b_project_bn False\n",
            "73 block3b_drop False\n",
            "74 block3b_add False\n",
            "75 block4a_expand_conv False\n",
            "76 block4a_expand_bn False\n",
            "77 block4a_expand_activation False\n",
            "78 block4a_dwconv_pad False\n",
            "79 block4a_dwconv False\n",
            "80 block4a_bn False\n",
            "81 block4a_activation False\n",
            "82 block4a_se_squeeze False\n",
            "83 block4a_se_reshape False\n",
            "84 block4a_se_reduce False\n",
            "85 block4a_se_expand False\n",
            "86 block4a_se_excite False\n",
            "87 block4a_project_conv False\n",
            "88 block4a_project_bn False\n",
            "89 block4b_expand_conv False\n",
            "90 block4b_expand_bn False\n",
            "91 block4b_expand_activation False\n",
            "92 block4b_dwconv False\n",
            "93 block4b_bn False\n",
            "94 block4b_activation False\n",
            "95 block4b_se_squeeze False\n",
            "96 block4b_se_reshape False\n",
            "97 block4b_se_reduce False\n",
            "98 block4b_se_expand False\n",
            "99 block4b_se_excite False\n",
            "100 block4b_project_conv False\n",
            "101 block4b_project_bn False\n",
            "102 block4b_drop False\n",
            "103 block4b_add False\n",
            "104 block4c_expand_conv False\n",
            "105 block4c_expand_bn False\n",
            "106 block4c_expand_activation False\n",
            "107 block4c_dwconv False\n",
            "108 block4c_bn False\n",
            "109 block4c_activation False\n",
            "110 block4c_se_squeeze False\n",
            "111 block4c_se_reshape False\n",
            "112 block4c_se_reduce False\n",
            "113 block4c_se_expand False\n",
            "114 block4c_se_excite False\n",
            "115 block4c_project_conv False\n",
            "116 block4c_project_bn False\n",
            "117 block4c_drop False\n",
            "118 block4c_add False\n",
            "119 block5a_expand_conv False\n",
            "120 block5a_expand_bn False\n",
            "121 block5a_expand_activation False\n",
            "122 block5a_dwconv False\n",
            "123 block5a_bn False\n",
            "124 block5a_activation False\n",
            "125 block5a_se_squeeze False\n",
            "126 block5a_se_reshape False\n",
            "127 block5a_se_reduce False\n",
            "128 block5a_se_expand False\n",
            "129 block5a_se_excite False\n",
            "130 block5a_project_conv False\n",
            "131 block5a_project_bn False\n",
            "132 block5b_expand_conv False\n",
            "133 block5b_expand_bn False\n",
            "134 block5b_expand_activation False\n",
            "135 block5b_dwconv False\n",
            "136 block5b_bn False\n",
            "137 block5b_activation False\n",
            "138 block5b_se_squeeze False\n",
            "139 block5b_se_reshape False\n",
            "140 block5b_se_reduce False\n",
            "141 block5b_se_expand False\n",
            "142 block5b_se_excite False\n",
            "143 block5b_project_conv False\n",
            "144 block5b_project_bn False\n",
            "145 block5b_drop False\n",
            "146 block5b_add False\n",
            "147 block5c_expand_conv False\n",
            "148 block5c_expand_bn False\n",
            "149 block5c_expand_activation False\n",
            "150 block5c_dwconv False\n",
            "151 block5c_bn False\n",
            "152 block5c_activation False\n",
            "153 block5c_se_squeeze False\n",
            "154 block5c_se_reshape False\n",
            "155 block5c_se_reduce False\n",
            "156 block5c_se_expand False\n",
            "157 block5c_se_excite False\n",
            "158 block5c_project_conv False\n",
            "159 block5c_project_bn False\n",
            "160 block5c_drop False\n",
            "161 block5c_add False\n",
            "162 block6a_expand_conv False\n",
            "163 block6a_expand_bn False\n",
            "164 block6a_expand_activation False\n",
            "165 block6a_dwconv_pad False\n",
            "166 block6a_dwconv False\n",
            "167 block6a_bn False\n",
            "168 block6a_activation False\n",
            "169 block6a_se_squeeze False\n",
            "170 block6a_se_reshape False\n",
            "171 block6a_se_reduce False\n",
            "172 block6a_se_expand False\n",
            "173 block6a_se_excite False\n",
            "174 block6a_project_conv False\n",
            "175 block6a_project_bn False\n",
            "176 block6b_expand_conv False\n",
            "177 block6b_expand_bn False\n",
            "178 block6b_expand_activation False\n",
            "179 block6b_dwconv False\n",
            "180 block6b_bn False\n",
            "181 block6b_activation False\n",
            "182 block6b_se_squeeze False\n",
            "183 block6b_se_reshape False\n",
            "184 block6b_se_reduce False\n",
            "185 block6b_se_expand False\n",
            "186 block6b_se_excite False\n",
            "187 block6b_project_conv False\n",
            "188 block6b_project_bn False\n",
            "189 block6b_drop False\n",
            "190 block6b_add False\n",
            "191 block6c_expand_conv False\n",
            "192 block6c_expand_bn False\n",
            "193 block6c_expand_activation False\n",
            "194 block6c_dwconv False\n",
            "195 block6c_bn False\n",
            "196 block6c_activation False\n",
            "197 block6c_se_squeeze False\n",
            "198 block6c_se_reshape False\n",
            "199 block6c_se_reduce False\n",
            "200 block6c_se_expand False\n",
            "201 block6c_se_excite False\n",
            "202 block6c_project_conv False\n",
            "203 block6c_project_bn False\n",
            "204 block6c_drop False\n",
            "205 block6c_add False\n",
            "206 block6d_expand_conv False\n",
            "207 block6d_expand_bn False\n",
            "208 block6d_expand_activation False\n",
            "209 block6d_dwconv False\n",
            "210 block6d_bn False\n",
            "211 block6d_activation False\n",
            "212 block6d_se_squeeze False\n",
            "213 block6d_se_reshape False\n",
            "214 block6d_se_reduce False\n",
            "215 block6d_se_expand False\n",
            "216 block6d_se_excite False\n",
            "217 block6d_project_conv False\n",
            "218 block6d_project_bn False\n",
            "219 block6d_drop False\n",
            "220 block6d_add False\n",
            "221 block7a_expand_conv False\n",
            "222 block7a_expand_bn False\n",
            "223 block7a_expand_activation False\n",
            "224 block7a_dwconv False\n",
            "225 block7a_bn False\n",
            "226 block7a_activation False\n",
            "227 block7a_se_squeeze True\n",
            "228 block7a_se_reshape True\n",
            "229 block7a_se_reduce True\n",
            "230 block7a_se_expand True\n",
            "231 block7a_se_excite True\n",
            "232 block7a_project_conv True\n",
            "233 block7a_project_bn True\n",
            "234 top_conv True\n",
            "235 top_bn True\n",
            "236 top_activation True\n"
          ]
        }
      ]
    },
    {
      "cell_type": "code",
      "metadata": {
        "colab": {
          "base_uri": "https://localhost:8080/"
        },
        "id": "SNBEUmA7lIMF",
        "outputId": "25a7b1d4-5246-47f2-fad5-eeb1c9447a72"
      },
      "source": [
        "# Compile\n",
        "model_2.compile(loss='categorical_crossentropy',\n",
        "                optimizer=tf.keras.optimizers.Adam(lr=0.0001),\n",
        "                metrics=['accuracy'])"
      ],
      "execution_count": null,
      "outputs": [
        {
          "output_type": "stream",
          "name": "stderr",
          "text": [
            "/usr/local/lib/python3.7/dist-packages/keras/optimizer_v2/optimizer_v2.py:356: UserWarning: The `lr` argument is deprecated, use `learning_rate` instead.\n",
            "  \"The `lr` argument is deprecated, use `learning_rate` instead.\")\n"
          ]
        }
      ]
    },
    {
      "cell_type": "code",
      "metadata": {
        "colab": {
          "base_uri": "https://localhost:8080/"
        },
        "id": "oYrPB0jGlvj2",
        "outputId": "2ab4f7aa-a466-419a-f4e9-616fe3feca25"
      },
      "source": [
        "# Continue to train and fin-tune the model to our data (100% of training data)\n",
        "fine_tune_epochs = initial_epochs + 5\n",
        "\n",
        "history_fine_10_classes_full = model_2.fit(train_data_10_classes_full,\n",
        "                                           epochs=fine_tune_epochs,\n",
        "                                           validation_data=test_data,\n",
        "                                           validation_steps=int(0.25 * len(test_data)),\n",
        "                                           initial_epoch=history_10_percent_data_aug.epoch[-1],\n",
        "                                           callbacks=[create_tensorboard_callback(dir_name='transfer_learning',\n",
        "                                                                                  experiment_name='full_10_classes_fine_tune_last_10')])"
      ],
      "execution_count": null,
      "outputs": [
        {
          "output_type": "stream",
          "name": "stdout",
          "text": [
            "Saving TensorBoard log files to: transfer_learning/full_10_classes_fine_tune_last_10/20211016-005847\n",
            "Epoch 5/10\n"
          ]
        },
        {
          "output_type": "stream",
          "name": "stderr",
          "text": [
            "/usr/local/lib/python3.7/dist-packages/keras/utils/generic_utils.py:497: CustomMaskWarning: Custom mask layers require a config and must override get_config. When loading, the custom mask layer must be passed to the custom_objects argument.\n",
            "  category=CustomMaskWarning)\n"
          ]
        },
        {
          "output_type": "stream",
          "name": "stdout",
          "text": [
            "235/235 [==============================] - 66s 250ms/step - loss: 0.7381 - accuracy: 0.7631 - val_loss: 0.3930 - val_accuracy: 0.8684\n",
            "Epoch 6/10\n",
            "235/235 [==============================] - 79s 334ms/step - loss: 0.6003 - accuracy: 0.8036 - val_loss: 0.3454 - val_accuracy: 0.8816\n",
            "Epoch 7/10\n",
            "235/235 [==============================] - 74s 313ms/step - loss: 0.5426 - accuracy: 0.8263 - val_loss: 0.3127 - val_accuracy: 0.8997\n",
            "Epoch 8/10\n",
            "235/235 [==============================] - 69s 291ms/step - loss: 0.4809 - accuracy: 0.8447 - val_loss: 0.3170 - val_accuracy: 0.9062\n",
            "Epoch 9/10\n",
            "235/235 [==============================] - 63s 265ms/step - loss: 0.4504 - accuracy: 0.8531 - val_loss: 0.3409 - val_accuracy: 0.8931\n",
            "Epoch 10/10\n",
            "235/235 [==============================] - 63s 266ms/step - loss: 0.4247 - accuracy: 0.8653 - val_loss: 0.2892 - val_accuracy: 0.9112\n"
          ]
        }
      ]
    },
    {
      "cell_type": "code",
      "metadata": {
        "colab": {
          "base_uri": "https://localhost:8080/"
        },
        "id": "Du7_v0UdpP1_",
        "outputId": "5a68467e-489b-4fad-9cde-01148d4f3f6a"
      },
      "source": [
        "# Let's evaluate on all of the test data\n",
        "results_fine_tune_full_data = model_2.evaluate(test_data)\n",
        "results_fine_tune_full_data"
      ],
      "execution_count": null,
      "outputs": [
        {
          "output_type": "stream",
          "name": "stdout",
          "text": [
            "79/79 [==============================] - 11s 131ms/step - loss: 0.3179 - accuracy: 0.8940\n"
          ]
        },
        {
          "output_type": "execute_result",
          "data": {
            "text/plain": [
              "[0.31785130500793457, 0.8939999938011169]"
            ]
          },
          "metadata": {},
          "execution_count": 108
        }
      ]
    },
    {
      "cell_type": "code",
      "metadata": {
        "colab": {
          "base_uri": "https://localhost:8080/",
          "height": 507
        },
        "id": "PGJ-dbwQmtDU",
        "outputId": "082f2ed3-a8f7-447d-efec-b5def5e96c71"
      },
      "source": [
        " # How did fine-tuning go with more data?\n",
        " compare_histories(original_history=history_10_percent_data_aug,\n",
        "                   new_history=history_fine_10_classes_full,\n",
        "                   initial_epochs=5)"
      ],
      "execution_count": null,
      "outputs": [
        {
          "output_type": "display_data",
          "data": {
            "image/png": "[encoded data removed]",
            "text/plain": [
              "<Figure size 576x576 with 1 Axes>"
            ]
          },
          "metadata": {
            "needs_background": "light"
          }
        },
        {
          "output_type": "display_data",
          "data": {
            "image/png": "[encoded data removed]",
            "text/plain": [
              "<Figure size 576x576 with 1 Axes>"
            ]
          },
          "metadata": {
            "needs_background": "light"
          }
        }
      ]
    },
    {
      "cell_type": "markdown",
      "metadata": {
        "id": "zKARq0w4q_ky"
      },
      "source": [
        "## Viewing our experiment data on tensorboard\n",
        "\n",
        "> **Note:** Anything you upolad to TensorBoard.dev is going to be public, so if you have private data, do not upload it."
      ]
    },
    {
      "cell_type": "code",
      "metadata": {
        "colab": {
          "base_uri": "https://localhost:8080/"
        },
        "id": "Fg1oy0RFrjBO",
        "outputId": "9943e64b-4409-4fe2-c526-a9df197dfcde"
      },
      "source": [
        "# View tensorboard logs of transfer learning modeling experiments (should ~4 models)\n",
        "\n",
        "\n",
        "!tensorboard dev upload --logdir ./transfer_learning \\\n",
        "  --name 'Transfer Learning Experiments with 10 Food101 classes' \\\n",
        "  --description 'A Series of different transfer learning experiments with varying amounts of data and fine-tuning' \\\n",
        "  --one_shot # exits the uploader once its finished uploading"
      ],
      "execution_count": null,
      "outputs": [
        {
          "output_type": "stream",
          "name": "stdout",
          "text": [
            "2021-10-16 01:23:57.545686: I tensorflow/stream_executor/cuda/cuda_gpu_executor.cc:937] successful NUMA node read from SysFS had negative value (-1), but there must be at least one NUMA node, so returning NUMA node zero\n",
            "2021-10-16 01:23:57.554949: I tensorflow/stream_executor/cuda/cuda_gpu_executor.cc:937] successful NUMA node read from SysFS had negative value (-1), but there must be at least one NUMA node, so returning NUMA node zero\n",
            "2021-10-16 01:23:57.555563: I tensorflow/stream_executor/cuda/cuda_gpu_executor.cc:937] successful NUMA node read from SysFS had negative value (-1), but there must be at least one NUMA node, so returning NUMA node zero\n",
            "\n",
            "***** TensorBoard Uploader *****\n",
            "\n",
            "This will upload your TensorBoard logs to https://tensorboard.dev/ from\n",
            "the following directory:\n",
            "\n",
            "./transfer_learning\n",
            "\n",
            "This TensorBoard will be visible to everyone. Do not upload sensitive\n",
            "data.\n",
            "\n",
            "Your use of this service is subject to Google's Terms of Service\n",
            "<https://policies.google.com/terms> and Privacy Policy\n",
            "<https://policies.google.com/privacy>, and TensorBoard.dev's Terms of Service\n",
            "<https://tensorboard.dev/policy/terms/>.\n",
            "\n",
            "This notice will not be shown again while you are logged into the uploader.\n",
            "To log out, run `tensorboard dev auth revoke`.\n",
            "\n",
            "Continue? (yes/NO) yes\n",
            "\n",
            "Please visit this URL to authorize this application: https://accounts.google.com/o/oauth2/auth?response_type=code&client_id=373649185512-8v619h5kft38l4456nm2dj4ubeqsrvh6.apps.googleusercontent.com&redirect_uri=urn%3Aietf%3Awg%3Aoauth%3A2.0%3Aoob&scope=openid+https%3A%2F%2Fwww.googleapis.com%2Fauth%2Fuserinfo.email&state=VKdwRwDyoK9fcpF6NKCGEp1G8WwmtC&prompt=consent&access_type=offline\n",
            "Enter the authorization code: 4/1AX4XfWjxGe0ncExHqyNrk0rxgYRhSoOQJ7iB0bUAvbhpXPyzYiyYCONqm4M\n",
            "\n",
            "\n",
            "New experiment created. View your TensorBoard at: https://tensorboard.dev/experiment/AGLnNEkzQaaSKgAiMZNVqg/\n",
            "\n",
            "\u001b[1m[2021-10-16T01:24:27]\u001b[0m Started scanning logdir.\n",
            "\u001b[1m[2021-10-16T01:24:34]\u001b[0m Total uploaded: 132 scalars, 0 tensors, 4 binary objects (3.2 MB)\n",
            "\u001b[1m[2021-10-16T01:24:34]\u001b[0m Done scanning logdir.\n",
            "\n",
            "\n",
            "Done. View your TensorBoard at https://tensorboard.dev/experiment/AGLnNEkzQaaSKgAiMZNVqg/\n"
          ]
        }
      ]
    },
    {
      "cell_type": "markdown",
      "metadata": {
        "id": "B1IGXNOPsopQ"
      },
      "source": [
        "My TensorBoard experiments are available at this link - https://tensorboard.dev/experiment/AGLnNEkzQaaSKgAiMZNVqg/"
      ]
    },
    {
      "cell_type": "code",
      "metadata": {
        "colab": {
          "base_uri": "https://localhost:8080/"
        },
        "id": "nWaIKyMds_Dr",
        "outputId": "3e07fd28-2020-42dd-e967-3c3e9917673f"
      },
      "source": [
        "# view all of your tensorboard experiments\n",
        "!tensorboard dev list"
      ],
      "execution_count": null,
      "outputs": [
        {
          "output_type": "stream",
          "name": "stdout",
          "text": [
            "2021-10-16 01:33:11.275213: I tensorflow/stream_executor/cuda/cuda_gpu_executor.cc:937] successful NUMA node read from SysFS had negative value (-1), but there must be at least one NUMA node, so returning NUMA node zero\n",
            "2021-10-16 01:33:11.284189: I tensorflow/stream_executor/cuda/cuda_gpu_executor.cc:937] successful NUMA node read from SysFS had negative value (-1), but there must be at least one NUMA node, so returning NUMA node zero\n",
            "2021-10-16 01:33:11.284921: I tensorflow/stream_executor/cuda/cuda_gpu_executor.cc:937] successful NUMA node read from SysFS had negative value (-1), but there must be at least one NUMA node, so returning NUMA node zero\n",
            "https://tensorboard.dev/experiment/AGLnNEkzQaaSKgAiMZNVqg/\n",
            "\tName                 Transfer Learning Experiments with 10 Food101 classes\n",
            "\tDescription          A Series of different transfer learning experiments with varying amounts of data and fine-tuning\n",
            "\tId                   AGLnNEkzQaaSKgAiMZNVqg\n",
            "\tCreated              2021-10-16 01:24:27 (8 minutes ago)\n",
            "\tUpdated              2021-10-16 01:24:34 (8 minutes ago)\n",
            "\tRuns                 8\n",
            "\tTags                 5\n",
            "\tScalars              132\n",
            "\tTensor bytes         0\n",
            "\tBinary object bytes  3376164\n",
            "https://tensorboard.dev/experiment/sN78QpszRcaEOFA5AogXZA/\n",
            "\tName                 EfficientNetB0 vs. ResNet50V2\n",
            "\tDescription          Comparing two different TF Hub feature extraction model architectures using 10% of the training data\n",
            "\tId                   sN78QpszRcaEOFA5AogXZA\n",
            "\tCreated              2021-10-13 22:05:57\n",
            "\tUpdated              2021-10-13 22:05:59\n",
            "\tRuns                 4\n",
            "\tTags                 5\n",
            "\tScalars              60\n",
            "\tTensor bytes         0\n",
            "\tBinary object bytes  5960400\n",
            "Total: 2 experiment(s)\n"
          ]
        }
      ]
    },
    {
      "cell_type": "code",
      "metadata": {
        "id": "i0o2X_NTuTiW"
      },
      "source": [
        "# To delete an experiment\n",
        "# !tensorboard dev delete -- experiment_id AGLnNEkzQaaSKgAiMZNVqg"
      ],
      "execution_count": null,
      "outputs": []
    },
    {
      "cell_type": "code",
      "metadata": {
        "id": "fv3BcTb4uzqU"
      },
      "source": [
        ""
      ],
      "execution_count": null,
      "outputs": []
    }
  ]
}