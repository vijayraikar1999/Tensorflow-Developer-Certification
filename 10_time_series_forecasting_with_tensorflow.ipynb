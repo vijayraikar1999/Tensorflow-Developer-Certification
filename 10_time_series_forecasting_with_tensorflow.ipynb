{
  "nbformat": 4,
  "nbformat_minor": 0,
  "metadata": {
    "colab": {
      "name": "10_time_series_forecasting_with_tensorflow.ipynb",
      "provenance": [],
      "collapsed_sections": []
    },
    "kernelspec": {
      "name": "python3",
      "display_name": "Python 3"
    },
    "language_info": {
      "name": "python"
    },
    "accelerator": "GPU"
  },
  "cells": [
    {
      "cell_type": "markdown",
      "metadata": {
        "id": "qNDMSUfymzWF"
      },
      "source": [
        "# Time series forecasting fundamentals with TensorFlow + Milestone Project 3: BitPredict\n",
        "\n",
        "Let's write some TensorFlow code to predict the price of Bitcoin based on the historical price of Bitcoin.\n",
        "\n",
        "**Note:** This is not a finantial advice.\n",
        "\n",
        "Links:\n",
        "* All resources: https://github.com/mrdbourke/tensorflow-deep-learning\n",
        "* Book version of actual code/text: https://dev.mrdbourke.com/tensorflow-deep-learning/"
      ]
    },
    {
      "cell_type": "markdown",
      "metadata": {
        "id": "bqg9THMFnWL8"
      },
      "source": [
        "## Get Data\n",
        "\n",
        "We are going to be using the historical price data of Bitcoin to try and predict the future price of Bitcoin, we downloaded the data from here: "
      ]
    },
    {
      "cell_type": "code",
      "metadata": {
        "colab": {
          "base_uri": "https://localhost:8080/"
        },
        "id": "bHo_mqE0oi67",
        "outputId": "138f6ef9-a913-41c6-d41b-53d22e5fbf7e"
      },
      "source": [
        "!wget https://raw.githubusercontent.com/mrdbourke/tensorflow-deep-learning/main/extras/BTC_USD_2013-10-01_2021-05-18-CoinDesk.csv"
      ],
      "execution_count": 1,
      "outputs": [
        {
          "output_type": "stream",
          "name": "stdout",
          "text": [
            "--2021-11-12 04:06:14--  https://raw.githubusercontent.com/mrdbourke/tensorflow-deep-learning/main/extras/BTC_USD_2013-10-01_2021-05-18-CoinDesk.csv\n",
            "Resolving raw.githubusercontent.com (raw.githubusercontent.com)... 185.199.110.133, 185.199.111.133, 185.199.108.133, ...\n",
            "Connecting to raw.githubusercontent.com (raw.githubusercontent.com)|185.199.110.133|:443... connected.\n",
            "HTTP request sent, awaiting response... 200 OK\n",
            "Length: 178509 (174K) [text/plain]\n",
            "Saving to: ‘BTC_USD_2013-10-01_2021-05-18-CoinDesk.csv’\n",
            "\n",
            "BTC_USD_2013-10-01_ 100%[===================>] 174.33K  --.-KB/s    in 0.03s   \n",
            "\n",
            "2021-11-12 04:06:14 (5.69 MB/s) - ‘BTC_USD_2013-10-01_2021-05-18-CoinDesk.csv’ saved [178509/178509]\n",
            "\n"
          ]
        }
      ]
    },
    {
      "cell_type": "markdown",
      "metadata": {
        "id": "h1KtlQZ6pO5s"
      },
      "source": [
        "## Importing time series with pandas"
      ]
    },
    {
      "cell_type": "code",
      "metadata": {
        "colab": {
          "base_uri": "https://localhost:8080/",
          "height": 235
        },
        "id": "zYMEktvKpkib",
        "outputId": "d979463e-c249-4444-c06a-3f56c5793677"
      },
      "source": [
        "# Import with pandas\n",
        "import pandas as pd\n",
        "# Let's read in our Bitcoin data and parse the dates\n",
        "df = pd.read_csv('/content/BTC_USD_2013-10-01_2021-05-18-CoinDesk.csv',\n",
        "                 parse_dates=['Date'],\n",
        "                 index_col=['Date']#parse the data column and tell pandas column 1 is a datetime.\n",
        "                 )\n",
        "\n",
        "df.head()"
      ],
      "execution_count": 2,
      "outputs": [
        {
          "output_type": "execute_result",
          "data": {
            "text/html": [
              "<div>\n",
              "<style scoped>\n",
              "    .dataframe tbody tr th:only-of-type {\n",
              "        vertical-align: middle;\n",
              "    }\n",
              "\n",
              "    .dataframe tbody tr th {\n",
              "        vertical-align: top;\n",
              "    }\n",
              "\n",
              "    .dataframe thead th {\n",
              "        text-align: right;\n",
              "    }\n",
              "</style>\n",
              "<table border=\"1\" class=\"dataframe\">\n",
              "  <thead>\n",
              "    <tr style=\"text-align: right;\">\n",
              "      <th></th>\n",
              "      <th>Currency</th>\n",
              "      <th>Closing Price (USD)</th>\n",
              "      <th>24h Open (USD)</th>\n",
              "      <th>24h High (USD)</th>\n",
              "      <th>24h Low (USD)</th>\n",
              "    </tr>\n",
              "    <tr>\n",
              "      <th>Date</th>\n",
              "      <th></th>\n",
              "      <th></th>\n",
              "      <th></th>\n",
              "      <th></th>\n",
              "      <th></th>\n",
              "    </tr>\n",
              "  </thead>\n",
              "  <tbody>\n",
              "    <tr>\n",
              "      <th>2013-10-01</th>\n",
              "      <td>BTC</td>\n",
              "      <td>123.65499</td>\n",
              "      <td>124.30466</td>\n",
              "      <td>124.75166</td>\n",
              "      <td>122.56349</td>\n",
              "    </tr>\n",
              "    <tr>\n",
              "      <th>2013-10-02</th>\n",
              "      <td>BTC</td>\n",
              "      <td>125.45500</td>\n",
              "      <td>123.65499</td>\n",
              "      <td>125.75850</td>\n",
              "      <td>123.63383</td>\n",
              "    </tr>\n",
              "    <tr>\n",
              "      <th>2013-10-03</th>\n",
              "      <td>BTC</td>\n",
              "      <td>108.58483</td>\n",
              "      <td>125.45500</td>\n",
              "      <td>125.66566</td>\n",
              "      <td>83.32833</td>\n",
              "    </tr>\n",
              "    <tr>\n",
              "      <th>2013-10-04</th>\n",
              "      <td>BTC</td>\n",
              "      <td>118.67466</td>\n",
              "      <td>108.58483</td>\n",
              "      <td>118.67500</td>\n",
              "      <td>107.05816</td>\n",
              "    </tr>\n",
              "    <tr>\n",
              "      <th>2013-10-05</th>\n",
              "      <td>BTC</td>\n",
              "      <td>121.33866</td>\n",
              "      <td>118.67466</td>\n",
              "      <td>121.93633</td>\n",
              "      <td>118.00566</td>\n",
              "    </tr>\n",
              "  </tbody>\n",
              "</table>\n",
              "</div>"
            ],
            "text/plain": [
              "           Currency  Closing Price (USD)  ...  24h High (USD)  24h Low (USD)\n",
              "Date                                      ...                               \n",
              "2013-10-01      BTC            123.65499  ...       124.75166      122.56349\n",
              "2013-10-02      BTC            125.45500  ...       125.75850      123.63383\n",
              "2013-10-03      BTC            108.58483  ...       125.66566       83.32833\n",
              "2013-10-04      BTC            118.67466  ...       118.67500      107.05816\n",
              "2013-10-05      BTC            121.33866  ...       121.93633      118.00566\n",
              "\n",
              "[5 rows x 5 columns]"
            ]
          },
          "metadata": {},
          "execution_count": 2
        }
      ]
    },
    {
      "cell_type": "code",
      "metadata": {
        "colab": {
          "base_uri": "https://localhost:8080/",
          "height": 235
        },
        "id": "Ox9hfoOSqxLE",
        "outputId": "3eaacd4b-642c-4fa2-d1bc-8c8fdc330889"
      },
      "source": [
        "df.tail()"
      ],
      "execution_count": 3,
      "outputs": [
        {
          "output_type": "execute_result",
          "data": {
            "text/html": [
              "<div>\n",
              "<style scoped>\n",
              "    .dataframe tbody tr th:only-of-type {\n",
              "        vertical-align: middle;\n",
              "    }\n",
              "\n",
              "    .dataframe tbody tr th {\n",
              "        vertical-align: top;\n",
              "    }\n",
              "\n",
              "    .dataframe thead th {\n",
              "        text-align: right;\n",
              "    }\n",
              "</style>\n",
              "<table border=\"1\" class=\"dataframe\">\n",
              "  <thead>\n",
              "    <tr style=\"text-align: right;\">\n",
              "      <th></th>\n",
              "      <th>Currency</th>\n",
              "      <th>Closing Price (USD)</th>\n",
              "      <th>24h Open (USD)</th>\n",
              "      <th>24h High (USD)</th>\n",
              "      <th>24h Low (USD)</th>\n",
              "    </tr>\n",
              "    <tr>\n",
              "      <th>Date</th>\n",
              "      <th></th>\n",
              "      <th></th>\n",
              "      <th></th>\n",
              "      <th></th>\n",
              "      <th></th>\n",
              "    </tr>\n",
              "  </thead>\n",
              "  <tbody>\n",
              "    <tr>\n",
              "      <th>2021-05-14</th>\n",
              "      <td>BTC</td>\n",
              "      <td>49764.132082</td>\n",
              "      <td>49596.778891</td>\n",
              "      <td>51448.798576</td>\n",
              "      <td>46294.720180</td>\n",
              "    </tr>\n",
              "    <tr>\n",
              "      <th>2021-05-15</th>\n",
              "      <td>BTC</td>\n",
              "      <td>50032.693137</td>\n",
              "      <td>49717.354353</td>\n",
              "      <td>51578.312545</td>\n",
              "      <td>48944.346536</td>\n",
              "    </tr>\n",
              "    <tr>\n",
              "      <th>2021-05-16</th>\n",
              "      <td>BTC</td>\n",
              "      <td>47885.625255</td>\n",
              "      <td>49926.035067</td>\n",
              "      <td>50690.802950</td>\n",
              "      <td>47005.102292</td>\n",
              "    </tr>\n",
              "    <tr>\n",
              "      <th>2021-05-17</th>\n",
              "      <td>BTC</td>\n",
              "      <td>45604.615754</td>\n",
              "      <td>46805.537852</td>\n",
              "      <td>49670.414174</td>\n",
              "      <td>43868.638969</td>\n",
              "    </tr>\n",
              "    <tr>\n",
              "      <th>2021-05-18</th>\n",
              "      <td>BTC</td>\n",
              "      <td>43144.471291</td>\n",
              "      <td>46439.336570</td>\n",
              "      <td>46622.853437</td>\n",
              "      <td>42102.346430</td>\n",
              "    </tr>\n",
              "  </tbody>\n",
              "</table>\n",
              "</div>"
            ],
            "text/plain": [
              "           Currency  Closing Price (USD)  ...  24h High (USD)  24h Low (USD)\n",
              "Date                                      ...                               \n",
              "2021-05-14      BTC         49764.132082  ...    51448.798576   46294.720180\n",
              "2021-05-15      BTC         50032.693137  ...    51578.312545   48944.346536\n",
              "2021-05-16      BTC         47885.625255  ...    50690.802950   47005.102292\n",
              "2021-05-17      BTC         45604.615754  ...    49670.414174   43868.638969\n",
              "2021-05-18      BTC         43144.471291  ...    46622.853437   42102.346430\n",
              "\n",
              "[5 rows x 5 columns]"
            ]
          },
          "metadata": {},
          "execution_count": 3
        }
      ]
    },
    {
      "cell_type": "code",
      "metadata": {
        "colab": {
          "base_uri": "https://localhost:8080/"
        },
        "id": "PgWTWxI9qYdY",
        "outputId": "d81c0499-bd1b-4ccb-bf5b-18f4e3726f10"
      },
      "source": [
        "df.info()"
      ],
      "execution_count": 4,
      "outputs": [
        {
          "output_type": "stream",
          "name": "stdout",
          "text": [
            "<class 'pandas.core.frame.DataFrame'>\n",
            "DatetimeIndex: 2787 entries, 2013-10-01 to 2021-05-18\n",
            "Data columns (total 5 columns):\n",
            " #   Column               Non-Null Count  Dtype  \n",
            "---  ------               --------------  -----  \n",
            " 0   Currency             2787 non-null   object \n",
            " 1   Closing Price (USD)  2787 non-null   float64\n",
            " 2   24h Open (USD)       2787 non-null   float64\n",
            " 3   24h High (USD)       2787 non-null   float64\n",
            " 4   24h Low (USD)        2787 non-null   float64\n",
            "dtypes: float64(4), object(1)\n",
            "memory usage: 130.6+ KB\n"
          ]
        }
      ]
    },
    {
      "cell_type": "code",
      "metadata": {
        "colab": {
          "base_uri": "https://localhost:8080/"
        },
        "id": "H20iOzHyqiTj",
        "outputId": "3d71e7db-7bfa-4002-ca64-e92b5dd1d11d"
      },
      "source": [
        "# How many samples do we have?\n",
        "len(df)"
      ],
      "execution_count": 5,
      "outputs": [
        {
          "output_type": "execute_result",
          "data": {
            "text/plain": [
              "2787"
            ]
          },
          "metadata": {},
          "execution_count": 5
        }
      ]
    },
    {
      "cell_type": "markdown",
      "metadata": {
        "id": "nqVRTo_MqlJT"
      },
      "source": [
        "We have collected the historical price of Bitcoin for the past ~8 years but there's 2728 samples.\n",
        "\n",
        "Typically deep learning models usually like lots and lots and lots of samples.\n",
        "\n",
        "A smaller number of samples is something you will often run into with time series data problems.\n",
        "\n",
        "> 🔑 **Note:** The **seasonality** of a time series dataset is referred as the number of samples per year. So far our Bitcoin data, it has seasonality of daily or value of 365 because we collect one sample per day meaning we will get 265 samples per year."
      ]
    },
    {
      "cell_type": "code",
      "metadata": {
        "colab": {
          "base_uri": "https://localhost:8080/",
          "height": 235
        },
        "id": "s3XSpY51qlqG",
        "outputId": "4e8e4c3e-adbb-4be3-9c2f-e835e3517958"
      },
      "source": [
        "# Only want closing price for each day\n",
        "bitcoin_prices = pd.DataFrame(df['Closing Price (USD)']).rename(columns={'Closing Price (USD)': 'Price'})\n",
        "bitcoin_prices.head()"
      ],
      "execution_count": 6,
      "outputs": [
        {
          "output_type": "execute_result",
          "data": {
            "text/html": [
              "<div>\n",
              "<style scoped>\n",
              "    .dataframe tbody tr th:only-of-type {\n",
              "        vertical-align: middle;\n",
              "    }\n",
              "\n",
              "    .dataframe tbody tr th {\n",
              "        vertical-align: top;\n",
              "    }\n",
              "\n",
              "    .dataframe thead th {\n",
              "        text-align: right;\n",
              "    }\n",
              "</style>\n",
              "<table border=\"1\" class=\"dataframe\">\n",
              "  <thead>\n",
              "    <tr style=\"text-align: right;\">\n",
              "      <th></th>\n",
              "      <th>Price</th>\n",
              "    </tr>\n",
              "    <tr>\n",
              "      <th>Date</th>\n",
              "      <th></th>\n",
              "    </tr>\n",
              "  </thead>\n",
              "  <tbody>\n",
              "    <tr>\n",
              "      <th>2013-10-01</th>\n",
              "      <td>123.65499</td>\n",
              "    </tr>\n",
              "    <tr>\n",
              "      <th>2013-10-02</th>\n",
              "      <td>125.45500</td>\n",
              "    </tr>\n",
              "    <tr>\n",
              "      <th>2013-10-03</th>\n",
              "      <td>108.58483</td>\n",
              "    </tr>\n",
              "    <tr>\n",
              "      <th>2013-10-04</th>\n",
              "      <td>118.67466</td>\n",
              "    </tr>\n",
              "    <tr>\n",
              "      <th>2013-10-05</th>\n",
              "      <td>121.33866</td>\n",
              "    </tr>\n",
              "  </tbody>\n",
              "</table>\n",
              "</div>"
            ],
            "text/plain": [
              "                Price\n",
              "Date                 \n",
              "2013-10-01  123.65499\n",
              "2013-10-02  125.45500\n",
              "2013-10-03  108.58483\n",
              "2013-10-04  118.67466\n",
              "2013-10-05  121.33866"
            ]
          },
          "metadata": {},
          "execution_count": 6
        }
      ]
    },
    {
      "cell_type": "code",
      "metadata": {
        "colab": {
          "base_uri": "https://localhost:8080/",
          "height": 460
        },
        "id": "zW0D0oN5qoQj",
        "outputId": "9cc75eb2-a69d-462e-c9bf-3dccc6fe273f"
      },
      "source": [
        "import matplotlib.pyplot as plt\n",
        "bitcoin_prices.plot(figsize=(10, 7))\n",
        "plt.ylabel('BTC Price')\n",
        "plt.title('Price of Bitcoin from 1 Oct 2013 to 18 May 2021', fontsize=16)\n",
        "plt.legend(fontsize=14);"
      ],
      "execution_count": 7,
      "outputs": [
        {
          "output_type": "display_data",
          "data": {
            "image/png": "[encoded data removed]",
            "text/plain": [
              "<Figure size 720x504 with 1 Axes>"
            ]
          },
          "metadata": {
            "needs_background": "light"
          }
        }
      ]
    },
    {
      "cell_type": "markdown",
      "metadata": {
        "id": "a6vhsOPMqob9"
      },
      "source": [
        "## Importing time series data with Python's CSV module"
      ]
    },
    {
      "cell_type": "code",
      "metadata": {
        "colab": {
          "base_uri": "https://localhost:8080/"
        },
        "id": "F-WgWP8Kqov7",
        "outputId": "cb46ee40-6685-4bbe-c241-ca0d5da0f934"
      },
      "source": [
        "# Importing and formatting historical Bitcoin data with python\n",
        "import csv\n",
        "from datetime import datetime\n",
        "\n",
        "timesteps = []\n",
        "btc_price = []\n",
        "\n",
        "with open('/content/BTC_USD_2013-10-01_2021-05-18-CoinDesk.csv', 'r') as f:\n",
        "  csv_reader = csv.reader(f, delimiter=',')\n",
        "  next(csv_reader) # skip first line (this gets rid of the column titles)\n",
        "  for line in csv_reader:\n",
        "    timesteps.append(datetime.strptime(line[1], '%Y-%m-%d')) # get the dates as dates not string\n",
        "    btc_price.append(float(line[2])) # get the closing price as float\n",
        "\n",
        "# View first 10 of each\n",
        "timesteps[:10], btc_price[:10]    \n"
      ],
      "execution_count": 8,
      "outputs": [
        {
          "output_type": "execute_result",
          "data": {
            "text/plain": [
              "([datetime.datetime(2013, 10, 1, 0, 0),\n",
              "  datetime.datetime(2013, 10, 2, 0, 0),\n",
              "  datetime.datetime(2013, 10, 3, 0, 0),\n",
              "  datetime.datetime(2013, 10, 4, 0, 0),\n",
              "  datetime.datetime(2013, 10, 5, 0, 0),\n",
              "  datetime.datetime(2013, 10, 6, 0, 0),\n",
              "  datetime.datetime(2013, 10, 7, 0, 0),\n",
              "  datetime.datetime(2013, 10, 8, 0, 0),\n",
              "  datetime.datetime(2013, 10, 9, 0, 0),\n",
              "  datetime.datetime(2013, 10, 10, 0, 0)],\n",
              " [123.65499,\n",
              "  125.455,\n",
              "  108.58483,\n",
              "  118.67466,\n",
              "  121.33866,\n",
              "  120.65533,\n",
              "  121.795,\n",
              "  123.033,\n",
              "  124.049,\n",
              "  125.96116])"
            ]
          },
          "metadata": {},
          "execution_count": 8
        }
      ]
    },
    {
      "cell_type": "code",
      "metadata": {
        "colab": {
          "base_uri": "https://localhost:8080/",
          "height": 460
        },
        "id": "i8jUkYlhqpjj",
        "outputId": "659f57e3-1749-477d-afc9-093ccf6e8bc4"
      },
      "source": [
        "# Plot from CSV\n",
        "import matplotlib.pyplot as plt\n",
        "import numpy as np\n",
        "\n",
        "plt.figure(figsize=(10, 7))\n",
        "plt.plot(timesteps, btc_price)\n",
        "plt.ylabel('BTC Price')\n",
        "plt.title('Price of Bitcoin from 1 Oct 2013 to 18 May 2021', fontsize=16)\n",
        "plt.xlabel('Date');"
      ],
      "execution_count": 9,
      "outputs": [
        {
          "output_type": "display_data",
          "data": {
            "image/png": "[encoded data removed]",
            "text/plain": [
              "<Figure size 720x504 with 1 Axes>"
            ]
          },
          "metadata": {
            "needs_background": "light"
          }
        }
      ]
    },
    {
      "cell_type": "markdown",
      "metadata": {
        "id": "5u_XNSHWqp7z"
      },
      "source": [
        "## Format data part 1: Create train and test sets of our time series data"
      ]
    },
    {
      "cell_type": "markdown",
      "metadata": {
        "id": "9iWAoYmPqqJ3"
      },
      "source": [
        "### Creating training and test sets with time series data (the wrong way)"
      ]
    },
    {
      "cell_type": "code",
      "metadata": {
        "colab": {
          "base_uri": "https://localhost:8080/",
          "height": 390
        },
        "id": "kgYxfs8Jy9EA",
        "outputId": "2dda258c-d299-47df-f440-a08265e28ebe"
      },
      "source": [
        "bitcoin_prices[:10]"
      ],
      "execution_count": 10,
      "outputs": [
        {
          "output_type": "execute_result",
          "data": {
            "text/html": [
              "<div>\n",
              "<style scoped>\n",
              "    .dataframe tbody tr th:only-of-type {\n",
              "        vertical-align: middle;\n",
              "    }\n",
              "\n",
              "    .dataframe tbody tr th {\n",
              "        vertical-align: top;\n",
              "    }\n",
              "\n",
              "    .dataframe thead th {\n",
              "        text-align: right;\n",
              "    }\n",
              "</style>\n",
              "<table border=\"1\" class=\"dataframe\">\n",
              "  <thead>\n",
              "    <tr style=\"text-align: right;\">\n",
              "      <th></th>\n",
              "      <th>Price</th>\n",
              "    </tr>\n",
              "    <tr>\n",
              "      <th>Date</th>\n",
              "      <th></th>\n",
              "    </tr>\n",
              "  </thead>\n",
              "  <tbody>\n",
              "    <tr>\n",
              "      <th>2013-10-01</th>\n",
              "      <td>123.65499</td>\n",
              "    </tr>\n",
              "    <tr>\n",
              "      <th>2013-10-02</th>\n",
              "      <td>125.45500</td>\n",
              "    </tr>\n",
              "    <tr>\n",
              "      <th>2013-10-03</th>\n",
              "      <td>108.58483</td>\n",
              "    </tr>\n",
              "    <tr>\n",
              "      <th>2013-10-04</th>\n",
              "      <td>118.67466</td>\n",
              "    </tr>\n",
              "    <tr>\n",
              "      <th>2013-10-05</th>\n",
              "      <td>121.33866</td>\n",
              "    </tr>\n",
              "    <tr>\n",
              "      <th>2013-10-06</th>\n",
              "      <td>120.65533</td>\n",
              "    </tr>\n",
              "    <tr>\n",
              "      <th>2013-10-07</th>\n",
              "      <td>121.79500</td>\n",
              "    </tr>\n",
              "    <tr>\n",
              "      <th>2013-10-08</th>\n",
              "      <td>123.03300</td>\n",
              "    </tr>\n",
              "    <tr>\n",
              "      <th>2013-10-09</th>\n",
              "      <td>124.04900</td>\n",
              "    </tr>\n",
              "    <tr>\n",
              "      <th>2013-10-10</th>\n",
              "      <td>125.96116</td>\n",
              "    </tr>\n",
              "  </tbody>\n",
              "</table>\n",
              "</div>"
            ],
            "text/plain": [
              "                Price\n",
              "Date                 \n",
              "2013-10-01  123.65499\n",
              "2013-10-02  125.45500\n",
              "2013-10-03  108.58483\n",
              "2013-10-04  118.67466\n",
              "2013-10-05  121.33866\n",
              "2013-10-06  120.65533\n",
              "2013-10-07  121.79500\n",
              "2013-10-08  123.03300\n",
              "2013-10-09  124.04900\n",
              "2013-10-10  125.96116"
            ]
          },
          "metadata": {},
          "execution_count": 10
        }
      ]
    },
    {
      "cell_type": "code",
      "metadata": {
        "colab": {
          "base_uri": "https://localhost:8080/"
        },
        "id": "N3LPQYy7yqML",
        "outputId": "bed1931c-0618-49bf-b996-e86e6e7cf4be"
      },
      "source": [
        "# Get bitcoin date arry\n",
        "timesteps = bitcoin_prices.index.to_numpy()\n",
        "prices = bitcoin_prices['Price'].to_numpy()\n",
        "\n",
        "timesteps[:10], prices[:10]"
      ],
      "execution_count": 11,
      "outputs": [
        {
          "output_type": "execute_result",
          "data": {
            "text/plain": [
              "(array(['2013-10-01T00:00:00.000000000', '2013-10-02T00:00:00.000000000',\n",
              "        '2013-10-03T00:00:00.000000000', '2013-10-04T00:00:00.000000000',\n",
              "        '2013-10-05T00:00:00.000000000', '2013-10-06T00:00:00.000000000',\n",
              "        '2013-10-07T00:00:00.000000000', '2013-10-08T00:00:00.000000000',\n",
              "        '2013-10-09T00:00:00.000000000', '2013-10-10T00:00:00.000000000'],\n",
              "       dtype='datetime64[ns]'),\n",
              " array([123.65499, 125.455  , 108.58483, 118.67466, 121.33866, 120.65533,\n",
              "        121.795  , 123.033  , 124.049  , 125.96116]))"
            ]
          },
          "metadata": {},
          "execution_count": 11
        }
      ]
    },
    {
      "cell_type": "code",
      "metadata": {
        "colab": {
          "base_uri": "https://localhost:8080/"
        },
        "id": "eJ3d5YEeyhnK",
        "outputId": "380fc550-c30d-42ab-b71a-2bc880f6e4fe"
      },
      "source": [
        "# Wrong way make train/test sets for time series data\n",
        "from sklearn.model_selection import train_test_split\n",
        "\n",
        "X_train, X_test, y_train, y_test = train_test_split(timesteps, #dates\n",
        "                                                    prices, # BTC prices\n",
        "                                                    test_size=00.2,\n",
        "                                                    random_state=42)\n",
        "\n",
        "X_train.shape, X_test.shape, y_train.shape, y_test.shape"
      ],
      "execution_count": 12,
      "outputs": [
        {
          "output_type": "execute_result",
          "data": {
            "text/plain": [
              "((2229,), (558,), (2229,), (558,))"
            ]
          },
          "metadata": {},
          "execution_count": 12
        }
      ]
    },
    {
      "cell_type": "code",
      "metadata": {
        "colab": {
          "base_uri": "https://localhost:8080/",
          "height": 442
        },
        "id": "_bqWbuxKzo45",
        "outputId": "9d1549a3-a2e7-42cb-b11a-1df9d916f933"
      },
      "source": [
        "# Let's plot wrong train and test splits\n",
        "plt.figure(figsize=(10, 7))\n",
        "plt.scatter(X_train, y_train, s=5, label='Train data')\n",
        "plt.scatter(X_test, y_test, label='Test data')\n",
        "plt.xlabel('Date')\n",
        "plt.ylabel('BTC Price')\n",
        "plt.legend(fontsize=14)\n",
        "plt.show();"
      ],
      "execution_count": 13,
      "outputs": [
        {
          "output_type": "display_data",
          "data": {
            "image/png": "[encoded data removed]",
            "text/plain": [
              "<Figure size 720x504 with 1 Axes>"
            ]
          },
          "metadata": {
            "needs_background": "light"
          }
        }
      ]
    },
    {
      "cell_type": "markdown",
      "metadata": {
        "id": "kFJWM5B00M0Q"
      },
      "source": [
        "### Create train & test sets for time series (the right way)"
      ]
    },
    {
      "cell_type": "code",
      "metadata": {
        "colab": {
          "base_uri": "https://localhost:8080/"
        },
        "id": "3qx4o4BV0smh",
        "outputId": "3df7342c-280d-4b9d-8917-31c894945637"
      },
      "source": [
        "# Create train and test splits the right way for the time series data\n",
        "split_size = int(0.8 * len(prices)) # 80% train, 20% test\n",
        "\n",
        "# Create train data splits (everytying before the split)\n",
        "X_train, y_train = timesteps[:split_size], prices[:split_size]\n",
        "\n",
        "# Create test data splits (everything beyond the split)\n",
        "X_test, y_test = timesteps[split_size:], prices[split_size:]\n",
        "\n",
        "len(X_train), len(X_test), len(y_train), len(y_test)"
      ],
      "execution_count": 14,
      "outputs": [
        {
          "output_type": "execute_result",
          "data": {
            "text/plain": [
              "(2229, 558, 2229, 558)"
            ]
          },
          "metadata": {},
          "execution_count": 14
        }
      ]
    },
    {
      "cell_type": "code",
      "metadata": {
        "colab": {
          "base_uri": "https://localhost:8080/",
          "height": 442
        },
        "id": "9YV-dQut12aU",
        "outputId": "0423eb04-5bc7-4b92-ab21-20c80f1ed1b5"
      },
      "source": [
        "# Plot the graph\n",
        "plt.figure(figsize=(10, 7))\n",
        "plt.scatter(X_train, y_train, s=5, label='Train data')\n",
        "plt.scatter(X_test, y_test, label='Test data')\n",
        "plt.xlabel('Date')\n",
        "plt.ylabel('BTC Price')\n",
        "plt.legend(fontsize=14)\n",
        "plt.show();"
      ],
      "execution_count": 15,
      "outputs": [
        {
          "output_type": "display_data",
          "data": {
            "image/png": "[encoded data removed]",
            "text/plain": [
              "<Figure size 720x504 with 1 Axes>"
            ]
          },
          "metadata": {
            "needs_background": "light"
          }
        }
      ]
    },
    {
      "cell_type": "markdown",
      "metadata": {
        "id": "ZRbwLer717VZ"
      },
      "source": [
        "## Create a ploting function\n",
        "\n",
        "Typing plotting code is tidious, let's functionize it."
      ]
    },
    {
      "cell_type": "code",
      "metadata": {
        "id": "WjnNLkJF7zi2"
      },
      "source": [
        "# Create a function to plot time series data\n",
        "def plot_time_series(timesteps, values, format='.', start=0, end=None,label=None):\n",
        "  \"\"\"\n",
        "  Plots timesteps (a series of points in time) against values (a series of values across timesteps)\n",
        "\n",
        "  Parameters\n",
        "  ----------\n",
        "  timesteps: array of timesteps values\n",
        "  values: array of values across time\n",
        "\n",
        "  \"\"\"\n",
        "  # Plot the series\n",
        "  plt.plot(timesteps[start:end], values[start:end], format, label=label)\n",
        "  plt.xlabel('Time')\n",
        "  plt.ylabel('BTC Price')\n",
        "  if label:\n",
        "    plt.legend(fontsize=14)\n",
        "  plt.grid(True) "
      ],
      "execution_count": 16,
      "outputs": []
    },
    {
      "cell_type": "code",
      "metadata": {
        "colab": {
          "base_uri": "https://localhost:8080/",
          "height": 442
        },
        "id": "6YBRjffL81vz",
        "outputId": "aff0f5d5-02f7-485f-9ba9-1242c84615cf"
      },
      "source": [
        "# Test out plotting function\n",
        "plt.figure(figsize=(10, 7))\n",
        "plot_time_series(timesteps=X_train, values=y_train, start=1000, label='Train data')\n",
        "plot_time_series(timesteps=X_test, values=y_test, label='Test data')"
      ],
      "execution_count": 17,
      "outputs": [
        {
          "output_type": "display_data",
          "data": {
            "image/png": "[encoded data removed]",
            "text/plain": [
              "<Figure size 720x504 with 1 Axes>"
            ]
          },
          "metadata": {
            "needs_background": "light"
          }
        }
      ]
    },
    {
      "cell_type": "markdown",
      "metadata": {
        "id": "kYcqHdzH9Nws"
      },
      "source": [
        "## Modelling Experiments\n",
        "\n",
        "We can build almost any kind of model for our problem as long as the data inputs and outputs are formatted correctly.\n",
        "\n",
        "However, just because we *can* build *almost any* kind of model, doesn't mean it'll perform well/should be used in a production setting.\n",
        "\n",
        "We'll see what this means as we build and evaluate models throughout.\n",
        "\n",
        "Before we discuss what modelling experiments we're going to run, there are two terms you should be familiar with, **horizon** and **window**. \n",
        "  * **horizon** = number of timesteps to predict into future\n",
        "  * **window** = number of timesteps from past used to predict **horizon**\n",
        "\n",
        "For example, if we wanted to predict the price of Bitcoin for tomorrow (1 day in the future) using the previous week's worth of Bitcoin prices (7 days in the past), the horizon would be 1 and the window would be 7.\n",
        "\n",
        "Now, how about those modelling experiments?\n",
        "\n",
        "| Model Number | Model Type | Horizon size | Window size | Extra data |\n",
        "| ----- | ----- | ----- | ----- | ----- |\n",
        "| 0 | Naïve model (baseline) | NA | NA | NA |\n",
        "| 1 | Dense model | 1 | 7 | NA |\n",
        "| 2 | Same as 1 | 1 | 30 | NA | \n",
        "| 3 | Same as 1 | 7 | 30 | NA |\n",
        "| 4 | Conv1D | 1 | 7 | NA |\n",
        "| 5 | LSTM | 1 | 7 | NA |\n",
        "| 6 | Same as 1 (but with multivariate data) | 1 | 7 | Block reward size |\n",
        "| 7 | [N-BEATs Algorithm](https://arxiv.org/pdf/1905.10437.pdf) | 1 | 7 | NA |\n",
        "| 8 | Ensemble (multiple models optimized on different loss functions) | 1 | 7 | NA | \n",
        "| 9 | Future prediction model (model to predict future values) | 1 | 7 | NA| \n",
        "| 10 | Same as 1 (but with turkey 🦃 data introduced) | 1 | 7 | NA |\n",
        "\n",
        "> 🔑 **Note:** To reiterate, as you can see, we can build many types of models for the data we're working with. But that doesn't mean that they'll perform well. Deep learning is a powerful technique but it doesn't always work. And as always, start with a simple model first and then add complexity as needed. "
      ]
    },
    {
      "cell_type": "markdown",
      "metadata": {
        "id": "7ZAAQkxhU0c-"
      },
      "source": [
        "## Model 0: Navie forecast (baseline)\n",
        "\n",
        "The farmula looks like this\n",
        "\n",
        "$$\\hat{y}_{t} = y_{t-1}$$\n",
        "\n",
        "In English\n",
        "\n",
        "> The prediction at timestep t (y-hat) is equal to the value at timestep t-1 (previous timestpe) - this is for a horizon of 1."
      ]
    },
    {
      "cell_type": "code",
      "metadata": {
        "colab": {
          "base_uri": "https://localhost:8080/"
        },
        "id": "v69QHXoJYlR4",
        "outputId": "10f2189c-a0f9-48f8-e1ee-ffb47501457e"
      },
      "source": [
        "# Create a naive forecast\n",
        "naive_forecast = y_test[:-1]\n",
        "\n",
        "naive_forecast[:10], naive_forecast[-10:]"
      ],
      "execution_count": 18,
      "outputs": [
        {
          "output_type": "execute_result",
          "data": {
            "text/plain": [
              "(array([9226.48582088, 8794.35864452, 8798.04205463, 9081.18687849,\n",
              "        8711.53433917, 8760.89271814, 8749.52059102, 8656.97092235,\n",
              "        8500.64355816, 8469.2608989 ]),\n",
              " array([57107.12067189, 58788.20967893, 58102.19142623, 55715.54665129,\n",
              "        56573.5554719 , 52147.82118698, 49764.1320816 , 50032.69313676,\n",
              "        47885.62525472, 45604.61575361]))"
            ]
          },
          "metadata": {},
          "execution_count": 18
        }
      ]
    },
    {
      "cell_type": "code",
      "metadata": {
        "colab": {
          "base_uri": "https://localhost:8080/"
        },
        "id": "5uLYXwZDZkwh",
        "outputId": "8f53a25b-9108-47ca-f148-8b00f3a2512a"
      },
      "source": [
        "y_test[-10:]"
      ],
      "execution_count": 19,
      "outputs": [
        {
          "output_type": "execute_result",
          "data": {
            "text/plain": [
              "array([58788.20967893, 58102.19142623, 55715.54665129, 56573.5554719 ,\n",
              "       52147.82118698, 49764.1320816 , 50032.69313676, 47885.62525472,\n",
              "       45604.61575361, 43144.47129086])"
            ]
          },
          "metadata": {},
          "execution_count": 19
        }
      ]
    },
    {
      "cell_type": "code",
      "metadata": {
        "colab": {
          "base_uri": "https://localhost:8080/",
          "height": 442
        },
        "id": "UwP7LBJLZsM0",
        "outputId": "1f127150-eacf-48c4-b5cb-7ec3930d722c"
      },
      "source": [
        "# Plot naive forecast\n",
        "plt.figure(figsize=(10, 7))\n",
        "# plot_time_series(timesteps=X_train, values=y_train, label='Train data')\n",
        "plot_time_series(timesteps=X_test, values=y_test, start=300, format='-', label='Test data')\n",
        "plot_time_series(timesteps=X_test[1:], values=naive_forecast, start=300, format='-', label='Naive Forecast')"
      ],
      "execution_count": 20,
      "outputs": [
        {
          "output_type": "display_data",
          "data": {
            "image/png": "[encoded data removed]",
            "text/plain": [
              "<Figure size 720x504 with 1 Axes>"
            ]
          },
          "metadata": {
            "needs_background": "light"
          }
        }
      ]
    },
    {
      "cell_type": "markdown",
      "metadata": {
        "id": "SuyRdaESaRZ-"
      },
      "source": [
        "> **Exercise:** Spend 10 minutes reading the sample forecasts chapter of Forcasting: Principles in Practice and have a search to find out why the naive forecast is so hard to beat, does the term autoregressive come up?"
      ]
    },
    {
      "cell_type": "markdown",
      "metadata": {
        "id": "1Z7W3fGKbkh5"
      },
      "source": [
        "## Evaluating a time series model\n",
        "\n",
        "Let's look into some evaluation metrics for time series forecasting.\n",
        "\n",
        "What are we doing?\n",
        "\n",
        "We are predicting a number, so that means we have a form of a regression problem.\n",
        "\n",
        "Because we are working on a regression problem, we will need some regression-like metrics.\n",
        "\n",
        "A few common regression metrics, (which can also be used for time series forecasting):\n",
        "* MAE - mena absolute erro\n",
        "* MSE - mean squared error\n",
        "* RMSE - root mean squared error\n",
        "* MAPE/sMAPE - (symmetric) mean absolute percentage error\n",
        "* MASE - mean absolute scaled error.\n",
        "\n",
        "For all of the above metrics, **lower is better** , for example , an MAE of 0 that is better than an MAE of 100.\n",
        "\n",
        "The main thing we are evaluating here is: **how do our model's forecasts (y_pred) compare against the actual values (y_true or ground truth values)?**"
      ]
    },
    {
      "cell_type": "code",
      "metadata": {
        "id": "of11pbbRccUF"
      },
      "source": [
        "import tensorflow as tf"
      ],
      "execution_count": 21,
      "outputs": []
    },
    {
      "cell_type": "code",
      "metadata": {
        "id": "d49Bjs4qfBUj"
      },
      "source": [
        "# MASE implementation\n",
        "def mean_absolute_scaled_error(y_true, y_pred):\n",
        "  \"\"\"\n",
        "  Implement MASE (assuming no seasonality of data).\n",
        "  \"\"\"\n",
        "\n",
        "  mae = tf.reduce_mean(tf.abs(y_true-y_pred))\n",
        "\n",
        "  # Find MAE of naive forecast (no seasonality)\n",
        "  mae_naive_no_season = tf.reduce_mean(tf.abs(y_true[1:] - y_true[:-1])) # our seasonality is 1 day (hence the shift of 1)\n",
        "\n",
        "  return mae / mae_naive_no_season"
      ],
      "execution_count": 22,
      "outputs": []
    },
    {
      "cell_type": "code",
      "metadata": {
        "colab": {
          "base_uri": "https://localhost:8080/"
        },
        "id": "4H9PqZlXgThn",
        "outputId": "92487486-4976-400d-89d2-561911e69b38"
      },
      "source": [
        "mean_absolute_scaled_error(y_true=y_test[1:], y_pred=naive_forecast).numpy()"
      ],
      "execution_count": 23,
      "outputs": [
        {
          "output_type": "execute_result",
          "data": {
            "text/plain": [
              "0.9995699939182624"
            ]
          },
          "metadata": {},
          "execution_count": 23
        }
      ]
    },
    {
      "cell_type": "code",
      "metadata": {
        "id": "4ohE2jiSgbuk"
      },
      "source": [
        "# Create a function to take in model predictions and truth values and return evaluatic\n",
        "def evaluate_preds(y_true, y_pred):\n",
        "  # Make sure float32 datatype (for metric calculations)\n",
        "  y_true = tf.cast(y_true, dtype=tf.float32)\n",
        "  y_pred = tf.cast(y_pred, dtype=tf.float32)\n",
        "\n",
        "  # Calculate various evaluation metrics\n",
        "  mae = tf.keras.metrics.mean_absolute_error(y_true, y_pred)\n",
        "  mse = tf.keras.metrics.mean_squared_error(y_true, y_pred)\n",
        "  rmse = tf.sqrt(mse)\n",
        "  mape = tf.keras.metrics.mean_absolute_error(y_true, y_pred)\n",
        "  mase = mean_absolute_scaled_error(y_true, y_pred)\n",
        "\n",
        "  return {'mae': mae.numpy(),\n",
        "          'mse': mse.numpy(),\n",
        "          'rmse': rmse.numpy(),\n",
        "          'mape': mape.numpy(),\n",
        "          'mase': mase.numpy()}"
      ],
      "execution_count": 24,
      "outputs": []
    },
    {
      "cell_type": "code",
      "metadata": {
        "colab": {
          "base_uri": "https://localhost:8080/"
        },
        "id": "W049Dh2jvBoL",
        "outputId": "fcbdf683-df61-4647-c951-fcc65775f6b2"
      },
      "source": [
        "naive_results = evaluate_preds(y_true=y_test[1:],\n",
        "                               y_pred=naive_forecast)\n",
        "naive_results"
      ],
      "execution_count": 25,
      "outputs": [
        {
          "output_type": "execute_result",
          "data": {
            "text/plain": [
              "{'mae': 567.9802,\n",
              " 'mape': 567.9802,\n",
              " 'mase': 0.99957,\n",
              " 'mse': 1147547.0,\n",
              " 'rmse': 1071.2362}"
            ]
          },
          "metadata": {},
          "execution_count": 25
        }
      ]
    },
    {
      "cell_type": "code",
      "metadata": {
        "colab": {
          "base_uri": "https://localhost:8080/"
        },
        "id": "PREOh60zvfyz",
        "outputId": "c5c85e42-0bb9-4947-dd15-b4fff9dbf96b"
      },
      "source": [
        "naive_forecast[-10:]"
      ],
      "execution_count": 26,
      "outputs": [
        {
          "output_type": "execute_result",
          "data": {
            "text/plain": [
              "array([57107.12067189, 58788.20967893, 58102.19142623, 55715.54665129,\n",
              "       56573.5554719 , 52147.82118698, 49764.1320816 , 50032.69313676,\n",
              "       47885.62525472, 45604.61575361])"
            ]
          },
          "metadata": {},
          "execution_count": 26
        }
      ]
    },
    {
      "cell_type": "code",
      "metadata": {
        "colab": {
          "base_uri": "https://localhost:8080/"
        },
        "id": "43LtatQlvwKR",
        "outputId": "b36c3e90-6b1f-43eb-b6af-22d4f760735f"
      },
      "source": [
        "tf.reduce_mean(y_test)"
      ],
      "execution_count": 27,
      "outputs": [
        {
          "output_type": "execute_result",
          "data": {
            "text/plain": [
              "<tf.Tensor: shape=(), dtype=float64, numpy=20056.632963737226>"
            ]
          },
          "metadata": {},
          "execution_count": 27
        }
      ]
    },
    {
      "cell_type": "code",
      "metadata": {
        "colab": {
          "base_uri": "https://localhost:8080/"
        },
        "id": "zEscNfx8v6kP",
        "outputId": "85f05fc7-fa9e-4e00-eaab-fe1aa7018a00"
      },
      "source": [
        "tf.reduce_min(y_test), tf.reduce_max(y_test)"
      ],
      "execution_count": 28,
      "outputs": [
        {
          "output_type": "execute_result",
          "data": {
            "text/plain": [
              "(<tf.Tensor: shape=(), dtype=float64, numpy=4944.7023359837>,\n",
              " <tf.Tensor: shape=(), dtype=float64, numpy=63346.7890351052>)"
            ]
          },
          "metadata": {},
          "execution_count": 28
        }
      ]
    },
    {
      "cell_type": "markdown",
      "metadata": {
        "id": "QpjqxpIMv_T0"
      },
      "source": [
        "\n",
        "## Other models you can use for baseline and for actual forecast\n",
        "\n",
        "In this notebook, we are focused on TensorFlow and deep learning models.\n",
        "\n",
        "However there are plenty of other styles of time series forecasting models you may"
      ]
    },
    {
      "cell_type": "markdown",
      "metadata": {
        "id": "7QwTPrAAwtpC"
      },
      "source": [
        "## Format data Part2: Windowing our dataset\n",
        "\n",
        "Why do we window?\n",
        "\n",
        "We window our time series dataset to turn our data into a supervised learning problem.\n",
        "\n",
        "```\n",
        "Windowing for one week\n",
        "[0, 1, 2, 3, 4, 5, 6] -> [7]\n",
        "[1, 2, 3, 4, 5, 6, 7] -> [8]\n",
        "[2, 3, 4, 5, 6, 7, 8] -> [9]\n",
        "```"
      ]
    },
    {
      "cell_type": "code",
      "metadata": {
        "colab": {
          "base_uri": "https://localhost:8080/"
        },
        "id": "XsX-iLGyyb5X",
        "outputId": "06f34176-6043-4042-d47e-d9012b14d0ad"
      },
      "source": [
        "len(y_train)"
      ],
      "execution_count": 29,
      "outputs": [
        {
          "output_type": "execute_result",
          "data": {
            "text/plain": [
              "2229"
            ]
          },
          "metadata": {},
          "execution_count": 29
        }
      ]
    },
    {
      "cell_type": "code",
      "metadata": {
        "colab": {
          "base_uri": "https://localhost:8080/"
        },
        "id": "lYLEEd6Vygsc",
        "outputId": "c1b77ea0-0ef1-47da-9814-06ec9a6db05e"
      },
      "source": [
        "# What we want to do with our Bitcoin data\n",
        "print(f'We want to use: {btc_price[:7]} to predict this: {btc_price[7]}')"
      ],
      "execution_count": 30,
      "outputs": [
        {
          "output_type": "stream",
          "name": "stdout",
          "text": [
            "We want to use: [123.65499, 125.455, 108.58483, 118.67466, 121.33866, 120.65533, 121.795] to predict this: 123.033\n"
          ]
        }
      ]
    },
    {
      "cell_type": "code",
      "metadata": {
        "id": "rDCiu_DbyiWC"
      },
      "source": [
        "# Let's setup global variables for window and horizon sizeith TensorFlow + Milestone Project 3: BitPredict\n",
        "\n",
        "HORIZON = 1 # predict next 1 day\n",
        "WINDOW_SIZE = 7 # use the past week of Bitcoin data to make the prediction"
      ],
      "execution_count": 31,
      "outputs": []
    },
    {
      "cell_type": "code",
      "metadata": {
        "id": "5e3JUzfyzTGj"
      },
      "source": [
        "# Create function to label windowed data\n",
        "def get_labelled_windows(x, horizon=HORIZON):\n",
        "  \"\"\"\n",
        "  Creates labels for windowed dataset.\n",
        "\n",
        "  E.g. If horizon=1\n",
        "  Input: [0, 1, 2, 3, 4, 5, 6, 7] -> Output: ([0, 1, 2, 3, 4, 5, 6], [7])\n",
        "  \"\"\"\n",
        "\n",
        "  return x[:, :-horizon], x[:, -horizon:]"
      ],
      "execution_count": 35,
      "outputs": []
    },
    {
      "cell_type": "code",
      "metadata": {
        "colab": {
          "base_uri": "https://localhost:8080/"
        },
        "id": "QzvNL_Ih2ay8",
        "outputId": "2f7b89a8-f7e3-47cc-c884-73c0b24e6d63"
      },
      "source": [
        "# Test out the wondow lebeling function\n",
        "test_window, test_label = get_labelled_window(tf.expand_dims(tf.range(8), axis=0))\n",
        "print(f'Window: {tf.squeeze(test_window).numpy()} -> Label: {tf.squeeze(test_label).numpy()}')"
      ],
      "execution_count": 36,
      "outputs": [
        {
          "output_type": "stream",
          "name": "stdout",
          "text": [
            "Window: [0 1 2 3 4 5 6] -> Label: 7\n"
          ]
        }
      ]
    },
    {
      "cell_type": "markdown",
      "metadata": {
        "id": "U7FFAQQP2p1E"
      },
      "source": [
        "we have got a way to label our windowed data.\n",
        "\n",
        "However, this only works on a small scale.\n",
        "\n",
        "We need a way to do the above across our entire time series.\n",
        "\n",
        "We could do this with python for loops, however , for large time series, thit'd be quite slow. To speed things up, we will leverage NumPy's array indexing.\n",
        "\n",
        "Our function will:\n",
        ">1. Create a window step of specific window size (e.g. [0, 1, 2, 3, 4, 5, 6])\n",
        "2. Use NumPy indexing to create a 2D array of multiple window steps, for example\n",
        "```\n",
        "[[0, 1, 2, 3, 4, 5, 6],\n",
        " [1, 2, 3, 4, 5, 6, 7],\n",
        "  [2, 3, 4, 5, 6, 7, 8]]\n",
        "```\n",
        "3. Uses of 2D array of multiple window steps (from 2.) to index on a target series (e.g the historical price of Bitcoin).\n",
        "4. Uses our 'get_label_windows()' function we "
      ]
    },
    {
      "cell_type": "code",
      "metadata": {
        "id": "lteBmPxLWw3j"
      },
      "source": [
        "import numpy as np"
      ],
      "execution_count": 37,
      "outputs": []
    },
    {
      "cell_type": "code",
      "metadata": {
        "id": "5a0ids826mFd"
      },
      "source": [
        "# Create function to view numpy arrays as window\n",
        "def make_windows(x, window_size=WINDOW_SIZE, horizon=HORIZON):\n",
        "  \"\"\"\n",
        "  Turns a 1D array into a 2D array of sequential labelled windos of window_size with horizon size labels.\n",
        "  \"\"\"\n",
        "  # 1. Create a window of specific window_size (add the horizon on the end for labelling later)\n",
        "  window_step = np.expand_dims(np.arange(window_size + horizon),axis=0)\n",
        "\n",
        "  # 2. Use numpy indexing a 2D array of multiple windows\n",
        "  window_indexes = window_step + np.expand_dims(np.arange(len(x) - (window_size + horizon - 1)), axis=0).T # Create 2D array of windows of window_size\n",
        "\n",
        "  # print(f'Window indexes:\\n{window_indexes, window_indexes.shape}')\n",
        "\n",
        "  # 3. Index on the target array (a time series with 2D array of multiple window steps)\n",
        "  windowed_array = x[window_indexes]\n",
        "\n",
        "  print(windowed_array)\n",
        "\n",
        "  # 4. Get the labelled windows\n",
        "  windows, labels = get_labelled_windows(windowed_array, horizon=horizon)\n",
        "  return windows, labels"
      ],
      "execution_count": 40,
      "outputs": []
    },
    {
      "cell_type": "code",
      "metadata": {
        "id": "P8BTE8lp6pYs",
        "colab": {
          "base_uri": "https://localhost:8080/"
        },
        "outputId": "da0c12e7-6bdc-4930-c3b6-f4ece5bd1dc8"
      },
      "source": [
        "full_windows, full_labels = make_windows(prices, window_size=WINDOW_SIZE, horizon=HORIZON)\n",
        "len(full_windows), len(full_labels)"
      ],
      "execution_count": 41,
      "outputs": [
        {
          "output_type": "stream",
          "name": "stdout",
          "text": [
            "[[  123.65499      125.455        108.58483    ...   120.65533\n",
            "    121.795        123.033     ]\n",
            " [  125.455        108.58483      118.67466    ...   121.795\n",
            "    123.033        124.049     ]\n",
            " [  108.58483      118.67466      121.33866    ...   123.033\n",
            "    124.049        125.96116   ]\n",
            " ...\n",
            " [58788.20967893 58102.19142623 55715.54665129 ... 49764.1320816\n",
            "  50032.69313676 47885.62525472]\n",
            " [58102.19142623 55715.54665129 56573.5554719  ... 50032.69313676\n",
            "  47885.62525472 45604.61575361]\n",
            " [55715.54665129 56573.5554719  52147.82118698 ... 47885.62525472\n",
            "  45604.61575361 43144.47129086]]\n"
          ]
        },
        {
          "output_type": "execute_result",
          "data": {
            "text/plain": [
              "(2780, 2780)"
            ]
          },
          "metadata": {},
          "execution_count": 41
        }
      ]
    },
    {
      "cell_type": "code",
      "metadata": {
        "colab": {
          "base_uri": "https://localhost:8080/"
        },
        "id": "EmMvUCmtX5zy",
        "outputId": "9e40cef7-4432-450c-87d8-b81e47f418d7"
      },
      "source": [
        "# View the first 3 windows/labels\n",
        "for i in range(3):\n",
        "  print(f'window: {full_windows[i]} -> Label: {full_labels[i]}')"
      ],
      "execution_count": 43,
      "outputs": [
        {
          "output_type": "stream",
          "name": "stdout",
          "text": [
            "window: [123.65499 125.455   108.58483 118.67466 121.33866 120.65533 121.795  ] -> Label: [123.033]\n",
            "window: [125.455   108.58483 118.67466 121.33866 120.65533 121.795   123.033  ] -> Label: [124.049]\n",
            "window: [108.58483 118.67466 121.33866 120.65533 121.795   123.033   124.049  ] -> Label: [125.96116]\n"
          ]
        }
      ]
    },
    {
      "cell_type": "code",
      "metadata": {
        "colab": {
          "base_uri": "https://localhost:8080/"
        },
        "id": "NV8pfwfMZMDL",
        "outputId": "dcc6c283-e753-4ffd-a51c-a69826572d65"
      },
      "source": [
        "# View the last 3 windows/labels\n",
        "for i in range(3):\n",
        "  print(f'Window: {full_windows[i-3]} -> Label: {full_labels[i-3]}')"
      ],
      "execution_count": 44,
      "outputs": [
        {
          "output_type": "stream",
          "name": "stdout",
          "text": [
            "Window: [58788.20967893 58102.19142623 55715.54665129 56573.5554719\n",
            " 52147.82118698 49764.1320816  50032.69313676] -> Label: [47885.62525472]\n",
            "Window: [58102.19142623 55715.54665129 56573.5554719  52147.82118698\n",
            " 49764.1320816  50032.69313676 47885.62525472] -> Label: [45604.61575361]\n",
            "Window: [55715.54665129 56573.5554719  52147.82118698 49764.1320816\n",
            " 50032.69313676 47885.62525472 45604.61575361] -> Label: [43144.47129086]\n"
          ]
        }
      ]
    },
    {
      "cell_type": "markdown",
      "metadata": {
        "id": "o8Q06dG7ZiXJ"
      },
      "source": [
        "> **Note:** There's a function which does similar to above in tf.keras.preprocessing, and extension could be to try and replicate what we've done using the premade function: https://www.tensorflow.org/api_docs/python/tf/keras/utils/timeseries_dataset_from_array\n"
      ]
    },
    {
      "cell_type": "markdown",
      "metadata": {
        "id": "30C7KE4daQ8r"
      },
      "source": [
        "## Turning windows into training and test sets"
      ]
    },
    {
      "cell_type": "code",
      "metadata": {
        "id": "e2gC2UlCaeno"
      },
      "source": [
        "# Make the train/test splits\n",
        "def make_train_test_splits(windows, labels, test_split=0.2):\n",
        "  \"\"\"\n",
        "  Splits matching pairs of windows and labels into train and test splits.\n",
        "  \"\"\"\n",
        "  split_size = int(len(windows) * (1 - test_split)) # this will default to 80% train/ 20% test\n",
        "  train_windows = windows[:split_size]\n",
        "  train_labels = labels[:split_size]\n",
        "  test_windows = windows[split_size:]\n",
        "  test_labels = labels[split_size:]\n",
        "  return train_windows, test_windows, train_labels, test_labels"
      ],
      "execution_count": 49,
      "outputs": []
    },
    {
      "cell_type": "code",
      "metadata": {
        "colab": {
          "base_uri": "https://localhost:8080/"
        },
        "id": "-nJyEWk9bqsr",
        "outputId": "2e12baa2-6074-47bf-8322-1ec43adf95ed"
      },
      "source": [
        "train_windows, test_windows, train_labels, test_labels = make_train_test_splits(full_windows, full_labels)\n",
        "len(train_windows), len(test_windows), len(train_labels), len(test_labels)"
      ],
      "execution_count": 50,
      "outputs": [
        {
          "output_type": "execute_result",
          "data": {
            "text/plain": [
              "(2224, 556, 2224, 556)"
            ]
          },
          "metadata": {},
          "execution_count": 50
        }
      ]
    },
    {
      "cell_type": "code",
      "metadata": {
        "colab": {
          "base_uri": "https://localhost:8080/"
        },
        "id": "QKhrCMKOb7GN",
        "outputId": "ff8fabb7-f109-4c57-e9ed-05c4fa4ae41e"
      },
      "source": [
        "# Check to see if train labels are the same (fefore and afer window split)\n",
        "np.array_equal(np.squeeze(train_labels[:-HORIZON-1]), y_train[WINDOW_SIZE:])"
      ],
      "execution_count": 51,
      "outputs": [
        {
          "output_type": "execute_result",
          "data": {
            "text/plain": [
              "True"
            ]
          },
          "metadata": {},
          "execution_count": 51
        }
      ]
    },
    {
      "cell_type": "markdown",
      "metadata": {
        "id": "_k7pCSbacYNt"
      },
      "source": [
        "## Make a modelling checkpoint\n",
        "\n",
        "Because our model's performance will flucutuate from experiment to experiment, we are going to write a model checkpoint so we can compare apples to apples.\n",
        "\n",
        "More specifically we want to compare each of our model's best performances against the other model's best performance.\n",
        "\n",
        "for example if our model performs the best on epoch 55 (but we are training for 100), we want to load and evulaute  the model saved on epoch 55.\n",
        "\n",
        "We can create a modelling checkpoint callback using the following#"
      ]
    },
    {
      "cell_type": "code",
      "metadata": {
        "id": "Sd_KX7aIcnJ_"
      },
      "source": [
        "import os\n",
        "\n",
        "# Create a function to implement a ModelCheckpoint callback with a specific filename\n",
        "def create_model_checkpoint(model_name, save_path='model_experiments'):\n",
        "  return tf.keras.callbacks.ModelCheckpoint(filepath=os.path.join(save_path, model_name),\n",
        "                                            monitor='val_loss',\n",
        "                                            verbose=0, # only output a limited amount of text\n",
        "                                            save_best_only=True)"
      ],
      "execution_count": 58,
      "outputs": []
    },
    {
      "cell_type": "markdown",
      "metadata": {
        "id": "UjA3ejQgeMyT"
      },
      "source": [
        "## Model 1: Dense model (window = 7, horizon = 1)\n",
        "\n",
        "Our first deep model is going to be a simple dense model:\n",
        ">\n",
        "* A single dense layer with 128 hidden units and ReLU\n",
        "* An output layer with linear activation (no activation)\n",
        "* Adam optimization and MAE loss function\n",
        "* Batch size of 128 (previously we have used 32)\n",
        "* 100 epochs\n",
        "\n",
        "Why these values?\n",
        "\n",
        "I picked them out of experimentation.\n",
        "\n",
        "* *Hyperparameters* = values a machine learning practionarer (you!) can adjust themselves\n",
        "* *Parameters* = values a model learns on its own"
      ]
    },
    {
      "cell_type": "code",
      "metadata": {
        "colab": {
          "base_uri": "https://localhost:8080/"
        },
        "id": "bcw2lgu-ekGG",
        "outputId": "03d438d0-a44c-44c8-adb6-ee977dcd4c07"
      },
      "source": [
        "import tensorflow as tf\n",
        "from tensorflow.keras import layers\n",
        "\n",
        "# Set random seed for as repoducible results as possible\n",
        "tf.random.set_seed(42)\n",
        "\n",
        "# 1. Construct model\n",
        "model_1 = tf.keras.Sequential([\n",
        "  layers.Dense(128, activation='relu'),\n",
        "  layers.Dense(HORIZON, activation='linear')                              \n",
        "], name='model_1_dense') # name our model so we can save it.\n",
        "\n",
        "# 2. Compile the model\n",
        "model_1.compile(loss='mae',\n",
        "                optimizer=tf.keras.optimizers.Adam(),\n",
        "                metrics=['mae', 'mse'])\n",
        "\n",
        "# 3. Fit the model\n",
        "\n",
        "model_1.fit(x=train_windows,\n",
        "            y=train_labels,\n",
        "            epochs=100,\n",
        "            verbose=1,\n",
        "            batch_size=128,\n",
        "            validation_data=(test_windows, test_labels),\n",
        "            callbacks=[create_model_checkpoint(model_name=model_1.name)])"
      ],
      "execution_count": 54,
      "outputs": [
        {
          "output_type": "stream",
          "name": "stdout",
          "text": [
            "Epoch 1/100\n",
            "15/18 [========================>.....] - ETA: 0s - loss: 835.4289 - mae: 835.4289 - mse: 2590211.7500   INFO:tensorflow:Assets written to: model_experiments/model_1_dense/assets\n",
            "18/18 [==============================] - 4s 65ms/step - loss: 780.3455 - mae: 780.3455 - mse: 2312725.7500 - val_loss: 2279.6526 - val_mae: 2279.6526 - val_mse: 12772728.0000\n",
            "Epoch 2/100\n",
            "16/18 [=========================>....] - ETA: 0s - loss: 257.9055 - mae: 257.9055 - mse: 303441.6562INFO:tensorflow:Assets written to: model_experiments/model_1_dense/assets\n",
            "18/18 [==============================] - 1s 38ms/step - loss: 247.6756 - mae: 247.6756 - mse: 285481.1875 - val_loss: 1005.9991 - val_mae: 1005.9991 - val_mse: 3441833.5000\n",
            "Epoch 3/100\n",
            "14/18 [======================>.......] - ETA: 0s - loss: 192.5416 - mae: 192.5416 - mse: 176412.9062INFO:tensorflow:Assets written to: model_experiments/model_1_dense/assets\n",
            "18/18 [==============================] - 1s 39ms/step - loss: 188.4116 - mae: 188.4116 - mse: 171891.5625 - val_loss: 923.2862 - val_mae: 923.2862 - val_mse: 2868220.5000\n",
            "Epoch 4/100\n",
            "15/18 [========================>.....] - ETA: 0s - loss: 169.7341 - mae: 169.7341 - mse: 155006.5938INFO:tensorflow:Assets written to: model_experiments/model_1_dense/assets\n",
            "18/18 [==============================] - 1s 40ms/step - loss: 169.4340 - mae: 169.4340 - mse: 151700.5625 - val_loss: 900.5872 - val_mae: 900.5872 - val_mse: 2683715.2500\n",
            "Epoch 5/100\n",
            "16/18 [=========================>....] - ETA: 0s - loss: 167.2091 - mae: 167.2091 - mse: 150048.9219INFO:tensorflow:Assets written to: model_experiments/model_1_dense/assets\n",
            "18/18 [==============================] - 1s 38ms/step - loss: 165.0895 - mae: 165.0895 - mse: 145490.7969 - val_loss: 895.2238 - val_mae: 895.2238 - val_mse: 2564574.0000\n",
            "Epoch 6/100\n",
            "15/18 [========================>.....] - ETA: 0s - loss: 157.1806 - mae: 157.1806 - mse: 125587.4766INFO:tensorflow:Assets written to: model_experiments/model_1_dense/assets\n",
            "18/18 [==============================] - 1s 38ms/step - loss: 158.5210 - mae: 158.5210 - mse: 133817.7344 - val_loss: 855.1982 - val_mae: 855.1982 - val_mse: 2481872.7500\n",
            "Epoch 7/100\n",
            "16/18 [=========================>....] - ETA: 0s - loss: 156.2905 - mae: 156.2905 - mse: 130819.6875INFO:tensorflow:Assets written to: model_experiments/model_1_dense/assets\n",
            "18/18 [==============================] - 1s 39ms/step - loss: 151.3566 - mae: 151.3566 - mse: 123446.9609 - val_loss: 840.9168 - val_mae: 840.9168 - val_mse: 2276452.2500\n",
            "Epoch 8/100\n",
            "17/18 [===========================>..] - ETA: 0s - loss: 145.3278 - mae: 145.3278 - mse: 118771.5703INFO:tensorflow:Assets written to: model_experiments/model_1_dense/assets\n",
            "18/18 [==============================] - 1s 39ms/step - loss: 145.2560 - mae: 145.2560 - mse: 117694.4922 - val_loss: 803.5956 - val_mae: 803.5956 - val_mse: 2140573.5000\n",
            "Epoch 9/100\n",
            "13/18 [====================>.........] - ETA: 0s - loss: 142.7814 - mae: 142.7814 - mse: 113417.5859INFO:tensorflow:Assets written to: model_experiments/model_1_dense/assets\n",
            "18/18 [==============================] - 1s 41ms/step - loss: 144.3546 - mae: 144.3546 - mse: 115269.3047 - val_loss: 799.5455 - val_mae: 799.5455 - val_mse: 2049207.7500\n",
            "Epoch 10/100\n",
            "16/18 [=========================>....] - ETA: 0s - loss: 139.8629 - mae: 139.8629 - mse: 111866.4688INFO:tensorflow:Assets written to: model_experiments/model_1_dense/assets\n",
            "18/18 [==============================] - 1s 40ms/step - loss: 141.2943 - mae: 141.2943 - mse: 112394.6016 - val_loss: 763.5010 - val_mae: 763.5010 - val_mse: 1933140.7500\n",
            "Epoch 11/100\n",
            "18/18 [==============================] - 0s 6ms/step - loss: 135.6595 - mae: 135.6595 - mse: 104118.2656 - val_loss: 771.3357 - val_mae: 771.3357 - val_mse: 1885850.0000\n",
            "Epoch 12/100\n",
            "18/18 [==============================] - 0s 6ms/step - loss: 134.1700 - mae: 134.1700 - mse: 101780.8750 - val_loss: 782.8079 - val_mae: 782.8079 - val_mse: 1881727.7500\n",
            "Epoch 13/100\n",
            "18/18 [==============================] - 0s 5ms/step - loss: 134.6015 - mae: 134.6015 - mse: 102345.2266 - val_loss: 784.4449 - val_mae: 784.4449 - val_mse: 1860996.7500\n",
            "Epoch 14/100\n",
            "16/18 [=========================>....] - ETA: 0s - loss: 127.6813 - mae: 127.6813 - mse: 93240.2656INFO:tensorflow:Assets written to: model_experiments/model_1_dense/assets\n",
            "18/18 [==============================] - 1s 38ms/step - loss: 130.6127 - mae: 130.6127 - mse: 96225.1406 - val_loss: 751.3234 - val_mae: 751.3234 - val_mse: 1749609.3750\n",
            "Epoch 15/100\n",
            "14/18 [======================>.......] - ETA: 0s - loss: 129.4903 - mae: 129.4903 - mse: 99595.4141INFO:tensorflow:Assets written to: model_experiments/model_1_dense/assets\n",
            "18/18 [==============================] - 1s 40ms/step - loss: 128.8347 - mae: 128.8347 - mse: 94307.0078 - val_loss: 696.5757 - val_mae: 696.5757 - val_mse: 1606352.6250\n",
            "Epoch 16/100\n",
            "18/18 [==============================] - 0s 6ms/step - loss: 124.7739 - mae: 124.7739 - mse: 90394.9297 - val_loss: 702.4698 - val_mae: 702.4698 - val_mse: 1592416.0000\n",
            "Epoch 17/100\n",
            "18/18 [==============================] - 0s 5ms/step - loss: 123.4474 - mae: 123.4474 - mse: 89247.6797 - val_loss: 704.9241 - val_mae: 704.9241 - val_mse: 1580783.5000\n",
            "Epoch 18/100\n",
            "17/18 [===========================>..] - ETA: 0s - loss: 123.1271 - mae: 123.1271 - mse: 88629.2891INFO:tensorflow:Assets written to: model_experiments/model_1_dense/assets\n",
            "18/18 [==============================] - 1s 39ms/step - loss: 122.2105 - mae: 122.2105 - mse: 87607.6016 - val_loss: 667.9725 - val_mae: 667.9725 - val_mse: 1498882.0000\n",
            "Epoch 19/100\n",
            "18/18 [==============================] - 0s 6ms/step - loss: 121.7263 - mae: 121.7263 - mse: 86632.2656 - val_loss: 718.8797 - val_mae: 718.8797 - val_mse: 1589299.6250\n",
            "Epoch 20/100\n",
            "14/18 [======================>.......] - ETA: 0s - loss: 121.4032 - mae: 121.4032 - mse: 86429.3828 INFO:tensorflow:Assets written to: model_experiments/model_1_dense/assets\n",
            "18/18 [==============================] - 1s 42ms/step - loss: 119.2420 - mae: 119.2420 - mse: 84334.3438 - val_loss: 657.0667 - val_mae: 657.0667 - val_mse: 1447500.8750\n",
            "Epoch 21/100\n",
            "16/18 [=========================>....] - ETA: 0s - loss: 120.7663 - mae: 120.7663 - mse: 83162.6875INFO:tensorflow:Assets written to: model_experiments/model_1_dense/assets\n",
            "18/18 [==============================] - 1s 50ms/step - loss: 121.2275 - mae: 121.2275 - mse: 85743.3672 - val_loss: 637.0330 - val_mae: 637.0330 - val_mse: 1401773.5000\n",
            "Epoch 22/100\n",
            "18/18 [==============================] - 0s 6ms/step - loss: 119.9544 - mae: 119.9544 - mse: 84050.1250 - val_loss: 671.2490 - val_mae: 671.2490 - val_mse: 1447896.6250\n",
            "Epoch 23/100\n",
            "15/18 [========================>.....] - ETA: 0s - loss: 123.1020 - mae: 123.1020 - mse: 81349.2969INFO:tensorflow:Assets written to: model_experiments/model_1_dense/assets\n",
            "18/18 [==============================] - 1s 40ms/step - loss: 121.9248 - mae: 121.9248 - mse: 83746.1328 - val_loss: 633.3593 - val_mae: 633.3593 - val_mse: 1367377.8750\n",
            "Epoch 24/100\n",
            "14/18 [======================>.......] - ETA: 0s - loss: 118.8346 - mae: 118.8346 - mse: 87417.4922INFO:tensorflow:Assets written to: model_experiments/model_1_dense/assets\n",
            "18/18 [==============================] - 1s 40ms/step - loss: 116.3666 - mae: 116.3666 - mse: 81446.6641 - val_loss: 624.4852 - val_mae: 624.4852 - val_mse: 1348960.3750\n",
            "Epoch 25/100\n",
            "15/18 [========================>.....] - ETA: 0s - loss: 118.9141 - mae: 118.9141 - mse: 84461.9766INFO:tensorflow:Assets written to: model_experiments/model_1_dense/assets\n",
            "18/18 [==============================] - 1s 39ms/step - loss: 114.6816 - mae: 114.6816 - mse: 78912.8438 - val_loss: 619.7571 - val_mae: 619.7571 - val_mse: 1351089.8750\n",
            "Epoch 26/100\n",
            "16/18 [=========================>....] - ETA: 0s - loss: 118.2555 - mae: 118.2555 - mse: 78681.3828INFO:tensorflow:Assets written to: model_experiments/model_1_dense/assets\n",
            "18/18 [==============================] - 1s 39ms/step - loss: 116.4455 - mae: 116.4455 - mse: 79365.5625 - val_loss: 615.6364 - val_mae: 615.6364 - val_mse: 1321514.3750\n",
            "Epoch 27/100\n",
            "18/18 [==============================] - 0s 6ms/step - loss: 116.5868 - mae: 116.5868 - mse: 78672.9141 - val_loss: 615.9631 - val_mae: 615.9631 - val_mse: 1313077.8750\n",
            "Epoch 28/100\n",
            "16/18 [=========================>....] - ETA: 0s - loss: 112.7727 - mae: 112.7727 - mse: 78248.1641INFO:tensorflow:Assets written to: model_experiments/model_1_dense/assets\n",
            "18/18 [==============================] - 1s 39ms/step - loss: 113.4691 - mae: 113.4691 - mse: 77440.0703 - val_loss: 608.0920 - val_mae: 608.0920 - val_mse: 1309775.3750\n",
            "Epoch 29/100\n",
            "18/18 [==============================] - 0s 6ms/step - loss: 113.7598 - mae: 113.7598 - mse: 78506.9531 - val_loss: 621.9306 - val_mae: 621.9306 - val_mse: 1313325.7500\n",
            "Epoch 30/100\n",
            "16/18 [=========================>....] - ETA: 0s - loss: 115.5164 - mae: 115.5164 - mse: 77541.3203INFO:tensorflow:Assets written to: model_experiments/model_1_dense/assets\n",
            "18/18 [==============================] - 1s 40ms/step - loss: 116.8613 - mae: 116.8613 - mse: 79236.4766 - val_loss: 604.4056 - val_mae: 604.4056 - val_mse: 1283407.7500\n",
            "Epoch 31/100\n",
            "18/18 [==============================] - 0s 6ms/step - loss: 111.9375 - mae: 111.9375 - mse: 74849.0625 - val_loss: 609.3882 - val_mae: 609.3882 - val_mse: 1284506.2500\n",
            "Epoch 32/100\n",
            "16/18 [=========================>....] - ETA: 0s - loss: 111.2109 - mae: 111.2109 - mse: 74370.7344INFO:tensorflow:Assets written to: model_experiments/model_1_dense/assets\n",
            "18/18 [==============================] - 1s 39ms/step - loss: 112.4175 - mae: 112.4175 - mse: 77178.5938 - val_loss: 603.0588 - val_mae: 603.0588 - val_mse: 1273059.2500\n",
            "Epoch 33/100\n",
            "18/18 [==============================] - 0s 6ms/step - loss: 112.6697 - mae: 112.6697 - mse: 75787.9766 - val_loss: 645.6975 - val_mae: 645.6975 - val_mse: 1353256.2500\n",
            "Epoch 34/100\n",
            "18/18 [==============================] - 0s 6ms/step - loss: 111.9867 - mae: 111.9867 - mse: 77245.7031 - val_loss: 604.7632 - val_mae: 604.7632 - val_mse: 1289359.7500\n",
            "Epoch 35/100\n",
            "16/18 [=========================>....] - ETA: 0s - loss: 110.9354 - mae: 110.9354 - mse: 77063.3281INFO:tensorflow:Assets written to: model_experiments/model_1_dense/assets\n",
            "18/18 [==============================] - 1s 40ms/step - loss: 110.9451 - mae: 110.9451 - mse: 75301.8047 - val_loss: 593.4648 - val_mae: 593.4648 - val_mse: 1250491.7500\n",
            "Epoch 36/100\n",
            "18/18 [==============================] - 0s 6ms/step - loss: 114.4816 - mae: 114.4816 - mse: 76138.5391 - val_loss: 608.0073 - val_mae: 608.0073 - val_mse: 1269271.2500\n",
            "Epoch 37/100\n",
            "18/18 [==============================] - 0s 5ms/step - loss: 110.2017 - mae: 110.2017 - mse: 74635.3047 - val_loss: 597.2309 - val_mae: 597.2309 - val_mse: 1248474.3750\n",
            "Epoch 38/100\n",
            "18/18 [==============================] - 0s 6ms/step - loss: 112.2372 - mae: 112.2372 - mse: 75821.7344 - val_loss: 637.9797 - val_mae: 637.9797 - val_mse: 1366130.2500\n",
            "Epoch 39/100\n",
            "14/18 [======================>.......] - ETA: 0s - loss: 117.7033 - mae: 117.7033 - mse: 81882.5234 INFO:tensorflow:Assets written to: model_experiments/model_1_dense/assets\n",
            "18/18 [==============================] - 1s 42ms/step - loss: 115.1289 - mae: 115.1289 - mse: 76339.6562 - val_loss: 587.4679 - val_mae: 587.4679 - val_mse: 1233512.2500\n",
            "Epoch 40/100\n",
            "18/18 [==============================] - 0s 6ms/step - loss: 110.0854 - mae: 110.0854 - mse: 73528.4844 - val_loss: 592.7117 - val_mae: 592.7117 - val_mse: 1251474.1250\n",
            "Epoch 41/100\n",
            "18/18 [==============================] - 0s 6ms/step - loss: 110.6343 - mae: 110.6343 - mse: 73528.7969 - val_loss: 593.8997 - val_mae: 593.8997 - val_mse: 1253678.2500\n",
            "Epoch 42/100\n",
            "18/18 [==============================] - 0s 7ms/step - loss: 113.5762 - mae: 113.5762 - mse: 77076.7031 - val_loss: 636.3674 - val_mae: 636.3674 - val_mse: 1317283.3750\n",
            "Epoch 43/100\n",
            "18/18 [==============================] - 0s 5ms/step - loss: 116.2286 - mae: 116.2286 - mse: 74712.2188 - val_loss: 662.9264 - val_mae: 662.9264 - val_mse: 1419202.3750\n",
            "Epoch 44/100\n",
            "18/18 [==============================] - 0s 6ms/step - loss: 120.0192 - mae: 120.0192 - mse: 80971.8906 - val_loss: 635.6360 - val_mae: 635.6360 - val_mse: 1345999.3750\n",
            "Epoch 45/100\n",
            "18/18 [==============================] - 0s 6ms/step - loss: 110.9675 - mae: 110.9675 - mse: 74941.2891 - val_loss: 601.9926 - val_mae: 601.9926 - val_mse: 1244816.7500\n",
            "Epoch 46/100\n",
            "18/18 [==============================] - 0s 5ms/step - loss: 111.6012 - mae: 111.6012 - mse: 74565.5859 - val_loss: 593.3531 - val_mae: 593.3531 - val_mse: 1248764.3750\n",
            "Epoch 47/100\n",
            "18/18 [==============================] - 0s 6ms/step - loss: 109.6161 - mae: 109.6161 - mse: 74190.7109 - val_loss: 637.0014 - val_mae: 637.0014 - val_mse: 1314970.3750\n",
            "Epoch 48/100\n",
            "18/18 [==============================] - 0s 6ms/step - loss: 109.1368 - mae: 109.1368 - mse: 72792.5547 - val_loss: 598.4199 - val_mae: 598.4199 - val_mse: 1234610.1250\n",
            "Epoch 49/100\n",
            "16/18 [=========================>....] - ETA: 0s - loss: 112.8377 - mae: 112.8377 - mse: 75974.4688 INFO:tensorflow:Assets written to: model_experiments/model_1_dense/assets\n",
            "18/18 [==============================] - 1s 40ms/step - loss: 112.4355 - mae: 112.4355 - mse: 73980.3281 - val_loss: 579.7040 - val_mae: 579.7040 - val_mse: 1208301.3750\n",
            "Epoch 50/100\n",
            "18/18 [==============================] - 0s 5ms/step - loss: 110.2108 - mae: 110.2108 - mse: 72939.6953 - val_loss: 639.2326 - val_mae: 639.2326 - val_mse: 1347994.2500\n",
            "Epoch 51/100\n",
            "18/18 [==============================] - 0s 5ms/step - loss: 111.0958 - mae: 111.0958 - mse: 73281.8906 - val_loss: 597.3575 - val_mae: 597.3575 - val_mse: 1229791.8750\n",
            "Epoch 52/100\n",
            "18/18 [==============================] - 0s 7ms/step - loss: 110.7351 - mae: 110.7351 - mse: 74529.6328 - val_loss: 580.7227 - val_mae: 580.7227 - val_mse: 1215477.3750\n",
            "Epoch 53/100\n",
            "18/18 [==============================] - 0s 7ms/step - loss: 111.1785 - mae: 111.1785 - mse: 74149.4688 - val_loss: 648.3588 - val_mae: 648.3588 - val_mse: 1336951.8750\n",
            "Epoch 54/100\n",
            "18/18 [==============================] - 0s 6ms/step - loss: 114.0832 - mae: 114.0832 - mse: 74815.0781 - val_loss: 593.2007 - val_mae: 593.2007 - val_mse: 1220661.3750\n",
            "Epoch 55/100\n",
            "15/18 [========================>.....] - ETA: 0s - loss: 114.3634 - mae: 114.3634 - mse: 78397.8203 INFO:tensorflow:Assets written to: model_experiments/model_1_dense/assets\n",
            "18/18 [==============================] - 1s 40ms/step - loss: 110.4910 - mae: 110.4910 - mse: 74711.2266 - val_loss: 579.5065 - val_mae: 579.5065 - val_mse: 1211579.7500\n",
            "Epoch 56/100\n",
            "18/18 [==============================] - 0s 6ms/step - loss: 108.0489 - mae: 108.0489 - mse: 71844.1484 - val_loss: 807.3851 - val_mae: 807.3851 - val_mse: 1859291.8750\n",
            "Epoch 57/100\n",
            "18/18 [==============================] - 0s 6ms/step - loss: 125.0614 - mae: 125.0614 - mse: 84025.2578 - val_loss: 674.1654 - val_mae: 674.1654 - val_mse: 1437686.2500\n",
            "Epoch 58/100\n",
            "18/18 [==============================] - 0s 6ms/step - loss: 115.4340 - mae: 115.4340 - mse: 73710.7188 - val_loss: 582.2698 - val_mae: 582.2698 - val_mse: 1202679.8750\n",
            "Epoch 59/100\n",
            "18/18 [==============================] - 0s 6ms/step - loss: 110.0881 - mae: 110.0881 - mse: 72845.1016 - val_loss: 606.7637 - val_mae: 606.7637 - val_mse: 1267543.0000\n",
            "Epoch 60/100\n",
            "18/18 [==============================] - 0s 6ms/step - loss: 108.7156 - mae: 108.7156 - mse: 72675.7500 - val_loss: 602.3102 - val_mae: 602.3102 - val_mse: 1234690.2500\n",
            "Epoch 61/100\n",
            "15/18 [========================>.....] - ETA: 0s - loss: 110.2603 - mae: 110.2603 - mse: 75117.6484INFO:tensorflow:Assets written to: model_experiments/model_1_dense/assets\n",
            "18/18 [==============================] - 1s 40ms/step - loss: 108.1525 - mae: 108.1525 - mse: 72252.0781 - val_loss: 573.9990 - val_mae: 573.9990 - val_mse: 1189583.1250\n",
            "Epoch 62/100\n",
            "18/18 [==============================] - 0s 6ms/step - loss: 107.3727 - mae: 107.3727 - mse: 70822.7891 - val_loss: 581.7012 - val_mae: 581.7012 - val_mse: 1214006.5000\n",
            "Epoch 63/100\n",
            "18/18 [==============================] - 0s 6ms/step - loss: 110.7667 - mae: 110.7667 - mse: 73178.4297 - val_loss: 637.5252 - val_mae: 637.5252 - val_mse: 1311204.0000\n",
            "Epoch 64/100\n",
            "18/18 [==============================] - 0s 6ms/step - loss: 110.1539 - mae: 110.1539 - mse: 72588.2031 - val_loss: 586.6601 - val_mae: 586.6601 - val_mse: 1207116.8750\n",
            "Epoch 65/100\n",
            "16/18 [=========================>....] - ETA: 0s - loss: 107.7272 - mae: 107.7272 - mse: 71353.7109 INFO:tensorflow:Assets written to: model_experiments/model_1_dense/assets\n",
            "18/18 [==============================] - 1s 40ms/step - loss: 108.2325 - mae: 108.2325 - mse: 71962.0469 - val_loss: 573.5620 - val_mae: 573.5620 - val_mse: 1188986.7500\n",
            "Epoch 66/100\n",
            "16/18 [=========================>....] - ETA: 0s - loss: 109.3475 - mae: 109.3475 - mse: 72286.5625INFO:tensorflow:Assets written to: model_experiments/model_1_dense/assets\n",
            "18/18 [==============================] - 1s 41ms/step - loss: 108.6825 - mae: 108.6825 - mse: 71026.3359 - val_loss: 572.2206 - val_mae: 572.2206 - val_mse: 1187818.0000\n",
            "Epoch 67/100\n",
            "18/18 [==============================] - 0s 6ms/step - loss: 106.6371 - mae: 106.6371 - mse: 70166.2500 - val_loss: 646.6349 - val_mae: 646.6349 - val_mse: 1356390.5000\n",
            "Epoch 68/100\n",
            "18/18 [==============================] - 0s 6ms/step - loss: 114.1603 - mae: 114.1603 - mse: 71297.2969 - val_loss: 681.8561 - val_mae: 681.8561 - val_mse: 1455427.1250\n",
            "Epoch 69/100\n",
            "18/18 [==============================] - 0s 6ms/step - loss: 124.5514 - mae: 124.5514 - mse: 81238.9297 - val_loss: 655.9885 - val_mae: 655.9885 - val_mse: 1383322.8750\n",
            "Epoch 70/100\n",
            "18/18 [==============================] - 0s 6ms/step - loss: 125.0235 - mae: 125.0235 - mse: 83058.2109 - val_loss: 601.0032 - val_mae: 601.0032 - val_mse: 1256962.2500\n",
            "Epoch 71/100\n",
            "18/18 [==============================] - 0s 6ms/step - loss: 110.3652 - mae: 110.3652 - mse: 71691.4844 - val_loss: 595.3962 - val_mae: 595.3962 - val_mse: 1222772.2500\n",
            "Epoch 72/100\n",
            "18/18 [==============================] - 0s 6ms/step - loss: 107.9285 - mae: 107.9285 - mse: 71745.5156 - val_loss: 573.7085 - val_mae: 573.7085 - val_mse: 1192818.0000\n",
            "Epoch 73/100\n",
            "18/18 [==============================] - 0s 6ms/step - loss: 109.5085 - mae: 109.5085 - mse: 71691.1016 - val_loss: 580.4180 - val_mae: 580.4180 - val_mse: 1211316.7500\n",
            "Epoch 74/100\n",
            "18/18 [==============================] - 0s 6ms/step - loss: 108.7380 - mae: 108.7380 - mse: 72051.0469 - val_loss: 576.1211 - val_mae: 576.1211 - val_mse: 1199669.5000\n",
            "Epoch 75/100\n",
            "18/18 [==============================] - 0s 6ms/step - loss: 107.9404 - mae: 107.9404 - mse: 71043.1328 - val_loss: 591.1477 - val_mae: 591.1477 - val_mse: 1211108.6250\n",
            "Epoch 76/100\n",
            "18/18 [==============================] - 0s 6ms/step - loss: 109.4232 - mae: 109.4232 - mse: 72295.0234 - val_loss: 597.8605 - val_mae: 597.8605 - val_mse: 1243935.2500\n",
            "Epoch 77/100\n",
            "15/18 [========================>.....] - ETA: 0s - loss: 109.7662 - mae: 109.7662 - mse: 74881.4531INFO:tensorflow:Assets written to: model_experiments/model_1_dense/assets\n",
            "18/18 [==============================] - 1s 40ms/step - loss: 107.5879 - mae: 107.5879 - mse: 70333.8203 - val_loss: 571.9299 - val_mae: 571.9299 - val_mse: 1186829.7500\n",
            "Epoch 78/100\n",
            "18/18 [==============================] - 0s 6ms/step - loss: 108.1598 - mae: 108.1598 - mse: 70200.0625 - val_loss: 575.2383 - val_mae: 575.2383 - val_mse: 1195317.1250\n",
            "Epoch 79/100\n",
            "18/18 [==============================] - 0s 6ms/step - loss: 107.9175 - mae: 107.9175 - mse: 72451.5781 - val_loss: 617.3071 - val_mae: 617.3071 - val_mse: 1285509.7500\n",
            "Epoch 80/100\n",
            "18/18 [==============================] - 0s 6ms/step - loss: 108.9510 - mae: 108.9510 - mse: 72158.7500 - val_loss: 583.4847 - val_mae: 583.4847 - val_mse: 1194358.2500\n",
            "Epoch 81/100\n",
            "15/18 [========================>.....] - ETA: 0s - loss: 107.0061 - mae: 107.0061 - mse: 71354.9531INFO:tensorflow:Assets written to: model_experiments/model_1_dense/assets\n",
            "18/18 [==============================] - 1s 55ms/step - loss: 106.0505 - mae: 106.0505 - mse: 69690.8828 - val_loss: 570.0802 - val_mae: 570.0802 - val_mse: 1177238.0000\n",
            "Epoch 82/100\n",
            "18/18 [==============================] - 0s 6ms/step - loss: 115.6827 - mae: 115.6827 - mse: 76903.4531 - val_loss: 575.7382 - val_mae: 575.7382 - val_mse: 1194661.5000\n",
            "Epoch 83/100\n",
            "18/18 [==============================] - 0s 6ms/step - loss: 110.9379 - mae: 110.9379 - mse: 72968.2891 - val_loss: 659.6570 - val_mae: 659.6570 - val_mse: 1388827.8750\n",
            "Epoch 84/100\n",
            "18/18 [==============================] - 0s 7ms/step - loss: 111.4836 - mae: 111.4836 - mse: 73017.8984 - val_loss: 570.1959 - val_mae: 570.1959 - val_mse: 1177492.1250\n",
            "Epoch 85/100\n",
            "18/18 [==============================] - 0s 7ms/step - loss: 107.5948 - mae: 107.5948 - mse: 70728.1797 - val_loss: 601.5945 - val_mae: 601.5945 - val_mse: 1228452.5000\n",
            "Epoch 86/100\n",
            "18/18 [==============================] - 0s 6ms/step - loss: 108.9426 - mae: 108.9426 - mse: 70066.7500 - val_loss: 592.8107 - val_mae: 592.8107 - val_mse: 1209681.6250\n",
            "Epoch 87/100\n",
            "18/18 [==============================] - 0s 6ms/step - loss: 105.7717 - mae: 105.7717 - mse: 68382.3438 - val_loss: 603.6169 - val_mae: 603.6169 - val_mse: 1252408.8750\n",
            "Epoch 88/100\n",
            "14/18 [======================>.......] - ETA: 0s - loss: 112.7661 - mae: 112.7661 - mse: 78939.2969 INFO:tensorflow:Assets written to: model_experiments/model_1_dense/assets\n",
            "18/18 [==============================] - 1s 41ms/step - loss: 107.9217 - mae: 107.9217 - mse: 71668.0156 - val_loss: 569.0500 - val_mae: 569.0500 - val_mse: 1174588.2500\n",
            "Epoch 89/100\n",
            "15/18 [========================>.....] - ETA: 0s - loss: 99.8451 - mae: 99.8451 - mse: 62531.2461  INFO:tensorflow:Assets written to: model_experiments/model_1_dense/assets\n",
            "18/18 [==============================] - 1s 40ms/step - loss: 106.0344 - mae: 106.0344 - mse: 68979.1328 - val_loss: 568.9512 - val_mae: 568.9512 - val_mse: 1171744.1250\n",
            "Epoch 90/100\n",
            "18/18 [==============================] - 0s 6ms/step - loss: 105.4977 - mae: 105.4977 - mse: 67516.5000 - val_loss: 581.7681 - val_mae: 581.7681 - val_mse: 1190161.7500\n",
            "Epoch 91/100\n",
            "18/18 [==============================] - 0s 6ms/step - loss: 108.8468 - mae: 108.8468 - mse: 71112.3203 - val_loss: 573.6023 - val_mae: 573.6023 - val_mse: 1185215.3750\n",
            "Epoch 92/100\n",
            "18/18 [==============================] - 0s 6ms/step - loss: 110.8884 - mae: 110.8884 - mse: 73287.8203 - val_loss: 576.8247 - val_mae: 576.8247 - val_mse: 1181629.3750\n",
            "Epoch 93/100\n",
            "18/18 [==============================] - 0s 6ms/step - loss: 113.8781 - mae: 113.8781 - mse: 75236.4062 - val_loss: 608.3018 - val_mae: 608.3018 - val_mse: 1264205.6250\n",
            "Epoch 94/100\n",
            "18/18 [==============================] - 0s 6ms/step - loss: 110.5763 - mae: 110.5763 - mse: 72590.8672 - val_loss: 601.6047 - val_mae: 601.6047 - val_mse: 1229106.1250\n",
            "Epoch 95/100\n",
            "18/18 [==============================] - 0s 6ms/step - loss: 106.5906 - mae: 106.5906 - mse: 68612.3125 - val_loss: 570.3652 - val_mae: 570.3652 - val_mse: 1175759.6250\n",
            "Epoch 96/100\n",
            "18/18 [==============================] - 0s 7ms/step - loss: 116.9515 - mae: 116.9515 - mse: 75082.1172 - val_loss: 615.2581 - val_mae: 615.2581 - val_mse: 1277123.7500\n",
            "Epoch 97/100\n",
            "18/18 [==============================] - 0s 6ms/step - loss: 108.0739 - mae: 108.0739 - mse: 71321.4141 - val_loss: 580.3073 - val_mae: 580.3073 - val_mse: 1202621.8750\n",
            "Epoch 98/100\n",
            "18/18 [==============================] - 0s 6ms/step - loss: 108.7102 - mae: 108.7102 - mse: 70248.0781 - val_loss: 586.6512 - val_mae: 586.6512 - val_mse: 1200831.3750\n",
            "Epoch 99/100\n",
            "18/18 [==============================] - 0s 8ms/step - loss: 109.0488 - mae: 109.0488 - mse: 70913.1484 - val_loss: 570.0629 - val_mae: 570.0629 - val_mse: 1177064.5000\n",
            "Epoch 100/100\n",
            "18/18 [==============================] - 0s 7ms/step - loss: 106.1845 - mae: 106.1845 - mse: 68681.7031 - val_loss: 585.9763 - val_mae: 585.9763 - val_mse: 1197803.1250\n"
          ]
        },
        {
          "output_type": "execute_result",
          "data": {
            "text/plain": [
              "<keras.callbacks.History at 0x7fe310455550>"
            ]
          },
          "metadata": {},
          "execution_count": 54
        }
      ]
    },
    {
      "cell_type": "code",
      "metadata": {
        "colab": {
          "base_uri": "https://localhost:8080/"
        },
        "id": "a2YDML6zg1Pf",
        "outputId": "3a2bf5b3-08e2-4b89-a434-d1722253b5de"
      },
      "source": [
        "naive_results"
      ],
      "execution_count": 56,
      "outputs": [
        {
          "output_type": "execute_result",
          "data": {
            "text/plain": [
              "{'mae': 567.9802,\n",
              " 'mape': 567.9802,\n",
              " 'mase': 0.99957,\n",
              " 'mse': 1147547.0,\n",
              " 'rmse': 1071.2362}"
            ]
          },
          "metadata": {},
          "execution_count": 56
        }
      ]
    },
    {
      "cell_type": "code",
      "metadata": {
        "colab": {
          "base_uri": "https://localhost:8080/"
        },
        "id": "fZxcWjvthELZ",
        "outputId": "443795a9-f9b4-4f66-a2a0-5bbb3ac7b400"
      },
      "source": [
        "# Evaluate model on test data\n",
        "model_1.evaluate(test_windows, test_labels)"
      ],
      "execution_count": 59,
      "outputs": [
        {
          "output_type": "stream",
          "name": "stdout",
          "text": [
            "18/18 [==============================] - 0s 3ms/step - loss: 585.9762 - mae: 585.9762 - mse: 1197803.1250\n"
          ]
        },
        {
          "output_type": "execute_result",
          "data": {
            "text/plain": [
              "[585.9761962890625, 585.9761962890625, 1197803.125]"
            ]
          },
          "metadata": {},
          "execution_count": 59
        }
      ]
    },
    {
      "cell_type": "code",
      "metadata": {
        "colab": {
          "base_uri": "https://localhost:8080/"
        },
        "id": "f1FbtATDh3N0",
        "outputId": "7a6478b6-56f6-4426-cf64-341591aca176"
      },
      "source": [
        "# Load in the saved best performing model_1 and evluate it on test data\n",
        "model_1 = tf.keras.models.load_model('model_experiments/model_1_dense/')\n",
        "model_1.evaluate(test_windows, test_labels)"
      ],
      "execution_count": 60,
      "outputs": [
        {
          "output_type": "stream",
          "name": "stdout",
          "text": [
            "18/18 [==============================] - 0s 3ms/step - loss: 568.9512 - mae: 568.9512 - mse: 1171744.0000\n"
          ]
        },
        {
          "output_type": "execute_result",
          "data": {
            "text/plain": [
              "[568.951171875, 568.951171875, 1171744.0]"
            ]
          },
          "metadata": {},
          "execution_count": 60
        }
      ]
    },
    {
      "cell_type": "markdown",
      "metadata": {
        "id": "NxYoxP0_iQJP"
      },
      "source": [
        "## Making forecasts with a model (on the test dataset)\n",
        "\n",
        "To make \"forcasts\" on the test dataset (note: these won't be actual forecasts, they're only psuedo forecasts becuase actual forecasts are into the future), let's write a function to#\n",
        ">\n",
        "1. Take in a train model\n",
        "2. Takes in some input data (same kind of data the model was trained on)\n",
        "3. Passes the input data to the model's `predict()` method\n",
        "4 Return the prediction.\n"
      ]
    },
    {
      "cell_type": "code",
      "metadata": {
        "id": "oDKChu4yj_FT"
      },
      "source": [
        "def make_preds(model, input_data):\n",
        "  forecast = model.predict(input_data)\n",
        "  return tf.squeeze(forecast) # return 1D array of predictions"
      ],
      "execution_count": 62,
      "outputs": []
    },
    {
      "cell_type": "code",
      "metadata": {
        "colab": {
          "base_uri": "https://localhost:8080/"
        },
        "id": "dGz37ilbjag9",
        "outputId": "70d0c546-a7dc-4b93-c743-d2df635cd5a5"
      },
      "source": [
        "# Make prediction using model_1 on the test dataset\n",
        "model_1_preds = make_preds(model_1, test_windows)\n",
        "len(model_1_preds), model_1_preds[:10]"
      ],
      "execution_count": 64,
      "outputs": [
        {
          "output_type": "execute_result",
          "data": {
            "text/plain": [
              "(556, <tf.Tensor: shape=(10,), dtype=float32, numpy=\n",
              " array([8861.711, 8769.886, 9015.71 , 8795.517, 8723.809, 8730.11 ,\n",
              "        8691.95 , 8502.054, 8460.961, 8516.547], dtype=float32)>)"
            ]
          },
          "metadata": {},
          "execution_count": 64
        }
      ]
    },
    {
      "cell_type": "code",
      "metadata": {
        "colab": {
          "base_uri": "https://localhost:8080/"
        },
        "id": "CxruH1rajwlw",
        "outputId": "7309ec0f-c99c-4611-bf89-73dce89778e7"
      },
      "source": [
        "test_labels[:10]"
      ],
      "execution_count": 65,
      "outputs": [
        {
          "output_type": "execute_result",
          "data": {
            "text/plain": [
              "array([[8798.04205463],\n",
              "       [9081.18687849],\n",
              "       [8711.53433917],\n",
              "       [8760.89271814],\n",
              "       [8749.52059102],\n",
              "       [8656.97092235],\n",
              "       [8500.64355816],\n",
              "       [8469.2608989 ],\n",
              "       [8537.33965197],\n",
              "       [8205.80636599]])"
            ]
          },
          "metadata": {},
          "execution_count": 65
        }
      ]
    },
    {
      "cell_type": "code",
      "metadata": {
        "colab": {
          "base_uri": "https://localhost:8080/"
        },
        "id": "M2ei33vWkPrZ",
        "outputId": "8d41ed53-1dea-4570-ae37-4c4a63145a7d"
      },
      "source": [
        "# Evaluate preds\n",
        "model_1_results = evaluate_preds(y_true=tf.squeeze(test_labels),\n",
        "                                 y_pred=model_1_preds)\n",
        "model_1_results"
      ],
      "execution_count": 68,
      "outputs": [
        {
          "output_type": "execute_result",
          "data": {
            "text/plain": [
              "{'mae': 568.95123,\n",
              " 'mape': 568.95123,\n",
              " 'mase': 0.9994897,\n",
              " 'mse': 1171744.0,\n",
              " 'rmse': 1082.4713}"
            ]
          },
          "metadata": {},
          "execution_count": 68
        }
      ]
    },
    {
      "cell_type": "code",
      "metadata": {
        "colab": {
          "base_uri": "https://localhost:8080/"
        },
        "id": "cmVs0F8Tkoqm",
        "outputId": "9231b62f-a351-4360-a6fb-8ded5dec219c"
      },
      "source": [
        "naive_results"
      ],
      "execution_count": 69,
      "outputs": [
        {
          "output_type": "execute_result",
          "data": {
            "text/plain": [
              "{'mae': 567.9802,\n",
              " 'mape': 567.9802,\n",
              " 'mase': 0.99957,\n",
              " 'mse': 1147547.0,\n",
              " 'rmse': 1071.2362}"
            ]
          },
          "metadata": {},
          "execution_count": 69
        }
      ]
    },
    {
      "cell_type": "code",
      "metadata": {
        "colab": {
          "base_uri": "https://localhost:8080/",
          "height": 442
        },
        "id": "2pl21V4RlEyn",
        "outputId": "6d9f68d7-1ddc-48f4-8759-63fbd89ad87e"
      },
      "source": [
        " # Let's plot our model 1 predictions\n",
        " offset = 300\n",
        " plt.figure(figsize=(10, 7))\n",
        " # Account for the test_window offset and index into test_labels to ensuer coorect plotting\n",
        " plot_time_series(timesteps=X_test[-len(test_windows):], values=test_labels[:, 0], start=offset, label='Test Data')\n",
        "\n",
        " plot_time_series(timesteps=X_test[-len(test_windows):],\n",
        "                  values=model_1_preds,\n",
        "                  start=offset,\n",
        "                  format='-',\n",
        "                  label='model_1_preds')"
      ],
      "execution_count": 73,
      "outputs": [
        {
          "output_type": "display_data",
          "data": {
            "image/png": "[encoded data removed]",
            "text/plain": [
              "<Figure size 720x504 with 1 Axes>"
            ]
          },
          "metadata": {
            "needs_background": "light"
          }
        }
      ]
    },
    {
      "cell_type": "code",
      "metadata": {
        "id": "l4EkKFSpl6Hm"
      },
      "source": [
        ""
      ],
      "execution_count": 73,
      "outputs": []
    }
  ]
}