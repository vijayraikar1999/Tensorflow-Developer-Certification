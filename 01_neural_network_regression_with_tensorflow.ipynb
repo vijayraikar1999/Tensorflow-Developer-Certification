{
  "nbformat": 4,
  "nbformat_minor": 0,
  "metadata": {
    "colab": {
      "name": "01_neural_network_regression_with_tensorflow.ipynb",
      "provenance": [],
      "collapsed_sections": []
    },
    "kernelspec": {
      "name": "python3",
      "display_name": "Python 3"
    },
    "language_info": {
      "name": "python"
    }
  },
  "cells": [
    {
      "cell_type": "markdown",
      "metadata": {
        "id": "rrfUr81A_XjZ"
      },
      "source": [
        "# Introduction to Regression with Neural Network in TensorFlow\n",
        "\n",
        "There are many definitions for a regression problem but in our case, we are going to simplify it: predicting a numerical variable based on some other combination of variables, even shorter...predicting a number"
      ]
    },
    {
      "cell_type": "code",
      "metadata": {
        "colab": {
          "base_uri": "https://localhost:8080/"
        },
        "id": "n39bR969LyDW",
        "outputId": "0544a7e4-216a-4ec7-b5b9-8bc8eb457638"
      },
      "source": [
        "# Import tensorflow\n",
        "import tensorflow as tf\n",
        "print(tf.__version__)"
      ],
      "execution_count": 1,
      "outputs": [
        {
          "output_type": "stream",
          "text": [
            "2.5.0\n"
          ],
          "name": "stdout"
        }
      ]
    },
    {
      "cell_type": "markdown",
      "metadata": {
        "id": "aWTBVj9eMLFE"
      },
      "source": [
        "## Creating data to view and fit"
      ]
    },
    {
      "cell_type": "code",
      "metadata": {
        "colab": {
          "base_uri": "https://localhost:8080/",
          "height": 286
        },
        "id": "8awbL2x-MrFp",
        "outputId": "1da8fe07-121d-4228-9719-d817071bd976"
      },
      "source": [
        "import numpy as np\n",
        "import matplotlib.pyplot as plt\n",
        "\n",
        "\n",
        "# Create features\n",
        "X = np.array([-7.0, -4.0, -1.0, 2.0, 5.0, 8.0, 11.0, 14.0])\n",
        "\n",
        "# Create labels\n",
        "Y = np.array([3.0, 6.0, 9.0, 12.0, 15.0, 18.0, 21.0, 24.0])\n",
        "\n",
        "# Visualize it\n",
        "plt.scatter(X, Y)"
      ],
      "execution_count": 2,
      "outputs": [
        {
          "output_type": "execute_result",
          "data": {
            "text/plain": [
              "<matplotlib.collections.PathCollection at 0x7fbb51d85150>"
            ]
          },
          "metadata": {
            "tags": []
          },
          "execution_count": 2
        },
        {
          "output_type": "display_data",
          "data": {
            "image/png": "[encoded data removed]",
            "text/plain": [
              "<Figure size 432x288 with 1 Axes>"
            ]
          },
          "metadata": {
            "tags": [],
            "needs_background": "light"
          }
        }
      ]
    },
    {
      "cell_type": "code",
      "metadata": {
        "colab": {
          "base_uri": "https://localhost:8080/"
        },
        "id": "wNAapVp7NgDG",
        "outputId": "5c51e5e7-2c2a-4a44-d0e9-68aef1a8ddb5"
      },
      "source": [
        "Y == X + 10"
      ],
      "execution_count": 3,
      "outputs": [
        {
          "output_type": "execute_result",
          "data": {
            "text/plain": [
              "array([ True,  True,  True,  True,  True,  True,  True,  True])"
            ]
          },
          "metadata": {
            "tags": []
          },
          "execution_count": 3
        }
      ]
    },
    {
      "cell_type": "markdown",
      "metadata": {
        "id": "eysDQoDiNulR"
      },
      "source": [
        "# Input and Output shapes"
      ]
    },
    {
      "cell_type": "code",
      "metadata": {
        "colab": {
          "base_uri": "https://localhost:8080/"
        },
        "id": "FRPZRLTAN_DQ",
        "outputId": "a37e0d03-ab81-4f7d-d3ed-b7fed9f1948a"
      },
      "source": [
        "# Cretae a demo tensor for our housing price prediction problem\n",
        "house_info = tf.constant(['bedroom', 'bathroom', 'garage'])\n",
        "house_price = tf.constant([939700])\n",
        "house_info, house_price"
      ],
      "execution_count": 4,
      "outputs": [
        {
          "output_type": "execute_result",
          "data": {
            "text/plain": [
              "(<tf.Tensor: shape=(3,), dtype=string, numpy=array([b'bedroom', b'bathroom', b'garage'], dtype=object)>,\n",
              " <tf.Tensor: shape=(1,), dtype=int32, numpy=array([939700], dtype=int32)>)"
            ]
          },
          "metadata": {
            "tags": []
          },
          "execution_count": 4
        }
      ]
    },
    {
      "cell_type": "code",
      "metadata": {
        "colab": {
          "base_uri": "https://localhost:8080/"
        },
        "id": "AQbLuWOaOf5o",
        "outputId": "ba3ad294-5640-40a3-9a6d-155d1a73e29a"
      },
      "source": [
        "input_shape = X.shape\n",
        "output_shape = Y.shape\n",
        "input_shape, output_shape"
      ],
      "execution_count": 5,
      "outputs": [
        {
          "output_type": "execute_result",
          "data": {
            "text/plain": [
              "((8,), (8,))"
            ]
          },
          "metadata": {
            "tags": []
          },
          "execution_count": 5
        }
      ]
    },
    {
      "cell_type": "code",
      "metadata": {
        "colab": {
          "base_uri": "https://localhost:8080/"
        },
        "id": "bUN2RAwnOyK3",
        "outputId": "52a411d2-faaa-432c-a017-bfd156a86b7f"
      },
      "source": [
        "X[0], Y[0]"
      ],
      "execution_count": 6,
      "outputs": [
        {
          "output_type": "execute_result",
          "data": {
            "text/plain": [
              "(-7.0, 3.0)"
            ]
          },
          "metadata": {
            "tags": []
          },
          "execution_count": 6
        }
      ]
    },
    {
      "cell_type": "code",
      "metadata": {
        "colab": {
          "base_uri": "https://localhost:8080/"
        },
        "id": "E4QV9HxOO4gz",
        "outputId": "65192642-f0f2-49c0-8786-f282cd19406a"
      },
      "source": [
        "X[1], Y[1]"
      ],
      "execution_count": 7,
      "outputs": [
        {
          "output_type": "execute_result",
          "data": {
            "text/plain": [
              "(-4.0, 6.0)"
            ]
          },
          "metadata": {
            "tags": []
          },
          "execution_count": 7
        }
      ]
    },
    {
      "cell_type": "code",
      "metadata": {
        "colab": {
          "base_uri": "https://localhost:8080/"
        },
        "id": "rDIvTVgLO60E",
        "outputId": "f2cfa93f-dd88-4d07-f68b-ae0f59b33ce1"
      },
      "source": [
        "input_shape = X[0].shape\n",
        "output_shape = Y[0].shape\n",
        "input_shape, output_shape"
      ],
      "execution_count": 8,
      "outputs": [
        {
          "output_type": "execute_result",
          "data": {
            "text/plain": [
              "((), ())"
            ]
          },
          "metadata": {
            "tags": []
          },
          "execution_count": 8
        }
      ]
    },
    {
      "cell_type": "code",
      "metadata": {
        "colab": {
          "base_uri": "https://localhost:8080/"
        },
        "id": "GmnOLiWTPHqH",
        "outputId": "f57728cb-1997-4fad-f649-9c7717837e8c"
      },
      "source": [
        "X[0].ndim"
      ],
      "execution_count": 9,
      "outputs": [
        {
          "output_type": "execute_result",
          "data": {
            "text/plain": [
              "0"
            ]
          },
          "metadata": {
            "tags": []
          },
          "execution_count": 9
        }
      ]
    },
    {
      "cell_type": "code",
      "metadata": {
        "colab": {
          "base_uri": "https://localhost:8080/"
        },
        "id": "ls84IGhWPNfx",
        "outputId": "ea3be986-d96d-4f54-e52f-255d167ac15e"
      },
      "source": [
        " # Turn our numpy arrays into tensors\n",
        " X = tf.cast(tf.constant(X), dtype=tf.float32)\n",
        " Y = tf.cast(tf.constant(Y),dtype=tf.float32)\n",
        " X, Y"
      ],
      "execution_count": 10,
      "outputs": [
        {
          "output_type": "execute_result",
          "data": {
            "text/plain": [
              "(<tf.Tensor: shape=(8,), dtype=float32, numpy=array([-7., -4., -1.,  2.,  5.,  8., 11., 14.], dtype=float32)>,\n",
              " <tf.Tensor: shape=(8,), dtype=float32, numpy=array([ 3.,  6.,  9., 12., 15., 18., 21., 24.], dtype=float32)>)"
            ]
          },
          "metadata": {
            "tags": []
          },
          "execution_count": 10
        }
      ]
    },
    {
      "cell_type": "code",
      "metadata": {
        "colab": {
          "base_uri": "https://localhost:8080/"
        },
        "id": "KnHFXwp6QLsx",
        "outputId": "cf3f9cab-645b-406c-b778-16490094dc98"
      },
      "source": [
        "input_shape = X[0].shape\n",
        "output_shape = Y[0].shape\n",
        "input_shape, output_shape"
      ],
      "execution_count": 11,
      "outputs": [
        {
          "output_type": "execute_result",
          "data": {
            "text/plain": [
              "(TensorShape([]), TensorShape([]))"
            ]
          },
          "metadata": {
            "tags": []
          },
          "execution_count": 11
        }
      ]
    },
    {
      "cell_type": "code",
      "metadata": {
        "colab": {
          "base_uri": "https://localhost:8080/",
          "height": 286
        },
        "id": "yDWjq1gIQTCB",
        "outputId": "1e8426d7-d8d0-450e-e2b7-b5c371ef3aff"
      },
      "source": [
        "plt.scatter(X, Y)"
      ],
      "execution_count": 12,
      "outputs": [
        {
          "output_type": "execute_result",
          "data": {
            "text/plain": [
              "<matplotlib.collections.PathCollection at 0x7fbb9a677390>"
            ]
          },
          "metadata": {
            "tags": []
          },
          "execution_count": 12
        },
        {
          "output_type": "display_data",
          "data": {
            "image/png": "[encoded data removed]",
            "text/plain": [
              "<Figure size 432x288 with 1 Axes>"
            ]
          },
          "metadata": {
            "tags": [],
            "needs_background": "light"
          }
        }
      ]
    },
    {
      "cell_type": "markdown",
      "metadata": {
        "id": "jqcggdoXol95"
      },
      "source": [
        "## Steps in modeling with TensorFlow\n",
        "\n",
        "1. **Creating a model** - Define the input and output layers, as well as the hidden layers of a Deep Learning model.\n",
        "\n",
        "2. **Compile a model** - Define the loss function (in other words, the function wihch tells our model how wrong it is) and the optimizer (tells our model how to improve the patterns its learning) and evaluation metrices (what we can use to interpret the performance of our model).\n",
        "\n",
        "3. **Fitting a model** - Letting the model try to find patterns between X and Y(features and model)."
      ]
    },
    {
      "cell_type": "code",
      "metadata": {
        "colab": {
          "base_uri": "https://localhost:8080/"
        },
        "id": "K9fq7kP6orEf",
        "outputId": "6fd232e8-af02-4d6a-9d37-7ba8ea8c2d88"
      },
      "source": [
        "# Set reandom seed\n",
        "tf.random.set_seed(42)\n",
        "\n",
        "# 1. Create a model using the Sequential API\n",
        "model = tf.keras.Sequential([\n",
        "    tf.keras.layers.Dense(1)                             \n",
        "])\n",
        "\n",
        "# Compile the model\n",
        "model.compile(loss=tf.keras.losses.mae # mae is short for Mean Absolute Error\n",
        "              ,optimizer=tf.keras.optimizers.SGD() # sdg is short for stochastic gradient descent\n",
        "              ,metrics=['mae']) \n",
        "\n",
        "# Fit the model\n",
        "model.fit(X, Y, epochs=5)"
      ],
      "execution_count": 13,
      "outputs": [
        {
          "output_type": "stream",
          "text": [
            "Epoch 1/5\n",
            "1/1 [==============================] - 1s 558ms/step - loss: 11.5048 - mae: 11.5048\n",
            "Epoch 2/5\n",
            "1/1 [==============================] - 0s 6ms/step - loss: 11.3723 - mae: 11.3723\n",
            "Epoch 3/5\n",
            "1/1 [==============================] - 0s 6ms/step - loss: 11.2398 - mae: 11.2398\n",
            "Epoch 4/5\n",
            "1/1 [==============================] - 0s 6ms/step - loss: 11.1073 - mae: 11.1073\n",
            "Epoch 5/5\n",
            "1/1 [==============================] - 0s 4ms/step - loss: 10.9748 - mae: 10.9748\n"
          ],
          "name": "stdout"
        },
        {
          "output_type": "execute_result",
          "data": {
            "text/plain": [
              "<tensorflow.python.keras.callbacks.History at 0x7fbb4e932910>"
            ]
          },
          "metadata": {
            "tags": []
          },
          "execution_count": 13
        }
      ]
    },
    {
      "cell_type": "code",
      "metadata": {
        "colab": {
          "base_uri": "https://localhost:8080/"
        },
        "id": "QOzbcsLgti2N",
        "outputId": "b3191ee0-284b-4309-9f67-5821f8266596"
      },
      "source": [
        "# Check X and Y\n",
        "X, Y"
      ],
      "execution_count": 14,
      "outputs": [
        {
          "output_type": "execute_result",
          "data": {
            "text/plain": [
              "(<tf.Tensor: shape=(8,), dtype=float32, numpy=array([-7., -4., -1.,  2.,  5.,  8., 11., 14.], dtype=float32)>,\n",
              " <tf.Tensor: shape=(8,), dtype=float32, numpy=array([ 3.,  6.,  9., 12., 15., 18., 21., 24.], dtype=float32)>)"
            ]
          },
          "metadata": {
            "tags": []
          },
          "execution_count": 14
        }
      ]
    },
    {
      "cell_type": "code",
      "metadata": {
        "colab": {
          "base_uri": "https://localhost:8080/"
        },
        "id": "2mm3PDkQu6Rb",
        "outputId": "206c17c5-28c2-47fb-c8b4-d2ed9bb9c967"
      },
      "source": [
        "y_pred = model.predict([17.0])\n",
        "y_pred"
      ],
      "execution_count": 15,
      "outputs": [
        {
          "output_type": "execute_result",
          "data": {
            "text/plain": [
              "array([[12.716021]], dtype=float32)"
            ]
          },
          "metadata": {
            "tags": []
          },
          "execution_count": 15
        }
      ]
    },
    {
      "cell_type": "markdown",
      "metadata": {
        "id": "0VLIDG-YvBG_"
      },
      "source": [
        "## Improving our model\n",
        "\n",
        "We can improve our model, by altering the steps we took to create the model.\n",
        "\n",
        "1. **Creating a model** - Here we might add more layers, increase the number of hidden units (all called neurons) within each of hidden layers, change the activation function of each layer.\n",
        "\n",
        "2. **Compiling a model** - Here we might change the optimization function or perhaps the **learning rate** of the optimazation function.\n",
        "\n",
        "3. **Fit a model** - Here we might fit a model for more **epochs** (leave it training for longer) or on more data (give the model more examples to learn from)."
      ]
    },
    {
      "cell_type": "code",
      "metadata": {
        "colab": {
          "base_uri": "https://localhost:8080/"
        },
        "id": "LxJjzFTBvZ0x",
        "outputId": "c153fb11-f74a-46e2-e37b-65738bdf269f"
      },
      "source": [
        "# Let's rebuild our model\n",
        "\n",
        "# 1. Create a model (specified to your problem)\n",
        "model = tf.keras.Sequential([\n",
        "    tf.keras.layers.Dense(1)                                                         \n",
        "])\n",
        "\n",
        "# 2. Compile the model\n",
        "model.compile(loss=tf.keras.losses.mae,\n",
        "              optimizer=tf.keras.optimizers.SGD(),\n",
        "              metrics=['mae'])\n",
        "\n",
        "# 3. Fit the model\n",
        "model.fit(X, Y, epochs=100)"
      ],
      "execution_count": 16,
      "outputs": [
        {
          "output_type": "stream",
          "text": [
            "Epoch 1/100\n",
            "1/1 [==============================] - 0s 260ms/step - loss: 11.2219 - mae: 11.2219\n",
            "Epoch 2/100\n",
            "1/1 [==============================] - 0s 8ms/step - loss: 11.0894 - mae: 11.0894\n",
            "Epoch 3/100\n",
            "1/1 [==============================] - 0s 4ms/step - loss: 10.9569 - mae: 10.9569\n",
            "Epoch 4/100\n",
            "1/1 [==============================] - 0s 5ms/step - loss: 10.8244 - mae: 10.8244\n",
            "Epoch 5/100\n",
            "1/1 [==============================] - 0s 6ms/step - loss: 10.6919 - mae: 10.6919\n",
            "Epoch 6/100\n",
            "1/1 [==============================] - 0s 4ms/step - loss: 10.5594 - mae: 10.5594\n",
            "Epoch 7/100\n",
            "1/1 [==============================] - 0s 7ms/step - loss: 10.4269 - mae: 10.4269\n",
            "Epoch 8/100\n",
            "1/1 [==============================] - 0s 4ms/step - loss: 10.2944 - mae: 10.2944\n",
            "Epoch 9/100\n",
            "1/1 [==============================] - 0s 3ms/step - loss: 10.1619 - mae: 10.1619\n",
            "Epoch 10/100\n",
            "1/1 [==============================] - 0s 4ms/step - loss: 10.0294 - mae: 10.0294\n",
            "Epoch 11/100\n",
            "1/1 [==============================] - 0s 6ms/step - loss: 9.8969 - mae: 9.8969\n",
            "Epoch 12/100\n",
            "1/1 [==============================] - 0s 4ms/step - loss: 9.7644 - mae: 9.7644\n",
            "Epoch 13/100\n",
            "1/1 [==============================] - 0s 4ms/step - loss: 9.6319 - mae: 9.6319\n",
            "Epoch 14/100\n",
            "1/1 [==============================] - 0s 9ms/step - loss: 9.4994 - mae: 9.4994\n",
            "Epoch 15/100\n",
            "1/1 [==============================] - 0s 9ms/step - loss: 9.3669 - mae: 9.3669\n",
            "Epoch 16/100\n",
            "1/1 [==============================] - 0s 4ms/step - loss: 9.2344 - mae: 9.2344\n",
            "Epoch 17/100\n",
            "1/1 [==============================] - 0s 5ms/step - loss: 9.1019 - mae: 9.1019\n",
            "Epoch 18/100\n",
            "1/1 [==============================] - 0s 5ms/step - loss: 8.9694 - mae: 8.9694\n",
            "Epoch 19/100\n",
            "1/1 [==============================] - 0s 4ms/step - loss: 8.8369 - mae: 8.8369\n",
            "Epoch 20/100\n",
            "1/1 [==============================] - 0s 6ms/step - loss: 8.7044 - mae: 8.7044\n",
            "Epoch 21/100\n",
            "1/1 [==============================] - 0s 4ms/step - loss: 8.5719 - mae: 8.5719\n",
            "Epoch 22/100\n",
            "1/1 [==============================] - 0s 7ms/step - loss: 8.4394 - mae: 8.4394\n",
            "Epoch 23/100\n",
            "1/1 [==============================] - 0s 5ms/step - loss: 8.3069 - mae: 8.3069\n",
            "Epoch 24/100\n",
            "1/1 [==============================] - 0s 5ms/step - loss: 8.1744 - mae: 8.1744\n",
            "Epoch 25/100\n",
            "1/1 [==============================] - 0s 6ms/step - loss: 8.0419 - mae: 8.0419\n",
            "Epoch 26/100\n",
            "1/1 [==============================] - 0s 5ms/step - loss: 7.9094 - mae: 7.9094\n",
            "Epoch 27/100\n",
            "1/1 [==============================] - 0s 7ms/step - loss: 7.7769 - mae: 7.7769\n",
            "Epoch 28/100\n",
            "1/1 [==============================] - 0s 4ms/step - loss: 7.6444 - mae: 7.6444\n",
            "Epoch 29/100\n",
            "1/1 [==============================] - 0s 4ms/step - loss: 7.5119 - mae: 7.5119\n",
            "Epoch 30/100\n",
            "1/1 [==============================] - 0s 6ms/step - loss: 7.3794 - mae: 7.3794\n",
            "Epoch 31/100\n",
            "1/1 [==============================] - 0s 4ms/step - loss: 7.2750 - mae: 7.2750\n",
            "Epoch 32/100\n",
            "1/1 [==============================] - 0s 6ms/step - loss: 7.2694 - mae: 7.2694\n",
            "Epoch 33/100\n",
            "1/1 [==============================] - 0s 6ms/step - loss: 7.2638 - mae: 7.2638\n",
            "Epoch 34/100\n",
            "1/1 [==============================] - 0s 8ms/step - loss: 7.2581 - mae: 7.2581\n",
            "Epoch 35/100\n",
            "1/1 [==============================] - 0s 9ms/step - loss: 7.2525 - mae: 7.2525\n",
            "Epoch 36/100\n",
            "1/1 [==============================] - 0s 10ms/step - loss: 7.2469 - mae: 7.2469\n",
            "Epoch 37/100\n",
            "1/1 [==============================] - 0s 9ms/step - loss: 7.2412 - mae: 7.2412\n",
            "Epoch 38/100\n",
            "1/1 [==============================] - 0s 12ms/step - loss: 7.2356 - mae: 7.2356\n",
            "Epoch 39/100\n",
            "1/1 [==============================] - 0s 13ms/step - loss: 7.2300 - mae: 7.2300\n",
            "Epoch 40/100\n",
            "1/1 [==============================] - 0s 7ms/step - loss: 7.2244 - mae: 7.2244\n",
            "Epoch 41/100\n",
            "1/1 [==============================] - 0s 11ms/step - loss: 7.2188 - mae: 7.2188\n",
            "Epoch 42/100\n",
            "1/1 [==============================] - 0s 14ms/step - loss: 7.2131 - mae: 7.2131\n",
            "Epoch 43/100\n",
            "1/1 [==============================] - 0s 5ms/step - loss: 7.2075 - mae: 7.2075\n",
            "Epoch 44/100\n",
            "1/1 [==============================] - 0s 7ms/step - loss: 7.2019 - mae: 7.2019\n",
            "Epoch 45/100\n",
            "1/1 [==============================] - 0s 5ms/step - loss: 7.1962 - mae: 7.1962\n",
            "Epoch 46/100\n",
            "1/1 [==============================] - 0s 8ms/step - loss: 7.1906 - mae: 7.1906\n",
            "Epoch 47/100\n",
            "1/1 [==============================] - 0s 6ms/step - loss: 7.1850 - mae: 7.1850\n",
            "Epoch 48/100\n",
            "1/1 [==============================] - 0s 11ms/step - loss: 7.1794 - mae: 7.1794\n",
            "Epoch 49/100\n",
            "1/1 [==============================] - 0s 18ms/step - loss: 7.1737 - mae: 7.1737\n",
            "Epoch 50/100\n",
            "1/1 [==============================] - 0s 6ms/step - loss: 7.1681 - mae: 7.1681\n",
            "Epoch 51/100\n",
            "1/1 [==============================] - 0s 6ms/step - loss: 7.1625 - mae: 7.1625\n",
            "Epoch 52/100\n",
            "1/1 [==============================] - 0s 4ms/step - loss: 7.1569 - mae: 7.1569\n",
            "Epoch 53/100\n",
            "1/1 [==============================] - 0s 4ms/step - loss: 7.1512 - mae: 7.1512\n",
            "Epoch 54/100\n",
            "1/1 [==============================] - 0s 5ms/step - loss: 7.1456 - mae: 7.1456\n",
            "Epoch 55/100\n",
            "1/1 [==============================] - 0s 5ms/step - loss: 7.1400 - mae: 7.1400\n",
            "Epoch 56/100\n",
            "1/1 [==============================] - 0s 5ms/step - loss: 7.1344 - mae: 7.1344\n",
            "Epoch 57/100\n",
            "1/1 [==============================] - 0s 4ms/step - loss: 7.1287 - mae: 7.1287\n",
            "Epoch 58/100\n",
            "1/1 [==============================] - 0s 7ms/step - loss: 7.1231 - mae: 7.1231\n",
            "Epoch 59/100\n",
            "1/1 [==============================] - 0s 7ms/step - loss: 7.1175 - mae: 7.1175\n",
            "Epoch 60/100\n",
            "1/1 [==============================] - 0s 7ms/step - loss: 7.1119 - mae: 7.1119\n",
            "Epoch 61/100\n",
            "1/1 [==============================] - 0s 4ms/step - loss: 7.1062 - mae: 7.1062\n",
            "Epoch 62/100\n",
            "1/1 [==============================] - 0s 5ms/step - loss: 7.1006 - mae: 7.1006\n",
            "Epoch 63/100\n",
            "1/1 [==============================] - 0s 6ms/step - loss: 7.0950 - mae: 7.0950\n",
            "Epoch 64/100\n",
            "1/1 [==============================] - 0s 4ms/step - loss: 7.0894 - mae: 7.0894\n",
            "Epoch 65/100\n",
            "1/1 [==============================] - 0s 16ms/step - loss: 7.0838 - mae: 7.0838\n",
            "Epoch 66/100\n",
            "1/1 [==============================] - 0s 5ms/step - loss: 7.0781 - mae: 7.0781\n",
            "Epoch 67/100\n",
            "1/1 [==============================] - 0s 6ms/step - loss: 7.0725 - mae: 7.0725\n",
            "Epoch 68/100\n",
            "1/1 [==============================] - 0s 5ms/step - loss: 7.0669 - mae: 7.0669\n",
            "Epoch 69/100\n",
            "1/1 [==============================] - 0s 8ms/step - loss: 7.0613 - mae: 7.0613\n",
            "Epoch 70/100\n",
            "1/1 [==============================] - 0s 7ms/step - loss: 7.0556 - mae: 7.0556\n",
            "Epoch 71/100\n",
            "1/1 [==============================] - 0s 10ms/step - loss: 7.0500 - mae: 7.0500\n",
            "Epoch 72/100\n",
            "1/1 [==============================] - 0s 13ms/step - loss: 7.0444 - mae: 7.0444\n",
            "Epoch 73/100\n",
            "1/1 [==============================] - 0s 7ms/step - loss: 7.0388 - mae: 7.0388\n",
            "Epoch 74/100\n",
            "1/1 [==============================] - 0s 9ms/step - loss: 7.0331 - mae: 7.0331\n",
            "Epoch 75/100\n",
            "1/1 [==============================] - 0s 8ms/step - loss: 7.0275 - mae: 7.0275\n",
            "Epoch 76/100\n",
            "1/1 [==============================] - 0s 10ms/step - loss: 7.0219 - mae: 7.0219\n",
            "Epoch 77/100\n",
            "1/1 [==============================] - 0s 17ms/step - loss: 7.0163 - mae: 7.0163\n",
            "Epoch 78/100\n",
            "1/1 [==============================] - 0s 15ms/step - loss: 7.0106 - mae: 7.0106\n",
            "Epoch 79/100\n",
            "1/1 [==============================] - 0s 20ms/step - loss: 7.0050 - mae: 7.0050\n",
            "Epoch 80/100\n",
            "1/1 [==============================] - 0s 17ms/step - loss: 6.9994 - mae: 6.9994\n",
            "Epoch 81/100\n",
            "1/1 [==============================] - 0s 11ms/step - loss: 6.9938 - mae: 6.9938\n",
            "Epoch 82/100\n",
            "1/1 [==============================] - 0s 10ms/step - loss: 6.9881 - mae: 6.9881\n",
            "Epoch 83/100\n",
            "1/1 [==============================] - 0s 12ms/step - loss: 6.9825 - mae: 6.9825\n",
            "Epoch 84/100\n",
            "1/1 [==============================] - 0s 12ms/step - loss: 6.9769 - mae: 6.9769\n",
            "Epoch 85/100\n",
            "1/1 [==============================] - 0s 9ms/step - loss: 6.9713 - mae: 6.9713\n",
            "Epoch 86/100\n",
            "1/1 [==============================] - 0s 9ms/step - loss: 6.9656 - mae: 6.9656\n",
            "Epoch 87/100\n",
            "1/1 [==============================] - 0s 12ms/step - loss: 6.9600 - mae: 6.9600\n",
            "Epoch 88/100\n",
            "1/1 [==============================] - 0s 6ms/step - loss: 6.9544 - mae: 6.9544\n",
            "Epoch 89/100\n",
            "1/1 [==============================] - 0s 13ms/step - loss: 6.9488 - mae: 6.9488\n",
            "Epoch 90/100\n",
            "1/1 [==============================] - 0s 6ms/step - loss: 6.9431 - mae: 6.9431\n",
            "Epoch 91/100\n",
            "1/1 [==============================] - 0s 11ms/step - loss: 6.9375 - mae: 6.9375\n",
            "Epoch 92/100\n",
            "1/1 [==============================] - 0s 7ms/step - loss: 6.9319 - mae: 6.9319\n",
            "Epoch 93/100\n",
            "1/1 [==============================] - 0s 5ms/step - loss: 6.9263 - mae: 6.9263\n",
            "Epoch 94/100\n",
            "1/1 [==============================] - 0s 7ms/step - loss: 6.9206 - mae: 6.9206\n",
            "Epoch 95/100\n",
            "1/1 [==============================] - 0s 6ms/step - loss: 6.9150 - mae: 6.9150\n",
            "Epoch 96/100\n",
            "1/1 [==============================] - 0s 5ms/step - loss: 6.9094 - mae: 6.9094\n",
            "Epoch 97/100\n",
            "1/1 [==============================] - 0s 4ms/step - loss: 6.9038 - mae: 6.9038\n",
            "Epoch 98/100\n",
            "1/1 [==============================] - 0s 4ms/step - loss: 6.8981 - mae: 6.8981\n",
            "Epoch 99/100\n",
            "1/1 [==============================] - 0s 4ms/step - loss: 6.8925 - mae: 6.8925\n",
            "Epoch 100/100\n",
            "1/1 [==============================] - 0s 4ms/step - loss: 6.8869 - mae: 6.8869\n"
          ],
          "name": "stdout"
        },
        {
          "output_type": "execute_result",
          "data": {
            "text/plain": [
              "<tensorflow.python.keras.callbacks.History at 0x7fbb4bdb3b90>"
            ]
          },
          "metadata": {
            "tags": []
          },
          "execution_count": 16
        }
      ]
    },
    {
      "cell_type": "code",
      "metadata": {
        "colab": {
          "base_uri": "https://localhost:8080/"
        },
        "id": "Wb8ZdhY_6J8Z",
        "outputId": "8c14bfc7-9ad2-417e-89ee-26987c4ee8ea"
      },
      "source": [
        "# Remind ourselves of the data\n",
        "X, Y"
      ],
      "execution_count": 17,
      "outputs": [
        {
          "output_type": "execute_result",
          "data": {
            "text/plain": [
              "(<tf.Tensor: shape=(8,), dtype=float32, numpy=array([-7., -4., -1.,  2.,  5.,  8., 11., 14.], dtype=float32)>,\n",
              " <tf.Tensor: shape=(8,), dtype=float32, numpy=array([ 3.,  6.,  9., 12., 15., 18., 21., 24.], dtype=float32)>)"
            ]
          },
          "metadata": {
            "tags": []
          },
          "execution_count": 17
        }
      ]
    },
    {
      "cell_type": "code",
      "metadata": {
        "colab": {
          "base_uri": "https://localhost:8080/"
        },
        "id": "Un7uwa_k6onW",
        "outputId": "273aa949-8aef-4766-adc4-b46d3f070030"
      },
      "source": [
        "model.predict([17.0])"
      ],
      "execution_count": 18,
      "outputs": [
        {
          "output_type": "execute_result",
          "data": {
            "text/plain": [
              "array([[29.739855]], dtype=float32)"
            ]
          },
          "metadata": {
            "tags": []
          },
          "execution_count": 18
        }
      ]
    },
    {
      "cell_type": "code",
      "metadata": {
        "colab": {
          "base_uri": "https://localhost:8080/"
        },
        "id": "YANuGclw9rHY",
        "outputId": "f8d88805-8494-4f0e-b36d-0ec5f9a57b14"
      },
      "source": [
        "# Let's see if we can improve our model even more.\n",
        "\n",
        "# 1. Create a model (specified to your problem)\n",
        "model = tf.keras.Sequential([\n",
        "    tf.keras.layers.Dense(1),                             \n",
        "    tf.keras.layers.Dense(100, activation='relu'),\n",
        "    tf.keras.layers.Dense(1)                             \n",
        "])\n",
        "\n",
        "# 2. Compile the model\n",
        "model.compile(loss=tf.keras.losses.mae,\n",
        "              optimizer=tf.keras.optimizers.SGD(),\n",
        "              metrics=['mae'])\n",
        "\n",
        "# 3. Fit the model\n",
        "model.fit(X, Y, epochs=100)"
      ],
      "execution_count": 19,
      "outputs": [
        {
          "output_type": "stream",
          "text": [
            "Epoch 1/100\n",
            "1/1 [==============================] - 0s 357ms/step - loss: 13.9521 - mae: 13.9521\n",
            "Epoch 2/100\n",
            "1/1 [==============================] - 0s 7ms/step - loss: 13.5549 - mae: 13.5549\n",
            "Epoch 3/100\n",
            "1/1 [==============================] - 0s 7ms/step - loss: 13.1651 - mae: 13.1651\n",
            "Epoch 4/100\n",
            "1/1 [==============================] - 0s 4ms/step - loss: 12.7717 - mae: 12.7717\n",
            "Epoch 5/100\n",
            "1/1 [==============================] - 0s 6ms/step - loss: 12.3647 - mae: 12.3647\n",
            "Epoch 6/100\n",
            "1/1 [==============================] - 0s 5ms/step - loss: 11.9324 - mae: 11.9324\n",
            "Epoch 7/100\n",
            "1/1 [==============================] - 0s 6ms/step - loss: 11.4604 - mae: 11.4604\n",
            "Epoch 8/100\n",
            "1/1 [==============================] - 0s 6ms/step - loss: 10.9455 - mae: 10.9455\n",
            "Epoch 9/100\n",
            "1/1 [==============================] - 0s 5ms/step - loss: 10.3608 - mae: 10.3608\n",
            "Epoch 10/100\n",
            "1/1 [==============================] - 0s 6ms/step - loss: 9.6877 - mae: 9.6877\n",
            "Epoch 11/100\n",
            "1/1 [==============================] - 0s 9ms/step - loss: 8.9055 - mae: 8.9055\n",
            "Epoch 12/100\n",
            "1/1 [==============================] - 0s 13ms/step - loss: 7.9769 - mae: 7.9769\n",
            "Epoch 13/100\n",
            "1/1 [==============================] - 0s 7ms/step - loss: 6.8620 - mae: 6.8620\n",
            "Epoch 14/100\n",
            "1/1 [==============================] - 0s 4ms/step - loss: 5.5067 - mae: 5.5067\n",
            "Epoch 15/100\n",
            "1/1 [==============================] - 0s 5ms/step - loss: 4.1708 - mae: 4.1708\n",
            "Epoch 16/100\n",
            "1/1 [==============================] - 0s 6ms/step - loss: 3.9961 - mae: 3.9961\n",
            "Epoch 17/100\n",
            "1/1 [==============================] - 0s 8ms/step - loss: 4.0032 - mae: 4.0032\n",
            "Epoch 18/100\n",
            "1/1 [==============================] - 0s 6ms/step - loss: 3.9592 - mae: 3.9592\n",
            "Epoch 19/100\n",
            "1/1 [==============================] - 0s 10ms/step - loss: 3.9330 - mae: 3.9330\n",
            "Epoch 20/100\n",
            "1/1 [==============================] - 0s 5ms/step - loss: 3.9711 - mae: 3.9711\n",
            "Epoch 21/100\n",
            "1/1 [==============================] - 0s 5ms/step - loss: 3.8966 - mae: 3.8966\n",
            "Epoch 22/100\n",
            "1/1 [==============================] - 0s 5ms/step - loss: 3.9835 - mae: 3.9835\n",
            "Epoch 23/100\n",
            "1/1 [==============================] - 0s 5ms/step - loss: 3.8728 - mae: 3.8728\n",
            "Epoch 24/100\n",
            "1/1 [==============================] - 0s 21ms/step - loss: 4.0179 - mae: 4.0179\n",
            "Epoch 25/100\n",
            "1/1 [==============================] - 0s 5ms/step - loss: 3.8835 - mae: 3.8835\n",
            "Epoch 26/100\n",
            "1/1 [==============================] - 0s 5ms/step - loss: 3.9627 - mae: 3.9627\n",
            "Epoch 27/100\n",
            "1/1 [==============================] - 0s 7ms/step - loss: 3.8958 - mae: 3.8958\n",
            "Epoch 28/100\n",
            "1/1 [==============================] - 0s 5ms/step - loss: 3.9261 - mae: 3.9261\n",
            "Epoch 29/100\n",
            "1/1 [==============================] - 0s 5ms/step - loss: 3.9085 - mae: 3.9085\n",
            "Epoch 30/100\n",
            "1/1 [==============================] - 0s 6ms/step - loss: 3.9031 - mae: 3.9031\n",
            "Epoch 31/100\n",
            "1/1 [==============================] - 0s 5ms/step - loss: 3.9429 - mae: 3.9429\n",
            "Epoch 32/100\n",
            "1/1 [==============================] - 0s 7ms/step - loss: 3.8491 - mae: 3.8491\n",
            "Epoch 33/100\n",
            "1/1 [==============================] - 0s 6ms/step - loss: 3.9563 - mae: 3.9563\n",
            "Epoch 34/100\n",
            "1/1 [==============================] - 0s 18ms/step - loss: 3.8250 - mae: 3.8250\n",
            "Epoch 35/100\n",
            "1/1 [==============================] - 0s 5ms/step - loss: 3.9507 - mae: 3.9507\n",
            "Epoch 36/100\n",
            "1/1 [==============================] - 0s 9ms/step - loss: 3.8380 - mae: 3.8380\n",
            "Epoch 37/100\n",
            "1/1 [==============================] - 0s 12ms/step - loss: 3.9294 - mae: 3.9294\n",
            "Epoch 38/100\n",
            "1/1 [==============================] - 0s 6ms/step - loss: 3.8725 - mae: 3.8725\n",
            "Epoch 39/100\n",
            "1/1 [==============================] - 0s 6ms/step - loss: 3.8729 - mae: 3.8729\n",
            "Epoch 40/100\n",
            "1/1 [==============================] - 0s 8ms/step - loss: 3.8862 - mae: 3.8862\n",
            "Epoch 41/100\n",
            "1/1 [==============================] - 0s 10ms/step - loss: 3.8342 - mae: 3.8342\n",
            "Epoch 42/100\n",
            "1/1 [==============================] - 0s 13ms/step - loss: 3.9001 - mae: 3.9001\n",
            "Epoch 43/100\n",
            "1/1 [==============================] - 0s 5ms/step - loss: 3.7948 - mae: 3.7948\n",
            "Epoch 44/100\n",
            "1/1 [==============================] - 0s 7ms/step - loss: 3.9145 - mae: 3.9145\n",
            "Epoch 45/100\n",
            "1/1 [==============================] - 0s 6ms/step - loss: 3.8030 - mae: 3.8030\n",
            "Epoch 46/100\n",
            "1/1 [==============================] - 0s 7ms/step - loss: 3.8924 - mae: 3.8924\n",
            "Epoch 47/100\n",
            "1/1 [==============================] - 0s 5ms/step - loss: 3.8200 - mae: 3.8200\n",
            "Epoch 48/100\n",
            "1/1 [==============================] - 0s 7ms/step - loss: 3.8530 - mae: 3.8530\n",
            "Epoch 49/100\n",
            "1/1 [==============================] - 0s 5ms/step - loss: 3.8344 - mae: 3.8344\n",
            "Epoch 50/100\n",
            "1/1 [==============================] - 0s 7ms/step - loss: 3.8148 - mae: 3.8148\n",
            "Epoch 51/100\n",
            "1/1 [==============================] - 0s 6ms/step - loss: 3.8707 - mae: 3.8707\n",
            "Epoch 52/100\n",
            "1/1 [==============================] - 0s 7ms/step - loss: 3.7706 - mae: 3.7706\n",
            "Epoch 53/100\n",
            "1/1 [==============================] - 0s 5ms/step - loss: 3.8856 - mae: 3.8856\n",
            "Epoch 54/100\n",
            "1/1 [==============================] - 0s 6ms/step - loss: 3.7571 - mae: 3.7571\n",
            "Epoch 55/100\n",
            "1/1 [==============================] - 0s 7ms/step - loss: 3.8683 - mae: 3.8683\n",
            "Epoch 56/100\n",
            "1/1 [==============================] - 0s 5ms/step - loss: 3.7718 - mae: 3.7718\n",
            "Epoch 57/100\n",
            "1/1 [==============================] - 0s 7ms/step - loss: 3.8339 - mae: 3.8339\n",
            "Epoch 58/100\n",
            "1/1 [==============================] - 0s 5ms/step - loss: 3.8079 - mae: 3.8079\n",
            "Epoch 59/100\n",
            "1/1 [==============================] - 0s 7ms/step - loss: 3.7848 - mae: 3.7848\n",
            "Epoch 60/100\n",
            "1/1 [==============================] - 0s 5ms/step - loss: 3.8234 - mae: 3.8234\n",
            "Epoch 61/100\n",
            "1/1 [==============================] - 0s 8ms/step - loss: 3.7432 - mae: 3.7432\n",
            "Epoch 62/100\n",
            "1/1 [==============================] - 0s 6ms/step - loss: 3.8390 - mae: 3.8390\n",
            "Epoch 63/100\n",
            "1/1 [==============================] - 0s 8ms/step - loss: 3.7127 - mae: 3.7127\n",
            "Epoch 64/100\n",
            "1/1 [==============================] - 0s 5ms/step - loss: 3.8496 - mae: 3.8496\n",
            "Epoch 65/100\n",
            "1/1 [==============================] - 0s 6ms/step - loss: 3.7487 - mae: 3.7487\n",
            "Epoch 66/100\n",
            "1/1 [==============================] - 0s 6ms/step - loss: 3.7952 - mae: 3.7952\n",
            "Epoch 67/100\n",
            "1/1 [==============================] - 0s 8ms/step - loss: 3.7644 - mae: 3.7644\n",
            "Epoch 68/100\n",
            "1/1 [==============================] - 0s 5ms/step - loss: 3.7527 - mae: 3.7527\n",
            "Epoch 69/100\n",
            "1/1 [==============================] - 0s 6ms/step - loss: 3.7806 - mae: 3.7806\n",
            "Epoch 70/100\n",
            "1/1 [==============================] - 0s 8ms/step - loss: 3.7098 - mae: 3.7098\n",
            "Epoch 71/100\n",
            "1/1 [==============================] - 0s 5ms/step - loss: 3.7971 - mae: 3.7971\n",
            "Epoch 72/100\n",
            "1/1 [==============================] - 0s 5ms/step - loss: 3.6876 - mae: 3.6876\n",
            "Epoch 73/100\n",
            "1/1 [==============================] - 0s 7ms/step - loss: 3.8012 - mae: 3.8012\n",
            "Epoch 74/100\n",
            "1/1 [==============================] - 0s 6ms/step - loss: 3.7092 - mae: 3.7092\n",
            "Epoch 75/100\n",
            "1/1 [==============================] - 0s 7ms/step - loss: 3.7582 - mae: 3.7582\n",
            "Epoch 76/100\n",
            "1/1 [==============================] - 0s 7ms/step - loss: 3.7257 - mae: 3.7257\n",
            "Epoch 77/100\n",
            "1/1 [==============================] - 0s 8ms/step - loss: 3.7161 - mae: 3.7161\n",
            "Epoch 78/100\n",
            "1/1 [==============================] - 0s 6ms/step - loss: 3.7636 - mae: 3.7636\n",
            "Epoch 79/100\n",
            "1/1 [==============================] - 0s 7ms/step - loss: 3.6686 - mae: 3.6686\n",
            "Epoch 80/100\n",
            "1/1 [==============================] - 0s 7ms/step - loss: 3.7807 - mae: 3.7807\n",
            "Epoch 81/100\n",
            "1/1 [==============================] - 0s 6ms/step - loss: 3.6564 - mae: 3.6564\n",
            "Epoch 82/100\n",
            "1/1 [==============================] - 0s 5ms/step - loss: 3.7606 - mae: 3.7606\n",
            "Epoch 83/100\n",
            "1/1 [==============================] - 0s 8ms/step - loss: 3.6732 - mae: 3.6732\n",
            "Epoch 84/100\n",
            "1/1 [==============================] - 0s 5ms/step - loss: 3.7242 - mae: 3.7242\n",
            "Epoch 85/100\n",
            "1/1 [==============================] - 0s 7ms/step - loss: 3.7110 - mae: 3.7110\n",
            "Epoch 86/100\n",
            "1/1 [==============================] - 0s 5ms/step - loss: 3.6696 - mae: 3.6696\n",
            "Epoch 87/100\n",
            "1/1 [==============================] - 0s 5ms/step - loss: 3.7285 - mae: 3.7285\n",
            "Epoch 88/100\n",
            "1/1 [==============================] - 0s 8ms/step - loss: 3.6241 - mae: 3.6241\n",
            "Epoch 89/100\n",
            "1/1 [==============================] - 0s 5ms/step - loss: 3.7465 - mae: 3.7465\n",
            "Epoch 90/100\n",
            "1/1 [==============================] - 0s 5ms/step - loss: 3.6234 - mae: 3.6234\n",
            "Epoch 91/100\n",
            "1/1 [==============================] - 0s 8ms/step - loss: 3.7294 - mae: 3.7294\n",
            "Epoch 92/100\n",
            "1/1 [==============================] - 0s 7ms/step - loss: 3.6611 - mae: 3.6611\n",
            "Epoch 93/100\n",
            "1/1 [==============================] - 0s 5ms/step - loss: 3.6669 - mae: 3.6669\n",
            "Epoch 94/100\n",
            "1/1 [==============================] - 0s 8ms/step - loss: 3.6791 - mae: 3.6791\n",
            "Epoch 95/100\n",
            "1/1 [==============================] - 0s 6ms/step - loss: 3.6202 - mae: 3.6202\n",
            "Epoch 96/100\n",
            "1/1 [==============================] - 0s 8ms/step - loss: 3.6978 - mae: 3.6978\n",
            "Epoch 97/100\n",
            "1/1 [==============================] - 0s 10ms/step - loss: 3.5803 - mae: 3.5803\n",
            "Epoch 98/100\n",
            "1/1 [==============================] - 0s 9ms/step - loss: 3.7061 - mae: 3.7061\n",
            "Epoch 99/100\n",
            "1/1 [==============================] - 0s 12ms/step - loss: 3.6154 - mae: 3.6154\n",
            "Epoch 100/100\n",
            "1/1 [==============================] - 0s 6ms/step - loss: 3.6596 - mae: 3.6596\n"
          ],
          "name": "stdout"
        },
        {
          "output_type": "execute_result",
          "data": {
            "text/plain": [
              "<tensorflow.python.keras.callbacks.History at 0x7fbb4acb0050>"
            ]
          },
          "metadata": {
            "tags": []
          },
          "execution_count": 19
        }
      ]
    },
    {
      "cell_type": "code",
      "metadata": {
        "colab": {
          "base_uri": "https://localhost:8080/"
        },
        "id": "i1KP_9W9CTxM",
        "outputId": "6d35a8dc-893b-4126-82a6-0d6d3443e3ab"
      },
      "source": [
        "model.predict([17.0])"
      ],
      "execution_count": 20,
      "outputs": [
        {
          "output_type": "execute_result",
          "data": {
            "text/plain": [
              "array([[32.654366]], dtype=float32)"
            ]
          },
          "metadata": {
            "tags": []
          },
          "execution_count": 20
        }
      ]
    },
    {
      "cell_type": "code",
      "metadata": {
        "colab": {
          "base_uri": "https://localhost:8080/"
        },
        "id": "LVLWCHkvEedn",
        "outputId": "86407212-61a9-4ebf-f523-c74f8a4ebe85"
      },
      "source": [
        "# Let's see if we can improve our model even more.\n",
        "\n",
        "# 1. Create a model (specified to your problem)\n",
        "model = tf.keras.Sequential([\n",
        "    tf.keras.layers.Dense(1),                             \n",
        "    tf.keras.layers.Dense(50, activation=None),\n",
        "    tf.keras.layers.Dense(1)                             \n",
        "])\n",
        "\n",
        "# 2. Compile the model\n",
        "model.compile(loss=tf.keras.losses.mae,\n",
        "              optimizer=tf.keras.optimizers.Adam(learning_rate=0.01),\n",
        "              metrics=['mae'])\n",
        "\n",
        "# 3. Fit the model\n",
        "model.fit(X, Y, epochs=100)"
      ],
      "execution_count": 21,
      "outputs": [
        {
          "output_type": "stream",
          "text": [
            "Epoch 1/100\n",
            "1/1 [==============================] - 0s 374ms/step - loss: 11.9789 - mae: 11.9789\n",
            "Epoch 2/100\n",
            "1/1 [==============================] - 0s 7ms/step - loss: 10.9113 - mae: 10.9113\n",
            "Epoch 3/100\n",
            "1/1 [==============================] - 0s 8ms/step - loss: 9.8262 - mae: 9.8262\n",
            "Epoch 4/100\n",
            "1/1 [==============================] - 0s 5ms/step - loss: 8.7215 - mae: 8.7215\n",
            "Epoch 5/100\n",
            "1/1 [==============================] - 0s 7ms/step - loss: 7.5936 - mae: 7.5936\n",
            "Epoch 6/100\n",
            "1/1 [==============================] - 0s 5ms/step - loss: 7.1257 - mae: 7.1257\n",
            "Epoch 7/100\n",
            "1/1 [==============================] - 0s 5ms/step - loss: 7.5844 - mae: 7.5844\n",
            "Epoch 8/100\n",
            "1/1 [==============================] - 0s 13ms/step - loss: 7.8105 - mae: 7.8105\n",
            "Epoch 9/100\n",
            "1/1 [==============================] - 0s 8ms/step - loss: 7.9485 - mae: 7.9485\n",
            "Epoch 10/100\n",
            "1/1 [==============================] - 0s 7ms/step - loss: 7.7162 - mae: 7.7162\n",
            "Epoch 11/100\n",
            "1/1 [==============================] - 0s 9ms/step - loss: 7.3910 - mae: 7.3910\n",
            "Epoch 12/100\n",
            "1/1 [==============================] - 0s 5ms/step - loss: 7.0392 - mae: 7.0392\n",
            "Epoch 13/100\n",
            "1/1 [==============================] - 0s 4ms/step - loss: 6.6579 - mae: 6.6579\n",
            "Epoch 14/100\n",
            "1/1 [==============================] - 0s 5ms/step - loss: 6.6076 - mae: 6.6076\n",
            "Epoch 15/100\n",
            "1/1 [==============================] - 0s 4ms/step - loss: 6.6673 - mae: 6.6673\n",
            "Epoch 16/100\n",
            "1/1 [==============================] - 0s 4ms/step - loss: 6.7517 - mae: 6.7517\n",
            "Epoch 17/100\n",
            "1/1 [==============================] - 0s 4ms/step - loss: 6.6780 - mae: 6.6780\n",
            "Epoch 18/100\n",
            "1/1 [==============================] - 0s 5ms/step - loss: 6.4699 - mae: 6.4699\n",
            "Epoch 19/100\n",
            "1/1 [==============================] - 0s 5ms/step - loss: 6.2603 - mae: 6.2603\n",
            "Epoch 20/100\n",
            "1/1 [==============================] - 0s 6ms/step - loss: 6.1727 - mae: 6.1727\n",
            "Epoch 21/100\n",
            "1/1 [==============================] - 0s 5ms/step - loss: 6.0875 - mae: 6.0875\n",
            "Epoch 22/100\n",
            "1/1 [==============================] - 0s 4ms/step - loss: 6.0917 - mae: 6.0917\n",
            "Epoch 23/100\n",
            "1/1 [==============================] - 0s 4ms/step - loss: 6.0222 - mae: 6.0222\n",
            "Epoch 24/100\n",
            "1/1 [==============================] - 0s 6ms/step - loss: 5.8873 - mae: 5.8873\n",
            "Epoch 25/100\n",
            "1/1 [==============================] - 0s 4ms/step - loss: 5.7756 - mae: 5.7756\n",
            "Epoch 26/100\n",
            "1/1 [==============================] - 0s 5ms/step - loss: 5.7023 - mae: 5.7023\n",
            "Epoch 27/100\n",
            "1/1 [==============================] - 0s 4ms/step - loss: 5.6250 - mae: 5.6250\n",
            "Epoch 28/100\n",
            "1/1 [==============================] - 0s 6ms/step - loss: 5.5436 - mae: 5.5436\n",
            "Epoch 29/100\n",
            "1/1 [==============================] - 0s 4ms/step - loss: 5.4629 - mae: 5.4629\n",
            "Epoch 30/100\n",
            "1/1 [==============================] - 0s 8ms/step - loss: 5.3575 - mae: 5.3575\n",
            "Epoch 31/100\n",
            "1/1 [==============================] - 0s 4ms/step - loss: 5.2527 - mae: 5.2527\n",
            "Epoch 32/100\n",
            "1/1 [==============================] - 0s 6ms/step - loss: 5.1434 - mae: 5.1434\n",
            "Epoch 33/100\n",
            "1/1 [==============================] - 0s 7ms/step - loss: 5.0294 - mae: 5.0294\n",
            "Epoch 34/100\n",
            "1/1 [==============================] - 0s 5ms/step - loss: 4.9104 - mae: 4.9104\n",
            "Epoch 35/100\n",
            "1/1 [==============================] - 0s 5ms/step - loss: 4.8549 - mae: 4.8549\n",
            "Epoch 36/100\n",
            "1/1 [==============================] - 0s 6ms/step - loss: 4.7386 - mae: 4.7386\n",
            "Epoch 37/100\n",
            "1/1 [==============================] - 0s 5ms/step - loss: 4.5592 - mae: 4.5592\n",
            "Epoch 38/100\n",
            "1/1 [==============================] - 0s 6ms/step - loss: 4.4421 - mae: 4.4421\n",
            "Epoch 39/100\n",
            "1/1 [==============================] - 0s 4ms/step - loss: 4.3177 - mae: 4.3177\n",
            "Epoch 40/100\n",
            "1/1 [==============================] - 0s 5ms/step - loss: 4.1859 - mae: 4.1859\n",
            "Epoch 41/100\n",
            "1/1 [==============================] - 0s 7ms/step - loss: 4.0465 - mae: 4.0465\n",
            "Epoch 42/100\n",
            "1/1 [==============================] - 0s 7ms/step - loss: 3.8992 - mae: 3.8992\n",
            "Epoch 43/100\n",
            "1/1 [==============================] - 0s 14ms/step - loss: 3.7438 - mae: 3.7438\n",
            "Epoch 44/100\n",
            "1/1 [==============================] - 0s 7ms/step - loss: 3.5801 - mae: 3.5801\n",
            "Epoch 45/100\n",
            "1/1 [==============================] - 0s 7ms/step - loss: 3.4077 - mae: 3.4077\n",
            "Epoch 46/100\n",
            "1/1 [==============================] - 0s 7ms/step - loss: 3.2448 - mae: 3.2448\n",
            "Epoch 47/100\n",
            "1/1 [==============================] - 0s 4ms/step - loss: 3.0560 - mae: 3.0560\n",
            "Epoch 48/100\n",
            "1/1 [==============================] - 0s 6ms/step - loss: 2.8752 - mae: 2.8752\n",
            "Epoch 49/100\n",
            "1/1 [==============================] - 0s 6ms/step - loss: 2.6840 - mae: 2.6840\n",
            "Epoch 50/100\n",
            "1/1 [==============================] - 0s 5ms/step - loss: 2.4821 - mae: 2.4821\n",
            "Epoch 51/100\n",
            "1/1 [==============================] - 0s 5ms/step - loss: 2.2693 - mae: 2.2693\n",
            "Epoch 52/100\n",
            "1/1 [==============================] - 0s 5ms/step - loss: 2.0649 - mae: 2.0649\n",
            "Epoch 53/100\n",
            "1/1 [==============================] - 0s 5ms/step - loss: 1.8350 - mae: 1.8350\n",
            "Epoch 54/100\n",
            "1/1 [==============================] - 0s 5ms/step - loss: 1.6394 - mae: 1.6394\n",
            "Epoch 55/100\n",
            "1/1 [==============================] - 0s 5ms/step - loss: 1.3982 - mae: 1.3982\n",
            "Epoch 56/100\n",
            "1/1 [==============================] - 0s 8ms/step - loss: 1.1772 - mae: 1.1772\n",
            "Epoch 57/100\n",
            "1/1 [==============================] - 0s 5ms/step - loss: 0.8637 - mae: 0.8637\n",
            "Epoch 58/100\n",
            "1/1 [==============================] - 0s 4ms/step - loss: 0.7132 - mae: 0.7132\n",
            "Epoch 59/100\n",
            "1/1 [==============================] - 0s 10ms/step - loss: 0.3821 - mae: 0.3821\n",
            "Epoch 60/100\n",
            "1/1 [==============================] - 0s 6ms/step - loss: 0.1253 - mae: 0.1253\n",
            "Epoch 61/100\n",
            "1/1 [==============================] - 0s 6ms/step - loss: 0.3267 - mae: 0.3267\n",
            "Epoch 62/100\n",
            "1/1 [==============================] - 0s 7ms/step - loss: 0.4513 - mae: 0.4513\n",
            "Epoch 63/100\n",
            "1/1 [==============================] - 0s 5ms/step - loss: 0.5957 - mae: 0.5957\n",
            "Epoch 64/100\n",
            "1/1 [==============================] - 0s 6ms/step - loss: 0.7023 - mae: 0.7023\n",
            "Epoch 65/100\n",
            "1/1 [==============================] - 0s 7ms/step - loss: 0.7604 - mae: 0.7604\n",
            "Epoch 66/100\n",
            "1/1 [==============================] - 0s 8ms/step - loss: 0.8627 - mae: 0.8627\n",
            "Epoch 67/100\n",
            "1/1 [==============================] - 0s 9ms/step - loss: 0.7729 - mae: 0.7729\n",
            "Epoch 68/100\n",
            "1/1 [==============================] - 0s 7ms/step - loss: 0.7108 - mae: 0.7108\n",
            "Epoch 69/100\n",
            "1/1 [==============================] - 0s 9ms/step - loss: 0.7567 - mae: 0.7567\n",
            "Epoch 70/100\n",
            "1/1 [==============================] - 0s 6ms/step - loss: 0.5287 - mae: 0.5287\n",
            "Epoch 71/100\n",
            "1/1 [==============================] - 0s 6ms/step - loss: 0.4875 - mae: 0.4875\n",
            "Epoch 72/100\n",
            "1/1 [==============================] - 0s 6ms/step - loss: 0.3027 - mae: 0.3027\n",
            "Epoch 73/100\n",
            "1/1 [==============================] - 0s 7ms/step - loss: 0.1783 - mae: 0.1783\n",
            "Epoch 74/100\n",
            "1/1 [==============================] - 0s 8ms/step - loss: 0.3353 - mae: 0.3353\n",
            "Epoch 75/100\n",
            "1/1 [==============================] - 0s 8ms/step - loss: 0.1778 - mae: 0.1778\n",
            "Epoch 76/100\n",
            "1/1 [==============================] - 0s 8ms/step - loss: 0.5062 - mae: 0.5062\n",
            "Epoch 77/100\n",
            "1/1 [==============================] - 0s 8ms/step - loss: 0.5680 - mae: 0.5680\n",
            "Epoch 78/100\n",
            "1/1 [==============================] - 0s 9ms/step - loss: 0.3577 - mae: 0.3577\n",
            "Epoch 79/100\n",
            "1/1 [==============================] - 0s 9ms/step - loss: 0.7412 - mae: 0.7412\n",
            "Epoch 80/100\n",
            "1/1 [==============================] - 0s 11ms/step - loss: 0.7987 - mae: 0.7987\n",
            "Epoch 81/100\n",
            "1/1 [==============================] - 0s 9ms/step - loss: 0.3757 - mae: 0.3757\n",
            "Epoch 82/100\n",
            "1/1 [==============================] - 0s 10ms/step - loss: 0.6280 - mae: 0.6280\n",
            "Epoch 83/100\n",
            "1/1 [==============================] - 0s 4ms/step - loss: 0.9349 - mae: 0.9349\n",
            "Epoch 84/100\n",
            "1/1 [==============================] - 0s 5ms/step - loss: 0.6845 - mae: 0.6845\n",
            "Epoch 85/100\n",
            "1/1 [==============================] - 0s 5ms/step - loss: 0.0545 - mae: 0.0545\n",
            "Epoch 86/100\n",
            "1/1 [==============================] - 0s 17ms/step - loss: 0.1897 - mae: 0.1897\n",
            "Epoch 87/100\n",
            "1/1 [==============================] - 0s 8ms/step - loss: 0.2243 - mae: 0.2243\n",
            "Epoch 88/100\n",
            "1/1 [==============================] - 0s 10ms/step - loss: 0.1472 - mae: 0.1472\n",
            "Epoch 89/100\n",
            "1/1 [==============================] - 0s 9ms/step - loss: 0.3663 - mae: 0.3663\n",
            "Epoch 90/100\n",
            "1/1 [==============================] - 0s 8ms/step - loss: 0.3250 - mae: 0.3250\n",
            "Epoch 91/100\n",
            "1/1 [==============================] - 0s 5ms/step - loss: 0.1648 - mae: 0.1648\n",
            "Epoch 92/100\n",
            "1/1 [==============================] - 0s 7ms/step - loss: 0.1245 - mae: 0.1245\n",
            "Epoch 93/100\n",
            "1/1 [==============================] - 0s 7ms/step - loss: 0.3694 - mae: 0.3694\n",
            "Epoch 94/100\n",
            "1/1 [==============================] - 0s 6ms/step - loss: 0.3484 - mae: 0.3484\n",
            "Epoch 95/100\n",
            "1/1 [==============================] - 0s 6ms/step - loss: 0.1604 - mae: 0.1604\n",
            "Epoch 96/100\n",
            "1/1 [==============================] - 0s 6ms/step - loss: 0.2821 - mae: 0.2821\n",
            "Epoch 97/100\n",
            "1/1 [==============================] - 0s 8ms/step - loss: 0.0612 - mae: 0.0612\n",
            "Epoch 98/100\n",
            "1/1 [==============================] - 0s 6ms/step - loss: 0.0254 - mae: 0.0254\n",
            "Epoch 99/100\n",
            "1/1 [==============================] - 0s 7ms/step - loss: 0.1762 - mae: 0.1762\n",
            "Epoch 100/100\n",
            "1/1 [==============================] - 0s 7ms/step - loss: 0.1376 - mae: 0.1376\n"
          ],
          "name": "stdout"
        },
        {
          "output_type": "execute_result",
          "data": {
            "text/plain": [
              "<tensorflow.python.keras.callbacks.History at 0x7fbb4970ee50>"
            ]
          },
          "metadata": {
            "tags": []
          },
          "execution_count": 21
        }
      ]
    },
    {
      "cell_type": "code",
      "metadata": {
        "colab": {
          "base_uri": "https://localhost:8080/"
        },
        "id": "ibT5dw5YE5rh",
        "outputId": "375066f2-02a0-4404-e4a4-6e51737ccf4c"
      },
      "source": [
        "model.predict([17.0])"
      ],
      "execution_count": 22,
      "outputs": [
        {
          "output_type": "execute_result",
          "data": {
            "text/plain": [
              "array([[27.198803]], dtype=float32)"
            ]
          },
          "metadata": {
            "tags": []
          },
          "execution_count": 22
        }
      ]
    },
    {
      "cell_type": "code",
      "metadata": {
        "colab": {
          "base_uri": "https://localhost:8080/"
        },
        "id": "mJJCCUe36rz3",
        "outputId": "3d6ff19e-edd2-4f66-bebd-70208a5de723"
      },
      "source": [
        "# Let's see if we can improve our model even more.\n",
        "\n",
        "# 1. Create a model (specified to your problem)\n",
        "model = tf.keras.Sequential([\n",
        "    tf.keras.layers.Dense(1),                             \n",
        "    tf.keras.layers.Dense(50, activation='relu'),\n",
        "    tf.keras.layers.Dense(100, activation='relu'),                             \n",
        "    tf.keras.layers.Dense(100, activation='relu'),\n",
        "    tf.keras.layers.Dense(1)                             \n",
        "])\n",
        "\n",
        "# 2. Compile the model\n",
        "model.compile(loss=tf.keras.losses.mae,\n",
        "              optimizer=tf.keras.optimizers.Adam(learning_rate=0.01),\n",
        "              metrics=['mae'])\n",
        "\n",
        "# 3. Fit the model\n",
        "model.fit(X, Y, epochs=100)"
      ],
      "execution_count": 23,
      "outputs": [
        {
          "output_type": "stream",
          "text": [
            "Epoch 1/100\n",
            "1/1 [==============================] - 0s 448ms/step - loss: 13.4856 - mae: 13.4856\n",
            "Epoch 2/100\n",
            "1/1 [==============================] - 0s 7ms/step - loss: 10.7349 - mae: 10.7349\n",
            "Epoch 3/100\n",
            "1/1 [==============================] - 0s 5ms/step - loss: 8.6027 - mae: 8.6027\n",
            "Epoch 4/100\n",
            "1/1 [==============================] - 0s 6ms/step - loss: 5.4408 - mae: 5.4408\n",
            "Epoch 5/100\n",
            "1/1 [==============================] - 0s 7ms/step - loss: 5.2617 - mae: 5.2617\n",
            "Epoch 6/100\n",
            "1/1 [==============================] - 0s 6ms/step - loss: 6.2829 - mae: 6.2829\n",
            "Epoch 7/100\n",
            "1/1 [==============================] - 0s 8ms/step - loss: 5.8664 - mae: 5.8664\n",
            "Epoch 8/100\n",
            "1/1 [==============================] - 0s 9ms/step - loss: 4.7583 - mae: 4.7583\n",
            "Epoch 9/100\n",
            "1/1 [==============================] - 0s 8ms/step - loss: 3.8154 - mae: 3.8154\n",
            "Epoch 10/100\n",
            "1/1 [==============================] - 0s 10ms/step - loss: 4.5063 - mae: 4.5063\n",
            "Epoch 11/100\n",
            "1/1 [==============================] - 0s 4ms/step - loss: 5.0228 - mae: 5.0228\n",
            "Epoch 12/100\n",
            "1/1 [==============================] - 0s 10ms/step - loss: 4.7170 - mae: 4.7170\n",
            "Epoch 13/100\n",
            "1/1 [==============================] - 0s 10ms/step - loss: 3.7572 - mae: 3.7572\n",
            "Epoch 14/100\n",
            "1/1 [==============================] - 0s 9ms/step - loss: 3.5986 - mae: 3.5986\n",
            "Epoch 15/100\n",
            "1/1 [==============================] - 0s 6ms/step - loss: 3.7928 - mae: 3.7928\n",
            "Epoch 16/100\n",
            "1/1 [==============================] - 0s 9ms/step - loss: 3.9253 - mae: 3.9253\n",
            "Epoch 17/100\n",
            "1/1 [==============================] - 0s 6ms/step - loss: 3.6496 - mae: 3.6496\n",
            "Epoch 18/100\n",
            "1/1 [==============================] - 0s 6ms/step - loss: 3.4915 - mae: 3.4915\n",
            "Epoch 19/100\n",
            "1/1 [==============================] - 0s 13ms/step - loss: 3.3061 - mae: 3.3061\n",
            "Epoch 20/100\n",
            "1/1 [==============================] - 0s 6ms/step - loss: 3.3541 - mae: 3.3541\n",
            "Epoch 21/100\n",
            "1/1 [==============================] - 0s 5ms/step - loss: 3.4356 - mae: 3.4356\n",
            "Epoch 22/100\n",
            "1/1 [==============================] - 0s 7ms/step - loss: 3.2183 - mae: 3.2183\n",
            "Epoch 23/100\n",
            "1/1 [==============================] - 0s 5ms/step - loss: 3.0544 - mae: 3.0544\n",
            "Epoch 24/100\n",
            "1/1 [==============================] - 0s 8ms/step - loss: 3.0592 - mae: 3.0592\n",
            "Epoch 25/100\n",
            "1/1 [==============================] - 0s 6ms/step - loss: 3.0182 - mae: 3.0182\n",
            "Epoch 26/100\n",
            "1/1 [==============================] - 0s 9ms/step - loss: 2.9283 - mae: 2.9283\n",
            "Epoch 27/100\n",
            "1/1 [==============================] - 0s 5ms/step - loss: 2.7976 - mae: 2.7976\n",
            "Epoch 28/100\n",
            "1/1 [==============================] - 0s 6ms/step - loss: 2.6232 - mae: 2.6232\n",
            "Epoch 29/100\n",
            "1/1 [==============================] - 0s 8ms/step - loss: 2.4306 - mae: 2.4306\n",
            "Epoch 30/100\n",
            "1/1 [==============================] - 0s 9ms/step - loss: 2.3046 - mae: 2.3046\n",
            "Epoch 31/100\n",
            "1/1 [==============================] - 0s 8ms/step - loss: 2.1315 - mae: 2.1315\n",
            "Epoch 32/100\n",
            "1/1 [==============================] - 0s 8ms/step - loss: 1.9063 - mae: 1.9063\n",
            "Epoch 33/100\n",
            "1/1 [==============================] - 0s 9ms/step - loss: 1.7297 - mae: 1.7297\n",
            "Epoch 34/100\n",
            "1/1 [==============================] - 0s 7ms/step - loss: 1.5347 - mae: 1.5347\n",
            "Epoch 35/100\n",
            "1/1 [==============================] - 0s 7ms/step - loss: 1.0757 - mae: 1.0757\n",
            "Epoch 36/100\n",
            "1/1 [==============================] - 0s 8ms/step - loss: 0.8990 - mae: 0.8990\n",
            "Epoch 37/100\n",
            "1/1 [==============================] - 0s 7ms/step - loss: 0.7102 - mae: 0.7102\n",
            "Epoch 38/100\n",
            "1/1 [==============================] - 0s 8ms/step - loss: 0.7006 - mae: 0.7006\n",
            "Epoch 39/100\n",
            "1/1 [==============================] - 0s 7ms/step - loss: 1.0734 - mae: 1.0734\n",
            "Epoch 40/100\n",
            "1/1 [==============================] - 0s 9ms/step - loss: 1.1424 - mae: 1.1424\n",
            "Epoch 41/100\n",
            "1/1 [==============================] - 0s 14ms/step - loss: 0.3940 - mae: 0.3940\n",
            "Epoch 42/100\n",
            "1/1 [==============================] - 0s 8ms/step - loss: 0.5369 - mae: 0.5369\n",
            "Epoch 43/100\n",
            "1/1 [==============================] - 0s 8ms/step - loss: 0.6086 - mae: 0.6086\n",
            "Epoch 44/100\n",
            "1/1 [==============================] - 0s 16ms/step - loss: 0.6310 - mae: 0.6310\n",
            "Epoch 45/100\n",
            "1/1 [==============================] - 0s 7ms/step - loss: 0.4602 - mae: 0.4602\n",
            "Epoch 46/100\n",
            "1/1 [==============================] - 0s 8ms/step - loss: 0.9280 - mae: 0.9280\n",
            "Epoch 47/100\n",
            "1/1 [==============================] - 0s 8ms/step - loss: 0.5988 - mae: 0.5988\n",
            "Epoch 48/100\n",
            "1/1 [==============================] - 0s 10ms/step - loss: 0.8793 - mae: 0.8793\n",
            "Epoch 49/100\n",
            "1/1 [==============================] - 0s 8ms/step - loss: 1.1357 - mae: 1.1357\n",
            "Epoch 50/100\n",
            "1/1 [==============================] - 0s 9ms/step - loss: 0.4983 - mae: 0.4983\n",
            "Epoch 51/100\n",
            "1/1 [==============================] - 0s 8ms/step - loss: 0.6756 - mae: 0.6756\n",
            "Epoch 52/100\n",
            "1/1 [==============================] - 0s 9ms/step - loss: 0.7663 - mae: 0.7663\n",
            "Epoch 53/100\n",
            "1/1 [==============================] - 0s 9ms/step - loss: 0.4419 - mae: 0.4419\n",
            "Epoch 54/100\n",
            "1/1 [==============================] - 0s 6ms/step - loss: 0.8260 - mae: 0.8260\n",
            "Epoch 55/100\n",
            "1/1 [==============================] - 0s 9ms/step - loss: 0.8223 - mae: 0.8223\n",
            "Epoch 56/100\n",
            "1/1 [==============================] - 0s 10ms/step - loss: 0.2882 - mae: 0.2882\n",
            "Epoch 57/100\n",
            "1/1 [==============================] - 0s 8ms/step - loss: 0.7906 - mae: 0.7906\n",
            "Epoch 58/100\n",
            "1/1 [==============================] - 0s 10ms/step - loss: 0.4674 - mae: 0.4674\n",
            "Epoch 59/100\n",
            "1/1 [==============================] - 0s 9ms/step - loss: 0.7140 - mae: 0.7140\n",
            "Epoch 60/100\n",
            "1/1 [==============================] - 0s 8ms/step - loss: 0.9320 - mae: 0.9320\n",
            "Epoch 61/100\n",
            "1/1 [==============================] - 0s 12ms/step - loss: 0.4887 - mae: 0.4887\n",
            "Epoch 62/100\n",
            "1/1 [==============================] - 0s 8ms/step - loss: 1.2413 - mae: 1.2413\n",
            "Epoch 63/100\n",
            "1/1 [==============================] - 0s 10ms/step - loss: 1.3074 - mae: 1.3074\n",
            "Epoch 64/100\n",
            "1/1 [==============================] - 0s 7ms/step - loss: 0.6138 - mae: 0.6138\n",
            "Epoch 65/100\n",
            "1/1 [==============================] - 0s 9ms/step - loss: 1.1741 - mae: 1.1741\n",
            "Epoch 66/100\n",
            "1/1 [==============================] - 0s 8ms/step - loss: 1.6321 - mae: 1.6321\n",
            "Epoch 67/100\n",
            "1/1 [==============================] - 0s 10ms/step - loss: 1.2734 - mae: 1.2734\n",
            "Epoch 68/100\n",
            "1/1 [==============================] - 0s 6ms/step - loss: 0.3285 - mae: 0.3285\n",
            "Epoch 69/100\n",
            "1/1 [==============================] - 0s 8ms/step - loss: 1.6471 - mae: 1.6471\n",
            "Epoch 70/100\n",
            "1/1 [==============================] - 0s 6ms/step - loss: 2.2840 - mae: 2.2840\n",
            "Epoch 71/100\n",
            "1/1 [==============================] - 0s 8ms/step - loss: 1.7904 - mae: 1.7904\n",
            "Epoch 72/100\n",
            "1/1 [==============================] - 0s 9ms/step - loss: 0.4971 - mae: 0.4971\n",
            "Epoch 73/100\n",
            "1/1 [==============================] - 0s 7ms/step - loss: 1.3722 - mae: 1.3722\n",
            "Epoch 74/100\n",
            "1/1 [==============================] - 0s 8ms/step - loss: 2.1452 - mae: 2.1452\n",
            "Epoch 75/100\n",
            "1/1 [==============================] - 0s 7ms/step - loss: 2.1867 - mae: 2.1867\n",
            "Epoch 76/100\n",
            "1/1 [==============================] - 0s 8ms/step - loss: 1.5944 - mae: 1.5944\n",
            "Epoch 77/100\n",
            "1/1 [==============================] - 0s 8ms/step - loss: 0.4505 - mae: 0.4505\n",
            "Epoch 78/100\n",
            "1/1 [==============================] - 0s 8ms/step - loss: 1.5730 - mae: 1.5730\n",
            "Epoch 79/100\n",
            "1/1 [==============================] - 0s 11ms/step - loss: 2.4798 - mae: 2.4798\n",
            "Epoch 80/100\n",
            "1/1 [==============================] - 0s 6ms/step - loss: 2.3161 - mae: 2.3161\n",
            "Epoch 81/100\n",
            "1/1 [==============================] - 0s 6ms/step - loss: 1.2433 - mae: 1.2433\n",
            "Epoch 82/100\n",
            "1/1 [==============================] - 0s 12ms/step - loss: 0.4507 - mae: 0.4507\n",
            "Epoch 83/100\n",
            "1/1 [==============================] - 0s 7ms/step - loss: 1.1773 - mae: 1.1773\n",
            "Epoch 84/100\n",
            "1/1 [==============================] - 0s 9ms/step - loss: 1.1784 - mae: 1.1784\n",
            "Epoch 85/100\n",
            "1/1 [==============================] - 0s 6ms/step - loss: 0.5400 - mae: 0.5400\n",
            "Epoch 86/100\n",
            "1/1 [==============================] - 0s 7ms/step - loss: 0.7709 - mae: 0.7709\n",
            "Epoch 87/100\n",
            "1/1 [==============================] - 0s 12ms/step - loss: 1.2745 - mae: 1.2745\n",
            "Epoch 88/100\n",
            "1/1 [==============================] - 0s 6ms/step - loss: 0.9439 - mae: 0.9439\n",
            "Epoch 89/100\n",
            "1/1 [==============================] - 0s 6ms/step - loss: 0.2459 - mae: 0.2459\n",
            "Epoch 90/100\n",
            "1/1 [==============================] - 0s 11ms/step - loss: 0.9704 - mae: 0.9704\n",
            "Epoch 91/100\n",
            "1/1 [==============================] - 0s 6ms/step - loss: 1.1210 - mae: 1.1210\n",
            "Epoch 92/100\n",
            "1/1 [==============================] - 0s 7ms/step - loss: 0.7161 - mae: 0.7161\n",
            "Epoch 93/100\n",
            "1/1 [==============================] - 0s 9ms/step - loss: 0.3490 - mae: 0.3490\n",
            "Epoch 94/100\n",
            "1/1 [==============================] - 0s 8ms/step - loss: 0.8263 - mae: 0.8263\n",
            "Epoch 95/100\n",
            "1/1 [==============================] - 0s 10ms/step - loss: 0.6148 - mae: 0.6148\n",
            "Epoch 96/100\n",
            "1/1 [==============================] - 0s 12ms/step - loss: 0.3643 - mae: 0.3643\n",
            "Epoch 97/100\n",
            "1/1 [==============================] - 0s 8ms/step - loss: 0.5037 - mae: 0.5037\n",
            "Epoch 98/100\n",
            "1/1 [==============================] - 0s 7ms/step - loss: 0.2722 - mae: 0.2722\n",
            "Epoch 99/100\n",
            "1/1 [==============================] - 0s 6ms/step - loss: 0.3333 - mae: 0.3333\n",
            "Epoch 100/100\n",
            "1/1 [==============================] - 0s 10ms/step - loss: 0.2730 - mae: 0.2730\n"
          ],
          "name": "stdout"
        },
        {
          "output_type": "execute_result",
          "data": {
            "text/plain": [
              "<tensorflow.python.keras.callbacks.History at 0x7fbb48578290>"
            ]
          },
          "metadata": {
            "tags": []
          },
          "execution_count": 23
        }
      ]
    },
    {
      "cell_type": "code",
      "metadata": {
        "colab": {
          "base_uri": "https://localhost:8080/"
        },
        "id": "RQBfpLK5CLnm",
        "outputId": "e815ae88-b3a8-4838-eb53-74806b90b080"
      },
      "source": [
        "model.predict([17.0])"
      ],
      "execution_count": 24,
      "outputs": [
        {
          "output_type": "stream",
          "text": [
            "WARNING:tensorflow:5 out of the last 5 calls to <function Model.make_predict_function.<locals>.predict_function at 0x7fbb47c8e5f0> triggered tf.function retracing. Tracing is expensive and the excessive number of tracings could be due to (1) creating @tf.function repeatedly in a loop, (2) passing tensors with different shapes, (3) passing Python objects instead of tensors. For (1), please define your @tf.function outside of the loop. For (2), @tf.function has experimental_relax_shapes=True option that relaxes argument shapes that can avoid unnecessary retracing. For (3), please refer to https://www.tensorflow.org/guide/function#controlling_retracing and https://www.tensorflow.org/api_docs/python/tf/function for  more details.\n"
          ],
          "name": "stdout"
        },
        {
          "output_type": "execute_result",
          "data": {
            "text/plain": [
              "array([[27.076826]], dtype=float32)"
            ]
          },
          "metadata": {
            "tags": []
          },
          "execution_count": 24
        }
      ]
    },
    {
      "cell_type": "markdown",
      "metadata": {
        "id": "Sj0EuPAw7wfS"
      },
      "source": [
        "### Evalutating the model\n",
        "\n",
        "In practice, a typical workflow you go through when building neural networks is:\n",
        "\n",
        "```\n",
        "Build a model -> fit it -> evaluate it -> tweak a model -> fit it -> evaluate it -> tweak a model -> evaluate it...\n",
        "```"
      ]
    },
    {
      "cell_type": "markdown",
      "metadata": {
        "id": "k4zlYegRJ7Wo"
      },
      "source": [
        "When it comes to evaluation... there are 3 words you should memorize:\n",
        "\n",
        "> \"Visualize, visualize, visualize\"\n",
        "\n",
        "It's a good idea to visualize:\n",
        "\n",
        "* The data - What data are we working with? What does it look like?\n",
        "* The training of a model - how does a model perform while it learns?\n",
        "* The predictions of the model - how do the predictions of a model line up against the ground turths(the original labels)."
      ]
    },
    {
      "cell_type": "code",
      "metadata": {
        "colab": {
          "base_uri": "https://localhost:8080/"
        },
        "id": "vNA_JlFzK9WB",
        "outputId": "01330964-d6d1-42fd-8036-446a11667109"
      },
      "source": [
        "# Make a bigger dataset\n",
        "X = tf.range(-100, 100, 4)\n",
        "X"
      ],
      "execution_count": 25,
      "outputs": [
        {
          "output_type": "execute_result",
          "data": {
            "text/plain": [
              "<tf.Tensor: shape=(50,), dtype=int32, numpy=\n",
              "array([-100,  -96,  -92,  -88,  -84,  -80,  -76,  -72,  -68,  -64,  -60,\n",
              "        -56,  -52,  -48,  -44,  -40,  -36,  -32,  -28,  -24,  -20,  -16,\n",
              "        -12,   -8,   -4,    0,    4,    8,   12,   16,   20,   24,   28,\n",
              "         32,   36,   40,   44,   48,   52,   56,   60,   64,   68,   72,\n",
              "         76,   80,   84,   88,   92,   96], dtype=int32)>"
            ]
          },
          "metadata": {
            "tags": []
          },
          "execution_count": 25
        }
      ]
    },
    {
      "cell_type": "code",
      "metadata": {
        "colab": {
          "base_uri": "https://localhost:8080/"
        },
        "id": "cuJQPfaQLrBV",
        "outputId": "1617df7a-a09a-41cf-e640-a81c8842e2f1"
      },
      "source": [
        "# Make labels for the dataset\n",
        "Y = X + 10\n",
        "Y"
      ],
      "execution_count": 26,
      "outputs": [
        {
          "output_type": "execute_result",
          "data": {
            "text/plain": [
              "<tf.Tensor: shape=(50,), dtype=int32, numpy=\n",
              "array([-90, -86, -82, -78, -74, -70, -66, -62, -58, -54, -50, -46, -42,\n",
              "       -38, -34, -30, -26, -22, -18, -14, -10,  -6,  -2,   2,   6,  10,\n",
              "        14,  18,  22,  26,  30,  34,  38,  42,  46,  50,  54,  58,  62,\n",
              "        66,  70,  74,  78,  82,  86,  90,  94,  98, 102, 106], dtype=int32)>"
            ]
          },
          "metadata": {
            "tags": []
          },
          "execution_count": 26
        }
      ]
    },
    {
      "cell_type": "code",
      "metadata": {
        "colab": {
          "base_uri": "https://localhost:8080/",
          "height": 282
        },
        "id": "hz4x3VeALzfQ",
        "outputId": "9c3759af-28ab-4df3-a97f-16bc2dd68ece"
      },
      "source": [
        "# Visualize the data\n",
        "plt.scatter(X, Y)"
      ],
      "execution_count": 27,
      "outputs": [
        {
          "output_type": "execute_result",
          "data": {
            "text/plain": [
              "<matplotlib.collections.PathCollection at 0x7fbb473fdf50>"
            ]
          },
          "metadata": {
            "tags": []
          },
          "execution_count": 27
        },
        {
          "output_type": "display_data",
          "data": {
            "image/png": "[encoded data removed]",
            "text/plain": [
              "<Figure size 432x288 with 1 Axes>"
            ]
          },
          "metadata": {
            "tags": [],
            "needs_background": "light"
          }
        }
      ]
    },
    {
      "cell_type": "code",
      "metadata": {
        "colab": {
          "base_uri": "https://localhost:8080/"
        },
        "id": "KeiBcOI-MzIq",
        "outputId": "762611da-dbe9-41bd-c63e-58f622feeada"
      },
      "source": [
        "# Check the length of how may many samples we have\n",
        "len(X)"
      ],
      "execution_count": 28,
      "outputs": [
        {
          "output_type": "execute_result",
          "data": {
            "text/plain": [
              "50"
            ]
          },
          "metadata": {
            "tags": []
          },
          "execution_count": 28
        }
      ]
    },
    {
      "cell_type": "code",
      "metadata": {
        "colab": {
          "base_uri": "https://localhost:8080/"
        },
        "id": "S77CuF0uL-14",
        "outputId": "fabbe6a5-da11-4f9b-e5fe-d5160a74a4fc"
      },
      "source": [
        "# Split the data into training and testing data sets\n",
        "\n",
        "# Training data, first 40 are training samples (80% of the data)\n",
        "X_train = X[:40]\n",
        "Y_train = Y[:40]\n",
        "\n",
        "# Testing data, last 10 are testing samples (20% of the data)\n",
        "X_test = X[40:]\n",
        "Y_test = Y[40:]\n",
        "\n",
        "len(X_train), len(Y_train), len(X_test), len(Y_test)"
      ],
      "execution_count": 29,
      "outputs": [
        {
          "output_type": "execute_result",
          "data": {
            "text/plain": [
              "(40, 40, 10, 10)"
            ]
          },
          "metadata": {
            "tags": []
          },
          "execution_count": 29
        }
      ]
    },
    {
      "cell_type": "markdown",
      "metadata": {
        "id": "krv4VEDaNoAp"
      },
      "source": [
        "### Visualizing the data\n",
        "\n",
        "Now we have got our data in training and test sets...let's visualize it again!"
      ]
    },
    {
      "cell_type": "code",
      "metadata": {
        "colab": {
          "base_uri": "https://localhost:8080/",
          "height": 428
        },
        "id": "rzsJ6jleONM1",
        "outputId": "7bc1e08e-0255-4113-af82-10993e262928"
      },
      "source": [
        "plt.figure(figsize=(10, 7))\n",
        "# Plot training data in blue\n",
        "plt.scatter(X_train, Y_train, color='b', label='Training data')\n",
        "# Plot test data in green\n",
        "plt.scatter(X_test, Y_test, color='g', label='Testing data')\n",
        "# Show a legend\n",
        "plt.legend();"
      ],
      "execution_count": 30,
      "outputs": [
        {
          "output_type": "display_data",
          "data": {
            "image/png": "[encoded data removed]",
            "text/plain": [
              "<Figure size 720x504 with 1 Axes>"
            ]
          },
          "metadata": {
            "tags": [],
            "needs_background": "light"
          }
        }
      ]
    },
    {
      "cell_type": "code",
      "metadata": {
        "id": "ehFg201SPMMI"
      },
      "source": [
        "# Let's build a neual network for our data\n",
        "\n",
        "# 1. Create the model\n",
        "model = tf.keras.Sequential([\n",
        "    tf.keras.layers.Dense(1)                             \n",
        "])\n",
        "\n",
        "# 2. Compile the model\n",
        "model.compile(loss=tf.keras.losses.mae,\n",
        "              optimizer=tf.keras.optimizers.SGD(),\n",
        "              metrics=['mae'])\n",
        "\n",
        "# # 3. Fit the model\n",
        "# model.fit(X_train, Y_train, epochs=100)"
      ],
      "execution_count": 31,
      "outputs": []
    },
    {
      "cell_type": "markdown",
      "metadata": {
        "id": "YBrUFnWtV-QV"
      },
      "source": [
        "### Visualizing the model"
      ]
    },
    {
      "cell_type": "code",
      "metadata": {
        "colab": {
          "base_uri": "https://localhost:8080/",
          "height": 282
        },
        "id": "9sLL1fuMWGqL",
        "outputId": "e73596c2-ec5b-4ccf-d7dd-a6b635268bd8"
      },
      "source": [
        "model.summary()"
      ],
      "execution_count": 33,
      "outputs": [
        {
          "output_type": "error",
          "ename": "ValueError",
          "evalue": "ignored",
          "traceback": [
            "\u001b[0;31m---------------------------------------------------------------------------\u001b[0m",
            "\u001b[0;31mValueError\u001b[0m                                Traceback (most recent call last)",
            "\u001b[0;32m<ipython-input-33-5f15418b3570>\u001b[0m in \u001b[0;36m<module>\u001b[0;34m()\u001b[0m\n\u001b[0;32m----> 1\u001b[0;31m \u001b[0mmodel\u001b[0m\u001b[0;34m.\u001b[0m\u001b[0msummary\u001b[0m\u001b[0;34m(\u001b[0m\u001b[0;34m)\u001b[0m\u001b[0;34m\u001b[0m\u001b[0;34m\u001b[0m\u001b[0m\n\u001b[0m",
            "\u001b[0;32m/usr/local/lib/python3.7/dist-packages/tensorflow/python/keras/engine/training.py\u001b[0m in \u001b[0;36msummary\u001b[0;34m(self, line_length, positions, print_fn)\u001b[0m\n\u001b[1;32m   2475\u001b[0m     \"\"\"\n\u001b[1;32m   2476\u001b[0m     \u001b[0;32mif\u001b[0m \u001b[0;32mnot\u001b[0m \u001b[0mself\u001b[0m\u001b[0;34m.\u001b[0m\u001b[0mbuilt\u001b[0m\u001b[0;34m:\u001b[0m\u001b[0;34m\u001b[0m\u001b[0;34m\u001b[0m\u001b[0m\n\u001b[0;32m-> 2477\u001b[0;31m       raise ValueError('This model has not yet been built. '\n\u001b[0m\u001b[1;32m   2478\u001b[0m                        \u001b[0;34m'Build the model first by calling `build()` or calling '\u001b[0m\u001b[0;34m\u001b[0m\u001b[0;34m\u001b[0m\u001b[0m\n\u001b[1;32m   2479\u001b[0m                        \u001b[0;34m'`fit()` with some data, or specify '\u001b[0m\u001b[0;34m\u001b[0m\u001b[0;34m\u001b[0m\u001b[0m\n",
            "\u001b[0;31mValueError\u001b[0m: This model has not yet been built. Build the model first by calling `build()` or calling `fit()` with some data, or specify an `input_shape` argument in the first layer(s) for automatic build."
          ]
        }
      ]
    },
    {
      "cell_type": "code",
      "metadata": {
        "id": "WrNHp_gfWImK"
      },
      "source": [
        "# Let's create a model which buillds automatically by defining the input_shape argument in the first layer\n",
        "tf.random.set_seed(42)\n",
        "\n",
        "# Create a model\n",
        "model = tf.keras.Sequential([\n",
        "    tf.keras.layers.Dense(10, input_shape=[1], name='input_layer'),\n",
        "    tf.keras.layers.Dense(1, name='output_layer')\n",
        "\n",
        "])\n",
        "\n",
        "# compiling the model\n",
        "model.compile(loss=tf.keras.losses.mae,\n",
        "              optimizer=tf.keras.optimizers.SGD(),\n",
        "              metrics=['mae'])\n"
      ],
      "execution_count": 34,
      "outputs": []
    },
    {
      "cell_type": "code",
      "metadata": {
        "colab": {
          "base_uri": "https://localhost:8080/"
        },
        "id": "6M6djDBZXSG0",
        "outputId": "f92e108d-a187-4055-8f17-16657c64566e"
      },
      "source": [
        "model.summary()"
      ],
      "execution_count": 35,
      "outputs": [
        {
          "output_type": "stream",
          "text": [
            "Model: \"sequential_6\"\n",
            "_________________________________________________________________\n",
            "Layer (type)                 Output Shape              Param #   \n",
            "=================================================================\n",
            "input_layer (Dense)          (None, 10)                20        \n",
            "_________________________________________________________________\n",
            "output_layer (Dense)         (None, 1)                 11        \n",
            "=================================================================\n",
            "Total params: 31\n",
            "Trainable params: 31\n",
            "Non-trainable params: 0\n",
            "_________________________________________________________________\n"
          ],
          "name": "stdout"
        }
      ]
    },
    {
      "cell_type": "markdown",
      "metadata": {
        "id": "bsohibS8XTSi"
      },
      "source": [
        "* **Total params** - total number of parameters in the model.\n",
        "* **Trainable parameter**s - these are the parameters (patterns) the model can update as it trains\n",
        "* **Non-trainable params** - these parameters aren't updated during training (this is typical when you bring n already learned patterns or parameters from other models during **Transfer Learning**)."
      ]
    },
    {
      "cell_type": "code",
      "metadata": {
        "id": "5vWyCgfMaWIF",
        "colab": {
          "base_uri": "https://localhost:8080/"
        },
        "outputId": "a0635cb3-043e-4e8f-bcbe-6d415e22c651"
      },
      "source": [
        "# Let's fit our model to the training data\n",
        "model.fit(X_train, Y_train, epochs=100, verbose=0)"
      ],
      "execution_count": 36,
      "outputs": [
        {
          "output_type": "execute_result",
          "data": {
            "text/plain": [
              "<tensorflow.python.keras.callbacks.History at 0x7fbb46a3ef50>"
            ]
          },
          "metadata": {
            "tags": []
          },
          "execution_count": 36
        }
      ]
    },
    {
      "cell_type": "code",
      "metadata": {
        "colab": {
          "base_uri": "https://localhost:8080/"
        },
        "id": "gZ9E-l__Dc7t",
        "outputId": "8ce97c15-fb01-4607-d295-01fec947cbfd"
      },
      "source": [
        "# Get a summary of our model\n",
        "model.summary()"
      ],
      "execution_count": 37,
      "outputs": [
        {
          "output_type": "stream",
          "text": [
            "Model: \"sequential_6\"\n",
            "_________________________________________________________________\n",
            "Layer (type)                 Output Shape              Param #   \n",
            "=================================================================\n",
            "input_layer (Dense)          (None, 10)                20        \n",
            "_________________________________________________________________\n",
            "output_layer (Dense)         (None, 1)                 11        \n",
            "=================================================================\n",
            "Total params: 31\n",
            "Trainable params: 31\n",
            "Non-trainable params: 0\n",
            "_________________________________________________________________\n"
          ],
          "name": "stdout"
        }
      ]
    },
    {
      "cell_type": "code",
      "metadata": {
        "colab": {
          "base_uri": "https://localhost:8080/",
          "height": 312
        },
        "id": "bZyVeddjDxvv",
        "outputId": "1ec3e7c4-4525-4c6f-f1bf-42afab7af899"
      },
      "source": [
        "from tensorflow.keras.utils import plot_model\n",
        "\n",
        "plot_model(model=model, show_shapes=True)"
      ],
      "execution_count": 38,
      "outputs": [
        {
          "output_type": "execute_result",
          "data": {
            "image/png": "[encoded data removed]",
            "text/plain": [
              "<IPython.core.display.Image object>"
            ]
          },
          "metadata": {
            "tags": []
          },
          "execution_count": 38
        }
      ]
    },
    {
      "cell_type": "markdown",
      "metadata": {
        "id": "MifS6O62HRCc"
      },
      "source": [
        " ### Visualizing our model's predictions\n",
        "\n",
        " To visualize predictions, it's a good idea to plot them against the ground trught labels.\n",
        "\n",
        " Often you will see this in the form of `y_test` or `y_true` versus `y_pred` (groudn truth versus your model's predictions)."
      ]
    },
    {
      "cell_type": "code",
      "metadata": {
        "id": "lGvBplyCJcDM",
        "colab": {
          "base_uri": "https://localhost:8080/"
        },
        "outputId": "c1c50eb0-d5b6-4627-a2c2-3d1e8196366c"
      },
      "source": [
        "# Make some predcitions\n",
        "Y_pred = model.predict(X_test)\n",
        "Y_pred"
      ],
      "execution_count": 44,
      "outputs": [
        {
          "output_type": "execute_result",
          "data": {
            "text/plain": [
              "array([[ 70.55218 ],\n",
              "       [ 75.13991 ],\n",
              "       [ 79.72763 ],\n",
              "       [ 84.31535 ],\n",
              "       [ 88.903076],\n",
              "       [ 93.49081 ],\n",
              "       [ 98.07853 ],\n",
              "       [102.66625 ],\n",
              "       [107.253975],\n",
              "       [111.8417  ]], dtype=float32)"
            ]
          },
          "metadata": {
            "tags": []
          },
          "execution_count": 44
        }
      ]
    },
    {
      "cell_type": "code",
      "metadata": {
        "colab": {
          "base_uri": "https://localhost:8080/"
        },
        "id": "wc0vsyOCS7EW",
        "outputId": "7e1f0bd9-a4f1-48b9-8cb4-a76dd9dd506c"
      },
      "source": [
        "Y_test"
      ],
      "execution_count": 45,
      "outputs": [
        {
          "output_type": "execute_result",
          "data": {
            "text/plain": [
              "<tf.Tensor: shape=(10,), dtype=int32, numpy=array([ 70,  74,  78,  82,  86,  90,  94,  98, 102, 106], dtype=int32)>"
            ]
          },
          "metadata": {
            "tags": []
          },
          "execution_count": 45
        }
      ]
    },
    {
      "cell_type": "code",
      "metadata": {
        "id": "BpZ_PNFUTLr4"
      },
      "source": [
        "# Let's create a plotting function\n",
        "def plot_predictions(train_data=X_train,\n",
        "                     train_labels=Y_train,\n",
        "                     test_data=X_test,\n",
        "                     test_labels=Y_test,\n",
        "                     predictions=Y_pred):\n",
        "  \"\"\"\n",
        "  Plots training data, test data and compares predictions to ground truth labels.\n",
        "  \"\"\"\n",
        "\n",
        "  plt.figure(figsize=(10, 7))\n",
        "  # plot training data in blue\n",
        "  plt.scatter(train_data, train_labels, c='b', label='Training data')\n",
        "  # plot testing data in green\n",
        "  plt.scatter(test_data, test_labels, c='g', label='Testing data')\n",
        "  # plot model's predictions in red\n",
        "  plt.scatter(test_data, predictions, c='r')\n",
        "  # show the legends\n",
        "  plt.legend();"
      ],
      "execution_count": 48,
      "outputs": []
    },
    {
      "cell_type": "code",
      "metadata": {
        "colab": {
          "base_uri": "https://localhost:8080/",
          "height": 428
        },
        "id": "vdfCoh4KVKSA",
        "outputId": "4e64c1e9-99b0-49ed-9c5e-dcffb726ab6d"
      },
      "source": [
        "plot_predictions(train_data=X_train, train_labels=Y_train, test_data=X_test, test_labels=Y_test, predictions=Y_pred)"
      ],
      "execution_count": 50,
      "outputs": [
        {
          "output_type": "display_data",
          "data": {
            "image/png": "[encoded data removed]",
            "text/plain": [
              "<Figure size 720x504 with 1 Axes>"
            ]
          },
          "metadata": {
            "tags": [],
            "needs_background": "light"
          }
        }
      ]
    },
    {
      "cell_type": "markdown",
      "metadata": {
        "id": "CcRwoW-uVO84"
      },
      "source": [
        "### Evaluating our model's predictions with regression evaluation metrics\n",
        "\n",
        "Depending on the problem you are working on, there will be different evaluation metrics to evaluate your model's performance.\n",
        "\n",
        "Since we are working on a regression, two of the main metrics are:\n",
        "* MAE - mean absolute error, \"on average, how wrong is each of my model's predictions are\".\n",
        "* MSE - mean squared error, \"square the average errors\"."
      ]
    },
    {
      "cell_type": "code",
      "metadata": {
        "colab": {
          "base_uri": "https://localhost:8080/"
        },
        "id": "1RoD_RySWcJD",
        "outputId": "cf83c196-b957-444d-e541-a2e9fecf255c"
      },
      "source": [
        "# Evaluate the model on the test\n",
        "model.evaluate(X_test, Y_test)"
      ],
      "execution_count": 51,
      "outputs": [
        {
          "output_type": "stream",
          "text": [
            "1/1 [==============================] - 0s 138ms/step - loss: 3.1969 - mae: 3.1969\n"
          ],
          "name": "stdout"
        },
        {
          "output_type": "execute_result",
          "data": {
            "text/plain": [
              "[3.196942090988159, 3.196942090988159]"
            ]
          },
          "metadata": {
            "tags": []
          },
          "execution_count": 51
        }
      ]
    },
    {
      "cell_type": "code",
      "metadata": {
        "colab": {
          "base_uri": "https://localhost:8080/"
        },
        "id": "h7n6oBikYYtS",
        "outputId": "306feed8-33ce-473e-b939-3f249fb92bb0"
      },
      "source": [
        "# Calculate the mean absolute error\n",
        "mae = tf.metrics.mean_absolute_error(y_true=Y_test, y_pred=Y_pred)\n",
        "mae"
      ],
      "execution_count": 56,
      "outputs": [
        {
          "output_type": "execute_result",
          "data": {
            "text/plain": [
              "<tf.Tensor: shape=(10,), dtype=float32, numpy=\n",
              "array([17.558258 , 14.1160555, 11.708948 , 10.336929 , 10.       ,\n",
              "       10.698161 , 12.447118 , 15.333002 , 19.253975 , 23.841698 ],\n",
              "      dtype=float32)>"
            ]
          },
          "metadata": {
            "tags": []
          },
          "execution_count": 56
        }
      ]
    },
    {
      "cell_type": "code",
      "metadata": {
        "colab": {
          "base_uri": "https://localhost:8080/"
        },
        "id": "iujDYxyVYL6s",
        "outputId": "4f886e21-7d17-46f5-e0e6-11c216dfabef"
      },
      "source": [
        "Y_pred, tf.constant(y_pred)"
      ],
      "execution_count": 57,
      "outputs": [
        {
          "output_type": "execute_result",
          "data": {
            "text/plain": [
              "(array([[ 70.55218 ],\n",
              "        [ 75.13991 ],\n",
              "        [ 79.72763 ],\n",
              "        [ 84.31535 ],\n",
              "        [ 88.903076],\n",
              "        [ 93.49081 ],\n",
              "        [ 98.07853 ],\n",
              "        [102.66625 ],\n",
              "        [107.253975],\n",
              "        [111.8417  ]], dtype=float32),\n",
              " <tf.Tensor: shape=(10, 1), dtype=float32, numpy=\n",
              " array([[ 70.55218 ],\n",
              "        [ 75.13991 ],\n",
              "        [ 79.72763 ],\n",
              "        [ 84.31535 ],\n",
              "        [ 88.903076],\n",
              "        [ 93.49081 ],\n",
              "        [ 98.07853 ],\n",
              "        [102.66625 ],\n",
              "        [107.253975],\n",
              "        [111.8417  ]], dtype=float32)>)"
            ]
          },
          "metadata": {
            "tags": []
          },
          "execution_count": 57
        }
      ]
    },
    {
      "cell_type": "code",
      "metadata": {
        "colab": {
          "base_uri": "https://localhost:8080/"
        },
        "id": "ZPNB1QQUYVEn",
        "outputId": "a9635ebe-72e0-4059-9e78-fe5b8c965b0c"
      },
      "source": [
        "Y_test"
      ],
      "execution_count": 58,
      "outputs": [
        {
          "output_type": "execute_result",
          "data": {
            "text/plain": [
              "<tf.Tensor: shape=(10,), dtype=int32, numpy=array([ 70,  74,  78,  82,  86,  90,  94,  98, 102, 106], dtype=int32)>"
            ]
          },
          "metadata": {
            "tags": []
          },
          "execution_count": 58
        }
      ]
    },
    {
      "cell_type": "code",
      "metadata": {
        "colab": {
          "base_uri": "https://localhost:8080/"
        },
        "id": "THqh2WciYVwA",
        "outputId": "0a156e30-5b42-4573-c49f-0585d6891115"
      },
      "source": [
        "# Calculate the mean absolute error\n",
        "mae = tf.metrics.mean_absolute_error(y_true=Y_test, y_pred=tf.squeeze(Y_pred))\n",
        "mae"
      ],
      "execution_count": 59,
      "outputs": [
        {
          "output_type": "execute_result",
          "data": {
            "text/plain": [
              "<tf.Tensor: shape=(), dtype=float32, numpy=3.1969407>"
            ]
          },
          "metadata": {
            "tags": []
          },
          "execution_count": 59
        }
      ]
    },
    {
      "cell_type": "code",
      "metadata": {
        "colab": {
          "base_uri": "https://localhost:8080/"
        },
        "id": "LqCDnynlgnwR",
        "outputId": "70b8676b-442e-4a2e-8da2-79f2cccacf89"
      },
      "source": [
        "# Calculate the mean square error\n",
        "mse = tf.metrics.mean_squared_error(y_true=Y_test, y_pred=tf.squeeze(Y_pred))\n",
        "mse"
      ],
      "execution_count": 63,
      "outputs": [
        {
          "output_type": "execute_result",
          "data": {
            "text/plain": [
              "<tf.Tensor: shape=(), dtype=float32, numpy=13.070143>"
            ]
          },
          "metadata": {
            "tags": []
          },
          "execution_count": 63
        }
      ]
    },
    {
      "cell_type": "code",
      "metadata": {
        "id": "Jv2t9hDUhlvE"
      },
      "source": [
        "# Make some functions to resuse MAE and MSE\n",
        "def mae(y_true, y_pred):\n",
        "  return tf.metrics.mean_absolute_error(y_true=y_true, y_pred=tf.squeeze(y_pred))\n",
        "\n",
        "def mse(y_true, y_pred):\n",
        "  return tf.metrics.mean_squared_error(y_true=y_true, y_pred=tf.squeeze(y_pred))\n",
        " "
      ],
      "execution_count": 75,
      "outputs": []
    },
    {
      "cell_type": "markdown",
      "metadata": {
        "id": "k4L3zU8Fizsg"
      },
      "source": [
        "### Running experiments to improve our model\n",
        "\n",
        "```\n",
        "Build a model -> fit it -> evaluate it -> tweak it -> fit it -> evaluate it -> tweak it -> fit it -> evaluate it ...\n",
        "```\n",
        "\n",
        "1. **Get more data** - get more examples for your model to train on (more opportunities to learn patterns or relationships between features and labels).\n",
        "\n",
        "2. **Make your model larger** (using a more complex model) - this might come in the form of more layers or more hidden units in each layer.\n",
        "\n",
        "3. **Train for longer** - give your model more of a chance to find patterns in the data.\n",
        "\n",
        "\n",
        "Let's do 3 modeling experiments:\n",
        "\n",
        "1. `model_1` - same as the original model, 1 layer, trained for 100 epochs.\n",
        "2. `model_2` - 2 layers, trained for 100 epochs.\n",
        "3. `model_3` - 2 layers, trained for 500 epochs."
      ]
    },
    {
      "cell_type": "code",
      "metadata": {
        "colab": {
          "base_uri": "https://localhost:8080/"
        },
        "id": "HaXFeTWQkr3e",
        "outputId": "138ee828-2228-4cee-eecb-028d1f2a0a82"
      },
      "source": [
        "X_train, Y_train"
      ],
      "execution_count": 76,
      "outputs": [
        {
          "output_type": "execute_result",
          "data": {
            "text/plain": [
              "(<tf.Tensor: shape=(40,), dtype=int32, numpy=\n",
              " array([-100,  -96,  -92,  -88,  -84,  -80,  -76,  -72,  -68,  -64,  -60,\n",
              "         -56,  -52,  -48,  -44,  -40,  -36,  -32,  -28,  -24,  -20,  -16,\n",
              "         -12,   -8,   -4,    0,    4,    8,   12,   16,   20,   24,   28,\n",
              "          32,   36,   40,   44,   48,   52,   56], dtype=int32)>,\n",
              " <tf.Tensor: shape=(40,), dtype=int32, numpy=\n",
              " array([-90, -86, -82, -78, -74, -70, -66, -62, -58, -54, -50, -46, -42,\n",
              "        -38, -34, -30, -26, -22, -18, -14, -10,  -6,  -2,   2,   6,  10,\n",
              "         14,  18,  22,  26,  30,  34,  38,  42,  46,  50,  54,  58,  62,\n",
              "         66], dtype=int32)>)"
            ]
          },
          "metadata": {
            "tags": []
          },
          "execution_count": 76
        }
      ]
    },
    {
      "cell_type": "markdown",
      "metadata": {
        "id": "4ct_VNE1lcPZ"
      },
      "source": [
        "**Build `model_1`**"
      ]
    },
    {
      "cell_type": "code",
      "metadata": {
        "colab": {
          "base_uri": "https://localhost:8080/"
        },
        "id": "NMDFZUzWmcxt",
        "outputId": "db45dccf-0ef1-4823-f5d3-a790d0ea5c64"
      },
      "source": [
        "# Set the random seed\n",
        "tf.random.set_seed(42)\n",
        "\n",
        "# Create the model\n",
        "model_1 = tf.keras.Sequential([\n",
        "    tf.keras.layers.Dense(1)                               \n",
        "])\n",
        "\n",
        "# Compile the model\n",
        "model_1.compile(loss=tf.keras.losses.mae,\n",
        "                optimizer=tf.keras.optimizers.SGD(),\n",
        "                metrics=['mae'])\n",
        "\n",
        "# Fit the model\n",
        "model_1.fit(X_train, Y_train, epochs=100)"
      ],
      "execution_count": 77,
      "outputs": [
        {
          "output_type": "stream",
          "text": [
            "Epoch 1/100\n",
            "2/2 [==============================] - 0s 8ms/step - loss: 15.9024 - mae: 15.9024\n",
            "Epoch 2/100\n",
            "2/2 [==============================] - 0s 8ms/step - loss: 11.2837 - mae: 11.2837\n",
            "Epoch 3/100\n",
            "2/2 [==============================] - 0s 3ms/step - loss: 11.1074 - mae: 11.1074\n",
            "Epoch 4/100\n",
            "2/2 [==============================] - 0s 6ms/step - loss: 9.2991 - mae: 9.2991\n",
            "Epoch 5/100\n",
            "2/2 [==============================] - 0s 4ms/step - loss: 10.1677 - mae: 10.1677\n",
            "Epoch 6/100\n",
            "2/2 [==============================] - 0s 8ms/step - loss: 9.4303 - mae: 9.4303\n",
            "Epoch 7/100\n",
            "2/2 [==============================] - 0s 6ms/step - loss: 8.5704 - mae: 8.5704\n",
            "Epoch 8/100\n",
            "2/2 [==============================] - 0s 7ms/step - loss: 9.0442 - mae: 9.0442\n",
            "Epoch 9/100\n",
            "2/2 [==============================] - 0s 9ms/step - loss: 18.7517 - mae: 18.7517\n",
            "Epoch 10/100\n",
            "2/2 [==============================] - 0s 10ms/step - loss: 10.1142 - mae: 10.1142\n",
            "Epoch 11/100\n",
            "2/2 [==============================] - 0s 4ms/step - loss: 8.3980 - mae: 8.3980\n",
            "Epoch 12/100\n",
            "2/2 [==============================] - 0s 3ms/step - loss: 10.6639 - mae: 10.6639\n",
            "Epoch 13/100\n",
            "2/2 [==============================] - 0s 9ms/step - loss: 9.7977 - mae: 9.7977\n",
            "Epoch 14/100\n",
            "2/2 [==============================] - 0s 7ms/step - loss: 16.0103 - mae: 16.0103\n",
            "Epoch 15/100\n",
            "2/2 [==============================] - 0s 6ms/step - loss: 11.4068 - mae: 11.4068\n",
            "Epoch 16/100\n",
            "2/2 [==============================] - 0s 4ms/step - loss: 8.5393 - mae: 8.5393\n",
            "Epoch 17/100\n",
            "2/2 [==============================] - 0s 4ms/step - loss: 13.6348 - mae: 13.6348\n",
            "Epoch 18/100\n",
            "2/2 [==============================] - 0s 6ms/step - loss: 11.4629 - mae: 11.4629\n",
            "Epoch 19/100\n",
            "2/2 [==============================] - 0s 5ms/step - loss: 17.9148 - mae: 17.9148\n",
            "Epoch 20/100\n",
            "2/2 [==============================] - 0s 4ms/step - loss: 15.0494 - mae: 15.0494\n",
            "Epoch 21/100\n",
            "2/2 [==============================] - 0s 4ms/step - loss: 11.0216 - mae: 11.0216\n",
            "Epoch 22/100\n",
            "2/2 [==============================] - 0s 9ms/step - loss: 8.1558 - mae: 8.1558\n",
            "Epoch 23/100\n",
            "2/2 [==============================] - 0s 5ms/step - loss: 9.5138 - mae: 9.5138\n",
            "Epoch 24/100\n",
            "2/2 [==============================] - 0s 6ms/step - loss: 7.6617 - mae: 7.6617\n",
            "Epoch 25/100\n",
            "2/2 [==============================] - 0s 5ms/step - loss: 13.1859 - mae: 13.1859\n",
            "Epoch 26/100\n",
            "2/2 [==============================] - 0s 7ms/step - loss: 16.4211 - mae: 16.4211\n",
            "Epoch 27/100\n",
            "2/2 [==============================] - 0s 9ms/step - loss: 13.1660 - mae: 13.1660\n",
            "Epoch 28/100\n",
            "2/2 [==============================] - 0s 4ms/step - loss: 14.2559 - mae: 14.2559\n",
            "Epoch 29/100\n",
            "2/2 [==============================] - 0s 10ms/step - loss: 10.0670 - mae: 10.0670\n",
            "Epoch 30/100\n",
            "2/2 [==============================] - 0s 5ms/step - loss: 16.3409 - mae: 16.3409\n",
            "Epoch 31/100\n",
            "2/2 [==============================] - 0s 4ms/step - loss: 23.6444 - mae: 23.6444\n",
            "Epoch 32/100\n",
            "2/2 [==============================] - 0s 4ms/step - loss: 7.6215 - mae: 7.6215\n",
            "Epoch 33/100\n",
            "2/2 [==============================] - 0s 4ms/step - loss: 9.3221 - mae: 9.3221\n",
            "Epoch 34/100\n",
            "2/2 [==============================] - 0s 4ms/step - loss: 13.7313 - mae: 13.7313\n",
            "Epoch 35/100\n",
            "2/2 [==============================] - 0s 5ms/step - loss: 11.1276 - mae: 11.1276\n",
            "Epoch 36/100\n",
            "2/2 [==============================] - 0s 4ms/step - loss: 13.3222 - mae: 13.3222\n",
            "Epoch 37/100\n",
            "2/2 [==============================] - 0s 4ms/step - loss: 9.4763 - mae: 9.4763\n",
            "Epoch 38/100\n",
            "2/2 [==============================] - 0s 4ms/step - loss: 10.1381 - mae: 10.1381\n",
            "Epoch 39/100\n",
            "2/2 [==============================] - 0s 4ms/step - loss: 10.1793 - mae: 10.1793\n",
            "Epoch 40/100\n",
            "2/2 [==============================] - 0s 7ms/step - loss: 10.9137 - mae: 10.9137\n",
            "Epoch 41/100\n",
            "2/2 [==============================] - 0s 6ms/step - loss: 7.9063 - mae: 7.9063\n",
            "Epoch 42/100\n",
            "2/2 [==============================] - 0s 4ms/step - loss: 10.0914 - mae: 10.0914\n",
            "Epoch 43/100\n",
            "2/2 [==============================] - 0s 4ms/step - loss: 8.7006 - mae: 8.7006\n",
            "Epoch 44/100\n",
            "2/2 [==============================] - 0s 4ms/step - loss: 12.2047 - mae: 12.2047\n",
            "Epoch 45/100\n",
            "2/2 [==============================] - 0s 4ms/step - loss: 13.7970 - mae: 13.7970\n",
            "Epoch 46/100\n",
            "2/2 [==============================] - 0s 4ms/step - loss: 8.4687 - mae: 8.4687\n",
            "Epoch 47/100\n",
            "2/2 [==============================] - 0s 4ms/step - loss: 9.1330 - mae: 9.1330\n",
            "Epoch 48/100\n",
            "2/2 [==============================] - 0s 5ms/step - loss: 10.6190 - mae: 10.6190\n",
            "Epoch 49/100\n",
            "2/2 [==============================] - 0s 4ms/step - loss: 7.7503 - mae: 7.7503\n",
            "Epoch 50/100\n",
            "2/2 [==============================] - 0s 5ms/step - loss: 9.5407 - mae: 9.5407\n",
            "Epoch 51/100\n",
            "2/2 [==============================] - 0s 4ms/step - loss: 9.1584 - mae: 9.1584\n",
            "Epoch 52/100\n",
            "2/2 [==============================] - 0s 9ms/step - loss: 16.3630 - mae: 16.3630\n",
            "Epoch 53/100\n",
            "2/2 [==============================] - 0s 29ms/step - loss: 14.1299 - mae: 14.1299\n",
            "Epoch 54/100\n",
            "2/2 [==============================] - 0s 8ms/step - loss: 21.1247 - mae: 21.1247\n",
            "Epoch 55/100\n",
            "2/2 [==============================] - 0s 12ms/step - loss: 16.3961 - mae: 16.3961\n",
            "Epoch 56/100\n",
            "2/2 [==============================] - 0s 6ms/step - loss: 9.9806 - mae: 9.9806\n",
            "Epoch 57/100\n",
            "2/2 [==============================] - 0s 8ms/step - loss: 9.9606 - mae: 9.9606\n",
            "Epoch 58/100\n",
            "2/2 [==============================] - 0s 19ms/step - loss: 9.2209 - mae: 9.2209\n",
            "Epoch 59/100\n",
            "2/2 [==============================] - 0s 5ms/step - loss: 8.4239 - mae: 8.4239\n",
            "Epoch 60/100\n",
            "2/2 [==============================] - 0s 6ms/step - loss: 9.4869 - mae: 9.4869\n",
            "Epoch 61/100\n",
            "2/2 [==============================] - 0s 7ms/step - loss: 11.4355 - mae: 11.4355\n",
            "Epoch 62/100\n",
            "2/2 [==============================] - 0s 10ms/step - loss: 11.6887 - mae: 11.6887\n",
            "Epoch 63/100\n",
            "2/2 [==============================] - 0s 4ms/step - loss: 7.0838 - mae: 7.0838\n",
            "Epoch 64/100\n",
            "2/2 [==============================] - 0s 7ms/step - loss: 16.9675 - mae: 16.9675\n",
            "Epoch 65/100\n",
            "2/2 [==============================] - 0s 7ms/step - loss: 12.4599 - mae: 12.4599\n",
            "Epoch 66/100\n",
            "2/2 [==============================] - 0s 7ms/step - loss: 13.0184 - mae: 13.0184\n",
            "Epoch 67/100\n",
            "2/2 [==============================] - 0s 10ms/step - loss: 8.0600 - mae: 8.0600\n",
            "Epoch 68/100\n",
            "2/2 [==============================] - 0s 7ms/step - loss: 10.1888 - mae: 10.1888\n",
            "Epoch 69/100\n",
            "2/2 [==============================] - 0s 8ms/step - loss: 12.3633 - mae: 12.3633\n",
            "Epoch 70/100\n",
            "2/2 [==============================] - 0s 5ms/step - loss: 9.0516 - mae: 9.0516\n",
            "Epoch 71/100\n",
            "2/2 [==============================] - 0s 5ms/step - loss: 10.0378 - mae: 10.0378\n",
            "Epoch 72/100\n",
            "2/2 [==============================] - 0s 5ms/step - loss: 10.0516 - mae: 10.0516\n",
            "Epoch 73/100\n",
            "2/2 [==============================] - 0s 6ms/step - loss: 12.6151 - mae: 12.6151\n",
            "Epoch 74/100\n",
            "2/2 [==============================] - 0s 7ms/step - loss: 10.3819 - mae: 10.3819\n",
            "Epoch 75/100\n",
            "2/2 [==============================] - 0s 7ms/step - loss: 9.7229 - mae: 9.7229\n",
            "Epoch 76/100\n",
            "2/2 [==============================] - 0s 5ms/step - loss: 11.2252 - mae: 11.2252\n",
            "Epoch 77/100\n",
            "2/2 [==============================] - 0s 5ms/step - loss: 8.3642 - mae: 8.3642\n",
            "Epoch 78/100\n",
            "2/2 [==============================] - 0s 5ms/step - loss: 9.1274 - mae: 9.1274\n",
            "Epoch 79/100\n",
            "2/2 [==============================] - 0s 4ms/step - loss: 19.5039 - mae: 19.5039\n",
            "Epoch 80/100\n",
            "2/2 [==============================] - 0s 9ms/step - loss: 14.8945 - mae: 14.8945\n",
            "Epoch 81/100\n",
            "2/2 [==============================] - 0s 8ms/step - loss: 9.0034 - mae: 9.0034\n",
            "Epoch 82/100\n",
            "2/2 [==============================] - 0s 7ms/step - loss: 13.0206 - mae: 13.0206\n",
            "Epoch 83/100\n",
            "2/2 [==============================] - 0s 8ms/step - loss: 7.9299 - mae: 7.9299\n",
            "Epoch 84/100\n",
            "2/2 [==============================] - 0s 7ms/step - loss: 7.6872 - mae: 7.6872\n",
            "Epoch 85/100\n",
            "2/2 [==============================] - 0s 13ms/step - loss: 10.0328 - mae: 10.0328\n",
            "Epoch 86/100\n",
            "2/2 [==============================] - 0s 4ms/step - loss: 9.2433 - mae: 9.2433\n",
            "Epoch 87/100\n",
            "2/2 [==============================] - 0s 5ms/step - loss: 12.0209 - mae: 12.0209\n",
            "Epoch 88/100\n",
            "2/2 [==============================] - 0s 5ms/step - loss: 10.6389 - mae: 10.6389\n",
            "Epoch 89/100\n",
            "2/2 [==============================] - 0s 5ms/step - loss: 7.2667 - mae: 7.2667\n",
            "Epoch 90/100\n",
            "2/2 [==============================] - 0s 7ms/step - loss: 12.7786 - mae: 12.7786\n",
            "Epoch 91/100\n",
            "2/2 [==============================] - 0s 3ms/step - loss: 7.3481 - mae: 7.3481\n",
            "Epoch 92/100\n",
            "2/2 [==============================] - 0s 4ms/step - loss: 7.7175 - mae: 7.7175\n",
            "Epoch 93/100\n",
            "2/2 [==============================] - 0s 4ms/step - loss: 7.1263 - mae: 7.1263\n",
            "Epoch 94/100\n",
            "2/2 [==============================] - 0s 6ms/step - loss: 12.6190 - mae: 12.6190\n",
            "Epoch 95/100\n",
            "2/2 [==============================] - 0s 4ms/step - loss: 10.0912 - mae: 10.0912\n",
            "Epoch 96/100\n",
            "2/2 [==============================] - 0s 10ms/step - loss: 9.3558 - mae: 9.3558\n",
            "Epoch 97/100\n",
            "2/2 [==============================] - 0s 5ms/step - loss: 12.6834 - mae: 12.6834\n",
            "Epoch 98/100\n",
            "2/2 [==============================] - 0s 4ms/step - loss: 8.6762 - mae: 8.6762\n",
            "Epoch 99/100\n",
            "2/2 [==============================] - 0s 4ms/step - loss: 9.4693 - mae: 9.4693\n",
            "Epoch 100/100\n",
            "2/2 [==============================] - 0s 4ms/step - loss: 8.7067 - mae: 8.7067\n"
          ],
          "name": "stdout"
        },
        {
          "output_type": "execute_result",
          "data": {
            "text/plain": [
              "<tensorflow.python.keras.callbacks.History at 0x7fbb4b4b8bd0>"
            ]
          },
          "metadata": {
            "tags": []
          },
          "execution_count": 77
        }
      ]
    },
    {
      "cell_type": "code",
      "metadata": {
        "colab": {
          "base_uri": "https://localhost:8080/",
          "height": 428
        },
        "id": "TnZWU6odnZGz",
        "outputId": "0fec3f03-d68b-4667-836d-a71cdc5a32fb"
      },
      "source": [
        "# Make and plot predictions for model 1\n",
        "Y_pred_1 = model_1.predict(X_test)\n",
        "plot_predictions(predictions=Y_pred_1)"
      ],
      "execution_count": 78,
      "outputs": [
        {
          "output_type": "display_data",
          "data": {
            "image/png": "[encoded data removed]",
            "text/plain": [
              "<Figure size 720x504 with 1 Axes>"
            ]
          },
          "metadata": {
            "tags": [],
            "needs_background": "light"
          }
        }
      ]
    },
    {
      "cell_type": "code",
      "metadata": {
        "colab": {
          "base_uri": "https://localhost:8080/"
        },
        "id": "l1zuMNg3oJZC",
        "outputId": "e30384ce-d93a-4089-bad4-4fefbf20946e"
      },
      "source": [
        "# Calculate model_1 evaluation metrics\n",
        "mae_1 = mae(Y_test, Y_pred_1)\n",
        "mse_1 = mse(Y_test, Y_pred_1)\n",
        "mae_1, mse_1"
      ],
      "execution_count": 80,
      "outputs": [
        {
          "output_type": "execute_result",
          "data": {
            "text/plain": [
              "(<tf.Tensor: shape=(), dtype=float32, numpy=18.745327>,\n",
              " <tf.Tensor: shape=(), dtype=float32, numpy=353.57336>)"
            ]
          },
          "metadata": {
            "tags": []
          },
          "execution_count": 80
        }
      ]
    },
    {
      "cell_type": "markdown",
      "metadata": {
        "id": "jIUXWo55oeSf"
      },
      "source": [
        "\n",
        "**Build `model_2`\n",
        "\n",
        "* 2 dense layers, trained for 100 epochs"
      ]
    },
    {
      "cell_type": "code",
      "metadata": {
        "colab": {
          "base_uri": "https://localhost:8080/"
        },
        "id": "ZSVNPiqfpwLA",
        "outputId": "e2b43e43-13da-4a65-bf70-64d40eede282"
      },
      "source": [
        "# Create the model\n",
        "model_2 = tf.keras.Sequential([\n",
        "    tf.keras.layers.Dense(10),\n",
        "    tf.keras.layers.Dense(1)                              \n",
        "])\n",
        "\n",
        "# Complile the model\n",
        "model_2.compile(loss=tf.keras.losses.mae,\n",
        "                optimizer=tf.keras.optimizers.SGD(),\n",
        "                metrics=['mse'])\n",
        "\n",
        "# Fit the model\n",
        "model_2.fit(X_train, Y_train, epochs=100)"
      ],
      "execution_count": 94,
      "outputs": [
        {
          "output_type": "stream",
          "text": [
            "Epoch 1/100\n",
            "2/2 [==============================] - 0s 7ms/step - loss: 45.9963 - mse: 3227.4314\n",
            "Epoch 2/100\n",
            "2/2 [==============================] - 0s 3ms/step - loss: 26.2701 - mse: 887.6888\n",
            "Epoch 3/100\n",
            "2/2 [==============================] - 0s 5ms/step - loss: 31.0949 - mse: 1459.8684\n",
            "Epoch 4/100\n",
            "2/2 [==============================] - 0s 6ms/step - loss: 29.1001 - mse: 1260.6611\n",
            "Epoch 5/100\n",
            "2/2 [==============================] - 0s 8ms/step - loss: 15.7517 - mse: 325.4465\n",
            "Epoch 6/100\n",
            "2/2 [==============================] - 0s 5ms/step - loss: 12.4755 - mse: 201.3107\n",
            "Epoch 7/100\n",
            "2/2 [==============================] - 0s 14ms/step - loss: 11.7266 - mse: 169.4787\n",
            "Epoch 8/100\n",
            "2/2 [==============================] - 0s 5ms/step - loss: 10.7829 - mse: 126.7498\n",
            "Epoch 9/100\n",
            "2/2 [==============================] - 0s 7ms/step - loss: 36.5361 - mse: 2037.0232\n",
            "Epoch 10/100\n",
            "2/2 [==============================] - 0s 7ms/step - loss: 24.3548 - mse: 830.5627\n",
            "Epoch 11/100\n",
            "2/2 [==============================] - 0s 5ms/step - loss: 11.7969 - mse: 218.3435\n",
            "Epoch 12/100\n",
            "2/2 [==============================] - 0s 12ms/step - loss: 23.5801 - mse: 788.0199\n",
            "Epoch 13/100\n",
            "2/2 [==============================] - 0s 5ms/step - loss: 21.1970 - mse: 640.9247\n",
            "Epoch 14/100\n",
            "2/2 [==============================] - 0s 8ms/step - loss: 23.6632 - mse: 858.7999\n",
            "Epoch 15/100\n",
            "2/2 [==============================] - 0s 6ms/step - loss: 15.7418 - mse: 337.2982\n",
            "Epoch 16/100\n",
            "2/2 [==============================] - 0s 6ms/step - loss: 10.4248 - mse: 124.6995\n",
            "Epoch 17/100\n",
            "2/2 [==============================] - 0s 5ms/step - loss: 19.6624 - mse: 526.0236\n",
            "Epoch 18/100\n",
            "2/2 [==============================] - 0s 6ms/step - loss: 13.2986 - mse: 276.7619\n",
            "Epoch 19/100\n",
            "2/2 [==============================] - 0s 4ms/step - loss: 16.0789 - mse: 413.2133\n",
            "Epoch 20/100\n",
            "2/2 [==============================] - 0s 5ms/step - loss: 10.2048 - mse: 153.7144\n",
            "Epoch 21/100\n",
            "2/2 [==============================] - 0s 4ms/step - loss: 13.7587 - mse: 250.1267\n",
            "Epoch 22/100\n",
            "2/2 [==============================] - 0s 4ms/step - loss: 22.0041 - mse: 686.9451\n",
            "Epoch 23/100\n",
            "2/2 [==============================] - 0s 4ms/step - loss: 10.4410 - mse: 166.7260\n",
            "Epoch 24/100\n",
            "2/2 [==============================] - 0s 4ms/step - loss: 15.7275 - mse: 332.1877\n",
            "Epoch 25/100\n",
            "2/2 [==============================] - 0s 10ms/step - loss: 14.8838 - mse: 291.9110\n",
            "Epoch 26/100\n",
            "2/2 [==============================] - 0s 5ms/step - loss: 19.4950 - mse: 576.3860\n",
            "Epoch 27/100\n",
            "2/2 [==============================] - 0s 9ms/step - loss: 20.5876 - mse: 640.9440\n",
            "Epoch 28/100\n",
            "2/2 [==============================] - 0s 4ms/step - loss: 14.9468 - mse: 344.6674\n",
            "Epoch 29/100\n",
            "2/2 [==============================] - 0s 4ms/step - loss: 9.2605 - mse: 93.1465\n",
            "Epoch 30/100\n",
            "2/2 [==============================] - 0s 4ms/step - loss: 30.3425 - mse: 1683.0511\n",
            "Epoch 31/100\n",
            "2/2 [==============================] - 0s 8ms/step - loss: 55.1330 - mse: 5451.1284\n",
            "Epoch 32/100\n",
            "2/2 [==============================] - 0s 5ms/step - loss: 9.6949 - mse: 102.8063\n",
            "Epoch 33/100\n",
            "2/2 [==============================] - 0s 4ms/step - loss: 12.3056 - mse: 190.9351\n",
            "Epoch 34/100\n",
            "2/2 [==============================] - 0s 4ms/step - loss: 24.4762 - mse: 910.1639\n",
            "Epoch 35/100\n",
            "2/2 [==============================] - 0s 6ms/step - loss: 11.9537 - mse: 210.5178\n",
            "Epoch 36/100\n",
            "2/2 [==============================] - 0s 16ms/step - loss: 22.1912 - mse: 700.5529\n",
            "Epoch 37/100\n",
            "2/2 [==============================] - 0s 8ms/step - loss: 17.4168 - mse: 432.1678\n",
            "Epoch 38/100\n",
            "2/2 [==============================] - 0s 7ms/step - loss: 10.6819 - mse: 131.4023\n",
            "Epoch 39/100\n",
            "2/2 [==============================] - 0s 9ms/step - loss: 11.1984 - mse: 163.0573\n",
            "Epoch 40/100\n",
            "2/2 [==============================] - 0s 9ms/step - loss: 18.0408 - mse: 470.6816\n",
            "Epoch 41/100\n",
            "2/2 [==============================] - 0s 6ms/step - loss: 10.4241 - mse: 182.8712\n",
            "Epoch 42/100\n",
            "2/2 [==============================] - 0s 7ms/step - loss: 7.2646 - mse: 75.2704\n",
            "Epoch 43/100\n",
            "2/2 [==============================] - 0s 9ms/step - loss: 18.9997 - mse: 535.2355\n",
            "Epoch 44/100\n",
            "2/2 [==============================] - 0s 8ms/step - loss: 20.1666 - mse: 629.1455\n",
            "Epoch 45/100\n",
            "2/2 [==============================] - 0s 7ms/step - loss: 10.1376 - mse: 127.7013\n",
            "Epoch 46/100\n",
            "2/2 [==============================] - 0s 6ms/step - loss: 11.4088 - mse: 161.7770\n",
            "Epoch 47/100\n",
            "2/2 [==============================] - 0s 5ms/step - loss: 9.8044 - mse: 152.8036\n",
            "Epoch 48/100\n",
            "2/2 [==============================] - 0s 8ms/step - loss: 17.5796 - mse: 420.1174\n",
            "Epoch 49/100\n",
            "2/2 [==============================] - 0s 5ms/step - loss: 9.3491 - mse: 95.7643\n",
            "Epoch 50/100\n",
            "2/2 [==============================] - 0s 4ms/step - loss: 13.4128 - mse: 237.9936\n",
            "Epoch 51/100\n",
            "2/2 [==============================] - 0s 6ms/step - loss: 11.4455 - mse: 149.0249\n",
            "Epoch 52/100\n",
            "2/2 [==============================] - 0s 8ms/step - loss: 29.5036 - mse: 1493.8704\n",
            "Epoch 53/100\n",
            "2/2 [==============================] - 0s 4ms/step - loss: 16.8083 - mse: 418.4784\n",
            "Epoch 54/100\n",
            "2/2 [==============================] - 0s 12ms/step - loss: 21.8029 - mse: 701.4772\n",
            "Epoch 55/100\n",
            "2/2 [==============================] - 0s 6ms/step - loss: 22.4233 - mse: 750.1806\n",
            "Epoch 56/100\n",
            "2/2 [==============================] - 0s 15ms/step - loss: 10.6486 - mse: 172.6561\n",
            "Epoch 57/100\n",
            "2/2 [==============================] - 0s 10ms/step - loss: 12.4191 - mse: 186.6136\n",
            "Epoch 58/100\n",
            "2/2 [==============================] - 0s 16ms/step - loss: 9.4208 - mse: 100.9609\n",
            "Epoch 59/100\n",
            "2/2 [==============================] - 0s 4ms/step - loss: 12.2136 - mse: 197.9109\n",
            "Epoch 60/100\n",
            "2/2 [==============================] - 0s 5ms/step - loss: 11.6884 - mse: 178.5998\n",
            "Epoch 61/100\n",
            "2/2 [==============================] - 0s 5ms/step - loss: 16.1606 - mse: 364.6257\n",
            "Epoch 62/100\n",
            "2/2 [==============================] - 0s 4ms/step - loss: 11.1984 - mse: 159.1419\n",
            "Epoch 63/100\n",
            "2/2 [==============================] - 0s 4ms/step - loss: 12.4723 - mse: 221.1370\n",
            "Epoch 64/100\n",
            "2/2 [==============================] - 0s 5ms/step - loss: 15.8567 - mse: 360.0525\n",
            "Epoch 65/100\n",
            "2/2 [==============================] - 0s 4ms/step - loss: 10.6437 - mse: 140.3145\n",
            "Epoch 66/100\n",
            "2/2 [==============================] - 0s 4ms/step - loss: 21.6219 - mse: 692.8229\n",
            "Epoch 67/100\n",
            "2/2 [==============================] - 0s 4ms/step - loss: 10.6662 - mse: 134.1080\n",
            "Epoch 68/100\n",
            "2/2 [==============================] - 0s 4ms/step - loss: 10.6064 - mse: 146.1508\n",
            "Epoch 69/100\n",
            "2/2 [==============================] - 0s 4ms/step - loss: 22.4957 - mse: 728.8270\n",
            "Epoch 70/100\n",
            "2/2 [==============================] - 0s 4ms/step - loss: 9.3740 - mse: 165.2538\n",
            "Epoch 71/100\n",
            "2/2 [==============================] - 0s 4ms/step - loss: 15.5045 - mse: 325.9651\n",
            "Epoch 72/100\n",
            "2/2 [==============================] - 0s 4ms/step - loss: 7.0239 - mse: 67.9245\n",
            "Epoch 73/100\n",
            "2/2 [==============================] - 0s 4ms/step - loss: 12.2496 - mse: 216.9410\n",
            "Epoch 74/100\n",
            "2/2 [==============================] - 0s 4ms/step - loss: 17.4111 - mse: 410.7227\n",
            "Epoch 75/100\n",
            "2/2 [==============================] - 0s 5ms/step - loss: 7.2387 - mse: 71.6297\n",
            "Epoch 76/100\n",
            "2/2 [==============================] - 0s 10ms/step - loss: 9.9931 - mse: 170.9934\n",
            "Epoch 77/100\n",
            "2/2 [==============================] - 0s 8ms/step - loss: 21.4721 - mse: 694.9497\n",
            "Epoch 78/100\n",
            "2/2 [==============================] - 0s 5ms/step - loss: 18.8364 - mse: 539.5132\n",
            "Epoch 79/100\n",
            "2/2 [==============================] - 0s 6ms/step - loss: 16.1015 - mse: 380.8963\n",
            "Epoch 80/100\n",
            "2/2 [==============================] - 0s 4ms/step - loss: 23.8331 - mse: 861.8822\n",
            "Epoch 81/100\n",
            "2/2 [==============================] - 0s 4ms/step - loss: 11.0997 - mse: 147.4410\n",
            "Epoch 82/100\n",
            "2/2 [==============================] - 0s 4ms/step - loss: 12.6504 - mse: 230.2683\n",
            "Epoch 83/100\n",
            "2/2 [==============================] - 0s 5ms/step - loss: 17.3895 - mse: 393.8755\n",
            "Epoch 84/100\n",
            "2/2 [==============================] - 0s 26ms/step - loss: 7.2782 - mse: 73.5583\n",
            "Epoch 85/100\n",
            "2/2 [==============================] - 0s 10ms/step - loss: 14.9482 - mse: 312.1240\n",
            "Epoch 86/100\n",
            "2/2 [==============================] - 0s 10ms/step - loss: 15.2758 - mse: 315.2578\n",
            "Epoch 87/100\n",
            "2/2 [==============================] - 0s 7ms/step - loss: 19.0784 - mse: 519.8397\n",
            "Epoch 88/100\n",
            "2/2 [==============================] - 0s 6ms/step - loss: 29.9094 - mse: 1295.2184\n",
            "Epoch 89/100\n",
            "2/2 [==============================] - 0s 5ms/step - loss: 10.2091 - mse: 124.6132\n",
            "Epoch 90/100\n",
            "2/2 [==============================] - 0s 6ms/step - loss: 21.5850 - mse: 667.8299\n",
            "Epoch 91/100\n",
            "2/2 [==============================] - 0s 4ms/step - loss: 10.6065 - mse: 162.0009\n",
            "Epoch 92/100\n",
            "2/2 [==============================] - 0s 9ms/step - loss: 18.4463 - mse: 466.6711\n",
            "Epoch 93/100\n",
            "2/2 [==============================] - 0s 12ms/step - loss: 7.4367 - mse: 82.0999\n",
            "Epoch 94/100\n",
            "2/2 [==============================] - 0s 9ms/step - loss: 17.7742 - mse: 447.5911\n",
            "Epoch 95/100\n",
            "2/2 [==============================] - 0s 12ms/step - loss: 11.1447 - mse: 165.1249\n",
            "Epoch 96/100\n",
            "2/2 [==============================] - 0s 11ms/step - loss: 19.4680 - mse: 512.1914\n",
            "Epoch 97/100\n",
            "2/2 [==============================] - 0s 11ms/step - loss: 12.1894 - mse: 210.9288\n",
            "Epoch 98/100\n",
            "2/2 [==============================] - 0s 8ms/step - loss: 11.5917 - mse: 170.0301\n",
            "Epoch 99/100\n",
            "2/2 [==============================] - 0s 7ms/step - loss: 13.8999 - mse: 265.9872\n",
            "Epoch 100/100\n",
            "2/2 [==============================] - 0s 4ms/step - loss: 20.2363 - mse: 609.3118\n"
          ],
          "name": "stdout"
        },
        {
          "output_type": "execute_result",
          "data": {
            "text/plain": [
              "<tensorflow.python.keras.callbacks.History at 0x7fbb4ace1850>"
            ]
          },
          "metadata": {
            "tags": []
          },
          "execution_count": 94
        }
      ]
    },
    {
      "cell_type": "code",
      "metadata": {
        "colab": {
          "base_uri": "https://localhost:8080/",
          "height": 428
        },
        "id": "zAGxFNzhuqIl",
        "outputId": "89d9a994-db55-4468-a2c4-5e81ae28d51b"
      },
      "source": [
        "# Make and plot predictions of model_2\n",
        "Y_pred_2 = model_2.predict(X_test)\n",
        "plot_predictions(predictions=Y_pred_2)"
      ],
      "execution_count": 95,
      "outputs": [
        {
          "output_type": "display_data",
          "data": {
            "image/png": "[encoded data removed]",
            "text/plain": [
              "<Figure size 720x504 with 1 Axes>"
            ]
          },
          "metadata": {
            "tags": [],
            "needs_background": "light"
          }
        }
      ]
    },
    {
      "cell_type": "code",
      "metadata": {
        "colab": {
          "base_uri": "https://localhost:8080/"
        },
        "id": "5g77II9lwZUC",
        "outputId": "ef5c7712-d696-4490-ee7b-28147c1cf639"
      },
      "source": [
        "# Calculate model_2 evaluation metrics\n",
        "mae_2 = mae(Y_test, Y_pred_2)\n",
        "mse_2 = mse(Y_test, Y_pred_2)\n",
        "mae_2, mse_2"
      ],
      "execution_count": 98,
      "outputs": [
        {
          "output_type": "execute_result",
          "data": {
            "text/plain": [
              "(<tf.Tensor: shape=(), dtype=float32, numpy=3.1489778>,\n",
              " <tf.Tensor: shape=(), dtype=float32, numpy=12.75584>)"
            ]
          },
          "metadata": {
            "tags": []
          },
          "execution_count": 98
        }
      ]
    },
    {
      "cell_type": "markdown",
      "metadata": {
        "id": "d3QKtv2nwtGF"
      },
      "source": [
        "** Build `model_3`\n",
        "\n",
        "* 2 layers, trained for 500 epochs"
      ]
    },
    {
      "cell_type": "code",
      "metadata": {
        "colab": {
          "base_uri": "https://localhost:8080/"
        },
        "id": "iZUH32v1xAiA",
        "outputId": "446d8551-bcc9-43da-9c48-2204a6c2ac9b"
      },
      "source": [
        "# Create the model\n",
        "model_3 = tf.keras.Sequential([\n",
        "  tf.keras.layers.Dense(10),\n",
        "  tf.keras.layers.Dense(1)                               \n",
        "])\n",
        "\n",
        "# Complie the model\n",
        "model_3.compile(loss=tf.keras.losses.mae,\n",
        "                optimizer=tf.keras.optimizers.SGD(),\n",
        "                metrics=['mae'])\n",
        "\n",
        "# Fit the model\n",
        "model_3.fit(X_train, Y_train, epochs=500)"
      ],
      "execution_count": 106,
      "outputs": [
        {
          "output_type": "stream",
          "text": [
            "Epoch 1/500\n",
            "2/2 [==============================] - 0s 6ms/step - loss: 25.1546 - mae: 25.1546\n",
            "Epoch 2/500\n",
            "2/2 [==============================] - 0s 4ms/step - loss: 23.9781 - mae: 23.9781\n",
            "Epoch 3/500\n",
            "2/2 [==============================] - 0s 5ms/step - loss: 29.9366 - mae: 29.9366\n",
            "Epoch 4/500\n",
            "2/2 [==============================] - 0s 4ms/step - loss: 24.2284 - mae: 24.2284\n",
            "Epoch 5/500\n",
            "2/2 [==============================] - 0s 6ms/step - loss: 14.3931 - mae: 14.3931\n",
            "Epoch 6/500\n",
            "2/2 [==============================] - 0s 4ms/step - loss: 11.4778 - mae: 11.4778\n",
            "Epoch 7/500\n",
            "2/2 [==============================] - 0s 9ms/step - loss: 12.5053 - mae: 12.5053\n",
            "Epoch 8/500\n",
            "2/2 [==============================] - 0s 10ms/step - loss: 10.9741 - mae: 10.9741\n",
            "Epoch 9/500\n",
            "2/2 [==============================] - 0s 4ms/step - loss: 39.0045 - mae: 39.0045\n",
            "Epoch 10/500\n",
            "2/2 [==============================] - 0s 4ms/step - loss: 26.5846 - mae: 26.5846\n",
            "Epoch 11/500\n",
            "2/2 [==============================] - 0s 4ms/step - loss: 11.7981 - mae: 11.7981\n",
            "Epoch 12/500\n",
            "2/2 [==============================] - 0s 5ms/step - loss: 23.5624 - mae: 23.5624\n",
            "Epoch 13/500\n",
            "2/2 [==============================] - 0s 4ms/step - loss: 21.1752 - mae: 21.1752\n",
            "Epoch 14/500\n",
            "2/2 [==============================] - 0s 5ms/step - loss: 23.6327 - mae: 23.6327\n",
            "Epoch 15/500\n",
            "2/2 [==============================] - 0s 4ms/step - loss: 15.7253 - mae: 15.7253\n",
            "Epoch 16/500\n",
            "2/2 [==============================] - 0s 7ms/step - loss: 10.4243 - mae: 10.4243\n",
            "Epoch 17/500\n",
            "2/2 [==============================] - 0s 9ms/step - loss: 19.6396 - mae: 19.6396\n",
            "Epoch 18/500\n",
            "2/2 [==============================] - 0s 13ms/step - loss: 13.2785 - mae: 13.2785\n",
            "Epoch 19/500\n",
            "2/2 [==============================] - 0s 8ms/step - loss: 16.0433 - mae: 16.0433\n",
            "Epoch 20/500\n",
            "2/2 [==============================] - 0s 5ms/step - loss: 10.2014 - mae: 10.2014\n",
            "Epoch 21/500\n",
            "2/2 [==============================] - 0s 8ms/step - loss: 13.7445 - mae: 13.7445\n",
            "Epoch 22/500\n",
            "2/2 [==============================] - 0s 6ms/step - loss: 21.9474 - mae: 21.9474\n",
            "Epoch 23/500\n",
            "2/2 [==============================] - 0s 4ms/step - loss: 10.4603 - mae: 10.4603\n",
            "Epoch 24/500\n",
            "2/2 [==============================] - 0s 7ms/step - loss: 15.7527 - mae: 15.7527\n",
            "Epoch 25/500\n",
            "2/2 [==============================] - 0s 9ms/step - loss: 14.9051 - mae: 14.9051\n",
            "Epoch 26/500\n",
            "2/2 [==============================] - 0s 9ms/step - loss: 19.5329 - mae: 19.5329\n",
            "Epoch 27/500\n",
            "2/2 [==============================] - 0s 11ms/step - loss: 20.5179 - mae: 20.5179\n",
            "Epoch 28/500\n",
            "2/2 [==============================] - 0s 4ms/step - loss: 14.8960 - mae: 14.8960\n",
            "Epoch 29/500\n",
            "2/2 [==============================] - 0s 6ms/step - loss: 9.2686 - mae: 9.2686\n",
            "Epoch 30/500\n",
            "2/2 [==============================] - 0s 5ms/step - loss: 30.2519 - mae: 30.2519\n",
            "Epoch 31/500\n",
            "2/2 [==============================] - 0s 8ms/step - loss: 54.9568 - mae: 54.9568\n",
            "Epoch 32/500\n",
            "2/2 [==============================] - 0s 4ms/step - loss: 9.6826 - mae: 9.6826\n",
            "Epoch 33/500\n",
            "2/2 [==============================] - 0s 5ms/step - loss: 12.2891 - mae: 12.2891\n",
            "Epoch 34/500\n",
            "2/2 [==============================] - 0s 8ms/step - loss: 24.3635 - mae: 24.3635\n",
            "Epoch 35/500\n",
            "2/2 [==============================] - 0s 15ms/step - loss: 11.9744 - mae: 11.9744\n",
            "Epoch 36/500\n",
            "2/2 [==============================] - 0s 8ms/step - loss: 22.2389 - mae: 22.2389\n",
            "Epoch 37/500\n",
            "2/2 [==============================] - 0s 5ms/step - loss: 17.3422 - mae: 17.3422\n",
            "Epoch 38/500\n",
            "2/2 [==============================] - 0s 8ms/step - loss: 10.6599 - mae: 10.6599\n",
            "Epoch 39/500\n",
            "2/2 [==============================] - 0s 7ms/step - loss: 11.1751 - mae: 11.1751\n",
            "Epoch 40/500\n",
            "2/2 [==============================] - 0s 9ms/step - loss: 17.9374 - mae: 17.9374\n",
            "Epoch 41/500\n",
            "2/2 [==============================] - 0s 5ms/step - loss: 10.3861 - mae: 10.3861\n",
            "Epoch 42/500\n",
            "2/2 [==============================] - 0s 8ms/step - loss: 7.2799 - mae: 7.2799\n",
            "Epoch 43/500\n",
            "2/2 [==============================] - 0s 11ms/step - loss: 18.8968 - mae: 18.8968\n",
            "Epoch 44/500\n",
            "2/2 [==============================] - 0s 4ms/step - loss: 20.0387 - mae: 20.0387\n",
            "Epoch 45/500\n",
            "2/2 [==============================] - 0s 6ms/step - loss: 10.1060 - mae: 10.1060\n",
            "Epoch 46/500\n",
            "2/2 [==============================] - 0s 6ms/step - loss: 11.3552 - mae: 11.3552\n",
            "Epoch 47/500\n",
            "2/2 [==============================] - 0s 8ms/step - loss: 9.8369 - mae: 9.8369\n",
            "Epoch 48/500\n",
            "2/2 [==============================] - 0s 5ms/step - loss: 17.6436 - mae: 17.6436\n",
            "Epoch 49/500\n",
            "2/2 [==============================] - 0s 9ms/step - loss: 9.3173 - mae: 9.3173\n",
            "Epoch 50/500\n",
            "2/2 [==============================] - 0s 5ms/step - loss: 13.3476 - mae: 13.3476\n",
            "Epoch 51/500\n",
            "2/2 [==============================] - 0s 6ms/step - loss: 11.4262 - mae: 11.4262\n",
            "Epoch 52/500\n",
            "2/2 [==============================] - 0s 6ms/step - loss: 29.3029 - mae: 29.3029\n",
            "Epoch 53/500\n",
            "2/2 [==============================] - 0s 8ms/step - loss: 16.6963 - mae: 16.6963\n",
            "Epoch 54/500\n",
            "2/2 [==============================] - 0s 5ms/step - loss: 21.6595 - mae: 21.6595\n",
            "Epoch 55/500\n",
            "2/2 [==============================] - 0s 7ms/step - loss: 22.0984 - mae: 22.0984\n",
            "Epoch 56/500\n",
            "2/2 [==============================] - 0s 5ms/step - loss: 11.2209 - mae: 11.2209\n",
            "Epoch 57/500\n",
            "2/2 [==============================] - 0s 4ms/step - loss: 13.1883 - mae: 13.1883\n",
            "Epoch 58/500\n",
            "2/2 [==============================] - 0s 9ms/step - loss: 9.8557 - mae: 9.8557\n",
            "Epoch 59/500\n",
            "2/2 [==============================] - 0s 7ms/step - loss: 13.3704 - mae: 13.3704\n",
            "Epoch 60/500\n",
            "2/2 [==============================] - 0s 6ms/step - loss: 10.9160 - mae: 10.9160\n",
            "Epoch 61/500\n",
            "2/2 [==============================] - 0s 7ms/step - loss: 13.5241 - mae: 13.5241\n",
            "Epoch 62/500\n",
            "2/2 [==============================] - 0s 5ms/step - loss: 17.5710 - mae: 17.5710\n",
            "Epoch 63/500\n",
            "2/2 [==============================] - 0s 7ms/step - loss: 9.1897 - mae: 9.1897\n",
            "Epoch 64/500\n",
            "2/2 [==============================] - 0s 9ms/step - loss: 18.4360 - mae: 18.4360\n",
            "Epoch 65/500\n",
            "2/2 [==============================] - 0s 7ms/step - loss: 10.1440 - mae: 10.1440\n",
            "Epoch 66/500\n",
            "2/2 [==============================] - 0s 7ms/step - loss: 24.3001 - mae: 24.3001\n",
            "Epoch 67/500\n",
            "2/2 [==============================] - 0s 6ms/step - loss: 10.9179 - mae: 10.9179\n",
            "Epoch 68/500\n",
            "2/2 [==============================] - 0s 6ms/step - loss: 10.7952 - mae: 10.7952\n",
            "Epoch 69/500\n",
            "2/2 [==============================] - 0s 8ms/step - loss: 23.2704 - mae: 23.2704\n",
            "Epoch 70/500\n",
            "2/2 [==============================] - 0s 5ms/step - loss: 8.8215 - mae: 8.8215\n",
            "Epoch 71/500\n",
            "2/2 [==============================] - 0s 6ms/step - loss: 15.9849 - mae: 15.9849\n",
            "Epoch 72/500\n",
            "2/2 [==============================] - 0s 5ms/step - loss: 8.1562 - mae: 8.1562\n",
            "Epoch 73/500\n",
            "2/2 [==============================] - 0s 11ms/step - loss: 9.4716 - mae: 9.4716\n",
            "Epoch 74/500\n",
            "2/2 [==============================] - 0s 19ms/step - loss: 28.1593 - mae: 28.1593\n",
            "Epoch 75/500\n",
            "2/2 [==============================] - 0s 6ms/step - loss: 10.2104 - mae: 10.2104\n",
            "Epoch 76/500\n",
            "2/2 [==============================] - 0s 5ms/step - loss: 13.1589 - mae: 13.1589\n",
            "Epoch 77/500\n",
            "2/2 [==============================] - 0s 4ms/step - loss: 18.3738 - mae: 18.3738\n",
            "Epoch 78/500\n",
            "2/2 [==============================] - 0s 4ms/step - loss: 9.0291 - mae: 9.0291\n",
            "Epoch 79/500\n",
            "2/2 [==============================] - 0s 4ms/step - loss: 23.4101 - mae: 23.4101\n",
            "Epoch 80/500\n",
            "2/2 [==============================] - 0s 6ms/step - loss: 26.0757 - mae: 26.0757\n",
            "Epoch 81/500\n",
            "2/2 [==============================] - 0s 7ms/step - loss: 11.3866 - mae: 11.3866\n",
            "Epoch 82/500\n",
            "2/2 [==============================] - 0s 8ms/step - loss: 12.5128 - mae: 12.5128\n",
            "Epoch 83/500\n",
            "2/2 [==============================] - 0s 5ms/step - loss: 17.2093 - mae: 17.2093\n",
            "Epoch 84/500\n",
            "2/2 [==============================] - 0s 4ms/step - loss: 6.6164 - mae: 6.6164\n",
            "Epoch 85/500\n",
            "2/2 [==============================] - 0s 5ms/step - loss: 20.2448 - mae: 20.2448\n",
            "Epoch 86/500\n",
            "2/2 [==============================] - 0s 4ms/step - loss: 10.1731 - mae: 10.1731\n",
            "Epoch 87/500\n",
            "2/2 [==============================] - 0s 5ms/step - loss: 24.2741 - mae: 24.2741\n",
            "Epoch 88/500\n",
            "2/2 [==============================] - 0s 9ms/step - loss: 18.9403 - mae: 18.9403\n",
            "Epoch 89/500\n",
            "2/2 [==============================] - 0s 6ms/step - loss: 7.6807 - mae: 7.6807\n",
            "Epoch 90/500\n",
            "2/2 [==============================] - 0s 16ms/step - loss: 17.3237 - mae: 17.3237\n",
            "Epoch 91/500\n",
            "2/2 [==============================] - 0s 7ms/step - loss: 12.4399 - mae: 12.4399\n",
            "Epoch 92/500\n",
            "2/2 [==============================] - 0s 7ms/step - loss: 24.7999 - mae: 24.7999\n",
            "Epoch 93/500\n",
            "2/2 [==============================] - 0s 6ms/step - loss: 15.4774 - mae: 15.4774\n",
            "Epoch 94/500\n",
            "2/2 [==============================] - 0s 6ms/step - loss: 9.7528 - mae: 9.7528\n",
            "Epoch 95/500\n",
            "2/2 [==============================] - 0s 5ms/step - loss: 18.3936 - mae: 18.3936\n",
            "Epoch 96/500\n",
            "2/2 [==============================] - 0s 8ms/step - loss: 10.3971 - mae: 10.3971\n",
            "Epoch 97/500\n",
            "2/2 [==============================] - 0s 7ms/step - loss: 14.1475 - mae: 14.1475\n",
            "Epoch 98/500\n",
            "2/2 [==============================] - 0s 18ms/step - loss: 9.6347 - mae: 9.6347\n",
            "Epoch 99/500\n",
            "2/2 [==============================] - 0s 5ms/step - loss: 11.3315 - mae: 11.3315\n",
            "Epoch 100/500\n",
            "2/2 [==============================] - 0s 4ms/step - loss: 29.2256 - mae: 29.2256\n",
            "Epoch 101/500\n",
            "2/2 [==============================] - 0s 3ms/step - loss: 15.5482 - mae: 15.5482\n",
            "Epoch 102/500\n",
            "2/2 [==============================] - 0s 7ms/step - loss: 10.9372 - mae: 10.9372\n",
            "Epoch 103/500\n",
            "2/2 [==============================] - 0s 10ms/step - loss: 9.2618 - mae: 9.2618\n",
            "Epoch 104/500\n",
            "2/2 [==============================] - 0s 5ms/step - loss: 24.1281 - mae: 24.1281\n",
            "Epoch 105/500\n",
            "2/2 [==============================] - 0s 6ms/step - loss: 10.9836 - mae: 10.9836\n",
            "Epoch 106/500\n",
            "2/2 [==============================] - 0s 5ms/step - loss: 11.4218 - mae: 11.4218\n",
            "Epoch 107/500\n",
            "2/2 [==============================] - 0s 5ms/step - loss: 21.6518 - mae: 21.6518\n",
            "Epoch 108/500\n",
            "2/2 [==============================] - 0s 9ms/step - loss: 7.2689 - mae: 7.2689\n",
            "Epoch 109/500\n",
            "2/2 [==============================] - 0s 5ms/step - loss: 18.8753 - mae: 18.8753\n",
            "Epoch 110/500\n",
            "2/2 [==============================] - 0s 11ms/step - loss: 11.0835 - mae: 11.0835\n",
            "Epoch 111/500\n",
            "2/2 [==============================] - 0s 10ms/step - loss: 17.6475 - mae: 17.6475\n",
            "Epoch 112/500\n",
            "2/2 [==============================] - 0s 6ms/step - loss: 6.6226 - mae: 6.6226\n",
            "Epoch 113/500\n",
            "2/2 [==============================] - 0s 5ms/step - loss: 13.5174 - mae: 13.5174\n",
            "Epoch 114/500\n",
            "2/2 [==============================] - 0s 9ms/step - loss: 20.0080 - mae: 20.0080\n",
            "Epoch 115/500\n",
            "2/2 [==============================] - 0s 5ms/step - loss: 10.8846 - mae: 10.8846\n",
            "Epoch 116/500\n",
            "2/2 [==============================] - 0s 4ms/step - loss: 22.1811 - mae: 22.1811\n",
            "Epoch 117/500\n",
            "2/2 [==============================] - 0s 4ms/step - loss: 9.3113 - mae: 9.3113\n",
            "Epoch 118/500\n",
            "2/2 [==============================] - 0s 4ms/step - loss: 10.3171 - mae: 10.3171\n",
            "Epoch 119/500\n",
            "2/2 [==============================] - 0s 6ms/step - loss: 8.0639 - mae: 8.0639\n",
            "Epoch 120/500\n",
            "2/2 [==============================] - 0s 5ms/step - loss: 37.3788 - mae: 37.3788\n",
            "Epoch 121/500\n",
            "2/2 [==============================] - 0s 6ms/step - loss: 10.6189 - mae: 10.6189\n",
            "Epoch 122/500\n",
            "2/2 [==============================] - 0s 8ms/step - loss: 28.0180 - mae: 28.0180\n",
            "Epoch 123/500\n",
            "2/2 [==============================] - 0s 6ms/step - loss: 32.5358 - mae: 32.5358\n",
            "Epoch 124/500\n",
            "2/2 [==============================] - 0s 4ms/step - loss: 19.3748 - mae: 19.3748\n",
            "Epoch 125/500\n",
            "2/2 [==============================] - 0s 5ms/step - loss: 6.4789 - mae: 6.4789\n",
            "Epoch 126/500\n",
            "2/2 [==============================] - 0s 5ms/step - loss: 26.5856 - mae: 26.5856\n",
            "Epoch 127/500\n",
            "2/2 [==============================] - 0s 4ms/step - loss: 8.6028 - mae: 8.6028\n",
            "Epoch 128/500\n",
            "2/2 [==============================] - 0s 5ms/step - loss: 13.7359 - mae: 13.7359\n",
            "Epoch 129/500\n",
            "2/2 [==============================] - 0s 7ms/step - loss: 10.8751 - mae: 10.8751\n",
            "Epoch 130/500\n",
            "2/2 [==============================] - 0s 7ms/step - loss: 15.3459 - mae: 15.3459\n",
            "Epoch 131/500\n",
            "2/2 [==============================] - 0s 6ms/step - loss: 8.8772 - mae: 8.8772\n",
            "Epoch 132/500\n",
            "2/2 [==============================] - 0s 4ms/step - loss: 14.8285 - mae: 14.8285\n",
            "Epoch 133/500\n",
            "2/2 [==============================] - 0s 9ms/step - loss: 7.9727 - mae: 7.9727\n",
            "Epoch 134/500\n",
            "2/2 [==============================] - 0s 8ms/step - loss: 22.4816 - mae: 22.4816\n",
            "Epoch 135/500\n",
            "2/2 [==============================] - 0s 6ms/step - loss: 19.9381 - mae: 19.9381\n",
            "Epoch 136/500\n",
            "2/2 [==============================] - 0s 9ms/step - loss: 13.8420 - mae: 13.8420\n",
            "Epoch 137/500\n",
            "2/2 [==============================] - 0s 11ms/step - loss: 25.3400 - mae: 25.3400\n",
            "Epoch 138/500\n",
            "2/2 [==============================] - 0s 12ms/step - loss: 10.0264 - mae: 10.0264\n",
            "Epoch 139/500\n",
            "2/2 [==============================] - 0s 9ms/step - loss: 9.4895 - mae: 9.4895\n",
            "Epoch 140/500\n",
            "2/2 [==============================] - 0s 5ms/step - loss: 18.5442 - mae: 18.5442\n",
            "Epoch 141/500\n",
            "2/2 [==============================] - 0s 5ms/step - loss: 8.3397 - mae: 8.3397\n",
            "Epoch 142/500\n",
            "2/2 [==============================] - 0s 5ms/step - loss: 33.1957 - mae: 33.1957\n",
            "Epoch 143/500\n",
            "2/2 [==============================] - 0s 5ms/step - loss: 23.3398 - mae: 23.3398\n",
            "Epoch 144/500\n",
            "2/2 [==============================] - 0s 7ms/step - loss: 10.5023 - mae: 10.5023\n",
            "Epoch 145/500\n",
            "2/2 [==============================] - 0s 4ms/step - loss: 25.8516 - mae: 25.8516\n",
            "Epoch 146/500\n",
            "2/2 [==============================] - 0s 5ms/step - loss: 9.9591 - mae: 9.9591\n",
            "Epoch 147/500\n",
            "2/2 [==============================] - 0s 4ms/step - loss: 14.7583 - mae: 14.7583\n",
            "Epoch 148/500\n",
            "2/2 [==============================] - 0s 10ms/step - loss: 17.8736 - mae: 17.8736\n",
            "Epoch 149/500\n",
            "2/2 [==============================] - 0s 5ms/step - loss: 8.4559 - mae: 8.4559\n",
            "Epoch 150/500\n",
            "2/2 [==============================] - 0s 4ms/step - loss: 7.6365 - mae: 7.6365\n",
            "Epoch 151/500\n",
            "2/2 [==============================] - 0s 6ms/step - loss: 18.7896 - mae: 18.7896\n",
            "Epoch 152/500\n",
            "2/2 [==============================] - 0s 6ms/step - loss: 10.4711 - mae: 10.4711\n",
            "Epoch 153/500\n",
            "2/2 [==============================] - 0s 5ms/step - loss: 30.2700 - mae: 30.2700\n",
            "Epoch 154/500\n",
            "2/2 [==============================] - 0s 7ms/step - loss: 10.0234 - mae: 10.0234\n",
            "Epoch 155/500\n",
            "2/2 [==============================] - 0s 3ms/step - loss: 15.7712 - mae: 15.7712\n",
            "Epoch 156/500\n",
            "2/2 [==============================] - 0s 9ms/step - loss: 17.7124 - mae: 17.7124\n",
            "Epoch 157/500\n",
            "2/2 [==============================] - 0s 4ms/step - loss: 31.0089 - mae: 31.0089\n",
            "Epoch 158/500\n",
            "2/2 [==============================] - 0s 5ms/step - loss: 10.2082 - mae: 10.2082\n",
            "Epoch 159/500\n",
            "2/2 [==============================] - 0s 6ms/step - loss: 8.6972 - mae: 8.6972\n",
            "Epoch 160/500\n",
            "2/2 [==============================] - 0s 8ms/step - loss: 20.6666 - mae: 20.6666\n",
            "Epoch 161/500\n",
            "2/2 [==============================] - 0s 5ms/step - loss: 11.7960 - mae: 11.7960\n",
            "Epoch 162/500\n",
            "2/2 [==============================] - 0s 3ms/step - loss: 21.6394 - mae: 21.6394\n",
            "Epoch 163/500\n",
            "2/2 [==============================] - 0s 10ms/step - loss: 19.3196 - mae: 19.3196\n",
            "Epoch 164/500\n",
            "2/2 [==============================] - 0s 4ms/step - loss: 11.1015 - mae: 11.1015\n",
            "Epoch 165/500\n",
            "2/2 [==============================] - 0s 4ms/step - loss: 9.6417 - mae: 9.6417\n",
            "Epoch 166/500\n",
            "2/2 [==============================] - 0s 11ms/step - loss: 21.5954 - mae: 21.5954\n",
            "Epoch 167/500\n",
            "2/2 [==============================] - 0s 4ms/step - loss: 26.2930 - mae: 26.2930\n",
            "Epoch 168/500\n",
            "2/2 [==============================] - 0s 9ms/step - loss: 9.9187 - mae: 9.9187\n",
            "Epoch 169/500\n",
            "2/2 [==============================] - 0s 6ms/step - loss: 22.5225 - mae: 22.5225\n",
            "Epoch 170/500\n",
            "2/2 [==============================] - 0s 7ms/step - loss: 10.1903 - mae: 10.1903\n",
            "Epoch 171/500\n",
            "2/2 [==============================] - 0s 4ms/step - loss: 18.0827 - mae: 18.0827\n",
            "Epoch 172/500\n",
            "2/2 [==============================] - 0s 5ms/step - loss: 28.7578 - mae: 28.7578\n",
            "Epoch 173/500\n",
            "2/2 [==============================] - 0s 13ms/step - loss: 16.4852 - mae: 16.4852\n",
            "Epoch 174/500\n",
            "2/2 [==============================] - 0s 4ms/step - loss: 11.2489 - mae: 11.2489\n",
            "Epoch 175/500\n",
            "2/2 [==============================] - 0s 8ms/step - loss: 27.6108 - mae: 27.6108\n",
            "Epoch 176/500\n",
            "2/2 [==============================] - 0s 5ms/step - loss: 8.3004 - mae: 8.3004\n",
            "Epoch 177/500\n",
            "2/2 [==============================] - 0s 4ms/step - loss: 9.2988 - mae: 9.2988\n",
            "Epoch 178/500\n",
            "2/2 [==============================] - 0s 5ms/step - loss: 18.0412 - mae: 18.0412\n",
            "Epoch 179/500\n",
            "2/2 [==============================] - 0s 5ms/step - loss: 10.6654 - mae: 10.6654\n",
            "Epoch 180/500\n",
            "2/2 [==============================] - 0s 5ms/step - loss: 7.9375 - mae: 7.9375\n",
            "Epoch 181/500\n",
            "2/2 [==============================] - 0s 6ms/step - loss: 17.2835 - mae: 17.2835\n",
            "Epoch 182/500\n",
            "2/2 [==============================] - 0s 5ms/step - loss: 11.0119 - mae: 11.0119\n",
            "Epoch 183/500\n",
            "2/2 [==============================] - 0s 4ms/step - loss: 11.6559 - mae: 11.6559\n",
            "Epoch 184/500\n",
            "2/2 [==============================] - 0s 5ms/step - loss: 30.1458 - mae: 30.1458\n",
            "Epoch 185/500\n",
            "2/2 [==============================] - 0s 4ms/step - loss: 8.2360 - mae: 8.2360\n",
            "Epoch 186/500\n",
            "2/2 [==============================] - 0s 6ms/step - loss: 18.7386 - mae: 18.7386\n",
            "Epoch 187/500\n",
            "2/2 [==============================] - 0s 5ms/step - loss: 8.8206 - mae: 8.8206\n",
            "Epoch 188/500\n",
            "2/2 [==============================] - 0s 5ms/step - loss: 23.7300 - mae: 23.7300\n",
            "Epoch 189/500\n",
            "2/2 [==============================] - 0s 6ms/step - loss: 9.4050 - mae: 9.4050\n",
            "Epoch 190/500\n",
            "2/2 [==============================] - 0s 5ms/step - loss: 17.0241 - mae: 17.0241\n",
            "Epoch 191/500\n",
            "2/2 [==============================] - 0s 7ms/step - loss: 8.6338 - mae: 8.6338\n",
            "Epoch 192/500\n",
            "2/2 [==============================] - 0s 9ms/step - loss: 15.2032 - mae: 15.2032\n",
            "Epoch 193/500\n",
            "2/2 [==============================] - 0s 5ms/step - loss: 30.0490 - mae: 30.0490\n",
            "Epoch 194/500\n",
            "2/2 [==============================] - 0s 9ms/step - loss: 9.7016 - mae: 9.7016\n",
            "Epoch 195/500\n",
            "2/2 [==============================] - 0s 16ms/step - loss: 12.0538 - mae: 12.0538\n",
            "Epoch 196/500\n",
            "2/2 [==============================] - 0s 4ms/step - loss: 23.4358 - mae: 23.4358\n",
            "Epoch 197/500\n",
            "2/2 [==============================] - 0s 10ms/step - loss: 17.7750 - mae: 17.7750\n",
            "Epoch 198/500\n",
            "2/2 [==============================] - 0s 10ms/step - loss: 12.5832 - mae: 12.5832\n",
            "Epoch 199/500\n",
            "2/2 [==============================] - 0s 4ms/step - loss: 18.0282 - mae: 18.0282\n",
            "Epoch 200/500\n",
            "2/2 [==============================] - 0s 4ms/step - loss: 13.8632 - mae: 13.8632\n",
            "Epoch 201/500\n",
            "2/2 [==============================] - 0s 5ms/step - loss: 6.1174 - mae: 6.1174\n",
            "Epoch 202/500\n",
            "2/2 [==============================] - 0s 9ms/step - loss: 22.8020 - mae: 22.8020\n",
            "Epoch 203/500\n",
            "2/2 [==============================] - 0s 5ms/step - loss: 9.0210 - mae: 9.0210\n",
            "Epoch 204/500\n",
            "2/2 [==============================] - 0s 9ms/step - loss: 18.7560 - mae: 18.7560\n",
            "Epoch 205/500\n",
            "2/2 [==============================] - 0s 5ms/step - loss: 9.4007 - mae: 9.4007\n",
            "Epoch 206/500\n",
            "2/2 [==============================] - 0s 4ms/step - loss: 10.4659 - mae: 10.4659\n",
            "Epoch 207/500\n",
            "2/2 [==============================] - 0s 13ms/step - loss: 20.9355 - mae: 20.9355\n",
            "Epoch 208/500\n",
            "2/2 [==============================] - 0s 6ms/step - loss: 16.3898 - mae: 16.3898\n",
            "Epoch 209/500\n",
            "2/2 [==============================] - 0s 13ms/step - loss: 14.2563 - mae: 14.2563\n",
            "Epoch 210/500\n",
            "2/2 [==============================] - 0s 3ms/step - loss: 17.1929 - mae: 17.1929\n",
            "Epoch 211/500\n",
            "2/2 [==============================] - 0s 3ms/step - loss: 10.2735 - mae: 10.2735\n",
            "Epoch 212/500\n",
            "2/2 [==============================] - 0s 4ms/step - loss: 19.6172 - mae: 19.6172\n",
            "Epoch 213/500\n",
            "2/2 [==============================] - 0s 17ms/step - loss: 14.7333 - mae: 14.7333\n",
            "Epoch 214/500\n",
            "2/2 [==============================] - 0s 17ms/step - loss: 14.3993 - mae: 14.3993\n",
            "Epoch 215/500\n",
            "2/2 [==============================] - 0s 13ms/step - loss: 22.9238 - mae: 22.9238\n",
            "Epoch 216/500\n",
            "2/2 [==============================] - 0s 17ms/step - loss: 13.8293 - mae: 13.8293\n",
            "Epoch 217/500\n",
            "2/2 [==============================] - 0s 10ms/step - loss: 10.2945 - mae: 10.2945\n",
            "Epoch 218/500\n",
            "2/2 [==============================] - 0s 11ms/step - loss: 12.3225 - mae: 12.3225\n",
            "Epoch 219/500\n",
            "2/2 [==============================] - 0s 10ms/step - loss: 6.5698 - mae: 6.5698\n",
            "Epoch 220/500\n",
            "2/2 [==============================] - 0s 6ms/step - loss: 7.1867 - mae: 7.1867\n",
            "Epoch 221/500\n",
            "2/2 [==============================] - 0s 6ms/step - loss: 37.2999 - mae: 37.2999\n",
            "Epoch 222/500\n",
            "2/2 [==============================] - 0s 3ms/step - loss: 37.0664 - mae: 37.0664\n",
            "Epoch 223/500\n",
            "2/2 [==============================] - 0s 4ms/step - loss: 6.7001 - mae: 6.7001\n",
            "Epoch 224/500\n",
            "2/2 [==============================] - 0s 3ms/step - loss: 13.8680 - mae: 13.8680\n",
            "Epoch 225/500\n",
            "2/2 [==============================] - 0s 7ms/step - loss: 16.0472 - mae: 16.0472\n",
            "Epoch 226/500\n",
            "2/2 [==============================] - 0s 6ms/step - loss: 15.2594 - mae: 15.2594\n",
            "Epoch 227/500\n",
            "2/2 [==============================] - 0s 12ms/step - loss: 15.5933 - mae: 15.5933\n",
            "Epoch 228/500\n",
            "2/2 [==============================] - 0s 13ms/step - loss: 13.6495 - mae: 13.6495\n",
            "Epoch 229/500\n",
            "2/2 [==============================] - 0s 4ms/step - loss: 17.7430 - mae: 17.7430\n",
            "Epoch 230/500\n",
            "2/2 [==============================] - 0s 4ms/step - loss: 15.2268 - mae: 15.2268\n",
            "Epoch 231/500\n",
            "2/2 [==============================] - 0s 4ms/step - loss: 21.1424 - mae: 21.1424\n",
            "Epoch 232/500\n",
            "2/2 [==============================] - 0s 4ms/step - loss: 25.1498 - mae: 25.1498\n",
            "Epoch 233/500\n",
            "2/2 [==============================] - 0s 8ms/step - loss: 16.2386 - mae: 16.2386\n",
            "Epoch 234/500\n",
            "2/2 [==============================] - 0s 8ms/step - loss: 7.3276 - mae: 7.3276\n",
            "Epoch 235/500\n",
            "2/2 [==============================] - 0s 5ms/step - loss: 16.8662 - mae: 16.8662\n",
            "Epoch 236/500\n",
            "2/2 [==============================] - 0s 4ms/step - loss: 7.1511 - mae: 7.1511\n",
            "Epoch 237/500\n",
            "2/2 [==============================] - 0s 4ms/step - loss: 9.2014 - mae: 9.2014\n",
            "Epoch 238/500\n",
            "2/2 [==============================] - 0s 9ms/step - loss: 8.1272 - mae: 8.1272\n",
            "Epoch 239/500\n",
            "2/2 [==============================] - 0s 6ms/step - loss: 16.8168 - mae: 16.8168\n",
            "Epoch 240/500\n",
            "2/2 [==============================] - 0s 5ms/step - loss: 8.8452 - mae: 8.8452\n",
            "Epoch 241/500\n",
            "2/2 [==============================] - 0s 10ms/step - loss: 12.6594 - mae: 12.6594\n",
            "Epoch 242/500\n",
            "2/2 [==============================] - 0s 4ms/step - loss: 10.8230 - mae: 10.8230\n",
            "Epoch 243/500\n",
            "2/2 [==============================] - 0s 4ms/step - loss: 17.0533 - mae: 17.0533\n",
            "Epoch 244/500\n",
            "2/2 [==============================] - 0s 4ms/step - loss: 14.6108 - mae: 14.6108\n",
            "Epoch 245/500\n",
            "2/2 [==============================] - 0s 5ms/step - loss: 15.1689 - mae: 15.1689\n",
            "Epoch 246/500\n",
            "2/2 [==============================] - 0s 5ms/step - loss: 16.2709 - mae: 16.2709\n",
            "Epoch 247/500\n",
            "2/2 [==============================] - 0s 16ms/step - loss: 18.2963 - mae: 18.2963\n",
            "Epoch 248/500\n",
            "2/2 [==============================] - 0s 9ms/step - loss: 13.8213 - mae: 13.8213\n",
            "Epoch 249/500\n",
            "2/2 [==============================] - 0s 15ms/step - loss: 14.8989 - mae: 14.8989\n",
            "Epoch 250/500\n",
            "2/2 [==============================] - 0s 7ms/step - loss: 18.6194 - mae: 18.6194\n",
            "Epoch 251/500\n",
            "2/2 [==============================] - 0s 4ms/step - loss: 13.8852 - mae: 13.8852\n",
            "Epoch 252/500\n",
            "2/2 [==============================] - 0s 5ms/step - loss: 29.4945 - mae: 29.4945\n",
            "Epoch 253/500\n",
            "2/2 [==============================] - 0s 4ms/step - loss: 8.2609 - mae: 8.2609\n",
            "Epoch 254/500\n",
            "2/2 [==============================] - 0s 7ms/step - loss: 11.6997 - mae: 11.6997\n",
            "Epoch 255/500\n",
            "2/2 [==============================] - 0s 7ms/step - loss: 15.5994 - mae: 15.5994\n",
            "Epoch 256/500\n",
            "2/2 [==============================] - 0s 6ms/step - loss: 9.7915 - mae: 9.7915\n",
            "Epoch 257/500\n",
            "2/2 [==============================] - 0s 7ms/step - loss: 14.2876 - mae: 14.2876\n",
            "Epoch 258/500\n",
            "2/2 [==============================] - 0s 6ms/step - loss: 5.8605 - mae: 5.8605\n",
            "Epoch 259/500\n",
            "2/2 [==============================] - 0s 4ms/step - loss: 14.9434 - mae: 14.9434\n",
            "Epoch 260/500\n",
            "2/2 [==============================] - 0s 6ms/step - loss: 19.9659 - mae: 19.9659\n",
            "Epoch 261/500\n",
            "2/2 [==============================] - 0s 5ms/step - loss: 5.8382 - mae: 5.8382\n",
            "Epoch 262/500\n",
            "2/2 [==============================] - 0s 23ms/step - loss: 18.6924 - mae: 18.6924\n",
            "Epoch 263/500\n",
            "2/2 [==============================] - 0s 5ms/step - loss: 10.7342 - mae: 10.7342\n",
            "Epoch 264/500\n",
            "2/2 [==============================] - 0s 5ms/step - loss: 18.1167 - mae: 18.1167\n",
            "Epoch 265/500\n",
            "2/2 [==============================] - 0s 15ms/step - loss: 14.4491 - mae: 14.4491\n",
            "Epoch 266/500\n",
            "2/2 [==============================] - 0s 8ms/step - loss: 11.0460 - mae: 11.0460\n",
            "Epoch 267/500\n",
            "2/2 [==============================] - 0s 6ms/step - loss: 6.0513 - mae: 6.0513\n",
            "Epoch 268/500\n",
            "2/2 [==============================] - 0s 5ms/step - loss: 18.6656 - mae: 18.6656\n",
            "Epoch 269/500\n",
            "2/2 [==============================] - 0s 10ms/step - loss: 42.3872 - mae: 42.3872\n",
            "Epoch 270/500\n",
            "2/2 [==============================] - 0s 8ms/step - loss: 14.1671 - mae: 14.1671\n",
            "Epoch 271/500\n",
            "2/2 [==============================] - 0s 9ms/step - loss: 15.4573 - mae: 15.4573\n",
            "Epoch 272/500\n",
            "2/2 [==============================] - 0s 6ms/step - loss: 22.2724 - mae: 22.2724\n",
            "Epoch 273/500\n",
            "2/2 [==============================] - 0s 5ms/step - loss: 22.5080 - mae: 22.5080\n",
            "Epoch 274/500\n",
            "2/2 [==============================] - 0s 4ms/step - loss: 13.3780 - mae: 13.3780\n",
            "Epoch 275/500\n",
            "2/2 [==============================] - 0s 13ms/step - loss: 29.4402 - mae: 29.4402\n",
            "Epoch 276/500\n",
            "2/2 [==============================] - 0s 7ms/step - loss: 8.1424 - mae: 8.1424\n",
            "Epoch 277/500\n",
            "2/2 [==============================] - 0s 9ms/step - loss: 30.6455 - mae: 30.6455\n",
            "Epoch 278/500\n",
            "2/2 [==============================] - 0s 8ms/step - loss: 11.4993 - mae: 11.4993\n",
            "Epoch 279/500\n",
            "2/2 [==============================] - 0s 7ms/step - loss: 16.2360 - mae: 16.2360\n",
            "Epoch 280/500\n",
            "2/2 [==============================] - 0s 5ms/step - loss: 21.5085 - mae: 21.5085\n",
            "Epoch 281/500\n",
            "2/2 [==============================] - 0s 7ms/step - loss: 23.1132 - mae: 23.1132\n",
            "Epoch 282/500\n",
            "2/2 [==============================] - 0s 5ms/step - loss: 8.0816 - mae: 8.0816\n",
            "Epoch 283/500\n",
            "2/2 [==============================] - 0s 7ms/step - loss: 8.3493 - mae: 8.3493\n",
            "Epoch 284/500\n",
            "2/2 [==============================] - 0s 4ms/step - loss: 25.8477 - mae: 25.8477\n",
            "Epoch 285/500\n",
            "2/2 [==============================] - 0s 4ms/step - loss: 14.3905 - mae: 14.3905\n",
            "Epoch 286/500\n",
            "2/2 [==============================] - 0s 4ms/step - loss: 4.5664 - mae: 4.5664\n",
            "Epoch 287/500\n",
            "2/2 [==============================] - 0s 5ms/step - loss: 12.9747 - mae: 12.9747\n",
            "Epoch 288/500\n",
            "2/2 [==============================] - 0s 13ms/step - loss: 24.7477 - mae: 24.7477\n",
            "Epoch 289/500\n",
            "2/2 [==============================] - 0s 17ms/step - loss: 9.7176 - mae: 9.7176\n",
            "Epoch 290/500\n",
            "2/2 [==============================] - 0s 4ms/step - loss: 11.7696 - mae: 11.7696\n",
            "Epoch 291/500\n",
            "2/2 [==============================] - 0s 4ms/step - loss: 10.1332 - mae: 10.1332\n",
            "Epoch 292/500\n",
            "2/2 [==============================] - 0s 4ms/step - loss: 16.7459 - mae: 16.7459\n",
            "Epoch 293/500\n",
            "2/2 [==============================] - 0s 15ms/step - loss: 17.5792 - mae: 17.5792\n",
            "Epoch 294/500\n",
            "2/2 [==============================] - 0s 12ms/step - loss: 29.9487 - mae: 29.9487\n",
            "Epoch 295/500\n",
            "2/2 [==============================] - 0s 7ms/step - loss: 8.0617 - mae: 8.0617\n",
            "Epoch 296/500\n",
            "2/2 [==============================] - 0s 12ms/step - loss: 16.1827 - mae: 16.1827\n",
            "Epoch 297/500\n",
            "2/2 [==============================] - 0s 5ms/step - loss: 14.4999 - mae: 14.4999\n",
            "Epoch 298/500\n",
            "2/2 [==============================] - 0s 8ms/step - loss: 21.8818 - mae: 21.8818\n",
            "Epoch 299/500\n",
            "2/2 [==============================] - 0s 6ms/step - loss: 20.6688 - mae: 20.6688\n",
            "Epoch 300/500\n",
            "2/2 [==============================] - 0s 8ms/step - loss: 9.4239 - mae: 9.4239\n",
            "Epoch 301/500\n",
            "2/2 [==============================] - 0s 6ms/step - loss: 12.9803 - mae: 12.9803\n",
            "Epoch 302/500\n",
            "2/2 [==============================] - 0s 16ms/step - loss: 7.5276 - mae: 7.5276\n",
            "Epoch 303/500\n",
            "2/2 [==============================] - 0s 7ms/step - loss: 18.4010 - mae: 18.4010\n",
            "Epoch 304/500\n",
            "2/2 [==============================] - 0s 4ms/step - loss: 11.8587 - mae: 11.8587\n",
            "Epoch 305/500\n",
            "2/2 [==============================] - 0s 5ms/step - loss: 9.0002 - mae: 9.0002\n",
            "Epoch 306/500\n",
            "2/2 [==============================] - 0s 5ms/step - loss: 21.4748 - mae: 21.4748\n",
            "Epoch 307/500\n",
            "2/2 [==============================] - 0s 4ms/step - loss: 8.3272 - mae: 8.3272\n",
            "Epoch 308/500\n",
            "2/2 [==============================] - 0s 4ms/step - loss: 21.0515 - mae: 21.0515\n",
            "Epoch 309/500\n",
            "2/2 [==============================] - 0s 4ms/step - loss: 19.0024 - mae: 19.0024\n",
            "Epoch 310/500\n",
            "2/2 [==============================] - 0s 4ms/step - loss: 5.9632 - mae: 5.9632\n",
            "Epoch 311/500\n",
            "2/2 [==============================] - 0s 6ms/step - loss: 8.8495 - mae: 8.8495\n",
            "Epoch 312/500\n",
            "2/2 [==============================] - 0s 4ms/step - loss: 29.9548 - mae: 29.9548\n",
            "Epoch 313/500\n",
            "2/2 [==============================] - 0s 12ms/step - loss: 7.7322 - mae: 7.7322\n",
            "Epoch 314/500\n",
            "2/2 [==============================] - 0s 10ms/step - loss: 9.9463 - mae: 9.9463\n",
            "Epoch 315/500\n",
            "2/2 [==============================] - 0s 3ms/step - loss: 23.7799 - mae: 23.7799\n",
            "Epoch 316/500\n",
            "2/2 [==============================] - 0s 10ms/step - loss: 16.3713 - mae: 16.3713\n",
            "Epoch 317/500\n",
            "2/2 [==============================] - 0s 7ms/step - loss: 20.9379 - mae: 20.9379\n",
            "Epoch 318/500\n",
            "2/2 [==============================] - 0s 8ms/step - loss: 9.3170 - mae: 9.3170\n",
            "Epoch 319/500\n",
            "2/2 [==============================] - 0s 11ms/step - loss: 11.9006 - mae: 11.9006\n",
            "Epoch 320/500\n",
            "2/2 [==============================] - 0s 9ms/step - loss: 12.5255 - mae: 12.5255\n",
            "Epoch 321/500\n",
            "2/2 [==============================] - 0s 19ms/step - loss: 5.3927 - mae: 5.3927\n",
            "Epoch 322/500\n",
            "2/2 [==============================] - 0s 7ms/step - loss: 14.1976 - mae: 14.1976\n",
            "Epoch 323/500\n",
            "2/2 [==============================] - 0s 11ms/step - loss: 18.6073 - mae: 18.6073\n",
            "Epoch 324/500\n",
            "2/2 [==============================] - 0s 5ms/step - loss: 18.0772 - mae: 18.0772\n",
            "Epoch 325/500\n",
            "2/2 [==============================] - 0s 7ms/step - loss: 7.2643 - mae: 7.2643\n",
            "Epoch 326/500\n",
            "2/2 [==============================] - 0s 4ms/step - loss: 22.1059 - mae: 22.1059\n",
            "Epoch 327/500\n",
            "2/2 [==============================] - 0s 9ms/step - loss: 22.0709 - mae: 22.0709\n",
            "Epoch 328/500\n",
            "2/2 [==============================] - 0s 5ms/step - loss: 13.2871 - mae: 13.2871\n",
            "Epoch 329/500\n",
            "2/2 [==============================] - 0s 12ms/step - loss: 16.2072 - mae: 16.2072\n",
            "Epoch 330/500\n",
            "2/2 [==============================] - 0s 5ms/step - loss: 7.4622 - mae: 7.4622\n",
            "Epoch 331/500\n",
            "2/2 [==============================] - 0s 5ms/step - loss: 23.0113 - mae: 23.0113\n",
            "Epoch 332/500\n",
            "2/2 [==============================] - 0s 10ms/step - loss: 13.6755 - mae: 13.6755\n",
            "Epoch 333/500\n",
            "2/2 [==============================] - 0s 10ms/step - loss: 10.7422 - mae: 10.7422\n",
            "Epoch 334/500\n",
            "2/2 [==============================] - 0s 8ms/step - loss: 7.0640 - mae: 7.0640\n",
            "Epoch 335/500\n",
            "2/2 [==============================] - 0s 8ms/step - loss: 13.0376 - mae: 13.0376\n",
            "Epoch 336/500\n",
            "2/2 [==============================] - 0s 5ms/step - loss: 32.3721 - mae: 32.3721\n",
            "Epoch 337/500\n",
            "2/2 [==============================] - 0s 6ms/step - loss: 10.6174 - mae: 10.6174\n",
            "Epoch 338/500\n",
            "2/2 [==============================] - 0s 7ms/step - loss: 20.0675 - mae: 20.0675\n",
            "Epoch 339/500\n",
            "2/2 [==============================] - 0s 4ms/step - loss: 34.0093 - mae: 34.0093\n",
            "Epoch 340/500\n",
            "2/2 [==============================] - 0s 7ms/step - loss: 8.7536 - mae: 8.7536\n",
            "Epoch 341/500\n",
            "2/2 [==============================] - 0s 7ms/step - loss: 21.6339 - mae: 21.6339\n",
            "Epoch 342/500\n",
            "2/2 [==============================] - 0s 6ms/step - loss: 13.9513 - mae: 13.9513\n",
            "Epoch 343/500\n",
            "2/2 [==============================] - 0s 7ms/step - loss: 11.8259 - mae: 11.8259\n",
            "Epoch 344/500\n",
            "2/2 [==============================] - 0s 8ms/step - loss: 10.7767 - mae: 10.7767\n",
            "Epoch 345/500\n",
            "2/2 [==============================] - 0s 7ms/step - loss: 30.9845 - mae: 30.9845\n",
            "Epoch 346/500\n",
            "2/2 [==============================] - 0s 7ms/step - loss: 10.7208 - mae: 10.7208\n",
            "Epoch 347/500\n",
            "2/2 [==============================] - 0s 4ms/step - loss: 25.6966 - mae: 25.6966\n",
            "Epoch 348/500\n",
            "2/2 [==============================] - 0s 5ms/step - loss: 12.8617 - mae: 12.8617\n",
            "Epoch 349/500\n",
            "2/2 [==============================] - 0s 6ms/step - loss: 12.5088 - mae: 12.5088\n",
            "Epoch 350/500\n",
            "2/2 [==============================] - 0s 4ms/step - loss: 15.2524 - mae: 15.2524\n",
            "Epoch 351/500\n",
            "2/2 [==============================] - 0s 6ms/step - loss: 32.5285 - mae: 32.5285\n",
            "Epoch 352/500\n",
            "2/2 [==============================] - 0s 13ms/step - loss: 13.5637 - mae: 13.5637\n",
            "Epoch 353/500\n",
            "2/2 [==============================] - 0s 13ms/step - loss: 17.4727 - mae: 17.4727\n",
            "Epoch 354/500\n",
            "2/2 [==============================] - 0s 4ms/step - loss: 11.2017 - mae: 11.2017\n",
            "Epoch 355/500\n",
            "2/2 [==============================] - 0s 4ms/step - loss: 26.4454 - mae: 26.4454\n",
            "Epoch 356/500\n",
            "2/2 [==============================] - 0s 4ms/step - loss: 11.0363 - mae: 11.0363\n",
            "Epoch 357/500\n",
            "2/2 [==============================] - 0s 6ms/step - loss: 13.2792 - mae: 13.2792\n",
            "Epoch 358/500\n",
            "2/2 [==============================] - 0s 4ms/step - loss: 14.6967 - mae: 14.6967\n",
            "Epoch 359/500\n",
            "2/2 [==============================] - 0s 15ms/step - loss: 12.3799 - mae: 12.3799\n",
            "Epoch 360/500\n",
            "2/2 [==============================] - 0s 7ms/step - loss: 20.3690 - mae: 20.3690\n",
            "Epoch 361/500\n",
            "2/2 [==============================] - 0s 10ms/step - loss: 10.9270 - mae: 10.9270\n",
            "Epoch 362/500\n",
            "2/2 [==============================] - 0s 10ms/step - loss: 6.9139 - mae: 6.9139\n",
            "Epoch 363/500\n",
            "2/2 [==============================] - 0s 9ms/step - loss: 23.7471 - mae: 23.7471\n",
            "Epoch 364/500\n",
            "2/2 [==============================] - 0s 5ms/step - loss: 29.4387 - mae: 29.4387\n",
            "Epoch 365/500\n",
            "2/2 [==============================] - 0s 7ms/step - loss: 8.3466 - mae: 8.3466\n",
            "Epoch 366/500\n",
            "2/2 [==============================] - 0s 7ms/step - loss: 6.2010 - mae: 6.2010\n",
            "Epoch 367/500\n",
            "2/2 [==============================] - 0s 6ms/step - loss: 34.3571 - mae: 34.3571\n",
            "Epoch 368/500\n",
            "2/2 [==============================] - 0s 8ms/step - loss: 7.4076 - mae: 7.4076\n",
            "Epoch 369/500\n",
            "2/2 [==============================] - 0s 4ms/step - loss: 8.2398 - mae: 8.2398\n",
            "Epoch 370/500\n",
            "2/2 [==============================] - 0s 4ms/step - loss: 17.8964 - mae: 17.8964\n",
            "Epoch 371/500\n",
            "2/2 [==============================] - 0s 8ms/step - loss: 7.0861 - mae: 7.0861\n",
            "Epoch 372/500\n",
            "2/2 [==============================] - 0s 7ms/step - loss: 6.6984 - mae: 6.6984\n",
            "Epoch 373/500\n",
            "2/2 [==============================] - 0s 4ms/step - loss: 24.5122 - mae: 24.5122\n",
            "Epoch 374/500\n",
            "2/2 [==============================] - 0s 4ms/step - loss: 9.8395 - mae: 9.8395\n",
            "Epoch 375/500\n",
            "2/2 [==============================] - 0s 4ms/step - loss: 13.1546 - mae: 13.1546\n",
            "Epoch 376/500\n",
            "2/2 [==============================] - 0s 5ms/step - loss: 15.0364 - mae: 15.0364\n",
            "Epoch 377/500\n",
            "2/2 [==============================] - 0s 16ms/step - loss: 14.9483 - mae: 14.9483\n",
            "Epoch 378/500\n",
            "2/2 [==============================] - 0s 12ms/step - loss: 16.3949 - mae: 16.3949\n",
            "Epoch 379/500\n",
            "2/2 [==============================] - 0s 5ms/step - loss: 21.0705 - mae: 21.0705\n",
            "Epoch 380/500\n",
            "2/2 [==============================] - 0s 6ms/step - loss: 32.8549 - mae: 32.8549\n",
            "Epoch 381/500\n",
            "2/2 [==============================] - 0s 9ms/step - loss: 8.1297 - mae: 8.1297\n",
            "Epoch 382/500\n",
            "2/2 [==============================] - 0s 8ms/step - loss: 12.5261 - mae: 12.5261\n",
            "Epoch 383/500\n",
            "2/2 [==============================] - 0s 4ms/step - loss: 7.2654 - mae: 7.2654\n",
            "Epoch 384/500\n",
            "2/2 [==============================] - 0s 13ms/step - loss: 6.5541 - mae: 6.5541\n",
            "Epoch 385/500\n",
            "2/2 [==============================] - 0s 7ms/step - loss: 11.6542 - mae: 11.6542\n",
            "Epoch 386/500\n",
            "2/2 [==============================] - 0s 7ms/step - loss: 19.9805 - mae: 19.9805\n",
            "Epoch 387/500\n",
            "2/2 [==============================] - 0s 4ms/step - loss: 24.3701 - mae: 24.3701\n",
            "Epoch 388/500\n",
            "2/2 [==============================] - 0s 4ms/step - loss: 7.7547 - mae: 7.7547\n",
            "Epoch 389/500\n",
            "2/2 [==============================] - 0s 9ms/step - loss: 14.2203 - mae: 14.2203\n",
            "Epoch 390/500\n",
            "2/2 [==============================] - 0s 11ms/step - loss: 5.6201 - mae: 5.6201\n",
            "Epoch 391/500\n",
            "2/2 [==============================] - 0s 23ms/step - loss: 17.7963 - mae: 17.7963\n",
            "Epoch 392/500\n",
            "2/2 [==============================] - 0s 16ms/step - loss: 16.5890 - mae: 16.5890\n",
            "Epoch 393/500\n",
            "2/2 [==============================] - 0s 11ms/step - loss: 9.3979 - mae: 9.3979\n",
            "Epoch 394/500\n",
            "2/2 [==============================] - 0s 5ms/step - loss: 14.1810 - mae: 14.1810\n",
            "Epoch 395/500\n",
            "2/2 [==============================] - 0s 22ms/step - loss: 28.6027 - mae: 28.6027\n",
            "Epoch 396/500\n",
            "2/2 [==============================] - 0s 19ms/step - loss: 8.4178 - mae: 8.4178\n",
            "Epoch 397/500\n",
            "2/2 [==============================] - 0s 18ms/step - loss: 10.7066 - mae: 10.7066\n",
            "Epoch 398/500\n",
            "2/2 [==============================] - 0s 8ms/step - loss: 7.5465 - mae: 7.5465\n",
            "Epoch 399/500\n",
            "2/2 [==============================] - 0s 16ms/step - loss: 15.7654 - mae: 15.7654\n",
            "Epoch 400/500\n",
            "2/2 [==============================] - 0s 7ms/step - loss: 6.8889 - mae: 6.8889\n",
            "Epoch 401/500\n",
            "2/2 [==============================] - 0s 9ms/step - loss: 8.1204 - mae: 8.1204\n",
            "Epoch 402/500\n",
            "2/2 [==============================] - 0s 8ms/step - loss: 16.6200 - mae: 16.6200\n",
            "Epoch 403/500\n",
            "2/2 [==============================] - 0s 7ms/step - loss: 12.3841 - mae: 12.3841\n",
            "Epoch 404/500\n",
            "2/2 [==============================] - 0s 7ms/step - loss: 22.9225 - mae: 22.9225\n",
            "Epoch 405/500\n",
            "2/2 [==============================] - 0s 11ms/step - loss: 18.1356 - mae: 18.1356\n",
            "Epoch 406/500\n",
            "2/2 [==============================] - 0s 11ms/step - loss: 7.1657 - mae: 7.1657\n",
            "Epoch 407/500\n",
            "2/2 [==============================] - 0s 9ms/step - loss: 12.6924 - mae: 12.6924\n",
            "Epoch 408/500\n",
            "2/2 [==============================] - 0s 7ms/step - loss: 5.7591 - mae: 5.7591\n",
            "Epoch 409/500\n",
            "2/2 [==============================] - 0s 10ms/step - loss: 31.1646 - mae: 31.1646\n",
            "Epoch 410/500\n",
            "2/2 [==============================] - 0s 10ms/step - loss: 9.3161 - mae: 9.3161\n",
            "Epoch 411/500\n",
            "2/2 [==============================] - 0s 5ms/step - loss: 14.9131 - mae: 14.9131\n",
            "Epoch 412/500\n",
            "2/2 [==============================] - 0s 5ms/step - loss: 21.7933 - mae: 21.7933\n",
            "Epoch 413/500\n",
            "2/2 [==============================] - 0s 9ms/step - loss: 12.5655 - mae: 12.5655\n",
            "Epoch 414/500\n",
            "2/2 [==============================] - 0s 12ms/step - loss: 6.1449 - mae: 6.1449\n",
            "Epoch 415/500\n",
            "2/2 [==============================] - 0s 9ms/step - loss: 13.2524 - mae: 13.2524\n",
            "Epoch 416/500\n",
            "2/2 [==============================] - 0s 11ms/step - loss: 27.4860 - mae: 27.4860\n",
            "Epoch 417/500\n",
            "2/2 [==============================] - 0s 4ms/step - loss: 10.5045 - mae: 10.5045\n",
            "Epoch 418/500\n",
            "2/2 [==============================] - 0s 4ms/step - loss: 12.8873 - mae: 12.8873\n",
            "Epoch 419/500\n",
            "2/2 [==============================] - 0s 10ms/step - loss: 15.9392 - mae: 15.9392\n",
            "Epoch 420/500\n",
            "2/2 [==============================] - 0s 9ms/step - loss: 24.8403 - mae: 24.8403\n",
            "Epoch 421/500\n",
            "2/2 [==============================] - 0s 6ms/step - loss: 17.1765 - mae: 17.1765\n",
            "Epoch 422/500\n",
            "2/2 [==============================] - 0s 6ms/step - loss: 7.8869 - mae: 7.8869\n",
            "Epoch 423/500\n",
            "2/2 [==============================] - 0s 16ms/step - loss: 25.4800 - mae: 25.4800\n",
            "Epoch 424/500\n",
            "2/2 [==============================] - 0s 7ms/step - loss: 14.8814 - mae: 14.8814\n",
            "Epoch 425/500\n",
            "2/2 [==============================] - 0s 7ms/step - loss: 7.1601 - mae: 7.1601\n",
            "Epoch 426/500\n",
            "2/2 [==============================] - 0s 7ms/step - loss: 20.0509 - mae: 20.0509\n",
            "Epoch 427/500\n",
            "2/2 [==============================] - 0s 8ms/step - loss: 6.3043 - mae: 6.3043\n",
            "Epoch 428/500\n",
            "2/2 [==============================] - 0s 16ms/step - loss: 12.5678 - mae: 12.5678\n",
            "Epoch 429/500\n",
            "2/2 [==============================] - 0s 8ms/step - loss: 11.9898 - mae: 11.9898\n",
            "Epoch 430/500\n",
            "2/2 [==============================] - 0s 7ms/step - loss: 10.7233 - mae: 10.7233\n",
            "Epoch 431/500\n",
            "2/2 [==============================] - 0s 5ms/step - loss: 12.2848 - mae: 12.2848\n",
            "Epoch 432/500\n",
            "2/2 [==============================] - 0s 6ms/step - loss: 7.7850 - mae: 7.7850\n",
            "Epoch 433/500\n",
            "2/2 [==============================] - 0s 9ms/step - loss: 15.0098 - mae: 15.0098\n",
            "Epoch 434/500\n",
            "2/2 [==============================] - 0s 6ms/step - loss: 18.2036 - mae: 18.2036\n",
            "Epoch 435/500\n",
            "2/2 [==============================] - 0s 4ms/step - loss: 9.0180 - mae: 9.0180\n",
            "Epoch 436/500\n",
            "2/2 [==============================] - 0s 7ms/step - loss: 28.2641 - mae: 28.2641\n",
            "Epoch 437/500\n",
            "2/2 [==============================] - 0s 8ms/step - loss: 4.6162 - mae: 4.6162\n",
            "Epoch 438/500\n",
            "2/2 [==============================] - 0s 5ms/step - loss: 14.2028 - mae: 14.2028\n",
            "Epoch 439/500\n",
            "2/2 [==============================] - 0s 5ms/step - loss: 32.5257 - mae: 32.5257\n",
            "Epoch 440/500\n",
            "2/2 [==============================] - 0s 6ms/step - loss: 13.2483 - mae: 13.2483\n",
            "Epoch 441/500\n",
            "2/2 [==============================] - 0s 5ms/step - loss: 16.3301 - mae: 16.3301\n",
            "Epoch 442/500\n",
            "2/2 [==============================] - 0s 17ms/step - loss: 19.8249 - mae: 19.8249\n",
            "Epoch 443/500\n",
            "2/2 [==============================] - 0s 5ms/step - loss: 24.1768 - mae: 24.1768\n",
            "Epoch 444/500\n",
            "2/2 [==============================] - 0s 7ms/step - loss: 11.4888 - mae: 11.4888\n",
            "Epoch 445/500\n",
            "2/2 [==============================] - 0s 4ms/step - loss: 14.8027 - mae: 14.8027\n",
            "Epoch 446/500\n",
            "2/2 [==============================] - 0s 23ms/step - loss: 17.8298 - mae: 17.8298\n",
            "Epoch 447/500\n",
            "2/2 [==============================] - 0s 6ms/step - loss: 5.6887 - mae: 5.6887\n",
            "Epoch 448/500\n",
            "2/2 [==============================] - 0s 7ms/step - loss: 9.5877 - mae: 9.5877\n",
            "Epoch 449/500\n",
            "2/2 [==============================] - 0s 4ms/step - loss: 14.2347 - mae: 14.2347\n",
            "Epoch 450/500\n",
            "2/2 [==============================] - 0s 5ms/step - loss: 17.0064 - mae: 17.0064\n",
            "Epoch 451/500\n",
            "2/2 [==============================] - 0s 4ms/step - loss: 14.4032 - mae: 14.4032\n",
            "Epoch 452/500\n",
            "2/2 [==============================] - 0s 5ms/step - loss: 30.8174 - mae: 30.8174\n",
            "Epoch 453/500\n",
            "2/2 [==============================] - 0s 4ms/step - loss: 9.1491 - mae: 9.1491\n",
            "Epoch 454/500\n",
            "2/2 [==============================] - 0s 4ms/step - loss: 27.1800 - mae: 27.1800\n",
            "Epoch 455/500\n",
            "2/2 [==============================] - 0s 5ms/step - loss: 11.4586 - mae: 11.4586\n",
            "Epoch 456/500\n",
            "2/2 [==============================] - 0s 12ms/step - loss: 15.5728 - mae: 15.5728\n",
            "Epoch 457/500\n",
            "2/2 [==============================] - 0s 4ms/step - loss: 19.4891 - mae: 19.4891\n",
            "Epoch 458/500\n",
            "2/2 [==============================] - 0s 10ms/step - loss: 22.5711 - mae: 22.5711\n",
            "Epoch 459/500\n",
            "2/2 [==============================] - 0s 8ms/step - loss: 16.0348 - mae: 16.0348\n",
            "Epoch 460/500\n",
            "2/2 [==============================] - 0s 9ms/step - loss: 5.4162 - mae: 5.4162\n",
            "Epoch 461/500\n",
            "2/2 [==============================] - 0s 5ms/step - loss: 17.5823 - mae: 17.5823\n",
            "Epoch 462/500\n",
            "2/2 [==============================] - 0s 17ms/step - loss: 14.2561 - mae: 14.2561\n",
            "Epoch 463/500\n",
            "2/2 [==============================] - 0s 14ms/step - loss: 21.3715 - mae: 21.3715\n",
            "Epoch 464/500\n",
            "2/2 [==============================] - 0s 7ms/step - loss: 22.9788 - mae: 22.9788\n",
            "Epoch 465/500\n",
            "2/2 [==============================] - 0s 4ms/step - loss: 12.4604 - mae: 12.4604\n",
            "Epoch 466/500\n",
            "2/2 [==============================] - 0s 23ms/step - loss: 9.4017 - mae: 9.4017\n",
            "Epoch 467/500\n",
            "2/2 [==============================] - 0s 10ms/step - loss: 21.5402 - mae: 21.5402\n",
            "Epoch 468/500\n",
            "2/2 [==============================] - 0s 4ms/step - loss: 23.8447 - mae: 23.8447\n",
            "Epoch 469/500\n",
            "2/2 [==============================] - 0s 8ms/step - loss: 21.2600 - mae: 21.2600\n",
            "Epoch 470/500\n",
            "2/2 [==============================] - 0s 7ms/step - loss: 9.7187 - mae: 9.7187\n",
            "Epoch 471/500\n",
            "2/2 [==============================] - 0s 15ms/step - loss: 15.9699 - mae: 15.9699\n",
            "Epoch 472/500\n",
            "2/2 [==============================] - 0s 7ms/step - loss: 14.9314 - mae: 14.9314\n",
            "Epoch 473/500\n",
            "2/2 [==============================] - 0s 11ms/step - loss: 18.2903 - mae: 18.2903\n",
            "Epoch 474/500\n",
            "2/2 [==============================] - 0s 3ms/step - loss: 41.9701 - mae: 41.9701\n",
            "Epoch 475/500\n",
            "2/2 [==============================] - 0s 7ms/step - loss: 17.8804 - mae: 17.8804\n",
            "Epoch 476/500\n",
            "2/2 [==============================] - 0s 4ms/step - loss: 13.2348 - mae: 13.2348\n",
            "Epoch 477/500\n",
            "2/2 [==============================] - 0s 10ms/step - loss: 29.2977 - mae: 29.2977\n",
            "Epoch 478/500\n",
            "2/2 [==============================] - 0s 16ms/step - loss: 5.8118 - mae: 5.8118\n",
            "Epoch 479/500\n",
            "2/2 [==============================] - 0s 11ms/step - loss: 7.1750 - mae: 7.1750\n",
            "Epoch 480/500\n",
            "2/2 [==============================] - 0s 3ms/step - loss: 19.1712 - mae: 19.1712\n",
            "Epoch 481/500\n",
            "2/2 [==============================] - 0s 8ms/step - loss: 13.1902 - mae: 13.1902\n",
            "Epoch 482/500\n",
            "2/2 [==============================] - 0s 9ms/step - loss: 6.9180 - mae: 6.9180\n",
            "Epoch 483/500\n",
            "2/2 [==============================] - 0s 16ms/step - loss: 13.3097 - mae: 13.3097\n",
            "Epoch 484/500\n",
            "2/2 [==============================] - 0s 6ms/step - loss: 14.2174 - mae: 14.2174\n",
            "Epoch 485/500\n",
            "2/2 [==============================] - 0s 6ms/step - loss: 9.2975 - mae: 9.2975\n",
            "Epoch 486/500\n",
            "2/2 [==============================] - 0s 11ms/step - loss: 18.4459 - mae: 18.4459\n",
            "Epoch 487/500\n",
            "2/2 [==============================] - 0s 4ms/step - loss: 6.2999 - mae: 6.2999\n",
            "Epoch 488/500\n",
            "2/2 [==============================] - 0s 9ms/step - loss: 29.6777 - mae: 29.6777\n",
            "Epoch 489/500\n",
            "2/2 [==============================] - 0s 9ms/step - loss: 12.7211 - mae: 12.7211\n",
            "Epoch 490/500\n",
            "2/2 [==============================] - 0s 7ms/step - loss: 13.1387 - mae: 13.1387\n",
            "Epoch 491/500\n",
            "2/2 [==============================] - 0s 6ms/step - loss: 24.4205 - mae: 24.4205\n",
            "Epoch 492/500\n",
            "2/2 [==============================] - 0s 5ms/step - loss: 18.5051 - mae: 18.5051\n",
            "Epoch 493/500\n",
            "2/2 [==============================] - 0s 9ms/step - loss: 4.7958 - mae: 4.7958\n",
            "Epoch 494/500\n",
            "2/2 [==============================] - 0s 7ms/step - loss: 11.8752 - mae: 11.8752\n",
            "Epoch 495/500\n",
            "2/2 [==============================] - 0s 4ms/step - loss: 13.7827 - mae: 13.7827\n",
            "Epoch 496/500\n",
            "2/2 [==============================] - 0s 5ms/step - loss: 12.9579 - mae: 12.9579\n",
            "Epoch 497/500\n",
            "2/2 [==============================] - 0s 9ms/step - loss: 18.1351 - mae: 18.1351\n",
            "Epoch 498/500\n",
            "2/2 [==============================] - 0s 4ms/step - loss: 22.4220 - mae: 22.4220\n",
            "Epoch 499/500\n",
            "2/2 [==============================] - 0s 6ms/step - loss: 8.2625 - mae: 8.2625\n",
            "Epoch 500/500\n",
            "2/2 [==============================] - 0s 6ms/step - loss: 14.0618 - mae: 14.0618\n"
          ],
          "name": "stdout"
        },
        {
          "output_type": "execute_result",
          "data": {
            "text/plain": [
              "<tensorflow.python.keras.callbacks.History at 0x7fbb4b12b510>"
            ]
          },
          "metadata": {
            "tags": []
          },
          "execution_count": 106
        }
      ]
    },
    {
      "cell_type": "code",
      "metadata": {
        "colab": {
          "base_uri": "https://localhost:8080/",
          "height": 428
        },
        "id": "tDAg9H7VxluO",
        "outputId": "c48324ae-913c-4cfa-bf9f-c265e9559989"
      },
      "source": [
        "Y_pred_3 = model_3.predict(X_test)\n",
        "plot_predictions(predictions=Y_pred_3)"
      ],
      "execution_count": 107,
      "outputs": [
        {
          "output_type": "display_data",
          "data": {
            "image/png": "[encoded data removed]",
            "text/plain": [
              "<Figure size 720x504 with 1 Axes>"
            ]
          },
          "metadata": {
            "tags": [],
            "needs_background": "light"
          }
        }
      ]
    },
    {
      "cell_type": "code",
      "metadata": {
        "colab": {
          "base_uri": "https://localhost:8080/"
        },
        "id": "BmengcCKx9La",
        "outputId": "624d66f6-4796-4420-d8d3-7b7aa5faed00"
      },
      "source": [
        "# Calculate model_3 evaluation metrics\n",
        "mae_3 = mae(Y_test, Y_pred_3)\n",
        "mse_3 = mse(Y_test, Y_pred_3)\n",
        "mae_3, mse_3"
      ],
      "execution_count": 108,
      "outputs": [
        {
          "output_type": "execute_result",
          "data": {
            "text/plain": [
              "(<tf.Tensor: shape=(), dtype=float32, numpy=67.42832>,\n",
              " <tf.Tensor: shape=(), dtype=float32, numpy=4629.649>)"
            ]
          },
          "metadata": {
            "tags": []
          },
          "execution_count": 108
        }
      ]
    },
    {
      "cell_type": "markdown",
      "metadata": {
        "id": "8sWH5td3zeU_"
      },
      "source": [
        "### Comparing the results of our experiments\n",
        "\n",
        "We have run a few experiments, let's compare the results."
      ]
    },
    {
      "cell_type": "code",
      "metadata": {
        "id": "x_n4tsIKz6tF"
      },
      "source": [
        ""
      ],
      "execution_count": null,
      "outputs": []
    }
  ]
}