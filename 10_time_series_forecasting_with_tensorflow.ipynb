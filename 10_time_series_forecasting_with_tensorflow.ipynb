{
  "nbformat": 4,
  "nbformat_minor": 0,
  "metadata": {
    "colab": {
      "name": "10_time_series_forecasting_with_tensorflow.ipynb",
      "provenance": [],
      "collapsed_sections": []
    },
    "kernelspec": {
      "name": "python3",
      "display_name": "Python 3"
    },
    "language_info": {
      "name": "python"
    },
    "accelerator": "GPU"
  },
  "cells": [
    {
      "cell_type": "markdown",
      "metadata": {
        "id": "qNDMSUfymzWF"
      },
      "source": [
        "# Time series forecasting fundamentals with TensorFlow + Milestone Project 3: BitPredict\n",
        "\n",
        "Let's write some TensorFlow code to predict the price of Bitcoin based on the historical price of Bitcoin.\n",
        "\n",
        "**Note:** This is not a finantial advice.\n",
        "\n",
        "Links:\n",
        "* All resources: https://github.com/mrdbourke/tensorflow-deep-learning\n",
        "* Book version of actual code/text: https://dev.mrdbourke.com/tensorflow-deep-learning/"
      ]
    },
    {
      "cell_type": "markdown",
      "metadata": {
        "id": "bqg9THMFnWL8"
      },
      "source": [
        "## Get Data\n",
        "\n",
        "We are going to be using the historical price data of Bitcoin to try and predict the future price of Bitcoin, we downloaded the data from here: "
      ]
    },
    {
      "cell_type": "code",
      "metadata": {
        "colab": {
          "base_uri": "https://localhost:8080/"
        },
        "id": "bHo_mqE0oi67",
        "outputId": "abed0001-3e1b-4b98-d194-1dd39bc20efe"
      },
      "source": [
        "!wget https://raw.githubusercontent.com/mrdbourke/tensorflow-deep-learning/main/extras/BTC_USD_2013-10-01_2021-05-18-CoinDesk.csv"
      ],
      "execution_count": 1,
      "outputs": [
        {
          "output_type": "stream",
          "name": "stdout",
          "text": [
            "--2021-11-20 09:40:13--  https://raw.githubusercontent.com/mrdbourke/tensorflow-deep-learning/main/extras/BTC_USD_2013-10-01_2021-05-18-CoinDesk.csv\n",
            "Resolving raw.githubusercontent.com (raw.githubusercontent.com)... 185.199.108.133, 185.199.110.133, 185.199.111.133, ...\n",
            "Connecting to raw.githubusercontent.com (raw.githubusercontent.com)|185.199.108.133|:443... connected.\n",
            "HTTP request sent, awaiting response... 200 OK\n",
            "Length: 178509 (174K) [text/plain]\n",
            "Saving to: ‘BTC_USD_2013-10-01_2021-05-18-CoinDesk.csv’\n",
            "\n",
            "\r          BTC_USD_2   0%[                    ]       0  --.-KB/s               \rBTC_USD_2013-10-01_ 100%[===================>] 174.33K  --.-KB/s    in 0.02s   \n",
            "\n",
            "2021-11-20 09:40:13 (7.28 MB/s) - ‘BTC_USD_2013-10-01_2021-05-18-CoinDesk.csv’ saved [178509/178509]\n",
            "\n"
          ]
        }
      ]
    },
    {
      "cell_type": "markdown",
      "metadata": {
        "id": "h1KtlQZ6pO5s"
      },
      "source": [
        "## Importing time series with pandas"
      ]
    },
    {
      "cell_type": "code",
      "metadata": {
        "colab": {
          "base_uri": "https://localhost:8080/",
          "height": 238
        },
        "id": "zYMEktvKpkib",
        "outputId": "06b27bb2-f73e-4b5c-b045-b504be743dda"
      },
      "source": [
        "# Import with pandas\n",
        "import pandas as pd\n",
        "# Let's read in our Bitcoin data and parse the dates\n",
        "df = pd.read_csv('/content/BTC_USD_2013-10-01_2021-05-18-CoinDesk.csv',\n",
        "                 parse_dates=['Date'],\n",
        "                 index_col=['Date']#parse the data column and tell pandas column 1 is a datetime.\n",
        "                 )\n",
        "\n",
        "df.head()"
      ],
      "execution_count": 2,
      "outputs": [
        {
          "output_type": "execute_result",
          "data": {
            "text/html": [
              "<div>\n",
              "<style scoped>\n",
              "    .dataframe tbody tr th:only-of-type {\n",
              "        vertical-align: middle;\n",
              "    }\n",
              "\n",
              "    .dataframe tbody tr th {\n",
              "        vertical-align: top;\n",
              "    }\n",
              "\n",
              "    .dataframe thead th {\n",
              "        text-align: right;\n",
              "    }\n",
              "</style>\n",
              "<table border=\"1\" class=\"dataframe\">\n",
              "  <thead>\n",
              "    <tr style=\"text-align: right;\">\n",
              "      <th></th>\n",
              "      <th>Currency</th>\n",
              "      <th>Closing Price (USD)</th>\n",
              "      <th>24h Open (USD)</th>\n",
              "      <th>24h High (USD)</th>\n",
              "      <th>24h Low (USD)</th>\n",
              "    </tr>\n",
              "    <tr>\n",
              "      <th>Date</th>\n",
              "      <th></th>\n",
              "      <th></th>\n",
              "      <th></th>\n",
              "      <th></th>\n",
              "      <th></th>\n",
              "    </tr>\n",
              "  </thead>\n",
              "  <tbody>\n",
              "    <tr>\n",
              "      <th>2013-10-01</th>\n",
              "      <td>BTC</td>\n",
              "      <td>123.65499</td>\n",
              "      <td>124.30466</td>\n",
              "      <td>124.75166</td>\n",
              "      <td>122.56349</td>\n",
              "    </tr>\n",
              "    <tr>\n",
              "      <th>2013-10-02</th>\n",
              "      <td>BTC</td>\n",
              "      <td>125.45500</td>\n",
              "      <td>123.65499</td>\n",
              "      <td>125.75850</td>\n",
              "      <td>123.63383</td>\n",
              "    </tr>\n",
              "    <tr>\n",
              "      <th>2013-10-03</th>\n",
              "      <td>BTC</td>\n",
              "      <td>108.58483</td>\n",
              "      <td>125.45500</td>\n",
              "      <td>125.66566</td>\n",
              "      <td>83.32833</td>\n",
              "    </tr>\n",
              "    <tr>\n",
              "      <th>2013-10-04</th>\n",
              "      <td>BTC</td>\n",
              "      <td>118.67466</td>\n",
              "      <td>108.58483</td>\n",
              "      <td>118.67500</td>\n",
              "      <td>107.05816</td>\n",
              "    </tr>\n",
              "    <tr>\n",
              "      <th>2013-10-05</th>\n",
              "      <td>BTC</td>\n",
              "      <td>121.33866</td>\n",
              "      <td>118.67466</td>\n",
              "      <td>121.93633</td>\n",
              "      <td>118.00566</td>\n",
              "    </tr>\n",
              "  </tbody>\n",
              "</table>\n",
              "</div>"
            ],
            "text/plain": [
              "           Currency  Closing Price (USD)  ...  24h High (USD)  24h Low (USD)\n",
              "Date                                      ...                               \n",
              "2013-10-01      BTC            123.65499  ...       124.75166      122.56349\n",
              "2013-10-02      BTC            125.45500  ...       125.75850      123.63383\n",
              "2013-10-03      BTC            108.58483  ...       125.66566       83.32833\n",
              "2013-10-04      BTC            118.67466  ...       118.67500      107.05816\n",
              "2013-10-05      BTC            121.33866  ...       121.93633      118.00566\n",
              "\n",
              "[5 rows x 5 columns]"
            ]
          },
          "metadata": {},
          "execution_count": 2
        }
      ]
    },
    {
      "cell_type": "code",
      "metadata": {
        "colab": {
          "base_uri": "https://localhost:8080/",
          "height": 238
        },
        "id": "Ox9hfoOSqxLE",
        "outputId": "b8eea590-1e4b-4184-cd36-885d1a53e117"
      },
      "source": [
        "df.tail()"
      ],
      "execution_count": 3,
      "outputs": [
        {
          "output_type": "execute_result",
          "data": {
            "text/html": [
              "<div>\n",
              "<style scoped>\n",
              "    .dataframe tbody tr th:only-of-type {\n",
              "        vertical-align: middle;\n",
              "    }\n",
              "\n",
              "    .dataframe tbody tr th {\n",
              "        vertical-align: top;\n",
              "    }\n",
              "\n",
              "    .dataframe thead th {\n",
              "        text-align: right;\n",
              "    }\n",
              "</style>\n",
              "<table border=\"1\" class=\"dataframe\">\n",
              "  <thead>\n",
              "    <tr style=\"text-align: right;\">\n",
              "      <th></th>\n",
              "      <th>Currency</th>\n",
              "      <th>Closing Price (USD)</th>\n",
              "      <th>24h Open (USD)</th>\n",
              "      <th>24h High (USD)</th>\n",
              "      <th>24h Low (USD)</th>\n",
              "    </tr>\n",
              "    <tr>\n",
              "      <th>Date</th>\n",
              "      <th></th>\n",
              "      <th></th>\n",
              "      <th></th>\n",
              "      <th></th>\n",
              "      <th></th>\n",
              "    </tr>\n",
              "  </thead>\n",
              "  <tbody>\n",
              "    <tr>\n",
              "      <th>2021-05-14</th>\n",
              "      <td>BTC</td>\n",
              "      <td>49764.132082</td>\n",
              "      <td>49596.778891</td>\n",
              "      <td>51448.798576</td>\n",
              "      <td>46294.720180</td>\n",
              "    </tr>\n",
              "    <tr>\n",
              "      <th>2021-05-15</th>\n",
              "      <td>BTC</td>\n",
              "      <td>50032.693137</td>\n",
              "      <td>49717.354353</td>\n",
              "      <td>51578.312545</td>\n",
              "      <td>48944.346536</td>\n",
              "    </tr>\n",
              "    <tr>\n",
              "      <th>2021-05-16</th>\n",
              "      <td>BTC</td>\n",
              "      <td>47885.625255</td>\n",
              "      <td>49926.035067</td>\n",
              "      <td>50690.802950</td>\n",
              "      <td>47005.102292</td>\n",
              "    </tr>\n",
              "    <tr>\n",
              "      <th>2021-05-17</th>\n",
              "      <td>BTC</td>\n",
              "      <td>45604.615754</td>\n",
              "      <td>46805.537852</td>\n",
              "      <td>49670.414174</td>\n",
              "      <td>43868.638969</td>\n",
              "    </tr>\n",
              "    <tr>\n",
              "      <th>2021-05-18</th>\n",
              "      <td>BTC</td>\n",
              "      <td>43144.471291</td>\n",
              "      <td>46439.336570</td>\n",
              "      <td>46622.853437</td>\n",
              "      <td>42102.346430</td>\n",
              "    </tr>\n",
              "  </tbody>\n",
              "</table>\n",
              "</div>"
            ],
            "text/plain": [
              "           Currency  Closing Price (USD)  ...  24h High (USD)  24h Low (USD)\n",
              "Date                                      ...                               \n",
              "2021-05-14      BTC         49764.132082  ...    51448.798576   46294.720180\n",
              "2021-05-15      BTC         50032.693137  ...    51578.312545   48944.346536\n",
              "2021-05-16      BTC         47885.625255  ...    50690.802950   47005.102292\n",
              "2021-05-17      BTC         45604.615754  ...    49670.414174   43868.638969\n",
              "2021-05-18      BTC         43144.471291  ...    46622.853437   42102.346430\n",
              "\n",
              "[5 rows x 5 columns]"
            ]
          },
          "metadata": {},
          "execution_count": 3
        }
      ]
    },
    {
      "cell_type": "code",
      "metadata": {
        "colab": {
          "base_uri": "https://localhost:8080/"
        },
        "id": "PgWTWxI9qYdY",
        "outputId": "0e8f73df-a785-4b31-e924-82861c117747"
      },
      "source": [
        "df.info()"
      ],
      "execution_count": 4,
      "outputs": [
        {
          "output_type": "stream",
          "name": "stdout",
          "text": [
            "<class 'pandas.core.frame.DataFrame'>\n",
            "DatetimeIndex: 2787 entries, 2013-10-01 to 2021-05-18\n",
            "Data columns (total 5 columns):\n",
            " #   Column               Non-Null Count  Dtype  \n",
            "---  ------               --------------  -----  \n",
            " 0   Currency             2787 non-null   object \n",
            " 1   Closing Price (USD)  2787 non-null   float64\n",
            " 2   24h Open (USD)       2787 non-null   float64\n",
            " 3   24h High (USD)       2787 non-null   float64\n",
            " 4   24h Low (USD)        2787 non-null   float64\n",
            "dtypes: float64(4), object(1)\n",
            "memory usage: 130.6+ KB\n"
          ]
        }
      ]
    },
    {
      "cell_type": "code",
      "metadata": {
        "colab": {
          "base_uri": "https://localhost:8080/"
        },
        "id": "H20iOzHyqiTj",
        "outputId": "a58f1dcc-9d19-4761-f480-7d19cefe07b3"
      },
      "source": [
        "# How many samples do we have?\n",
        "len(df)"
      ],
      "execution_count": 5,
      "outputs": [
        {
          "output_type": "execute_result",
          "data": {
            "text/plain": [
              "2787"
            ]
          },
          "metadata": {},
          "execution_count": 5
        }
      ]
    },
    {
      "cell_type": "markdown",
      "metadata": {
        "id": "nqVRTo_MqlJT"
      },
      "source": [
        "We have collected the historical price of Bitcoin for the past ~8 years but there's 2728 samples.\n",
        "\n",
        "Typically deep learning models usually like lots and lots and lots of samples.\n",
        "\n",
        "A smaller number of samples is something you will often run into with time series data problems.\n",
        "\n",
        "> 🔑 **Note:** The **seasonality** of a time series dataset is referred as the number of samples per year. So far our Bitcoin data, it has seasonality of daily or value of 365 because we collect one sample per day meaning we will get 265 samples per year."
      ]
    },
    {
      "cell_type": "code",
      "metadata": {
        "colab": {
          "base_uri": "https://localhost:8080/",
          "height": 238
        },
        "id": "s3XSpY51qlqG",
        "outputId": "25853403-1319-48fe-f41c-cd12b924b78a"
      },
      "source": [
        "# Only want closing price for each day\n",
        "bitcoin_prices = pd.DataFrame(df['Closing Price (USD)']).rename(columns={'Closing Price (USD)': 'Price'})\n",
        "bitcoin_prices.head()"
      ],
      "execution_count": 6,
      "outputs": [
        {
          "output_type": "execute_result",
          "data": {
            "text/html": [
              "<div>\n",
              "<style scoped>\n",
              "    .dataframe tbody tr th:only-of-type {\n",
              "        vertical-align: middle;\n",
              "    }\n",
              "\n",
              "    .dataframe tbody tr th {\n",
              "        vertical-align: top;\n",
              "    }\n",
              "\n",
              "    .dataframe thead th {\n",
              "        text-align: right;\n",
              "    }\n",
              "</style>\n",
              "<table border=\"1\" class=\"dataframe\">\n",
              "  <thead>\n",
              "    <tr style=\"text-align: right;\">\n",
              "      <th></th>\n",
              "      <th>Price</th>\n",
              "    </tr>\n",
              "    <tr>\n",
              "      <th>Date</th>\n",
              "      <th></th>\n",
              "    </tr>\n",
              "  </thead>\n",
              "  <tbody>\n",
              "    <tr>\n",
              "      <th>2013-10-01</th>\n",
              "      <td>123.65499</td>\n",
              "    </tr>\n",
              "    <tr>\n",
              "      <th>2013-10-02</th>\n",
              "      <td>125.45500</td>\n",
              "    </tr>\n",
              "    <tr>\n",
              "      <th>2013-10-03</th>\n",
              "      <td>108.58483</td>\n",
              "    </tr>\n",
              "    <tr>\n",
              "      <th>2013-10-04</th>\n",
              "      <td>118.67466</td>\n",
              "    </tr>\n",
              "    <tr>\n",
              "      <th>2013-10-05</th>\n",
              "      <td>121.33866</td>\n",
              "    </tr>\n",
              "  </tbody>\n",
              "</table>\n",
              "</div>"
            ],
            "text/plain": [
              "                Price\n",
              "Date                 \n",
              "2013-10-01  123.65499\n",
              "2013-10-02  125.45500\n",
              "2013-10-03  108.58483\n",
              "2013-10-04  118.67466\n",
              "2013-10-05  121.33866"
            ]
          },
          "metadata": {},
          "execution_count": 6
        }
      ]
    },
    {
      "cell_type": "code",
      "metadata": {
        "colab": {
          "base_uri": "https://localhost:8080/",
          "height": 460
        },
        "id": "zW0D0oN5qoQj",
        "outputId": "2904134d-3a45-4a6d-9689-82140e9d6ed9"
      },
      "source": [
        "import matplotlib.pyplot as plt\n",
        "bitcoin_prices.plot(figsize=(10, 7))\n",
        "plt.ylabel('BTC Price')\n",
        "plt.title('Price of Bitcoin from 1 Oct 2013 to 18 May 2021', fontsize=16)\n",
        "plt.legend(fontsize=14);"
      ],
      "execution_count": 7,
      "outputs": [
        {
          "output_type": "display_data",
          "data": {
            "image/png": "[encoded data removed]",
            "text/plain": [
              "<Figure size 720x504 with 1 Axes>"
            ]
          },
          "metadata": {
            "needs_background": "light"
          }
        }
      ]
    },
    {
      "cell_type": "markdown",
      "metadata": {
        "id": "a6vhsOPMqob9"
      },
      "source": [
        "## Importing time series data with Python's CSV module"
      ]
    },
    {
      "cell_type": "code",
      "metadata": {
        "colab": {
          "base_uri": "https://localhost:8080/"
        },
        "id": "F-WgWP8Kqov7",
        "outputId": "2d6a8d4e-007d-47cb-bca1-35670f456e15"
      },
      "source": [
        "# Importing and formatting historical Bitcoin data with python\n",
        "import csv\n",
        "from datetime import datetime\n",
        "\n",
        "timesteps = []\n",
        "btc_price = []\n",
        "\n",
        "with open('/content/BTC_USD_2013-10-01_2021-05-18-CoinDesk.csv', 'r') as f:\n",
        "  csv_reader = csv.reader(f, delimiter=',')\n",
        "  next(csv_reader) # skip first line (this gets rid of the column titles)\n",
        "  for line in csv_reader:\n",
        "    timesteps.append(datetime.strptime(line[1], '%Y-%m-%d')) # get the dates as dates not string\n",
        "    btc_price.append(float(line[2])) # get the closing price as float\n",
        "\n",
        "# View first 10 of each\n",
        "timesteps[:10], btc_price[:10]    \n"
      ],
      "execution_count": 8,
      "outputs": [
        {
          "output_type": "execute_result",
          "data": {
            "text/plain": [
              "([datetime.datetime(2013, 10, 1, 0, 0),\n",
              "  datetime.datetime(2013, 10, 2, 0, 0),\n",
              "  datetime.datetime(2013, 10, 3, 0, 0),\n",
              "  datetime.datetime(2013, 10, 4, 0, 0),\n",
              "  datetime.datetime(2013, 10, 5, 0, 0),\n",
              "  datetime.datetime(2013, 10, 6, 0, 0),\n",
              "  datetime.datetime(2013, 10, 7, 0, 0),\n",
              "  datetime.datetime(2013, 10, 8, 0, 0),\n",
              "  datetime.datetime(2013, 10, 9, 0, 0),\n",
              "  datetime.datetime(2013, 10, 10, 0, 0)],\n",
              " [123.65499,\n",
              "  125.455,\n",
              "  108.58483,\n",
              "  118.67466,\n",
              "  121.33866,\n",
              "  120.65533,\n",
              "  121.795,\n",
              "  123.033,\n",
              "  124.049,\n",
              "  125.96116])"
            ]
          },
          "metadata": {},
          "execution_count": 8
        }
      ]
    },
    {
      "cell_type": "code",
      "metadata": {
        "colab": {
          "base_uri": "https://localhost:8080/",
          "height": 460
        },
        "id": "i8jUkYlhqpjj",
        "outputId": "12dde69d-18ce-475f-b23b-ed5b43d2caca"
      },
      "source": [
        "# Plot from CSV\n",
        "import matplotlib.pyplot as plt\n",
        "import numpy as np\n",
        "\n",
        "plt.figure(figsize=(10, 7))\n",
        "plt.plot(timesteps, btc_price)\n",
        "plt.ylabel('BTC Price')\n",
        "plt.title('Price of Bitcoin from 1 Oct 2013 to 18 May 2021', fontsize=16)\n",
        "plt.xlabel('Date');"
      ],
      "execution_count": 9,
      "outputs": [
        {
          "output_type": "display_data",
          "data": {
            "image/png": "[encoded data removed]",
            "text/plain": [
              "<Figure size 720x504 with 1 Axes>"
            ]
          },
          "metadata": {
            "needs_background": "light"
          }
        }
      ]
    },
    {
      "cell_type": "markdown",
      "metadata": {
        "id": "5u_XNSHWqp7z"
      },
      "source": [
        "## Format data part 1: Create train and test sets of our time series data"
      ]
    },
    {
      "cell_type": "markdown",
      "metadata": {
        "id": "9iWAoYmPqqJ3"
      },
      "source": [
        "### Creating training and test sets with time series data (the wrong way)"
      ]
    },
    {
      "cell_type": "code",
      "metadata": {
        "colab": {
          "base_uri": "https://localhost:8080/",
          "height": 394
        },
        "id": "kgYxfs8Jy9EA",
        "outputId": "35fafd76-bfe6-4bdb-e3ce-dbc48e3a4c63"
      },
      "source": [
        "bitcoin_prices[:10]"
      ],
      "execution_count": 10,
      "outputs": [
        {
          "output_type": "execute_result",
          "data": {
            "text/html": [
              "<div>\n",
              "<style scoped>\n",
              "    .dataframe tbody tr th:only-of-type {\n",
              "        vertical-align: middle;\n",
              "    }\n",
              "\n",
              "    .dataframe tbody tr th {\n",
              "        vertical-align: top;\n",
              "    }\n",
              "\n",
              "    .dataframe thead th {\n",
              "        text-align: right;\n",
              "    }\n",
              "</style>\n",
              "<table border=\"1\" class=\"dataframe\">\n",
              "  <thead>\n",
              "    <tr style=\"text-align: right;\">\n",
              "      <th></th>\n",
              "      <th>Price</th>\n",
              "    </tr>\n",
              "    <tr>\n",
              "      <th>Date</th>\n",
              "      <th></th>\n",
              "    </tr>\n",
              "  </thead>\n",
              "  <tbody>\n",
              "    <tr>\n",
              "      <th>2013-10-01</th>\n",
              "      <td>123.65499</td>\n",
              "    </tr>\n",
              "    <tr>\n",
              "      <th>2013-10-02</th>\n",
              "      <td>125.45500</td>\n",
              "    </tr>\n",
              "    <tr>\n",
              "      <th>2013-10-03</th>\n",
              "      <td>108.58483</td>\n",
              "    </tr>\n",
              "    <tr>\n",
              "      <th>2013-10-04</th>\n",
              "      <td>118.67466</td>\n",
              "    </tr>\n",
              "    <tr>\n",
              "      <th>2013-10-05</th>\n",
              "      <td>121.33866</td>\n",
              "    </tr>\n",
              "    <tr>\n",
              "      <th>2013-10-06</th>\n",
              "      <td>120.65533</td>\n",
              "    </tr>\n",
              "    <tr>\n",
              "      <th>2013-10-07</th>\n",
              "      <td>121.79500</td>\n",
              "    </tr>\n",
              "    <tr>\n",
              "      <th>2013-10-08</th>\n",
              "      <td>123.03300</td>\n",
              "    </tr>\n",
              "    <tr>\n",
              "      <th>2013-10-09</th>\n",
              "      <td>124.04900</td>\n",
              "    </tr>\n",
              "    <tr>\n",
              "      <th>2013-10-10</th>\n",
              "      <td>125.96116</td>\n",
              "    </tr>\n",
              "  </tbody>\n",
              "</table>\n",
              "</div>"
            ],
            "text/plain": [
              "                Price\n",
              "Date                 \n",
              "2013-10-01  123.65499\n",
              "2013-10-02  125.45500\n",
              "2013-10-03  108.58483\n",
              "2013-10-04  118.67466\n",
              "2013-10-05  121.33866\n",
              "2013-10-06  120.65533\n",
              "2013-10-07  121.79500\n",
              "2013-10-08  123.03300\n",
              "2013-10-09  124.04900\n",
              "2013-10-10  125.96116"
            ]
          },
          "metadata": {},
          "execution_count": 10
        }
      ]
    },
    {
      "cell_type": "code",
      "metadata": {
        "colab": {
          "base_uri": "https://localhost:8080/"
        },
        "id": "N3LPQYy7yqML",
        "outputId": "73ed4a84-278f-4c06-c0e6-4dcbb213a8dd"
      },
      "source": [
        "# Get bitcoin date arry\n",
        "timesteps = bitcoin_prices.index.to_numpy()\n",
        "prices = bitcoin_prices['Price'].to_numpy()\n",
        "\n",
        "timesteps[:10], prices[:10]"
      ],
      "execution_count": 11,
      "outputs": [
        {
          "output_type": "execute_result",
          "data": {
            "text/plain": [
              "(array(['2013-10-01T00:00:00.000000000', '2013-10-02T00:00:00.000000000',\n",
              "        '2013-10-03T00:00:00.000000000', '2013-10-04T00:00:00.000000000',\n",
              "        '2013-10-05T00:00:00.000000000', '2013-10-06T00:00:00.000000000',\n",
              "        '2013-10-07T00:00:00.000000000', '2013-10-08T00:00:00.000000000',\n",
              "        '2013-10-09T00:00:00.000000000', '2013-10-10T00:00:00.000000000'],\n",
              "       dtype='datetime64[ns]'),\n",
              " array([123.65499, 125.455  , 108.58483, 118.67466, 121.33866, 120.65533,\n",
              "        121.795  , 123.033  , 124.049  , 125.96116]))"
            ]
          },
          "metadata": {},
          "execution_count": 11
        }
      ]
    },
    {
      "cell_type": "code",
      "metadata": {
        "colab": {
          "base_uri": "https://localhost:8080/"
        },
        "id": "eJ3d5YEeyhnK",
        "outputId": "60469cbe-bee9-4b1d-87eb-274ac84e9a86"
      },
      "source": [
        "# Wrong way make train/test sets for time series data\n",
        "from sklearn.model_selection import train_test_split\n",
        "\n",
        "X_train, X_test, y_train, y_test = train_test_split(timesteps, #dates\n",
        "                                                    prices, # BTC prices\n",
        "                                                    test_size=00.2,\n",
        "                                                    random_state=42)\n",
        "\n",
        "X_train.shape, X_test.shape, y_train.shape, y_test.shape"
      ],
      "execution_count": 12,
      "outputs": [
        {
          "output_type": "execute_result",
          "data": {
            "text/plain": [
              "((2229,), (558,), (2229,), (558,))"
            ]
          },
          "metadata": {},
          "execution_count": 12
        }
      ]
    },
    {
      "cell_type": "code",
      "metadata": {
        "colab": {
          "base_uri": "https://localhost:8080/",
          "height": 442
        },
        "id": "_bqWbuxKzo45",
        "outputId": "b25fefc7-ee28-42fd-93b0-7be7f4cd79a1"
      },
      "source": [
        "# Let's plot wrong train and test splits\n",
        "plt.figure(figsize=(10, 7))\n",
        "plt.scatter(X_train, y_train, s=5, label='Train data')\n",
        "plt.scatter(X_test, y_test, label='Test data')\n",
        "plt.xlabel('Date')\n",
        "plt.ylabel('BTC Price')\n",
        "plt.legend(fontsize=14)\n",
        "plt.show();"
      ],
      "execution_count": 13,
      "outputs": [
        {
          "output_type": "display_data",
          "data": {
            "image/png": "[encoded data removed]",
            "text/plain": [
              "<Figure size 720x504 with 1 Axes>"
            ]
          },
          "metadata": {
            "needs_background": "light"
          }
        }
      ]
    },
    {
      "cell_type": "markdown",
      "metadata": {
        "id": "kFJWM5B00M0Q"
      },
      "source": [
        "### Create train & test sets for time series (the right way)"
      ]
    },
    {
      "cell_type": "code",
      "metadata": {
        "colab": {
          "base_uri": "https://localhost:8080/"
        },
        "id": "3qx4o4BV0smh",
        "outputId": "fed015d9-ee98-4620-eba1-278e817423f8"
      },
      "source": [
        "# Create train and test splits the right way for the time series data\n",
        "split_size = int(0.8 * len(prices)) # 80% train, 20% test\n",
        "\n",
        "# Create train data splits (everytying before the split)\n",
        "X_train, y_train = timesteps[:split_size], prices[:split_size]\n",
        "\n",
        "# Create test data splits (everything beyond the split)\n",
        "X_test, y_test = timesteps[split_size:], prices[split_size:]\n",
        "\n",
        "len(X_train), len(X_test), len(y_train), len(y_test)"
      ],
      "execution_count": 14,
      "outputs": [
        {
          "output_type": "execute_result",
          "data": {
            "text/plain": [
              "(2229, 558, 2229, 558)"
            ]
          },
          "metadata": {},
          "execution_count": 14
        }
      ]
    },
    {
      "cell_type": "code",
      "metadata": {
        "colab": {
          "base_uri": "https://localhost:8080/",
          "height": 442
        },
        "id": "9YV-dQut12aU",
        "outputId": "9c2f733f-f360-454b-f18c-d7894848a2f2"
      },
      "source": [
        "# Plot the graph\n",
        "plt.figure(figsize=(10, 7))\n",
        "plt.scatter(X_train, y_train, s=5, label='Train data')\n",
        "plt.scatter(X_test, y_test, label='Test data')\n",
        "plt.xlabel('Date')\n",
        "plt.ylabel('BTC Price')\n",
        "plt.legend(fontsize=14)\n",
        "plt.show();"
      ],
      "execution_count": 15,
      "outputs": [
        {
          "output_type": "display_data",
          "data": {
            "image/png": "[encoded data removed]",
            "text/plain": [
              "<Figure size 720x504 with 1 Axes>"
            ]
          },
          "metadata": {
            "needs_background": "light"
          }
        }
      ]
    },
    {
      "cell_type": "markdown",
      "metadata": {
        "id": "ZRbwLer717VZ"
      },
      "source": [
        "## Create a ploting function\n",
        "\n",
        "Typing plotting code is tidious, let's functionize it."
      ]
    },
    {
      "cell_type": "code",
      "metadata": {
        "id": "WjnNLkJF7zi2"
      },
      "source": [
        "# Create a function to plot time series data\n",
        "def plot_time_series(timesteps, values, format='.', start=0, end=None,label=None):\n",
        "  \"\"\"\n",
        "  Plots timesteps (a series of points in time) against values (a series of values across timesteps)\n",
        "\n",
        "  Parameters\n",
        "  ----------\n",
        "  timesteps: array of timesteps values\n",
        "  values: array of values across time\n",
        "\n",
        "  \"\"\"\n",
        "  # Plot the series\n",
        "  plt.plot(timesteps[start:end], values[start:end], format, label=label)\n",
        "  plt.xlabel('Time')\n",
        "  plt.ylabel('BTC Price')\n",
        "  if label:\n",
        "    plt.legend(fontsize=14)\n",
        "  plt.grid(True) "
      ],
      "execution_count": 16,
      "outputs": []
    },
    {
      "cell_type": "code",
      "metadata": {
        "colab": {
          "base_uri": "https://localhost:8080/",
          "height": 442
        },
        "id": "6YBRjffL81vz",
        "outputId": "688890c9-f44e-45cd-b4e0-8bf0895747f6"
      },
      "source": [
        "# Test out plotting function\n",
        "plt.figure(figsize=(10, 7))\n",
        "plot_time_series(timesteps=X_train, values=y_train, start=1000, label='Train data')\n",
        "plot_time_series(timesteps=X_test, values=y_test, label='Test data')"
      ],
      "execution_count": 17,
      "outputs": [
        {
          "output_type": "display_data",
          "data": {
            "image/png": "[encoded data removed]",
            "text/plain": [
              "<Figure size 720x504 with 1 Axes>"
            ]
          },
          "metadata": {
            "needs_background": "light"
          }
        }
      ]
    },
    {
      "cell_type": "markdown",
      "metadata": {
        "id": "kYcqHdzH9Nws"
      },
      "source": [
        "## Modelling Experiments\n",
        "\n",
        "We can build almost any kind of model for our problem as long as the data inputs and outputs are formatted correctly.\n",
        "\n",
        "However, just because we *can* build *almost any* kind of model, doesn't mean it'll perform well/should be used in a production setting.\n",
        "\n",
        "We'll see what this means as we build and evaluate models throughout.\n",
        "\n",
        "Before we discuss what modelling experiments we're going to run, there are two terms you should be familiar with, **horizon** and **window**. \n",
        "  * **horizon** = number of timesteps to predict into future\n",
        "  * **window** = number of timesteps from past used to predict **horizon**\n",
        "\n",
        "For example, if we wanted to predict the price of Bitcoin for tomorrow (1 day in the future) using the previous week's worth of Bitcoin prices (7 days in the past), the horizon would be 1 and the window would be 7.\n",
        "\n",
        "Now, how about those modelling experiments?\n",
        "\n",
        "| Model Number | Model Type | Horizon size | Window size | Extra data |\n",
        "| ----- | ----- | ----- | ----- | ----- |\n",
        "| 0 | Naïve model (baseline) | NA | NA | NA |\n",
        "| 1 | Dense model | 1 | 7 | NA |\n",
        "| 2 | Same as 1 | 1 | 30 | NA | \n",
        "| 3 | Same as 1 | 7 | 30 | NA |\n",
        "| 4 | Conv1D | 1 | 7 | NA |\n",
        "| 5 | LSTM | 1 | 7 | NA |\n",
        "| 6 | Same as 1 (but with multivariate data) | 1 | 7 | Block reward size |\n",
        "| 7 | [N-BEATs Algorithm](https://arxiv.org/pdf/1905.10437.pdf) | 1 | 7 | NA |\n",
        "| 8 | Ensemble (multiple models optimized on different loss functions) | 1 | 7 | NA | \n",
        "| 9 | Future prediction model (model to predict future values) | 1 | 7 | NA| \n",
        "| 10 | Same as 1 (but with turkey 🦃 data introduced) | 1 | 7 | NA |\n",
        "\n",
        "> 🔑 **Note:** To reiterate, as you can see, we can build many types of models for the data we're working with. But that doesn't mean that they'll perform well. Deep learning is a powerful technique but it doesn't always work. And as always, start with a simple model first and then add complexity as needed. "
      ]
    },
    {
      "cell_type": "markdown",
      "metadata": {
        "id": "7ZAAQkxhU0c-"
      },
      "source": [
        "## Model 0: Navie forecast (baseline)\n",
        "\n",
        "The farmula looks like this\n",
        "\n",
        "$$\\hat{y}_{t} = y_{t-1}$$\n",
        "\n",
        "In English\n",
        "\n",
        "> The prediction at timestep t (y-hat) is equal to the value at timestep t-1 (previous timestpe) - this is for a horizon of 1."
      ]
    },
    {
      "cell_type": "code",
      "metadata": {
        "colab": {
          "base_uri": "https://localhost:8080/"
        },
        "id": "v69QHXoJYlR4",
        "outputId": "4c51c392-95f8-495a-d4db-457b60c8b266"
      },
      "source": [
        "# Create a naive forecast\n",
        "naive_forecast = y_test[:-1]\n",
        "\n",
        "naive_forecast[:10], naive_forecast[-10:]"
      ],
      "execution_count": 18,
      "outputs": [
        {
          "output_type": "execute_result",
          "data": {
            "text/plain": [
              "(array([9226.48582088, 8794.35864452, 8798.04205463, 9081.18687849,\n",
              "        8711.53433917, 8760.89271814, 8749.52059102, 8656.97092235,\n",
              "        8500.64355816, 8469.2608989 ]),\n",
              " array([57107.12067189, 58788.20967893, 58102.19142623, 55715.54665129,\n",
              "        56573.5554719 , 52147.82118698, 49764.1320816 , 50032.69313676,\n",
              "        47885.62525472, 45604.61575361]))"
            ]
          },
          "metadata": {},
          "execution_count": 18
        }
      ]
    },
    {
      "cell_type": "code",
      "metadata": {
        "colab": {
          "base_uri": "https://localhost:8080/"
        },
        "id": "5uLYXwZDZkwh",
        "outputId": "b5c20bb8-cbf8-4efe-c72f-f98785ea112e"
      },
      "source": [
        "y_test[-10:]"
      ],
      "execution_count": 19,
      "outputs": [
        {
          "output_type": "execute_result",
          "data": {
            "text/plain": [
              "array([58788.20967893, 58102.19142623, 55715.54665129, 56573.5554719 ,\n",
              "       52147.82118698, 49764.1320816 , 50032.69313676, 47885.62525472,\n",
              "       45604.61575361, 43144.47129086])"
            ]
          },
          "metadata": {},
          "execution_count": 19
        }
      ]
    },
    {
      "cell_type": "code",
      "metadata": {
        "colab": {
          "base_uri": "https://localhost:8080/",
          "height": 442
        },
        "id": "UwP7LBJLZsM0",
        "outputId": "7be673b5-d64a-40d7-ab64-9c19632cd0ec"
      },
      "source": [
        "# Plot naive forecast\n",
        "plt.figure(figsize=(10, 7))\n",
        "# plot_time_series(timesteps=X_train, values=y_train, label='Train data')\n",
        "plot_time_series(timesteps=X_test, values=y_test, start=300, format='-', label='Test data')\n",
        "plot_time_series(timesteps=X_test[1:], values=naive_forecast, start=300, format='-', label='Naive Forecast')"
      ],
      "execution_count": 20,
      "outputs": [
        {
          "output_type": "display_data",
          "data": {
            "image/png": "[encoded data removed]",
            "text/plain": [
              "<Figure size 720x504 with 1 Axes>"
            ]
          },
          "metadata": {
            "needs_background": "light"
          }
        }
      ]
    },
    {
      "cell_type": "markdown",
      "metadata": {
        "id": "SuyRdaESaRZ-"
      },
      "source": [
        "> **Exercise:** Spend 10 minutes reading the sample forecasts chapter of Forcasting: Principles in Practice and have a search to find out why the naive forecast is so hard to beat, does the term autoregressive come up?"
      ]
    },
    {
      "cell_type": "markdown",
      "metadata": {
        "id": "1Z7W3fGKbkh5"
      },
      "source": [
        "## Evaluating a time series model\n",
        "\n",
        "Let's look into some evaluation metrics for time series forecasting.\n",
        "\n",
        "What are we doing?\n",
        "\n",
        "We are predicting a number, so that means we have a form of a regression problem.\n",
        "\n",
        "Because we are working on a regression problem, we will need some regression-like metrics.\n",
        "\n",
        "A few common regression metrics, (which can also be used for time series forecasting):\n",
        "* MAE - mena absolute erro\n",
        "* MSE - mean squared error\n",
        "* RMSE - root mean squared error\n",
        "* MAPE/sMAPE - (symmetric) mean absolute percentage error\n",
        "* MASE - mean absolute scaled error.\n",
        "\n",
        "For all of the above metrics, **lower is better** , for example , an MAE of 0 that is better than an MAE of 100.\n",
        "\n",
        "The main thing we are evaluating here is: **how do our model's forecasts (y_pred) compare against the actual values (y_true or ground truth values)?**"
      ]
    },
    {
      "cell_type": "code",
      "metadata": {
        "id": "of11pbbRccUF"
      },
      "source": [
        "import tensorflow as tf"
      ],
      "execution_count": 21,
      "outputs": []
    },
    {
      "cell_type": "code",
      "metadata": {
        "id": "d49Bjs4qfBUj"
      },
      "source": [
        "# MASE implementation\n",
        "def mean_absolute_scaled_error(y_true, y_pred):\n",
        "  \"\"\"\n",
        "  Implement MASE (assuming no seasonality of data).\n",
        "  \"\"\"\n",
        "\n",
        "  mae = tf.reduce_mean(tf.abs(y_true-y_pred))\n",
        "\n",
        "  # Find MAE of naive forecast (no seasonality)\n",
        "  mae_naive_no_season = tf.reduce_mean(tf.abs(y_true[1:] - y_true[:-1])) # our seasonality is 1 day (hence the shift of 1)\n",
        "\n",
        "  return mae / mae_naive_no_season"
      ],
      "execution_count": 22,
      "outputs": []
    },
    {
      "cell_type": "code",
      "metadata": {
        "colab": {
          "base_uri": "https://localhost:8080/"
        },
        "id": "4H9PqZlXgThn",
        "outputId": "074c215c-1a5f-4478-ae03-d6fbd975019b"
      },
      "source": [
        "mean_absolute_scaled_error(y_true=y_test[1:], y_pred=naive_forecast).numpy()"
      ],
      "execution_count": 23,
      "outputs": [
        {
          "output_type": "execute_result",
          "data": {
            "text/plain": [
              "0.9995699939182624"
            ]
          },
          "metadata": {},
          "execution_count": 23
        }
      ]
    },
    {
      "cell_type": "code",
      "metadata": {
        "id": "4ohE2jiSgbuk"
      },
      "source": [
        "# Create a function to take in model predictions and truth values and return evaluatic\n",
        "def evaluate_preds(y_true, y_pred):\n",
        "  # Make sure float32 datatype (for metric calculations)Get Data We are going to be using the histori\n",
        "  y_true = tf.cast(y_true, dtype=tf.float32)\n",
        "  y_pred = tf.cast(y_pred, dtype=tf.float32)\n",
        "\n",
        "  # Calculate various evaluation metrics\n",
        "  mae = tf.keras.metrics.mean_absolute_error(y_true, y_pred)\n",
        "  mse = tf.keras.metrics.mean_squared_error(y_true, y_pred)\n",
        "  rmse = tf.sqrt(mse)\n",
        "  mape = tf.keras.metrics.mean_absolute_error(y_true, y_pred)\n",
        "  mase = mean_absolute_scaled_error(y_true, y_pred)\n",
        "\n",
        "  return {'mae': mae.numpy(),\n",
        "          'mse': mse.numpy(),\n",
        "          'rmse': rmse.numpy(),\n",
        "          'mape': mape.numpy(),\n",
        "          'mase': mase.numpy()}"
      ],
      "execution_count": 24,
      "outputs": []
    },
    {
      "cell_type": "code",
      "metadata": {
        "colab": {
          "base_uri": "https://localhost:8080/"
        },
        "id": "W049Dh2jvBoL",
        "outputId": "b2cc035e-e7cd-49fb-d909-e1f49eaf0aa9"
      },
      "source": [
        "naive_results = evaluate_preds(y_true=y_test[1:],\n",
        "                               y_pred=naive_forecast)\n",
        "naive_results"
      ],
      "execution_count": 25,
      "outputs": [
        {
          "output_type": "execute_result",
          "data": {
            "text/plain": [
              "{'mae': 567.9802,\n",
              " 'mape': 567.9802,\n",
              " 'mase': 0.99957,\n",
              " 'mse': 1147547.0,\n",
              " 'rmse': 1071.2362}"
            ]
          },
          "metadata": {},
          "execution_count": 25
        }
      ]
    },
    {
      "cell_type": "code",
      "metadata": {
        "colab": {
          "base_uri": "https://localhost:8080/"
        },
        "id": "PREOh60zvfyz",
        "outputId": "f3be6bec-2d49-4ca0-fc86-38e016b1916d"
      },
      "source": [
        "naive_forecast[-10:]"
      ],
      "execution_count": 26,
      "outputs": [
        {
          "output_type": "execute_result",
          "data": {
            "text/plain": [
              "array([57107.12067189, 58788.20967893, 58102.19142623, 55715.54665129,\n",
              "       56573.5554719 , 52147.82118698, 49764.1320816 , 50032.69313676,\n",
              "       47885.62525472, 45604.61575361])"
            ]
          },
          "metadata": {},
          "execution_count": 26
        }
      ]
    },
    {
      "cell_type": "code",
      "metadata": {
        "colab": {
          "base_uri": "https://localhost:8080/"
        },
        "id": "43LtatQlvwKR",
        "outputId": "f0dedbf6-6a27-4236-b8d1-e2e8a23d5185"
      },
      "source": [
        "tf.reduce_mean(y_test)"
      ],
      "execution_count": 27,
      "outputs": [
        {
          "output_type": "execute_result",
          "data": {
            "text/plain": [
              "<tf.Tensor: shape=(), dtype=float64, numpy=20056.632963737226>"
            ]
          },
          "metadata": {},
          "execution_count": 27
        }
      ]
    },
    {
      "cell_type": "code",
      "metadata": {
        "colab": {
          "base_uri": "https://localhost:8080/"
        },
        "id": "zEscNfx8v6kP",
        "outputId": "c2200a07-7151-40b9-d7ed-555901d54f78"
      },
      "source": [
        "tf.reduce_min(y_test), tf.reduce_max(y_test)"
      ],
      "execution_count": 28,
      "outputs": [
        {
          "output_type": "execute_result",
          "data": {
            "text/plain": [
              "(<tf.Tensor: shape=(), dtype=float64, numpy=4944.7023359837>,\n",
              " <tf.Tensor: shape=(), dtype=float64, numpy=63346.7890351052>)"
            ]
          },
          "metadata": {},
          "execution_count": 28
        }
      ]
    },
    {
      "cell_type": "markdown",
      "metadata": {
        "id": "QpjqxpIMv_T0"
      },
      "source": [
        "\n",
        "## Other models you can use for baseline and for actual forecast\n",
        "\n",
        "In this notebook, we are focused on TensorFlow and deep learning models.\n",
        "\n",
        "However there are plenty of other styles of time series forecasting models you may"
      ]
    },
    {
      "cell_type": "markdown",
      "metadata": {
        "id": "7QwTPrAAwtpC"
      },
      "source": [
        "## Format data Part2: Windowing our dataset\n",
        "\n",
        "Why do we window?\n",
        "\n",
        "We window our time series dataset to turn our data into a supervised learning problem.\n",
        "\n",
        "```\n",
        "Windowing for one week\n",
        "[0, 1, 2, 3, 4, 5, 6] -> [7]\n",
        "[1, 2, 3, 4, 5, 6, 7] -> [8]\n",
        "[2, 3, 4, 5, 6, 7, 8] -> [9]\n",
        "```"
      ]
    },
    {
      "cell_type": "code",
      "metadata": {
        "colab": {
          "base_uri": "https://localhost:8080/"
        },
        "id": "XsX-iLGyyb5X",
        "outputId": "32fc27b2-91a3-4333-b85d-dd157d1334ca"
      },
      "source": [
        "len(y_train)"
      ],
      "execution_count": 29,
      "outputs": [
        {
          "output_type": "execute_result",
          "data": {
            "text/plain": [
              "2229"
            ]
          },
          "metadata": {},
          "execution_count": 29
        }
      ]
    },
    {
      "cell_type": "code",
      "metadata": {
        "colab": {
          "base_uri": "https://localhost:8080/"
        },
        "id": "lYLEEd6Vygsc",
        "outputId": "4059b905-df69-4723-cd77-3ece4238128b"
      },
      "source": [
        "# What we want to do with our Bitcoin data\n",
        "print(f'We want to use: {btc_price[:7]} to predict this: {btc_price[7]}')"
      ],
      "execution_count": 30,
      "outputs": [
        {
          "output_type": "stream",
          "name": "stdout",
          "text": [
            "We want to use: [123.65499, 125.455, 108.58483, 118.67466, 121.33866, 120.65533, 121.795] to predict this: 123.033\n"
          ]
        }
      ]
    },
    {
      "cell_type": "code",
      "metadata": {
        "id": "rDCiu_DbyiWC"
      },
      "source": [
        "# Let's setup global variables for window and horizon sizeith TensorFlow + Milestone Project 3: BitPredict\n",
        "\n",
        "HORIZON = 1 # predict next 1 day\n",
        "WINDOW_SIZE = 7 # use the past week of Bitcoin data to make the prediction"
      ],
      "execution_count": 31,
      "outputs": []
    },
    {
      "cell_type": "code",
      "metadata": {
        "id": "5e3JUzfyzTGj"
      },
      "source": [
        "# Create function to label windowed data\n",
        "def get_labelled_windows(x, horizon=HORIZON):\n",
        "  \"\"\"\n",
        "  Creates labels for windowed dataset.\n",
        "\n",
        "  E.g. If horizon=1\n",
        "  Input: [0, 1, 2, 3, 4, 5, 6, 7] -> Output: ([0, 1, 2, 3, 4, 5, 6], [7])\n",
        "  \"\"\"\n",
        "\n",
        "  return x[:, :-horizon], x[:, -horizon:]"
      ],
      "execution_count": 32,
      "outputs": []
    },
    {
      "cell_type": "code",
      "metadata": {
        "colab": {
          "base_uri": "https://localhost:8080/"
        },
        "id": "QzvNL_Ih2ay8",
        "outputId": "25d59343-68ea-4047-9308-3eeb47512c18"
      },
      "source": [
        "# Test out the wondow lebeling function\n",
        "test_window, test_label = get_labelled_windows(tf.expand_dims(tf.range(8), axis=0))\n",
        "print(f'Window: {tf.squeeze(test_window).numpy()} -> Label: {tf.squeeze(test_label).numpy()}')"
      ],
      "execution_count": 33,
      "outputs": [
        {
          "output_type": "stream",
          "name": "stdout",
          "text": [
            "Window: [0 1 2 3 4 5 6] -> Label: 7\n"
          ]
        }
      ]
    },
    {
      "cell_type": "markdown",
      "metadata": {
        "id": "U7FFAQQP2p1E"
      },
      "source": [
        "we have got a way to label our windowed data.\n",
        "\n",
        "However, this only works on a small scale.\n",
        "\n",
        "We need a way to do the above across our entire time series.\n",
        "\n",
        "We could do this with python for loops, however , for large time series, thit'd be quite slow. To speed things up, we will leverage NumPy's array indexing.\n",
        "\n",
        "Our function will:\n",
        ">1. Create a window step of specific window size (e.g. [0, 1, 2, 3, 4, 5, 6])\n",
        "2. Use NumPy indexing to create a 2D array of multiple window steps, for example\n",
        "```\n",
        "[[0, 1, 2, 3, 4, 5, 6],\n",
        " [1, 2, 3, 4, 5, 6, 7],\n",
        "  [2, 3, 4, 5, 6, 7, 8]]\n",
        "```\n",
        "3. Uses of 2D array of multiple window steps (from 2.) to index on a target series (e.g the historical price of Bitcoin).\n",
        "4. Uses our 'get_label_windows()' function we "
      ]
    },
    {
      "cell_type": "code",
      "metadata": {
        "id": "lteBmPxLWw3j"
      },
      "source": [
        "import numpy as np"
      ],
      "execution_count": 34,
      "outputs": []
    },
    {
      "cell_type": "code",
      "metadata": {
        "id": "5a0ids826mFd"
      },
      "source": [
        "# Create function to view numpy arrays as window\n",
        "def make_windows(x, window_size=WINDOW_SIZE, horizon=HORIZON):\n",
        "  \"\"\"\n",
        "  Turns a 1D array into a 2D array of sequential labelled windos of window_size with horizon size labels.\n",
        "  \"\"\"\n",
        "  # 1. Create a window of specific window_size (add the horizon on the end for labelling later)\n",
        "  window_step = np.expand_dims(np.arange(window_size + horizon),axis=0)\n",
        "\n",
        "  # 2. Use numpy indexing a 2D array of multiple windows\n",
        "  window_indexes = window_step + np.expand_dims(np.arange(len(x) - (window_size + horizon - 1)), axis=0).T # Create 2D array of windows of window_size\n",
        "\n",
        "  # print(f'Window indexes:\\n{window_indexes, window_indexes.shape}')\n",
        "\n",
        "  # 3. Index on the target array (a time series with 2D array of multiple window steps)\n",
        "  windowed_array = x[window_indexes]\n",
        "\n",
        "  print(windowed_array)\n",
        "\n",
        "  # 4. Get the labelled windows\n",
        "  windows, labels = get_labelled_windows(windowed_array,  horizon=horizon)\n",
        "  return windows, labels"
      ],
      "execution_count": 35,
      "outputs": []
    },
    {
      "cell_type": "code",
      "metadata": {
        "id": "P8BTE8lp6pYs",
        "colab": {
          "base_uri": "https://localhost:8080/"
        },
        "outputId": "2bb57dc3-1409-4a92-e21d-39f5ea8f3542"
      },
      "source": [
        "full_windows, full_labels = make_windows(prices, window_size=WINDOW_SIZE, horizon=HORIZON)\n",
        "len(full_windows), len(full_labels)"
      ],
      "execution_count": 36,
      "outputs": [
        {
          "output_type": "stream",
          "name": "stdout",
          "text": [
            "[[  123.65499      125.455        108.58483    ...   120.65533\n",
            "    121.795        123.033     ]\n",
            " [  125.455        108.58483      118.67466    ...   121.795\n",
            "    123.033        124.049     ]\n",
            " [  108.58483      118.67466      121.33866    ...   123.033\n",
            "    124.049        125.96116   ]\n",
            " ...\n",
            " [58788.20967893 58102.19142623 55715.54665129 ... 49764.1320816\n",
            "  50032.69313676 47885.62525472]\n",
            " [58102.19142623 55715.54665129 56573.5554719  ... 50032.69313676\n",
            "  47885.62525472 45604.61575361]\n",
            " [55715.54665129 56573.5554719  52147.82118698 ... 47885.62525472\n",
            "  45604.61575361 43144.47129086]]\n"
          ]
        },
        {
          "output_type": "execute_result",
          "data": {
            "text/plain": [
              "(2780, 2780)"
            ]
          },
          "metadata": {},
          "execution_count": 36
        }
      ]
    },
    {
      "cell_type": "code",
      "metadata": {
        "colab": {
          "base_uri": "https://localhost:8080/"
        },
        "id": "EmMvUCmtX5zy",
        "outputId": "e0f79d16-8373-4e97-b032-957e024d1c3d"
      },
      "source": [
        "# View the first 3 windows/labels\n",
        "for i in range(3):\n",
        "  print(f'window: {full_windows[i]} -> Label: {full_labels[i]}')"
      ],
      "execution_count": 37,
      "outputs": [
        {
          "output_type": "stream",
          "name": "stdout",
          "text": [
            "window: [123.65499 125.455   108.58483 118.67466 121.33866 120.65533 121.795  ] -> Label: [123.033]\n",
            "window: [125.455   108.58483 118.67466 121.33866 120.65533 121.795   123.033  ] -> Label: [124.049]\n",
            "window: [108.58483 118.67466 121.33866 120.65533 121.795   123.033   124.049  ] -> Label: [125.96116]\n"
          ]
        }
      ]
    },
    {
      "cell_type": "code",
      "metadata": {
        "colab": {
          "base_uri": "https://localhost:8080/"
        },
        "id": "NV8pfwfMZMDL",
        "outputId": "22bd94a6-e080-4a3d-c426-62fd0d7f803a"
      },
      "source": [
        "# View the last 3 windows/labels\n",
        "for i in range(3):\n",
        "  print(f'Window: {full_windows[i-3]} -> Label: {full_labels[i-3]}')"
      ],
      "execution_count": 38,
      "outputs": [
        {
          "output_type": "stream",
          "name": "stdout",
          "text": [
            "Window: [58788.20967893 58102.19142623 55715.54665129 56573.5554719\n",
            " 52147.82118698 49764.1320816  50032.69313676] -> Label: [47885.62525472]\n",
            "Window: [58102.19142623 55715.54665129 56573.5554719  52147.82118698\n",
            " 49764.1320816  50032.69313676 47885.62525472] -> Label: [45604.61575361]\n",
            "Window: [55715.54665129 56573.5554719  52147.82118698 49764.1320816\n",
            " 50032.69313676 47885.62525472 45604.61575361] -> Label: [43144.47129086]\n"
          ]
        }
      ]
    },
    {
      "cell_type": "markdown",
      "metadata": {
        "id": "o8Q06dG7ZiXJ"
      },
      "source": [
        "> **Note:** There's a function which does similar to above in tf.keras.preprocessing, and extension could be to try and replicate what we've done using the premade function: https://www.tensorflow.org/api_docs/python/tf/keras/utils/timeseries_dataset_from_array\n"
      ]
    },
    {
      "cell_type": "markdown",
      "metadata": {
        "id": "30C7KE4daQ8r"
      },
      "source": [
        "## Turning windows into training and test sets"
      ]
    },
    {
      "cell_type": "code",
      "metadata": {
        "id": "e2gC2UlCaeno"
      },
      "source": [
        "# Make the train/test splits \n",
        "def make_train_test_splits(windows, labels, test_split=0.2):\n",
        "  \"\"\"\n",
        "  Splits matching pairs of windows and labels into train and test splits.\n",
        "  \"\"\"\n",
        "  split_size = int(len(windows) * (1 - test_split)) # this will default to 80% train/ 20% test\n",
        "  train_windows = windows[:split_size]\n",
        "  train_labels = labels[:split_size]\n",
        "  test_windows = windows[split_size:]\n",
        "  test_labels = labels[split_size:]\n",
        "  return train_windows, test_windows, train_labels, test_labels"
      ],
      "execution_count": 39,
      "outputs": []
    },
    {
      "cell_type": "code",
      "metadata": {
        "colab": {
          "base_uri": "https://localhost:8080/"
        },
        "id": "-nJyEWk9bqsr",
        "outputId": "4dbbcd9c-78f2-48cd-adf6-db0259780abc"
      },
      "source": [
        "train_windows, test_windows, train_labels, test_labels = make_train_test_splits(full_windows, full_labels)\n",
        "len(train_windows), len(test_windows), len(train_labels), len(test_labels)"
      ],
      "execution_count": 40,
      "outputs": [
        {
          "output_type": "execute_result",
          "data": {
            "text/plain": [
              "(2224, 556, 2224, 556)"
            ]
          },
          "metadata": {},
          "execution_count": 40
        }
      ]
    },
    {
      "cell_type": "code",
      "metadata": {
        "colab": {
          "base_uri": "https://localhost:8080/"
        },
        "id": "QKhrCMKOb7GN",
        "outputId": "fa041907-6f2f-40fb-82b0-274026737f62"
      },
      "source": [
        "# Check to see if train labels are the same (fefore and afer window split)\n",
        "np.array_equal(np.squeeze(train_labels[:-HORIZON-1]), y_train[WINDOW_SIZE:])"
      ],
      "execution_count": 41,
      "outputs": [
        {
          "output_type": "execute_result",
          "data": {
            "text/plain": [
              "True"
            ]
          },
          "metadata": {},
          "execution_count": 41
        }
      ]
    },
    {
      "cell_type": "markdown",
      "metadata": {
        "id": "_k7pCSbacYNt"
      },
      "source": [
        "## Make a modelling checkpoint\n",
        "\n",
        "Because our model's performance will flucutuate from experiment to experiment, we are going to write a model checkpoint so we can compare apples to apples.\n",
        "\n",
        "More specifically we want to compare each of our model's best performances against the other model's best performance.\n",
        "\n",
        "for example if our model performs the best on epoch 55 (but we are training for 100), we want to load and evulaute  the model saved on epoch 55.\n",
        "\n",
        "We can create a modelling checkpoint callback using the following#"
      ]
    },
    {
      "cell_type": "code",
      "metadata": {
        "id": "Sd_KX7aIcnJ_"
      },
      "source": [
        "import os\n",
        "\n",
        "# Create a function to implement a ModelCheckpoint callback with a specific filename\n",
        "def create_model_checkpoint(model_name, save_path='model_experiments'):\n",
        "  return tf.keras.callbacks.ModelCheckpoint(filepath=os.path.join(save_path, model_name),\n",
        "                                            monitor='val_loss',\n",
        "                                            verbose=0, # only output a limited amount of text\n",
        "                                            save_best_only=True)"
      ],
      "execution_count": 42,
      "outputs": []
    },
    {
      "cell_type": "markdown",
      "metadata": {
        "id": "UjA3ejQgeMyT"
      },
      "source": [
        "## Model 1: Dense model (window = 7, horizon = 1)\n",
        "\n",
        "Our first deep model is going to be a simple dense model:\n",
        ">\n",
        "* A single dense layer with 128 hidden units and ReLU\n",
        "* An output layer with linear activation (no activation)\n",
        "* Adam optimization and MAE loss function\n",
        "* Batch size of 128 (previously we have used 32)\n",
        "* 100 epochs\n",
        "\n",
        "Why these values?\n",
        "\n",
        "I picked them out of experimentation.\n",
        "\n",
        "* *Hyperparameters* = values a machine learning practionarer (you!) can adjust themselves\n",
        "* *Parameters* = values a model learns on its own"
      ]
    },
    {
      "cell_type": "code",
      "metadata": {
        "colab": {
          "base_uri": "https://localhost:8080/"
        },
        "id": "bcw2lgu-ekGG",
        "outputId": "780e3f63-4583-4262-bd35-bf1797d1754f"
      },
      "source": [
        "import tensorflow as tf\n",
        "from tensorflow.keras import layers\n",
        "\n",
        "# Set random seed for as repoducible results as possible\n",
        "tf.random.set_seed(42)\n",
        "\n",
        "# 1. Construct model\n",
        "model_1 = tf.keras.Sequential([\n",
        "  layers.Dense(128, activation='relu'),\n",
        "  layers.Dense(HORIZON, activation='linear')                              \n",
        "], name='model_1_dense') # name our model so we can save it.\n",
        "\n",
        "# 2. Compile the model\n",
        "model_1.compile(loss='mae',\n",
        "                optimizer=tf.keras.optimizers.Adam(),\n",
        "                metrics=['mae', 'mse'])\n",
        "\n",
        "# 3. Fit the model\n",
        "\n",
        "model_1.fit(x=train_windows,\n",
        "            y=train_labels,\n",
        "            epochs=100,\n",
        "            verbose=1,\n",
        "            batch_size=128,\n",
        "            validation_data=(test_windows, test_labels),\n",
        "            callbacks=[create_model_checkpoint(model_name=model_1.name)])"
      ],
      "execution_count": 43,
      "outputs": [
        {
          "output_type": "stream",
          "name": "stdout",
          "text": [
            "Epoch 1/100\n",
            "14/18 [======================>.......] - ETA: 0s - loss: 861.3397 - mae: 861.3397 - mse: 2723163.7500   INFO:tensorflow:Assets written to: model_experiments/model_1_dense/assets\n",
            "18/18 [==============================] - 4s 63ms/step - loss: 780.3455 - mae: 780.3455 - mse: 2312725.7500 - val_loss: 2279.6526 - val_mae: 2279.6526 - val_mse: 12772728.0000\n",
            "Epoch 2/100\n",
            "16/18 [=========================>....] - ETA: 0s - loss: 257.9055 - mae: 257.9055 - mse: 303441.6562INFO:tensorflow:Assets written to: model_experiments/model_1_dense/assets\n",
            "18/18 [==============================] - 1s 40ms/step - loss: 247.6756 - mae: 247.6756 - mse: 285481.1875 - val_loss: 1005.9991 - val_mae: 1005.9991 - val_mse: 3441833.5000\n",
            "Epoch 3/100\n",
            "16/18 [=========================>....] - ETA: 0s - loss: 191.8170 - mae: 191.8170 - mse: 172325.0312INFO:tensorflow:Assets written to: model_experiments/model_1_dense/assets\n",
            "18/18 [==============================] - 1s 41ms/step - loss: 188.4116 - mae: 188.4116 - mse: 171891.5625 - val_loss: 923.2862 - val_mae: 923.2862 - val_mse: 2868220.5000\n",
            "Epoch 4/100\n",
            "15/18 [========================>.....] - ETA: 0s - loss: 169.7341 - mae: 169.7341 - mse: 155006.5938INFO:tensorflow:Assets written to: model_experiments/model_1_dense/assets\n",
            "18/18 [==============================] - 1s 42ms/step - loss: 169.4340 - mae: 169.4340 - mse: 151700.5625 - val_loss: 900.5872 - val_mae: 900.5872 - val_mse: 2683715.2500\n",
            "Epoch 5/100\n",
            "16/18 [=========================>....] - ETA: 0s - loss: 167.2091 - mae: 167.2091 - mse: 150048.9219INFO:tensorflow:Assets written to: model_experiments/model_1_dense/assets\n",
            "18/18 [==============================] - 1s 41ms/step - loss: 165.0895 - mae: 165.0895 - mse: 145490.7969 - val_loss: 895.2238 - val_mae: 895.2238 - val_mse: 2564574.0000\n",
            "Epoch 6/100\n",
            "15/18 [========================>.....] - ETA: 0s - loss: 157.1806 - mae: 157.1806 - mse: 125587.4766INFO:tensorflow:Assets written to: model_experiments/model_1_dense/assets\n",
            "18/18 [==============================] - 1s 42ms/step - loss: 158.5210 - mae: 158.5210 - mse: 133817.7344 - val_loss: 855.1982 - val_mae: 855.1982 - val_mse: 2481872.7500\n",
            "Epoch 7/100\n",
            "15/18 [========================>.....] - ETA: 0s - loss: 155.5176 - mae: 155.5176 - mse: 130523.4219INFO:tensorflow:Assets written to: model_experiments/model_1_dense/assets\n",
            "18/18 [==============================] - 1s 42ms/step - loss: 151.3566 - mae: 151.3566 - mse: 123446.9609 - val_loss: 840.9168 - val_mae: 840.9168 - val_mse: 2276452.2500\n",
            "Epoch 8/100\n",
            "16/18 [=========================>....] - ETA: 0s - loss: 145.2025 - mae: 145.2025 - mse: 119825.4219INFO:tensorflow:Assets written to: model_experiments/model_1_dense/assets\n",
            "18/18 [==============================] - 1s 42ms/step - loss: 145.2560 - mae: 145.2560 - mse: 117694.4922 - val_loss: 803.5956 - val_mae: 803.5956 - val_mse: 2140573.5000\n",
            "Epoch 9/100\n",
            "15/18 [========================>.....] - ETA: 0s - loss: 145.6129 - mae: 145.6129 - mse: 115800.6172INFO:tensorflow:Assets written to: model_experiments/model_1_dense/assets\n",
            "18/18 [==============================] - 1s 41ms/step - loss: 144.3546 - mae: 144.3546 - mse: 115269.3047 - val_loss: 799.5455 - val_mae: 799.5455 - val_mse: 2049207.7500\n",
            "Epoch 10/100\n",
            "13/18 [====================>.........] - ETA: 0s - loss: 136.8340 - mae: 136.8340 - mse: 98259.2891 INFO:tensorflow:Assets written to: model_experiments/model_1_dense/assets\n",
            "18/18 [==============================] - 1s 43ms/step - loss: 141.2943 - mae: 141.2943 - mse: 112394.6016 - val_loss: 763.5010 - val_mae: 763.5010 - val_mse: 1933140.7500\n",
            "Epoch 11/100\n",
            "18/18 [==============================] - 0s 7ms/step - loss: 135.6595 - mae: 135.6595 - mse: 104118.2656 - val_loss: 771.3357 - val_mae: 771.3357 - val_mse: 1885850.0000\n",
            "Epoch 12/100\n",
            "18/18 [==============================] - 0s 6ms/step - loss: 134.1700 - mae: 134.1700 - mse: 101780.8750 - val_loss: 782.8079 - val_mae: 782.8079 - val_mse: 1881727.7500\n",
            "Epoch 13/100\n",
            "18/18 [==============================] - 0s 6ms/step - loss: 134.6015 - mae: 134.6015 - mse: 102345.2266 - val_loss: 784.4449 - val_mae: 784.4449 - val_mse: 1860996.7500\n",
            "Epoch 14/100\n",
            "12/18 [===================>..........] - ETA: 0s - loss: 126.2412 - mae: 126.2412 - mse: 90989.1016INFO:tensorflow:Assets written to: model_experiments/model_1_dense/assets\n",
            "18/18 [==============================] - 1s 42ms/step - loss: 130.6127 - mae: 130.6127 - mse: 96225.1406 - val_loss: 751.3234 - val_mae: 751.3234 - val_mse: 1749609.3750\n",
            "Epoch 15/100\n",
            "15/18 [========================>.....] - ETA: 0s - loss: 130.4053 - mae: 130.4053 - mse: 99336.8594INFO:tensorflow:Assets written to: model_experiments/model_1_dense/assets\n",
            "18/18 [==============================] - 1s 50ms/step - loss: 128.8347 - mae: 128.8347 - mse: 94307.0078 - val_loss: 696.5757 - val_mae: 696.5757 - val_mse: 1606352.6250\n",
            "Epoch 16/100\n",
            "18/18 [==============================] - 0s 6ms/step - loss: 124.7739 - mae: 124.7739 - mse: 90394.9297 - val_loss: 702.4698 - val_mae: 702.4698 - val_mse: 1592416.0000\n",
            "Epoch 17/100\n",
            "18/18 [==============================] - 0s 6ms/step - loss: 123.4474 - mae: 123.4474 - mse: 89247.6797 - val_loss: 704.9241 - val_mae: 704.9241 - val_mse: 1580783.5000\n",
            "Epoch 18/100\n",
            "14/18 [======================>.......] - ETA: 0s - loss: 127.1725 - mae: 127.1725 - mse: 94072.1406INFO:tensorflow:Assets written to: model_experiments/model_1_dense/assets\n",
            "18/18 [==============================] - 1s 40ms/step - loss: 122.2105 - mae: 122.2105 - mse: 87607.6016 - val_loss: 667.9725 - val_mae: 667.9725 - val_mse: 1498882.0000\n",
            "Epoch 19/100\n",
            "18/18 [==============================] - 0s 6ms/step - loss: 121.7263 - mae: 121.7263 - mse: 86632.2656 - val_loss: 718.8797 - val_mae: 718.8797 - val_mse: 1589299.6250\n",
            "Epoch 20/100\n",
            "16/18 [=========================>....] - ETA: 0s - loss: 118.8377 - mae: 118.8377 - mse: 83432.6641 INFO:tensorflow:Assets written to: model_experiments/model_1_dense/assets\n",
            "18/18 [==============================] - 1s 42ms/step - loss: 119.2420 - mae: 119.2420 - mse: 84334.3438 - val_loss: 657.0667 - val_mae: 657.0667 - val_mse: 1447500.8750\n",
            "Epoch 21/100\n",
            "15/18 [========================>.....] - ETA: 0s - loss: 120.6400 - mae: 120.6400 - mse: 80809.7031INFO:tensorflow:Assets written to: model_experiments/model_1_dense/assets\n",
            "18/18 [==============================] - 1s 40ms/step - loss: 121.2275 - mae: 121.2275 - mse: 85743.3672 - val_loss: 637.0330 - val_mae: 637.0330 - val_mse: 1401773.5000\n",
            "Epoch 22/100\n",
            "18/18 [==============================] - 0s 6ms/step - loss: 119.9544 - mae: 119.9544 - mse: 84050.1250 - val_loss: 671.2490 - val_mae: 671.2490 - val_mse: 1447896.6250\n",
            "Epoch 23/100\n",
            "14/18 [======================>.......] - ETA: 0s - loss: 121.4262 - mae: 121.4262 - mse: 76919.6484INFO:tensorflow:Assets written to: model_experiments/model_1_dense/assets\n",
            "18/18 [==============================] - 1s 42ms/step - loss: 121.9248 - mae: 121.9248 - mse: 83746.1328 - val_loss: 633.3593 - val_mae: 633.3593 - val_mse: 1367377.8750\n",
            "Epoch 24/100\n",
            "15/18 [========================>.....] - ETA: 0s - loss: 118.0268 - mae: 118.0268 - mse: 85274.8281INFO:tensorflow:Assets written to: model_experiments/model_1_dense/assets\n",
            "18/18 [==============================] - 1s 40ms/step - loss: 116.3666 - mae: 116.3666 - mse: 81446.6641 - val_loss: 624.4852 - val_mae: 624.4852 - val_mse: 1348960.3750\n",
            "Epoch 25/100\n",
            "15/18 [========================>.....] - ETA: 0s - loss: 118.9141 - mae: 118.9141 - mse: 84461.9766INFO:tensorflow:Assets written to: model_experiments/model_1_dense/assets\n",
            "18/18 [==============================] - 1s 41ms/step - loss: 114.6816 - mae: 114.6816 - mse: 78912.8438 - val_loss: 619.7571 - val_mae: 619.7571 - val_mse: 1351089.8750\n",
            "Epoch 26/100\n",
            "13/18 [====================>.........] - ETA: 0s - loss: 113.1484 - mae: 113.1484 - mse: 67064.0703INFO:tensorflow:Assets written to: model_experiments/model_1_dense/assets\n",
            "18/18 [==============================] - 1s 41ms/step - loss: 116.4455 - mae: 116.4455 - mse: 79365.5625 - val_loss: 615.6364 - val_mae: 615.6364 - val_mse: 1321514.3750\n",
            "Epoch 27/100\n",
            "18/18 [==============================] - 0s 6ms/step - loss: 116.5868 - mae: 116.5868 - mse: 78672.9141 - val_loss: 615.9631 - val_mae: 615.9631 - val_mse: 1313077.8750\n",
            "Epoch 28/100\n",
            "16/18 [=========================>....] - ETA: 0s - loss: 112.7727 - mae: 112.7727 - mse: 78248.1641INFO:tensorflow:Assets written to: model_experiments/model_1_dense/assets\n",
            "18/18 [==============================] - 1s 40ms/step - loss: 113.4691 - mae: 113.4691 - mse: 77440.0703 - val_loss: 608.0920 - val_mae: 608.0920 - val_mse: 1309775.3750\n",
            "Epoch 29/100\n",
            "18/18 [==============================] - 0s 6ms/step - loss: 113.7598 - mae: 113.7598 - mse: 78506.9531 - val_loss: 621.9306 - val_mae: 621.9306 - val_mse: 1313325.7500\n",
            "Epoch 30/100\n",
            "16/18 [=========================>....] - ETA: 0s - loss: 115.5164 - mae: 115.5164 - mse: 77541.3203INFO:tensorflow:Assets written to: model_experiments/model_1_dense/assets\n",
            "18/18 [==============================] - 1s 42ms/step - loss: 116.8613 - mae: 116.8613 - mse: 79236.4766 - val_loss: 604.4056 - val_mae: 604.4056 - val_mse: 1283407.7500\n",
            "Epoch 31/100\n",
            "18/18 [==============================] - 0s 6ms/step - loss: 111.9375 - mae: 111.9375 - mse: 74849.0625 - val_loss: 609.3882 - val_mae: 609.3882 - val_mse: 1284506.2500\n",
            "Epoch 32/100\n",
            "16/18 [=========================>....] - ETA: 0s - loss: 111.2109 - mae: 111.2109 - mse: 74370.7344INFO:tensorflow:Assets written to: model_experiments/model_1_dense/assets\n",
            "18/18 [==============================] - 1s 42ms/step - loss: 112.4175 - mae: 112.4175 - mse: 77178.5938 - val_loss: 603.0588 - val_mae: 603.0588 - val_mse: 1273059.2500\n",
            "Epoch 33/100\n",
            "18/18 [==============================] - 0s 6ms/step - loss: 112.6697 - mae: 112.6697 - mse: 75787.9766 - val_loss: 645.6975 - val_mae: 645.6975 - val_mse: 1353256.2500\n",
            "Epoch 34/100\n",
            "18/18 [==============================] - 0s 5ms/step - loss: 111.9867 - mae: 111.9867 - mse: 77245.7031 - val_loss: 604.7632 - val_mae: 604.7632 - val_mse: 1289359.7500\n",
            "Epoch 35/100\n",
            "16/18 [=========================>....] - ETA: 0s - loss: 110.9354 - mae: 110.9354 - mse: 77063.3281INFO:tensorflow:Assets written to: model_experiments/model_1_dense/assets\n",
            "18/18 [==============================] - 1s 42ms/step - loss: 110.9451 - mae: 110.9451 - mse: 75301.8047 - val_loss: 593.4648 - val_mae: 593.4648 - val_mse: 1250491.7500\n",
            "Epoch 36/100\n",
            "18/18 [==============================] - 0s 6ms/step - loss: 114.4816 - mae: 114.4816 - mse: 76138.5391 - val_loss: 608.0073 - val_mae: 608.0073 - val_mse: 1269271.2500\n",
            "Epoch 37/100\n",
            "18/18 [==============================] - 0s 6ms/step - loss: 110.2017 - mae: 110.2017 - mse: 74635.3047 - val_loss: 597.2309 - val_mae: 597.2309 - val_mse: 1248474.3750\n",
            "Epoch 38/100\n",
            "18/18 [==============================] - 0s 6ms/step - loss: 112.2372 - mae: 112.2372 - mse: 75821.7344 - val_loss: 637.9797 - val_mae: 637.9797 - val_mse: 1366130.2500\n",
            "Epoch 39/100\n",
            "15/18 [========================>.....] - ETA: 0s - loss: 117.9127 - mae: 117.9127 - mse: 81071.6484 INFO:tensorflow:Assets written to: model_experiments/model_1_dense/assets\n",
            "18/18 [==============================] - 1s 40ms/step - loss: 115.1289 - mae: 115.1289 - mse: 76339.6562 - val_loss: 587.4679 - val_mae: 587.4679 - val_mse: 1233512.2500\n",
            "Epoch 40/100\n",
            "18/18 [==============================] - 0s 6ms/step - loss: 110.0854 - mae: 110.0854 - mse: 73528.4844 - val_loss: 592.7117 - val_mae: 592.7117 - val_mse: 1251474.1250\n",
            "Epoch 41/100\n",
            "18/18 [==============================] - 0s 7ms/step - loss: 110.6343 - mae: 110.6343 - mse: 73528.7969 - val_loss: 593.8997 - val_mae: 593.8997 - val_mse: 1253678.2500\n",
            "Epoch 42/100\n",
            "18/18 [==============================] - 0s 6ms/step - loss: 113.5762 - mae: 113.5762 - mse: 77076.7031 - val_loss: 636.3674 - val_mae: 636.3674 - val_mse: 1317283.3750\n",
            "Epoch 43/100\n",
            "18/18 [==============================] - 0s 6ms/step - loss: 116.2286 - mae: 116.2286 - mse: 74712.2188 - val_loss: 662.9264 - val_mae: 662.9264 - val_mse: 1419202.3750\n",
            "Epoch 44/100\n",
            "18/18 [==============================] - 0s 6ms/step - loss: 120.0192 - mae: 120.0192 - mse: 80971.8906 - val_loss: 635.6360 - val_mae: 635.6360 - val_mse: 1345999.3750\n",
            "Epoch 45/100\n",
            "18/18 [==============================] - 0s 6ms/step - loss: 110.9675 - mae: 110.9675 - mse: 74941.2891 - val_loss: 601.9926 - val_mae: 601.9926 - val_mse: 1244816.7500\n",
            "Epoch 46/100\n",
            "18/18 [==============================] - 0s 6ms/step - loss: 111.6012 - mae: 111.6012 - mse: 74565.5859 - val_loss: 593.3531 - val_mae: 593.3531 - val_mse: 1248764.3750\n",
            "Epoch 47/100\n",
            "18/18 [==============================] - 0s 6ms/step - loss: 109.6161 - mae: 109.6161 - mse: 74190.7109 - val_loss: 637.0014 - val_mae: 637.0014 - val_mse: 1314970.3750\n",
            "Epoch 48/100\n",
            "18/18 [==============================] - 0s 6ms/step - loss: 109.1368 - mae: 109.1368 - mse: 72792.5547 - val_loss: 598.4199 - val_mae: 598.4199 - val_mse: 1234610.1250\n",
            "Epoch 49/100\n",
            "15/18 [========================>.....] - ETA: 0s - loss: 113.1028 - mae: 113.1028 - mse: 77658.4062 INFO:tensorflow:Assets written to: model_experiments/model_1_dense/assets\n",
            "18/18 [==============================] - 1s 42ms/step - loss: 112.4355 - mae: 112.4355 - mse: 73980.3281 - val_loss: 579.7040 - val_mae: 579.7040 - val_mse: 1208301.3750\n",
            "Epoch 50/100\n",
            "18/18 [==============================] - 0s 6ms/step - loss: 110.2108 - mae: 110.2108 - mse: 72939.6953 - val_loss: 639.2326 - val_mae: 639.2326 - val_mse: 1347994.2500\n",
            "Epoch 51/100\n",
            "18/18 [==============================] - 0s 7ms/step - loss: 111.0958 - mae: 111.0958 - mse: 73281.8906 - val_loss: 597.3575 - val_mae: 597.3575 - val_mse: 1229791.8750\n",
            "Epoch 52/100\n",
            "18/18 [==============================] - 0s 6ms/step - loss: 110.7351 - mae: 110.7351 - mse: 74529.6328 - val_loss: 580.7227 - val_mae: 580.7227 - val_mse: 1215477.3750\n",
            "Epoch 53/100\n",
            "18/18 [==============================] - 0s 6ms/step - loss: 111.1785 - mae: 111.1785 - mse: 74149.4688 - val_loss: 648.3588 - val_mae: 648.3588 - val_mse: 1336951.8750\n",
            "Epoch 54/100\n",
            "18/18 [==============================] - 0s 6ms/step - loss: 114.0832 - mae: 114.0832 - mse: 74815.0781 - val_loss: 593.2007 - val_mae: 593.2007 - val_mse: 1220661.3750\n",
            "Epoch 55/100\n",
            "15/18 [========================>.....] - ETA: 0s - loss: 114.3634 - mae: 114.3634 - mse: 78397.8203 INFO:tensorflow:Assets written to: model_experiments/model_1_dense/assets\n",
            "18/18 [==============================] - 1s 42ms/step - loss: 110.4910 - mae: 110.4910 - mse: 74711.2266 - val_loss: 579.5065 - val_mae: 579.5065 - val_mse: 1211579.7500\n",
            "Epoch 56/100\n",
            "18/18 [==============================] - 0s 6ms/step - loss: 108.0489 - mae: 108.0489 - mse: 71844.1484 - val_loss: 807.3851 - val_mae: 807.3851 - val_mse: 1859291.8750\n",
            "Epoch 57/100\n",
            "18/18 [==============================] - 0s 6ms/step - loss: 125.0614 - mae: 125.0614 - mse: 84025.2578 - val_loss: 674.1654 - val_mae: 674.1654 - val_mse: 1437686.2500\n",
            "Epoch 58/100\n",
            "18/18 [==============================] - 0s 6ms/step - loss: 115.4340 - mae: 115.4340 - mse: 73710.7188 - val_loss: 582.2698 - val_mae: 582.2698 - val_mse: 1202679.8750\n",
            "Epoch 59/100\n",
            "18/18 [==============================] - 0s 6ms/step - loss: 110.0881 - mae: 110.0881 - mse: 72845.1016 - val_loss: 606.7637 - val_mae: 606.7637 - val_mse: 1267543.0000\n",
            "Epoch 60/100\n",
            "18/18 [==============================] - 0s 6ms/step - loss: 108.7156 - mae: 108.7156 - mse: 72675.7500 - val_loss: 602.3102 - val_mae: 602.3102 - val_mse: 1234690.2500\n",
            "Epoch 61/100\n",
            "15/18 [========================>.....] - ETA: 0s - loss: 110.2603 - mae: 110.2603 - mse: 75117.6484INFO:tensorflow:Assets written to: model_experiments/model_1_dense/assets\n",
            "18/18 [==============================] - 1s 52ms/step - loss: 108.1525 - mae: 108.1525 - mse: 72252.0781 - val_loss: 573.9990 - val_mae: 573.9990 - val_mse: 1189583.1250\n",
            "Epoch 62/100\n",
            "18/18 [==============================] - 0s 6ms/step - loss: 107.3727 - mae: 107.3727 - mse: 70822.7891 - val_loss: 581.7012 - val_mae: 581.7012 - val_mse: 1214006.5000\n",
            "Epoch 63/100\n",
            "18/18 [==============================] - 0s 7ms/step - loss: 110.7667 - mae: 110.7667 - mse: 73178.4297 - val_loss: 637.5252 - val_mae: 637.5252 - val_mse: 1311204.0000\n",
            "Epoch 64/100\n",
            "18/18 [==============================] - 0s 6ms/step - loss: 110.1539 - mae: 110.1539 - mse: 72588.2031 - val_loss: 586.6601 - val_mae: 586.6601 - val_mse: 1207116.8750\n",
            "Epoch 65/100\n",
            "13/18 [====================>.........] - ETA: 0s - loss: 107.9784 - mae: 107.9784 - mse: 73852.7969 INFO:tensorflow:Assets written to: model_experiments/model_1_dense/assets\n",
            "18/18 [==============================] - 1s 41ms/step - loss: 108.2325 - mae: 108.2325 - mse: 71962.0469 - val_loss: 573.5620 - val_mae: 573.5620 - val_mse: 1188986.7500\n",
            "Epoch 66/100\n",
            "13/18 [====================>.........] - ETA: 0s - loss: 105.7377 - mae: 105.7377 - mse: 66057.4922INFO:tensorflow:Assets written to: model_experiments/model_1_dense/assets\n",
            "18/18 [==============================] - 1s 42ms/step - loss: 108.6825 - mae: 108.6825 - mse: 71026.3359 - val_loss: 572.2206 - val_mae: 572.2206 - val_mse: 1187818.0000\n",
            "Epoch 67/100\n",
            "18/18 [==============================] - 0s 6ms/step - loss: 106.6371 - mae: 106.6371 - mse: 70166.2500 - val_loss: 646.6349 - val_mae: 646.6349 - val_mse: 1356390.5000\n",
            "Epoch 68/100\n",
            "18/18 [==============================] - 0s 7ms/step - loss: 114.1603 - mae: 114.1603 - mse: 71297.2969 - val_loss: 681.8561 - val_mae: 681.8561 - val_mse: 1455427.1250\n",
            "Epoch 69/100\n",
            "18/18 [==============================] - 0s 6ms/step - loss: 124.5514 - mae: 124.5514 - mse: 81238.9297 - val_loss: 655.9885 - val_mae: 655.9885 - val_mse: 1383322.8750\n",
            "Epoch 70/100\n",
            "18/18 [==============================] - 0s 6ms/step - loss: 125.0235 - mae: 125.0235 - mse: 83058.2109 - val_loss: 601.0032 - val_mae: 601.0032 - val_mse: 1256962.2500\n",
            "Epoch 71/100\n",
            "18/18 [==============================] - 0s 6ms/step - loss: 110.3652 - mae: 110.3652 - mse: 71691.4844 - val_loss: 595.3962 - val_mae: 595.3962 - val_mse: 1222772.2500\n",
            "Epoch 72/100\n",
            "18/18 [==============================] - 0s 7ms/step - loss: 107.9285 - mae: 107.9285 - mse: 71745.5156 - val_loss: 573.7085 - val_mae: 573.7085 - val_mse: 1192818.0000\n",
            "Epoch 73/100\n",
            "18/18 [==============================] - 0s 6ms/step - loss: 109.5085 - mae: 109.5085 - mse: 71691.1016 - val_loss: 580.4180 - val_mae: 580.4180 - val_mse: 1211316.7500\n",
            "Epoch 74/100\n",
            "18/18 [==============================] - 0s 6ms/step - loss: 108.7380 - mae: 108.7380 - mse: 72051.0469 - val_loss: 576.1211 - val_mae: 576.1211 - val_mse: 1199669.5000\n",
            "Epoch 75/100\n",
            "18/18 [==============================] - 0s 7ms/step - loss: 107.9404 - mae: 107.9404 - mse: 71043.1328 - val_loss: 591.1477 - val_mae: 591.1477 - val_mse: 1211108.6250\n",
            "Epoch 76/100\n",
            "18/18 [==============================] - 0s 6ms/step - loss: 109.4232 - mae: 109.4232 - mse: 72295.0234 - val_loss: 597.8605 - val_mae: 597.8605 - val_mse: 1243935.2500\n",
            "Epoch 77/100\n",
            "15/18 [========================>.....] - ETA: 0s - loss: 109.7662 - mae: 109.7662 - mse: 74881.4531INFO:tensorflow:Assets written to: model_experiments/model_1_dense/assets\n",
            "18/18 [==============================] - 1s 43ms/step - loss: 107.5879 - mae: 107.5879 - mse: 70333.8203 - val_loss: 571.9299 - val_mae: 571.9299 - val_mse: 1186829.7500\n",
            "Epoch 78/100\n",
            "18/18 [==============================] - 0s 7ms/step - loss: 108.1598 - mae: 108.1598 - mse: 70200.0625 - val_loss: 575.2383 - val_mae: 575.2383 - val_mse: 1195317.1250\n",
            "Epoch 79/100\n",
            "18/18 [==============================] - 0s 6ms/step - loss: 107.9175 - mae: 107.9175 - mse: 72451.5781 - val_loss: 617.3071 - val_mae: 617.3071 - val_mse: 1285509.7500\n",
            "Epoch 80/100\n",
            "18/18 [==============================] - 0s 6ms/step - loss: 108.9510 - mae: 108.9510 - mse: 72158.7500 - val_loss: 583.4847 - val_mae: 583.4847 - val_mse: 1194358.2500\n",
            "Epoch 81/100\n",
            "14/18 [======================>.......] - ETA: 0s - loss: 105.1163 - mae: 105.1163 - mse: 69766.4297INFO:tensorflow:Assets written to: model_experiments/model_1_dense/assets\n",
            "18/18 [==============================] - 1s 40ms/step - loss: 106.0505 - mae: 106.0505 - mse: 69690.8828 - val_loss: 570.0802 - val_mae: 570.0802 - val_mse: 1177238.0000\n",
            "Epoch 82/100\n",
            "18/18 [==============================] - 0s 6ms/step - loss: 115.6827 - mae: 115.6827 - mse: 76903.4531 - val_loss: 575.7382 - val_mae: 575.7382 - val_mse: 1194661.5000\n",
            "Epoch 83/100\n",
            "18/18 [==============================] - 0s 7ms/step - loss: 110.9379 - mae: 110.9379 - mse: 72968.2891 - val_loss: 659.6570 - val_mae: 659.6570 - val_mse: 1388827.8750\n",
            "Epoch 84/100\n",
            "18/18 [==============================] - 0s 6ms/step - loss: 111.4836 - mae: 111.4836 - mse: 73017.8984 - val_loss: 570.1959 - val_mae: 570.1959 - val_mse: 1177492.1250\n",
            "Epoch 85/100\n",
            "18/18 [==============================] - 0s 6ms/step - loss: 107.5948 - mae: 107.5948 - mse: 70728.1797 - val_loss: 601.5945 - val_mae: 601.5945 - val_mse: 1228452.5000\n",
            "Epoch 86/100\n",
            "18/18 [==============================] - 0s 6ms/step - loss: 108.9426 - mae: 108.9426 - mse: 70066.7500 - val_loss: 592.8107 - val_mae: 592.8107 - val_mse: 1209681.6250\n",
            "Epoch 87/100\n",
            "18/18 [==============================] - 0s 7ms/step - loss: 105.7717 - mae: 105.7717 - mse: 68382.3438 - val_loss: 603.6169 - val_mae: 603.6169 - val_mse: 1252408.8750\n",
            "Epoch 88/100\n",
            "15/18 [========================>.....] - ETA: 0s - loss: 111.7593 - mae: 111.7593 - mse: 77330.2578 INFO:tensorflow:Assets written to: model_experiments/model_1_dense/assets\n",
            "18/18 [==============================] - 1s 40ms/step - loss: 107.9217 - mae: 107.9217 - mse: 71668.0156 - val_loss: 569.0500 - val_mae: 569.0500 - val_mse: 1174588.2500\n",
            "Epoch 89/100\n",
            "14/18 [======================>.......] - ETA: 0s - loss: 100.2030 - mae: 100.2030 - mse: 63352.3359INFO:tensorflow:Assets written to: model_experiments/model_1_dense/assets\n",
            "18/18 [==============================] - 1s 42ms/step - loss: 106.0344 - mae: 106.0344 - mse: 68979.1328 - val_loss: 568.9512 - val_mae: 568.9512 - val_mse: 1171744.1250\n",
            "Epoch 90/100\n",
            "18/18 [==============================] - 0s 6ms/step - loss: 105.4977 - mae: 105.4977 - mse: 67516.5000 - val_loss: 581.7681 - val_mae: 581.7681 - val_mse: 1190161.7500\n",
            "Epoch 91/100\n",
            "18/18 [==============================] - 0s 6ms/step - loss: 108.8468 - mae: 108.8468 - mse: 71112.3203 - val_loss: 573.6023 - val_mae: 573.6023 - val_mse: 1185215.3750\n",
            "Epoch 92/100\n",
            "18/18 [==============================] - 0s 7ms/step - loss: 110.8884 - mae: 110.8884 - mse: 73287.8203 - val_loss: 576.8247 - val_mae: 576.8247 - val_mse: 1181629.3750\n",
            "Epoch 93/100\n",
            "18/18 [==============================] - 0s 7ms/step - loss: 113.8781 - mae: 113.8781 - mse: 75236.4062 - val_loss: 608.3018 - val_mae: 608.3018 - val_mse: 1264205.6250\n",
            "Epoch 94/100\n",
            "18/18 [==============================] - 0s 6ms/step - loss: 110.5763 - mae: 110.5763 - mse: 72590.8672 - val_loss: 601.6047 - val_mae: 601.6047 - val_mse: 1229106.1250\n",
            "Epoch 95/100\n",
            "18/18 [==============================] - 0s 6ms/step - loss: 106.5906 - mae: 106.5906 - mse: 68612.3125 - val_loss: 570.3652 - val_mae: 570.3652 - val_mse: 1175759.6250\n",
            "Epoch 96/100\n",
            "18/18 [==============================] - 0s 7ms/step - loss: 116.9515 - mae: 116.9515 - mse: 75082.1172 - val_loss: 615.2581 - val_mae: 615.2581 - val_mse: 1277123.7500\n",
            "Epoch 97/100\n",
            "18/18 [==============================] - 0s 6ms/step - loss: 108.0739 - mae: 108.0739 - mse: 71321.4141 - val_loss: 580.3073 - val_mae: 580.3073 - val_mse: 1202621.8750\n",
            "Epoch 98/100\n",
            "18/18 [==============================] - 0s 6ms/step - loss: 108.7102 - mae: 108.7102 - mse: 70248.0781 - val_loss: 586.6512 - val_mae: 586.6512 - val_mse: 1200831.3750\n",
            "Epoch 99/100\n",
            "18/18 [==============================] - 0s 6ms/step - loss: 109.0488 - mae: 109.0488 - mse: 70913.1484 - val_loss: 570.0629 - val_mae: 570.0629 - val_mse: 1177064.5000\n",
            "Epoch 100/100\n",
            "18/18 [==============================] - 0s 6ms/step - loss: 106.1845 - mae: 106.1845 - mse: 68681.7031 - val_loss: 585.9763 - val_mae: 585.9763 - val_mse: 1197803.1250\n"
          ]
        },
        {
          "output_type": "execute_result",
          "data": {
            "text/plain": [
              "<keras.callbacks.History at 0x7fd8c5548ed0>"
            ]
          },
          "metadata": {},
          "execution_count": 43
        }
      ]
    },
    {
      "cell_type": "code",
      "metadata": {
        "colab": {
          "base_uri": "https://localhost:8080/"
        },
        "id": "a2YDML6zg1Pf",
        "outputId": "63b87d47-22f6-4dfc-f9e6-2125c1009495"
      },
      "source": [
        "naive_results"
      ],
      "execution_count": 44,
      "outputs": [
        {
          "output_type": "execute_result",
          "data": {
            "text/plain": [
              "{'mae': 567.9802,\n",
              " 'mape': 567.9802,\n",
              " 'mase': 0.99957,\n",
              " 'mse': 1147547.0,\n",
              " 'rmse': 1071.2362}"
            ]
          },
          "metadata": {},
          "execution_count": 44
        }
      ]
    },
    {
      "cell_type": "code",
      "metadata": {
        "colab": {
          "base_uri": "https://localhost:8080/"
        },
        "id": "fZxcWjvthELZ",
        "outputId": "38b9be6f-3c17-4687-f5a6-9b1aae5fa056"
      },
      "source": [
        "# Evaluate model on test data\n",
        "model_1.evaluate(test_windows, test_labels)"
      ],
      "execution_count": 45,
      "outputs": [
        {
          "output_type": "stream",
          "name": "stdout",
          "text": [
            "18/18 [==============================] - 0s 3ms/step - loss: 585.9762 - mae: 585.9762 - mse: 1197803.1250\n"
          ]
        },
        {
          "output_type": "execute_result",
          "data": {
            "text/plain": [
              "[585.9761962890625, 585.9761962890625, 1197803.125]"
            ]
          },
          "metadata": {},
          "execution_count": 45
        }
      ]
    },
    {
      "cell_type": "code",
      "metadata": {
        "colab": {
          "base_uri": "https://localhost:8080/"
        },
        "id": "f1FbtATDh3N0",
        "outputId": "f2ac2eee-91aa-4803-f793-bd8975a86cd9"
      },
      "source": [
        "# Load in the saved best performing model_1 and evluate it on test data\n",
        "model_1 = tf.keras.models.load_model('model_experiments/model_1_dense/')\n",
        "model_1.evaluate(test_windows, test_labels)"
      ],
      "execution_count": 46,
      "outputs": [
        {
          "output_type": "stream",
          "name": "stdout",
          "text": [
            "18/18 [==============================] - 0s 3ms/step - loss: 568.9512 - mae: 568.9512 - mse: 1171744.0000\n"
          ]
        },
        {
          "output_type": "execute_result",
          "data": {
            "text/plain": [
              "[568.951171875, 568.951171875, 1171744.0]"
            ]
          },
          "metadata": {},
          "execution_count": 46
        }
      ]
    },
    {
      "cell_type": "markdown",
      "metadata": {
        "id": "NxYoxP0_iQJP"
      },
      "source": [
        "## Making forecasts with a model (on the test dataset)\n",
        "\n",
        "To make \"forcasts\" on the test dataset (note: these won't be actual forecasts, they're only psuedo forecasts becuase actual forecasts are into the future), let's write a function to#\n",
        ">\n",
        "1. Take in a train model\n",
        "2. Takes in some input data (same kind of data the model was trained on)\n",
        "3. Passes the input data to the model's `predict()` method\n",
        "4 Return the prediction.\n"
      ]
    },
    {
      "cell_type": "code",
      "metadata": {
        "id": "oDKChu4yj_FT"
      },
      "source": [
        "def make_preds(model, input_data):\n",
        "  forecast = model.predict(input_data)\n",
        "  return tf.squeeze(forecast) # return 1D array of predictions"
      ],
      "execution_count": 47,
      "outputs": []
    },
    {
      "cell_type": "code",
      "metadata": {
        "colab": {
          "base_uri": "https://localhost:8080/"
        },
        "id": "dGz37ilbjag9",
        "outputId": "2600712f-236e-4fc2-b7cc-b5d0c4c56ab6"
      },
      "source": [
        "# Make prediction using model_1 on the test dataset\n",
        "model_1_preds = make_preds(model_1, test_windows)\n",
        "len(model_1_preds), model_1_preds[:10]"
      ],
      "execution_count": 48,
      "outputs": [
        {
          "output_type": "execute_result",
          "data": {
            "text/plain": [
              "(556, <tf.Tensor: shape=(10,), dtype=float32, numpy=\n",
              " array([8861.711, 8769.886, 9015.71 , 8795.517, 8723.809, 8730.11 ,\n",
              "        8691.95 , 8502.054, 8460.961, 8516.547], dtype=float32)>)"
            ]
          },
          "metadata": {},
          "execution_count": 48
        }
      ]
    },
    {
      "cell_type": "code",
      "metadata": {
        "colab": {
          "base_uri": "https://localhost:8080/"
        },
        "id": "CxruH1rajwlw",
        "outputId": "51bf7201-66a8-4031-e885-d14f89ae8d5f"
      },
      "source": [
        "test_labels[:10]"
      ],
      "execution_count": 49,
      "outputs": [
        {
          "output_type": "execute_result",
          "data": {
            "text/plain": [
              "array([[8798.04205463],\n",
              "       [9081.18687849],\n",
              "       [8711.53433917],\n",
              "       [8760.89271814],\n",
              "       [8749.52059102],\n",
              "       [8656.97092235],\n",
              "       [8500.64355816],\n",
              "       [8469.2608989 ],\n",
              "       [8537.33965197],\n",
              "       [8205.80636599]])"
            ]
          },
          "metadata": {},
          "execution_count": 49
        }
      ]
    },
    {
      "cell_type": "code",
      "metadata": {
        "colab": {
          "base_uri": "https://localhost:8080/"
        },
        "id": "M2ei33vWkPrZ",
        "outputId": "ad4c7442-0e22-457f-ae22-0c1df089a789"
      },
      "source": [
        "# Evaluate preds\n",
        "model_1_results = evaluate_preds(y_true=tf.squeeze(test_labels),\n",
        "                                 y_pred=model_1_preds)\n",
        "model_1_results"
      ],
      "execution_count": 50,
      "outputs": [
        {
          "output_type": "execute_result",
          "data": {
            "text/plain": [
              "{'mae': 568.95123,\n",
              " 'mape': 568.95123,\n",
              " 'mase': 0.9994897,\n",
              " 'mse': 1171744.0,\n",
              " 'rmse': 1082.4713}"
            ]
          },
          "metadata": {},
          "execution_count": 50
        }
      ]
    },
    {
      "cell_type": "code",
      "metadata": {
        "colab": {
          "base_uri": "https://localhost:8080/"
        },
        "id": "cmVs0F8Tkoqm",
        "outputId": "1d4bafd1-124f-4ceb-e3c3-ad46ec5aa3e5"
      },
      "source": [
        "naive_results"
      ],
      "execution_count": 51,
      "outputs": [
        {
          "output_type": "execute_result",
          "data": {
            "text/plain": [
              "{'mae': 567.9802,\n",
              " 'mape': 567.9802,\n",
              " 'mase': 0.99957,\n",
              " 'mse': 1147547.0,\n",
              " 'rmse': 1071.2362}"
            ]
          },
          "metadata": {},
          "execution_count": 51
        }
      ]
    },
    {
      "cell_type": "code",
      "metadata": {
        "colab": {
          "base_uri": "https://localhost:8080/",
          "height": 442
        },
        "id": "2pl21V4RlEyn",
        "outputId": "cbee024e-8dc1-44f8-dcf0-02dbf14f49a8"
      },
      "source": [
        " # Let's plot our model 1 predictions\n",
        " offset = 300\n",
        " plt.figure(figsize=(10, 7))\n",
        " # Account for the test_window offset and index into test_labels to ensuer coorect plotting\n",
        " plot_time_series(timesteps=X_test[-len(test_windows):], values=test_labels[:, 0], start=offset, label='Test Data')\n",
        "\n",
        " plot_time_series(timesteps=X_test[-len(test_windows):],\n",
        "                  values=model_1_preds,\n",
        "                  start=offset,\n",
        "                  format='-',\n",
        "                  label='model_1_preds')"
      ],
      "execution_count": 52,
      "outputs": [
        {
          "output_type": "display_data",
          "data": {
            "image/png": "[encoded data removed]",
            "text/plain": [
              "<Figure size 720x504 with 1 Axes>"
            ]
          },
          "metadata": {
            "needs_background": "light"
          }
        }
      ]
    },
    {
      "cell_type": "markdown",
      "metadata": {
        "id": "l4EkKFSpl6Hm"
      },
      "source": [
        "## Model 2: Dense (window = 30, horizon=1)"
      ]
    },
    {
      "cell_type": "code",
      "metadata": {
        "id": "ZlHAwz-en8E7"
      },
      "source": [
        "HORIZON = 1  # predict one step at a time (one day of Bitcoin prices)\n",
        "WINDOW_SIZE = 30 # use 30 timesteps in past"
      ],
      "execution_count": 53,
      "outputs": []
    },
    {
      "cell_type": "code",
      "metadata": {
        "colab": {
          "base_uri": "https://localhost:8080/"
        },
        "id": "cRJhdiXMoli9",
        "outputId": "f29f4d22-2a66-4c2e-92c7-fbb7adeec121"
      },
      "source": [
        "# Make windowed data with approciate horizon and window sizes\n",
        "full_windows, full_labels = make_windows(prices, window_size=WINDOW_SIZE, horizon=HORIZON)\n",
        "len(full_windows), len(full_labels)"
      ],
      "execution_count": 54,
      "outputs": [
        {
          "output_type": "stream",
          "name": "stdout",
          "text": [
            "[[  123.65499      125.455        108.58483    ...   192.75666\n",
            "    197.4          196.02499   ]\n",
            " [  125.455        108.58483      118.67466    ...   197.4\n",
            "    196.02499      198.04883   ]\n",
            " [  108.58483      118.67466      121.33866    ...   196.02499\n",
            "    198.04883      198.93233   ]\n",
            " ...\n",
            " [63346.78903511 61965.7825981  60574.44472823 ... 49764.1320816\n",
            "  50032.69313676 47885.62525472]\n",
            " [61965.7825981  60574.44472823 56850.83016569 ... 50032.69313676\n",
            "  47885.62525472 45604.61575361]\n",
            " [60574.44472823 56850.83016569 56224.10158771 ... 47885.62525472\n",
            "  45604.61575361 43144.47129086]]\n"
          ]
        },
        {
          "output_type": "execute_result",
          "data": {
            "text/plain": [
              "(2757, 2757)"
            ]
          },
          "metadata": {},
          "execution_count": 54
        }
      ]
    },
    {
      "cell_type": "code",
      "metadata": {
        "colab": {
          "base_uri": "https://localhost:8080/"
        },
        "id": "PSpWhA8xo-S4",
        "outputId": "c070d331-a6c6-4e7d-9545-c83693f55b8e"
      },
      "source": [
        "# Make train and testing windows\n",
        "train_windows, test_windows, train_labels, test_labels = make_train_test_splits(windows=full_windows,\n",
        "                                                                  labels=full_labels,\n",
        "                                                                  test_split=0.2)\n",
        "len(train_windows), len(test_windows), len(train_labels), len(test_labels)"
      ],
      "execution_count": 55,
      "outputs": [
        {
          "output_type": "execute_result",
          "data": {
            "text/plain": [
              "(2205, 552, 2205, 552)"
            ]
          },
          "metadata": {},
          "execution_count": 55
        }
      ]
    },
    {
      "cell_type": "code",
      "metadata": {
        "colab": {
          "base_uri": "https://localhost:8080/"
        },
        "id": "iQdFE4xupZmI",
        "outputId": "16cd076c-fb4d-462a-a640-8329dd51eb5d"
      },
      "source": [
        "train_windows[:3], train_labels[:3]"
      ],
      "execution_count": 56,
      "outputs": [
        {
          "output_type": "execute_result",
          "data": {
            "text/plain": [
              "(array([[123.65499, 125.455  , 108.58483, 118.67466, 121.33866, 120.65533,\n",
              "         121.795  , 123.033  , 124.049  , 125.96116, 125.27966, 125.9275 ,\n",
              "         126.38333, 135.24199, 133.20333, 142.76333, 137.92333, 142.95166,\n",
              "         152.55183, 160.33883, 164.31499, 177.63333, 188.29716, 200.70166,\n",
              "         180.355  , 175.03166, 177.6965 , 187.15983, 192.75666, 197.4    ],\n",
              "        [125.455  , 108.58483, 118.67466, 121.33866, 120.65533, 121.795  ,\n",
              "         123.033  , 124.049  , 125.96116, 125.27966, 125.9275 , 126.38333,\n",
              "         135.24199, 133.20333, 142.76333, 137.92333, 142.95166, 152.55183,\n",
              "         160.33883, 164.31499, 177.63333, 188.29716, 200.70166, 180.355  ,\n",
              "         175.03166, 177.6965 , 187.15983, 192.75666, 197.4    , 196.02499],\n",
              "        [108.58483, 118.67466, 121.33866, 120.65533, 121.795  , 123.033  ,\n",
              "         124.049  , 125.96116, 125.27966, 125.9275 , 126.38333, 135.24199,\n",
              "         133.20333, 142.76333, 137.92333, 142.95166, 152.55183, 160.33883,\n",
              "         164.31499, 177.63333, 188.29716, 200.70166, 180.355  , 175.03166,\n",
              "         177.6965 , 187.15983, 192.75666, 197.4    , 196.02499, 198.04883]]),\n",
              " array([[196.02499],\n",
              "        [198.04883],\n",
              "        [198.93233]]))"
            ]
          },
          "metadata": {},
          "execution_count": 56
        }
      ]
    },
    {
      "cell_type": "code",
      "metadata": {
        "colab": {
          "base_uri": "https://localhost:8080/"
        },
        "id": "UE9b1VAypqX3",
        "outputId": "7d5e8e14-4295-4136-bae6-91caa905c0a7"
      },
      "source": [
        "tf.random.set_seed(42)\n",
        "\n",
        "# Create model\n",
        "model_2 = tf.keras.Sequential([\n",
        "  layers.Dense(128, activation='relu'),\n",
        "  layers.Dense(HORIZON),\n",
        "\n",
        "], name='model_2_dense')\n",
        "\n",
        "# Compile\n",
        "model_2.compile(loss='mae',\n",
        "                optimizer=tf.keras.optimizers.Adam(),)\n",
        "\n",
        "# Fit the model\n",
        "model_2.fit(train_windows,\n",
        "            train_labels,\n",
        "            epochs=100,\n",
        "            batch_size=128,\n",
        "            verbose=0,\n",
        "            validation_data=(test_windows, test_labels),\n",
        "            callbacks=[create_model_checkpoint(model_name=model_2.name)])"
      ],
      "execution_count": 57,
      "outputs": [
        {
          "output_type": "stream",
          "name": "stdout",
          "text": [
            "INFO:tensorflow:Assets written to: model_experiments/model_2_dense/assets\n",
            "INFO:tensorflow:Assets written to: model_experiments/model_2_dense/assets\n",
            "INFO:tensorflow:Assets written to: model_experiments/model_2_dense/assets\n",
            "INFO:tensorflow:Assets written to: model_experiments/model_2_dense/assets\n",
            "INFO:tensorflow:Assets written to: model_experiments/model_2_dense/assets\n",
            "INFO:tensorflow:Assets written to: model_experiments/model_2_dense/assets\n",
            "INFO:tensorflow:Assets written to: model_experiments/model_2_dense/assets\n",
            "INFO:tensorflow:Assets written to: model_experiments/model_2_dense/assets\n",
            "INFO:tensorflow:Assets written to: model_experiments/model_2_dense/assets\n",
            "INFO:tensorflow:Assets written to: model_experiments/model_2_dense/assets\n",
            "INFO:tensorflow:Assets written to: model_experiments/model_2_dense/assets\n",
            "INFO:tensorflow:Assets written to: model_experiments/model_2_dense/assets\n",
            "INFO:tensorflow:Assets written to: model_experiments/model_2_dense/assets\n",
            "INFO:tensorflow:Assets written to: model_experiments/model_2_dense/assets\n",
            "INFO:tensorflow:Assets written to: model_experiments/model_2_dense/assets\n",
            "INFO:tensorflow:Assets written to: model_experiments/model_2_dense/assets\n",
            "INFO:tensorflow:Assets written to: model_experiments/model_2_dense/assets\n",
            "INFO:tensorflow:Assets written to: model_experiments/model_2_dense/assets\n",
            "INFO:tensorflow:Assets written to: model_experiments/model_2_dense/assets\n",
            "INFO:tensorflow:Assets written to: model_experiments/model_2_dense/assets\n",
            "INFO:tensorflow:Assets written to: model_experiments/model_2_dense/assets\n",
            "INFO:tensorflow:Assets written to: model_experiments/model_2_dense/assets\n",
            "INFO:tensorflow:Assets written to: model_experiments/model_2_dense/assets\n",
            "INFO:tensorflow:Assets written to: model_experiments/model_2_dense/assets\n",
            "INFO:tensorflow:Assets written to: model_experiments/model_2_dense/assets\n",
            "INFO:tensorflow:Assets written to: model_experiments/model_2_dense/assets\n",
            "INFO:tensorflow:Assets written to: model_experiments/model_2_dense/assets\n"
          ]
        },
        {
          "output_type": "execute_result",
          "data": {
            "text/plain": [
              "<keras.callbacks.History at 0x7fd8c00d75d0>"
            ]
          },
          "metadata": {},
          "execution_count": 57
        }
      ]
    },
    {
      "cell_type": "code",
      "metadata": {
        "colab": {
          "base_uri": "https://localhost:8080/"
        },
        "id": "-scuji6Uq_Wi",
        "outputId": "d3d6c599-b6ec-4b8f-e6ff-d99c630abf8e"
      },
      "source": [
        "# Evaluate model 2 on test data\n",
        "model_2.evaluate(test_windows, test_labels)"
      ],
      "execution_count": 58,
      "outputs": [
        {
          "output_type": "stream",
          "name": "stdout",
          "text": [
            "18/18 [==============================] - 0s 2ms/step - loss: 608.9615\n"
          ]
        },
        {
          "output_type": "execute_result",
          "data": {
            "text/plain": [
              "608.9614868164062"
            ]
          },
          "metadata": {},
          "execution_count": 58
        }
      ]
    },
    {
      "cell_type": "code",
      "metadata": {
        "colab": {
          "base_uri": "https://localhost:8080/"
        },
        "id": "-WFY_7tBrava",
        "outputId": "385a051c-6d33-47e1-858e-e696d8793059"
      },
      "source": [
        "# Load in the best performing model\n",
        "model_2 = tf.keras.models.load_model('model_experiments/model_2_dense/')\n",
        "model_2.evaluate(test_windows, test_labels)"
      ],
      "execution_count": 59,
      "outputs": [
        {
          "output_type": "stream",
          "name": "stdout",
          "text": [
            "18/18 [==============================] - 0s 2ms/step - loss: 608.9615\n"
          ]
        },
        {
          "output_type": "execute_result",
          "data": {
            "text/plain": [
              "608.9614868164062"
            ]
          },
          "metadata": {},
          "execution_count": 59
        }
      ]
    },
    {
      "cell_type": "code",
      "metadata": {
        "id": "7gXxMHcirsmm"
      },
      "source": [
        "# Get forecast predications\n",
        "model_2_preds = make_preds(model_2,\n",
        "                           input_data=test_windows)"
      ],
      "execution_count": 60,
      "outputs": []
    },
    {
      "cell_type": "code",
      "metadata": {
        "colab": {
          "base_uri": "https://localhost:8080/"
        },
        "id": "CDUzUlvir1ji",
        "outputId": "ad5302fc-2fa5-4757-ec30-78fd6ba04b2d"
      },
      "source": [
        "test_labels.shape, model_2_preds.shape"
      ],
      "execution_count": 61,
      "outputs": [
        {
          "output_type": "execute_result",
          "data": {
            "text/plain": [
              "((552, 1), TensorShape([552]))"
            ]
          },
          "metadata": {},
          "execution_count": 61
        }
      ]
    },
    {
      "cell_type": "code",
      "metadata": {
        "colab": {
          "base_uri": "https://localhost:8080/"
        },
        "id": "4iR7Sg0vr50a",
        "outputId": "e9ffed7f-0cf4-4d21-9ff0-8c4d709fc855"
      },
      "source": [
        "# Evaluate results for model 2 predictions\n",
        "model_2_results = evaluate_preds(y_true=tf.squeeze(test_labels),\n",
        "                                 y_pred=model_2_preds)\n",
        "model_2_results"
      ],
      "execution_count": 62,
      "outputs": [
        {
          "output_type": "execute_result",
          "data": {
            "text/plain": [
              "{'mae': 608.9615,\n",
              " 'mape': 608.9615,\n",
              " 'mase': 1.0644706,\n",
              " 'mse': 1281438.8,\n",
              " 'rmse': 1132.0065}"
            ]
          },
          "metadata": {},
          "execution_count": 62
        }
      ]
    },
    {
      "cell_type": "code",
      "metadata": {
        "colab": {
          "base_uri": "https://localhost:8080/"
        },
        "id": "EqSAv69msH9N",
        "outputId": "e9e06ec6-e31c-4e14-e279-458cfb26f717"
      },
      "source": [
        "model_1_results # Get Data We are going to be using the histori"
      ],
      "execution_count": 63,
      "outputs": [
        {
          "output_type": "execute_result",
          "data": {
            "text/plain": [
              "{'mae': 568.95123,\n",
              " 'mape': 568.95123,\n",
              " 'mase': 0.9994897,\n",
              " 'mse': 1171744.0,\n",
              " 'rmse': 1082.4713}"
            ]
          },
          "metadata": {},
          "execution_count": 63
        }
      ]
    },
    {
      "cell_type": "code",
      "metadata": {
        "colab": {
          "base_uri": "https://localhost:8080/",
          "height": 442
        },
        "id": "s7O5Qb91sJGC",
        "outputId": "a4ab47d1-f5cc-4295-e070-f9b1817f0bab"
      },
      "source": [
        "offset = 300\n",
        "plt.figure(figsize=(10, 7))\n",
        "# Account for test_window offset when plotting\n",
        "plot_time_series(timesteps=X_test[-len(test_windows):], values=test_labels[:, 0], start=offset, label='Test Data')\n",
        "plot_time_series(timesteps=X_test[-len(test_windows):], values=model_2_preds, start=offset, format='-', label='model_2_preds')"
      ],
      "execution_count": 64,
      "outputs": [
        {
          "output_type": "display_data",
          "data": {
            "image/png": "[encoded data removed]",
            "text/plain": [
              "<Figure size 720x504 with 1 Axes>"
            ]
          },
          "metadata": {
            "needs_background": "light"
          }
        }
      ]
    },
    {
      "cell_type": "markdown",
      "metadata": {
        "id": "I0wk4raXsxzx"
      },
      "source": [
        "## Model 3: Dense (window = 30, horizon = 7)"
      ]
    },
    {
      "cell_type": "code",
      "metadata": {
        "colab": {
          "base_uri": "https://localhost:8080/"
        },
        "id": "-KXE0zRHHEa5",
        "outputId": "4863c0b6-71fe-487d-d8e4-12533674be70"
      },
      "source": [
        "HORIZON = 7\n",
        "WINDOW_SIZE = 30\n",
        "\n",
        "full_windows, full_labels = make_windows(prices, window_size=WINDOW_SIZE, horizon=HORIZON)\n",
        "len(full_windows), len(full_labels)"
      ],
      "execution_count": 65,
      "outputs": [
        {
          "output_type": "stream",
          "name": "stdout",
          "text": [
            "[[  123.65499      125.455        108.58483    ...   210.3075\n",
            "    225.02         248.25333   ]\n",
            " [  125.455        108.58483      118.67466    ...   225.02\n",
            "    248.25333      262.32666   ]\n",
            " [  108.58483      118.67466      121.33866    ...   248.25333\n",
            "    262.32666      294.48699   ]\n",
            " ...\n",
            " [58171.9090187  59295.95004401 59822.90167743 ... 49764.1320816\n",
            "  50032.69313676 47885.62525472]\n",
            " [59295.95004401 59822.90167743 59853.19724227 ... 50032.69313676\n",
            "  47885.62525472 45604.61575361]\n",
            " [59822.90167743 59853.19724227 63223.88439079 ... 47885.62525472\n",
            "  45604.61575361 43144.47129086]]\n"
          ]
        },
        {
          "output_type": "execute_result",
          "data": {
            "text/plain": [
              "(2751, 2751)"
            ]
          },
          "metadata": {},
          "execution_count": 65
        }
      ]
    },
    {
      "cell_type": "code",
      "metadata": {
        "id": "p9d5oMQ2HbSv"
      },
      "source": [
        "train_windows, test_windows, train_labels, test_labels = make_train_test_splits(windows=full_windows,\n",
        "                                                                                labels=full_labels)"
      ],
      "execution_count": 66,
      "outputs": []
    },
    {
      "cell_type": "code",
      "metadata": {
        "colab": {
          "base_uri": "https://localhost:8080/"
        },
        "id": "YRFQmO6yH7Qx",
        "outputId": "f425d8e1-8543-4335-e8f1-59073715bf42"
      },
      "source": [
        "tf.random.set_seed(42)\n",
        "\n",
        "# Create model (same as model_2 except with different data input and output sizes)\n",
        "model_3 = tf.keras.Sequential([\n",
        "  layers.Dense(128, activation='relu'),\n",
        "  layers.Dense(HORIZON)                             \n",
        "], name='model_3_dense')\n",
        "\n",
        "# Compile\n",
        "model_3.compile(loss='MAE',\n",
        "                optimizer=tf.keras.optimizers.Adam())\n",
        "\n",
        "# Fit\n",
        "model_3.fit(train_windows,\n",
        "            train_labels,\n",
        "            batch_size=128,\n",
        "            epochs=100,\n",
        "            verbose=0,\n",
        "            validation_data=(test_windows, test_labels),\n",
        "            callbacks=[create_model_checkpoint(model_name=model_3.name)])"
      ],
      "execution_count": 67,
      "outputs": [
        {
          "output_type": "stream",
          "name": "stdout",
          "text": [
            "INFO:tensorflow:Assets written to: model_experiments/model_3_dense/assets\n",
            "INFO:tensorflow:Assets written to: model_experiments/model_3_dense/assets\n",
            "INFO:tensorflow:Assets written to: model_experiments/model_3_dense/assets\n",
            "INFO:tensorflow:Assets written to: model_experiments/model_3_dense/assets\n",
            "INFO:tensorflow:Assets written to: model_experiments/model_3_dense/assets\n",
            "INFO:tensorflow:Assets written to: model_experiments/model_3_dense/assets\n",
            "INFO:tensorflow:Assets written to: model_experiments/model_3_dense/assets\n",
            "INFO:tensorflow:Assets written to: model_experiments/model_3_dense/assets\n",
            "INFO:tensorflow:Assets written to: model_experiments/model_3_dense/assets\n",
            "INFO:tensorflow:Assets written to: model_experiments/model_3_dense/assets\n",
            "INFO:tensorflow:Assets written to: model_experiments/model_3_dense/assets\n",
            "INFO:tensorflow:Assets written to: model_experiments/model_3_dense/assets\n",
            "INFO:tensorflow:Assets written to: model_experiments/model_3_dense/assets\n",
            "INFO:tensorflow:Assets written to: model_experiments/model_3_dense/assets\n",
            "INFO:tensorflow:Assets written to: model_experiments/model_3_dense/assets\n",
            "INFO:tensorflow:Assets written to: model_experiments/model_3_dense/assets\n",
            "INFO:tensorflow:Assets written to: model_experiments/model_3_dense/assets\n",
            "INFO:tensorflow:Assets written to: model_experiments/model_3_dense/assets\n",
            "INFO:tensorflow:Assets written to: model_experiments/model_3_dense/assets\n",
            "INFO:tensorflow:Assets written to: model_experiments/model_3_dense/assets\n",
            "INFO:tensorflow:Assets written to: model_experiments/model_3_dense/assets\n",
            "INFO:tensorflow:Assets written to: model_experiments/model_3_dense/assets\n"
          ]
        },
        {
          "output_type": "execute_result",
          "data": {
            "text/plain": [
              "<keras.callbacks.History at 0x7fd8c01f6150>"
            ]
          },
          "metadata": {},
          "execution_count": 67
        }
      ]
    },
    {
      "cell_type": "code",
      "metadata": {
        "colab": {
          "base_uri": "https://localhost:8080/"
        },
        "id": "ajyvvBYtJo-u",
        "outputId": "f50505ff-37ee-4cb0-d0af-5f5ffe160696"
      },
      "source": [
        "# Evaluate the model on the test data\n",
        "model_3.evaluate(test_windows, test_labels)"
      ],
      "execution_count": 68,
      "outputs": [
        {
          "output_type": "stream",
          "name": "stdout",
          "text": [
            "18/18 [==============================] - 0s 2ms/step - loss: 1321.5201\n"
          ]
        },
        {
          "output_type": "execute_result",
          "data": {
            "text/plain": [
              "1321.5201416015625"
            ]
          },
          "metadata": {},
          "execution_count": 68
        }
      ]
    },
    {
      "cell_type": "code",
      "metadata": {
        "colab": {
          "base_uri": "https://localhost:8080/"
        },
        "id": "3XXpaibsJ4N3",
        "outputId": "06d48118-47d5-40ba-844b-29d13fca546a"
      },
      "source": [
        "# Load best version of model_3 and evaluate\n",
        "model_3 = tf.keras.models.load_model('model_experiments/model_3_dense')\n",
        "model_3.evaluate(test_windows, test_labels)"
      ],
      "execution_count": 69,
      "outputs": [
        {
          "output_type": "stream",
          "name": "stdout",
          "text": [
            "18/18 [==============================] - 0s 2ms/step - loss: 1237.5065\n"
          ]
        },
        {
          "output_type": "execute_result",
          "data": {
            "text/plain": [
              "1237.5064697265625"
            ]
          },
          "metadata": {},
          "execution_count": 69
        }
      ]
    },
    {
      "cell_type": "code",
      "metadata": {
        "id": "1Ec0hLYRJ_sq",
        "colab": {
          "base_uri": "https://localhost:8080/"
        },
        "outputId": "68afb75b-e985-4cbb-b716-80ab601565ad"
      },
      "source": [
        "# Make predictions with model_3\n",
        "model_3_preds = make_preds(model_3,\n",
        "                           input_data=test_windows)\n",
        "model_3_preds[:5]"
      ],
      "execution_count": 70,
      "outputs": [
        {
          "output_type": "execute_result",
          "data": {
            "text/plain": [
              "<tf.Tensor: shape=(5, 7), dtype=float32, numpy=\n",
              "array([[9004.693 , 9048.101 , 9425.088 , 9258.258 , 9495.798 , 9558.451 ,\n",
              "        9357.354 ],\n",
              "       [8735.507 , 8840.304 , 9247.793 , 8885.6   , 9097.188 , 9174.329 ,\n",
              "        9156.819 ],\n",
              "       [8672.509 , 8782.389 , 9123.8545, 8770.371 , 9007.13  , 9003.87  ,\n",
              "        9042.723 ],\n",
              "       [8874.399 , 8784.737 , 9043.901 , 8943.051 , 9033.479 , 9176.488 ,\n",
              "        9039.676 ],\n",
              "       [8825.891 , 8777.4375, 8926.779 , 8870.178 , 9213.232 , 9268.156 ,\n",
              "        8942.485 ]], dtype=float32)>"
            ]
          },
          "metadata": {},
          "execution_count": 70
        }
      ]
    },
    {
      "cell_type": "code",
      "metadata": {
        "colab": {
          "base_uri": "https://localhost:8080/"
        },
        "id": "gT1xw-A9R7cR",
        "outputId": "89e4f27d-2595-4992-c5c6-2caefee16dff"
      },
      "source": [
        "model_3_preds.shape, model_2_preds.shape"
      ],
      "execution_count": 71,
      "outputs": [
        {
          "output_type": "execute_result",
          "data": {
            "text/plain": [
              "(TensorShape([551, 7]), TensorShape([552]))"
            ]
          },
          "metadata": {},
          "execution_count": 71
        }
      ]
    },
    {
      "cell_type": "code",
      "metadata": {
        "colab": {
          "base_uri": "https://localhost:8080/"
        },
        "id": "crRLwcIMRNzY",
        "outputId": "8cf6f574-cbf7-486f-e573-98a060fb0522"
      },
      "source": [
        "# Evaluate model_3 results\n",
        "model_3_results = evaluate_preds(y_true=tf.squeeze(test_labels),\n",
        "                                 y_pred=model_3_preds)\n",
        "model_3_results"
      ],
      "execution_count": 72,
      "outputs": [
        {
          "output_type": "execute_result",
          "data": {
            "text/plain": [
              "{'mae': array([ 513.60535 ,  355.0837  ,  327.17035 ,  358.50992 ,  420.53207 ,\n",
              "         537.8537  ,  545.6606  ,  485.92307 ,  584.4969  ,  687.38153 ,\n",
              "         836.22675 ,  755.15704 ,  731.4958  ,  775.33984 ,  567.95465 ,\n",
              "         266.80865 ,  188.80225 ,  188.10764 ,  253.09529 ,  301.43365 ,\n",
              "         151.10735 ,  196.81424 ,  191.46184 ,  231.65067 ,  143.6114  ,\n",
              "         122.5904  ,  132.78844 ,  190.8116  ,  179.1598  ,  228.25949 ,\n",
              "         314.44022 ,  379.09293 ,  278.32547 ,  295.34598 ,  299.38525 ,\n",
              "         248.64983 ,  299.75635 ,  259.6937  ,  180.30559 ,  206.72879 ,\n",
              "         374.62906 ,  144.85156 ,  142.33607 ,  131.11559 ,   93.94071 ,\n",
              "          54.825615,   73.79408 ,  103.60003 ,  121.33363 ,  168.67223 ,\n",
              "         183.90945 ,  152.25307 ,  186.57121 ,  146.91309 ,  240.42961 ,\n",
              "         351.00662 ,  540.95135 ,  549.1568  ,  521.2421  ,  526.85535 ,\n",
              "         453.363   ,  257.9815  ,  277.29492 ,  301.82465 ,  455.71756 ,\n",
              "         458.9599  ,  503.44427 ,  522.3117  ,  223.07687 ,  250.095   ,\n",
              "         297.14468 ,  400.56976 ,  495.7977  ,  364.33676 ,  283.3654  ,\n",
              "         325.59457 ,  238.21164 ,  318.97754 ,  460.77246 ,  651.0755  ,\n",
              "         835.88074 ,  669.9654  ,  319.5452  ,  261.99512 ,  142.39217 ,\n",
              "         136.62877 ,  154.75252 ,  221.32645 ,  290.5046  ,  503.88492 ,\n",
              "         414.26004 ,  434.35715 ,  377.98926 ,  251.7899  ,  204.28418 ,\n",
              "         388.22684 ,  360.65945 ,  493.8093  ,  614.8605  ,  754.7017  ,\n",
              "         533.7708  ,  378.98898 ,  280.4947  ,  339.48047 ,  413.12863 ,\n",
              "         452.87918 ,  550.53894 ,  634.57214 ,  935.57227 ,  931.6003  ,\n",
              "         881.2807  ,  426.4011  ,  179.45912 ,  121.66239 ,  160.4382  ,\n",
              "         372.07037 ,  341.85776 ,  476.52475 ,  618.3242  , 1038.8977  ,\n",
              "        1569.5026  , 2157.1194  , 1987.6074  , 2158.6108  , 2303.5603  ,\n",
              "        2662.9426  , 1405.5017  ,  728.30164 ,  351.70062 ,  322.03168 ,\n",
              "         493.94733 ,  435.48492 ,  565.55615 ,  350.11655 ,  289.02036 ,\n",
              "         251.21638 ,  409.0555  ,  342.2103  ,  320.8361  ,  330.88596 ,\n",
              "         357.8457  ,  335.94818 ,  206.10303 ,  544.3838  ,  700.0092  ,\n",
              "         468.91965 ,  404.4963  ,  172.80176 ,  308.33664 ,  210.47572 ,\n",
              "         318.95438 ,  486.13177 ,  428.87973 ,  533.911   ,  433.78125 ,\n",
              "         396.89447 ,  138.40353 ,  189.96617 ,  170.39133 ,  181.54387 ,\n",
              "         282.8902  ,  264.38882 ,  250.62158 ,  240.33699 ,  276.95416 ,\n",
              "         326.0306  ,  489.61566 ,  686.2448  ,  526.9798  ,  603.0117  ,\n",
              "         825.3829  ,  871.047   ,  990.0689  , 1090.0593  ,  560.28406 ,\n",
              "         310.52203 ,  371.3902  ,  348.45996 ,  355.7348  ,  429.56473 ,\n",
              "         581.2839  ,  550.5218  ,  635.4312  ,  913.40375 ,  840.7183  ,\n",
              "         305.03488 ,  493.9336  ,  751.3177  ,  410.63422 ,  220.62444 ,\n",
              "         282.25473 ,  291.85352 ,  422.50293 ,  458.65375 ,  637.2345  ,\n",
              "         647.82367 ,  417.24414 ,  220.23717 ,  246.72182 ,  200.22949 ,\n",
              "         455.14914 ,  719.6056  ,  696.3037  ,  485.09836 ,  294.95355 ,\n",
              "         170.52357 ,  211.82463 ,  270.56488 ,  189.89342 ,  171.21721 ,\n",
              "         366.44727 ,  231.96303 ,  318.78696 ,  273.79312 ,  358.55594 ,\n",
              "         412.22797 ,  512.31573 ,  185.43834 ,  196.38113 ,  200.00572 ,\n",
              "         224.58678 ,  213.41965 ,  186.23926 ,  113.37109 ,  172.23088 ,\n",
              "         168.899   ,  236.0957  ,  307.59695 ,  328.93903 ,  566.5961  ,\n",
              "         285.04297 ,  300.4495  ,  125.45215 ,  168.94308 ,  137.25795 ,\n",
              "         143.50418 ,  145.27776 ,  107.340126,   77.16029 ,  131.87096 ,\n",
              "         134.01926 ,  167.45871 ,  137.92188 ,  148.91281 ,  204.95451 ,\n",
              "         157.89746 ,  196.95174 ,  167.93861 ,  156.45592 ,  188.68066 ,\n",
              "         161.4414  ,   90.997765,  136.8411  ,  198.51758 ,  230.13895 ,\n",
              "         294.78403 ,  594.24274 ,  699.64856 ,  815.13715 ,  905.33887 ,\n",
              "        1127.3002  , 1342.6947  , 1317.0685  ,  590.1699  ,  296.34543 ,\n",
              "         243.4368  ,  256.39886 ,  222.28459 ,  323.8387  ,   82.51325 ,\n",
              "         120.14453 ,  249.14857 ,  205.7369  ,  243.45467 ,  250.64857 ,\n",
              "         287.27582 ,  224.38045 ,  266.55984 ,  221.5092  ,  218.49553 ,\n",
              "         272.42258 ,  279.59625 ,  252.58775 ,  381.56473 ,  417.97028 ,\n",
              "         624.55634 ,  368.0364  ,  327.25446 ,  263.4396  ,  349.95242 ,\n",
              "         398.625   ,  297.07477 ,  147.0494  ,  164.54381 ,  313.36246 ,\n",
              "         477.74875 ,  675.0417  ,  897.26886 , 1094.7097  , 1460.1769  ,\n",
              "        1398.5858  ,  952.72375 ,  645.95966 ,  166.17912 ,  144.66853 ,\n",
              "         189.18248 ,  304.81363 ,  435.10742 ,  449.6441  ,  425.244   ,\n",
              "         441.93637 ,  407.2959  ,  252.40373 ,  248.36928 ,  336.17062 ,\n",
              "         482.8111  ,  437.53043 ,  533.08527 ,  346.98032 ,  127.68708 ,\n",
              "         110.208565,  301.75195 ,  195.50697 ,  174.65276 ,  238.47084 ,\n",
              "         302.3711  ,  313.51703 ,  310.1289  ,  200.29688 ,  172.47209 ,\n",
              "         140.2302  ,  252.48451 ,  289.32422 ,  343.62234 ,  504.118   ,\n",
              "         635.1339  ,  602.13086 ,  519.0611  ,  214.90291 ,  195.91211 ,\n",
              "         265.03696 ,  198.90053 ,  345.51215 ,  517.22235 ,  631.02985 ,\n",
              "         988.4249  , 1174.2137  , 1196.2848  , 1253.93    ,  526.0654  ,\n",
              "         210.31306 ,  215.27232 ,  169.86021 ,  283.78516 ,  269.76117 ,\n",
              "         228.63477 ,  186.64719 ,  410.54352 ,  601.2659  ,  618.12164 ,\n",
              "         768.7538  , 1158.545   , 1232.8798  , 1254.4287  ,  423.02554 ,\n",
              "         390.0364  ,  367.23926 ,  209.55803 ,  530.2233  ,  821.3825  ,\n",
              "         812.37195 ,  741.1942  ,  953.48285 , 1258.9929  , 1844.9332  ,\n",
              "        1605.2858  , 1112.767   ,  594.18945 ,  549.7676  ,  632.5438  ,\n",
              "         829.2656  , 1103.2207  , 1130.1027  , 1033.3529  ,  878.58484 ,\n",
              "         595.4096  , 1115.6515  , 1371.1716  , 1385.25    ,  387.52512 ,\n",
              "         303.74945 ,  495.12305 ,  719.5804  ,  648.9032  ,  766.16296 ,\n",
              "         683.23157 ,  596.4118  ,  523.09265 ,  577.33984 , 1337.6244  ,\n",
              "        2454.597   , 2759.2363  , 3135.8757  , 3407.3804  , 3602.6362  ,\n",
              "        2527.1582  , 1158.1016  ,  679.84375 ,  748.5586  , 1073.4894  ,\n",
              "        1217.7307  , 1459.567   , 2502.7332  , 3075.827   , 3090.2869  ,\n",
              "        2564.758   , 2660.5315  , 2928.9343  , 3690.5566  , 3525.1428  ,\n",
              "        4183.6704  , 5144.0693  , 4384.6533  , 4164.9604  , 4431.0967  ,\n",
              "        3335.1206  , 3017.6853  , 2589.5396  , 4103.632   , 5582.089   ,\n",
              "        5108.457   , 1382.9655  ,  953.5435  , 1081.6836  , 2483.1992  ,\n",
              "        2992.0564  , 3127.095   , 2972.2712  , 3054.647   , 3283.7107  ,\n",
              "        3617.3665  , 1170.255   , 1074.1884  , 1059.3181  , 1044.5385  ,\n",
              "        1060.6198  , 2115.7231  , 3569.8901  , 3474.3645  , 2448.0173  ,\n",
              "        2641.4197  , 3188.6016  , 4899.913   , 5516.293   , 4635.4883  ,\n",
              "        4677.0356  , 5732.88    , 5866.7344  , 8083.341   , 5049.824   ,\n",
              "        1476.2322  , 1873.3314  , 1219.1033  , 2324.0698  , 2467.0044  ,\n",
              "        3005.0872  , 2805.0486  , 3688.2556  , 2962.7131  , 3664.2356  ,\n",
              "        5618.683   , 6925.0913  , 9751.089   , 8790.822   , 5057.6245  ,\n",
              "        2971.687   , 1715.495   , 1125.7689  , 2201.4324  , 3969.5005  ,\n",
              "        2988.5105  , 2911.934   , 2796.869   , 3937.875   , 5449.591   ,\n",
              "        6395.0205  , 6148.251   , 5437.7056  , 4291.8257  , 2362.3958  ,\n",
              "        1657.3444  , 1426.6295  , 1647.7137  , 2730.3967  , 1813.716   ,\n",
              "        2061.149   , 3095.7192  , 4312.8096  , 5500.7227  , 5258.0303  ,\n",
              "        5152.029   , 1331.4045  , 1634.4006  , 2493.4336  , 3957.9543  ,\n",
              "        4499.2153  , 2215.8538  , 2587.4136  , 1622.4386  ,  591.8778  ,\n",
              "        1297.4688  , 1284.5931  ,  915.2271  ,  940.45703 , 1084.6562  ,\n",
              "         875.9001  , 1041.3527  , 2299.2512  , 3152.6028  , 3518.3906  ,\n",
              "        2531.5217  , 2682.5742  , 3094.2947  , 3829.3286  , 5550.6084  ,\n",
              "        7159.343   , 8820.526   , 8587.34    , 6777.813   , 5193.2866  ,\n",
              "        4793.333   , 2605.2527  , 1668.3555  , 2510.7239  , 4105.687   ,\n",
              "        6278.391   , 4109.7583  , 1711.1217  , 2261.9866  , 2384.7556  ,\n",
              "        1246.6608  , 1672.8505  , 1103.1322  , 1743.3622  , 1608.4525  ,\n",
              "        1933.8995  , 2742.3464  , 3945.3645  , 5765.9414  , 6955.8394  ,\n",
              "        8107.707   ], dtype=float32),\n",
              " 'mape': array([ 513.60535 ,  355.0837  ,  327.17035 ,  358.50992 ,  420.53207 ,\n",
              "         537.8537  ,  545.6606  ,  485.92307 ,  584.4969  ,  687.38153 ,\n",
              "         836.22675 ,  755.15704 ,  731.4958  ,  775.33984 ,  567.95465 ,\n",
              "         266.80865 ,  188.80225 ,  188.10764 ,  253.09529 ,  301.43365 ,\n",
              "         151.10735 ,  196.81424 ,  191.46184 ,  231.65067 ,  143.6114  ,\n",
              "         122.5904  ,  132.78844 ,  190.8116  ,  179.1598  ,  228.25949 ,\n",
              "         314.44022 ,  379.09293 ,  278.32547 ,  295.34598 ,  299.38525 ,\n",
              "         248.64983 ,  299.75635 ,  259.6937  ,  180.30559 ,  206.72879 ,\n",
              "         374.62906 ,  144.85156 ,  142.33607 ,  131.11559 ,   93.94071 ,\n",
              "          54.825615,   73.79408 ,  103.60003 ,  121.33363 ,  168.67223 ,\n",
              "         183.90945 ,  152.25307 ,  186.57121 ,  146.91309 ,  240.42961 ,\n",
              "         351.00662 ,  540.95135 ,  549.1568  ,  521.2421  ,  526.85535 ,\n",
              "         453.363   ,  257.9815  ,  277.29492 ,  301.82465 ,  455.71756 ,\n",
              "         458.9599  ,  503.44427 ,  522.3117  ,  223.07687 ,  250.095   ,\n",
              "         297.14468 ,  400.56976 ,  495.7977  ,  364.33676 ,  283.3654  ,\n",
              "         325.59457 ,  238.21164 ,  318.97754 ,  460.77246 ,  651.0755  ,\n",
              "         835.88074 ,  669.9654  ,  319.5452  ,  261.99512 ,  142.39217 ,\n",
              "         136.62877 ,  154.75252 ,  221.32645 ,  290.5046  ,  503.88492 ,\n",
              "         414.26004 ,  434.35715 ,  377.98926 ,  251.7899  ,  204.28418 ,\n",
              "         388.22684 ,  360.65945 ,  493.8093  ,  614.8605  ,  754.7017  ,\n",
              "         533.7708  ,  378.98898 ,  280.4947  ,  339.48047 ,  413.12863 ,\n",
              "         452.87918 ,  550.53894 ,  634.57214 ,  935.57227 ,  931.6003  ,\n",
              "         881.2807  ,  426.4011  ,  179.45912 ,  121.66239 ,  160.4382  ,\n",
              "         372.07037 ,  341.85776 ,  476.52475 ,  618.3242  , 1038.8977  ,\n",
              "        1569.5026  , 2157.1194  , 1987.6074  , 2158.6108  , 2303.5603  ,\n",
              "        2662.9426  , 1405.5017  ,  728.30164 ,  351.70062 ,  322.03168 ,\n",
              "         493.94733 ,  435.48492 ,  565.55615 ,  350.11655 ,  289.02036 ,\n",
              "         251.21638 ,  409.0555  ,  342.2103  ,  320.8361  ,  330.88596 ,\n",
              "         357.8457  ,  335.94818 ,  206.10303 ,  544.3838  ,  700.0092  ,\n",
              "         468.91965 ,  404.4963  ,  172.80176 ,  308.33664 ,  210.47572 ,\n",
              "         318.95438 ,  486.13177 ,  428.87973 ,  533.911   ,  433.78125 ,\n",
              "         396.89447 ,  138.40353 ,  189.96617 ,  170.39133 ,  181.54387 ,\n",
              "         282.8902  ,  264.38882 ,  250.62158 ,  240.33699 ,  276.95416 ,\n",
              "         326.0306  ,  489.61566 ,  686.2448  ,  526.9798  ,  603.0117  ,\n",
              "         825.3829  ,  871.047   ,  990.0689  , 1090.0593  ,  560.28406 ,\n",
              "         310.52203 ,  371.3902  ,  348.45996 ,  355.7348  ,  429.56473 ,\n",
              "         581.2839  ,  550.5218  ,  635.4312  ,  913.40375 ,  840.7183  ,\n",
              "         305.03488 ,  493.9336  ,  751.3177  ,  410.63422 ,  220.62444 ,\n",
              "         282.25473 ,  291.85352 ,  422.50293 ,  458.65375 ,  637.2345  ,\n",
              "         647.82367 ,  417.24414 ,  220.23717 ,  246.72182 ,  200.22949 ,\n",
              "         455.14914 ,  719.6056  ,  696.3037  ,  485.09836 ,  294.95355 ,\n",
              "         170.52357 ,  211.82463 ,  270.56488 ,  189.89342 ,  171.21721 ,\n",
              "         366.44727 ,  231.96303 ,  318.78696 ,  273.79312 ,  358.55594 ,\n",
              "         412.22797 ,  512.31573 ,  185.43834 ,  196.38113 ,  200.00572 ,\n",
              "         224.58678 ,  213.41965 ,  186.23926 ,  113.37109 ,  172.23088 ,\n",
              "         168.899   ,  236.0957  ,  307.59695 ,  328.93903 ,  566.5961  ,\n",
              "         285.04297 ,  300.4495  ,  125.45215 ,  168.94308 ,  137.25795 ,\n",
              "         143.50418 ,  145.27776 ,  107.340126,   77.16029 ,  131.87096 ,\n",
              "         134.01926 ,  167.45871 ,  137.92188 ,  148.91281 ,  204.95451 ,\n",
              "         157.89746 ,  196.95174 ,  167.93861 ,  156.45592 ,  188.68066 ,\n",
              "         161.4414  ,   90.997765,  136.8411  ,  198.51758 ,  230.13895 ,\n",
              "         294.78403 ,  594.24274 ,  699.64856 ,  815.13715 ,  905.33887 ,\n",
              "        1127.3002  , 1342.6947  , 1317.0685  ,  590.1699  ,  296.34543 ,\n",
              "         243.4368  ,  256.39886 ,  222.28459 ,  323.8387  ,   82.51325 ,\n",
              "         120.14453 ,  249.14857 ,  205.7369  ,  243.45467 ,  250.64857 ,\n",
              "         287.27582 ,  224.38045 ,  266.55984 ,  221.5092  ,  218.49553 ,\n",
              "         272.42258 ,  279.59625 ,  252.58775 ,  381.56473 ,  417.97028 ,\n",
              "         624.55634 ,  368.0364  ,  327.25446 ,  263.4396  ,  349.95242 ,\n",
              "         398.625   ,  297.07477 ,  147.0494  ,  164.54381 ,  313.36246 ,\n",
              "         477.74875 ,  675.0417  ,  897.26886 , 1094.7097  , 1460.1769  ,\n",
              "        1398.5858  ,  952.72375 ,  645.95966 ,  166.17912 ,  144.66853 ,\n",
              "         189.18248 ,  304.81363 ,  435.10742 ,  449.6441  ,  425.244   ,\n",
              "         441.93637 ,  407.2959  ,  252.40373 ,  248.36928 ,  336.17062 ,\n",
              "         482.8111  ,  437.53043 ,  533.08527 ,  346.98032 ,  127.68708 ,\n",
              "         110.208565,  301.75195 ,  195.50697 ,  174.65276 ,  238.47084 ,\n",
              "         302.3711  ,  313.51703 ,  310.1289  ,  200.29688 ,  172.47209 ,\n",
              "         140.2302  ,  252.48451 ,  289.32422 ,  343.62234 ,  504.118   ,\n",
              "         635.1339  ,  602.13086 ,  519.0611  ,  214.90291 ,  195.91211 ,\n",
              "         265.03696 ,  198.90053 ,  345.51215 ,  517.22235 ,  631.02985 ,\n",
              "         988.4249  , 1174.2137  , 1196.2848  , 1253.93    ,  526.0654  ,\n",
              "         210.31306 ,  215.27232 ,  169.86021 ,  283.78516 ,  269.76117 ,\n",
              "         228.63477 ,  186.64719 ,  410.54352 ,  601.2659  ,  618.12164 ,\n",
              "         768.7538  , 1158.545   , 1232.8798  , 1254.4287  ,  423.02554 ,\n",
              "         390.0364  ,  367.23926 ,  209.55803 ,  530.2233  ,  821.3825  ,\n",
              "         812.37195 ,  741.1942  ,  953.48285 , 1258.9929  , 1844.9332  ,\n",
              "        1605.2858  , 1112.767   ,  594.18945 ,  549.7676  ,  632.5438  ,\n",
              "         829.2656  , 1103.2207  , 1130.1027  , 1033.3529  ,  878.58484 ,\n",
              "         595.4096  , 1115.6515  , 1371.1716  , 1385.25    ,  387.52512 ,\n",
              "         303.74945 ,  495.12305 ,  719.5804  ,  648.9032  ,  766.16296 ,\n",
              "         683.23157 ,  596.4118  ,  523.09265 ,  577.33984 , 1337.6244  ,\n",
              "        2454.597   , 2759.2363  , 3135.8757  , 3407.3804  , 3602.6362  ,\n",
              "        2527.1582  , 1158.1016  ,  679.84375 ,  748.5586  , 1073.4894  ,\n",
              "        1217.7307  , 1459.567   , 2502.7332  , 3075.827   , 3090.2869  ,\n",
              "        2564.758   , 2660.5315  , 2928.9343  , 3690.5566  , 3525.1428  ,\n",
              "        4183.6704  , 5144.0693  , 4384.6533  , 4164.9604  , 4431.0967  ,\n",
              "        3335.1206  , 3017.6853  , 2589.5396  , 4103.632   , 5582.089   ,\n",
              "        5108.457   , 1382.9655  ,  953.5435  , 1081.6836  , 2483.1992  ,\n",
              "        2992.0564  , 3127.095   , 2972.2712  , 3054.647   , 3283.7107  ,\n",
              "        3617.3665  , 1170.255   , 1074.1884  , 1059.3181  , 1044.5385  ,\n",
              "        1060.6198  , 2115.7231  , 3569.8901  , 3474.3645  , 2448.0173  ,\n",
              "        2641.4197  , 3188.6016  , 4899.913   , 5516.293   , 4635.4883  ,\n",
              "        4677.0356  , 5732.88    , 5866.7344  , 8083.341   , 5049.824   ,\n",
              "        1476.2322  , 1873.3314  , 1219.1033  , 2324.0698  , 2467.0044  ,\n",
              "        3005.0872  , 2805.0486  , 3688.2556  , 2962.7131  , 3664.2356  ,\n",
              "        5618.683   , 6925.0913  , 9751.089   , 8790.822   , 5057.6245  ,\n",
              "        2971.687   , 1715.495   , 1125.7689  , 2201.4324  , 3969.5005  ,\n",
              "        2988.5105  , 2911.934   , 2796.869   , 3937.875   , 5449.591   ,\n",
              "        6395.0205  , 6148.251   , 5437.7056  , 4291.8257  , 2362.3958  ,\n",
              "        1657.3444  , 1426.6295  , 1647.7137  , 2730.3967  , 1813.716   ,\n",
              "        2061.149   , 3095.7192  , 4312.8096  , 5500.7227  , 5258.0303  ,\n",
              "        5152.029   , 1331.4045  , 1634.4006  , 2493.4336  , 3957.9543  ,\n",
              "        4499.2153  , 2215.8538  , 2587.4136  , 1622.4386  ,  591.8778  ,\n",
              "        1297.4688  , 1284.5931  ,  915.2271  ,  940.45703 , 1084.6562  ,\n",
              "         875.9001  , 1041.3527  , 2299.2512  , 3152.6028  , 3518.3906  ,\n",
              "        2531.5217  , 2682.5742  , 3094.2947  , 3829.3286  , 5550.6084  ,\n",
              "        7159.343   , 8820.526   , 8587.34    , 6777.813   , 5193.2866  ,\n",
              "        4793.333   , 2605.2527  , 1668.3555  , 2510.7239  , 4105.687   ,\n",
              "        6278.391   , 4109.7583  , 1711.1217  , 2261.9866  , 2384.7556  ,\n",
              "        1246.6608  , 1672.8505  , 1103.1322  , 1743.3622  , 1608.4525  ,\n",
              "        1933.8995  , 2742.3464  , 3945.3645  , 5765.9414  , 6955.8394  ,\n",
              "        8107.707   ], dtype=float32),\n",
              " 'mase': 2.2020736,\n",
              " 'mse': array([3.15562219e+05, 1.69165703e+05, 1.44131562e+05, 1.76002969e+05,\n",
              "        2.63519750e+05, 3.91517094e+05, 3.99524688e+05, 3.44422312e+05,\n",
              "        4.93892156e+05, 6.88785812e+05, 9.18703500e+05, 8.00988125e+05,\n",
              "        6.35508438e+05, 6.45535188e+05, 3.57739844e+05, 1.03007117e+05,\n",
              "        5.33132891e+04, 4.65829453e+04, 1.10349227e+05, 1.11647734e+05,\n",
              "        4.35359141e+04, 5.45387773e+04, 4.55849375e+04, 7.64886641e+04,\n",
              "        4.03074453e+04, 2.71072305e+04, 1.90268887e+04, 4.55624922e+04,\n",
              "        4.25345820e+04, 6.63246094e+04, 1.16741734e+05, 1.69440891e+05,\n",
              "        1.10487000e+05, 1.59707391e+05, 1.61631141e+05, 1.23861992e+05,\n",
              "        1.50757281e+05, 1.31196297e+05, 5.50281523e+04, 6.28155547e+04,\n",
              "        1.77474344e+05, 2.68844492e+04, 2.53033848e+04, 2.58043809e+04,\n",
              "        1.34592549e+04, 3.88203516e+03, 9.22768750e+03, 1.22399756e+04,\n",
              "        2.20868223e+04, 3.60825234e+04, 4.87962109e+04, 3.74652266e+04,\n",
              "        4.10560508e+04, 4.17418828e+04, 1.10490867e+05, 2.00762016e+05,\n",
              "        3.48148781e+05, 3.58060938e+05, 3.28375219e+05, 2.96505938e+05,\n",
              "        2.33354000e+05, 1.54047156e+05, 1.43171328e+05, 1.62586469e+05,\n",
              "        2.96452719e+05, 2.66880562e+05, 2.94189062e+05, 3.10067438e+05,\n",
              "        6.27178750e+04, 8.63869844e+04, 9.69545156e+04, 2.01814344e+05,\n",
              "        2.97053531e+05, 2.00674891e+05, 1.27305148e+05, 1.32509578e+05,\n",
              "        8.46019844e+04, 1.74817422e+05, 2.95115844e+05, 4.75888719e+05,\n",
              "        7.21894500e+05, 4.62711281e+05, 1.33154750e+05, 8.13640469e+04,\n",
              "        3.43108672e+04, 3.45205312e+04, 5.36851602e+04, 7.42414844e+04,\n",
              "        1.09339461e+05, 2.79683156e+05, 2.19119266e+05, 1.99934203e+05,\n",
              "        1.65903391e+05, 8.16738047e+04, 4.82395195e+04, 1.65301000e+05,\n",
              "        1.81699391e+05, 3.30645500e+05, 4.63625906e+05, 6.75044000e+05,\n",
              "        3.34911500e+05, 1.69343750e+05, 1.03219125e+05, 1.48347562e+05,\n",
              "        2.98684750e+05, 3.71952594e+05, 4.43306656e+05, 5.27904688e+05,\n",
              "        1.12945238e+06, 1.00652956e+06, 8.03247312e+05, 2.21278000e+05,\n",
              "        6.64887891e+04, 2.66182305e+04, 3.29689492e+04, 1.68663250e+05,\n",
              "        1.76257047e+05, 2.99365562e+05, 4.31793844e+05, 1.91346738e+06,\n",
              "        3.90353850e+06, 6.29502400e+06, 5.49042400e+06, 6.25676850e+06,\n",
              "        6.28618050e+06, 7.23876450e+06, 2.08143562e+06, 6.66786625e+05,\n",
              "        1.44639953e+05, 1.83413594e+05, 3.41026562e+05, 3.02069688e+05,\n",
              "        3.71339750e+05, 2.02418281e+05, 1.36151156e+05, 8.24758125e+04,\n",
              "        1.96006516e+05, 1.61595656e+05, 1.71401531e+05, 2.00606359e+05,\n",
              "        2.37198891e+05, 1.58720219e+05, 6.36030000e+04, 3.38904156e+05,\n",
              "        5.23524031e+05, 2.86212312e+05, 1.92326125e+05, 3.73765742e+04,\n",
              "        1.31962000e+05, 9.33163203e+04, 1.18443617e+05, 3.00598500e+05,\n",
              "        2.28996922e+05, 3.57954281e+05, 2.36219031e+05, 1.71530375e+05,\n",
              "        2.68482598e+04, 4.79162891e+04, 4.00419062e+04, 5.41031875e+04,\n",
              "        1.07641445e+05, 9.80020000e+04, 7.08349375e+04, 6.55984531e+04,\n",
              "        8.53740391e+04, 1.33837578e+05, 2.72516281e+05, 6.54133188e+05,\n",
              "        4.97212750e+05, 6.11190062e+05, 9.92907688e+05, 9.56692438e+05,\n",
              "        1.09541375e+06, 1.19283125e+06, 3.75002156e+05, 2.22053844e+05,\n",
              "        2.60620016e+05, 1.88109781e+05, 1.87927609e+05, 2.49058609e+05,\n",
              "        3.79192656e+05, 4.07706906e+05, 6.24783062e+05, 9.62079375e+05,\n",
              "        7.95344312e+05, 1.40557531e+05, 2.65226906e+05, 6.26269500e+05,\n",
              "        2.05804078e+05, 6.53088750e+04, 1.33562969e+05, 1.14692070e+05,\n",
              "        2.26913016e+05, 2.61226500e+05, 5.08516219e+05, 4.90744656e+05,\n",
              "        2.38721547e+05, 6.85555703e+04, 7.30577188e+04, 5.36114727e+04,\n",
              "        3.28223438e+05, 6.26447125e+05, 5.17735438e+05, 3.32536062e+05,\n",
              "        1.72657375e+05, 8.28137969e+04, 1.43392688e+05, 8.83169297e+04,\n",
              "        5.15845430e+04, 4.20798125e+04, 1.78049172e+05, 1.17351570e+05,\n",
              "        1.16870289e+05, 1.02416586e+05, 1.67488922e+05, 2.05509953e+05,\n",
              "        2.73221469e+05, 4.73881172e+04, 4.60577500e+04, 5.33725117e+04,\n",
              "        7.87071094e+04, 7.06486719e+04, 5.23131758e+04, 2.50280762e+04,\n",
              "        4.52022891e+04, 4.14732695e+04, 7.00106797e+04, 1.24132211e+05,\n",
              "        1.34168141e+05, 3.38401469e+05, 9.75600547e+04, 1.10022930e+05,\n",
              "        1.99195137e+04, 3.32737773e+04, 2.43712773e+04, 2.76617031e+04,\n",
              "        2.70386660e+04, 1.58115801e+04, 1.16166338e+04, 2.74851504e+04,\n",
              "        2.95265352e+04, 3.95874922e+04, 2.81846035e+04, 3.19155312e+04,\n",
              "        5.60368477e+04, 3.98338828e+04, 5.02200195e+04, 3.19759512e+04,\n",
              "        2.96142441e+04, 4.48332852e+04, 4.32266758e+04, 1.52425576e+04,\n",
              "        2.86077344e+04, 4.23486602e+04, 7.25033359e+04, 1.21924711e+05,\n",
              "        6.41490625e+05, 8.50461562e+05, 1.11135362e+06, 1.22003100e+06,\n",
              "        1.54110212e+06, 2.03452038e+06, 1.76440538e+06, 4.22100781e+05,\n",
              "        1.30513797e+05, 7.30581250e+04, 8.56110781e+04, 7.42398750e+04,\n",
              "        1.49466797e+05, 1.25623340e+04, 2.13100293e+04, 9.81795703e+04,\n",
              "        7.28018750e+04, 1.26064930e+05, 1.01337961e+05, 1.24553266e+05,\n",
              "        7.13400000e+04, 8.41950781e+04, 6.25288750e+04, 8.18790078e+04,\n",
              "        1.27303305e+05, 8.94660859e+04, 1.04100523e+05, 1.66147031e+05,\n",
              "        2.32076422e+05, 4.41965156e+05, 1.75838281e+05, 1.76445219e+05,\n",
              "        9.12169375e+04, 1.67975469e+05, 1.87876594e+05, 1.07637016e+05,\n",
              "        3.26578262e+04, 5.35412539e+04, 1.38143531e+05, 3.28638250e+05,\n",
              "        6.38893438e+05, 1.08279275e+06, 1.55802512e+06, 2.42136850e+06,\n",
              "        2.08980062e+06, 9.83019312e+05, 4.27435844e+05, 5.84014961e+04,\n",
              "        4.02854375e+04, 5.27583359e+04, 1.33694250e+05, 2.41687594e+05,\n",
              "        2.54570391e+05, 2.18475578e+05, 2.39844719e+05, 1.72920250e+05,\n",
              "        9.46134766e+04, 8.14810703e+04, 1.83791891e+05, 3.41631531e+05,\n",
              "        2.67091156e+05, 3.54819469e+05, 1.69607578e+05, 2.63052793e+04,\n",
              "        2.11339316e+04, 1.11685773e+05, 6.08852578e+04, 4.64015039e+04,\n",
              "        6.97662812e+04, 1.16936102e+05, 1.44631109e+05, 1.14626898e+05,\n",
              "        7.92794766e+04, 5.69158320e+04, 3.03999414e+04, 9.47751953e+04,\n",
              "        1.19675117e+05, 2.15399875e+05, 3.15527812e+05, 4.17611781e+05,\n",
              "        3.91753844e+05, 2.83129719e+05, 8.15816328e+04, 5.00839961e+04,\n",
              "        1.01595945e+05, 6.17695586e+04, 3.16726281e+05, 5.76748000e+05,\n",
              "        7.41103188e+05, 1.33218000e+06, 1.56516225e+06, 1.55553325e+06,\n",
              "        1.68517900e+06, 3.21849719e+05, 6.30693203e+04, 7.78375234e+04,\n",
              "        5.12544375e+04, 1.14444188e+05, 1.13520125e+05, 7.03014531e+04,\n",
              "        4.71108398e+04, 4.52436250e+05, 7.79108188e+05, 7.32536312e+05,\n",
              "        1.03909088e+06, 1.56208775e+06, 1.63956775e+06, 1.72789912e+06,\n",
              "        4.00525656e+05, 2.34608859e+05, 1.76724859e+05, 6.78014609e+04,\n",
              "        3.90382281e+05, 9.80141375e+05, 1.03537131e+06, 8.44669188e+05,\n",
              "        1.38893975e+06, 1.98341138e+06, 3.62835425e+06, 2.66920875e+06,\n",
              "        1.42116975e+06, 4.54602219e+05, 3.65967062e+05, 9.46589188e+05,\n",
              "        1.45184738e+06, 1.85899975e+06, 1.89930488e+06, 1.82373125e+06,\n",
              "        1.21286000e+06, 4.94641594e+05, 1.49650262e+06, 2.03091575e+06,\n",
              "        2.25657350e+06, 2.11183234e+05, 1.21396250e+05, 3.04308844e+05,\n",
              "        7.11903438e+05, 6.20312000e+05, 8.05388000e+05, 6.26902875e+05,\n",
              "        5.66389688e+05, 4.27517500e+05, 7.83491375e+05, 3.63025800e+06,\n",
              "        8.18037650e+06, 1.07676250e+07, 1.26563580e+07, 1.33500340e+07,\n",
              "        1.33957390e+07, 6.52510850e+06, 1.60696775e+06, 8.56758062e+05,\n",
              "        1.15616712e+06, 1.69268925e+06, 2.17122875e+06, 3.34218225e+06,\n",
              "        7.84994850e+06, 1.08378980e+07, 1.05726990e+07, 1.01602540e+07,\n",
              "        1.14205890e+07, 1.16179740e+07, 1.73510000e+07, 1.79301760e+07,\n",
              "        2.70626460e+07, 3.72665600e+07, 2.97687340e+07, 2.14580040e+07,\n",
              "        2.44066140e+07, 1.56006550e+07, 1.03771300e+07, 9.93532600e+06,\n",
              "        2.18889560e+07, 3.45001800e+07, 2.72495180e+07, 2.51545425e+06,\n",
              "        2.11410550e+06, 1.65101212e+06, 8.78064900e+06, 1.42264060e+07,\n",
              "        1.50277600e+07, 1.42628730e+07, 1.11520940e+07, 1.31385740e+07,\n",
              "        1.44270140e+07, 2.10807200e+06, 2.37278650e+06, 2.06521262e+06,\n",
              "        1.51271400e+06, 1.63591825e+06, 6.01038800e+06, 1.48181850e+07,\n",
              "        1.51462720e+07, 8.88826900e+06, 1.03656320e+07, 1.24236510e+07,\n",
              "        3.12300140e+07, 4.44122480e+07, 3.35616920e+07, 3.37025960e+07,\n",
              "        4.33024640e+07, 4.04647440e+07, 6.68120760e+07, 2.68142460e+07,\n",
              "        3.37229050e+06, 6.18199600e+06, 3.33604150e+06, 9.76003100e+06,\n",
              "        9.50538200e+06, 1.48300350e+07, 1.08088990e+07, 1.52812380e+07,\n",
              "        1.21298770e+07, 1.47110950e+07, 4.46196840e+07, 6.19225800e+07,\n",
              "        1.05739032e+08, 8.06071760e+07, 3.00356640e+07, 1.30779200e+07,\n",
              "        4.55988750e+06, 1.67930175e+06, 6.99432150e+06, 1.63487150e+07,\n",
              "        1.21498980e+07, 1.21798620e+07, 1.68979740e+07, 2.39387040e+07,\n",
              "        3.73065640e+07, 5.09610560e+07, 4.59523080e+07, 3.20003740e+07,\n",
              "        2.06371500e+07, 8.14506950e+06, 4.14795750e+06, 4.23498600e+06,\n",
              "        3.09784375e+06, 8.37917600e+06, 7.36108300e+06, 7.06094350e+06,\n",
              "        1.57310690e+07, 2.78767060e+07, 4.07339880e+07, 3.28521640e+07,\n",
              "        2.89016500e+07, 3.40228600e+06, 3.84222850e+06, 8.10805950e+06,\n",
              "        1.74778740e+07, 2.13824600e+07, 5.77507300e+06, 7.30700800e+06,\n",
              "        3.70581200e+06, 6.14524500e+05, 1.92765088e+06, 2.29573075e+06,\n",
              "        1.09032112e+06, 1.19423588e+06, 2.01535425e+06, 1.38583962e+06,\n",
              "        2.60915325e+06, 7.48127300e+06, 1.25728630e+07, 1.49188110e+07,\n",
              "        7.64712050e+06, 9.50860900e+06, 1.16537410e+07, 2.15388360e+07,\n",
              "        4.32744960e+07, 6.52254160e+07, 9.30125040e+07, 8.49970720e+07,\n",
              "        5.87006960e+07, 3.43532560e+07, 2.82685900e+07, 9.30442700e+06,\n",
              "        4.66932600e+06, 8.00189850e+06, 2.05975640e+07, 4.07234160e+07,\n",
              "        1.93118780e+07, 4.04353475e+06, 5.92508050e+06, 7.37347500e+06,\n",
              "        2.68488350e+06, 5.27761850e+06, 1.84823362e+06, 4.87232800e+06,\n",
              "        4.87888550e+06, 5.77534400e+06, 1.21702260e+07, 2.70199580e+07,\n",
              "        4.94704880e+07, 6.90301040e+07, 8.50554880e+07], dtype=float32),\n",
              " 'rmse': array([  561.7492  ,   411.2976  ,   379.6466  ,   419.5271  ,\n",
              "          513.34174 ,   625.7133  ,   632.07965 ,   586.87506 ,\n",
              "          702.7746  ,   829.93115 ,   958.4902  ,   894.97943 ,\n",
              "          797.1878  ,   803.452   ,   598.1136  ,   320.94724 ,\n",
              "          230.8967  ,   215.83083 ,   332.18854 ,   334.13733 ,\n",
              "          208.65262 ,   233.53539 ,   213.50632 ,   276.56586 ,\n",
              "          200.76715 ,   164.64275 ,   137.93799 ,   213.45372 ,\n",
              "          206.23912 ,   257.53564 ,   341.6749  ,   411.632   ,\n",
              "          332.39584 ,   399.63406 ,   402.03375 ,   351.9403  ,\n",
              "          388.27475 ,   362.2103  ,   234.58078 ,   250.6303  ,\n",
              "          421.27707 ,   163.96478 ,   159.07037 ,   160.63744 ,\n",
              "          116.01403 ,    62.305984,    96.06085 ,   110.63442 ,\n",
              "          148.61636 ,   189.95401 ,   220.89862 ,   193.55937 ,\n",
              "          202.62292 ,   204.30832 ,   332.40167 ,   448.06476 ,\n",
              "          590.0413  ,   598.38196 ,   573.04034 ,   544.52356 ,\n",
              "          483.0673  ,   392.4884  ,   378.37988 ,   403.22012 ,\n",
              "          544.47473 ,   516.6048  ,   542.39197 ,   556.837   ,\n",
              "          250.43535 ,   293.91663 ,   311.3752  ,   449.23752 ,\n",
              "          545.0262  ,   447.9675  ,   356.79846 ,   364.01865 ,\n",
              "          290.86423 ,   418.11172 ,   543.24567 ,   689.84686 ,\n",
              "          849.64374 ,   680.2288  ,   364.9038  ,   285.24384 ,\n",
              "          185.23193 ,   185.79701 ,   231.70058 ,   272.4729  ,\n",
              "          330.6652  ,   528.85077 ,   468.10175 ,   447.14    ,\n",
              "          407.3124  ,   285.7863  ,   219.63496 ,   406.57227 ,\n",
              "          426.26212 ,   575.0179  ,   680.90076 ,   821.6106  ,\n",
              "          578.7154  ,   411.51398 ,   321.27734 ,   385.15915 ,\n",
              "          546.5206  ,   609.87915 ,   665.81274 ,   726.57056 ,\n",
              "         1062.757   ,  1003.25946 ,   896.2406  ,   470.40195 ,\n",
              "          257.8542  ,   163.15096 ,   181.57353 ,   410.6863  ,\n",
              "          419.82977 ,   547.14307 ,   657.1102  ,  1383.2814  ,\n",
              "         1975.7374  ,  2508.9885  ,  2343.1653  ,  2501.3535  ,\n",
              "         2507.2258  ,  2690.495   ,  1442.7181  ,   816.57007 ,\n",
              "          380.3156  ,   428.26813 ,   583.9748  ,   549.6087  ,\n",
              "          609.3766  ,   449.9092  ,   368.98663 ,   287.18604 ,\n",
              "          442.72623 ,   401.98962 ,   414.00668 ,   447.891   ,\n",
              "          487.03067 ,   398.39706 ,   252.19633 ,   582.1548  ,\n",
              "          723.5496  ,   534.98816 ,   438.55002 ,   193.33023 ,\n",
              "          363.26575 ,   305.4772  ,   344.15637 ,   548.2686  ,\n",
              "          478.53622 ,   598.29285 ,   486.02365 ,   414.1623  ,\n",
              "          163.85439 ,   218.8979  ,   200.10474 ,   232.60092 ,\n",
              "          328.08755 ,   313.0527  ,   266.14835 ,   256.12195 ,\n",
              "          292.18835 ,   365.8382  ,   522.03094 ,   808.78503 ,\n",
              "          705.1331  ,   781.7865  ,   996.4475  ,   978.1066  ,\n",
              "         1046.6201  ,  1092.1682  ,   612.3742  ,   471.2259  ,\n",
              "          510.50952 ,   433.71628 ,   433.5062  ,   499.05774 ,\n",
              "          615.78625 ,   638.51935 ,   790.4321  ,   980.85645 ,\n",
              "          891.82074 ,   374.91006 ,   515.0019  ,   791.3719  ,\n",
              "          453.65634 ,   255.556   ,   365.4627  ,   338.66217 ,\n",
              "          476.35388 ,   511.10318 ,   713.1032  ,   700.5317  ,\n",
              "          488.59143 ,   261.8312  ,   270.2919  ,   231.54152 ,\n",
              "          572.9079  ,   791.48413 ,   719.5384  ,   576.6594  ,\n",
              "          415.5206  ,   287.77386 ,   378.67227 ,   297.18167 ,\n",
              "          227.12231 ,   205.13364 ,   421.95874 ,   342.56616 ,\n",
              "          341.86298 ,   320.0259  ,   409.25412 ,   453.33206 ,\n",
              "          522.70593 ,   217.68813 ,   214.61069 ,   231.0249  ,\n",
              "          280.54785 ,   265.7982  ,   228.72073 ,   158.20264 ,\n",
              "          212.60829 ,   203.64987 ,   264.5953  ,   352.324   ,\n",
              "          366.2897  ,   581.7229  ,   312.34607 ,   331.69705 ,\n",
              "          141.13652 ,   182.411   ,   156.11302 ,   166.31808 ,\n",
              "          164.43439 ,   125.7441  ,   107.780495,   165.78647 ,\n",
              "          171.83287 ,   198.96605 ,   167.8827  ,   178.64919 ,\n",
              "          236.72102 ,   199.58427 ,   224.09824 ,   178.8182  ,\n",
              "          172.0879  ,   211.73871 ,   207.91026 ,   123.46075 ,\n",
              "          169.13821 ,   205.7879  ,   269.26443 ,   349.17722 ,\n",
              "          800.9311  ,   922.2048  ,  1054.2076  ,  1104.5502  ,\n",
              "         1241.4115  ,  1426.3661  ,  1328.3092  ,   649.6928  ,\n",
              "          361.26694 ,   270.29266 ,   292.59372 ,   272.46997 ,\n",
              "          386.60934 ,   112.081825,   145.97955 ,   313.3362  ,\n",
              "          269.81824 ,   355.0562  ,   318.33624 ,   352.92105 ,\n",
              "          267.0955  ,   290.16388 ,   250.05774 ,   286.14508 ,\n",
              "          356.7959  ,   299.10883 ,   322.64612 ,   407.6114  ,\n",
              "          481.7431  ,   664.80457 ,   419.33078 ,   420.05383 ,\n",
              "          302.0214  ,   409.84808 ,   433.44736 ,   328.0808  ,\n",
              "          180.71477 ,   231.38983 ,   371.67667 ,   573.2698  ,\n",
              "          799.30804 ,  1040.5734  ,  1248.2089  ,  1556.0747  ,\n",
              "         1445.6143  ,   991.4733  ,   653.7858  ,   241.664   ,\n",
              "          200.71234 ,   229.69182 ,   365.64224 ,   491.61737 ,\n",
              "          504.54965 ,   467.4137  ,   489.7394  ,   415.8368  ,\n",
              "          307.59302 ,   285.44888 ,   428.70956 ,   584.49255 ,\n",
              "          516.8086  ,   595.66724 ,   411.83444 ,   162.18903 ,\n",
              "          145.37515 ,   334.19424 ,   246.74936 ,   215.41008 ,\n",
              "          264.1331  ,   341.95923 ,   380.304   ,   338.56595 ,\n",
              "          281.5661  ,   238.5704  ,   174.35579 ,   307.8558  ,\n",
              "          345.94092 ,   464.11194 ,   561.7186  ,   646.22894 ,\n",
              "          625.90247 ,   532.09937 ,   285.625   ,   223.79454 ,\n",
              "          318.74118 ,   248.53484 ,   562.78436 ,   759.4393  ,\n",
              "          860.87354 ,  1154.201   ,  1251.0646  ,  1247.2101  ,\n",
              "         1298.1444  ,   567.318   ,   251.13605 ,   278.9938  ,\n",
              "          226.39442 ,   338.29602 ,   336.9275  ,   265.14423 ,\n",
              "          217.05034 ,   672.6338  ,   882.671   ,   855.88336 ,\n",
              "         1019.35803 ,  1249.8351  ,  1280.456   ,  1314.4957  ,\n",
              "          632.871   ,   484.36438 ,   420.38657 ,   260.38715 ,\n",
              "          624.8058  ,   990.02094 ,  1017.5319  ,   919.05884 ,\n",
              "         1178.533   ,  1408.3364  ,  1904.8239  ,  1633.7714  ,\n",
              "         1192.1283  ,   674.242   ,   604.9521  ,   972.9281  ,\n",
              "         1204.9263  ,  1363.4514  ,  1378.1527  ,  1350.4559  ,\n",
              "         1101.2993  ,   703.3076  ,  1223.3163  ,  1425.102   ,\n",
              "         1502.1896  ,   459.54675 ,   348.41965 ,   551.64197 ,\n",
              "          843.7437  ,   787.5989  ,   897.4341  ,   791.77203 ,\n",
              "          752.5887  ,   653.8482  ,   885.15045 ,  1905.3236  ,\n",
              "         2860.1357  ,  3281.406   ,  3557.5776  ,  3653.77    ,\n",
              "         3660.019   ,  2554.4292  ,  1267.6624  ,   925.6123  ,\n",
              "         1075.2522  ,  1301.0339  ,  1473.5089  ,  1828.1638  ,\n",
              "         2801.7761  ,  3292.0964  ,  3251.5688  ,  3187.5154  ,\n",
              "         3379.4363  ,  3408.515   ,  4165.453   ,  4234.404   ,\n",
              "         5202.1772  ,  6104.6343  ,  5456.073   ,  4632.279   ,\n",
              "         4940.305   ,  3949.7666  ,  3221.3552  ,  3152.0354  ,\n",
              "         4678.5635  ,  5873.6855  ,  5220.107   ,  1586.0184  ,\n",
              "         1453.9965  ,  1284.9172  ,  2963.216   ,  3771.7905  ,\n",
              "         3876.5652  ,  3776.622   ,  3339.475   ,  3624.7173  ,\n",
              "         3798.291   ,  1451.92    ,  1540.3851  ,  1437.0847  ,\n",
              "         1229.9243  ,  1279.0303  ,  2451.6094  ,  3849.44    ,\n",
              "         3891.8213  ,  2981.3203  ,  3219.57    ,  3524.72    ,\n",
              "         5588.3823  ,  6664.252   ,  5793.246   ,  5805.3936  ,\n",
              "         6580.461   ,  6361.1904  ,  8173.865   ,  5178.247   ,\n",
              "         1836.3796  ,  2486.362   ,  1826.4835  ,  3124.1047  ,\n",
              "         3083.0798  ,  3850.9783  ,  3287.689   ,  3909.1228  ,\n",
              "         3482.797   ,  3835.5044  ,  6679.797   ,  7869.091   ,\n",
              "        10282.949   ,  8978.149   ,  5480.48    ,  3616.3406  ,\n",
              "         2135.3894  ,  1295.8788  ,  2644.678   ,  4043.3542  ,\n",
              "         3485.6704  ,  3489.9656  ,  4110.7144  ,  4892.719   ,\n",
              "         6107.9097  ,  7138.7017  ,  6778.813   ,  5656.887   ,\n",
              "         4542.813   ,  2853.9568  ,  2036.6534  ,  2057.9082  ,\n",
              "         1760.0693  ,  2894.6807  ,  2713.1316  ,  2657.2437  ,\n",
              "         3966.2412  ,  5279.8394  ,  6382.3184  ,  5731.6807  ,\n",
              "         5376.0254  ,  1844.5288  ,  1960.1602  ,  2847.4656  ,\n",
              "         4180.655   ,  4624.117   ,  2403.1382  ,  2703.1477  ,\n",
              "         1925.0486  ,   783.9162  ,  1388.3987  ,  1515.1669  ,\n",
              "         1044.1844  ,  1092.811   ,  1419.6317  ,  1177.2169  ,\n",
              "         1615.2874  ,  2735.1917  ,  3545.8235  ,  3862.4878  ,\n",
              "         2765.3428  ,  3083.6035  ,  3413.7578  ,  4640.995   ,\n",
              "         6578.3354  ,  8076.225   ,  9644.3     ,  9219.386   ,\n",
              "         7661.637   ,  5861.165   ,  5316.8213  ,  3050.3157  ,\n",
              "         2160.8623  ,  2828.7627  ,  4538.454   ,  6381.4897  ,\n",
              "         4394.5283  ,  2010.8542  ,  2434.149   ,  2715.4143  ,\n",
              "         1638.5615  ,  2297.307   ,  1359.4976  ,  2207.3352  ,\n",
              "         2208.82    ,  2403.1946  ,  3488.5852  ,  5198.0728  ,\n",
              "         7033.526   ,  8308.437   ,  9222.554   ], dtype=float32)}"
            ]
          },
          "metadata": {},
          "execution_count": 72
        }
      ]
    },
    {
      "cell_type": "markdown",
      "metadata": {
        "id": "dOZ73KbFRif0"
      },
      "source": [
        "## Make a evaluation function work for larger horizons"
      ]
    },
    {
      "cell_type": "code",
      "metadata": {
        "id": "LwuApQuPRklf"
      },
      "source": [
        "# Create a function to take in model predictions and truth values and return evaluatic\n",
        "def evaluate_preds(y_true, y_pred):\n",
        "  # Make sure float32 datatype (for metric calculations)Get Data We are going to be using the histori\n",
        "  y_true = tf.cast(y_true, dtype=tf.float32)\n",
        "  y_pred = tf.cast(y_pred, dtype=tf.float32)\n",
        "\n",
        "  # Calculate various evaluation metrics\n",
        "  mae = tf.keras.metrics.mean_absolute_error(y_true, y_pred)\n",
        "  mse = tf.keras.metrics.mean_squared_error(y_true, y_pred)\n",
        "  rmse = tf.sqrt(mse)\n",
        "  mape = tf.keras.metrics.mean_absolute_percentage_error(y_true, y_pred)\n",
        "  mase = mean_absolute_scaled_error(y_true, y_pred)\n",
        "\n",
        "  # Account for different size metrics (for longer horizons, we want to reduce metrics to a single value)\n",
        "  if mae.ndim > 0:\n",
        "    mae = tf.reduce_mean(mae)\n",
        "    mse = tf.reduce_mean(mse)\n",
        "    rmse = tf.reduce_mean(rmse)\n",
        "    mape = tf.reduce_mean(mape)\n",
        "    mase = tf.reduce_mean(mase)\n",
        "\n",
        "  return {'mae': mae.numpy(),\n",
        "          'mse': mse.numpy(),\n",
        "          'rmse': rmse.numpy(),\n",
        "          'mape': mape.numpy(),\n",
        "          'mase': mase.numpy()}"
      ],
      "execution_count": 73,
      "outputs": []
    },
    {
      "cell_type": "code",
      "metadata": {
        "colab": {
          "base_uri": "https://localhost:8080/"
        },
        "id": "fF79qhRqRkjF",
        "outputId": "60647a01-2a89-4397-c523-fc1c48aec783"
      },
      "source": [
        "# Get model_3 results agrregated to single values\n",
        "model_3_results = evaluate_preds(y_true=tf.squeeze(test_labels),\n",
        "                                 y_pred=model_3_preds)\n",
        "model_3_results"
      ],
      "execution_count": 74,
      "outputs": [
        {
          "output_type": "execute_result",
          "data": {
            "text/plain": [
              "{'mae': 1237.5063,\n",
              " 'mape': 5.5588784,\n",
              " 'mase': 2.2020736,\n",
              " 'mse': 5405198.0,\n",
              " 'rmse': 1425.7479}"
            ]
          },
          "metadata": {},
          "execution_count": 74
        }
      ]
    },
    {
      "cell_type": "markdown",
      "metadata": {
        "id": "s9X6NZMRRkeH"
      },
      "source": [
        "We've made and evaluated predictions with `model_3`, let's visualize, visualize, visualize!"
      ]
    },
    {
      "cell_type": "code",
      "metadata": {
        "colab": {
          "base_uri": "https://localhost:8080/",
          "height": 442
        },
        "id": "MlfMQB3YRkby",
        "outputId": "77a3a322-b143-46b4-cd65-63a89ce9aade"
      },
      "source": [
        "offset = 300\n",
        "plt.figure(figsize=(10, 7))\n",
        "plot_time_series(timesteps=X_test[-len(test_windows):], values=test_labels[:, 0], start=offset, format='-', label='Test data')\n",
        "plot_time_series(timesteps=X_test[-len(test_windows):], values=model_3_preds, start=offset, label='model_3_preds')"
      ],
      "execution_count": 75,
      "outputs": [
        {
          "output_type": "display_data",
          "data": {
            "image/png": "[encoded data removed]",
            "text/plain": [
              "<Figure size 720x504 with 1 Axes>"
            ]
          },
          "metadata": {
            "needs_background": "light"
          }
        }
      ]
    },
    {
      "cell_type": "code",
      "metadata": {
        "colab": {
          "base_uri": "https://localhost:8080/"
        },
        "id": "R92G4CDaRkZB",
        "outputId": "317cefc7-e083-4f15-8cdc-6b0c2de2d5f1"
      },
      "source": [
        "test_labels[:, 0]"
      ],
      "execution_count": 76,
      "outputs": [
        {
          "output_type": "execute_result",
          "data": {
            "text/plain": [
              "array([ 8794.35864452,  8798.04205463,  9081.18687849,  8711.53433917,\n",
              "        8760.89271814,  8749.52059102,  8656.97092235,  8500.64355816,\n",
              "        8469.2608989 ,  8537.33965197,  8205.80636599,  8118.4885358 ,\n",
              "        8074.84317361,  7612.7405735 ,  7262.11053495,  7303.40575852,\n",
              "        7041.73293642,  7211.86180875,  7141.06944869,  7523.4806726 ,\n",
              "        7390.20746923,  7729.26593894,  7542.23560864,  7381.96300782,\n",
              "        7333.43293049,  7315.36776456,  7213.73376172,  7398.78704961,\n",
              "        7511.88058312,  7532.12351309,  7550.23919987,  7333.09604316,\n",
              "        7239.76257544,  7198.06667705,  7190.27236926,  7238.87432299,\n",
              "        7087.02498535,  7112.73147612,  6883.49639377,  6584.02884335,\n",
              "        7424.01540023,  7147.56832379,  7139.93337053,  7286.33508116,\n",
              "        7236.98620461,  7166.17237853,  7235.6266505 ,  7212.80939522,\n",
              "        7183.70653603,  7227.29371168,  7311.56064392,  7385.46484791,\n",
              "        7251.27679432,  7179.95781929,  7174.74401195,  6955.48757967,\n",
              "        7291.21950532,  7337.63667014,  7347.43326444,  7713.86075365,\n",
              "        8039.60370082,  8067.60636906,  7808.70136382,  8087.45288524,\n",
              "        8078.99353199,  8149.31371715,  8116.96100795,  8735.14243914,\n",
              "        8843.67573222,  8711.6375779 ,  8925.29902845,  8939.86430025,\n",
              "        8638.18144046,  8652.68376299,  8708.78601343,  8635.07435696,\n",
              "        8384.08877677,  8451.23229602,  8347.56750541,  8562.30747044,\n",
              "        8881.96239146,  9131.11498806,  9320.97840625,  9545.07795659,\n",
              "        9388.88075189,  9363.19338276,  9385.26038584,  9269.70703484,\n",
              "        9177.89463721,  9625.4566372 ,  9681.37741131,  9795.34406595,\n",
              "        9927.77825642, 10132.70649911,  9838.90001628, 10236.63514823,\n",
              "       10364.92628823, 10218.0997373 , 10367.52799811,  9926.35369057,\n",
              "        9876.23496321,  9636.62409482, 10189.99598297,  9701.0371915 ,\n",
              "        9631.48494596,  9670.85865437,  9689.08674285,  9919.55144784,\n",
              "        9640.46950506,  9392.86962872,  8787.97836316,  8784.99535244,\n",
              "        8778.4705108 ,  8639.5914173 ,  8548.94832242,  8923.04439826,\n",
              "        8791.11205813,  8756.96106241,  9078.57877713,  9126.63682222,\n",
              "        8925.21348778,  8166.31389402,  7875.75087522,  7959.22827421,\n",
              "        7955.30628418,  5800.20890483,  5672.68120103,  5304.14995219,\n",
              "        5355.18737353,  4944.70233598,  5465.58259412,  5363.82285325,\n",
              "        6301.06340407,  6185.27983852,  6187.05375022,  5884.34013347,\n",
              "        6455.45468825,  6784.31801143,  6706.98508913,  6721.49539238,\n",
              "        6682.7800492 ,  6229.48834283,  5922.48983509,  6483.73944553,\n",
              "        6446.42134684,  6537.3364615 ,  6850.55871169,  6776.37009357,\n",
              "        6855.93326446,  6805.3622869 ,  7278.24396977,  7175.66747656,\n",
              "        7367.29339845,  7321.81661389,  6866.39818901,  6873.84849516,\n",
              "        7043.43886352,  6889.86377235,  6887.55490783,  6718.79995028,\n",
              "        7166.58281714,  7065.08238904,  7277.14058556,  7185.87030343,\n",
              "        6856.14643454,  6904.4757727 ,  7118.38874792,  7562.03283175,\n",
              "        7497.86176383,  7542.3034007 ,  7624.85378592,  7776.50754257,\n",
              "        7761.75878408,  8773.10648796,  8767.67262337,  8853.77448401,\n",
              "        8963.0575578 ,  8904.71381654,  8887.50589259,  8978.28358712,\n",
              "        9371.68427279,  9900.67886662,  9917.24841434,  9617.51819493,\n",
              "        8786.65518165,  8608.12524504,  8815.2312449 ,  9330.9864847 ,\n",
              "        9757.29658559,  9362.63555697,  9418.91855051,  9684.70195935,\n",
              "        9723.68015045,  9719.48085448,  9540.88656658,  9141.15063742,\n",
              "        9192.84513581,  9220.07588747,  9048.71511916,  8905.78160454,\n",
              "        8835.72722404,  9112.97917559,  9507.52466466,  9425.28186919,\n",
              "        9688.32439037,  9427.67008414, 10268.58198473,  9516.13544309,\n",
              "        9667.06075426,  9811.3670946 ,  9659.66129819,  9677.05099451,\n",
              "        9737.45855879,  9791.92789977,  9786.14202048,  9874.96704752,\n",
              "        9260.83264099,  9464.22809682,  9458.6597544 ,  9351.95372801,\n",
              "        9441.76899555,  9510.66063729,  9457.62707441,  9398.64209362,\n",
              "        9279.76076517,  9353.07819619,  9289.10449144,  9680.9471279 ,\n",
              "        9609.68024553,  9311.13631832,  9252.63337177,  9171.73208577,\n",
              "        9022.153768  ,  9101.85005736,  9188.06137546,  9148.44485856,\n",
              "        9236.31677043,  9097.79736639,  9094.32456102,  9124.6535344 ,\n",
              "        9055.46448252,  9278.80563704,  9244.41581454,  9471.75997342,\n",
              "        9236.14325371,  9243.17525915,  9229.85975494,  9286.73704209,\n",
              "        9238.99375486,  9260.47098018,  9211.02643289,  9133.77783034,\n",
              "        9160.41059149,  9176.6863901 ,  9190.2715342 ,  9172.58833257,\n",
              "        9395.06444588,  9530.79088535,  9617.37786138,  9568.97472596,\n",
              "        9708.9491401 ,  9938.95122286, 11187.77972696, 10939.67014155,\n",
              "       11284.45898685, 11118.91841243, 11373.31725664, 11766.74829709,\n",
              "       11139.09838035, 11261.80633174, 11228.02632402, 11653.40758556,\n",
              "       11796.81736499, 11639.93541013, 11744.9120755 , 11673.12323754,\n",
              "       11832.22730813, 11340.58234064, 11549.54631437, 11752.16865623,\n",
              "       11783.28341126, 11895.62694989, 11896.94717019, 12399.11188466,\n",
              "       12071.73890908, 11749.82950876, 11833.8973487 , 11583.13894263,\n",
              "       11674.62435391, 11666.41012224, 11744.01269665, 11378.72602981,\n",
              "       11458.82259649, 11302.1209645 , 11482.22568651, 11515.04443069,\n",
              "       11657.00393423, 11678.37325542, 11964.20867246, 11427.70260497,\n",
              "       10712.92064607, 10563.89693862, 10042.85485437, 10207.60500296,\n",
              "       10381.77610693, 10043.19644129, 10268.46091575, 10341.01598385,\n",
              "       10380.53959723, 10436.36540836, 10313.06857949, 10680.29756117,\n",
              "       10829.5053072 , 11033.38352648, 10937.1112591 , 10933.9311624 ,\n",
              "       11048.87927816, 10852.91013894, 10526.2028872 , 10531.16456263,\n",
              "       10260.03301241, 10672.95680806, 10729.06960742, 10741.47646752,\n",
              "       10752.34544975, 10863.06572391, 10764.28437072, 10741.5795495 ,\n",
              "       10626.6009565 , 10567.33019523, 10555.02867878, 10660.61118264,\n",
              "       10756.40458492, 10589.62639353, 10645.75478678, 10897.59543151,\n",
              "       11052.39508367, 11360.85271687, 11334.02674203, 11666.21170032,\n",
              "       11443.73279182, 11395.54736637, 11504.54900671, 11355.16043945,\n",
              "       11358.70637963, 11471.00254779, 11776.59299733, 11936.36291334,\n",
              "       13102.93446155, 13140.66928406, 12933.82356549, 13081.67255949,\n",
              "       13008.45325775, 13033.52427008, 13721.28222485, 13282.26034792,\n",
              "       13467.73178281, 13573.71050315, 13891.21683316, 13730.19731094,\n",
              "       13633.69821689, 13832.93840977, 14163.9768155 , 15424.52767669,\n",
              "       15540.59659081, 14783.98167853, 15500.33425474, 15283.78013873,\n",
              "       15374.04438576, 15820.49524108, 16253.31027194, 16347.04492035,\n",
              "       15991.8330244 , 15918.08012811, 16752.00298996, 17593.48641493,\n",
              "       17834.63653371, 17954.8580091 , 18612.87067218, 18591.85660475,\n",
              "       18629.99553726, 18469.20046948, 19045.73646565, 18746.9348067 ,\n",
              "       17187.40627633, 17023.96140009, 17814.78027844, 18114.41434928,\n",
              "       19382.36058587, 18980.97745012, 19184.89784774, 19464.53170456,\n",
              "       18813.12476029, 19045.0202726 , 19113.93339509, 19107.59979531,\n",
              "       18682.45783321, 18543.00704922, 18359.47660034, 18137.31937461,\n",
              "       18882.26017106, 19060.27690128, 19251.22400471, 19443.47635283,\n",
              "       21310.65626223, 22895.97623755, 23008.77625674, 23890.82264887,\n",
              "       23537.36989089, 23177.27099799, 23433.98075814, 23224.45413785,\n",
              "       23623.88553323, 24581.00617127, 26381.29623292, 26389.29026494,\n",
              "       26718.0294634 , 26975.72956452, 28768.83620753, 29111.52156712,\n",
              "       29333.60512062, 32154.16736327, 33002.53642704, 31431.61227972,\n",
              "       34433.60651384, 36275.75634767, 39713.50785672, 40519.44859753,\n",
              "       40258.92398866, 38709.76537488, 34409.64237522, 34214.61026205,\n",
              "       37017.00750345, 38435.86351466, 36751.58497369, 36016.77960594,\n",
              "       36375.81137926, 36346.60950223, 36577.51964639, 35004.53262688,\n",
              "       30606.18267565, 33368.36593189, 32070.0974252 , 32285.72613244,\n",
              "       32500.25596269, 32324.55565073, 30534.99937302, 33408.21833739,\n",
              "       34842.55739312, 34622.37323153, 33087.36986452, 33613.32076431,\n",
              "       35632.90195152, 37397.42636409, 37256.25211087, 37851.59659008,\n",
              "       40302.79979284, 38461.6814033 , 44716.68546906, 46674.85168811,\n",
              "       45237.47568925, 47500.8975242 , 47884.1828623 , 47005.1906489 ,\n",
              "       49151.16757632, 48125.99219541, 48840.41447458, 52165.30255522,\n",
              "       51728.50879673, 55719.2043617 , 54801.64864399, 57128.64260647,\n",
              "       54181.91464919, 48172.87747693, 48745.43298434, 48291.41208335,\n",
              "       45752.11491941, 46642.60607658, 45092.8065726 , 49248.91401331,\n",
              "       47900.77687833, 50811.85517444, 48259.48707666, 49149.73082884,\n",
              "       48879.15190416, 50594.69857451, 51503.25813218, 54458.03781142,\n",
              "       56915.17393505, 57636.75796197, 57306.16626299, 60743.04182491,\n",
              "       60197.9019918 , 56300.33410863, 56639.78394967, 58567.28378106,\n",
              "       57983.09474357, 58451.73146595, 58593.60245406, 57796.46737122,\n",
              "       54329.35863463, 54794.29771371, 52787.74552575, 52173.86798025,\n",
              "       54483.0457323 , 56234.356105  , 55343.92581533, 57627.6792491 ,\n",
              "       58734.47543372, 58724.66451663, 58984.61292993, 58821.62699444,\n",
              "       57517.79877314, 58177.40276373, 58843.55954021, 58040.18760188,\n",
              "       56508.94286388, 57880.90568386, 58171.9090187 , 59295.95004401,\n",
              "       59822.90167743, 59853.19724227, 63223.88439079, 62926.5571759 ,\n",
              "       63346.78903511, 61965.7825981 , 60574.44472823, 56850.83016569,\n",
              "       56224.10158771, 56608.76974839, 54144.42747606, 51965.05955941,\n",
              "       50669.14438218, 50733.76950364, 48542.95220298, 53558.70784462,\n",
              "       55123.86198142, 54591.51532554, 53260.29534115, 57302.64642408,\n",
              "       57677.9752219 , 56427.04312502, 57255.30683756, 53658.84312082,\n",
              "       57252.7021845 , 56583.84987917, 57107.12067189, 58788.20967893,\n",
              "       58102.19142623, 55715.54665129, 56573.5554719 ])"
            ]
          },
          "metadata": {},
          "execution_count": 76
        }
      ]
    },
    {
      "cell_type": "code",
      "metadata": {
        "colab": {
          "base_uri": "https://localhost:8080/",
          "height": 442
        },
        "id": "8IJZWAAKRkXZ",
        "outputId": "4256f802-dd27-4fe3-9c75-375e16958644"
      },
      "source": [
        "offset = 300\n",
        "plt.figure(figsize=(10, 7))\n",
        "plot_time_series(timesteps=X_test[-len(test_windows):],\n",
        "                 values=test_labels[:, 0], start=offset,\n",
        "                 format='-',\n",
        "                 label='Test data')\n",
        "plot_time_series(timesteps=X_test[-len(test_windows):],\n",
        "                 values=tf.reduce_mean(model_3_preds, axis=1),\n",
        "                 format='-',\n",
        "                 start=offset, label='model_3_preds')"
      ],
      "execution_count": 77,
      "outputs": [
        {
          "output_type": "display_data",
          "data": {
            "image/png": "[encoded data removed]",
            "text/plain": [
              "<Figure size 720x504 with 1 Axes>"
            ]
          },
          "metadata": {
            "needs_background": "light"
          }
        }
      ]
    },
    {
      "cell_type": "markdown",
      "metadata": {
        "id": "RcOuYmF7RkMB"
      },
      "source": [
        "## Which of our model is performing the best so far?\n",
        "\n",
        "So we have trained a few models, now let's compare them and see how they have gone?"
      ]
    },
    {
      "cell_type": "code",
      "metadata": {
        "colab": {
          "base_uri": "https://localhost:8080/",
          "height": 440
        },
        "id": "5CycgnApRkGz",
        "outputId": "be6a5044-ab89-4ed8-d4f4-04ba9241c8a7"
      },
      "source": [
        "pd.DataFrame({'naive': naive_results,\n",
        "              'horizon_1_window_7': model_1_results['mae'],\n",
        "              'horizon_1_window_30': model_2_results['mae'],\n",
        "              'horizon_7_window_30': model_3_results['mae']}, index=['mae']).plot(figsize=(10, 7), kind='bar');"
      ],
      "execution_count": 78,
      "outputs": [
        {
          "output_type": "display_data",
          "data": {
            "image/png": "[encoded data removed]",
            "text/plain": [
              "<Figure size 720x504 with 1 Axes>"
            ]
          },
          "metadata": {
            "needs_background": "light"
          }
        }
      ]
    },
    {
      "cell_type": "markdown",
      "metadata": {
        "id": "JrTGH5lsRkCd"
      },
      "source": [
        "## Model 4: Conv1D"
      ]
    },
    {
      "cell_type": "code",
      "metadata": {
        "id": "T2XHUv5IRj_y"
      },
      "source": [
        "HORIZON = 1 # predict next day of Bitcoin prices\n",
        "WINDOW_SIZE = 7 # use previous week worth data"
      ],
      "execution_count": 79,
      "outputs": []
    },
    {
      "cell_type": "code",
      "metadata": {
        "colab": {
          "base_uri": "https://localhost:8080/"
        },
        "id": "fjMGIxRORj3H",
        "outputId": "2fb4fbaf-1c71-4ec0-8d0e-988ff0177d1d"
      },
      "source": [
        "# Create windowed data\n",
        "full_windows, full_labels = make_windows(prices,\n",
        "                                         window_size=WINDOW_SIZE,\n",
        "                                         horizon=HORIZON)\n",
        "len(full_windows), len(full_labels)"
      ],
      "execution_count": 80,
      "outputs": [
        {
          "output_type": "stream",
          "name": "stdout",
          "text": [
            "[[  123.65499      125.455        108.58483    ...   120.65533\n",
            "    121.795        123.033     ]\n",
            " [  125.455        108.58483      118.67466    ...   121.795\n",
            "    123.033        124.049     ]\n",
            " [  108.58483      118.67466      121.33866    ...   123.033\n",
            "    124.049        125.96116   ]\n",
            " ...\n",
            " [58788.20967893 58102.19142623 55715.54665129 ... 49764.1320816\n",
            "  50032.69313676 47885.62525472]\n",
            " [58102.19142623 55715.54665129 56573.5554719  ... 50032.69313676\n",
            "  47885.62525472 45604.61575361]\n",
            " [55715.54665129 56573.5554719  52147.82118698 ... 47885.62525472\n",
            "  45604.61575361 43144.47129086]]\n"
          ]
        },
        {
          "output_type": "execute_result",
          "data": {
            "text/plain": [
              "(2780, 2780)"
            ]
          },
          "metadata": {},
          "execution_count": 80
        }
      ]
    },
    {
      "cell_type": "code",
      "metadata": {
        "colab": {
          "base_uri": "https://localhost:8080/"
        },
        "id": "agvuzOStRjox",
        "outputId": "e1be2d75-3355-4b32-d872-6443ed970139"
      },
      "source": [
        "# Create train/test sets\n",
        "train_windows, test_windows, train_labels, test_labels = make_train_test_splits(full_windows, full_labels)\n",
        "len(train_windows), len(train_labels), len(test_windows), len(test_labels)"
      ],
      "execution_count": 81,
      "outputs": [
        {
          "output_type": "execute_result",
          "data": {
            "text/plain": [
              "(2224, 2224, 556, 556)"
            ]
          },
          "metadata": {},
          "execution_count": 81
        }
      ]
    },
    {
      "cell_type": "markdown",
      "metadata": {
        "id": "vxL7jov_f3TS"
      },
      "source": [
        "We need some input shape of: `(batch_size, timesteps, input_dim)`...\n",
        "However our data isn't in that shape yet..."
      ]
    },
    {
      "cell_type": "code",
      "metadata": {
        "colab": {
          "base_uri": "https://localhost:8080/"
        },
        "id": "MCpWMrIQgTRf",
        "outputId": "b85321b1-c8bc-499a-8c49-08419aef11f6"
      },
      "source": [
        "# Check data input shape\n",
        "train_windows[0].shape # returns (WINDOW_SIZE, )"
      ],
      "execution_count": 82,
      "outputs": [
        {
          "output_type": "execute_result",
          "data": {
            "text/plain": [
              "(7,)"
            ]
          },
          "metadata": {},
          "execution_count": 82
        }
      ]
    },
    {
      "cell_type": "code",
      "metadata": {
        "colab": {
          "base_uri": "https://localhost:8080/"
        },
        "id": "OT1oBvDaguTA",
        "outputId": "aeb95695-d683-40da-82a4-cbd511350508"
      },
      "source": [
        "# Before we pass our data to the Conv1D layer, we have to reshape it in order to make sure it works\n",
        "x = tf.constant(train_windows[0])\n",
        "x"
      ],
      "execution_count": 83,
      "outputs": [
        {
          "output_type": "execute_result",
          "data": {
            "text/plain": [
              "<tf.Tensor: shape=(7,), dtype=float64, numpy=\n",
              "array([123.65499, 125.455  , 108.58483, 118.67466, 121.33866, 120.65533,\n",
              "       121.795  ])>"
            ]
          },
          "metadata": {},
          "execution_count": 83
        }
      ]
    },
    {
      "cell_type": "code",
      "metadata": {
        "id": "KKoKJbQgg-JH"
      },
      "source": [
        "expand_dims_layer = layers.Lambda(lambda x: tf.expand_dims(x, axis=1)) # add an extra dimenstion for the `input_dim`"
      ],
      "execution_count": 84,
      "outputs": []
    },
    {
      "cell_type": "code",
      "metadata": {
        "colab": {
          "base_uri": "https://localhost:8080/"
        },
        "id": "QSa8PD55hSHK",
        "outputId": "fb9737cd-f330-48e5-f6dc-8b74112b7e94"
      },
      "source": [
        "# Test out our lambda layer\n",
        "print(f'Original shape: {x.shape}') # WINDOW SIZE\n",
        "print(f'Expand shape: {expand_dims_layer(x).shape}') # output = ...?\n",
        "print(f'Original values with expanded shape: \\n {expand_dims_layer}')"
      ],
      "execution_count": 85,
      "outputs": [
        {
          "output_type": "stream",
          "name": "stdout",
          "text": [
            "Original shape: (7,)\n",
            "Expand shape: (7, 1)\n",
            "Original values with expanded shape: \n",
            " <keras.layers.core.lambda_layer.Lambda object at 0x7fd84920d6d0>\n"
          ]
        }
      ]
    },
    {
      "cell_type": "code",
      "metadata": {
        "colab": {
          "base_uri": "https://localhost:8080/"
        },
        "id": "rZB7rzCikUZD",
        "outputId": "1a25ed36-2b34-4853-da52-1d57a20060e5"
      },
      "source": [
        "train_windows[0].shape"
      ],
      "execution_count": 86,
      "outputs": [
        {
          "output_type": "execute_result",
          "data": {
            "text/plain": [
              "(7,)"
            ]
          },
          "metadata": {},
          "execution_count": 86
        }
      ]
    },
    {
      "cell_type": "code",
      "metadata": {
        "colab": {
          "base_uri": "https://localhost:8080/"
        },
        "id": "itCDy6EIhzv4",
        "outputId": "28532e1b-3a83-4df0-ef76-a7b8737a673f"
      },
      "source": [
        "tf.random.set_seed(42)\n",
        "\n",
        "# Create Conv1D\n",
        "model_4 = tf.keras.Sequential([\n",
        "  layers.Lambda(lambda x: tf.expand_dims(x, axis=1)),\n",
        "  layers.Conv1D(filters=128, kernel_size=7, strides=1, padding='causal', activation='relu'),\n",
        "  layers.Dense(HORIZON)\n",
        "\n",
        "], name='model_4_conv1D')\n",
        "\n",
        "# Compile model\n",
        "model_4.compile(loss='mae',\n",
        "                optimizer=tf.keras.optimizers.Adam())\n",
        "\n",
        "# Fit the model\n",
        "model_4.fit(train_windows,\n",
        "            train_labels,\n",
        "            batch_size=128,\n",
        "            epochs=100,\n",
        "            verbose=0,\n",
        "            validation_data=(test_windows, test_labels),\n",
        "            callbacks=[create_model_checkpoint(model_name=model_4.name)])\n",
        "# lambda layer\n",
        "# Conv1D model, filters=128, kernel_size=, padding...\n",
        "# output layer = dense\n",
        "\n"
      ],
      "execution_count": 87,
      "outputs": [
        {
          "output_type": "stream",
          "name": "stdout",
          "text": [
            "INFO:tensorflow:Assets written to: model_experiments/model_4_conv1D/assets\n",
            "INFO:tensorflow:Assets written to: model_experiments/model_4_conv1D/assets\n",
            "INFO:tensorflow:Assets written to: model_experiments/model_4_conv1D/assets\n",
            "INFO:tensorflow:Assets written to: model_experiments/model_4_conv1D/assets\n",
            "INFO:tensorflow:Assets written to: model_experiments/model_4_conv1D/assets\n",
            "INFO:tensorflow:Assets written to: model_experiments/model_4_conv1D/assets\n",
            "INFO:tensorflow:Assets written to: model_experiments/model_4_conv1D/assets\n",
            "INFO:tensorflow:Assets written to: model_experiments/model_4_conv1D/assets\n",
            "INFO:tensorflow:Assets written to: model_experiments/model_4_conv1D/assets\n",
            "INFO:tensorflow:Assets written to: model_experiments/model_4_conv1D/assets\n",
            "INFO:tensorflow:Assets written to: model_experiments/model_4_conv1D/assets\n",
            "INFO:tensorflow:Assets written to: model_experiments/model_4_conv1D/assets\n",
            "INFO:tensorflow:Assets written to: model_experiments/model_4_conv1D/assets\n",
            "INFO:tensorflow:Assets written to: model_experiments/model_4_conv1D/assets\n",
            "INFO:tensorflow:Assets written to: model_experiments/model_4_conv1D/assets\n",
            "INFO:tensorflow:Assets written to: model_experiments/model_4_conv1D/assets\n",
            "INFO:tensorflow:Assets written to: model_experiments/model_4_conv1D/assets\n",
            "INFO:tensorflow:Assets written to: model_experiments/model_4_conv1D/assets\n",
            "INFO:tensorflow:Assets written to: model_experiments/model_4_conv1D/assets\n",
            "INFO:tensorflow:Assets written to: model_experiments/model_4_conv1D/assets\n",
            "INFO:tensorflow:Assets written to: model_experiments/model_4_conv1D/assets\n",
            "INFO:tensorflow:Assets written to: model_experiments/model_4_conv1D/assets\n",
            "INFO:tensorflow:Assets written to: model_experiments/model_4_conv1D/assets\n",
            "INFO:tensorflow:Assets written to: model_experiments/model_4_conv1D/assets\n",
            "INFO:tensorflow:Assets written to: model_experiments/model_4_conv1D/assets\n",
            "INFO:tensorflow:Assets written to: model_experiments/model_4_conv1D/assets\n",
            "INFO:tensorflow:Assets written to: model_experiments/model_4_conv1D/assets\n",
            "INFO:tensorflow:Assets written to: model_experiments/model_4_conv1D/assets\n",
            "INFO:tensorflow:Assets written to: model_experiments/model_4_conv1D/assets\n",
            "INFO:tensorflow:Assets written to: model_experiments/model_4_conv1D/assets\n",
            "INFO:tensorflow:Assets written to: model_experiments/model_4_conv1D/assets\n",
            "INFO:tensorflow:Assets written to: model_experiments/model_4_conv1D/assets\n",
            "INFO:tensorflow:Assets written to: model_experiments/model_4_conv1D/assets\n",
            "INFO:tensorflow:Assets written to: model_experiments/model_4_conv1D/assets\n",
            "INFO:tensorflow:Assets written to: model_experiments/model_4_conv1D/assets\n",
            "INFO:tensorflow:Assets written to: model_experiments/model_4_conv1D/assets\n",
            "INFO:tensorflow:Assets written to: model_experiments/model_4_conv1D/assets\n",
            "INFO:tensorflow:Assets written to: model_experiments/model_4_conv1D/assets\n",
            "INFO:tensorflow:Assets written to: model_experiments/model_4_conv1D/assets\n",
            "INFO:tensorflow:Assets written to: model_experiments/model_4_conv1D/assets\n",
            "INFO:tensorflow:Assets written to: model_experiments/model_4_conv1D/assets\n",
            "INFO:tensorflow:Assets written to: model_experiments/model_4_conv1D/assets\n",
            "INFO:tensorflow:Assets written to: model_experiments/model_4_conv1D/assets\n",
            "INFO:tensorflow:Assets written to: model_experiments/model_4_conv1D/assets\n",
            "INFO:tensorflow:Assets written to: model_experiments/model_4_conv1D/assets\n"
          ]
        },
        {
          "output_type": "execute_result",
          "data": {
            "text/plain": [
              "<keras.callbacks.History at 0x7fd8492db910>"
            ]
          },
          "metadata": {},
          "execution_count": 87
        }
      ]
    },
    {
      "cell_type": "code",
      "metadata": {
        "colab": {
          "base_uri": "https://localhost:8080/"
        },
        "id": "9FmHnrErj5eK",
        "outputId": "bc574266-56a0-408d-98b3-756b005baab5"
      },
      "source": [
        "model_4.summary()"
      ],
      "execution_count": 88,
      "outputs": [
        {
          "output_type": "stream",
          "name": "stdout",
          "text": [
            "Model: \"model_4_conv1D\"\n",
            "_________________________________________________________________\n",
            " Layer (type)                Output Shape              Param #   \n",
            "=================================================================\n",
            " lambda_1 (Lambda)           (None, 1, 7)              0         \n",
            "                                                                 \n",
            " conv1d (Conv1D)             (None, 1, 128)            6400      \n",
            "                                                                 \n",
            " dense_6 (Dense)             (None, 1, 1)              129       \n",
            "                                                                 \n",
            "=================================================================\n",
            "Total params: 6,529\n",
            "Trainable params: 6,529\n",
            "Non-trainable params: 0\n",
            "_________________________________________________________________\n"
          ]
        }
      ]
    },
    {
      "cell_type": "code",
      "metadata": {
        "colab": {
          "base_uri": "https://localhost:8080/"
        },
        "id": "dosRD4s2kylu",
        "outputId": "7d2c0e1d-724d-4bb5-bf09-0ee5803ada3c"
      },
      "source": [
        "# Evaluate model...\n",
        "model_4.evaluate(test_windows, test_labels)"
      ],
      "execution_count": 89,
      "outputs": [
        {
          "output_type": "stream",
          "name": "stdout",
          "text": [
            "18/18 [==============================] - 0s 4ms/step - loss: 613.3947\n"
          ]
        },
        {
          "output_type": "execute_result",
          "data": {
            "text/plain": [
              "613.3947143554688"
            ]
          },
          "metadata": {},
          "execution_count": 89
        }
      ]
    },
    {
      "cell_type": "code",
      "metadata": {
        "colab": {
          "base_uri": "https://localhost:8080/"
        },
        "id": "nBwM6PbKk2yV",
        "outputId": "a7f0b9b0-016f-41ae-e008-e9636d3c8846"
      },
      "source": [
        "# Load back in best performing Conv1D and re-evaluate\n",
        "model_4 = tf.keras.models.load_model('model_experiments/model_4_conv1D')\n",
        "model_4.evaluate(test_windows, test_labels)"
      ],
      "execution_count": 90,
      "outputs": [
        {
          "output_type": "stream",
          "name": "stdout",
          "text": [
            "18/18 [==============================] - 0s 4ms/step - loss: 570.8226\n"
          ]
        },
        {
          "output_type": "execute_result",
          "data": {
            "text/plain": [
              "570.8225708007812"
            ]
          },
          "metadata": {},
          "execution_count": 90
        }
      ]
    },
    {
      "cell_type": "code",
      "metadata": {
        "colab": {
          "base_uri": "https://localhost:8080/"
        },
        "id": "SQFV3Q2eoA5j",
        "outputId": "776e166f-0ce8-4c4c-9f8a-4205a2905b63"
      },
      "source": [
        "# Make predictions\n",
        "model_4_preds = make_preds(model_4, test_windows)\n",
        "model_4_preds[:10]"
      ],
      "execution_count": 91,
      "outputs": [
        {
          "output_type": "execute_result",
          "data": {
            "text/plain": [
              "<tf.Tensor: shape=(10,), dtype=float32, numpy=\n",
              "array([8900.106, 8795.287, 9025.844, 8801.779, 8748.497, 8770.001,\n",
              "       8686.008, 8544.436, 8480.867, 8532.077], dtype=float32)>"
            ]
          },
          "metadata": {},
          "execution_count": 91
        }
      ]
    },
    {
      "cell_type": "code",
      "metadata": {
        "colab": {
          "base_uri": "https://localhost:8080/"
        },
        "id": "0ta_1znIoP1n",
        "outputId": "a82cb190-f0c0-4f67-8a65-7869b2163821"
      },
      "source": [
        "# Evaluate predictions\n",
        "model_4_results = evaluate_preds(y_true=tf.squeeze(test_labels),\n",
        "                                 y_pred=model_4_preds)\n",
        "model_4_results"
      ],
      "execution_count": 92,
      "outputs": [
        {
          "output_type": "execute_result",
          "data": {
            "text/plain": [
              "{'mae': 570.8226,\n",
              " 'mape': 2.5478334,\n",
              " 'mase': 1.0027771,\n",
              " 'mse': 1184585.0,\n",
              " 'rmse': 1088.3864}"
            ]
          },
          "metadata": {},
          "execution_count": 92
        }
      ]
    },
    {
      "cell_type": "code",
      "metadata": {
        "colab": {
          "base_uri": "https://localhost:8080/"
        },
        "id": "72O795A-oh06",
        "outputId": "4b7bc17d-764b-4e56-e4ba-b258bdf5d166"
      },
      "source": [
        "model_1_results"
      ],
      "execution_count": 93,
      "outputs": [
        {
          "output_type": "execute_result",
          "data": {
            "text/plain": [
              "{'mae': 568.95123,\n",
              " 'mape': 568.95123,\n",
              " 'mase': 0.9994897,\n",
              " 'mse': 1171744.0,\n",
              " 'rmse': 1082.4713}"
            ]
          },
          "metadata": {},
          "execution_count": 93
        }
      ]
    },
    {
      "cell_type": "markdown",
      "metadata": {
        "id": "O69FEk3Bojb9"
      },
      "source": [
        "## Model 5: RNN (LSTM)\n",
        "\n",
        "Let's build an RNN model for our time series data.\n",
        "\n",
        "we will use the same data we created previously."
      ]
    },
    {
      "cell_type": "code",
      "metadata": {
        "colab": {
          "base_uri": "https://localhost:8080/"
        },
        "id": "dFDQipTsrSys",
        "outputId": "169b5278-1327-492d-db8e-8961eeec4c44"
      },
      "source": [
        "tf.random.set_seed(42)\n",
        "\n",
        "# Let's build an LSTM model with the Functional API\n",
        "inputs = layers.Input(shape=(WINDOW_SIZE))\n",
        "x = layers.Lambda(lambda x: tf.expand_dims(x, axis=1))(inputs)\n",
        "# x = layers.LSTM(128, return_sequences=True)(x)\n",
        "x = layers.LSTM(128, activation='relu')(x)\n",
        "# x = layers.Dense(32, activation='relu')(x)\n",
        "output = layers.Dense(HORIZON)(x)\n",
        "model_5 = tf.keras.Model(inputs=inputs, outputs=output, name='model_5_LSTM')\n",
        "\n",
        "# Compile \n",
        "model_5.compile(loss='mae',\n",
        "                optimizer=tf.keras.optimizers.Adam())\n",
        "\n",
        "# Fit\n",
        "model_5.fit(train_windows,\n",
        "            train_labels,\n",
        "            epochs=100,\n",
        "            verbose=1,\n",
        "            batch_size=128,\n",
        "            validation_data=(test_windows, test_labels),\n",
        "            callbacks=[create_model_checkpoint(model_name=model_5.name)])"
      ],
      "execution_count": 94,
      "outputs": [
        {
          "output_type": "stream",
          "name": "stdout",
          "text": [
            "WARNING:tensorflow:Layer lstm will not use cuDNN kernels since it doesn't meet the criteria. It will use a generic GPU kernel as fallback when running on GPU.\n",
            "Epoch 1/100\n",
            "13/18 [====================>.........] - ETA: 0s - loss: 2475.4353INFO:tensorflow:Assets written to: model_experiments/model_5_LSTM/assets\n"
          ]
        },
        {
          "output_type": "stream",
          "name": "stderr",
          "text": [
            "WARNING:absl:<keras.layers.recurrent.LSTMCell object at 0x7fd8c0309650> has the same name 'LSTMCell' as a built-in Keras object. Consider renaming <class 'keras.layers.recurrent.LSTMCell'> to avoid naming conflicts when loading with `tf.keras.models.load_model`. If renaming is not possible, pass the object in the `custom_objects` parameter of the load function.\n"
          ]
        },
        {
          "output_type": "stream",
          "name": "stdout",
          "text": [
            "18/18 [==============================] - 4s 160ms/step - loss: 2323.6082 - val_loss: 9222.6523\n",
            "Epoch 2/100\n",
            "16/18 [=========================>....] - ETA: 0s - loss: 741.1183 INFO:tensorflow:Assets written to: model_experiments/model_5_LSTM/assets\n"
          ]
        },
        {
          "output_type": "stream",
          "name": "stderr",
          "text": [
            "INFO:tensorflow:Assets written to: model_experiments/model_5_LSTM/assets\n",
            "WARNING:absl:<keras.layers.recurrent.LSTMCell object at 0x7fd8c0309650> has the same name 'LSTMCell' as a built-in Keras object. Consider renaming <class 'keras.layers.recurrent.LSTMCell'> to avoid naming conflicts when loading with `tf.keras.models.load_model`. If renaming is not possible, pass the object in the `custom_objects` parameter of the load function.\n"
          ]
        },
        {
          "output_type": "stream",
          "name": "stdout",
          "text": [
            "18/18 [==============================] - 3s 161ms/step - loss: 695.4739 - val_loss: 1486.0555\n",
            "Epoch 3/100\n",
            "14/18 [======================>.......] - ETA: 0s - loss: 251.0760INFO:tensorflow:Assets written to: model_experiments/model_5_LSTM/assets\n"
          ]
        },
        {
          "output_type": "stream",
          "name": "stderr",
          "text": [
            "INFO:tensorflow:Assets written to: model_experiments/model_5_LSTM/assets\n",
            "WARNING:absl:<keras.layers.recurrent.LSTMCell object at 0x7fd8c0309650> has the same name 'LSTMCell' as a built-in Keras object. Consider renaming <class 'keras.layers.recurrent.LSTMCell'> to avoid naming conflicts when loading with `tf.keras.models.load_model`. If renaming is not possible, pass the object in the `custom_objects` parameter of the load function.\n"
          ]
        },
        {
          "output_type": "stream",
          "name": "stdout",
          "text": [
            "18/18 [==============================] - 3s 153ms/step - loss: 237.3967 - val_loss: 1298.9084\n",
            "Epoch 4/100\n",
            "15/18 [========================>.....] - ETA: 0s - loss: 182.5865INFO:tensorflow:Assets written to: model_experiments/model_5_LSTM/assets\n"
          ]
        },
        {
          "output_type": "stream",
          "name": "stderr",
          "text": [
            "INFO:tensorflow:Assets written to: model_experiments/model_5_LSTM/assets\n",
            "WARNING:absl:<keras.layers.recurrent.LSTMCell object at 0x7fd8c0309650> has the same name 'LSTMCell' as a built-in Keras object. Consider renaming <class 'keras.layers.recurrent.LSTMCell'> to avoid naming conflicts when loading with `tf.keras.models.load_model`. If renaming is not possible, pass the object in the `custom_objects` parameter of the load function.\n"
          ]
        },
        {
          "output_type": "stream",
          "name": "stdout",
          "text": [
            "18/18 [==============================] - 3s 147ms/step - loss: 181.9180 - val_loss: 966.6430\n",
            "Epoch 5/100\n",
            "18/18 [==============================] - 0s 10ms/step - loss: 173.4022 - val_loss: 970.9295\n",
            "Epoch 6/100\n",
            "14/18 [======================>.......] - ETA: 0s - loss: 172.8849INFO:tensorflow:Assets written to: model_experiments/model_5_LSTM/assets\n"
          ]
        },
        {
          "output_type": "stream",
          "name": "stderr",
          "text": [
            "INFO:tensorflow:Assets written to: model_experiments/model_5_LSTM/assets\n",
            "WARNING:absl:<keras.layers.recurrent.LSTMCell object at 0x7fd8c0309650> has the same name 'LSTMCell' as a built-in Keras object. Consider renaming <class 'keras.layers.recurrent.LSTMCell'> to avoid naming conflicts when loading with `tf.keras.models.load_model`. If renaming is not possible, pass the object in the `custom_objects` parameter of the load function.\n"
          ]
        },
        {
          "output_type": "stream",
          "name": "stdout",
          "text": [
            "18/18 [==============================] - 3s 168ms/step - loss: 173.5414 - val_loss: 941.4746\n",
            "Epoch 7/100\n",
            "14/18 [======================>.......] - ETA: 0s - loss: 178.5723INFO:tensorflow:Assets written to: model_experiments/model_5_LSTM/assets\n"
          ]
        },
        {
          "output_type": "stream",
          "name": "stderr",
          "text": [
            "INFO:tensorflow:Assets written to: model_experiments/model_5_LSTM/assets\n",
            "WARNING:absl:<keras.layers.recurrent.LSTMCell object at 0x7fd8c0309650> has the same name 'LSTMCell' as a built-in Keras object. Consider renaming <class 'keras.layers.recurrent.LSTMCell'> to avoid naming conflicts when loading with `tf.keras.models.load_model`. If renaming is not possible, pass the object in the `custom_objects` parameter of the load function.\n"
          ]
        },
        {
          "output_type": "stream",
          "name": "stdout",
          "text": [
            "18/18 [==============================] - 3s 149ms/step - loss: 170.3566 - val_loss: 898.5215\n",
            "Epoch 8/100\n",
            "15/18 [========================>.....] - ETA: 0s - loss: 155.2004INFO:tensorflow:Assets written to: model_experiments/model_5_LSTM/assets\n"
          ]
        },
        {
          "output_type": "stream",
          "name": "stderr",
          "text": [
            "INFO:tensorflow:Assets written to: model_experiments/model_5_LSTM/assets\n",
            "WARNING:absl:<keras.layers.recurrent.LSTMCell object at 0x7fd8c0309650> has the same name 'LSTMCell' as a built-in Keras object. Consider renaming <class 'keras.layers.recurrent.LSTMCell'> to avoid naming conflicts when loading with `tf.keras.models.load_model`. If renaming is not possible, pass the object in the `custom_objects` parameter of the load function.\n"
          ]
        },
        {
          "output_type": "stream",
          "name": "stdout",
          "text": [
            "18/18 [==============================] - 3s 149ms/step - loss: 157.6371 - val_loss: 887.1068\n",
            "Epoch 9/100\n",
            "18/18 [==============================] - 0s 10ms/step - loss: 159.0397 - val_loss: 941.6472\n",
            "Epoch 10/100\n",
            "18/18 [==============================] - 0s 10ms/step - loss: 166.8723 - val_loss: 932.8405\n",
            "Epoch 11/100\n",
            "18/18 [==============================] - 0s 10ms/step - loss: 166.4009 - val_loss: 912.6633\n",
            "Epoch 12/100\n",
            "18/18 [==============================] - 0s 10ms/step - loss: 169.3308 - val_loss: 911.7051\n",
            "Epoch 13/100\n",
            "18/18 [==============================] - 0s 9ms/step - loss: 163.4948 - val_loss: 912.0139\n",
            "Epoch 14/100\n",
            "18/18 [==============================] - 0s 10ms/step - loss: 161.2514 - val_loss: 954.6788\n",
            "Epoch 15/100\n",
            "18/18 [==============================] - 0s 10ms/step - loss: 160.0829 - val_loss: 929.0609\n",
            "Epoch 16/100\n",
            "15/18 [========================>.....] - ETA: 0s - loss: 149.5980INFO:tensorflow:Assets written to: model_experiments/model_5_LSTM/assets\n"
          ]
        },
        {
          "output_type": "stream",
          "name": "stderr",
          "text": [
            "INFO:tensorflow:Assets written to: model_experiments/model_5_LSTM/assets\n",
            "WARNING:absl:<keras.layers.recurrent.LSTMCell object at 0x7fd8c0309650> has the same name 'LSTMCell' as a built-in Keras object. Consider renaming <class 'keras.layers.recurrent.LSTMCell'> to avoid naming conflicts when loading with `tf.keras.models.load_model`. If renaming is not possible, pass the object in the `custom_objects` parameter of the load function.\n"
          ]
        },
        {
          "output_type": "stream",
          "name": "stdout",
          "text": [
            "18/18 [==============================] - 3s 147ms/step - loss: 150.1265 - val_loss: 837.1278\n",
            "Epoch 17/100\n",
            "18/18 [==============================] - 0s 9ms/step - loss: 146.4163 - val_loss: 853.6609\n",
            "Epoch 18/100\n",
            "18/18 [==============================] - 0s 10ms/step - loss: 160.1422 - val_loss: 872.8707\n",
            "Epoch 19/100\n",
            "18/18 [==============================] - 0s 9ms/step - loss: 162.7850 - val_loss: 948.1254\n",
            "Epoch 20/100\n",
            "18/18 [==============================] - 0s 10ms/step - loss: 157.5906 - val_loss: 879.2178\n",
            "Epoch 21/100\n",
            "18/18 [==============================] - 0s 9ms/step - loss: 152.0355 - val_loss: 862.6779\n",
            "Epoch 22/100\n",
            "18/18 [==============================] - 0s 9ms/step - loss: 150.7321 - val_loss: 837.5231\n",
            "Epoch 23/100\n",
            "18/18 [==============================] - 0s 10ms/step - loss: 149.8567 - val_loss: 863.5775\n",
            "Epoch 24/100\n",
            "18/18 [==============================] - 0s 11ms/step - loss: 147.5116 - val_loss: 857.3812\n",
            "Epoch 25/100\n",
            "18/18 [==============================] - 0s 9ms/step - loss: 145.9861 - val_loss: 839.5695\n",
            "Epoch 26/100\n",
            "13/18 [====================>.........] - ETA: 0s - loss: 142.6033INFO:tensorflow:Assets written to: model_experiments/model_5_LSTM/assets\n"
          ]
        },
        {
          "output_type": "stream",
          "name": "stderr",
          "text": [
            "INFO:tensorflow:Assets written to: model_experiments/model_5_LSTM/assets\n",
            "WARNING:absl:<keras.layers.recurrent.LSTMCell object at 0x7fd8c0309650> has the same name 'LSTMCell' as a built-in Keras object. Consider renaming <class 'keras.layers.recurrent.LSTMCell'> to avoid naming conflicts when loading with `tf.keras.models.load_model`. If renaming is not possible, pass the object in the `custom_objects` parameter of the load function.\n"
          ]
        },
        {
          "output_type": "stream",
          "name": "stdout",
          "text": [
            "18/18 [==============================] - 3s 169ms/step - loss: 145.0650 - val_loss: 814.3981\n",
            "Epoch 27/100\n",
            "15/18 [========================>.....] - ETA: 0s - loss: 143.7986INFO:tensorflow:Assets written to: model_experiments/model_5_LSTM/assets\n"
          ]
        },
        {
          "output_type": "stream",
          "name": "stderr",
          "text": [
            "INFO:tensorflow:Assets written to: model_experiments/model_5_LSTM/assets\n",
            "WARNING:absl:<keras.layers.recurrent.LSTMCell object at 0x7fd8c0309650> has the same name 'LSTMCell' as a built-in Keras object. Consider renaming <class 'keras.layers.recurrent.LSTMCell'> to avoid naming conflicts when loading with `tf.keras.models.load_model`. If renaming is not possible, pass the object in the `custom_objects` parameter of the load function.\n"
          ]
        },
        {
          "output_type": "stream",
          "name": "stdout",
          "text": [
            "18/18 [==============================] - 3s 148ms/step - loss: 143.5609 - val_loss: 803.5717\n",
            "Epoch 28/100\n",
            "15/18 [========================>.....] - ETA: 0s - loss: 139.2881INFO:tensorflow:Assets written to: model_experiments/model_5_LSTM/assets\n"
          ]
        },
        {
          "output_type": "stream",
          "name": "stderr",
          "text": [
            "INFO:tensorflow:Assets written to: model_experiments/model_5_LSTM/assets\n",
            "WARNING:absl:<keras.layers.recurrent.LSTMCell object at 0x7fd8c0309650> has the same name 'LSTMCell' as a built-in Keras object. Consider renaming <class 'keras.layers.recurrent.LSTMCell'> to avoid naming conflicts when loading with `tf.keras.models.load_model`. If renaming is not possible, pass the object in the `custom_objects` parameter of the load function.\n"
          ]
        },
        {
          "output_type": "stream",
          "name": "stdout",
          "text": [
            "18/18 [==============================] - 3s 147ms/step - loss: 141.8002 - val_loss: 787.3266\n",
            "Epoch 29/100\n",
            "18/18 [==============================] - 0s 9ms/step - loss: 140.9613 - val_loss: 802.5433\n",
            "Epoch 30/100\n",
            "18/18 [==============================] - 0s 10ms/step - loss: 141.4158 - val_loss: 792.4999\n",
            "Epoch 31/100\n",
            "13/18 [====================>.........] - ETA: 0s - loss: 140.2798INFO:tensorflow:Assets written to: model_experiments/model_5_LSTM/assets\n"
          ]
        },
        {
          "output_type": "stream",
          "name": "stderr",
          "text": [
            "INFO:tensorflow:Assets written to: model_experiments/model_5_LSTM/assets\n",
            "WARNING:absl:<keras.layers.recurrent.LSTMCell object at 0x7fd8c0309650> has the same name 'LSTMCell' as a built-in Keras object. Consider renaming <class 'keras.layers.recurrent.LSTMCell'> to avoid naming conflicts when loading with `tf.keras.models.load_model`. If renaming is not possible, pass the object in the `custom_objects` parameter of the load function.\n"
          ]
        },
        {
          "output_type": "stream",
          "name": "stdout",
          "text": [
            "18/18 [==============================] - 3s 167ms/step - loss: 138.1068 - val_loss: 769.0401\n",
            "Epoch 32/100\n",
            "16/18 [=========================>....] - ETA: 0s - loss: 133.5777INFO:tensorflow:Assets written to: model_experiments/model_5_LSTM/assets\n"
          ]
        },
        {
          "output_type": "stream",
          "name": "stderr",
          "text": [
            "INFO:tensorflow:Assets written to: model_experiments/model_5_LSTM/assets\n",
            "WARNING:absl:<keras.layers.recurrent.LSTMCell object at 0x7fd8c0309650> has the same name 'LSTMCell' as a built-in Keras object. Consider renaming <class 'keras.layers.recurrent.LSTMCell'> to avoid naming conflicts when loading with `tf.keras.models.load_model`. If renaming is not possible, pass the object in the `custom_objects` parameter of the load function.\n"
          ]
        },
        {
          "output_type": "stream",
          "name": "stdout",
          "text": [
            "18/18 [==============================] - 3s 150ms/step - loss: 136.2222 - val_loss: 766.1754\n",
            "Epoch 33/100\n",
            "18/18 [==============================] - 0s 10ms/step - loss: 136.6590 - val_loss: 799.5139\n",
            "Epoch 34/100\n",
            "14/18 [======================>.......] - ETA: 0s - loss: 140.6088INFO:tensorflow:Assets written to: model_experiments/model_5_LSTM/assets\n"
          ]
        },
        {
          "output_type": "stream",
          "name": "stderr",
          "text": [
            "INFO:tensorflow:Assets written to: model_experiments/model_5_LSTM/assets\n",
            "WARNING:absl:<keras.layers.recurrent.LSTMCell object at 0x7fd8c0309650> has the same name 'LSTMCell' as a built-in Keras object. Consider renaming <class 'keras.layers.recurrent.LSTMCell'> to avoid naming conflicts when loading with `tf.keras.models.load_model`. If renaming is not possible, pass the object in the `custom_objects` parameter of the load function.\n"
          ]
        },
        {
          "output_type": "stream",
          "name": "stdout",
          "text": [
            "18/18 [==============================] - 3s 151ms/step - loss: 136.5250 - val_loss: 751.2918\n",
            "Epoch 35/100\n",
            "18/18 [==============================] - 0s 11ms/step - loss: 133.8809 - val_loss: 760.8372\n",
            "Epoch 36/100\n",
            "18/18 [==============================] - 0s 10ms/step - loss: 154.6745 - val_loss: 755.5354\n",
            "Epoch 37/100\n",
            "18/18 [==============================] - 0s 9ms/step - loss: 155.9529 - val_loss: 830.3295\n",
            "Epoch 38/100\n",
            "15/18 [========================>.....] - ETA: 0s - loss: 135.3903INFO:tensorflow:Assets written to: model_experiments/model_5_LSTM/assets\n"
          ]
        },
        {
          "output_type": "stream",
          "name": "stderr",
          "text": [
            "INFO:tensorflow:Assets written to: model_experiments/model_5_LSTM/assets\n",
            "WARNING:absl:<keras.layers.recurrent.LSTMCell object at 0x7fd8c0309650> has the same name 'LSTMCell' as a built-in Keras object. Consider renaming <class 'keras.layers.recurrent.LSTMCell'> to avoid naming conflicts when loading with `tf.keras.models.load_model`. If renaming is not possible, pass the object in the `custom_objects` parameter of the load function.\n"
          ]
        },
        {
          "output_type": "stream",
          "name": "stdout",
          "text": [
            "18/18 [==============================] - 3s 148ms/step - loss: 133.3048 - val_loss: 721.6966\n",
            "Epoch 39/100\n",
            "15/18 [========================>.....] - ETA: 0s - loss: 133.9489INFO:tensorflow:Assets written to: model_experiments/model_5_LSTM/assets\n"
          ]
        },
        {
          "output_type": "stream",
          "name": "stderr",
          "text": [
            "INFO:tensorflow:Assets written to: model_experiments/model_5_LSTM/assets\n",
            "WARNING:absl:<keras.layers.recurrent.LSTMCell object at 0x7fd8c0309650> has the same name 'LSTMCell' as a built-in Keras object. Consider renaming <class 'keras.layers.recurrent.LSTMCell'> to avoid naming conflicts when loading with `tf.keras.models.load_model`. If renaming is not possible, pass the object in the `custom_objects` parameter of the load function.\n"
          ]
        },
        {
          "output_type": "stream",
          "name": "stdout",
          "text": [
            "18/18 [==============================] - 3s 168ms/step - loss: 130.8634 - val_loss: 716.1732\n",
            "Epoch 40/100\n",
            "18/18 [==============================] - 0s 10ms/step - loss: 131.4340 - val_loss: 722.9930\n",
            "Epoch 41/100\n",
            "15/18 [========================>.....] - ETA: 0s - loss: 132.5702INFO:tensorflow:Assets written to: model_experiments/model_5_LSTM/assets\n"
          ]
        },
        {
          "output_type": "stream",
          "name": "stderr",
          "text": [
            "INFO:tensorflow:Assets written to: model_experiments/model_5_LSTM/assets\n",
            "WARNING:absl:<keras.layers.recurrent.LSTMCell object at 0x7fd8c0309650> has the same name 'LSTMCell' as a built-in Keras object. Consider renaming <class 'keras.layers.recurrent.LSTMCell'> to avoid naming conflicts when loading with `tf.keras.models.load_model`. If renaming is not possible, pass the object in the `custom_objects` parameter of the load function.\n"
          ]
        },
        {
          "output_type": "stream",
          "name": "stdout",
          "text": [
            "18/18 [==============================] - 3s 150ms/step - loss: 127.9265 - val_loss: 706.7328\n",
            "Epoch 42/100\n",
            "18/18 [==============================] - 0s 10ms/step - loss: 126.9680 - val_loss: 711.0533\n",
            "Epoch 43/100\n",
            "15/18 [========================>.....] - ETA: 0s - loss: 126.4904INFO:tensorflow:Assets written to: model_experiments/model_5_LSTM/assets\n"
          ]
        },
        {
          "output_type": "stream",
          "name": "stderr",
          "text": [
            "INFO:tensorflow:Assets written to: model_experiments/model_5_LSTM/assets\n",
            "WARNING:absl:<keras.layers.recurrent.LSTMCell object at 0x7fd8c0309650> has the same name 'LSTMCell' as a built-in Keras object. Consider renaming <class 'keras.layers.recurrent.LSTMCell'> to avoid naming conflicts when loading with `tf.keras.models.load_model`. If renaming is not possible, pass the object in the `custom_objects` parameter of the load function.\n"
          ]
        },
        {
          "output_type": "stream",
          "name": "stdout",
          "text": [
            "18/18 [==============================] - 3s 152ms/step - loss: 125.9146 - val_loss: 699.5353\n",
            "Epoch 44/100\n",
            "16/18 [=========================>....] - ETA: 0s - loss: 126.6666INFO:tensorflow:Assets written to: model_experiments/model_5_LSTM/assets\n"
          ]
        },
        {
          "output_type": "stream",
          "name": "stderr",
          "text": [
            "INFO:tensorflow:Assets written to: model_experiments/model_5_LSTM/assets\n",
            "WARNING:absl:<keras.layers.recurrent.LSTMCell object at 0x7fd8c0309650> has the same name 'LSTMCell' as a built-in Keras object. Consider renaming <class 'keras.layers.recurrent.LSTMCell'> to avoid naming conflicts when loading with `tf.keras.models.load_model`. If renaming is not possible, pass the object in the `custom_objects` parameter of the load function.\n"
          ]
        },
        {
          "output_type": "stream",
          "name": "stdout",
          "text": [
            "18/18 [==============================] - 3s 165ms/step - loss: 126.0430 - val_loss: 694.9196\n",
            "Epoch 45/100\n",
            "14/18 [======================>.......] - ETA: 0s - loss: 119.8488INFO:tensorflow:Assets written to: model_experiments/model_5_LSTM/assets\n"
          ]
        },
        {
          "output_type": "stream",
          "name": "stderr",
          "text": [
            "INFO:tensorflow:Assets written to: model_experiments/model_5_LSTM/assets\n",
            "WARNING:absl:<keras.layers.recurrent.LSTMCell object at 0x7fd8c0309650> has the same name 'LSTMCell' as a built-in Keras object. Consider renaming <class 'keras.layers.recurrent.LSTMCell'> to avoid naming conflicts when loading with `tf.keras.models.load_model`. If renaming is not possible, pass the object in the `custom_objects` parameter of the load function.\n"
          ]
        },
        {
          "output_type": "stream",
          "name": "stdout",
          "text": [
            "18/18 [==============================] - 3s 152ms/step - loss: 124.3085 - val_loss: 688.0770\n",
            "Epoch 46/100\n",
            "18/18 [==============================] - 0s 10ms/step - loss: 125.3113 - val_loss: 688.4483\n",
            "Epoch 47/100\n",
            "18/18 [==============================] - 0s 10ms/step - loss: 123.8175 - val_loss: 697.9514\n",
            "Epoch 48/100\n",
            "14/18 [======================>.......] - ETA: 0s - loss: 121.7156INFO:tensorflow:Assets written to: model_experiments/model_5_LSTM/assets\n"
          ]
        },
        {
          "output_type": "stream",
          "name": "stderr",
          "text": [
            "INFO:tensorflow:Assets written to: model_experiments/model_5_LSTM/assets\n",
            "WARNING:absl:<keras.layers.recurrent.LSTMCell object at 0x7fd8c0309650> has the same name 'LSTMCell' as a built-in Keras object. Consider renaming <class 'keras.layers.recurrent.LSTMCell'> to avoid naming conflicts when loading with `tf.keras.models.load_model`. If renaming is not possible, pass the object in the `custom_objects` parameter of the load function.\n"
          ]
        },
        {
          "output_type": "stream",
          "name": "stdout",
          "text": [
            "18/18 [==============================] - 3s 151ms/step - loss: 123.1645 - val_loss: 678.4639\n",
            "Epoch 49/100\n",
            "18/18 [==============================] - 0s 9ms/step - loss: 122.5109 - val_loss: 691.3550\n",
            "Epoch 50/100\n",
            "18/18 [==============================] - 0s 9ms/step - loss: 124.5405 - val_loss: 711.7109\n",
            "Epoch 51/100\n",
            "18/18 [==============================] - 0s 9ms/step - loss: 125.1063 - val_loss: 767.2318\n",
            "Epoch 52/100\n",
            "15/18 [========================>.....] - ETA: 0s - loss: 128.8600INFO:tensorflow:Assets written to: model_experiments/model_5_LSTM/assets\n"
          ]
        },
        {
          "output_type": "stream",
          "name": "stderr",
          "text": [
            "INFO:tensorflow:Assets written to: model_experiments/model_5_LSTM/assets\n",
            "WARNING:absl:<keras.layers.recurrent.LSTMCell object at 0x7fd8c0309650> has the same name 'LSTMCell' as a built-in Keras object. Consider renaming <class 'keras.layers.recurrent.LSTMCell'> to avoid naming conflicts when loading with `tf.keras.models.load_model`. If renaming is not possible, pass the object in the `custom_objects` parameter of the load function.\n"
          ]
        },
        {
          "output_type": "stream",
          "name": "stdout",
          "text": [
            "18/18 [==============================] - 3s 147ms/step - loss: 124.1389 - val_loss: 667.4608\n",
            "Epoch 53/100\n",
            "16/18 [=========================>....] - ETA: 0s - loss: 121.1608INFO:tensorflow:Assets written to: model_experiments/model_5_LSTM/assets\n"
          ]
        },
        {
          "output_type": "stream",
          "name": "stderr",
          "text": [
            "INFO:tensorflow:Assets written to: model_experiments/model_5_LSTM/assets\n",
            "WARNING:absl:<keras.layers.recurrent.LSTMCell object at 0x7fd8c0309650> has the same name 'LSTMCell' as a built-in Keras object. Consider renaming <class 'keras.layers.recurrent.LSTMCell'> to avoid naming conflicts when loading with `tf.keras.models.load_model`. If renaming is not possible, pass the object in the `custom_objects` parameter of the load function.\n"
          ]
        },
        {
          "output_type": "stream",
          "name": "stdout",
          "text": [
            "18/18 [==============================] - 3s 170ms/step - loss: 120.9903 - val_loss: 664.1362\n",
            "Epoch 54/100\n",
            "18/18 [==============================] - 0s 10ms/step - loss: 120.4420 - val_loss: 668.9783\n",
            "Epoch 55/100\n",
            "15/18 [========================>.....] - ETA: 0s - loss: 124.0051INFO:tensorflow:Assets written to: model_experiments/model_5_LSTM/assets\n"
          ]
        },
        {
          "output_type": "stream",
          "name": "stderr",
          "text": [
            "INFO:tensorflow:Assets written to: model_experiments/model_5_LSTM/assets\n",
            "WARNING:absl:<keras.layers.recurrent.LSTMCell object at 0x7fd8c0309650> has the same name 'LSTMCell' as a built-in Keras object. Consider renaming <class 'keras.layers.recurrent.LSTMCell'> to avoid naming conflicts when loading with `tf.keras.models.load_model`. If renaming is not possible, pass the object in the `custom_objects` parameter of the load function.\n"
          ]
        },
        {
          "output_type": "stream",
          "name": "stdout",
          "text": [
            "18/18 [==============================] - 3s 151ms/step - loss: 120.3250 - val_loss: 657.9633\n",
            "Epoch 56/100\n",
            "15/18 [========================>.....] - ETA: 0s - loss: 120.0837INFO:tensorflow:Assets written to: model_experiments/model_5_LSTM/assets\n"
          ]
        },
        {
          "output_type": "stream",
          "name": "stderr",
          "text": [
            "INFO:tensorflow:Assets written to: model_experiments/model_5_LSTM/assets\n",
            "WARNING:absl:<keras.layers.recurrent.LSTMCell object at 0x7fd8c0309650> has the same name 'LSTMCell' as a built-in Keras object. Consider renaming <class 'keras.layers.recurrent.LSTMCell'> to avoid naming conflicts when loading with `tf.keras.models.load_model`. If renaming is not possible, pass the object in the `custom_objects` parameter of the load function.\n"
          ]
        },
        {
          "output_type": "stream",
          "name": "stdout",
          "text": [
            "18/18 [==============================] - 3s 149ms/step - loss: 120.8700 - val_loss: 651.8962\n",
            "Epoch 57/100\n",
            "18/18 [==============================] - 0s 13ms/step - loss: 123.8955 - val_loss: 676.6164\n",
            "Epoch 58/100\n",
            "15/18 [========================>.....] - ETA: 0s - loss: 119.8494INFO:tensorflow:Assets written to: model_experiments/model_5_LSTM/assets\n"
          ]
        },
        {
          "output_type": "stream",
          "name": "stderr",
          "text": [
            "INFO:tensorflow:Assets written to: model_experiments/model_5_LSTM/assets\n",
            "WARNING:absl:<keras.layers.recurrent.LSTMCell object at 0x7fd8c0309650> has the same name 'LSTMCell' as a built-in Keras object. Consider renaming <class 'keras.layers.recurrent.LSTMCell'> to avoid naming conflicts when loading with `tf.keras.models.load_model`. If renaming is not possible, pass the object in the `custom_objects` parameter of the load function.\n"
          ]
        },
        {
          "output_type": "stream",
          "name": "stdout",
          "text": [
            "18/18 [==============================] - 3s 169ms/step - loss: 119.2845 - val_loss: 647.5352\n",
            "Epoch 59/100\n",
            "18/18 [==============================] - 0s 11ms/step - loss: 118.8511 - val_loss: 650.0970\n",
            "Epoch 60/100\n",
            "18/18 [==============================] - 0s 10ms/step - loss: 119.7555 - val_loss: 647.5707\n",
            "Epoch 61/100\n",
            "18/18 [==============================] - 0s 10ms/step - loss: 120.2817 - val_loss: 713.6541\n",
            "Epoch 62/100\n",
            "18/18 [==============================] - 0s 11ms/step - loss: 125.3768 - val_loss: 794.2557\n",
            "Epoch 63/100\n",
            "18/18 [==============================] - 0s 11ms/step - loss: 124.9135 - val_loss: 664.7369\n",
            "Epoch 64/100\n",
            "18/18 [==============================] - 0s 9ms/step - loss: 118.2151 - val_loss: 674.3688\n",
            "Epoch 65/100\n",
            "15/18 [========================>.....] - ETA: 0s - loss: 118.6631INFO:tensorflow:Assets written to: model_experiments/model_5_LSTM/assets\n"
          ]
        },
        {
          "output_type": "stream",
          "name": "stderr",
          "text": [
            "INFO:tensorflow:Assets written to: model_experiments/model_5_LSTM/assets\n",
            "WARNING:absl:<keras.layers.recurrent.LSTMCell object at 0x7fd8c0309650> has the same name 'LSTMCell' as a built-in Keras object. Consider renaming <class 'keras.layers.recurrent.LSTMCell'> to avoid naming conflicts when loading with `tf.keras.models.load_model`. If renaming is not possible, pass the object in the `custom_objects` parameter of the load function.\n"
          ]
        },
        {
          "output_type": "stream",
          "name": "stdout",
          "text": [
            "18/18 [==============================] - 3s 147ms/step - loss: 120.2008 - val_loss: 642.3018\n",
            "Epoch 66/100\n",
            "15/18 [========================>.....] - ETA: 0s - loss: 119.2842INFO:tensorflow:Assets written to: model_experiments/model_5_LSTM/assets\n"
          ]
        },
        {
          "output_type": "stream",
          "name": "stderr",
          "text": [
            "INFO:tensorflow:Assets written to: model_experiments/model_5_LSTM/assets\n",
            "WARNING:absl:<keras.layers.recurrent.LSTMCell object at 0x7fd8c0309650> has the same name 'LSTMCell' as a built-in Keras object. Consider renaming <class 'keras.layers.recurrent.LSTMCell'> to avoid naming conflicts when loading with `tf.keras.models.load_model`. If renaming is not possible, pass the object in the `custom_objects` parameter of the load function.\n"
          ]
        },
        {
          "output_type": "stream",
          "name": "stdout",
          "text": [
            "18/18 [==============================] - 3s 151ms/step - loss: 118.4315 - val_loss: 641.6985\n",
            "Epoch 67/100\n",
            "15/18 [========================>.....] - ETA: 0s - loss: 117.7635INFO:tensorflow:Assets written to: model_experiments/model_5_LSTM/assets\n"
          ]
        },
        {
          "output_type": "stream",
          "name": "stderr",
          "text": [
            "INFO:tensorflow:Assets written to: model_experiments/model_5_LSTM/assets\n",
            "WARNING:absl:<keras.layers.recurrent.LSTMCell object at 0x7fd8c0309650> has the same name 'LSTMCell' as a built-in Keras object. Consider renaming <class 'keras.layers.recurrent.LSTMCell'> to avoid naming conflicts when loading with `tf.keras.models.load_model`. If renaming is not possible, pass the object in the `custom_objects` parameter of the load function.\n"
          ]
        },
        {
          "output_type": "stream",
          "name": "stdout",
          "text": [
            "18/18 [==============================] - 3s 153ms/step - loss: 119.0471 - val_loss: 634.3810\n",
            "Epoch 68/100\n",
            "18/18 [==============================] - 0s 12ms/step - loss: 116.6638 - val_loss: 636.2444\n",
            "Epoch 69/100\n",
            "18/18 [==============================] - 0s 10ms/step - loss: 120.7408 - val_loss: 634.6295\n",
            "Epoch 70/100\n",
            "15/18 [========================>.....] - ETA: 0s - loss: 113.7029INFO:tensorflow:Assets written to: model_experiments/model_5_LSTM/assets\n"
          ]
        },
        {
          "output_type": "stream",
          "name": "stderr",
          "text": [
            "INFO:tensorflow:Assets written to: model_experiments/model_5_LSTM/assets\n",
            "WARNING:absl:<keras.layers.recurrent.LSTMCell object at 0x7fd8c0309650> has the same name 'LSTMCell' as a built-in Keras object. Consider renaming <class 'keras.layers.recurrent.LSTMCell'> to avoid naming conflicts when loading with `tf.keras.models.load_model`. If renaming is not possible, pass the object in the `custom_objects` parameter of the load function.\n"
          ]
        },
        {
          "output_type": "stream",
          "name": "stdout",
          "text": [
            "18/18 [==============================] - 3s 173ms/step - loss: 115.4599 - val_loss: 626.6804\n",
            "Epoch 71/100\n",
            "18/18 [==============================] - 0s 10ms/step - loss: 115.9339 - val_loss: 656.0879\n",
            "Epoch 72/100\n",
            "18/18 [==============================] - 0s 10ms/step - loss: 119.8699 - val_loss: 632.4768\n",
            "Epoch 73/100\n",
            "18/18 [==============================] - 0s 11ms/step - loss: 116.7878 - val_loss: 632.6958\n",
            "Epoch 74/100\n",
            "18/18 [==============================] - 0s 10ms/step - loss: 115.9789 - val_loss: 628.7859\n",
            "Epoch 75/100\n",
            "18/18 [==============================] - 0s 10ms/step - loss: 116.2208 - val_loss: 649.0289\n",
            "Epoch 76/100\n",
            "14/18 [======================>.......] - ETA: 0s - loss: 117.0039INFO:tensorflow:Assets written to: model_experiments/model_5_LSTM/assets\n"
          ]
        },
        {
          "output_type": "stream",
          "name": "stderr",
          "text": [
            "INFO:tensorflow:Assets written to: model_experiments/model_5_LSTM/assets\n",
            "WARNING:absl:<keras.layers.recurrent.LSTMCell object at 0x7fd8c0309650> has the same name 'LSTMCell' as a built-in Keras object. Consider renaming <class 'keras.layers.recurrent.LSTMCell'> to avoid naming conflicts when loading with `tf.keras.models.load_model`. If renaming is not possible, pass the object in the `custom_objects` parameter of the load function.\n"
          ]
        },
        {
          "output_type": "stream",
          "name": "stdout",
          "text": [
            "18/18 [==============================] - 3s 152ms/step - loss: 115.7762 - val_loss: 619.4288\n",
            "Epoch 77/100\n",
            "18/18 [==============================] - 0s 10ms/step - loss: 116.0675 - val_loss: 678.6984\n",
            "Epoch 78/100\n",
            "18/18 [==============================] - 0s 10ms/step - loss: 117.8725 - val_loss: 637.9999\n",
            "Epoch 79/100\n",
            "16/18 [=========================>....] - ETA: 0s - loss: 116.4588INFO:tensorflow:Assets written to: model_experiments/model_5_LSTM/assets\n"
          ]
        },
        {
          "output_type": "stream",
          "name": "stderr",
          "text": [
            "INFO:tensorflow:Assets written to: model_experiments/model_5_LSTM/assets\n",
            "WARNING:absl:<keras.layers.recurrent.LSTMCell object at 0x7fd8c0309650> has the same name 'LSTMCell' as a built-in Keras object. Consider renaming <class 'keras.layers.recurrent.LSTMCell'> to avoid naming conflicts when loading with `tf.keras.models.load_model`. If renaming is not possible, pass the object in the `custom_objects` parameter of the load function.\n"
          ]
        },
        {
          "output_type": "stream",
          "name": "stdout",
          "text": [
            "18/18 [==============================] - 3s 151ms/step - loss: 114.5718 - val_loss: 615.1740\n",
            "Epoch 80/100\n",
            "18/18 [==============================] - 0s 9ms/step - loss: 113.9234 - val_loss: 624.7345\n",
            "Epoch 81/100\n",
            "18/18 [==============================] - 0s 10ms/step - loss: 114.3944 - val_loss: 639.4200\n",
            "Epoch 82/100\n",
            "18/18 [==============================] - 0s 10ms/step - loss: 116.8732 - val_loss: 617.3772\n",
            "Epoch 83/100\n",
            "18/18 [==============================] - 0s 10ms/step - loss: 114.0267 - val_loss: 634.4542\n",
            "Epoch 84/100\n",
            "18/18 [==============================] - 0s 11ms/step - loss: 115.1687 - val_loss: 629.7076\n",
            "Epoch 85/100\n",
            "18/18 [==============================] - 0s 10ms/step - loss: 115.5395 - val_loss: 627.2795\n",
            "Epoch 86/100\n",
            "15/18 [========================>.....] - ETA: 0s - loss: 114.1115INFO:tensorflow:Assets written to: model_experiments/model_5_LSTM/assets\n"
          ]
        },
        {
          "output_type": "stream",
          "name": "stderr",
          "text": [
            "INFO:tensorflow:Assets written to: model_experiments/model_5_LSTM/assets\n",
            "WARNING:absl:<keras.layers.recurrent.LSTMCell object at 0x7fd8c0309650> has the same name 'LSTMCell' as a built-in Keras object. Consider renaming <class 'keras.layers.recurrent.LSTMCell'> to avoid naming conflicts when loading with `tf.keras.models.load_model`. If renaming is not possible, pass the object in the `custom_objects` parameter of the load function.\n"
          ]
        },
        {
          "output_type": "stream",
          "name": "stdout",
          "text": [
            "18/18 [==============================] - 3s 171ms/step - loss: 116.9436 - val_loss: 612.4603\n",
            "Epoch 87/100\n",
            "18/18 [==============================] - 0s 10ms/step - loss: 113.0372 - val_loss: 612.8317\n",
            "Epoch 88/100\n",
            "16/18 [=========================>....] - ETA: 0s - loss: 115.3543INFO:tensorflow:Assets written to: model_experiments/model_5_LSTM/assets\n"
          ]
        },
        {
          "output_type": "stream",
          "name": "stderr",
          "text": [
            "INFO:tensorflow:Assets written to: model_experiments/model_5_LSTM/assets\n",
            "WARNING:absl:<keras.layers.recurrent.LSTMCell object at 0x7fd8c0309650> has the same name 'LSTMCell' as a built-in Keras object. Consider renaming <class 'keras.layers.recurrent.LSTMCell'> to avoid naming conflicts when loading with `tf.keras.models.load_model`. If renaming is not possible, pass the object in the `custom_objects` parameter of the load function.\n"
          ]
        },
        {
          "output_type": "stream",
          "name": "stdout",
          "text": [
            "18/18 [==============================] - 3s 150ms/step - loss: 113.1021 - val_loss: 606.8931\n",
            "Epoch 89/100\n",
            "18/18 [==============================] - 0s 10ms/step - loss: 113.0304 - val_loss: 642.7141\n",
            "Epoch 90/100\n",
            "18/18 [==============================] - 0s 11ms/step - loss: 118.6202 - val_loss: 646.4847\n",
            "Epoch 91/100\n",
            "18/18 [==============================] - 0s 11ms/step - loss: 117.4917 - val_loss: 663.0123\n",
            "Epoch 92/100\n",
            "18/18 [==============================] - 0s 12ms/step - loss: 114.2570 - val_loss: 622.4062\n",
            "Epoch 93/100\n",
            "16/18 [=========================>....] - ETA: 0s - loss: 114.4786INFO:tensorflow:Assets written to: model_experiments/model_5_LSTM/assets\n"
          ]
        },
        {
          "output_type": "stream",
          "name": "stderr",
          "text": [
            "INFO:tensorflow:Assets written to: model_experiments/model_5_LSTM/assets\n",
            "WARNING:absl:<keras.layers.recurrent.LSTMCell object at 0x7fd8c0309650> has the same name 'LSTMCell' as a built-in Keras object. Consider renaming <class 'keras.layers.recurrent.LSTMCell'> to avoid naming conflicts when loading with `tf.keras.models.load_model`. If renaming is not possible, pass the object in the `custom_objects` parameter of the load function.\n"
          ]
        },
        {
          "output_type": "stream",
          "name": "stdout",
          "text": [
            "18/18 [==============================] - 3s 150ms/step - loss: 113.8049 - val_loss: 604.2598\n",
            "Epoch 94/100\n",
            "14/18 [======================>.......] - ETA: 0s - loss: 115.8882INFO:tensorflow:Assets written to: model_experiments/model_5_LSTM/assets\n"
          ]
        },
        {
          "output_type": "stream",
          "name": "stderr",
          "text": [
            "INFO:tensorflow:Assets written to: model_experiments/model_5_LSTM/assets\n",
            "WARNING:absl:<keras.layers.recurrent.LSTMCell object at 0x7fd8c0309650> has the same name 'LSTMCell' as a built-in Keras object. Consider renaming <class 'keras.layers.recurrent.LSTMCell'> to avoid naming conflicts when loading with `tf.keras.models.load_model`. If renaming is not possible, pass the object in the `custom_objects` parameter of the load function.\n"
          ]
        },
        {
          "output_type": "stream",
          "name": "stdout",
          "text": [
            "18/18 [==============================] - 3s 151ms/step - loss: 111.5645 - val_loss: 602.4208\n",
            "Epoch 95/100\n",
            "13/18 [====================>.........] - ETA: 0s - loss: 112.2775INFO:tensorflow:Assets written to: model_experiments/model_5_LSTM/assets\n"
          ]
        },
        {
          "output_type": "stream",
          "name": "stderr",
          "text": [
            "INFO:tensorflow:Assets written to: model_experiments/model_5_LSTM/assets\n",
            "WARNING:absl:<keras.layers.recurrent.LSTMCell object at 0x7fd8c0309650> has the same name 'LSTMCell' as a built-in Keras object. Consider renaming <class 'keras.layers.recurrent.LSTMCell'> to avoid naming conflicts when loading with `tf.keras.models.load_model`. If renaming is not possible, pass the object in the `custom_objects` parameter of the load function.\n"
          ]
        },
        {
          "output_type": "stream",
          "name": "stdout",
          "text": [
            "18/18 [==============================] - 3s 172ms/step - loss: 111.9235 - val_loss: 601.1179\n",
            "Epoch 96/100\n",
            "18/18 [==============================] - 0s 9ms/step - loss: 112.3632 - val_loss: 607.5757\n",
            "Epoch 97/100\n",
            "18/18 [==============================] - 0s 10ms/step - loss: 112.2150 - val_loss: 633.6397\n",
            "Epoch 98/100\n",
            "18/18 [==============================] - 0s 10ms/step - loss: 112.6847 - val_loss: 605.8774\n",
            "Epoch 99/100\n",
            "13/18 [====================>.........] - ETA: 0s - loss: 107.3021INFO:tensorflow:Assets written to: model_experiments/model_5_LSTM/assets\n"
          ]
        },
        {
          "output_type": "stream",
          "name": "stderr",
          "text": [
            "INFO:tensorflow:Assets written to: model_experiments/model_5_LSTM/assets\n",
            "WARNING:absl:<keras.layers.recurrent.LSTMCell object at 0x7fd8c0309650> has the same name 'LSTMCell' as a built-in Keras object. Consider renaming <class 'keras.layers.recurrent.LSTMCell'> to avoid naming conflicts when loading with `tf.keras.models.load_model`. If renaming is not possible, pass the object in the `custom_objects` parameter of the load function.\n"
          ]
        },
        {
          "output_type": "stream",
          "name": "stdout",
          "text": [
            "18/18 [==============================] - 3s 153ms/step - loss: 111.3979 - val_loss: 598.6749\n",
            "Epoch 100/100\n",
            "18/18 [==============================] - 0s 9ms/step - loss: 112.0812 - val_loss: 599.3067\n"
          ]
        },
        {
          "output_type": "execute_result",
          "data": {
            "text/plain": [
              "<keras.callbacks.History at 0x7fd847908850>"
            ]
          },
          "metadata": {},
          "execution_count": 94
        }
      ]
    },
    {
      "cell_type": "code",
      "metadata": {
        "colab": {
          "base_uri": "https://localhost:8080/"
        },
        "id": "xav1uqKftJXX",
        "outputId": "e4584841-d077-4c7b-db8e-58aa2b28020c"
      },
      "source": [
        "# Load in best version of model 5 and evaluate on the test data\n",
        "model_5 = tf.keras.models.load_model('model_experiments/model_5_LSTM')\n",
        "model_5.evaluate(test_windows, test_labels)"
      ],
      "execution_count": 95,
      "outputs": [
        {
          "output_type": "stream",
          "name": "stdout",
          "text": [
            "WARNING:tensorflow:Layer lstm will not use cuDNN kernels since it doesn't meet the criteria. It will use a generic GPU kernel as fallback when running on GPU.\n"
          ]
        },
        {
          "output_type": "stream",
          "name": "stderr",
          "text": [
            "WARNING:tensorflow:Layer lstm will not use cuDNN kernels since it doesn't meet the criteria. It will use a generic GPU kernel as fallback when running on GPU.\n"
          ]
        },
        {
          "output_type": "stream",
          "name": "stdout",
          "text": [
            "18/18 [==============================] - 0s 4ms/step - loss: 598.6749\n"
          ]
        },
        {
          "output_type": "execute_result",
          "data": {
            "text/plain": [
              "598.6749267578125"
            ]
          },
          "metadata": {},
          "execution_count": 95
        }
      ]
    },
    {
      "cell_type": "code",
      "metadata": {
        "colab": {
          "base_uri": "https://localhost:8080/"
        },
        "id": "XK4f8xWquV3_",
        "outputId": "fa94a0ec-088b-4a4c-bc4c-b49bf650cd25"
      },
      "source": [
        "# Make prediction with our LSTM model\n",
        "model_5_preds = make_preds(model_5, test_windows)\n",
        "model_5_preds[:5]"
      ],
      "execution_count": 96,
      "outputs": [
        {
          "output_type": "execute_result",
          "data": {
            "text/plain": [
              "<tf.Tensor: shape=(5,), dtype=float32, numpy=array([8983.033, 8811.561, 8991.205, 8832.373, 8724.737], dtype=float32)>"
            ]
          },
          "metadata": {},
          "execution_count": 96
        }
      ]
    },
    {
      "cell_type": "code",
      "metadata": {
        "colab": {
          "base_uri": "https://localhost:8080/"
        },
        "id": "LE257loDvY1-",
        "outputId": "e294237a-599b-42e4-d6f3-9cbf16af6314"
      },
      "source": [
        "# Evaluate model 5 predictions\n",
        "model_5_results = evaluate_preds(y_true=tf.squeeze(test_labels),\n",
        "                                y_pred=model_5_preds)\n",
        "model_5_results"
      ],
      "execution_count": 97,
      "outputs": [
        {
          "output_type": "execute_result",
          "data": {
            "text/plain": [
              "{'mae': 598.67487,\n",
              " 'mape': 2.6902084,\n",
              " 'mase': 1.051706,\n",
              " 'mse': 1279866.4,\n",
              " 'rmse': 1131.3118}"
            ]
          },
          "metadata": {},
          "execution_count": 97
        }
      ]
    },
    {
      "cell_type": "code",
      "metadata": {
        "colab": {
          "base_uri": "https://localhost:8080/"
        },
        "id": "rjamv5aavog4",
        "outputId": "705aaedf-0cac-4a39-a0c0-83f2852d62ea"
      },
      "source": [
        "model_1_results"
      ],
      "execution_count": 98,
      "outputs": [
        {
          "output_type": "execute_result",
          "data": {
            "text/plain": [
              "{'mae': 568.95123,\n",
              " 'mape': 568.95123,\n",
              " 'mase': 0.9994897,\n",
              " 'mse': 1171744.0,\n",
              " 'rmse': 1082.4713}"
            ]
          },
          "metadata": {},
          "execution_count": 98
        }
      ]
    },
    {
      "cell_type": "markdown",
      "metadata": {
        "id": "T-zsYSpIvtPD"
      },
      "source": [
        " ## Make a multivariate time series dataset\n",
        "\n",
        " Before we can add a feature to our time sereis, what is a feature we can use?\n",
        "\n",
        " One featuer we could add is whether or not Daniel Bourke tweeted on that day...\n",
        "\n",
        " \n",
        " >* day 1 - 0\n",
        " >* day 2 - 1\n",
        " >* day 3 - 0\n",
        "\n",
        " what's a better feature to use?\n",
        "\n",
        " How about the bitcoin halving events?\n",
        "\n",
        " https://www.cmcmarkets.com/en/learn-cryptocurrencies/bitcoin-halving"
      ]
    },
    {
      "cell_type": "code",
      "metadata": {
        "colab": {
          "base_uri": "https://localhost:8080/",
          "height": 238
        },
        "id": "FGaiR54OZ-Le",
        "outputId": "6e129837-69d4-4f15-a123-280e93394e6b"
      },
      "source": [
        "# Let's make multivariate time series\n",
        "bitcoin_prices.head() "
      ],
      "execution_count": 99,
      "outputs": [
        {
          "output_type": "execute_result",
          "data": {
            "text/html": [
              "<div>\n",
              "<style scoped>\n",
              "    .dataframe tbody tr th:only-of-type {\n",
              "        vertical-align: middle;\n",
              "    }\n",
              "\n",
              "    .dataframe tbody tr th {\n",
              "        vertical-align: top;\n",
              "    }\n",
              "\n",
              "    .dataframe thead th {\n",
              "        text-align: right;\n",
              "    }\n",
              "</style>\n",
              "<table border=\"1\" class=\"dataframe\">\n",
              "  <thead>\n",
              "    <tr style=\"text-align: right;\">\n",
              "      <th></th>\n",
              "      <th>Price</th>\n",
              "    </tr>\n",
              "    <tr>\n",
              "      <th>Date</th>\n",
              "      <th></th>\n",
              "    </tr>\n",
              "  </thead>\n",
              "  <tbody>\n",
              "    <tr>\n",
              "      <th>2013-10-01</th>\n",
              "      <td>123.65499</td>\n",
              "    </tr>\n",
              "    <tr>\n",
              "      <th>2013-10-02</th>\n",
              "      <td>125.45500</td>\n",
              "    </tr>\n",
              "    <tr>\n",
              "      <th>2013-10-03</th>\n",
              "      <td>108.58483</td>\n",
              "    </tr>\n",
              "    <tr>\n",
              "      <th>2013-10-04</th>\n",
              "      <td>118.67466</td>\n",
              "    </tr>\n",
              "    <tr>\n",
              "      <th>2013-10-05</th>\n",
              "      <td>121.33866</td>\n",
              "    </tr>\n",
              "  </tbody>\n",
              "</table>\n",
              "</div>"
            ],
            "text/plain": [
              "                Price\n",
              "Date                 \n",
              "2013-10-01  123.65499\n",
              "2013-10-02  125.45500\n",
              "2013-10-03  108.58483\n",
              "2013-10-04  118.67466\n",
              "2013-10-05  121.33866"
            ]
          },
          "metadata": {},
          "execution_count": 99
        }
      ]
    },
    {
      "cell_type": "code",
      "metadata": {
        "id": "xJCFIdZ9coCn"
      },
      "source": [
        "# Let's add the bitcoin halving events to our dataset\n",
        "block_reward_1 = 50 # 3 January 2009 - this block reward isn't in our dataset (our starts from 01 October 2013)\n",
        "block_reward_2 = 25\n",
        "block_reward_3 = 12.5\n",
        "block_reward_4 = 6.25\n",
        "\n",
        "# Block reward dates\n",
        "block_reward_2_datetime = np.datetime64('2012-11-28')\n",
        "block_reward_3_datetime = np.datetime64('2016-07-09')\n",
        "block_reward_4_datetime = np.datetime64('2020-05-18')"
      ],
      "execution_count": 100,
      "outputs": []
    },
    {
      "cell_type": "code",
      "metadata": {
        "colab": {
          "base_uri": "https://localhost:8080/"
        },
        "id": "LUSbNZfBdt9b",
        "outputId": "f7cfa9b0-7aa7-4285-cf55-2d7277430bd3"
      },
      "source": [
        "# Create date ranges of where specific block_reward values should be\n",
        "block_reward_2_days = (block_reward_3_datetime - bitcoin_prices.index[0]).days\n",
        "block_reward_3_days = (block_reward_4_datetime - bitcoin_prices.index[0]).days\n",
        "block_reward_2_days, block_reward_3_days"
      ],
      "execution_count": 101,
      "outputs": [
        {
          "output_type": "execute_result",
          "data": {
            "text/plain": [
              "(1012, 2421)"
            ]
          },
          "metadata": {},
          "execution_count": 101
        }
      ]
    },
    {
      "cell_type": "code",
      "metadata": {
        "id": "k2zeWKdxdy1G"
      },
      "source": [
        "# Add in a block_reward column\n",
        "bitcoin_prices_block = bitcoin_prices.copy()\n",
        "bitcoin_prices_block['block_reward'] = None\n",
        "\n",
        "# Add in block_reward values as a feature to our dataframe\n",
        "bitcoin_prices_block.iloc[:block_reward_2_days, -1] = block_reward_2\n",
        "bitcoin_prices_block.iloc[block_reward_2_days:block_reward_3_days, -1] = block_reward_3\n",
        "bitcoin_prices_block.iloc[block_reward_3_days:, -1] = block_reward_4"
      ],
      "execution_count": 102,
      "outputs": []
    },
    {
      "cell_type": "code",
      "metadata": {
        "colab": {
          "base_uri": "https://localhost:8080/",
          "height": 238
        },
        "id": "2Ju6ABo7d551",
        "outputId": "bd0c28c5-947a-439b-9822-2b25fda5f138"
      },
      "source": [
        "bitcoin_prices_block.head()"
      ],
      "execution_count": 103,
      "outputs": [
        {
          "output_type": "execute_result",
          "data": {
            "text/html": [
              "<div>\n",
              "<style scoped>\n",
              "    .dataframe tbody tr th:only-of-type {\n",
              "        vertical-align: middle;\n",
              "    }\n",
              "\n",
              "    .dataframe tbody tr th {\n",
              "        vertical-align: top;\n",
              "    }\n",
              "\n",
              "    .dataframe thead th {\n",
              "        text-align: right;\n",
              "    }\n",
              "</style>\n",
              "<table border=\"1\" class=\"dataframe\">\n",
              "  <thead>\n",
              "    <tr style=\"text-align: right;\">\n",
              "      <th></th>\n",
              "      <th>Price</th>\n",
              "      <th>block_reward</th>\n",
              "    </tr>\n",
              "    <tr>\n",
              "      <th>Date</th>\n",
              "      <th></th>\n",
              "      <th></th>\n",
              "    </tr>\n",
              "  </thead>\n",
              "  <tbody>\n",
              "    <tr>\n",
              "      <th>2013-10-01</th>\n",
              "      <td>123.65499</td>\n",
              "      <td>25</td>\n",
              "    </tr>\n",
              "    <tr>\n",
              "      <th>2013-10-02</th>\n",
              "      <td>125.45500</td>\n",
              "      <td>25</td>\n",
              "    </tr>\n",
              "    <tr>\n",
              "      <th>2013-10-03</th>\n",
              "      <td>108.58483</td>\n",
              "      <td>25</td>\n",
              "    </tr>\n",
              "    <tr>\n",
              "      <th>2013-10-04</th>\n",
              "      <td>118.67466</td>\n",
              "      <td>25</td>\n",
              "    </tr>\n",
              "    <tr>\n",
              "      <th>2013-10-05</th>\n",
              "      <td>121.33866</td>\n",
              "      <td>25</td>\n",
              "    </tr>\n",
              "  </tbody>\n",
              "</table>\n",
              "</div>"
            ],
            "text/plain": [
              "                Price block_reward\n",
              "Date                              \n",
              "2013-10-01  123.65499           25\n",
              "2013-10-02  125.45500           25\n",
              "2013-10-03  108.58483           25\n",
              "2013-10-04  118.67466           25\n",
              "2013-10-05  121.33866           25"
            ]
          },
          "metadata": {},
          "execution_count": 103
        }
      ]
    },
    {
      "cell_type": "code",
      "metadata": {
        "colab": {
          "base_uri": "https://localhost:8080/",
          "height": 442
        },
        "id": "9NMLmCvXfIHz",
        "outputId": "d98d12ef-186d-4df0-f9ef-d9d0f54f0f93"
      },
      "source": [
        "bitcoin_prices_block.plot(figsize=(10, 7));"
      ],
      "execution_count": 104,
      "outputs": [
        {
          "output_type": "display_data",
          "data": {
            "image/png": "[encoded data removed]",
            "text/plain": [
              "<Figure size 720x504 with 1 Axes>"
            ]
          },
          "metadata": {
            "needs_background": "light"
          }
        }
      ]
    },
    {
      "cell_type": "code",
      "metadata": {
        "id": "vmoEPal4fvlX",
        "colab": {
          "base_uri": "https://localhost:8080/",
          "height": 442
        },
        "outputId": "387beba2-ceb5-473d-c992-1af18fcf7d07"
      },
      "source": [
        "from sklearn.preprocessing import minmax_scale\n",
        "\n",
        "scaled_price_block_df = pd.DataFrame(minmax_scale(bitcoin_prices_block[['Price', 'block_reward']]), columns=bitcoin_prices_block.columns, index=bitcoin_prices_block.index)\n",
        "scaled_price_block_df.plot(figsize=(10, 7));"
      ],
      "execution_count": 107,
      "outputs": [
        {
          "output_type": "display_data",
          "data": {
            "image/png": "[encoded data removed]",
            "text/plain": [
              "<Figure size 720x504 with 1 Axes>"
            ]
          },
          "metadata": {
            "needs_background": "light"
          }
        }
      ]
    },
    {
      "cell_type": "markdown",
      "metadata": {
        "id": "yFsvU8cGvTQN"
      },
      "source": [
        "## Making a windowed dataset with pandas\n",
        "\n",
        "Previously, we have turned our univariate time series into windowed dataset using the helper functions above.\n",
        "\n",
        "However, since we've got multivariate data, these functions won't work.\n",
        "\n"
      ]
    },
    {
      "cell_type": "code",
      "metadata": {
        "id": "j2LxEg4ww2Ls"
      },
      "source": [
        "# Setup dataset hyperparameters"
      ],
      "execution_count": 108,
      "outputs": []
    },
    {
      "cell_type": "code",
      "metadata": {
        "id": "L-UqQ9sMw6YL"
      },
      "source": [
        "HORIZON = 1\n",
        "WINDOW_SIZE = 7"
      ],
      "execution_count": 109,
      "outputs": []
    },
    {
      "cell_type": "code",
      "metadata": {
        "colab": {
          "base_uri": "https://localhost:8080/",
          "height": 394
        },
        "id": "xciPuemiw-TR",
        "outputId": "0cf19795-e3c2-435a-a7c4-d148776b9480"
      },
      "source": [
        "# Make a copy of the Bitcoin historical data with block reward feature\n",
        "bitcoin_prices_windowed = bitcoin_prices_block.copy()\n",
        "\n",
        "# Add windowed columns\n",
        "\n",
        "for i in range(WINDOW_SIZE): # shift values for each step in WINDOW_SIZES\n",
        "  bitcoin_prices_windowed[f'Price+{i+1}'] = bitcoin_prices_windowed['Price'].shift(periods=i + 1)\n",
        "\n",
        "bitcoin_prices_windowed.head(10)"
      ],
      "execution_count": 114,
      "outputs": [
        {
          "output_type": "execute_result",
          "data": {
            "text/html": [
              "<div>\n",
              "<style scoped>\n",
              "    .dataframe tbody tr th:only-of-type {\n",
              "        vertical-align: middle;\n",
              "    }\n",
              "\n",
              "    .dataframe tbody tr th {\n",
              "        vertical-align: top;\n",
              "    }\n",
              "\n",
              "    .dataframe thead th {\n",
              "        text-align: right;\n",
              "    }\n",
              "</style>\n",
              "<table border=\"1\" class=\"dataframe\">\n",
              "  <thead>\n",
              "    <tr style=\"text-align: right;\">\n",
              "      <th></th>\n",
              "      <th>Price</th>\n",
              "      <th>block_reward</th>\n",
              "      <th>Price+1</th>\n",
              "      <th>Price+2</th>\n",
              "      <th>Price+3</th>\n",
              "      <th>Price+4</th>\n",
              "      <th>Price+5</th>\n",
              "      <th>Price+6</th>\n",
              "      <th>Price+7</th>\n",
              "    </tr>\n",
              "    <tr>\n",
              "      <th>Date</th>\n",
              "      <th></th>\n",
              "      <th></th>\n",
              "      <th></th>\n",
              "      <th></th>\n",
              "      <th></th>\n",
              "      <th></th>\n",
              "      <th></th>\n",
              "      <th></th>\n",
              "      <th></th>\n",
              "    </tr>\n",
              "  </thead>\n",
              "  <tbody>\n",
              "    <tr>\n",
              "      <th>2013-10-01</th>\n",
              "      <td>123.65499</td>\n",
              "      <td>25</td>\n",
              "      <td>NaN</td>\n",
              "      <td>NaN</td>\n",
              "      <td>NaN</td>\n",
              "      <td>NaN</td>\n",
              "      <td>NaN</td>\n",
              "      <td>NaN</td>\n",
              "      <td>NaN</td>\n",
              "    </tr>\n",
              "    <tr>\n",
              "      <th>2013-10-02</th>\n",
              "      <td>125.45500</td>\n",
              "      <td>25</td>\n",
              "      <td>123.65499</td>\n",
              "      <td>NaN</td>\n",
              "      <td>NaN</td>\n",
              "      <td>NaN</td>\n",
              "      <td>NaN</td>\n",
              "      <td>NaN</td>\n",
              "      <td>NaN</td>\n",
              "    </tr>\n",
              "    <tr>\n",
              "      <th>2013-10-03</th>\n",
              "      <td>108.58483</td>\n",
              "      <td>25</td>\n",
              "      <td>125.45500</td>\n",
              "      <td>123.65499</td>\n",
              "      <td>NaN</td>\n",
              "      <td>NaN</td>\n",
              "      <td>NaN</td>\n",
              "      <td>NaN</td>\n",
              "      <td>NaN</td>\n",
              "    </tr>\n",
              "    <tr>\n",
              "      <th>2013-10-04</th>\n",
              "      <td>118.67466</td>\n",
              "      <td>25</td>\n",
              "      <td>108.58483</td>\n",
              "      <td>125.45500</td>\n",
              "      <td>123.65499</td>\n",
              "      <td>NaN</td>\n",
              "      <td>NaN</td>\n",
              "      <td>NaN</td>\n",
              "      <td>NaN</td>\n",
              "    </tr>\n",
              "    <tr>\n",
              "      <th>2013-10-05</th>\n",
              "      <td>121.33866</td>\n",
              "      <td>25</td>\n",
              "      <td>118.67466</td>\n",
              "      <td>108.58483</td>\n",
              "      <td>125.45500</td>\n",
              "      <td>123.65499</td>\n",
              "      <td>NaN</td>\n",
              "      <td>NaN</td>\n",
              "      <td>NaN</td>\n",
              "    </tr>\n",
              "    <tr>\n",
              "      <th>2013-10-06</th>\n",
              "      <td>120.65533</td>\n",
              "      <td>25</td>\n",
              "      <td>121.33866</td>\n",
              "      <td>118.67466</td>\n",
              "      <td>108.58483</td>\n",
              "      <td>125.45500</td>\n",
              "      <td>123.65499</td>\n",
              "      <td>NaN</td>\n",
              "      <td>NaN</td>\n",
              "    </tr>\n",
              "    <tr>\n",
              "      <th>2013-10-07</th>\n",
              "      <td>121.79500</td>\n",
              "      <td>25</td>\n",
              "      <td>120.65533</td>\n",
              "      <td>121.33866</td>\n",
              "      <td>118.67466</td>\n",
              "      <td>108.58483</td>\n",
              "      <td>125.45500</td>\n",
              "      <td>123.65499</td>\n",
              "      <td>NaN</td>\n",
              "    </tr>\n",
              "    <tr>\n",
              "      <th>2013-10-08</th>\n",
              "      <td>123.03300</td>\n",
              "      <td>25</td>\n",
              "      <td>121.79500</td>\n",
              "      <td>120.65533</td>\n",
              "      <td>121.33866</td>\n",
              "      <td>118.67466</td>\n",
              "      <td>108.58483</td>\n",
              "      <td>125.45500</td>\n",
              "      <td>123.65499</td>\n",
              "    </tr>\n",
              "    <tr>\n",
              "      <th>2013-10-09</th>\n",
              "      <td>124.04900</td>\n",
              "      <td>25</td>\n",
              "      <td>123.03300</td>\n",
              "      <td>121.79500</td>\n",
              "      <td>120.65533</td>\n",
              "      <td>121.33866</td>\n",
              "      <td>118.67466</td>\n",
              "      <td>108.58483</td>\n",
              "      <td>125.45500</td>\n",
              "    </tr>\n",
              "    <tr>\n",
              "      <th>2013-10-10</th>\n",
              "      <td>125.96116</td>\n",
              "      <td>25</td>\n",
              "      <td>124.04900</td>\n",
              "      <td>123.03300</td>\n",
              "      <td>121.79500</td>\n",
              "      <td>120.65533</td>\n",
              "      <td>121.33866</td>\n",
              "      <td>118.67466</td>\n",
              "      <td>108.58483</td>\n",
              "    </tr>\n",
              "  </tbody>\n",
              "</table>\n",
              "</div>"
            ],
            "text/plain": [
              "                Price block_reward    Price+1  ...    Price+5    Price+6    Price+7\n",
              "Date                                           ...                                 \n",
              "2013-10-01  123.65499           25        NaN  ...        NaN        NaN        NaN\n",
              "2013-10-02  125.45500           25  123.65499  ...        NaN        NaN        NaN\n",
              "2013-10-03  108.58483           25  125.45500  ...        NaN        NaN        NaN\n",
              "2013-10-04  118.67466           25  108.58483  ...        NaN        NaN        NaN\n",
              "2013-10-05  121.33866           25  118.67466  ...        NaN        NaN        NaN\n",
              "2013-10-06  120.65533           25  121.33866  ...  123.65499        NaN        NaN\n",
              "2013-10-07  121.79500           25  120.65533  ...  125.45500  123.65499        NaN\n",
              "2013-10-08  123.03300           25  121.79500  ...  108.58483  125.45500  123.65499\n",
              "2013-10-09  124.04900           25  123.03300  ...  118.67466  108.58483  125.45500\n",
              "2013-10-10  125.96116           25  124.04900  ...  121.33866  118.67466  108.58483\n",
              "\n",
              "[10 rows x 9 columns]"
            ]
          },
          "metadata": {},
          "execution_count": 114
        }
      ]
    },
    {
      "cell_type": "code",
      "metadata": {
        "colab": {
          "base_uri": "https://localhost:8080/",
          "height": 238
        },
        "id": "ZB-3pjI3xQUp",
        "outputId": "23217ec7-68d5-486a-80f7-b135e21eb150"
      },
      "source": [
        "# Create x (windowzs) and y (horizons) features\n",
        "X = bitcoin_prices_windowed.dropna().drop('Price', axis=1).astype(np.float32)\n",
        "y = bitcoin_prices_windowed.dropna()['Price'].astype(np.float32)\n",
        "X.head()"
      ],
      "execution_count": 116,
      "outputs": [
        {
          "output_type": "execute_result",
          "data": {
            "text/html": [
              "<div>\n",
              "<style scoped>\n",
              "    .dataframe tbody tr th:only-of-type {\n",
              "        vertical-align: middle;\n",
              "    }\n",
              "\n",
              "    .dataframe tbody tr th {\n",
              "        vertical-align: top;\n",
              "    }\n",
              "\n",
              "    .dataframe thead th {\n",
              "        text-align: right;\n",
              "    }\n",
              "</style>\n",
              "<table border=\"1\" class=\"dataframe\">\n",
              "  <thead>\n",
              "    <tr style=\"text-align: right;\">\n",
              "      <th></th>\n",
              "      <th>block_reward</th>\n",
              "      <th>Price+1</th>\n",
              "      <th>Price+2</th>\n",
              "      <th>Price+3</th>\n",
              "      <th>Price+4</th>\n",
              "      <th>Price+5</th>\n",
              "      <th>Price+6</th>\n",
              "      <th>Price+7</th>\n",
              "    </tr>\n",
              "    <tr>\n",
              "      <th>Date</th>\n",
              "      <th></th>\n",
              "      <th></th>\n",
              "      <th></th>\n",
              "      <th></th>\n",
              "      <th></th>\n",
              "      <th></th>\n",
              "      <th></th>\n",
              "      <th></th>\n",
              "    </tr>\n",
              "  </thead>\n",
              "  <tbody>\n",
              "    <tr>\n",
              "      <th>2013-10-08</th>\n",
              "      <td>25.0</td>\n",
              "      <td>121.794998</td>\n",
              "      <td>120.655327</td>\n",
              "      <td>121.338661</td>\n",
              "      <td>118.674660</td>\n",
              "      <td>108.584831</td>\n",
              "      <td>125.455002</td>\n",
              "      <td>123.654991</td>\n",
              "    </tr>\n",
              "    <tr>\n",
              "      <th>2013-10-09</th>\n",
              "      <td>25.0</td>\n",
              "      <td>123.032997</td>\n",
              "      <td>121.794998</td>\n",
              "      <td>120.655327</td>\n",
              "      <td>121.338661</td>\n",
              "      <td>118.674660</td>\n",
              "      <td>108.584831</td>\n",
              "      <td>125.455002</td>\n",
              "    </tr>\n",
              "    <tr>\n",
              "      <th>2013-10-10</th>\n",
              "      <td>25.0</td>\n",
              "      <td>124.049004</td>\n",
              "      <td>123.032997</td>\n",
              "      <td>121.794998</td>\n",
              "      <td>120.655327</td>\n",
              "      <td>121.338661</td>\n",
              "      <td>118.674660</td>\n",
              "      <td>108.584831</td>\n",
              "    </tr>\n",
              "    <tr>\n",
              "      <th>2013-10-11</th>\n",
              "      <td>25.0</td>\n",
              "      <td>125.961159</td>\n",
              "      <td>124.049004</td>\n",
              "      <td>123.032997</td>\n",
              "      <td>121.794998</td>\n",
              "      <td>120.655327</td>\n",
              "      <td>121.338661</td>\n",
              "      <td>118.674660</td>\n",
              "    </tr>\n",
              "    <tr>\n",
              "      <th>2013-10-12</th>\n",
              "      <td>25.0</td>\n",
              "      <td>125.279663</td>\n",
              "      <td>125.961159</td>\n",
              "      <td>124.049004</td>\n",
              "      <td>123.032997</td>\n",
              "      <td>121.794998</td>\n",
              "      <td>120.655327</td>\n",
              "      <td>121.338661</td>\n",
              "    </tr>\n",
              "  </tbody>\n",
              "</table>\n",
              "</div>"
            ],
            "text/plain": [
              "            block_reward     Price+1  ...     Price+6     Price+7\n",
              "Date                                  ...                        \n",
              "2013-10-08          25.0  121.794998  ...  125.455002  123.654991\n",
              "2013-10-09          25.0  123.032997  ...  108.584831  125.455002\n",
              "2013-10-10          25.0  124.049004  ...  118.674660  108.584831\n",
              "2013-10-11          25.0  125.961159  ...  121.338661  118.674660\n",
              "2013-10-12          25.0  125.279663  ...  120.655327  121.338661\n",
              "\n",
              "[5 rows x 8 columns]"
            ]
          },
          "metadata": {},
          "execution_count": 116
        }
      ]
    },
    {
      "cell_type": "code",
      "metadata": {
        "colab": {
          "base_uri": "https://localhost:8080/"
        },
        "id": "APkbEOzmxS9b",
        "outputId": "0f8e4386-1a8f-4be0-90a6-417596d7d5d9"
      },
      "source": [
        "y.head()"
      ],
      "execution_count": 117,
      "outputs": [
        {
          "output_type": "execute_result",
          "data": {
            "text/plain": [
              "Date\n",
              "2013-10-08    123.032997\n",
              "2013-10-09    124.049004\n",
              "2013-10-10    125.961159\n",
              "2013-10-11    125.279663\n",
              "2013-10-12    125.927498\n",
              "Name: Price, dtype: float32"
            ]
          },
          "metadata": {},
          "execution_count": 117
        }
      ]
    },
    {
      "cell_type": "code",
      "metadata": {
        "colab": {
          "base_uri": "https://localhost:8080/"
        },
        "id": "7Sfs4iJ5zBgN",
        "outputId": "c7f8da34-d85d-4e31-8193-6b0ff9e55f07"
      },
      "source": [
        "# Make train and test sets using indexing\n",
        "split_size = int(len(X) * 0.8)\n",
        "X_train, y_train = X[:split_size], y[:split_size]\n",
        "X_test, y_test = X[split_size:], y[split_size:]\n",
        "len(X_train), len(y_train), len(X_test), len(y_test)"
      ],
      "execution_count": 119,
      "outputs": [
        {
          "output_type": "execute_result",
          "data": {
            "text/plain": [
              "(2224, 2224, 556, 556)"
            ]
          },
          "metadata": {},
          "execution_count": 119
        }
      ]
    },
    {
      "cell_type": "code",
      "metadata": {
        "id": "7Ok4hfh1zj_c"
      },
      "source": [
        ""
      ],
      "execution_count": null,
      "outputs": []
    },
    {
      "cell_type": "markdown",
      "metadata": {
        "id": "vrBBGSUszstG"
      },
      "source": [
        "## Model 6: Dense (multivariate time series)"
      ]
    },
    {
      "cell_type": "code",
      "metadata": {
        "colab": {
          "base_uri": "https://localhost:8080/"
        },
        "id": "IIjzJBLqzyVv",
        "outputId": "083168dc-cbf6-40b4-9010-d3b3c27601d6"
      },
      "source": [
        "tf.random.set_seed(42)\n",
        "\n",
        "# Make multivariate time series model\n",
        "model_6 = tf.keras.Sequential([\n",
        "  layers.Dense(128, activation='relu'),\n",
        "  # layers.Dense(128, activation='relu')\n",
        "  layers.Dense(HORIZON)                               \n",
        "], name='model_6_dense_multivariate')\n",
        "\n",
        "# compile\n",
        "model_6.compile(loss='mae',\n",
        "                optimizer=tf.keras.optimizers.Adam())\n",
        "\n",
        "# Fit\n",
        "model_6.fit(X_train, y_train,\n",
        "            epochs=100,\n",
        "            batch_size=128,\n",
        "            verbose=1,\n",
        "            validation_data=(X_test, y_test),\n",
        "            callbacks=[create_model_checkpoint(model_name=model_6.name)])"
      ],
      "execution_count": 120,
      "outputs": [
        {
          "output_type": "stream",
          "name": "stdout",
          "text": [
            "Epoch 1/100\n",
            "17/18 [===========================>..] - ETA: 0s - loss: 1256.0107INFO:tensorflow:Assets written to: model_experiments/model_6_dense_multivariate/assets\n"
          ]
        },
        {
          "output_type": "stream",
          "name": "stderr",
          "text": [
            "INFO:tensorflow:Assets written to: model_experiments/model_6_dense_multivariate/assets\n"
          ]
        },
        {
          "output_type": "stream",
          "name": "stdout",
          "text": [
            "18/18 [==============================] - 1s 48ms/step - loss: 1234.6805 - val_loss: 2061.9080\n",
            "Epoch 2/100\n",
            "17/18 [===========================>..] - ETA: 0s - loss: 354.1011INFO:tensorflow:Assets written to: model_experiments/model_6_dense_multivariate/assets\n"
          ]
        },
        {
          "output_type": "stream",
          "name": "stderr",
          "text": [
            "INFO:tensorflow:Assets written to: model_experiments/model_6_dense_multivariate/assets\n"
          ]
        },
        {
          "output_type": "stream",
          "name": "stdout",
          "text": [
            "18/18 [==============================] - 1s 38ms/step - loss: 351.5053 - val_loss: 1908.6729\n",
            "Epoch 3/100\n",
            "17/18 [===========================>..] - ETA: 0s - loss: 237.7690INFO:tensorflow:Assets written to: model_experiments/model_6_dense_multivariate/assets\n"
          ]
        },
        {
          "output_type": "stream",
          "name": "stderr",
          "text": [
            "INFO:tensorflow:Assets written to: model_experiments/model_6_dense_multivariate/assets\n"
          ]
        },
        {
          "output_type": "stream",
          "name": "stdout",
          "text": [
            "18/18 [==============================] - 1s 37ms/step - loss: 235.4153 - val_loss: 1329.0585\n",
            "Epoch 4/100\n",
            " 1/18 [>.............................] - ETA: 0s - loss: 271.0341INFO:tensorflow:Assets written to: model_experiments/model_6_dense_multivariate/assets\n"
          ]
        },
        {
          "output_type": "stream",
          "name": "stderr",
          "text": [
            "INFO:tensorflow:Assets written to: model_experiments/model_6_dense_multivariate/assets\n"
          ]
        },
        {
          "output_type": "stream",
          "name": "stdout",
          "text": [
            "18/18 [==============================] - 1s 37ms/step - loss: 208.6112 - val_loss: 1102.1340\n",
            "Epoch 5/100\n",
            "18/18 [==============================] - 0s 5ms/step - loss: 196.5770 - val_loss: 1107.8472\n",
            "Epoch 6/100\n",
            "17/18 [===========================>..] - ETA: 0s - loss: 185.4589INFO:tensorflow:Assets written to: model_experiments/model_6_dense_multivariate/assets\n"
          ]
        },
        {
          "output_type": "stream",
          "name": "stderr",
          "text": [
            "INFO:tensorflow:Assets written to: model_experiments/model_6_dense_multivariate/assets\n"
          ]
        },
        {
          "output_type": "stream",
          "name": "stdout",
          "text": [
            "18/18 [==============================] - 1s 39ms/step - loss: 187.2244 - val_loss: 1036.1722\n",
            "Epoch 7/100\n",
            "18/18 [==============================] - ETA: 0s - loss: 182.0245INFO:tensorflow:Assets written to: model_experiments/model_6_dense_multivariate/assets\n"
          ]
        },
        {
          "output_type": "stream",
          "name": "stderr",
          "text": [
            "INFO:tensorflow:Assets written to: model_experiments/model_6_dense_multivariate/assets\n"
          ]
        },
        {
          "output_type": "stream",
          "name": "stdout",
          "text": [
            "18/18 [==============================] - 1s 36ms/step - loss: 182.0245 - val_loss: 1019.2924\n",
            "Epoch 8/100\n",
            "17/18 [===========================>..] - ETA: 0s - loss: 175.4780INFO:tensorflow:Assets written to: model_experiments/model_6_dense_multivariate/assets\n"
          ]
        },
        {
          "output_type": "stream",
          "name": "stderr",
          "text": [
            "INFO:tensorflow:Assets written to: model_experiments/model_6_dense_multivariate/assets\n"
          ]
        },
        {
          "output_type": "stream",
          "name": "stdout",
          "text": [
            "18/18 [==============================] - 1s 40ms/step - loss: 175.7059 - val_loss: 977.8487\n",
            "Epoch 9/100\n",
            "17/18 [===========================>..] - ETA: 0s - loss: 170.3185INFO:tensorflow:Assets written to: model_experiments/model_6_dense_multivariate/assets\n"
          ]
        },
        {
          "output_type": "stream",
          "name": "stderr",
          "text": [
            "INFO:tensorflow:Assets written to: model_experiments/model_6_dense_multivariate/assets\n"
          ]
        },
        {
          "output_type": "stream",
          "name": "stdout",
          "text": [
            "18/18 [==============================] - 1s 40ms/step - loss: 170.1784 - val_loss: 954.4034\n",
            "Epoch 10/100\n",
            "17/18 [===========================>..] - ETA: 0s - loss: 163.4161INFO:tensorflow:Assets written to: model_experiments/model_6_dense_multivariate/assets\n"
          ]
        },
        {
          "output_type": "stream",
          "name": "stderr",
          "text": [
            "INFO:tensorflow:Assets written to: model_experiments/model_6_dense_multivariate/assets\n"
          ]
        },
        {
          "output_type": "stream",
          "name": "stdout",
          "text": [
            "18/18 [==============================] - 1s 38ms/step - loss: 164.4430 - val_loss: 913.5146\n",
            "Epoch 11/100\n",
            "17/18 [===========================>..] - ETA: 0s - loss: 158.9818INFO:tensorflow:Assets written to: model_experiments/model_6_dense_multivariate/assets\n"
          ]
        },
        {
          "output_type": "stream",
          "name": "stderr",
          "text": [
            "INFO:tensorflow:Assets written to: model_experiments/model_6_dense_multivariate/assets\n"
          ]
        },
        {
          "output_type": "stream",
          "name": "stdout",
          "text": [
            "18/18 [==============================] - 1s 38ms/step - loss: 158.6892 - val_loss: 874.2504\n",
            "Epoch 12/100\n",
            "17/18 [===========================>..] - ETA: 0s - loss: 150.9899INFO:tensorflow:Assets written to: model_experiments/model_6_dense_multivariate/assets\n"
          ]
        },
        {
          "output_type": "stream",
          "name": "stderr",
          "text": [
            "INFO:tensorflow:Assets written to: model_experiments/model_6_dense_multivariate/assets\n"
          ]
        },
        {
          "output_type": "stream",
          "name": "stdout",
          "text": [
            "18/18 [==============================] - 1s 38ms/step - loss: 152.0732 - val_loss: 861.0414\n",
            "Epoch 13/100\n",
            "18/18 [==============================] - 0s 5ms/step - loss: 151.1057 - val_loss: 886.1201\n",
            "Epoch 14/100\n",
            "17/18 [===========================>..] - ETA: 0s - loss: 144.8079INFO:tensorflow:Assets written to: model_experiments/model_6_dense_multivariate/assets\n"
          ]
        },
        {
          "output_type": "stream",
          "name": "stderr",
          "text": [
            "INFO:tensorflow:Assets written to: model_experiments/model_6_dense_multivariate/assets\n"
          ]
        },
        {
          "output_type": "stream",
          "name": "stdout",
          "text": [
            "18/18 [==============================] - 1s 37ms/step - loss: 147.5482 - val_loss: 837.8613\n",
            "Epoch 15/100\n",
            "17/18 [===========================>..] - ETA: 0s - loss: 142.5062INFO:tensorflow:Assets written to: model_experiments/model_6_dense_multivariate/assets\n"
          ]
        },
        {
          "output_type": "stream",
          "name": "stderr",
          "text": [
            "INFO:tensorflow:Assets written to: model_experiments/model_6_dense_multivariate/assets\n"
          ]
        },
        {
          "output_type": "stream",
          "name": "stdout",
          "text": [
            "18/18 [==============================] - 1s 38ms/step - loss: 142.3497 - val_loss: 794.4784\n",
            "Epoch 16/100\n",
            "17/18 [===========================>..] - ETA: 0s - loss: 139.0095INFO:tensorflow:Assets written to: model_experiments/model_6_dense_multivariate/assets\n"
          ]
        },
        {
          "output_type": "stream",
          "name": "stderr",
          "text": [
            "INFO:tensorflow:Assets written to: model_experiments/model_6_dense_multivariate/assets\n"
          ]
        },
        {
          "output_type": "stream",
          "name": "stdout",
          "text": [
            "18/18 [==============================] - 1s 38ms/step - loss: 137.5206 - val_loss: 778.4048\n",
            "Epoch 17/100\n",
            "16/18 [=========================>....] - ETA: 0s - loss: 133.6634INFO:tensorflow:Assets written to: model_experiments/model_6_dense_multivariate/assets\n"
          ]
        },
        {
          "output_type": "stream",
          "name": "stderr",
          "text": [
            "INFO:tensorflow:Assets written to: model_experiments/model_6_dense_multivariate/assets\n"
          ]
        },
        {
          "output_type": "stream",
          "name": "stdout",
          "text": [
            "18/18 [==============================] - 1s 37ms/step - loss: 135.8191 - val_loss: 772.4528\n",
            "Epoch 18/100\n",
            "15/18 [========================>.....] - ETA: 0s - loss: 140.1422INFO:tensorflow:Assets written to: model_experiments/model_6_dense_multivariate/assets\n"
          ]
        },
        {
          "output_type": "stream",
          "name": "stderr",
          "text": [
            "INFO:tensorflow:Assets written to: model_experiments/model_6_dense_multivariate/assets\n"
          ]
        },
        {
          "output_type": "stream",
          "name": "stdout",
          "text": [
            "18/18 [==============================] - 1s 38ms/step - loss: 134.8562 - val_loss: 747.4800\n",
            "Epoch 19/100\n",
            "18/18 [==============================] - 0s 5ms/step - loss: 130.3347 - val_loss: 761.0549\n",
            "Epoch 20/100\n",
            " 1/18 [>.............................] - ETA: 0s - loss: 145.2514INFO:tensorflow:Assets written to: model_experiments/model_6_dense_multivariate/assets\n"
          ]
        },
        {
          "output_type": "stream",
          "name": "stderr",
          "text": [
            "INFO:tensorflow:Assets written to: model_experiments/model_6_dense_multivariate/assets\n"
          ]
        },
        {
          "output_type": "stream",
          "name": "stdout",
          "text": [
            "18/18 [==============================] - 1s 55ms/step - loss: 128.6775 - val_loss: 701.8977\n",
            "Epoch 21/100\n",
            "17/18 [===========================>..] - ETA: 0s - loss: 128.7350INFO:tensorflow:Assets written to: model_experiments/model_6_dense_multivariate/assets\n"
          ]
        },
        {
          "output_type": "stream",
          "name": "stderr",
          "text": [
            "INFO:tensorflow:Assets written to: model_experiments/model_6_dense_multivariate/assets\n"
          ]
        },
        {
          "output_type": "stream",
          "name": "stdout",
          "text": [
            "18/18 [==============================] - 1s 39ms/step - loss: 129.5576 - val_loss: 691.0128\n",
            "Epoch 22/100\n",
            "17/18 [===========================>..] - ETA: 0s - loss: 126.2893INFO:tensorflow:Assets written to: model_experiments/model_6_dense_multivariate/assets\n"
          ]
        },
        {
          "output_type": "stream",
          "name": "stderr",
          "text": [
            "INFO:tensorflow:Assets written to: model_experiments/model_6_dense_multivariate/assets\n"
          ]
        },
        {
          "output_type": "stream",
          "name": "stdout",
          "text": [
            "18/18 [==============================] - 1s 39ms/step - loss: 125.8060 - val_loss: 684.4119\n",
            "Epoch 23/100\n",
            "18/18 [==============================] - 0s 7ms/step - loss: 125.5263 - val_loss: 692.1294\n",
            "Epoch 24/100\n",
            "18/18 [==============================] - ETA: 0s - loss: 122.4765INFO:tensorflow:Assets written to: model_experiments/model_6_dense_multivariate/assets\n"
          ]
        },
        {
          "output_type": "stream",
          "name": "stderr",
          "text": [
            "INFO:tensorflow:Assets written to: model_experiments/model_6_dense_multivariate/assets\n"
          ]
        },
        {
          "output_type": "stream",
          "name": "stdout",
          "text": [
            "18/18 [==============================] - 1s 38ms/step - loss: 122.4765 - val_loss: 674.2213\n",
            "Epoch 25/100\n",
            "16/18 [=========================>....] - ETA: 0s - loss: 124.1111INFO:tensorflow:Assets written to: model_experiments/model_6_dense_multivariate/assets\n"
          ]
        },
        {
          "output_type": "stream",
          "name": "stderr",
          "text": [
            "INFO:tensorflow:Assets written to: model_experiments/model_6_dense_multivariate/assets\n"
          ]
        },
        {
          "output_type": "stream",
          "name": "stdout",
          "text": [
            "18/18 [==============================] - 1s 39ms/step - loss: 121.1171 - val_loss: 669.6445\n",
            "Epoch 26/100\n",
            "18/18 [==============================] - 0s 6ms/step - loss: 127.2623 - val_loss: 690.0408\n",
            "Epoch 27/100\n",
            "13/18 [====================>.........] - ETA: 0s - loss: 129.0663INFO:tensorflow:Assets written to: model_experiments/model_6_dense_multivariate/assets\n"
          ]
        },
        {
          "output_type": "stream",
          "name": "stderr",
          "text": [
            "INFO:tensorflow:Assets written to: model_experiments/model_6_dense_multivariate/assets\n"
          ]
        },
        {
          "output_type": "stream",
          "name": "stdout",
          "text": [
            "18/18 [==============================] - 1s 39ms/step - loss: 124.6204 - val_loss: 643.9725\n",
            "Epoch 28/100\n",
            "18/18 [==============================] - 0s 5ms/step - loss: 118.2544 - val_loss: 656.2766\n",
            "Epoch 29/100\n",
            "16/18 [=========================>....] - ETA: 0s - loss: 119.0562INFO:tensorflow:Assets written to: model_experiments/model_6_dense_multivariate/assets\n"
          ]
        },
        {
          "output_type": "stream",
          "name": "stderr",
          "text": [
            "INFO:tensorflow:Assets written to: model_experiments/model_6_dense_multivariate/assets\n"
          ]
        },
        {
          "output_type": "stream",
          "name": "stdout",
          "text": [
            "18/18 [==============================] - 1s 39ms/step - loss: 119.6374 - val_loss: 633.4545\n",
            "Epoch 30/100\n",
            "17/18 [===========================>..] - ETA: 0s - loss: 120.1284INFO:tensorflow:Assets written to: model_experiments/model_6_dense_multivariate/assets\n"
          ]
        },
        {
          "output_type": "stream",
          "name": "stderr",
          "text": [
            "INFO:tensorflow:Assets written to: model_experiments/model_6_dense_multivariate/assets\n"
          ]
        },
        {
          "output_type": "stream",
          "name": "stdout",
          "text": [
            "18/18 [==============================] - 1s 39ms/step - loss: 119.5001 - val_loss: 625.3953\n",
            "Epoch 31/100\n",
            "18/18 [==============================] - 0s 5ms/step - loss: 114.5633 - val_loss: 668.5061\n",
            "Epoch 32/100\n",
            "17/18 [===========================>..] - ETA: 0s - loss: 117.6070INFO:tensorflow:Assets written to: model_experiments/model_6_dense_multivariate/assets\n"
          ]
        },
        {
          "output_type": "stream",
          "name": "stderr",
          "text": [
            "INFO:tensorflow:Assets written to: model_experiments/model_6_dense_multivariate/assets\n"
          ]
        },
        {
          "output_type": "stream",
          "name": "stdout",
          "text": [
            "18/18 [==============================] - 1s 38ms/step - loss: 116.9750 - val_loss: 617.1060\n",
            "Epoch 33/100\n",
            "18/18 [==============================] - 0s 6ms/step - loss: 115.2438 - val_loss: 649.0985\n",
            "Epoch 34/100\n",
            "18/18 [==============================] - 0s 5ms/step - loss: 114.5187 - val_loss: 632.1378\n",
            "Epoch 35/100\n",
            "18/18 [==============================] - ETA: 0s - loss: 113.6357INFO:tensorflow:Assets written to: model_experiments/model_6_dense_multivariate/assets\n"
          ]
        },
        {
          "output_type": "stream",
          "name": "stderr",
          "text": [
            "INFO:tensorflow:Assets written to: model_experiments/model_6_dense_multivariate/assets\n"
          ]
        },
        {
          "output_type": "stream",
          "name": "stdout",
          "text": [
            "18/18 [==============================] - 1s 39ms/step - loss: 113.6357 - val_loss: 607.4173\n",
            "Epoch 36/100\n",
            "18/18 [==============================] - 0s 6ms/step - loss: 115.2605 - val_loss: 626.4316\n",
            "Epoch 37/100\n",
            "17/18 [===========================>..] - ETA: 0s - loss: 112.8863INFO:tensorflow:Assets written to: model_experiments/model_6_dense_multivariate/assets\n"
          ]
        },
        {
          "output_type": "stream",
          "name": "stderr",
          "text": [
            "INFO:tensorflow:Assets written to: model_experiments/model_6_dense_multivariate/assets\n"
          ]
        },
        {
          "output_type": "stream",
          "name": "stdout",
          "text": [
            "18/18 [==============================] - 1s 38ms/step - loss: 113.7021 - val_loss: 606.2318\n",
            "Epoch 38/100\n",
            "16/18 [=========================>....] - ETA: 0s - loss: 111.5770INFO:tensorflow:Assets written to: model_experiments/model_6_dense_multivariate/assets\n"
          ]
        },
        {
          "output_type": "stream",
          "name": "stderr",
          "text": [
            "INFO:tensorflow:Assets written to: model_experiments/model_6_dense_multivariate/assets\n"
          ]
        },
        {
          "output_type": "stream",
          "name": "stdout",
          "text": [
            "18/18 [==============================] - 1s 39ms/step - loss: 111.4061 - val_loss: 603.2919\n",
            "Epoch 39/100\n",
            "16/18 [=========================>....] - ETA: 0s - loss: 114.5762INFO:tensorflow:Assets written to: model_experiments/model_6_dense_multivariate/assets\n"
          ]
        },
        {
          "output_type": "stream",
          "name": "stderr",
          "text": [
            "INFO:tensorflow:Assets written to: model_experiments/model_6_dense_multivariate/assets\n"
          ]
        },
        {
          "output_type": "stream",
          "name": "stdout",
          "text": [
            "18/18 [==============================] - 1s 40ms/step - loss: 112.7722 - val_loss: 596.0060\n",
            "Epoch 40/100\n",
            "16/18 [=========================>....] - ETA: 0s - loss: 110.6383INFO:tensorflow:Assets written to: model_experiments/model_6_dense_multivariate/assets\n"
          ]
        },
        {
          "output_type": "stream",
          "name": "stderr",
          "text": [
            "INFO:tensorflow:Assets written to: model_experiments/model_6_dense_multivariate/assets\n"
          ]
        },
        {
          "output_type": "stream",
          "name": "stdout",
          "text": [
            "18/18 [==============================] - 1s 38ms/step - loss: 110.5418 - val_loss: 593.2170\n",
            "Epoch 41/100\n",
            "18/18 [==============================] - 0s 6ms/step - loss: 110.8671 - val_loss: 609.1066\n",
            "Epoch 42/100\n",
            "18/18 [==============================] - 0s 6ms/step - loss: 115.7249 - val_loss: 607.4875\n",
            "Epoch 43/100\n",
            "18/18 [==============================] - 0s 6ms/step - loss: 111.3313 - val_loss: 606.2031\n",
            "Epoch 44/100\n",
            "17/18 [===========================>..] - ETA: 0s - loss: 110.1866INFO:tensorflow:Assets written to: model_experiments/model_6_dense_multivariate/assets\n"
          ]
        },
        {
          "output_type": "stream",
          "name": "stderr",
          "text": [
            "INFO:tensorflow:Assets written to: model_experiments/model_6_dense_multivariate/assets\n"
          ]
        },
        {
          "output_type": "stream",
          "name": "stdout",
          "text": [
            "18/18 [==============================] - 1s 39ms/step - loss: 109.7027 - val_loss: 586.1214\n",
            "Epoch 45/100\n",
            "18/18 [==============================] - 0s 7ms/step - loss: 107.8748 - val_loss: 593.8447\n",
            "Epoch 46/100\n",
            "18/18 [==============================] - 0s 5ms/step - loss: 109.8641 - val_loss: 586.4578\n",
            "Epoch 47/100\n",
            "18/18 [==============================] - 0s 5ms/step - loss: 112.3587 - val_loss: 655.4485\n",
            "Epoch 48/100\n",
            "18/18 [==============================] - 0s 6ms/step - loss: 109.1614 - val_loss: 598.7232\n",
            "Epoch 49/100\n",
            "18/18 [==============================] - 0s 5ms/step - loss: 109.3029 - val_loss: 589.2487\n",
            "Epoch 50/100\n",
            "18/18 [==============================] - 0s 5ms/step - loss: 111.1971 - val_loss: 649.3792\n",
            "Epoch 51/100\n",
            "18/18 [==============================] - 0s 5ms/step - loss: 110.8514 - val_loss: 602.7665\n",
            "Epoch 52/100\n",
            "18/18 [==============================] - 0s 5ms/step - loss: 111.8331 - val_loss: 599.2959\n",
            "Epoch 53/100\n",
            "18/18 [==============================] - 0s 6ms/step - loss: 110.8895 - val_loss: 652.1638\n",
            "Epoch 54/100\n",
            "18/18 [==============================] - 0s 6ms/step - loss: 113.8169 - val_loss: 600.8455\n",
            "Epoch 55/100\n",
            "15/18 [========================>.....] - ETA: 0s - loss: 114.1359INFO:tensorflow:Assets written to: model_experiments/model_6_dense_multivariate/assets\n"
          ]
        },
        {
          "output_type": "stream",
          "name": "stderr",
          "text": [
            "INFO:tensorflow:Assets written to: model_experiments/model_6_dense_multivariate/assets\n"
          ]
        },
        {
          "output_type": "stream",
          "name": "stdout",
          "text": [
            "18/18 [==============================] - 1s 38ms/step - loss: 110.4069 - val_loss: 575.7751\n",
            "Epoch 56/100\n",
            "18/18 [==============================] - 0s 6ms/step - loss: 108.6609 - val_loss: 785.9759\n",
            "Epoch 57/100\n",
            "18/18 [==============================] - 0s 6ms/step - loss: 124.9824 - val_loss: 670.3788\n",
            "Epoch 58/100\n",
            "18/18 [==============================] - 0s 6ms/step - loss: 112.8591 - val_loss: 580.2875\n",
            "Epoch 59/100\n",
            "18/18 [==============================] - 0s 7ms/step - loss: 107.2513 - val_loss: 597.5087\n",
            "Epoch 60/100\n",
            "18/18 [==============================] - 0s 5ms/step - loss: 109.2322 - val_loss: 632.2953\n",
            "Epoch 61/100\n",
            "18/18 [==============================] - 0s 6ms/step - loss: 109.3519 - val_loss: 591.5410\n",
            "Epoch 62/100\n",
            "18/18 [==============================] - 0s 5ms/step - loss: 108.4084 - val_loss: 617.5808\n",
            "Epoch 63/100\n",
            "18/18 [==============================] - 0s 5ms/step - loss: 113.5326 - val_loss: 613.1470\n",
            "Epoch 64/100\n",
            "18/18 [==============================] - 0s 5ms/step - loss: 110.6625 - val_loss: 689.1794\n",
            "Epoch 65/100\n",
            "16/18 [=========================>....] - ETA: 0s - loss: 111.6607INFO:tensorflow:Assets written to: model_experiments/model_6_dense_multivariate/assets\n"
          ]
        },
        {
          "output_type": "stream",
          "name": "stderr",
          "text": [
            "INFO:tensorflow:Assets written to: model_experiments/model_6_dense_multivariate/assets\n"
          ]
        },
        {
          "output_type": "stream",
          "name": "stdout",
          "text": [
            "18/18 [==============================] - 1s 39ms/step - loss: 112.0475 - val_loss: 575.5543\n",
            "Epoch 66/100\n",
            "18/18 [==============================] - 0s 5ms/step - loss: 111.2830 - val_loss: 590.7806\n",
            "Epoch 67/100\n",
            "18/18 [==============================] - 0s 5ms/step - loss: 106.7917 - val_loss: 586.8845\n",
            "Epoch 68/100\n",
            "18/18 [==============================] - 0s 5ms/step - loss: 112.2987 - val_loss: 696.5294\n",
            "Epoch 69/100\n",
            "18/18 [==============================] - 0s 6ms/step - loss: 124.7808 - val_loss: 698.5267\n",
            "Epoch 70/100\n",
            "18/18 [==============================] - 0s 6ms/step - loss: 119.3443 - val_loss: 581.2104\n",
            "Epoch 71/100\n",
            "18/18 [==============================] - 0s 5ms/step - loss: 109.9960 - val_loss: 607.6739\n",
            "Epoch 72/100\n",
            "18/18 [==============================] - ETA: 0s - loss: 106.7710INFO:tensorflow:Assets written to: model_experiments/model_6_dense_multivariate/assets\n"
          ]
        },
        {
          "output_type": "stream",
          "name": "stderr",
          "text": [
            "INFO:tensorflow:Assets written to: model_experiments/model_6_dense_multivariate/assets\n"
          ]
        },
        {
          "output_type": "stream",
          "name": "stdout",
          "text": [
            "18/18 [==============================] - 1s 38ms/step - loss: 106.7710 - val_loss: 573.6144\n",
            "Epoch 73/100\n",
            "18/18 [==============================] - 0s 6ms/step - loss: 110.2485 - val_loss: 618.8955\n",
            "Epoch 74/100\n",
            "18/18 [==============================] - 0s 6ms/step - loss: 105.5330 - val_loss: 574.9454\n",
            "Epoch 75/100\n",
            "18/18 [==============================] - 0s 6ms/step - loss: 107.3177 - val_loss: 606.1973\n",
            "Epoch 76/100\n",
            "18/18 [==============================] - 0s 5ms/step - loss: 107.8084 - val_loss: 582.2406\n",
            "Epoch 77/100\n",
            "17/18 [===========================>..] - ETA: 0s - loss: 108.0617INFO:tensorflow:Assets written to: model_experiments/model_6_dense_multivariate/assets\n"
          ]
        },
        {
          "output_type": "stream",
          "name": "stderr",
          "text": [
            "INFO:tensorflow:Assets written to: model_experiments/model_6_dense_multivariate/assets\n"
          ]
        },
        {
          "output_type": "stream",
          "name": "stdout",
          "text": [
            "18/18 [==============================] - 1s 41ms/step - loss: 107.2528 - val_loss: 571.8563\n",
            "Epoch 78/100\n",
            "18/18 [==============================] - 0s 5ms/step - loss: 106.2309 - val_loss: 572.2827\n",
            "Epoch 79/100\n",
            "18/18 [==============================] - 0s 5ms/step - loss: 105.8568 - val_loss: 596.5464\n",
            "Epoch 80/100\n",
            "18/18 [==============================] - 0s 5ms/step - loss: 107.8419 - val_loss: 577.2399\n",
            "Epoch 81/100\n",
            "17/18 [===========================>..] - ETA: 0s - loss: 104.7597INFO:tensorflow:Assets written to: model_experiments/model_6_dense_multivariate/assets\n"
          ]
        },
        {
          "output_type": "stream",
          "name": "stderr",
          "text": [
            "INFO:tensorflow:Assets written to: model_experiments/model_6_dense_multivariate/assets\n"
          ]
        },
        {
          "output_type": "stream",
          "name": "stdout",
          "text": [
            "18/18 [==============================] - 1s 38ms/step - loss: 105.1101 - val_loss: 568.4897\n",
            "Epoch 82/100\n",
            "18/18 [==============================] - 0s 5ms/step - loss: 114.1867 - val_loss: 592.5613\n",
            "Epoch 83/100\n",
            "18/18 [==============================] - 0s 5ms/step - loss: 107.9631 - val_loss: 651.6219\n",
            "Epoch 84/100\n",
            "18/18 [==============================] - 0s 5ms/step - loss: 109.6690 - val_loss: 568.9339\n",
            "Epoch 85/100\n",
            "18/18 [==============================] - 0s 5ms/step - loss: 105.8219 - val_loss: 571.5331\n",
            "Epoch 86/100\n",
            "18/18 [==============================] - 0s 6ms/step - loss: 104.8628 - val_loss: 579.3857\n",
            "Epoch 87/100\n",
            "18/18 [==============================] - 0s 5ms/step - loss: 104.7148 - val_loss: 582.9182\n",
            "Epoch 88/100\n",
            "18/18 [==============================] - 0s 6ms/step - loss: 106.8899 - val_loss: 569.0820\n",
            "Epoch 89/100\n",
            "18/18 [==============================] - 0s 6ms/step - loss: 105.4376 - val_loss: 569.3439\n",
            "Epoch 90/100\n",
            "18/18 [==============================] - 0s 6ms/step - loss: 105.1590 - val_loss: 599.0223\n",
            "Epoch 91/100\n",
            "18/18 [==============================] - 0s 6ms/step - loss: 112.2914 - val_loss: 618.5323\n",
            "Epoch 92/100\n",
            "18/18 [==============================] - 0s 5ms/step - loss: 107.1306 - val_loss: 591.9585\n",
            "Epoch 93/100\n",
            "18/18 [==============================] - 0s 5ms/step - loss: 115.7380 - val_loss: 639.2229\n",
            "Epoch 94/100\n",
            "18/18 [==============================] - 0s 6ms/step - loss: 108.3453 - val_loss: 578.5887\n",
            "Epoch 95/100\n",
            "17/18 [===========================>..] - ETA: 0s - loss: 103.5145INFO:tensorflow:Assets written to: model_experiments/model_6_dense_multivariate/assets\n"
          ]
        },
        {
          "output_type": "stream",
          "name": "stderr",
          "text": [
            "INFO:tensorflow:Assets written to: model_experiments/model_6_dense_multivariate/assets\n"
          ]
        },
        {
          "output_type": "stream",
          "name": "stdout",
          "text": [
            "18/18 [==============================] - 1s 38ms/step - loss: 104.2910 - val_loss: 568.2687\n",
            "Epoch 96/100\n",
            "18/18 [==============================] - 0s 5ms/step - loss: 106.5346 - val_loss: 606.5489\n",
            "Epoch 97/100\n",
            "18/18 [==============================] - 0s 6ms/step - loss: 107.1290 - val_loss: 585.3787\n",
            "Epoch 98/100\n",
            "18/18 [==============================] - 0s 6ms/step - loss: 105.8151 - val_loss: 574.4833\n",
            "Epoch 99/100\n",
            "16/18 [=========================>....] - ETA: 0s - loss: 104.3112INFO:tensorflow:Assets written to: model_experiments/model_6_dense_multivariate/assets\n"
          ]
        },
        {
          "output_type": "stream",
          "name": "stderr",
          "text": [
            "INFO:tensorflow:Assets written to: model_experiments/model_6_dense_multivariate/assets\n"
          ]
        },
        {
          "output_type": "stream",
          "name": "stdout",
          "text": [
            "18/18 [==============================] - 1s 38ms/step - loss: 105.8276 - val_loss: 567.5863\n",
            "Epoch 100/100\n",
            "18/18 [==============================] - 0s 6ms/step - loss: 114.9743 - val_loss: 654.9892\n"
          ]
        },
        {
          "output_type": "execute_result",
          "data": {
            "text/plain": [
              "<keras.callbacks.History at 0x7fd7cfc4f2d0>"
            ]
          },
          "metadata": {},
          "execution_count": 120
        }
      ]
    },
    {
      "cell_type": "code",
      "metadata": {
        "colab": {
          "base_uri": "https://localhost:8080/"
        },
        "id": "xHzKabS30q8U",
        "outputId": "60bd4e7d-1199-44c0-ee5f-a9f306709d51"
      },
      "source": [
        "# Evaluate mulitivariate model\n",
        "model_6.evaluate(X_test, y_test)"
      ],
      "execution_count": 121,
      "outputs": [
        {
          "output_type": "stream",
          "name": "stdout",
          "text": [
            "18/18 [==============================] - 0s 2ms/step - loss: 654.9892\n"
          ]
        },
        {
          "output_type": "execute_result",
          "data": {
            "text/plain": [
              "654.9891967773438"
            ]
          },
          "metadata": {},
          "execution_count": 121
        }
      ]
    },
    {
      "cell_type": "code",
      "metadata": {
        "colab": {
          "base_uri": "https://localhost:8080/"
        },
        "id": "B6FOvzB00038",
        "outputId": "cd4895c9-afd7-4063-9ee0-b5a58a5b275b"
      },
      "source": [
        "# Load in and evaluate best performing model\n",
        "model_6 = tf.keras.models.load_model('model_experiments/model_6_dense_multivariate')\n",
        "model_6.evaluate(X_test, y_test)"
      ],
      "execution_count": 124,
      "outputs": [
        {
          "output_type": "stream",
          "name": "stdout",
          "text": [
            "18/18 [==============================] - 0s 3ms/step - loss: 567.5862\n"
          ]
        },
        {
          "output_type": "execute_result",
          "data": {
            "text/plain": [
              "567.5862426757812"
            ]
          },
          "metadata": {},
          "execution_count": 124
        }
      ]
    },
    {
      "cell_type": "code",
      "metadata": {
        "colab": {
          "base_uri": "https://localhost:8080/"
        },
        "id": "XoS1TzZA1LLF",
        "outputId": "256287c8-5e62-431d-d26c-a15bfc948b68"
      },
      "source": [
        "# Make predictions with multivariate model\n",
        "model_6_preds = tf.squeeze(model_6.predict(X_test))\n",
        "model_6_preds[:10]"
      ],
      "execution_count": 125,
      "outputs": [
        {
          "output_type": "execute_result",
          "data": {
            "text/plain": [
              "<tf.Tensor: shape=(10,), dtype=float32, numpy=\n",
              "array([8836.276, 8763.8  , 9040.486, 8741.225, 8719.326, 8765.071,\n",
              "       8661.102, 8496.891, 8463.231, 8521.585], dtype=float32)>"
            ]
          },
          "metadata": {},
          "execution_count": 125
        }
      ]
    },
    {
      "cell_type": "code",
      "metadata": {
        "colab": {
          "base_uri": "https://localhost:8080/"
        },
        "id": "8d2NmEk51qMP",
        "outputId": "73e85e37-5ef1-4359-e27c-a12949ab420b"
      },
      "source": [
        "# Evaluate predictions to get eval metrics\n",
        "model_6_results = evaluate_preds(y_true=y_test,\n",
        "                                 y_pred=model_6_preds)\n",
        "model_6_results"
      ],
      "execution_count": 126,
      "outputs": [
        {
          "output_type": "execute_result",
          "data": {
            "text/plain": [
              "{'mae': 567.5863,\n",
              " 'mape': 2.5413754,\n",
              " 'mase': 0.99709195,\n",
              " 'mse': 1161687.2,\n",
              " 'rmse': 1077.816}"
            ]
          },
          "metadata": {},
          "execution_count": 126
        }
      ]
    },
    {
      "cell_type": "code",
      "metadata": {
        "colab": {
          "base_uri": "https://localhost:8080/"
        },
        "id": "UxDjdAG413va",
        "outputId": "24efa62a-77ce-473c-a0dc-a2a296580a4f"
      },
      "source": [
        "model_1_results"
      ],
      "execution_count": 127,
      "outputs": [
        {
          "output_type": "execute_result",
          "data": {
            "text/plain": [
              "{'mae': 568.95123,\n",
              " 'mape': 568.95123,\n",
              " 'mase': 0.9994897,\n",
              " 'mse': 1171744.0,\n",
              " 'rmse': 1082.4713}"
            ]
          },
          "metadata": {},
          "execution_count": 127
        }
      ]
    },
    {
      "cell_type": "code",
      "metadata": {
        "colab": {
          "base_uri": "https://localhost:8080/"
        },
        "id": "DoWxcryt17D0",
        "outputId": "f5cae547-9fe7-41a0-89db-ccf4aaa8f485"
      },
      "source": [
        "naive_results"
      ],
      "execution_count": 128,
      "outputs": [
        {
          "output_type": "execute_result",
          "data": {
            "text/plain": [
              "{'mae': 567.9802,\n",
              " 'mape': 567.9802,\n",
              " 'mase': 0.99957,\n",
              " 'mse': 1147547.0,\n",
              " 'rmse': 1071.2362}"
            ]
          },
          "metadata": {},
          "execution_count": 128
        }
      ]
    },
    {
      "cell_type": "markdown",
      "metadata": {
        "id": "mipmAen52GJ6"
      },
      "source": [
        "For a challenge on different way to improve the multivariate time series model, see the reference here: https://dev.mrdbourke.com/tensorflow-deep-learning/09_SkimLit_nlp_milestone_project_2/#model-4-combining-pretrained-token-embeddings-character-embeddings-hybrid-embedding-layer"
      ]
    },
    {
      "cell_type": "markdown",
      "metadata": {
        "id": "7omcUBSj3cp8"
      },
      "source": [
        "## Model 7: N-BEATS alogorithm\n",
        "\n",
        "Let's now try build the biggest baddest (though maybe not the baddest, as in, it performs really well...) time series forecasting model we have built so far.\n",
        "\n",
        "More specifically, we are going to be replicating the algorithm in Figure 1 from the follwing paper: https://arxiv.og/pdf/1905.10437.pdf\n",
        "\n",
        "Why?\n",
        "\n",
        "* This will allow us to practice replicating a paper with \n",
        "* We will see how to use TensorFlow layer subclassing (to make our own custom layers)"
      ]
    },
    {
      "cell_type": "markdown",
      "metadata": {
        "id": "qklQAHCb9VV8"
      },
      "source": [
        "### Building and testing the N-BEATS block layer\n",
        "\n",
        "Because teh N-BEATS block layer doesn't exist in TensorFlow, and to create custom layers in TensorFlow we can use subclassing: https://www.tensorflow.org/guide/keras/custom_layers_and_models\n",
        "\n"
      ]
    },
    {
      "cell_type": "code",
      "metadata": {
        "id": "MO4sNFIy9e-O"
      },
      "source": [
        "# Create NBeatsBlock custom layer\n",
        "class NBeatsBlock(tf.keras.layers.Layer):\n",
        "  def __init__(self,\n",
        "               input_size:int,\n",
        "               theta_size:int,\n",
        "               horizon: int,\n",
        "               n_neurons: int,\n",
        "               n_layers: int,\n",
        "               **kwargs): # the **kwargs argument takes care of all the arguments for the parent class (input_shape, trainable, name etc)\n",
        "    super().__init__(**kwargs)\n",
        "    self.input_size = input_size\n",
        "    self.theta_size = theta_size\n",
        "    self.horizon = horizon\n",
        "    self.n_neurons = n_neurons\n",
        "    self.n_layers = n_layers\n",
        "\n",
        "    # Block contains stack of 4 fully connect layers each has ReLu activation\n",
        "    self.hidden = [tf.keras.layers.Dense(n_neurons, activation='relu') for _ in range(n_layers)]\n",
        "    # Output of block is a theta layer with linear activation\n",
        "    self.theta_layer = tf.keras.layers.Dense(theta_size, activation='linear', name='theta')\n",
        "\n",
        "  def call(self, inputs):\n",
        "    x = inputs\n",
        "    for layer in self.hidden:\n",
        "      x = layer(x)\n",
        "    theta = self.theta_layer(x)\n",
        "    # Output the backcast and the forecast from theta\n",
        "    backcast, forecast = theta[:, :self.input_size], theta[:, -self.horizon:]\n",
        "    return backcast, forecast               "
      ],
      "execution_count": 135,
      "outputs": []
    },
    {
      "cell_type": "markdown",
      "metadata": {
        "id": "KftJtmdgAE01"
      },
      "source": [
        "Let's test our NBeatsBlock class.\n",
        "\n",
        "To do so, we will make some dummy inputs and outuputs"
      ]
    },
    {
      "cell_type": "code",
      "metadata": {
        "id": "bCADnaPMDNbh"
      },
      "source": [
        "# Setup dummpy NBeatsBlock layer to represent inputs and outputs\n",
        "dummy_nbeats_stack_layer = NBeatsBlock(input_size=WINDOW_SIZE,\n",
        "                                       theta_size=WINDOW_SIZE + HORIZON, # backcast + forecast\n",
        "                                       horizon=HORIZON,\n",
        "                                       n_neurons=128,\n",
        "                                       n_layers=4)"
      ],
      "execution_count": 136,
      "outputs": []
    },
    {
      "cell_type": "code",
      "metadata": {
        "colab": {
          "base_uri": "https://localhost:8080/"
        },
        "id": "PAG8n05GEDYq",
        "outputId": "8d775b18-2faf-4b56-b949-f063298509dd"
      },
      "source": [
        "# Create dummy inputs (have to be same size as input_size)\n",
        "dummy_inputs = tf.expand_dims(tf.range(WINDOW_SIZE) + 1, axis=0) # input shape to the model has to reflect dense layer input requirments (ndim=2)\n",
        "dummy_inputs"
      ],
      "execution_count": 138,
      "outputs": [
        {
          "output_type": "execute_result",
          "data": {
            "text/plain": [
              "<tf.Tensor: shape=(1, 7), dtype=int32, numpy=array([[1, 2, 3, 4, 5, 6, 7]], dtype=int32)>"
            ]
          },
          "metadata": {},
          "execution_count": 138
        }
      ]
    },
    {
      "cell_type": "code",
      "metadata": {
        "colab": {
          "base_uri": "https://localhost:8080/"
        },
        "id": "EFhI_6-PEtPH",
        "outputId": "57780cf3-d7c5-4ebd-a78c-cce8cae58b42"
      },
      "source": [
        "# Pass dummy inputs to dummy NBeatsBlock layer\n",
        "backcast, forecast = dummy_nbeats_stack_layer(dummy_inputs)\n",
        "# These are the activation outputs of the theta layer (they'll be random due to no training of the model)\n",
        "print(f'Backfast: {tf.squeeze(backcast.numpy())}')\n",
        "print(f'Backfast: {tf.squeeze(forecast.numpy())}')"
      ],
      "execution_count": 139,
      "outputs": [
        {
          "output_type": "stream",
          "name": "stdout",
          "text": [
            "Backfast: [-0.4634872   0.10944451 -0.4335534   0.93602407 -0.35703534 -0.17927621\n",
            " -0.34048355]\n",
            "Backfast: -0.4397900700569153\n"
          ]
        }
      ]
    },
    {
      "cell_type": "markdown",
      "metadata": {
        "id": "P4aHswb1FMNq"
      },
      "source": [
        "### Preparing data for the N-BEATS algorithm using `tf.data`\n",
        "\n",
        "To make our input data load as fast as possible we are going to be adhering to the performant data pipeline steps in the tf.data guide: https://www.tensorflow.org/guide/data_performance"
      ]
    },
    {
      "cell_type": "code",
      "metadata": {
        "id": "Gl8nNjjaGT9t"
      },
      "source": [
        "HORIZON = 1\n",
        "WINDOW_SIZE = 7"
      ],
      "execution_count": 140,
      "outputs": []
    },
    {
      "cell_type": "code",
      "metadata": {
        "colab": {
          "base_uri": "https://localhost:8080/",
          "height": 238
        },
        "id": "nuFGxJBSGcFX",
        "outputId": "3898c3b1-ac13-48db-c126-e4815518b20d"
      },
      "source": [
        "bitcoin_prices.head()"
      ],
      "execution_count": 141,
      "outputs": [
        {
          "output_type": "execute_result",
          "data": {
            "text/html": [
              "<div>\n",
              "<style scoped>\n",
              "    .dataframe tbody tr th:only-of-type {\n",
              "        vertical-align: middle;\n",
              "    }\n",
              "\n",
              "    .dataframe tbody tr th {\n",
              "        vertical-align: top;\n",
              "    }\n",
              "\n",
              "    .dataframe thead th {\n",
              "        text-align: right;\n",
              "    }\n",
              "</style>\n",
              "<table border=\"1\" class=\"dataframe\">\n",
              "  <thead>\n",
              "    <tr style=\"text-align: right;\">\n",
              "      <th></th>\n",
              "      <th>Price</th>\n",
              "    </tr>\n",
              "    <tr>\n",
              "      <th>Date</th>\n",
              "      <th></th>\n",
              "    </tr>\n",
              "  </thead>\n",
              "  <tbody>\n",
              "    <tr>\n",
              "      <th>2013-10-01</th>\n",
              "      <td>123.65499</td>\n",
              "    </tr>\n",
              "    <tr>\n",
              "      <th>2013-10-02</th>\n",
              "      <td>125.45500</td>\n",
              "    </tr>\n",
              "    <tr>\n",
              "      <th>2013-10-03</th>\n",
              "      <td>108.58483</td>\n",
              "    </tr>\n",
              "    <tr>\n",
              "      <th>2013-10-04</th>\n",
              "      <td>118.67466</td>\n",
              "    </tr>\n",
              "    <tr>\n",
              "      <th>2013-10-05</th>\n",
              "      <td>121.33866</td>\n",
              "    </tr>\n",
              "  </tbody>\n",
              "</table>\n",
              "</div>"
            ],
            "text/plain": [
              "                Price\n",
              "Date                 \n",
              "2013-10-01  123.65499\n",
              "2013-10-02  125.45500\n",
              "2013-10-03  108.58483\n",
              "2013-10-04  118.67466\n",
              "2013-10-05  121.33866"
            ]
          },
          "metadata": {},
          "execution_count": 141
        }
      ]
    },
    {
      "cell_type": "code",
      "metadata": {
        "colab": {
          "base_uri": "https://localhost:8080/",
          "height": 238
        },
        "id": "wcBlPebwGhT_",
        "outputId": "91e595e7-be8b-4813-a4a0-52e1244a35b3"
      },
      "source": [
        "# Add windowd columns\n",
        "bitcoin_prices_nbeats = bitcoin_prices.copy()\n",
        "for i in range(WINDOW_SIZE):\n",
        "  bitcoin_prices_nbeats[f'Price+{i+1}'] = bitcoin_prices_nbeats['Price'].shift(periods=i+1)\n",
        "bitcoin_prices_nbeats.head()  "
      ],
      "execution_count": 143,
      "outputs": [
        {
          "output_type": "execute_result",
          "data": {
            "text/html": [
              "<div>\n",
              "<style scoped>\n",
              "    .dataframe tbody tr th:only-of-type {\n",
              "        vertical-align: middle;\n",
              "    }\n",
              "\n",
              "    .dataframe tbody tr th {\n",
              "        vertical-align: top;\n",
              "    }\n",
              "\n",
              "    .dataframe thead th {\n",
              "        text-align: right;\n",
              "    }\n",
              "</style>\n",
              "<table border=\"1\" class=\"dataframe\">\n",
              "  <thead>\n",
              "    <tr style=\"text-align: right;\">\n",
              "      <th></th>\n",
              "      <th>Price</th>\n",
              "      <th>Price+1</th>\n",
              "      <th>Price+2</th>\n",
              "      <th>Price+3</th>\n",
              "      <th>Price+4</th>\n",
              "      <th>Price+5</th>\n",
              "      <th>Price+6</th>\n",
              "      <th>Price+7</th>\n",
              "    </tr>\n",
              "    <tr>\n",
              "      <th>Date</th>\n",
              "      <th></th>\n",
              "      <th></th>\n",
              "      <th></th>\n",
              "      <th></th>\n",
              "      <th></th>\n",
              "      <th></th>\n",
              "      <th></th>\n",
              "      <th></th>\n",
              "    </tr>\n",
              "  </thead>\n",
              "  <tbody>\n",
              "    <tr>\n",
              "      <th>2013-10-01</th>\n",
              "      <td>123.65499</td>\n",
              "      <td>NaN</td>\n",
              "      <td>NaN</td>\n",
              "      <td>NaN</td>\n",
              "      <td>NaN</td>\n",
              "      <td>NaN</td>\n",
              "      <td>NaN</td>\n",
              "      <td>NaN</td>\n",
              "    </tr>\n",
              "    <tr>\n",
              "      <th>2013-10-02</th>\n",
              "      <td>125.45500</td>\n",
              "      <td>123.65499</td>\n",
              "      <td>NaN</td>\n",
              "      <td>NaN</td>\n",
              "      <td>NaN</td>\n",
              "      <td>NaN</td>\n",
              "      <td>NaN</td>\n",
              "      <td>NaN</td>\n",
              "    </tr>\n",
              "    <tr>\n",
              "      <th>2013-10-03</th>\n",
              "      <td>108.58483</td>\n",
              "      <td>125.45500</td>\n",
              "      <td>123.65499</td>\n",
              "      <td>NaN</td>\n",
              "      <td>NaN</td>\n",
              "      <td>NaN</td>\n",
              "      <td>NaN</td>\n",
              "      <td>NaN</td>\n",
              "    </tr>\n",
              "    <tr>\n",
              "      <th>2013-10-04</th>\n",
              "      <td>118.67466</td>\n",
              "      <td>108.58483</td>\n",
              "      <td>125.45500</td>\n",
              "      <td>123.65499</td>\n",
              "      <td>NaN</td>\n",
              "      <td>NaN</td>\n",
              "      <td>NaN</td>\n",
              "      <td>NaN</td>\n",
              "    </tr>\n",
              "    <tr>\n",
              "      <th>2013-10-05</th>\n",
              "      <td>121.33866</td>\n",
              "      <td>118.67466</td>\n",
              "      <td>108.58483</td>\n",
              "      <td>125.45500</td>\n",
              "      <td>123.65499</td>\n",
              "      <td>NaN</td>\n",
              "      <td>NaN</td>\n",
              "      <td>NaN</td>\n",
              "    </tr>\n",
              "  </tbody>\n",
              "</table>\n",
              "</div>"
            ],
            "text/plain": [
              "                Price    Price+1    Price+2  ...  Price+5  Price+6  Price+7\n",
              "Date                                         ...                           \n",
              "2013-10-01  123.65499        NaN        NaN  ...      NaN      NaN      NaN\n",
              "2013-10-02  125.45500  123.65499        NaN  ...      NaN      NaN      NaN\n",
              "2013-10-03  108.58483  125.45500  123.65499  ...      NaN      NaN      NaN\n",
              "2013-10-04  118.67466  108.58483  125.45500  ...      NaN      NaN      NaN\n",
              "2013-10-05  121.33866  118.67466  108.58483  ...      NaN      NaN      NaN\n",
              "\n",
              "[5 rows x 8 columns]"
            ]
          },
          "metadata": {},
          "execution_count": 143
        }
      ]
    },
    {
      "cell_type": "code",
      "metadata": {
        "colab": {
          "base_uri": "https://localhost:8080/"
        },
        "id": "vA_sTXvUG8mT",
        "outputId": "bf290090-e631-4f78-a69f-2625a0c78ab5"
      },
      "source": [
        "# Make features and labels\n",
        "X = bitcoin_prices_nbeats.dropna().drop('Price', axis=1)\n",
        "y = bitcoin_prices_nbeats.dropna()['Price']\n",
        "\n",
        "# Make train and test sets\n",
        "split_size = int(len(X) * 0.8)\n",
        "X_train, y_train = X[:split_size], y[:split_size]\n",
        "X_test, y_test = X[split_size:], y[split_size:]\n",
        "len(X_train), len(y_train), len(X_test), len(y_test)"
      ],
      "execution_count": 144,
      "outputs": [
        {
          "output_type": "execute_result",
          "data": {
            "text/plain": [
              "(2224, 2224, 556, 556)"
            ]
          },
          "metadata": {},
          "execution_count": 144
        }
      ]
    },
    {
      "cell_type": "code",
      "metadata": {
        "colab": {
          "base_uri": "https://localhost:8080/"
        },
        "id": "ebXoWgMWHY7x",
        "outputId": "433aa5f0-007a-4189-8be6-123ad9fbe7ee"
      },
      "source": [
        "# Time to make our dataset performant using tf.data API\n",
        "train_features_dataset = tf.data.Dataset.from_tensor_slices(X_train)\n",
        "train_labels_dataset = tf.data.Dataset.from_tensor_slices(y_train)\n",
        "\n",
        "test_features_dataset = tf.data.Dataset.from_tensor_slices(X_test)\n",
        "test_labels_dataset = tf.data.Dataset.from_tensor_slices(y_test)\n",
        "\n",
        "# Combine labels and features by zipping together -> (features, labels)\n",
        "train_dataset = tf.data.Dataset.zip((train_features_dataset, train_labels_dataset))\n",
        "test_dataset = tf.data.Dataset.zip((test_features_dataset, test_labels_dataset))\n",
        "\n",
        "# Batch and prefetch\n",
        "BATCH_SIZE = 1024\n",
        "train_dataset = train_dataset.batch(BATCH_SIZE).prefetch(tf.data.AUTOTUNE)\n",
        "test_dataset = test_dataset.batch(BATCH_SIZE).prefetch(tf.data.AUTOTUNE)\n",
        "\n",
        "train_dataset, test_dataset"
      ],
      "execution_count": 146,
      "outputs": [
        {
          "output_type": "execute_result",
          "data": {
            "text/plain": [
              "(<PrefetchDataset shapes: ((None, 7), (None,)), types: (tf.float64, tf.float64)>,\n",
              " <PrefetchDataset shapes: ((None, 7), (None,)), types: (tf.float64, tf.float64)>)"
            ]
          },
          "metadata": {},
          "execution_count": 146
        }
      ]
    },
    {
      "cell_type": "markdown",
      "metadata": {
        "id": "6NJDMY7PJRv6"
      },
      "source": [
        "### Setting up hyperparameters for N-BEATS algorithm\n",
        "\n",
        "The N-BEATS algorithm has a fair few number of parameters, many of them can be found in Table 18:"
      ]
    },
    {
      "cell_type": "code",
      "metadata": {
        "colab": {
          "base_uri": "https://localhost:8080/"
        },
        "id": "TV74ruv4JhIO",
        "outputId": "6c068e7d-63ac-4622-f5a5-7b6fa2abacb0"
      },
      "source": [
        "# Values from N-BEATS paper\n",
        "N_EPOCHS = 5000\n",
        "N_NEURONS = 512\n",
        "N_LAYERS = 4\n",
        "N_STACKS = 30\n",
        "\n",
        "INPUT_SIZE = WINDOW_SIZE * HORIZON\n",
        "THETA_SIZE = INPUT_SIZE + HORIZON\n",
        "\n",
        "INPUT_SIZE, THETA_SIZE"
      ],
      "execution_count": 147,
      "outputs": [
        {
          "output_type": "execute_result",
          "data": {
            "text/plain": [
              "(7, 8)"
            ]
          },
          "metadata": {},
          "execution_count": 147
        }
      ]
    },
    {
      "cell_type": "markdown",
      "metadata": {
        "id": "idc3F62PLEwn"
      },
      "source": [
        "### Getting ready for residual connections\n",
        "\n",
        "Before we can craft our N-BEATS model, we need two layers for the residual connections (subtract and add).\n",
        "\n",
        "The N-BEATS algorithm uses double residual stacking to help train its deeper architecture (section 3.2 of N-BEATS paper).\n",
        "\n",
        "for more on residual paper, see this: "
      ]
    },
    {
      "cell_type": "code",
      "metadata": {
        "colab": {
          "base_uri": "https://localhost:8080/"
        },
        "id": "TB81I6oGLirY",
        "outputId": "eb9e839a-7af3-4a31-8f13-20dbd0579003"
      },
      "source": [
        "# Make tensors\n",
        "tensor_1 = tf.range(10) + 10\n",
        "tensor_2 = tf.range(10)\n",
        "\n",
        "# Subtract\n",
        "subtracted = layers.subtract([tensor_1, tensor_2])\n",
        "\n",
        "# Add\n",
        "added = layers.add([tensor_1, tensor_2])\n",
        "\n",
        "# Get outputs\n",
        "print(f'Input tenosors: {tensor_1.numpy()} & {tensor_2.numpy()}')\n",
        "print(f'Subtracted: {subtracted.numpy()}')\n",
        "print(f'Added: {added.numpy()}')"
      ],
      "execution_count": 148,
      "outputs": [
        {
          "output_type": "stream",
          "name": "stdout",
          "text": [
            "Input tenosors: [10 11 12 13 14 15 16 17 18 19] & [0 1 2 3 4 5 6 7 8 9]\n",
            "Subtracted: [10 10 10 10 10 10 10 10 10 10]\n",
            "Added: [10 12 14 16 18 20 22 24 26 28]\n"
          ]
        }
      ]
    },
    {
      "cell_type": "code",
      "metadata": {
        "colab": {
          "base_uri": "https://localhost:8080/"
        },
        "id": "md__ASVwN-bL",
        "outputId": "7944a497-55ce-47ee-deea-50310203a275"
      },
      "source": [
        "tensor_1, tensor_2"
      ],
      "execution_count": 149,
      "outputs": [
        {
          "output_type": "execute_result",
          "data": {
            "text/plain": [
              "(<tf.Tensor: shape=(10,), dtype=int32, numpy=array([10, 11, 12, 13, 14, 15, 16, 17, 18, 19], dtype=int32)>,\n",
              " <tf.Tensor: shape=(10,), dtype=int32, numpy=array([0, 1, 2, 3, 4, 5, 6, 7, 8, 9], dtype=int32)>)"
            ]
          },
          "metadata": {},
          "execution_count": 149
        }
      ]
    },
    {
      "cell_type": "markdown",
      "metadata": {
        "id": "akKMbQWYOB8r"
      },
      "source": [
        "### Building, compiling and fitting the N-BEATS algorithm\n",
        "\n",
        "1. Setup an instance of the N-BEATS block layer using `NBeatsblock` (this will be the initial block used for the network, the rest will be created as part of stacks).\n",
        "2. Create an input layer for the N-BEATS stack (we will be using the Keras Functional API).\n",
        "3. Make the initial backcast and forecast for the model with the layer created in (1).\n",
        "4. Use for loop to create stacks of block layers.\n",
        "5. Use the `NBeatsBlock` class within the for loop in (4) to create blocks which return backcast and block-level forecasts.\n",
        "6. Create the double residual stacking using subtract and add layers.\n",
        "7. Put the model inputs and outputs together using `tf.keras.Model()`\n",
        "8. Compile the model with MAE loss (the paper uses multiple losses but we will use MAE to keep it inline with our other models) and Adam optimizer with default setting as per section 5.2 of the N-BEATS paper\n",
        "9. fit the N-BEATS model for 5000 epochs and since it's fitting for so many epochs, we will use a couple of callbacks.\n",
        "  * Early Stopping - because the model will be training for so long, we will stop it ealy if it stops improving\n",
        "  * Reduce LR on Plateau - if a model stops improving, try lowering the learning to reduce the amount it updates its weights each time (lake smaller steps towards best performance)."
      ]
    },
    {
      "cell_type": "code",
      "metadata": {
        "colab": {
          "base_uri": "https://localhost:8080/"
        },
        "id": "ai7XMhyFOu2W",
        "outputId": "b9213957-bcdc-4c8a-c8f3-62dd70d09816"
      },
      "source": [
        "%%time\n",
        "\n",
        "tf.random.set_seed(42)\n",
        "\n",
        "# 1. Setup and instance of NBeatsBlock\n",
        "nbeats_block_layer = NBeatsBlock(input_size=INPUT_SIZE,\n",
        "                                 theta_size=THETA_SIZE,\n",
        "                                 horizon=HORIZON,\n",
        "                                 n_neurons=N_NEURONS,\n",
        "                                 n_layers=N_LAYERS,\n",
        "                                 name='InitalBlock')\n",
        "\n",
        "# 2. Create input to stack\n",
        "stack_input = layers.Input(shape=(INPUT_SIZE), name='stack_input')\n",
        "\n",
        "# 3. Create initial backcast and forecast input (backward prediction + horizon prediction)\n",
        "residuals, forecast = nbeats_block_layer(stack_input)\n",
        "\n",
        "# 4. \n",
        "for i, _ in enumerate(range(N_STACKS-1)): # first stack is already created in (3)\n",
        "  # 5. Use the NBeatsBlock to calcualte the backcast and forecast\n",
        "  backcast, block_forecast = NBeatsBlock(\n",
        "      input_size=INPUT_SIZE,\n",
        "      theta_size=THETA_SIZE,\n",
        "      horizon=HORIZON,\n",
        "      n_neurons=N_NEURONS,\n",
        "      n_layers=N_LAYERS,\n",
        "      name=f'NBeatsBlock_{i}'\n",
        "  )(residuals)\n",
        "\n",
        "  # 5. Create the double residual stacing\n",
        "  residuals = layers.subtract([residuals,  backcast], name=f'subtract_{i}')\n",
        "  forecast = layers.add([forecast, block_forecast], name=f'add_{i}')\n",
        "\n",
        "# 7. Put the stack model together\n",
        "model_7 = tf.keras.Model(inputs=stack_input,\n",
        "                         outputs=forecast,\n",
        "                         name='model_7_NBEATS')\n",
        "\n",
        "# 8 Compile model with MAE loss\n",
        "model_7.compile(loss='mae',\n",
        "                optimizer=tf.keras.optimizers.Adam())\n",
        "\n",
        "# 9. Fit the model with EarlyStopping and ReduceLROnPlateau callbacks\n",
        "model_7.fit(train_dataset,\n",
        "            epochs=N_EPOCHS,\n",
        "            validation_data=test_dataset,\n",
        "            verbose=0,\n",
        "            callbacks=[tf.keras.callbacks.EarlyStopping(monitor='val_loss',\n",
        "                                                        patience=200,\n",
        "                                                        restore_best_weights=True),\n",
        "                       tf.keras.callbacks.ReduceLROnPlateau(monitor='val_loss',\n",
        "                                                            patience=100,\n",
        "                                                            verbose=1)])"
      ],
      "execution_count": 154,
      "outputs": [
        {
          "output_type": "stream",
          "name": "stdout",
          "text": [
            "\n",
            "Epoch 00743: ReduceLROnPlateau reducing learning rate to 0.00010000000474974513.\n",
            "\n",
            "Epoch 01045: ReduceLROnPlateau reducing learning rate to 1.0000000474974514e-05.\n",
            "\n",
            "Epoch 01145: ReduceLROnPlateau reducing learning rate to 1.0000000656873453e-06.\n",
            "CPU times: user 6min 50s, sys: 10.9 s, total: 7min 1s\n",
            "Wall time: 9min 31s\n"
          ]
        }
      ]
    },
    {
      "cell_type": "code",
      "metadata": {
        "id": "7R6_LEr0RFhX"
      },
      "source": [
        ""
      ],
      "execution_count": null,
      "outputs": []
    }
  ]
}