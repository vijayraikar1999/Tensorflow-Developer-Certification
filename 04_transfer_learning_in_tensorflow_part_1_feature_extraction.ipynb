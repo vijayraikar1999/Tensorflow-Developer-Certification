{
  "nbformat": 4,
  "nbformat_minor": 0,
  "metadata": {
    "colab": {
      "name": " 04_transfer_learning_in_tensorflow_part-1_feature_extraction.ipynb",
      "provenance": []
    },
    "kernelspec": {
      "name": "python3",
      "display_name": "Python 3"
    },
    "language_info": {
      "name": "python"
    },
    "accelerator": "GPU"
  },
  "cells": [
    {
      "cell_type": "markdown",
      "metadata": {
        "id": "B2fFdl9cNvXk"
      },
      "source": [
        "# Transfer Learning with TensorFlow Part 1: Feature Extraction\n",
        "\n",
        "Transfer Learning is leveraging a working medel's existing architecture and learned for our own problems.\n",
        "\n",
        "There are two main benifits:\n",
        "1. Can leverage an exisiting neural newtwork architecure proven to work on problems similar to our own.\n",
        "2. Can leverage a working neural network architecture which has already learned patterens on similar data to our own, then we can adapt those patterns to our own data."
      ]
    },
    {
      "cell_type": "code",
      "metadata": {
        "colab": {
          "base_uri": "https://localhost:8080/"
        },
        "id": "88W2nWelRDPj",
        "outputId": "2c61930b-6294-4ab0-9dda-75f3c682c750"
      },
      "source": [
        "# Are you using a GPU\n",
        "!nvidia-smi"
      ],
      "execution_count": 5,
      "outputs": [
        {
          "output_type": "stream",
          "name": "stdout",
          "text": [
            "Wed Oct 13 20:19:21 2021       \n",
            "+-----------------------------------------------------------------------------+\n",
            "| NVIDIA-SMI 470.74       Driver Version: 460.32.03    CUDA Version: 11.2     |\n",
            "|-------------------------------+----------------------+----------------------+\n",
            "| GPU  Name        Persistence-M| Bus-Id        Disp.A | Volatile Uncorr. ECC |\n",
            "| Fan  Temp  Perf  Pwr:Usage/Cap|         Memory-Usage | GPU-Util  Compute M. |\n",
            "|                               |                      |               MIG M. |\n",
            "|===============================+======================+======================|\n",
            "|   0  Tesla K80           Off  | 00000000:00:04.0 Off |                    0 |\n",
            "| N/A   37C    P8    27W / 149W |      0MiB / 11441MiB |      0%      Default |\n",
            "|                               |                      |                  N/A |\n",
            "+-------------------------------+----------------------+----------------------+\n",
            "                                                                               \n",
            "+-----------------------------------------------------------------------------+\n",
            "| Processes:                                                                  |\n",
            "|  GPU   GI   CI        PID   Type   Process name                  GPU Memory |\n",
            "|        ID   ID                                                   Usage      |\n",
            "|=============================================================================|\n",
            "|  No running processes found                                                 |\n",
            "+-----------------------------------------------------------------------------+\n"
          ]
        }
      ]
    },
    {
      "cell_type": "markdown",
      "metadata": {
        "id": "VQt04xdHRJ7Z"
      },
      "source": [
        "## Downloading and becoming one with data"
      ]
    },
    {
      "cell_type": "code",
      "metadata": {
        "colab": {
          "base_uri": "https://localhost:8080/"
        },
        "id": "6dvPemI5RRAZ",
        "outputId": "da0d7d2d-2bb5-4350-ef88-78fb1c55f77b"
      },
      "source": [
        "# Get data (10% of 10 food classes from Food101)\n",
        "\n",
        "import zipfile\n",
        "\n",
        "# Download the data\n",
        "!wget https://storage.googleapis.com/ztm_tf_course/food_vision/10_food_classes_10_percent.zip\n",
        "\n",
        "# Unzip the downloaded file\n",
        "zip_ref = zipfile.ZipFile('10_food_classes_10_percent.zip')\n",
        "zip_ref.extractall()\n",
        "zip_ref.close()"
      ],
      "execution_count": 6,
      "outputs": [
        {
          "output_type": "stream",
          "name": "stdout",
          "text": [
            "--2021-10-13 20:19:22--  https://storage.googleapis.com/ztm_tf_course/food_vision/10_food_classes_10_percent.zip\n",
            "Resolving storage.googleapis.com (storage.googleapis.com)... 142.250.152.128, 172.217.214.128, 172.253.114.128, ...\n",
            "Connecting to storage.googleapis.com (storage.googleapis.com)|142.250.152.128|:443... connected.\n",
            "HTTP request sent, awaiting response... 200 OK\n",
            "Length: 168546183 (161M) [application/zip]\n",
            "Saving to: ‘10_food_classes_10_percent.zip.1’\n",
            "\n",
            "10_food_classes_10_ 100%[===================>] 160.74M   169MB/s    in 1.0s    \n",
            "\n",
            "2021-10-13 20:19:23 (169 MB/s) - ‘10_food_classes_10_percent.zip.1’ saved [168546183/168546183]\n",
            "\n"
          ]
        }
      ]
    },
    {
      "cell_type": "code",
      "metadata": {
        "colab": {
          "base_uri": "https://localhost:8080/"
        },
        "id": "4FqvyR-uSA7V",
        "outputId": "0651f0c9-59d8-48c0-c779-98f068a516d9"
      },
      "source": [
        "# How many images in each folder?\n",
        "import os\n",
        "\n",
        "# Walk through 10 percent data directory and list number of files\n",
        "for dirpath, dirnames, filenames in os.walk('10_food_classes_10_percent'):\n",
        "  print(f'There are {len(dirnames)} directories and {len(filenames)} images in \"{dirpath}\".')"
      ],
      "execution_count": 7,
      "outputs": [
        {
          "output_type": "stream",
          "name": "stdout",
          "text": [
            "There are 2 directories and 0 images in \"10_food_classes_10_percent\".\n",
            "There are 10 directories and 0 images in \"10_food_classes_10_percent/train\".\n",
            "There are 0 directories and 75 images in \"10_food_classes_10_percent/train/fried_rice\".\n",
            "There are 0 directories and 75 images in \"10_food_classes_10_percent/train/ramen\".\n",
            "There are 0 directories and 75 images in \"10_food_classes_10_percent/train/ice_cream\".\n",
            "There are 0 directories and 75 images in \"10_food_classes_10_percent/train/chicken_wings\".\n",
            "There are 0 directories and 75 images in \"10_food_classes_10_percent/train/steak\".\n",
            "There are 0 directories and 75 images in \"10_food_classes_10_percent/train/chicken_curry\".\n",
            "There are 0 directories and 75 images in \"10_food_classes_10_percent/train/sushi\".\n",
            "There are 0 directories and 75 images in \"10_food_classes_10_percent/train/pizza\".\n",
            "There are 0 directories and 75 images in \"10_food_classes_10_percent/train/grilled_salmon\".\n",
            "There are 0 directories and 75 images in \"10_food_classes_10_percent/train/hamburger\".\n",
            "There are 10 directories and 0 images in \"10_food_classes_10_percent/test\".\n",
            "There are 0 directories and 250 images in \"10_food_classes_10_percent/test/fried_rice\".\n",
            "There are 0 directories and 250 images in \"10_food_classes_10_percent/test/ramen\".\n",
            "There are 0 directories and 250 images in \"10_food_classes_10_percent/test/ice_cream\".\n",
            "There are 0 directories and 250 images in \"10_food_classes_10_percent/test/chicken_wings\".\n",
            "There are 0 directories and 250 images in \"10_food_classes_10_percent/test/steak\".\n",
            "There are 0 directories and 250 images in \"10_food_classes_10_percent/test/chicken_curry\".\n",
            "There are 0 directories and 250 images in \"10_food_classes_10_percent/test/sushi\".\n",
            "There are 0 directories and 250 images in \"10_food_classes_10_percent/test/pizza\".\n",
            "There are 0 directories and 250 images in \"10_food_classes_10_percent/test/grilled_salmon\".\n",
            "There are 0 directories and 250 images in \"10_food_classes_10_percent/test/hamburger\".\n"
          ]
        }
      ]
    },
    {
      "cell_type": "markdown",
      "metadata": {
        "id": "MVSIK_t2Sn-J"
      },
      "source": [
        "## Creating data loaders (preparing the data)\n",
        "\n",
        "We will use the `ImageDataGenerator` class to load our images in batches."
      ]
    },
    {
      "cell_type": "code",
      "metadata": {
        "colab": {
          "base_uri": "https://localhost:8080/"
        },
        "id": "HAmbI-LDTR6i",
        "outputId": "8118e290-609e-4c43-ccb3-fdf293390b00"
      },
      "source": [
        "# Setup data inputs\n",
        "from tensorflow.keras.preprocessing.image import ImageDataGenerator\n",
        "\n",
        "IMAGE_SHAPE = (224, 224)\n",
        "BATCH_SIZE = 32\n",
        "\n",
        "train_dir = '10_food_classes_10_percent/train/'\n",
        "test_dir = '10_food_classes_10_percent/test/'\n",
        "\n",
        "train_datagen = ImageDataGenerator(rescale=1/225.)\n",
        "test_datagen = ImageDataGenerator(rescale=1/225.)\n",
        "\n",
        "print('Training image:')\n",
        "train_data_10_percent = train_datagen.flow_from_directory(train_dir,\n",
        "                                                         target_size=IMAGE_SHAPE,\n",
        "                                                         batch_size= BATCH_SIZE,\n",
        "                                                         class_mode='categorical')\n",
        "\n",
        "print('Tesing image:')\n",
        "test_data = test_datagen.flow_from_directory(train_dir,\n",
        "                                             target_size=IMAGE_SHAPE,\n",
        "                                             batch_size= BATCH_SIZE,\n",
        "                                             class_mode='categorical')\n"
      ],
      "execution_count": 22,
      "outputs": [
        {
          "output_type": "stream",
          "name": "stdout",
          "text": [
            "Training image:\n",
            "Found 750 images belonging to 10 classes.\n",
            "Tesing image:\n",
            "Found 750 images belonging to 10 classes.\n"
          ]
        }
      ]
    },
    {
      "cell_type": "markdown",
      "metadata": {
        "id": "1Tt7sxHbTzd7"
      },
      "source": [
        "## Setting up callbacks (things to run whilest our model trains)\n",
        "\n",
        "Callbacks are extra functionality you can add to your models to be performed during or after training. Some of the most popular callbacks:\n",
        "\n",
        "* Tracking experiments with the TensorBoard callback\n",
        "* Model checkpoint with ModelCheckpoint callback\n",
        "* Stopping a model from training (before it trains too long and overfits) with the EarlyStopping callback."
      ]
    },
    {
      "cell_type": "code",
      "metadata": {
        "id": "8VkSh2ggVu4F"
      },
      "source": [
        "# Create TensorBoard callback (functionized because we need to create a new one for each model)\n",
        "\n",
        "import datetime\n",
        "\n",
        "def create_tensorboard_callback(dir_name, experiment_name):\n",
        "  log_dir = dir_name + '/' + experiment_name + '/' + datetime.datetime.now().strftime('%Y%m%d-%H%M%S')\n",
        "  tensorboard_callback = tf.keras.callbacks.TensorBoard(log_dir=log_dir)\n",
        "  print(f'Saving TensorBoard log files to: {log_dir}')\n",
        "  return tensorboard_callback\n"
      ],
      "execution_count": 23,
      "outputs": []
    },
    {
      "cell_type": "markdown",
      "metadata": {
        "id": "CytxO0fPXBaU"
      },
      "source": [
        "## Creating models using TensorFlow Hub\n",
        "\n",
        "In the past we have used TensorFlow to create our own models layer by layer from similar\n",
        "\n",
        "Now we are going to do a similar process, except that \n",
        "\n",
        "\n",
        "Browsing the tf hub page and sorting for image classification, we found the following feature vector extractor.\n",
        "https://tfhub.dev/tensorflow/efficientnet/b0/feature-vector/1"
      ]
    },
    {
      "cell_type": "code",
      "metadata": {
        "id": "Xi6YUSm8ZsO7"
      },
      "source": [
        "# Let's compare models\n",
        "\n",
        "resnet_url = 'https://tfhub.dev/google/imagenet/resnet_v2_50/feature_vector/5'\n",
        "\n",
        "efficientnet_url = 'https://tfhub.dev/tensorflow/efficientnet/b0/feature-vector/1'"
      ],
      "execution_count": 24,
      "outputs": []
    },
    {
      "cell_type": "code",
      "metadata": {
        "id": "wuTzG2d7arv8"
      },
      "source": [
        "# Import dependencies\n",
        "import tensorflow as tf\n",
        "import tensorflow_hub as hub\n",
        "from tensorflow.keras import layers\n"
      ],
      "execution_count": 25,
      "outputs": []
    },
    {
      "cell_type": "code",
      "metadata": {
        "id": "3pyx6e7DbGhv"
      },
      "source": [
        "def create_model(model_url, num_classes=10):\n",
        "  \n",
        "  \"\"\"\n",
        "  Takes a TensorFlow Hub URL and creates a Kreas Sequential model with it.\n",
        "\n",
        "  Args:\n",
        "     model_url (str): A TensorFlow Hub feature extraction URL.\n",
        "     num_classes (int): Number of output neurons in the output layer,\n",
        "     should be equal to number of target calsses, default 10.\n",
        "\n",
        "     Returns:\n",
        "        An uncompiled\n",
        "  \"\"\"\n",
        "\n",
        "  # Download the pretrained model and save it as a Keras layer\n",
        "  feature_extractor_layer = hub.KerasLayer(model_url,\n",
        "                                           trainable=False,\n",
        "                                           name='feature_extractor_layer',\n",
        "                                           input_shape=IMAGE_SHAPE  + (3, )) # freeze the already learned patterns\n",
        "\n",
        "  # Create our own model\n",
        "  model = tf.keras.Sequential([\n",
        "    feature_extractor_layer,\n",
        "    layers.Dense(num_classes, activation='softmax', name='output_layer')                               \n",
        "  ])\n",
        "\n",
        "  return model"
      ],
      "execution_count": 28,
      "outputs": []
    },
    {
      "cell_type": "markdown",
      "metadata": {
        "id": "O6skNg69ce6P"
      },
      "source": [
        "### Creating and tesing ResNet TensorFlow Hub Feature Extraction model"
      ]
    },
    {
      "cell_type": "code",
      "metadata": {
        "id": "pc8Ve0bEcqTn"
      },
      "source": [
        "# Create Resnet model\n",
        "resnet_model = create_model(resnet_url,\n",
        "                            num_classes=train_data_10_percent.num_classes)"
      ],
      "execution_count": 29,
      "outputs": []
    },
    {
      "cell_type": "code",
      "metadata": {
        "colab": {
          "base_uri": "https://localhost:8080/"
        },
        "id": "Z8Sghb6Wc1_6",
        "outputId": "3ffa832d-fe71-4540-a469-517908566666"
      },
      "source": [
        "resnet_model.summary()"
      ],
      "execution_count": 31,
      "outputs": [
        {
          "output_type": "stream",
          "name": "stdout",
          "text": [
            "Model: \"sequential\"\n",
            "_________________________________________________________________\n",
            "Layer (type)                 Output Shape              Param #   \n",
            "=================================================================\n",
            "feature_extractor_layer (Ker (None, 2048)              23564800  \n",
            "_________________________________________________________________\n",
            "output_layer (Dense)         (None, 10)                20490     \n",
            "=================================================================\n",
            "Total params: 23,585,290\n",
            "Trainable params: 20,490\n",
            "Non-trainable params: 23,564,800\n",
            "_________________________________________________________________\n"
          ]
        }
      ]
    },
    {
      "cell_type": "code",
      "metadata": {
        "id": "SUtktHXDdVph"
      },
      "source": [
        "# Compile our model\n",
        "resnet_model.compile(loss='categorical_crossentropy',\n",
        "                     optimizer=tf.keras.optimizers.Adam(),\n",
        "                     metrics=['accuracy'])\n"
      ],
      "execution_count": 32,
      "outputs": []
    },
    {
      "cell_type": "code",
      "metadata": {
        "colab": {
          "base_uri": "https://localhost:8080/"
        },
        "id": "GEhnOiradpvI",
        "outputId": "0a3ff9de-57e0-4304-b6c6-27e187007eab"
      },
      "source": [
        "# Fit the model\n",
        "resnet_history = resnet_model.fit(train_data_10_percent,\n",
        "                                  epochs=5,\n",
        "                                  steps_per_epoch=len(train_data_10_percent),\n",
        "                                  validation_data=test_data,\n",
        "                                  validation_steps=len(test_data),\n",
        "                                  callbacks=[create_tensorboard_callback(dir_name='tensorflow_hub',\n",
        "                                                                         experiment_name='resnet50v2')])"
      ],
      "execution_count": 33,
      "outputs": [
        {
          "output_type": "stream",
          "name": "stdout",
          "text": [
            "Saving TensorBoard log files to: tensorflow_hub/resnet50v2/20211013-210604\n",
            "Epoch 1/5\n",
            "24/24 [==============================] - 47s 539ms/step - loss: 1.8941 - accuracy: 0.3627 - val_loss: 1.0801 - val_accuracy: 0.6587\n",
            "Epoch 2/5\n",
            "24/24 [==============================] - 10s 430ms/step - loss: 0.9006 - accuracy: 0.7133 - val_loss: 0.6720 - val_accuracy: 0.7987\n",
            "Epoch 3/5\n",
            "24/24 [==============================] - 10s 428ms/step - loss: 0.6221 - accuracy: 0.8240 - val_loss: 0.5064 - val_accuracy: 0.8693\n",
            "Epoch 4/5\n",
            "24/24 [==============================] - 10s 427ms/step - loss: 0.4754 - accuracy: 0.8773 - val_loss: 0.3895 - val_accuracy: 0.9147\n",
            "Epoch 5/5\n",
            "24/24 [==============================] - 10s 428ms/step - loss: 0.3812 - accuracy: 0.9133 - val_loss: 0.3209 - val_accuracy: 0.9387\n"
          ]
        }
      ]
    },
    {
      "cell_type": "markdown",
      "metadata": {
        "id": "e3JQIjt6efxF"
      },
      "source": [
        "Wow!\n",
        "\n",
        "That. Is incredible, Transfer Learning feature extractor\n",
        "model out performed ALL of the previous models we build by hand...(substaintially) and with only 10% of the training examples."
      ]
    },
    {
      "cell_type": "code",
      "metadata": {
        "id": "pS-mMVRegpcT"
      },
      "source": [
        "# Let's create a function to plot our loss curves...\n",
        "# Tidbit: you could put a function like this into a script called 'helper.py' and import it when you need it\n",
        "import matplotlib.pyplot as plt\n",
        "\n",
        "# Plot the validation and training curves\n",
        "def plot_loss_curves(history):\n",
        "  \"\"\"\n",
        "     Returns separate loos curves for training and validation metrics.\n",
        "\n",
        "     Args:\n",
        "       history: TensorFlow History object\n",
        "\n",
        "     Returns:  \n",
        "  \"\"\"\n",
        "\n",
        "  loss = history.history['loss']\n",
        "  val_loss = history.history['val_loss']\n",
        "\n",
        "  accuracy = history.history['accuracy']\n",
        "  val_accuracy = history.history['val_accuracy']\n",
        "\n",
        "  epochs = range(len(history.history['loss']))\n",
        "  # Plot loss\n",
        "  plt.plot(epochs, loss, label='training_loss')\n",
        "  plt.plot(epochs, val_loss, label='val_loss')\n",
        "  plt.title('Loss')\n",
        "  plt.xlabel('Epochs')\n",
        "  plt.legend()\n",
        "\n",
        "  # Plot accuracy\n",
        "  plt.figure()\n",
        "  plt.plot(epochs, accuracy, label='training_accuracy')\n",
        "  plt.plot(epochs, val_accuracy, label='val_accuracy')\n",
        "  plt.title('Accuracy')\n",
        "  plt.xlabel('Epochs')\n",
        "  plt.legend()\n"
      ],
      "execution_count": 39,
      "outputs": []
    },
    {
      "cell_type": "code",
      "metadata": {
        "colab": {
          "base_uri": "https://localhost:8080/",
          "height": 573
        },
        "id": "Tu4XjSB4iXC9",
        "outputId": "0430e4d0-f3f1-472a-d843-18ce7000e332"
      },
      "source": [
        "plot_loss_curves(resnet_history)"
      ],
      "execution_count": 40,
      "outputs": [
        {
          "output_type": "display_data",
          "data": {
            "image/png": "[encoded data removed]",
            "text/plain": [
              "<Figure size 432x288 with 1 Axes>"
            ]
          },
          "metadata": {
            "needs_background": "light"
          }
        },
        {
          "output_type": "display_data",
          "data": {
            "image/png": "[encoded data removed]",
            "text/plain": [
              "<Figure size 432x288 with 1 Axes>"
            ]
          },
          "metadata": {
            "needs_background": "light"
          }
        }
      ]
    },
    {
      "cell_type": "markdown",
      "metadata": {
        "id": "5LyrwuPvieKC"
      },
      "source": [
        "### Creating and tesing EfficientNetB0 TensorFlow Hub Feature Extraction model"
      ]
    },
    {
      "cell_type": "code",
      "metadata": {
        "colab": {
          "base_uri": "https://localhost:8080/"
        },
        "id": "iEKDrLLjj09W",
        "outputId": "acef9cca-a938-4153-8e35-bcaf4b93374a"
      },
      "source": [
        "# Create EfficientNetB0 extractor model\n",
        "\n",
        "efficientnet_model = create_model(model_url=efficientnet_url,\n",
        "                                   num_classes=train_data_10_percent.num_classes)\n",
        "\n",
        "# Compile EfficientNet model\n",
        "efficientnet_model.compile(loss='categorical_crossentropy',\n",
        "                            optimizer=tf.keras.optimizers.Adam(),\n",
        "                            metrics=['accuracy'])\n",
        "\n",
        "# Fit the model to 10% of training data\n",
        "efficientnet_history = efficientnet_model.fit(train_data_10_percent,\n",
        "                                              epochs=5,\n",
        "                                              steps_per_epoch=len(train_data_10_percent),\n",
        "                                              validation_data=test_data,\n",
        "                                              validation_steps=len(test_data),\n",
        "                                              callbacks=[create_tensorboard_callback(dir_name='tensorflow_hub',\n",
        "                                                                                     experiment_name='efficientnetb0')])"
      ],
      "execution_count": 42,
      "outputs": [
        {
          "output_type": "stream",
          "name": "stdout",
          "text": [
            "Saving TensorBoard log files to: tensorflow_hub/efficientnetb0/20211013-213755\n",
            "Epoch 1/5\n",
            "24/24 [==============================] - 24s 558ms/step - loss: 1.8276 - accuracy: 0.4413 - val_loss: 1.2779 - val_accuracy: 0.7333\n",
            "Epoch 2/5\n",
            "24/24 [==============================] - 9s 389ms/step - loss: 1.0638 - accuracy: 0.7693 - val_loss: 0.8538 - val_accuracy: 0.8213\n",
            "Epoch 3/5\n",
            "24/24 [==============================] - 9s 388ms/step - loss: 0.7711 - accuracy: 0.8333 - val_loss: 0.6665 - val_accuracy: 0.8640\n",
            "Epoch 4/5\n",
            "24/24 [==============================] - 9s 386ms/step - loss: 0.6275 - accuracy: 0.8627 - val_loss: 0.5565 - val_accuracy: 0.8880\n",
            "Epoch 5/5\n",
            "24/24 [==============================] - 9s 394ms/step - loss: 0.5349 - accuracy: 0.8813 - val_loss: 0.4783 - val_accuracy: 0.9027\n"
          ]
        }
      ]
    },
    {
      "cell_type": "code",
      "metadata": {
        "colab": {
          "base_uri": "https://localhost:8080/",
          "height": 573
        },
        "id": "66ioulNklj6J",
        "outputId": "c15ff8e7-5fda-4c19-d077-5e5c0b9e5f6a"
      },
      "source": [
        "plot_loss_curves(efficientnet_history)"
      ],
      "execution_count": 43,
      "outputs": [
        {
          "output_type": "display_data",
          "data": {
            "image/png": "[encoded data removed]",
            "text/plain": [
              "<Figure size 432x288 with 1 Axes>"
            ]
          },
          "metadata": {
            "needs_background": "light"
          }
        },
        {
          "output_type": "display_data",
          "data": {
            "image/png": "[encoded data removed]",
            "text/plain": [
              "<Figure size 432x288 with 1 Axes>"
            ]
          },
          "metadata": {
            "needs_background": "light"
          }
        }
      ]
    },
    {
      "cell_type": "code",
      "metadata": {
        "colab": {
          "base_uri": "https://localhost:8080/"
        },
        "id": "9RZ5NOtomEg7",
        "outputId": "4332a6e3-a925-487d-e193-5c1671609298"
      },
      "source": [
        "efficientnet_model.summary()"
      ],
      "execution_count": 44,
      "outputs": [
        {
          "output_type": "stream",
          "name": "stdout",
          "text": [
            "Model: \"sequential_2\"\n",
            "_________________________________________________________________\n",
            "Layer (type)                 Output Shape              Param #   \n",
            "=================================================================\n",
            "feature_extractor_layer (Ker (None, 1280)              4049564   \n",
            "_________________________________________________________________\n",
            "output_layer (Dense)         (None, 10)                12810     \n",
            "=================================================================\n",
            "Total params: 4,062,374\n",
            "Trainable params: 12,810\n",
            "Non-trainable params: 4,049,564\n",
            "_________________________________________________________________\n"
          ]
        }
      ]
    },
    {
      "cell_type": "code",
      "metadata": {
        "colab": {
          "base_uri": "https://localhost:8080/"
        },
        "id": "M_62bXDFnzZs",
        "outputId": "a3613461-8525-471f-b0ed-68488b68aa22"
      },
      "source": [
        "resnet_model.summary()"
      ],
      "execution_count": 46,
      "outputs": [
        {
          "output_type": "stream",
          "name": "stdout",
          "text": [
            "Model: \"sequential\"\n",
            "_________________________________________________________________\n",
            "Layer (type)                 Output Shape              Param #   \n",
            "=================================================================\n",
            "feature_extractor_layer (Ker (None, 2048)              23564800  \n",
            "_________________________________________________________________\n",
            "output_layer (Dense)         (None, 10)                20490     \n",
            "=================================================================\n",
            "Total params: 23,585,290\n",
            "Trainable params: 20,490\n",
            "Non-trainable params: 23,564,800\n",
            "_________________________________________________________________\n"
          ]
        }
      ]
    },
    {
      "cell_type": "code",
      "metadata": {
        "colab": {
          "base_uri": "https://localhost:8080/"
        },
        "id": "RyUB_QLno1oE",
        "outputId": "4d13030b-d270-42b5-8ce7-4640385f2dd4"
      },
      "source": [
        "# How many layers does our efficientnetb0 feature extractor have?\n",
        "len(efficientnet_model.layers[0].weights)"
      ],
      "execution_count": 53,
      "outputs": [
        {
          "output_type": "execute_result",
          "data": {
            "text/plain": [
              "309"
            ]
          },
          "metadata": {},
          "execution_count": 53
        }
      ]
    },
    {
      "cell_type": "markdown",
      "metadata": {
        "id": "j-HpJRnGn73Z"
      },
      "source": [
        "## Differenet types of Transfer Learning\n",
        "\n",
        "* **\"AS is\"** transfer learning - using an existing model with no changes what so ever (e.g. )\n",
        "* **\"Feature Extraction\"** tansfer learning - use the prelearned patterns of an existing model\n",
        "* **\"Fine-tuning\"** transfer learning - use the prelearned patterns of an exising model and \"fine-tune\" many or all of the underlying layers (including new output layers)"
      ]
    },
    {
      "cell_type": "markdown",
      "metadata": {
        "id": "MPka7AOxoqM3"
      },
      "source": [
        "## Comparing our models results using TensorBoard\n",
        "\n",
        "> **Note:** When you upload things to TengsorBoard.dev, your experiments are public. so if you are running private experiments (things you don't want other ot see) do not upload them to TensorBoard.dev"
      ]
    },
    {
      "cell_type": "code",
      "metadata": {
        "colab": {
          "base_uri": "https://localhost:8080/"
        },
        "id": "wAoEOfLZqhnn",
        "outputId": "7f04b7f1-1c0d-4222-e65b-5abeadfc2ec7"
      },
      "source": [
        "# Upload TensorBoard dev records\n",
        "!tensorboard dev upload --logdir ./tensorflow_hub/ \\\n",
        "  --name \"EfficientNetB0 vs. ResNet50V2\" \\\n",
        "  --description \"Comparing two different TF Hub feature extraction model architectures using 10% of the training data\" \\\n",
        "  --one_shot"
      ],
      "execution_count": 49,
      "outputs": [
        {
          "output_type": "stream",
          "name": "stdout",
          "text": [
            "2021-10-13 22:04:46.733511: I tensorflow/stream_executor/cuda/cuda_gpu_executor.cc:937] successful NUMA node read from SysFS had negative value (-1), but there must be at least one NUMA node, so returning NUMA node zero\n",
            "2021-10-13 22:04:46.758894: I tensorflow/stream_executor/cuda/cuda_gpu_executor.cc:937] successful NUMA node read from SysFS had negative value (-1), but there must be at least one NUMA node, so returning NUMA node zero\n",
            "2021-10-13 22:04:46.759448: I tensorflow/stream_executor/cuda/cuda_gpu_executor.cc:937] successful NUMA node read from SysFS had negative value (-1), but there must be at least one NUMA node, so returning NUMA node zero\n",
            "\n",
            "***** TensorBoard Uploader *****\n",
            "\n",
            "This will upload your TensorBoard logs to https://tensorboard.dev/ from\n",
            "the following directory:\n",
            "\n",
            "./tensorflow_hub/\n",
            "\n",
            "This TensorBoard will be visible to everyone. Do not upload sensitive\n",
            "data.\n",
            "\n",
            "Your use of this service is subject to Google's Terms of Service\n",
            "<https://policies.google.com/terms> and Privacy Policy\n",
            "<https://policies.google.com/privacy>, and TensorBoard.dev's Terms of Service\n",
            "<https://tensorboard.dev/policy/terms/>.\n",
            "\n",
            "This notice will not be shown again while you are logged into the uploader.\n",
            "To log out, run `tensorboard dev auth revoke`.\n",
            "\n",
            "Continue? (yes/NO) yes\n",
            "\n",
            "Please visit this URL to authorize this application: https://accounts.google.com/o/oauth2/auth?response_type=code&client_id=373649185512-8v619h5kft38l4456nm2dj4ubeqsrvh6.apps.googleusercontent.com&redirect_uri=urn%3Aietf%3Awg%3Aoauth%3A2.0%3Aoob&scope=openid+https%3A%2F%2Fwww.googleapis.com%2Fauth%2Fuserinfo.email&state=TgMQEoGdHeVk3YZMilr3IHGyq3KaXs&prompt=consent&access_type=offline\n",
            "Enter the authorization code: 4/1AX4XfWhWjNN7w2OA345ytMvxPNk0HQ17z2uyZEsjyhpyh76PckQrzoULBE8\n",
            "\n",
            "\n",
            "New experiment created. View your TensorBoard at: https://tensorboard.dev/experiment/sN78QpszRcaEOFA5AogXZA/\n",
            "\n",
            "\u001b[1m[2021-10-13T22:05:57]\u001b[0m Started scanning logdir.\n",
            "\u001b[1m[2021-10-13T22:05:59]\u001b[0m Total uploaded: 60 scalars, 0 tensors, 2 binary objects (5.7 MB)\n",
            "\u001b[1m[2021-10-13T22:05:59]\u001b[0m Done scanning logdir.\n",
            "\n",
            "\n",
            "Done. View your TensorBoard at https://tensorboard.dev/experiment/sN78QpszRcaEOFA5AogXZA/\n"
          ]
        }
      ]
    },
    {
      "cell_type": "markdown",
      "metadata": {
        "id": "df9NRoWPr66o"
      },
      "source": [
        "Our TensorBoard experiments are uploaded publically here\n",
        "https://tensorboard.dev/experiment/sN78QpszRcaEOFA5AogXZA/\n"
      ]
    },
    {
      "cell_type": "code",
      "metadata": {
        "colab": {
          "base_uri": "https://localhost:8080/"
        },
        "id": "CAjVrEg1sbYY",
        "outputId": "4bd9698a-43fa-4688-8577-bf385efc5285"
      },
      "source": [
        "# Check out what TensorBoard experiments you have\n",
        "!tensorboard dev list"
      ],
      "execution_count": 51,
      "outputs": [
        {
          "output_type": "stream",
          "name": "stdout",
          "text": [
            "2021-10-13 22:10:18.333199: I tensorflow/stream_executor/cuda/cuda_gpu_executor.cc:937] successful NUMA node read from SysFS had negative value (-1), but there must be at least one NUMA node, so returning NUMA node zero\n",
            "2021-10-13 22:10:18.341896: I tensorflow/stream_executor/cuda/cuda_gpu_executor.cc:937] successful NUMA node read from SysFS had negative value (-1), but there must be at least one NUMA node, so returning NUMA node zero\n",
            "2021-10-13 22:10:18.342420: I tensorflow/stream_executor/cuda/cuda_gpu_executor.cc:937] successful NUMA node read from SysFS had negative value (-1), but there must be at least one NUMA node, so returning NUMA node zero\n",
            "https://tensorboard.dev/experiment/sN78QpszRcaEOFA5AogXZA/\n",
            "\tName                 EfficientNetB0 vs. ResNet50V2\n",
            "\tDescription          Comparing two different TF Hub feature extraction model architectures using 10% of the training data\n",
            "\tId                   sN78QpszRcaEOFA5AogXZA\n",
            "\tCreated              2021-10-13 22:05:57 (4 minutes ago)\n",
            "\tUpdated              2021-10-13 22:05:59 (4 minutes ago)\n",
            "\tRuns                 4\n",
            "\tTags                 5\n",
            "\tScalars              60\n",
            "\tTensor bytes         0\n",
            "\tBinary object bytes  5960400\n",
            "Total: 1 experiment(s)\n"
          ]
        }
      ]
    },
    {
      "cell_type": "code",
      "metadata": {
        "id": "2codkKattIwI"
      },
      "source": [
        "# Delete an experiment\n",
        "# !tensorboard dev delete --experiment_id sN78QpszRcaEOFA5AogXZA"
      ],
      "execution_count": null,
      "outputs": []
    }
  ]
}